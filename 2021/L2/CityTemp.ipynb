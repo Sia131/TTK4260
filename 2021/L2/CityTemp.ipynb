{
 "cells": [
  {
   "cell_type": "code",
   "execution_count": 6,
   "metadata": {
    "id": "r3fO97MZKxOI"
   },
   "outputs": [],
   "source": [
    "import pandas as pd\n",
    "import numpy as np"
   ]
  },
  {
   "cell_type": "code",
   "execution_count": 7,
   "metadata": {
    "colab": {
     "base_uri": "https://localhost:8080/",
     "height": 202
    },
    "id": "T8MmKGo-LaO2",
    "outputId": "7808d0f6-6072-46d4-afe9-71cc6e5ed7d0"
   },
   "outputs": [
    {
     "data": {
      "text/html": [
       "<div>\n",
       "<style scoped>\n",
       "    .dataframe tbody tr th:only-of-type {\n",
       "        vertical-align: middle;\n",
       "    }\n",
       "\n",
       "    .dataframe tbody tr th {\n",
       "        vertical-align: top;\n",
       "    }\n",
       "\n",
       "    .dataframe thead th {\n",
       "        text-align: right;\n",
       "    }\n",
       "</style>\n",
       "<table border=\"1\" class=\"dataframe\">\n",
       "  <thead>\n",
       "    <tr style=\"text-align: right;\">\n",
       "      <th></th>\n",
       "      <th></th>\n",
       "      <th>Jan</th>\n",
       "      <th>Feb</th>\n",
       "      <th>Mar</th>\n",
       "      <th>Apr</th>\n",
       "      <th>May</th>\n",
       "      <th>Jun</th>\n",
       "      <th>Jul</th>\n",
       "      <th>Aug</th>\n",
       "      <th>Sep</th>\n",
       "      <th>Oct</th>\n",
       "      <th>Nov</th>\n",
       "      <th>Dec</th>\n",
       "      <th>Latitude</th>\n",
       "    </tr>\n",
       "  </thead>\n",
       "  <tbody>\n",
       "    <tr>\n",
       "      <th>0</th>\n",
       "      <td>Amsterdam</td>\n",
       "      <td>2</td>\n",
       "      <td>2</td>\n",
       "      <td>5</td>\n",
       "      <td>8</td>\n",
       "      <td>12</td>\n",
       "      <td>15</td>\n",
       "      <td>17</td>\n",
       "      <td>17</td>\n",
       "      <td>15</td>\n",
       "      <td>11</td>\n",
       "      <td>6</td>\n",
       "      <td>3</td>\n",
       "      <td>52.37</td>\n",
       "    </tr>\n",
       "    <tr>\n",
       "      <th>1</th>\n",
       "      <td>Ankara</td>\n",
       "      <td>1</td>\n",
       "      <td>0</td>\n",
       "      <td>6</td>\n",
       "      <td>12</td>\n",
       "      <td>17</td>\n",
       "      <td>19</td>\n",
       "      <td>23</td>\n",
       "      <td>22</td>\n",
       "      <td>18</td>\n",
       "      <td>14</td>\n",
       "      <td>8</td>\n",
       "      <td>2</td>\n",
       "      <td>39.87</td>\n",
       "    </tr>\n",
       "    <tr>\n",
       "      <th>2</th>\n",
       "      <td>Athens</td>\n",
       "      <td>9</td>\n",
       "      <td>10</td>\n",
       "      <td>12</td>\n",
       "      <td>16</td>\n",
       "      <td>21</td>\n",
       "      <td>26</td>\n",
       "      <td>29</td>\n",
       "      <td>28</td>\n",
       "      <td>24</td>\n",
       "      <td>20</td>\n",
       "      <td>15</td>\n",
       "      <td>11</td>\n",
       "      <td>37.97</td>\n",
       "    </tr>\n",
       "    <tr>\n",
       "      <th>3</th>\n",
       "      <td>Belgrade</td>\n",
       "      <td>1</td>\n",
       "      <td>3</td>\n",
       "      <td>8</td>\n",
       "      <td>13</td>\n",
       "      <td>17</td>\n",
       "      <td>22</td>\n",
       "      <td>23</td>\n",
       "      <td>23</td>\n",
       "      <td>19</td>\n",
       "      <td>14</td>\n",
       "      <td>8</td>\n",
       "      <td>6</td>\n",
       "      <td>44.82</td>\n",
       "    </tr>\n",
       "    <tr>\n",
       "      <th>4</th>\n",
       "      <td>Berlin</td>\n",
       "      <td>-2</td>\n",
       "      <td>1</td>\n",
       "      <td>4</td>\n",
       "      <td>10</td>\n",
       "      <td>14</td>\n",
       "      <td>18</td>\n",
       "      <td>21</td>\n",
       "      <td>19</td>\n",
       "      <td>16</td>\n",
       "      <td>10</td>\n",
       "      <td>4</td>\n",
       "      <td>0</td>\n",
       "      <td>52.52</td>\n",
       "    </tr>\n",
       "  </tbody>\n",
       "</table>\n",
       "</div>"
      ],
      "text/plain": [
       "                Jan    Feb    Mar    Apr    May    Jun    Jul    Aug    Sep    \\\n",
       "0  Amsterdam      2      2      5      8     12     15     17     17     15     \n",
       "1     Ankara      1      0      6     12     17     19     23     22     18     \n",
       "2     Athens      9     10     12     16     21     26     29     28     24     \n",
       "3   Belgrade      1      3      8     13     17     22     23     23     19     \n",
       "4     Berlin     -2      1      4     10     14     18     21     19     16     \n",
       "\n",
       "   Oct    Nov    Dec    Latitude  \n",
       "0   11      6      3       52.37  \n",
       "1   14      8      2       39.87  \n",
       "2   20     15     11       37.97  \n",
       "3   14      8      6       44.82  \n",
       "4   10      4      0       52.52  "
      ]
     },
     "execution_count": 7,
     "metadata": {},
     "output_type": "execute_result"
    }
   ],
   "source": [
    "df=pd.read_excel('CityTemp.xlsx')\n",
    "df.head()"
   ]
  },
  {
   "cell_type": "code",
   "execution_count": 8,
   "metadata": {
    "id": "gZM9r3niM97R"
   },
   "outputs": [],
   "source": [
    "def remove_whitespace( x ):\n",
    "    if isinstance( x, str ):\n",
    "        return x.strip()\n",
    "    else:\n",
    "        return x\n",
    "\n",
    "df = df.applymap( remove_whitespace )\n",
    "matrix=df.to_numpy()"
   ]
  },
  {
   "cell_type": "code",
   "execution_count": 9,
   "metadata": {
    "id": "g_Jq_jB9NPtv"
   },
   "outputs": [],
   "source": [
    "temp_matrix=np.zeros((33,13))"
   ]
  },
  {
   "cell_type": "code",
   "execution_count": 10,
   "metadata": {
    "id": "S1nMSpQ1axJT"
   },
   "outputs": [],
   "source": [
    "for i in range(33):\n",
    "  temp_matrix[i]=matrix[i][1:].astype(np.float)"
   ]
  },
  {
   "cell_type": "code",
   "execution_count": 11,
   "metadata": {
    "colab": {
     "base_uri": "https://localhost:8080/"
    },
    "id": "2S7iHhgVayp4",
    "outputId": "aea4ca6a-27d6-401c-e410-c71aa5947447"
   },
   "outputs": [
    {
     "data": {
      "text/plain": [
       "52.52"
      ]
     },
     "execution_count": 11,
     "metadata": {},
     "output_type": "execute_result"
    }
   ],
   "source": [
    "temp_matrix[4][12]"
   ]
  },
  {
   "cell_type": "code",
   "execution_count": 12,
   "metadata": {
    "id": "BDj_MVKmb2iF"
   },
   "outputs": [
    {
     "data": {
      "text/plain": [
       "(33, 13)"
      ]
     },
     "execution_count": 12,
     "metadata": {},
     "output_type": "execute_result"
    }
   ],
   "source": [
    "temp_matrix.shape"
   ]
  },
  {
   "cell_type": "code",
   "execution_count": 14,
   "metadata": {},
   "outputs": [
    {
     "data": {
      "text/plain": [
       "array([[  2.  ,   2.  ,   5.  ,   8.  ,  12.  ,  15.  ,  17.  ,  17.  ,\n",
       "         15.  ,  11.  ,   6.  ,   3.  ,  52.37],\n",
       "       [  1.  ,   0.  ,   6.  ,  12.  ,  17.  ,  19.  ,  23.  ,  22.  ,\n",
       "         18.  ,  14.  ,   8.  ,   2.  ,  39.87],\n",
       "       [  9.  ,  10.  ,  12.  ,  16.  ,  21.  ,  26.  ,  29.  ,  28.  ,\n",
       "         24.  ,  20.  ,  15.  ,  11.  ,  37.97],\n",
       "       [  1.  ,   3.  ,   8.  ,  13.  ,  17.  ,  22.  ,  23.  ,  23.  ,\n",
       "         19.  ,  14.  ,   8.  ,   6.  ,  44.82],\n",
       "       [ -2.  ,   1.  ,   4.  ,  10.  ,  14.  ,  18.  ,  21.  ,  19.  ,\n",
       "         16.  ,  10.  ,   4.  ,   0.  ,  52.52],\n",
       "       [  1.  ,   1.  ,   6.  ,  10.  ,  13.  ,  17.  ,  18.  ,  19.  ,\n",
       "         15.  ,  10.  ,   4.  ,   1.  ,  46.95],\n",
       "       [  1.  ,   2.  ,   7.  ,  11.  ,  14.  ,  18.  ,  20.  ,  16.  ,\n",
       "         16.  ,  11.  ,   7.  ,   2.  ,  50.73],\n",
       "       [  1.  ,   4.  ,   7.  ,  11.  ,  13.  ,  18.  ,  19.  ,  18.  ,\n",
       "         17.  ,  12.  ,   7.  ,   3.  ,  50.85],\n",
       "       [ -4.  ,  -2.  ,   6.  ,  12.  ,  17.  ,  21.  ,  23.  ,  23.  ,\n",
       "         18.  ,  13.  ,   7.  ,   1.  ,  44.42],\n",
       "       [ -2.  ,   1.  ,   7.  ,  13.  ,  17.  ,  21.  ,  23.  ,  23.  ,\n",
       "         18.  ,  13.  ,   6.  ,   1.  ,  47.47],\n",
       "       [ -1.  ,   0.  ,   3.  ,   8.  ,  13.  ,  17.  ,  18.  ,  18.  ,\n",
       "         14.  ,   9.  ,   4.  ,   2.  ,  55.67],\n",
       "       [  3.  ,   4.  ,   6.  ,   8.  ,  11.  ,  14.  ,  16.  ,  14.  ,\n",
       "         12.  ,   9.  ,   6.  ,   4.  ,  53.33],\n",
       "       [ -9.  ,  -8.  ,  -4.  ,   3.  ,  10.  ,  15.  ,  18.  ,  16.  ,\n",
       "         11.  ,   4.  ,  -1.  ,  -6.  ,  60.17],\n",
       "       [ 11.  ,  12.  ,  15.  ,  17.  ,  19.  ,  23.  ,  25.  ,  24.  ,\n",
       "         23.  ,  19.  ,  14.  ,  11.  ,  38.7 ],\n",
       "       [  7.  ,   8.  ,  10.  ,  13.  ,  17.  ,  20.  ,  22.  ,  21.  ,\n",
       "         19.  ,  15.  ,  10.  ,   8.  ,  51.5 ],\n",
       "       [  0.  ,   1.  ,   7.  ,  11.  ,  13.  ,  17.  ,  19.  ,  18.  ,\n",
       "         15.  ,   9.  ,   4.  ,   2.  ,  49.6 ],\n",
       "       [ 17.  ,  17.  ,  18.  ,  21.  ,  23.  ,  27.  ,  29.  ,  30.  ,\n",
       "         27.  ,  23.  ,  20.  ,  17.  ,  36.51],\n",
       "       [-14.  , -12.  ,  -6.  ,   6.  ,  14.  ,  15.  ,  18.  ,  17.  ,\n",
       "         12.  ,   6.  ,  -2.  , -10.  ,  55.75],\n",
       "       [ -5.  ,  -4.  ,   1.  ,   5.  ,  11.  ,  16.  ,  17.  ,  16.  ,\n",
       "         11.  ,   7.  ,   2.  ,   3.  ,  59.95],\n",
       "       [  4.  ,   5.  ,   9.  ,  13.  ,  16.  ,  19.  ,  22.  ,  21.  ,\n",
       "         18.  ,  13.  ,   7.  ,   4.  ,  48.85],\n",
       "       [ -2.  ,  -1.  ,   4.  ,  11.  ,  15.  ,  19.  ,  21.  ,  20.  ,\n",
       "         16.  ,  10.  ,   4.  ,   0.  ,  50.08],\n",
       "       [  7.  ,   8.  ,  11.  ,  14.  ,  18.  ,  23.  ,  25.  ,  25.  ,\n",
       "         22.  ,  17.  ,  12.  ,   9.  ,  41.9 ],\n",
       "       [ -1.  ,   1.  ,   7.  ,  12.  ,  16.  ,  19.  ,  22.  ,  21.  ,\n",
       "         17.  ,  12.  ,   7.  ,   1.  ,  42.7 ],\n",
       "       [ -4.  ,  -4.  ,  -1.  ,   6.  ,  11.  ,  16.  ,  19.  ,  17.  ,\n",
       "         12.  ,   7.  ,   2.  ,  -1.  ,  59.32],\n",
       "       [ -1.  ,   1.  ,   6.  ,  12.  ,  15.  ,  11.  ,  15.  ,  21.  ,\n",
       "         17.  ,  11.  ,   6.  ,   2.  ,  48.2 ],\n",
       "       [ -5.  ,  -4.  ,   3.  ,   9.  ,  16.  ,  18.  ,  21.  ,  19.  ,\n",
       "         16.  ,  10.  ,   4.  ,   2.  ,  52.23],\n",
       "       [ -0.4 ,   1.2 ,   5.5 ,  11.  ,  16.  ,  19.1 ,  21.3 ,  20.7 ,\n",
       "         15.9 ,  10.4 ,   4.9 ,   0.7 ,  48.13],\n",
       "       [  4.2 ,   4.5 ,   6.2 ,   8.1 ,  10.8 ,  13.5 ,  15.3 ,  15.2 ,\n",
       "         13.  ,   9.8 ,   6.7 ,   4.2 ,  55.95],\n",
       "       [  0.3 ,   1.9 ,   6.5 ,  10.8 ,  15.8 ,  19.1 ,  21.3 ,  20.6 ,\n",
       "         16.  ,  11.2 ,   5.6 ,   1.2 ,  46.05],\n",
       "       [  6.3 ,   7.9 ,  11.2 ,  12.9 ,  16.7 ,  22.2 ,  25.6 ,  25.1 ,\n",
       "         20.9 ,  15.1 ,   9.9 ,   6.9 ,  40.38],\n",
       "       [  2.5 ,   4.7 ,   9.  ,  12.2 ,  17.  ,  20.8 ,  23.6 ,  23.  ,\n",
       "         19.2 ,  13.4 ,   7.2 ,   3.3 ,  45.46],\n",
       "       [ -5.5 ,  -5.8 ,  -1.3 ,   5.1 ,  11.3 ,  15.7 ,  18.8 ,  16.9 ,\n",
       "         11.6 ,   6.2 ,   0.1 ,  -3.7 ,  59.56],\n",
       "       [  0.1 ,   2.6 ,   7.6 ,  12.1 ,  17.3 ,  21.5 ,  23.8 ,  23.8 ,\n",
       "         18.8 ,  13.1 ,   6.5 ,   1.7 ,  42.  ]])"
      ]
     },
     "execution_count": 14,
     "metadata": {},
     "output_type": "execute_result"
    }
   ],
   "source": [
    "temp_matrix"
   ]
  },
  {
   "cell_type": "code",
   "execution_count": null,
   "metadata": {},
   "outputs": [],
   "source": []
  }
 ],
 "metadata": {
  "colab": {
   "name": "ReadingFromExcel.ipynb",
   "provenance": []
  },
  "kernelspec": {
   "display_name": "Python 3",
   "language": "python",
   "name": "python3"
  },
  "language_info": {
   "codemirror_mode": {
    "name": "ipython",
    "version": 3
   },
   "file_extension": ".py",
   "mimetype": "text/x-python",
   "name": "python",
   "nbconvert_exporter": "python",
   "pygments_lexer": "ipython3",
   "version": "3.7.3"
  }
 },
 "nbformat": 4,
 "nbformat_minor": 1
}
