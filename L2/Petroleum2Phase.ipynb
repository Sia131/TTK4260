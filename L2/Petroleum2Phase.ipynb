{
 "cells": [
  {
   "cell_type": "markdown",
   "metadata": {},
   "source": [
    "# Importing required libraries"
   ]
  },
  {
   "cell_type": "code",
   "execution_count": 4,
   "metadata": {},
   "outputs": [],
   "source": [
    "import numpy as np\n",
    "import pandas as pd"
   ]
  },
  {
   "cell_type": "markdown",
   "metadata": {},
   "source": [
    "# Reading the data files"
   ]
  },
  {
   "cell_type": "code",
   "execution_count": 5,
   "metadata": {},
   "outputs": [],
   "source": [
    "data = pd.read_csv('../../data/Petroleum2phasedata.csv',sep=';')"
   ]
  },
  {
   "cell_type": "markdown",
   "metadata": {},
   "source": [
    "# Getting an overview of the data"
   ]
  },
  {
   "cell_type": "code",
   "execution_count": 6,
   "metadata": {},
   "outputs": [
    {
     "data": {
      "text/html": [
       "<div>\n",
       "<style scoped>\n",
       "    .dataframe tbody tr th:only-of-type {\n",
       "        vertical-align: middle;\n",
       "    }\n",
       "\n",
       "    .dataframe tbody tr th {\n",
       "        vertical-align: top;\n",
       "    }\n",
       "\n",
       "    .dataframe thead th {\n",
       "        text-align: right;\n",
       "    }\n",
       "</style>\n",
       "<table border=\"1\" class=\"dataframe\">\n",
       "  <thead>\n",
       "    <tr style=\"text-align: right;\">\n",
       "      <th></th>\n",
       "      <th>Class_id</th>\n",
       "      <th>Class_name</th>\n",
       "      <th>Vsl</th>\n",
       "      <th>Vsg</th>\n",
       "      <th>ID</th>\n",
       "      <th>Roughness</th>\n",
       "      <th>Ang</th>\n",
       "      <th>Density_L</th>\n",
       "      <th>Density_G</th>\n",
       "      <th>Visc_L</th>\n",
       "      <th>Visc_G</th>\n",
       "      <th>ST</th>\n",
       "      <th>P</th>\n",
       "      <th>T</th>\n",
       "    </tr>\n",
       "  </thead>\n",
       "  <tbody>\n",
       "    <tr>\n",
       "      <th>0</th>\n",
       "      <td>2</td>\n",
       "      <td>SS</td>\n",
       "      <td>0.029427</td>\n",
       "      <td>0.087232</td>\n",
       "      <td>0.0258</td>\n",
       "      <td>0</td>\n",
       "      <td>0.0</td>\n",
       "      <td>860.0</td>\n",
       "      <td>4.134</td>\n",
       "      <td>0.007</td>\n",
       "      <td>0.00001</td>\n",
       "      <td>0.032</td>\n",
       "      <td>350.0</td>\n",
       "      <td>22.0</td>\n",
       "    </tr>\n",
       "    <tr>\n",
       "      <th>1</th>\n",
       "      <td>5</td>\n",
       "      <td>I</td>\n",
       "      <td>0.057772</td>\n",
       "      <td>0.086743</td>\n",
       "      <td>0.0258</td>\n",
       "      <td>0</td>\n",
       "      <td>0.0</td>\n",
       "      <td>860.0</td>\n",
       "      <td>4.134</td>\n",
       "      <td>0.007</td>\n",
       "      <td>0.00001</td>\n",
       "      <td>0.032</td>\n",
       "      <td>350.0</td>\n",
       "      <td>22.0</td>\n",
       "    </tr>\n",
       "    <tr>\n",
       "      <th>2</th>\n",
       "      <td>5</td>\n",
       "      <td>I</td>\n",
       "      <td>0.119709</td>\n",
       "      <td>0.086256</td>\n",
       "      <td>0.0258</td>\n",
       "      <td>0</td>\n",
       "      <td>0.0</td>\n",
       "      <td>860.0</td>\n",
       "      <td>4.134</td>\n",
       "      <td>0.007</td>\n",
       "      <td>0.00001</td>\n",
       "      <td>0.032</td>\n",
       "      <td>350.0</td>\n",
       "      <td>22.0</td>\n",
       "    </tr>\n",
       "    <tr>\n",
       "      <th>3</th>\n",
       "      <td>5</td>\n",
       "      <td>I</td>\n",
       "      <td>0.210969</td>\n",
       "      <td>0.084695</td>\n",
       "      <td>0.0258</td>\n",
       "      <td>0</td>\n",
       "      <td>0.0</td>\n",
       "      <td>860.0</td>\n",
       "      <td>4.134</td>\n",
       "      <td>0.007</td>\n",
       "      <td>0.00001</td>\n",
       "      <td>0.032</td>\n",
       "      <td>350.0</td>\n",
       "      <td>22.0</td>\n",
       "    </tr>\n",
       "    <tr>\n",
       "      <th>4</th>\n",
       "      <td>5</td>\n",
       "      <td>I</td>\n",
       "      <td>0.361904</td>\n",
       "      <td>0.085076</td>\n",
       "      <td>0.0258</td>\n",
       "      <td>0</td>\n",
       "      <td>0.0</td>\n",
       "      <td>860.0</td>\n",
       "      <td>4.134</td>\n",
       "      <td>0.007</td>\n",
       "      <td>0.00001</td>\n",
       "      <td>0.032</td>\n",
       "      <td>350.0</td>\n",
       "      <td>22.0</td>\n",
       "    </tr>\n",
       "  </tbody>\n",
       "</table>\n",
       "</div>"
      ],
      "text/plain": [
       "   Class_id Class_name       Vsl       Vsg      ID  Roughness  Ang  Density_L  \\\n",
       "0         2         SS  0.029427  0.087232  0.0258          0  0.0      860.0   \n",
       "1         5          I  0.057772  0.086743  0.0258          0  0.0      860.0   \n",
       "2         5          I  0.119709  0.086256  0.0258          0  0.0      860.0   \n",
       "3         5          I  0.210969  0.084695  0.0258          0  0.0      860.0   \n",
       "4         5          I  0.361904  0.085076  0.0258          0  0.0      860.0   \n",
       "\n",
       "   Density_G  Visc_L   Visc_G     ST      P     T  \n",
       "0      4.134   0.007  0.00001  0.032  350.0  22.0  \n",
       "1      4.134   0.007  0.00001  0.032  350.0  22.0  \n",
       "2      4.134   0.007  0.00001  0.032  350.0  22.0  \n",
       "3      4.134   0.007  0.00001  0.032  350.0  22.0  \n",
       "4      4.134   0.007  0.00001  0.032  350.0  22.0  "
      ]
     },
     "execution_count": 6,
     "metadata": {},
     "output_type": "execute_result"
    }
   ],
   "source": [
    "data.head()"
   ]
  }
 ],
 "metadata": {
  "kernelspec": {
   "display_name": "Python 3",
   "language": "python",
   "name": "python3"
  },
  "language_info": {
   "codemirror_mode": {
    "name": "ipython",
    "version": 3
   },
   "file_extension": ".py",
   "mimetype": "text/x-python",
   "name": "python",
   "nbconvert_exporter": "python",
   "pygments_lexer": "ipython3",
   "version": "3.7.3"
  }
 },
 "nbformat": 4,
 "nbformat_minor": 2
}
