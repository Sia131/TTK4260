{
 "cells": [
  {
   "cell_type": "markdown",
   "metadata": {},
   "source": [
    "# Test data"
   ]
  },
  {
   "cell_type": "code",
   "execution_count": 1,
   "metadata": {},
   "outputs": [],
   "source": [
    "import numpy as np\n",
    "from scipy import linalg as LA\n",
    "X = np.array([\n",
    "        [0.387,4878, 5.42],\n",
    "        [0.723,12104,5.25],\n",
    "        [1,12756,5.52],\n",
    "        [1.524,6787,3.94],\n",
    "    ])"
   ]
  },
  {
   "cell_type": "markdown",
   "metadata": {},
   "source": [
    "# Non-Iinear Iterative Partial Least-Squares (NIPALS) algorithm"
   ]
  },
  {
   "cell_type": "markdown",
   "metadata": {},
   "source": [
    "## ALGORITHM"
   ]
  },
  {
   "cell_type": "markdown",
   "metadata": {},
   "source": [
    "Steps to compute PCA using NIPALS algorithm\n",
    "\n",
    "* Step 1: Initialize an arbitrary column vector $\\mathbf{t}_{a}$ either randomly or by just copying any column of X. \n",
    "* Step 2: Take very column of $X$, $X_{k}$ and regress it onto the $\\mathbf{t}_{a}$ vector and store the regression coefficeints as $\\mathbf{p}_{ka}$. (Note: This simply means performing an ordinary least squares regression ($y=mx$) with $x=t_{a}$ and $y=X_{k}$ with $m=(\\mathbf{x}'\\mathbf{x})^{-1}\\mathbf{x}'\\mathbf{y}$). In the current notation we get \n",
    "$$p_{ka}=\\frac{\\mathbf{t}_{a}^{'}\\mathbf{X}_{k}}{\\mathbf{t}_{a}^{'}\\mathbf{t}_{a}}$$\n",
    "Repeat it for each of the columns of $X$ to get the entire vector $\\mathbf{p}_{k}$. This is shown in the illustration\n",
    "above where each column from $X$ is regressed, one at a time, on $\\mathbf{t}_{a}$, to calculate the loading entry, $\\mathbf{𝑝}_{ka}$ In\n",
    "practice we don’t do this one column at time; we can regress all columns in $X$ in go: $$\\mathbf{p}_{a}^{'}=\\frac{1}{\\mathbf{t}_{a}^{'}\\mathbf{t}_{a}}.\\mathbf{t}_{a}^{'}\\mathbf{X}_{a}$$  where $\\mathbf{t}_{a}$ is an $N \\times 1$ column vector, and $\\mathbf{X}_{a}$ us an $N \\times K$ matrix.\n",
    "* The loading vector $\\mathbf{p}_{a}^{'}$ won’t have unit length (magnitude) yet. So we simply rescale it to have\n",
    "magnitude of 1.0: $$\\mathbf{p}_{a}^{'}=\\frac{1}{\\sqrt{\\mathbf{p}_{a}^{'}\\mathbf{p}_{a}}.\\mathbf{p}_{a}^{'}}$$\n",
    "* Step 4: Regress every row in $X$ onto this normalized loadings vector. As illustrated below, in our linear regression the rows in X are our y-variable each time, while the loadings vector is our x-variable. The regression coefficient becomes the score value for that $𝑖^{th}$ row:\n",
    "$$p_{i,a}=\\frac{\\mathbf{x}_{i}^{'}\\mathbf{p}_{a}}{\\mathbf{p}_{a}^{'}\\mathbf{p}_{a}}$$\n",
    "where $x_{i}^{'}$ is a $K \\times 1$ column vector. We can combine these $N$ separate least-squares models and\n",
    "calculate them in one go to get the entire vector, \n",
    "$$\\mathbf{t}_{a}^{'}=\\frac{1}{\\mathbf{p}_{a}^{'}\\mathbf{p}_{a}}\\mathbf{X}\\mathbf{p}_{a}^{'}$$  where $p_{a}$ is a $K \\times 1$ column vector.\n",
    "* Step 5: Continue looping over steps 2,3,4 until the change in vector $t_{a}$ is below a chosen tolerance\n",
    "* Step 6: On convergence, the score vector and the loading vectors, $\\mathbf{t}_{a}$ and $\\mathbf{p}_{a}$ are stored as the $a^{th}$ column in matrix $\\mathbf{T}$ and $\\mathbf{P}$. We then deflate the $\\mathbf{X}$ matrix. This crucial step removes the variability captured in this component ($t_{a}$ and $p_{a}$) from $\\mathbf{X}$:\n",
    "$$E_{a}=X_{a}-t_{a}p_{a}^{'}$$\n",
    "$$X_{a+1} = E_{a}$$ \n",
    "\n",
    "For the first component, $X_{a}$ is just the preprocessed raw data. So we can see that the second component is actually calculated on the residuals $E_{1}$, obtained after extracting the first component. This is called deflation, and nicely shows why each component is orthogonal to the others. Each subsequent component is only seeing variation remaining after removing all the others; there is no possibility that two components can explain the same type of variability. After deflation we go back to step 1 and repeat the entire process for the next component. "
   ]
  },
  {
   "cell_type": "markdown",
   "metadata": {},
   "source": [
    "## IMPLEMENTATION IN PYTHON"
   ]
  },
  {
   "cell_type": "code",
   "execution_count": 2,
   "metadata": {},
   "outputs": [],
   "source": [
    "def PCA(X,no_components):\n",
    "    tol = 0.0000001\n",
    "    it=1000\n",
    "    obsCount,varCount = X.shape\n",
    "    Xa = X - np.mean(X, axis = 0) \n",
    "    #Xh = X-np.tile(np.mean(X,axis=0).reshape(-1,1).T, obsCount).reshape(4,3)\n",
    "    T = np.zeros((obsCount,no_components))\n",
    "    P = np.zeros((varCount,no_components))\n",
    "    pcvar = np.zeros((varCount,1))\n",
    "    varTotal = np.sum(np.var(Xa,axis=0,ddof=1))\n",
    "    currVar = varTotal\n",
    "    nr=0\n",
    "    for h in range(no_components):\n",
    "        th = Xa[:,0].reshape(-1,1)\n",
    "        ende = False\n",
    "        while ende != True:\n",
    "            nr = nr + 1\n",
    "            ph = np.dot(Xa.T,th)/np.dot(th.T,th)\n",
    "            ph = ph /np.linalg.norm(ph)\n",
    "            thnew = np.dot(Xa,ph)/np.dot(ph.T,ph)\n",
    "            prec = np.dot((thnew-th).T,(thnew-th))\n",
    "            th = thnew\n",
    "            if prec <= (tol*tol):\n",
    "                ende = True\n",
    "            elif it <=nr:\n",
    "                ende = True\n",
    "                print(\"Iternation stops without convergence\")\n",
    "        Ea = Xa - np.dot(th,ph.T)\n",
    "        Xa = Ea    \n",
    "        T[:,h] = th.flatten()\n",
    "        P[:,h] = ph.flatten()\n",
    "        oldVar = currVar\n",
    "        currVar = np.sum(np.var(Xa,axis=0,ddof=1))\n",
    "        pcvar[h] = (oldVar - currVar) / varTotal\n",
    "        nr = 0\n",
    "    return T,P,pcvar      "
   ]
  },
  {
   "cell_type": "markdown",
   "metadata": {},
   "source": [
    "## Advantages of the NIPALS algorithm\n",
    "* The NIPALS algorithm computes one component at a time. The first component computed is\n",
    "equivalent to the t1 and p1 vectors that would have been found from an eigenvalue or singular value\n",
    "decomposition.\n",
    "* The algorithm can handle missing data in X.\n",
    "* The algorithm always converges, but the convergence can sometimes be slow.\n",
    "* It is also known as the Power algorithm to calculate eigenvectors and eigenvalues.\n",
    "* It works well for very large data sets.\n",
    "* It is used by most software packages, especially those that handle missing data.\n",
    "* Of interest: it is well known that Google used this algorithm for the early versions of their search engine, called PageRank148."
   ]
  },
  {
   "cell_type": "code",
   "execution_count": 3,
   "metadata": {},
   "outputs": [],
   "source": [
    "no_components=3\n",
    "T,P,pcvar = PCA(X,no_components)"
   ]
  },
  {
   "cell_type": "code",
   "execution_count": 4,
   "metadata": {},
   "outputs": [
    {
     "data": {
      "text/plain": [
       "array([[-4.25324997e+03, -8.41288672e-01,  8.37859036e-03],\n",
       "       [ 2.97275001e+03, -1.25977272e-01, -1.82476780e-01],\n",
       "       [ 3.62475003e+03, -1.56843494e-01,  1.65224286e-01],\n",
       "       [-2.34425007e+03,  1.12410944e+00,  8.87390330e-03]])"
      ]
     },
     "execution_count": 4,
     "metadata": {},
     "output_type": "execute_result"
    }
   ],
   "source": [
    "T"
   ]
  },
  {
   "cell_type": "code",
   "execution_count": 5,
   "metadata": {},
   "outputs": [
    {
     "data": {
      "text/plain": [
       "array([[ 1.21901390e-05,  5.66460728e-01,  8.24088735e-01],\n",
       "       [ 9.99999997e-01,  5.32639787e-05, -5.14047689e-05],\n",
       "       [ 7.30130279e-05, -8.24088733e-01,  5.66460726e-01]])"
      ]
     },
     "execution_count": 5,
     "metadata": {},
     "output_type": "execute_result"
    }
   ],
   "source": [
    "P"
   ]
  },
  {
   "cell_type": "code",
   "execution_count": 6,
   "metadata": {},
   "outputs": [
    {
     "data": {
      "text/plain": [
       "array([[9.99999955e-01],\n",
       "       [4.41567976e-08],\n",
       "       [1.33326424e-09]])"
      ]
     },
     "execution_count": 6,
     "metadata": {},
     "output_type": "execute_result"
    }
   ],
   "source": [
    "pcvar"
   ]
  },
  {
   "cell_type": "code",
   "execution_count": 3,
   "metadata": {},
   "outputs": [
    {
     "ename": "TypeError",
     "evalue": "rand_in_ellipse() missing 1 required positional argument: 'a'",
     "output_type": "error",
     "traceback": [
      "\u001b[0;31m---------------------------------------------------------------------------\u001b[0m",
      "\u001b[0;31mTypeError\u001b[0m                                 Traceback (most recent call last)",
      "\u001b[0;32m<ipython-input-3-24ab89cff3ce>\u001b[0m in \u001b[0;36m<module>\u001b[0;34m\u001b[0m\n\u001b[1;32m     13\u001b[0m \u001b[0;34m\u001b[0m\u001b[0m\n\u001b[1;32m     14\u001b[0m \u001b[0;34m\u001b[0m\u001b[0m\n\u001b[0;32m---> 15\u001b[0;31m \u001b[0msample\u001b[0m \u001b[0;34m=\u001b[0m \u001b[0mnp\u001b[0m\u001b[0;34m.\u001b[0m\u001b[0marray\u001b[0m\u001b[0;34m(\u001b[0m\u001b[0;34m[\u001b[0m\u001b[0mrand_in_ellipse\u001b[0m\u001b[0;34m(\u001b[0m\u001b[0;34m)\u001b[0m \u001b[0;32mfor\u001b[0m \u001b[0mi\u001b[0m \u001b[0;32min\u001b[0m \u001b[0mnp\u001b[0m\u001b[0;34m.\u001b[0m\u001b[0marange\u001b[0m\u001b[0;34m(\u001b[0m\u001b[0;36m10000\u001b[0m\u001b[0;34m)\u001b[0m\u001b[0;34m]\u001b[0m\u001b[0;34m)\u001b[0m\u001b[0;34m\u001b[0m\u001b[0;34m\u001b[0m\u001b[0m\n\u001b[0m\u001b[1;32m     16\u001b[0m \u001b[0max\u001b[0m\u001b[0;34m.\u001b[0m\u001b[0mscatter\u001b[0m\u001b[0;34m(\u001b[0m\u001b[0msample\u001b[0m\u001b[0;34m[\u001b[0m\u001b[0;34m:\u001b[0m\u001b[0;34m,\u001b[0m\u001b[0;36m0\u001b[0m\u001b[0;34m]\u001b[0m\u001b[0;34m,\u001b[0m \u001b[0msample\u001b[0m\u001b[0;34m[\u001b[0m\u001b[0;34m:\u001b[0m\u001b[0;34m,\u001b[0m\u001b[0;36m1\u001b[0m\u001b[0;34m]\u001b[0m\u001b[0;34m)\u001b[0m\u001b[0;34m\u001b[0m\u001b[0;34m\u001b[0m\u001b[0m\n\u001b[1;32m     17\u001b[0m \u001b[0;34m\u001b[0m\u001b[0m\n",
      "\u001b[0;32m<ipython-input-3-24ab89cff3ce>\u001b[0m in \u001b[0;36m<listcomp>\u001b[0;34m(.0)\u001b[0m\n\u001b[1;32m     13\u001b[0m \u001b[0;34m\u001b[0m\u001b[0m\n\u001b[1;32m     14\u001b[0m \u001b[0;34m\u001b[0m\u001b[0m\n\u001b[0;32m---> 15\u001b[0;31m \u001b[0msample\u001b[0m \u001b[0;34m=\u001b[0m \u001b[0mnp\u001b[0m\u001b[0;34m.\u001b[0m\u001b[0marray\u001b[0m\u001b[0;34m(\u001b[0m\u001b[0;34m[\u001b[0m\u001b[0mrand_in_ellipse\u001b[0m\u001b[0;34m(\u001b[0m\u001b[0;34m)\u001b[0m \u001b[0;32mfor\u001b[0m \u001b[0mi\u001b[0m \u001b[0;32min\u001b[0m \u001b[0mnp\u001b[0m\u001b[0;34m.\u001b[0m\u001b[0marange\u001b[0m\u001b[0;34m(\u001b[0m\u001b[0;36m10000\u001b[0m\u001b[0;34m)\u001b[0m\u001b[0;34m]\u001b[0m\u001b[0;34m)\u001b[0m\u001b[0;34m\u001b[0m\u001b[0;34m\u001b[0m\u001b[0m\n\u001b[0m\u001b[1;32m     16\u001b[0m \u001b[0max\u001b[0m\u001b[0;34m.\u001b[0m\u001b[0mscatter\u001b[0m\u001b[0;34m(\u001b[0m\u001b[0msample\u001b[0m\u001b[0;34m[\u001b[0m\u001b[0;34m:\u001b[0m\u001b[0;34m,\u001b[0m\u001b[0;36m0\u001b[0m\u001b[0;34m]\u001b[0m\u001b[0;34m,\u001b[0m \u001b[0msample\u001b[0m\u001b[0;34m[\u001b[0m\u001b[0;34m:\u001b[0m\u001b[0;34m,\u001b[0m\u001b[0;36m1\u001b[0m\u001b[0;34m]\u001b[0m\u001b[0;34m)\u001b[0m\u001b[0;34m\u001b[0m\u001b[0;34m\u001b[0m\u001b[0m\n\u001b[1;32m     17\u001b[0m \u001b[0;34m\u001b[0m\u001b[0m\n",
      "\u001b[0;31mTypeError\u001b[0m: rand_in_ellipse() missing 1 required positional argument: 'a'"
     ]
    },
    {
     "data": {
      "image/png": "[encoded data removed]",
      "text/plain": [
       "<Figure size 432x288 with 1 Axes>"
      ]
     },
     "metadata": {
      "needs_background": "light"
     },
     "output_type": "display_data"
    }
   ],
   "source": [
    "import numpy as np\n",
    "pi = np.pi\n",
    "def rand_in_ellipse(a, b=1, offset=0):\n",
    "    angle = 2*pi*random() - offset\n",
    "    x = a * random() * np.cos(angle)\n",
    "    y = b * random() * np.sin(angle)\n",
    "    return np.array((x,y))\n",
    "\n",
    "import matplotlib.pyplot as plt\n",
    "fig = plt.figure()\n",
    "\n",
    "ax = fig.add_subplot(111)\n",
    "\n",
    "\n",
    "sample = np.array([rand_in_ellipse() for i in np.arange(10000)])\n",
    "ax.scatter(sample[:,0], sample[:,1])\n",
    "\n",
    "plt.show() # Figure attached\n"
   ]
  },
  {
   "cell_type": "code",
   "execution_count": null,
   "metadata": {},
   "outputs": [],
   "source": []
  }
 ],
 "metadata": {
  "kernelspec": {
   "display_name": "Python 3",
   "language": "python",
   "name": "python3"
  },
  "language_info": {
   "codemirror_mode": {
    "name": "ipython",
    "version": 3
   },
   "file_extension": ".py",
   "mimetype": "text/x-python",
   "name": "python",
   "nbconvert_exporter": "python",
   "pygments_lexer": "ipython3",
   "version": "3.7.1"
  }
 },
 "nbformat": 4,
 "nbformat_minor": 2
}
