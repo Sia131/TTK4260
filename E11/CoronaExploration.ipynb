{
 "cells": [
  {
   "cell_type": "code",
   "execution_count": 49,
   "metadata": {},
   "outputs": [],
   "source": [
    "import pandas as pd\n",
    "import plotly.express as px\n",
    "import matplotlib.pyplot as plt\n",
    "import seaborn as sns\n",
    "import warnings\n",
    "# color pallette\n",
    "cnf = '#393e46' # confirmed - grey\n",
    "dth = '#ff2e63' # death - red\n",
    "rec = '#21bf73' # recovered - cyan\n",
    "act = '#fe9801' # active case - yellow\n",
    "warnings.filterwarnings('ignore')"
   ]
  },
  {
   "cell_type": "code",
   "execution_count": 29,
   "metadata": {},
   "outputs": [],
   "source": [
    "interested_countries=['China','Italy','Norway','France']"
   ]
  },
  {
   "cell_type": "code",
   "execution_count": 10,
   "metadata": {},
   "outputs": [],
   "source": [
    "confirmed=pd.read_csv('time_series_covid_19_confirmed.csv',sep=',')\n",
    "deaths=pd.read_csv('time_series_covid_19_deaths.csv',sep=',')\n",
    "recovered = pd.read_csv('time_series_covid_19_recovered.csv',',')"
   ]
  },
  {
   "cell_type": "code",
   "execution_count": 11,
   "metadata": {},
   "outputs": [],
   "source": [
    "full_table = pd.read_csv('covid_19_data.csv',sep=',',parse_dates=['ObservationDate'])\n",
    "full_table.head()\n",
    "cases = ['Confirmed', 'Deaths', 'Recovered', 'Active']\n",
    "full_table['Active'] = full_table['Confirmed'] - full_table['Deaths'] - full_table['Recovered']\n",
    "full_table['Country/Region'] = full_table['Country/Region'].replace('Mainland China', 'China')\n",
    "full_table[['Province/State']] = full_table[['Province/State']].fillna('')\n",
    "full_table[cases] = full_table[cases].fillna(0)"
   ]
  },
  {
   "cell_type": "code",
   "execution_count": 12,
   "metadata": {},
   "outputs": [],
   "source": [
    "full_latest = full_table[full_table['ObservationDate'] == max(full_table['ObservationDate'])].reset_index()\n",
    "full_latest_grouped = full_latest.groupby('Country/Region')['Confirmed', 'Deaths', 'Recovered', 'Active'].sum().reset_index()"
   ]
  },
  {
   "cell_type": "code",
   "execution_count": 47,
   "metadata": {},
   "outputs": [
    {
     "data": {
      "application/vnd.plotly.v1+json": {
       "config": {
        "plotlyServerURL": "https://plot.ly"
       },
       "data": [
        {
         "geo": "geo",
         "hoverlabel": {
          "namelength": 0
         },
         "hovertemplate": "<b>%{hovertext}</b><br><br>ObservationDate=01/22/2020<br>size=%{marker.size}<br>Country/Region=%{location}<br>Confirmed=%{marker.color}",
         "hovertext": [
          "China",
          "Hong Kong",
          "Japan",
          "Macau",
          "South Korea",
          "Taiwan",
          "Thailand",
          "US"
         ],
         "legendgroup": "",
         "locationmode": "country names",
         "locations": [
          "China",
          "Hong Kong",
          "Japan",
          "Macau",
          "South Korea",
          "Taiwan",
          "Thailand",
          "US"
         ],
         "marker": {
          "color": [
           444,
           0,
           2,
           1,
           1,
           1,
           2,
           1
          ],
          "coloraxis": "coloraxis",
          "size": [
           6.226082785868411,
           0,
           1.2311444133449163,
           1,
           1,
           1,
           1.2311444133449163,
           1
          ],
          "sizemode": "area",
          "sizeref": 0.07034885314052819
         },
         "name": "",
         "showlegend": false,
         "type": "scattergeo"
        }
       ],
       "frames": [
        {
         "data": [
          {
           "geo": "geo",
           "hoverlabel": {
            "namelength": 0
           },
           "hovertemplate": "<b>%{hovertext}</b><br><br>ObservationDate=01/22/2020<br>size=%{marker.size}<br>Country/Region=%{location}<br>Confirmed=%{marker.color}",
           "hovertext": [
            "China",
            "Hong Kong",
            "Japan",
            "Macau",
            "South Korea",
            "Taiwan",
            "Thailand",
            "US"
           ],
           "legendgroup": "",
           "locationmode": "country names",
           "locations": [
            "China",
            "Hong Kong",
            "Japan",
            "Macau",
            "South Korea",
            "Taiwan",
            "Thailand",
            "US"
           ],
           "marker": {
            "color": [
             444,
             0,
             2,
             1,
             1,
             1,
             2,
             1
            ],
            "coloraxis": "coloraxis",
            "size": [
             6.226082785868411,
             0,
             1.2311444133449163,
             1,
             1,
             1,
             1.2311444133449163,
             1
            ],
            "sizemode": "area",
            "sizeref": 0.07034885314052819
           },
           "name": "",
           "showlegend": false,
           "type": "scattergeo"
          }
         ],
         "name": "01/22/2020"
        },
        {
         "data": [
          {
           "geo": "geo",
           "hoverlabel": {
            "namelength": 0
           },
           "hovertemplate": "<b>%{hovertext}</b><br><br>ObservationDate=01/23/2020<br>size=%{marker.size}<br>Country/Region=%{location}<br>Confirmed=%{marker.color}",
           "hovertext": [
            "Australia",
            "Brazil",
            "China",
            "Colombia",
            "Hong Kong",
            "Japan",
            "Macau",
            "Malaysia",
            "Mexico",
            "Philippines",
            "Singapore",
            "South Korea",
            "Taiwan",
            "Thailand",
            "US",
            "Vietnam"
           ],
           "legendgroup": "",
           "locationmode": "country names",
           "locations": [
            "Australia",
            "Brazil",
            "China",
            "Colombia",
            "Hong Kong",
            "Japan",
            "Macau",
            "Malaysia",
            "Mexico",
            "Philippines",
            "Singapore",
            "South Korea",
            "Taiwan",
            "Thailand",
            "US",
            "Vietnam"
           ],
           "marker": {
            "color": [
             0,
             0,
             444,
             0,
             2,
             1,
             2,
             0,
             0,
             0,
             1,
             1,
             1,
             3,
             1,
             2
            ],
            "coloraxis": "coloraxis",
            "size": [
             0,
             0,
             6.226082785868411,
             0,
             1.2311444133449163,
             1,
             1.2311444133449163,
             0,
             0,
             0,
             1,
             1,
             1,
             1.3903891703159093,
             1,
             1.2311444133449163
            ],
            "sizemode": "area",
            "sizeref": 0.07034885314052819
           },
           "name": "",
           "showlegend": false,
           "type": "scattergeo"
          }
         ],
         "name": "01/23/2020"
        },
        {
         "data": [
          {
           "geo": "geo",
           "hoverlabel": {
            "namelength": 0
           },
           "hovertemplate": "<b>%{hovertext}</b><br><br>ObservationDate=01/24/2020<br>size=%{marker.size}<br>Country/Region=%{location}<br>Confirmed=%{marker.color}",
           "hovertext": [
            "China",
            "France",
            "Hong Kong",
            "Japan",
            "Macau",
            "Singapore",
            "South Korea",
            "Taiwan",
            "Thailand",
            "US",
            "Vietnam"
           ],
           "legendgroup": "",
           "locationmode": "country names",
           "locations": [
            "China",
            "France",
            "Hong Kong",
            "Japan",
            "Macau",
            "Singapore",
            "South Korea",
            "Taiwan",
            "Thailand",
            "US",
            "Vietnam"
           ],
           "marker": {
            "color": [
             549,
             2,
             2,
             2,
             2,
             3,
             2,
             3,
             5,
             1,
             2
            ],
            "coloraxis": "coloraxis",
            "size": [
             6.635470203736966,
             1.2311444133449163,
             1.2311444133449163,
             1.2311444133449163,
             1.2311444133449163,
             1.3903891703159093,
             1.2311444133449163,
             1.3903891703159093,
             1.6206565966927624,
             1,
             1.2311444133449163
            ],
            "sizemode": "area",
            "sizeref": 0.07034885314052819
           },
           "name": "",
           "showlegend": false,
           "type": "scattergeo"
          }
         ],
         "name": "01/24/2020"
        },
        {
         "data": [
          {
           "geo": "geo",
           "hoverlabel": {
            "namelength": 0
           },
           "hovertemplate": "<b>%{hovertext}</b><br><br>ObservationDate=01/25/2020<br>size=%{marker.size}<br>Country/Region=%{location}<br>Confirmed=%{marker.color}",
           "hovertext": [
            "Australia",
            "China",
            "France",
            "Hong Kong",
            "Japan",
            "Macau",
            "Malaysia",
            "Nepal",
            "Singapore",
            "South Korea",
            "Taiwan",
            "Thailand",
            "US",
            "Vietnam"
           ],
           "legendgroup": "",
           "locationmode": "country names",
           "locations": [
            "Australia",
            "China",
            "France",
            "Hong Kong",
            "Japan",
            "Macau",
            "Malaysia",
            "Nepal",
            "Singapore",
            "South Korea",
            "Taiwan",
            "Thailand",
            "US",
            "Vietnam"
           ],
           "marker": {
            "color": [
             4,
             761,
             3,
             5,
             2,
             2,
             3,
             1,
             3,
             2,
             3,
             7,
             1,
             2
            ],
            "coloraxis": "coloraxis",
            "size": [
             1.515716566510398,
             7.318387430747937,
             1.3903891703159093,
             1.6206565966927624,
             1.2311444133449163,
             1.2311444133449163,
             1.3903891703159093,
             1,
             1.3903891703159093,
             1.2311444133449163,
             1.3903891703159093,
             1.792789962520997,
             1,
             1.2311444133449163
            ],
            "sizemode": "area",
            "sizeref": 0.07034885314052819
           },
           "name": "",
           "showlegend": false,
           "type": "scattergeo"
          }
         ],
         "name": "01/25/2020"
        },
        {
         "data": [
          {
           "geo": "geo",
           "hoverlabel": {
            "namelength": 0
           },
           "hovertemplate": "<b>%{hovertext}</b><br><br>ObservationDate=01/26/2020<br>size=%{marker.size}<br>Country/Region=%{location}<br>Confirmed=%{marker.color}",
           "hovertext": [
            "Australia",
            "Canada",
            "China",
            "France",
            "Hong Kong",
            "Japan",
            "Macau",
            "Malaysia",
            "Nepal",
            "Singapore",
            "South Korea",
            "Taiwan",
            "Thailand",
            "US",
            "Vietnam"
           ],
           "legendgroup": "",
           "locationmode": "country names",
           "locations": [
            "Australia",
            "Canada",
            "China",
            "France",
            "Hong Kong",
            "Japan",
            "Macau",
            "Malaysia",
            "Nepal",
            "Singapore",
            "South Korea",
            "Taiwan",
            "Thailand",
            "US",
            "Vietnam"
           ],
           "marker": {
            "color": [
             4,
             1,
             1058,
             3,
             8,
             4,
             5,
             4,
             1,
             4,
             3,
             4,
             8,
             2,
             2
            ],
            "coloraxis": "coloraxis",
            "size": [
             1.515716566510398,
             1,
             8.078778486777043,
             1.3903891703159093,
             1.8660659830736148,
             1.515716566510398,
             1.6206565966927624,
             1.515716566510398,
             1,
             1.515716566510398,
             1.3903891703159093,
             1.515716566510398,
             1.8660659830736148,
             1.2311444133449163,
             1.2311444133449163
            ],
            "sizemode": "area",
            "sizeref": 0.07034885314052819
           },
           "name": "",
           "showlegend": false,
           "type": "scattergeo"
          }
         ],
         "name": "01/26/2020"
        },
        {
         "data": [
          {
           "geo": "geo",
           "hoverlabel": {
            "namelength": 0
           },
           "hovertemplate": "<b>%{hovertext}</b><br><br>ObservationDate=01/27/2020<br>size=%{marker.size}<br>Country/Region=%{location}<br>Confirmed=%{marker.color}",
           "hovertext": [
            "Australia",
            "Cambodia",
            "Canada",
            "China",
            "France",
            "Hong Kong",
            "Ivory Coast",
            "Japan",
            "Macau",
            "Malaysia",
            "Nepal",
            "Singapore",
            "South Korea",
            "Sri Lanka",
            "Taiwan",
            "Thailand",
            "US",
            "Vietnam"
           ],
           "legendgroup": "",
           "locationmode": "country names",
           "locations": [
            "Australia",
            "Cambodia",
            "Canada",
            "China",
            "France",
            "Hong Kong",
            "Ivory Coast",
            "Japan",
            "Macau",
            "Malaysia",
            "Nepal",
            "Singapore",
            "South Korea",
            "Sri Lanka",
            "Taiwan",
            "Thailand",
            "US",
            "Vietnam"
           ],
           "marker": {
            "color": [
             4,
             1,
             1,
             1423,
             3,
             8,
             1,
             4,
             6,
             4,
             1,
             5,
             4,
             1,
             5,
             8,
             2,
             2
            ],
            "coloraxis": "coloraxis",
            "size": [
             1.515716566510398,
             1,
             1,
             8.83001558329565,
             1.3903891703159093,
             1.8660659830736148,
             1,
             1.515716566510398,
             1.711769859409705,
             1.515716566510398,
             1,
             1.6206565966927624,
             1.515716566510398,
             1,
             1.6206565966927624,
             1.8660659830736148,
             1.2311444133449163,
             1.2311444133449163
            ],
            "sizemode": "area",
            "sizeref": 0.07034885314052819
           },
           "name": "",
           "showlegend": false,
           "type": "scattergeo"
          }
         ],
         "name": "01/27/2020"
        },
        {
         "data": [
          {
           "geo": "geo",
           "hoverlabel": {
            "namelength": 0
           },
           "hovertemplate": "<b>%{hovertext}</b><br><br>ObservationDate=01/28/2020<br>size=%{marker.size}<br>Country/Region=%{location}<br>Confirmed=%{marker.color}",
           "hovertext": [
            "Australia",
            "Cambodia",
            "Canada",
            "China",
            "France",
            "Germany",
            "Hong Kong",
            "Japan",
            "Macau",
            "Malaysia",
            "Nepal",
            "Singapore",
            "South Korea",
            "Sri Lanka",
            "Taiwan",
            "Thailand",
            "US",
            "Vietnam"
           ],
           "legendgroup": "",
           "locationmode": "country names",
           "locations": [
            "Australia",
            "Cambodia",
            "Canada",
            "China",
            "France",
            "Germany",
            "Hong Kong",
            "Japan",
            "Macau",
            "Malaysia",
            "Nepal",
            "Singapore",
            "South Korea",
            "Sri Lanka",
            "Taiwan",
            "Thailand",
            "US",
            "Vietnam"
           ],
           "marker": {
            "color": [
             4,
             1,
             1,
             3554,
             4,
             4,
             8,
             7,
             7,
             4,
             1,
             7,
             4,
             1,
             8,
             14,
             2,
             2
            ],
            "coloraxis": "coloraxis",
            "size": [
             1.515716566510398,
             1,
             1,
             11.620243455385262,
             1.515716566510398,
             1.515716566510398,
             1.8660659830736148,
             1.792789962520997,
             1.792789962520997,
             1.515716566510398,
             1,
             1.792789962520997,
             1.515716566510398,
             1,
             1.8660659830736148,
             2.2071833466585673,
             1.2311444133449163,
             1.2311444133449163
            ],
            "sizemode": "area",
            "sizeref": 0.07034885314052819
           },
           "name": "",
           "showlegend": false,
           "type": "scattergeo"
          }
         ],
         "name": "01/28/2020"
        },
        {
         "data": [
          {
           "geo": "geo",
           "hoverlabel": {
            "namelength": 0
           },
           "hovertemplate": "<b>%{hovertext}</b><br><br>ObservationDate=01/29/2020<br>size=%{marker.size}<br>Country/Region=%{location}<br>Confirmed=%{marker.color}",
           "hovertext": [
            "Australia",
            "Cambodia",
            "Canada",
            "China",
            "Finland",
            "France",
            "Germany",
            "Hong Kong",
            "Japan",
            "Macau",
            "Malaysia",
            "Nepal",
            "Singapore",
            "South Korea",
            "Sri Lanka",
            "Taiwan",
            "Thailand",
            "US",
            "United Arab Emirates",
            "Vietnam"
           ],
           "legendgroup": "",
           "locationmode": "country names",
           "locations": [
            "Australia",
            "Cambodia",
            "Canada",
            "China",
            "Finland",
            "France",
            "Germany",
            "Hong Kong",
            "Japan",
            "Macau",
            "Malaysia",
            "Nepal",
            "Singapore",
            "South Korea",
            "Sri Lanka",
            "Taiwan",
            "Thailand",
            "US",
            "United Arab Emirates",
            "Vietnam"
           ],
           "marker": {
            "color": [
             4,
             1,
             1,
             3554,
             1,
             5,
             4,
             10,
             7,
             7,
             7,
             1,
             7,
             4,
             1,
             8,
             14,
             2,
             4,
             2
            ],
            "coloraxis": "coloraxis",
            "size": [
             1.515716566510398,
             1,
             1,
             11.620243455385262,
             1,
             1.6206565966927624,
             1.515716566510398,
             1.9952623149688795,
             1.792789962520997,
             1.792789962520997,
             1.792789962520997,
             1,
             1.792789962520997,
             1.515716566510398,
             1,
             1.8660659830736148,
             2.2071833466585673,
             1.2311444133449163,
             1.515716566510398,
             1.2311444133449163
            ],
            "sizemode": "area",
            "sizeref": 0.07034885314052819
           },
           "name": "",
           "showlegend": false,
           "type": "scattergeo"
          }
         ],
         "name": "01/29/2020"
        },
        {
         "data": [
          {
           "geo": "geo",
           "hoverlabel": {
            "namelength": 0
           },
           "hovertemplate": "<b>%{hovertext}</b><br><br>ObservationDate=01/30/2020<br>size=%{marker.size}<br>Country/Region=%{location}<br>Confirmed=%{marker.color}",
           "hovertext": [
            "Australia",
            "Cambodia",
            "Canada",
            "China",
            "Finland",
            "France",
            "Germany",
            "Hong Kong",
            "India",
            "Japan",
            "Macau",
            "Malaysia",
            "Nepal",
            "Philippines",
            "Singapore",
            "South Korea",
            "Sri Lanka",
            "Taiwan",
            "Thailand",
            "US",
            "United Arab Emirates",
            "Vietnam"
           ],
           "legendgroup": "",
           "locationmode": "country names",
           "locations": [
            "Australia",
            "Cambodia",
            "Canada",
            "China",
            "Finland",
            "France",
            "Germany",
            "Hong Kong",
            "India",
            "Japan",
            "Macau",
            "Malaysia",
            "Nepal",
            "Philippines",
            "Singapore",
            "South Korea",
            "Sri Lanka",
            "Taiwan",
            "Thailand",
            "US",
            "United Arab Emirates",
            "Vietnam"
           ],
           "marker": {
            "color": [
             4,
             1,
             2,
             4903,
             1,
             5,
             4,
             10,
             1,
             11,
             7,
             8,
             1,
             1,
             10,
             4,
             1,
             9,
             14,
             2,
             4,
             2
            ],
            "coloraxis": "coloraxis",
            "size": [
             1.515716566510398,
             1,
             1.2311444133449163,
             12.797895745076783,
             1,
             1.6206565966927624,
             1.515716566510398,
             1.9952623149688795,
             1,
             2.053136413658844,
             1.792789962520997,
             1.8660659830736148,
             1,
             1,
             1.9952623149688795,
             1.515716566510398,
             1,
             1.9331820449317627,
             2.2071833466585673,
             1.2311444133449163,
             1.515716566510398,
             1.2311444133449163
            ],
            "sizemode": "area",
            "sizeref": 0.07034885314052819
           },
           "name": "",
           "showlegend": false,
           "type": "scattergeo"
          }
         ],
         "name": "01/30/2020"
        },
        {
         "data": [
          {
           "geo": "geo",
           "hoverlabel": {
            "namelength": 0
           },
           "hovertemplate": "<b>%{hovertext}</b><br><br>ObservationDate=01/31/2020<br>size=%{marker.size}<br>Country/Region=%{location}<br>Confirmed=%{marker.color}",
           "hovertext": [
            "Australia",
            "Cambodia",
            "Canada",
            "China",
            "Finland",
            "France",
            "Germany",
            "Hong Kong",
            "India",
            "Italy",
            "Japan",
            "Macau",
            "Malaysia",
            "Nepal",
            "Philippines",
            "Russia",
            "Singapore",
            "South Korea",
            "Sri Lanka",
            "Sweden",
            "Taiwan",
            "Thailand",
            "UK",
            "US",
            "United Arab Emirates",
            "Vietnam"
           ],
           "legendgroup": "",
           "locationmode": "country names",
           "locations": [
            "Australia",
            "Cambodia",
            "Canada",
            "China",
            "Finland",
            "France",
            "Germany",
            "Hong Kong",
            "India",
            "Italy",
            "Japan",
            "Macau",
            "Malaysia",
            "Nepal",
            "Philippines",
            "Russia",
            "Singapore",
            "South Korea",
            "Sri Lanka",
            "Sweden",
            "Taiwan",
            "Thailand",
            "UK",
            "US",
            "United Arab Emirates",
            "Vietnam"
           ],
           "marker": {
            "color": [
             4,
             1,
             2,
             5806,
             1,
             5,
             5,
             12,
             1,
             2,
             15,
             7,
             8,
             1,
             1,
             2,
             13,
             11,
             1,
             1,
             10,
             19,
             2,
             2,
             4,
             2
            ],
            "coloraxis": "coloraxis",
            "size": [
             1.515716566510398,
             1,
             1.2311444133449163,
             13.463659183172838,
             1,
             1.6206565966927624,
             1.6206565966927624,
             2.107435899344471,
             1,
             1.2311444133449163,
             2.2533433808426553,
             1.792789962520997,
             1.8660659830736148,
             1,
             1,
             1.2311444133449163,
             2.1586538444215795,
             2.053136413658844,
             1,
             1,
             1.9952623149688795,
             2.4189454814875875,
             1.2311444133449163,
             1.2311444133449163,
             1.515716566510398,
             1.2311444133449163
            ],
            "sizemode": "area",
            "sizeref": 0.07034885314052819
           },
           "name": "",
           "showlegend": false,
           "type": "scattergeo"
          }
         ],
         "name": "01/31/2020"
        },
        {
         "data": [
          {
           "geo": "geo",
           "hoverlabel": {
            "namelength": 0
           },
           "hovertemplate": "<b>%{hovertext}</b><br><br>ObservationDate=02/01/2020<br>size=%{marker.size}<br>Country/Region=%{location}<br>Confirmed=%{marker.color}",
           "hovertext": [
            "Australia",
            "Cambodia",
            "Canada",
            "China",
            "Finland",
            "France",
            "Germany",
            "Hong Kong",
            "India",
            "Italy",
            "Japan",
            "Macau",
            "Malaysia",
            "Nepal",
            "Philippines",
            "Russia",
            "Singapore",
            "South Korea",
            "Spain",
            "Sri Lanka",
            "Sweden",
            "Taiwan",
            "Thailand",
            "UK",
            "US",
            "United Arab Emirates",
            "Vietnam"
           ],
           "legendgroup": "",
           "locationmode": "country names",
           "locations": [
            "Australia",
            "Cambodia",
            "Canada",
            "China",
            "Finland",
            "France",
            "Germany",
            "Hong Kong",
            "India",
            "Italy",
            "Japan",
            "Macau",
            "Malaysia",
            "Nepal",
            "Philippines",
            "Russia",
            "Singapore",
            "South Korea",
            "Spain",
            "Sri Lanka",
            "Sweden",
            "Taiwan",
            "Thailand",
            "UK",
            "US",
            "United Arab Emirates",
            "Vietnam"
           ],
           "marker": {
            "color": [
             4,
             1,
             3,
             7153,
             1,
             6,
             8,
             13,
             1,
             2,
             20,
             7,
             8,
             1,
             1,
             2,
             16,
             12,
             1,
             1,
             1,
             10,
             19,
             2,
             2,
             4,
             6
            ],
            "coloraxis": "coloraxis",
            "size": [
             1.515716566510398,
             1,
             1.3903891703159093,
             14.333309130188328,
             1,
             1.711769859409705,
             1.8660659830736148,
             2.1586538444215795,
             1,
             1.2311444133449163,
             2.4564560522315806,
             1.792789962520997,
             1.8660659830736148,
             1,
             1,
             1.2311444133449163,
             2.2973967099940698,
             2.107435899344471,
             1,
             1,
             1,
             1.9952623149688795,
             2.4189454814875875,
             1.2311444133449163,
             1.2311444133449163,
             1.515716566510398,
             1.711769859409705
            ],
            "sizemode": "area",
            "sizeref": 0.07034885314052819
           },
           "name": "",
           "showlegend": false,
           "type": "scattergeo"
          }
         ],
         "name": "02/01/2020"
        },
        {
         "data": [
          {
           "geo": "geo",
           "hoverlabel": {
            "namelength": 0
           },
           "hovertemplate": "<b>%{hovertext}</b><br><br>ObservationDate=02/02/2020<br>size=%{marker.size}<br>Country/Region=%{location}<br>Confirmed=%{marker.color}",
           "hovertext": [
            "Australia",
            "Cambodia",
            "Canada",
            "China",
            "Finland",
            "France",
            "Germany",
            "Hong Kong",
            "India",
            "Italy",
            "Japan",
            "Macau",
            "Malaysia",
            "Nepal",
            "Philippines",
            "Russia",
            "Singapore",
            "South Korea",
            "Spain",
            "Sri Lanka",
            "Sweden",
            "Taiwan",
            "Thailand",
            "UK",
            "US",
            "United Arab Emirates",
            "Vietnam"
           ],
           "legendgroup": "",
           "locationmode": "country names",
           "locations": [
            "Australia",
            "Cambodia",
            "Canada",
            "China",
            "Finland",
            "France",
            "Germany",
            "Hong Kong",
            "India",
            "Italy",
            "Japan",
            "Macau",
            "Malaysia",
            "Nepal",
            "Philippines",
            "Russia",
            "Singapore",
            "South Korea",
            "Spain",
            "Sri Lanka",
            "Sweden",
            "Taiwan",
            "Thailand",
            "UK",
            "US",
            "United Arab Emirates",
            "Vietnam"
           ],
           "marker": {
            "color": [
             4,
             1,
             3,
             11177,
             1,
             6,
             10,
             15,
             2,
             2,
             20,
             8,
             8,
             1,
             2,
             2,
             18,
             15,
             1,
             1,
             1,
             10,
             19,
             2,
             2,
             5,
             6
            ],
            "coloraxis": "coloraxis",
            "size": [
             1.515716566510398,
             1,
             1.3903891703159093,
             16.38692912230769,
             1,
             1.711769859409705,
             1.9952623149688795,
             2.2533433808426553,
             1.2311444133449163,
             1.2311444133449163,
             2.4564560522315806,
             1.8660659830736148,
             1.8660659830736148,
             1,
             1.2311444133449163,
             1.2311444133449163,
             2.3800262745964407,
             2.2533433808426553,
             1,
             1,
             1,
             1.9952623149688795,
             2.4189454814875875,
             1.2311444133449163,
             1.2311444133449163,
             1.6206565966927624,
             1.711769859409705
            ],
            "sizemode": "area",
            "sizeref": 0.07034885314052819
           },
           "name": "",
           "showlegend": false,
           "type": "scattergeo"
          }
         ],
         "name": "02/02/2020"
        },
        {
         "data": [
          {
           "geo": "geo",
           "hoverlabel": {
            "namelength": 0
           },
           "hovertemplate": "<b>%{hovertext}</b><br><br>ObservationDate=02/03/2020<br>size=%{marker.size}<br>Country/Region=%{location}<br>Confirmed=%{marker.color}",
           "hovertext": [
            "Australia",
            "Cambodia",
            "Canada",
            "China",
            "Finland",
            "France",
            "Germany",
            "Hong Kong",
            "India",
            "Italy",
            "Japan",
            "Macau",
            "Malaysia",
            "Nepal",
            "Philippines",
            "Russia",
            "Singapore",
            "South Korea",
            "Spain",
            "Sri Lanka",
            "Sweden",
            "Taiwan",
            "Thailand",
            "UK",
            "US",
            "United Arab Emirates",
            "Vietnam"
           ],
           "legendgroup": "",
           "locationmode": "country names",
           "locations": [
            "Australia",
            "Cambodia",
            "Canada",
            "China",
            "Finland",
            "France",
            "Germany",
            "Hong Kong",
            "India",
            "Italy",
            "Japan",
            "Macau",
            "Malaysia",
            "Nepal",
            "Philippines",
            "Russia",
            "Singapore",
            "South Korea",
            "Spain",
            "Sri Lanka",
            "Sweden",
            "Taiwan",
            "Thailand",
            "UK",
            "US",
            "United Arab Emirates",
            "Vietnam"
           ],
           "marker": {
            "color": [
             4,
             1,
             3,
             13522,
             1,
             6,
             12,
             15,
             3,
             2,
             20,
             8,
             8,
             1,
             2,
             2,
             18,
             15,
             1,
             1,
             1,
             10,
             19,
             2,
             2,
             5,
             8
            ],
            "coloraxis": "coloraxis",
            "size": [
             1.515716566510398,
             1,
             1.3903891703159093,
             17.35051137974137,
             1,
             1.711769859409705,
             2.107435899344471,
             2.2533433808426553,
             1.3903891703159093,
             1.2311444133449163,
             2.4564560522315806,
             1.8660659830736148,
             1.8660659830736148,
             1,
             1.2311444133449163,
             1.2311444133449163,
             2.3800262745964407,
             2.2533433808426553,
             1,
             1,
             1,
             1.9952623149688795,
             2.4189454814875875,
             1.2311444133449163,
             1.2311444133449163,
             1.6206565966927624,
             1.8660659830736148
            ],
            "sizemode": "area",
            "sizeref": 0.07034885314052819
           },
           "name": "",
           "showlegend": false,
           "type": "scattergeo"
          }
         ],
         "name": "02/03/2020"
        },
        {
         "data": [
          {
           "geo": "geo",
           "hoverlabel": {
            "namelength": 0
           },
           "hovertemplate": "<b>%{hovertext}</b><br><br>ObservationDate=02/04/2020<br>size=%{marker.size}<br>Country/Region=%{location}<br>Confirmed=%{marker.color}",
           "hovertext": [
            "Australia",
            "Belgium",
            "Cambodia",
            "Canada",
            "China",
            "Finland",
            "France",
            "Germany",
            "Hong Kong",
            "India",
            "Italy",
            "Japan",
            "Macau",
            "Malaysia",
            "Nepal",
            "Philippines",
            "Russia",
            "Singapore",
            "South Korea",
            "Spain",
            "Sri Lanka",
            "Sweden",
            "Taiwan",
            "Thailand",
            "UK",
            "US",
            "United Arab Emirates",
            "Vietnam"
           ],
           "legendgroup": "",
           "locationmode": "country names",
           "locations": [
            "Australia",
            "Belgium",
            "Cambodia",
            "Canada",
            "China",
            "Finland",
            "France",
            "Germany",
            "Hong Kong",
            "India",
            "Italy",
            "Japan",
            "Macau",
            "Malaysia",
            "Nepal",
            "Philippines",
            "Russia",
            "Singapore",
            "South Korea",
            "Spain",
            "Sri Lanka",
            "Sweden",
            "Taiwan",
            "Thailand",
            "UK",
            "US",
            "United Arab Emirates",
            "Vietnam"
           ],
           "marker": {
            "color": [
             4,
             1,
             1,
             2,
             16678,
             1,
             6,
             12,
             17,
             3,
             2,
             22,
             10,
             10,
             1,
             2,
             2,
             24,
             16,
             1,
             1,
             1,
             11,
             25,
             2,
             2,
             5,
             8
            ],
            "coloraxis": "coloraxis",
            "size": [
             1.515716566510398,
             1,
             1,
             1.2311444133449163,
             18.47749914480911,
             1,
             1.711769859409705,
             2.107435899344471,
             2.3395626336814512,
             1.3903891703159093,
             1.2311444133449163,
             2.5277074255111027,
             1.9952623149688795,
             1.9952623149688795,
             1,
             1.2311444133449163,
             1.2311444133449163,
             2.594557933960465,
             2.2973967099940698,
             1,
             1,
             1,
             2.053136413658844,
             2.626527804403767,
             1.2311444133449163,
             1.2311444133449163,
             1.6206565966927624,
             1.8660659830736148
            ],
            "sizemode": "area",
            "sizeref": 0.07034885314052819
           },
           "name": "",
           "showlegend": false,
           "type": "scattergeo"
          }
         ],
         "name": "02/04/2020"
        },
        {
         "data": [
          {
           "geo": "geo",
           "hoverlabel": {
            "namelength": 0
           },
           "hovertemplate": "<b>%{hovertext}</b><br><br>ObservationDate=02/05/2020<br>size=%{marker.size}<br>Country/Region=%{location}<br>Confirmed=%{marker.color}",
           "hovertext": [
            "Australia",
            "Belgium",
            "Cambodia",
            "Canada",
            "China",
            "Finland",
            "France",
            "Germany",
            "Hong Kong",
            "India",
            "Italy",
            "Japan",
            "Macau",
            "Malaysia",
            "Nepal",
            "Philippines",
            "Russia",
            "Singapore",
            "South Korea",
            "Spain",
            "Sri Lanka",
            "Sweden",
            "Taiwan",
            "Thailand",
            "UK",
            "US",
            "United Arab Emirates",
            "Vietnam"
           ],
           "legendgroup": "",
           "locationmode": "country names",
           "locations": [
            "Australia",
            "Belgium",
            "Cambodia",
            "Canada",
            "China",
            "Finland",
            "France",
            "Germany",
            "Hong Kong",
            "India",
            "Italy",
            "Japan",
            "Macau",
            "Malaysia",
            "Nepal",
            "Philippines",
            "Russia",
            "Singapore",
            "South Korea",
            "Spain",
            "Sri Lanka",
            "Sweden",
            "Taiwan",
            "Thailand",
            "UK",
            "US",
            "United Arab Emirates",
            "Vietnam"
           ],
           "marker": {
            "color": [
             4,
             1,
             1,
             2,
             19665,
             1,
             6,
             12,
             21,
             3,
             2,
             22,
             10,
             12,
             1,
             2,
             2,
             28,
             19,
             1,
             1,
             1,
             11,
             25,
             2,
             2,
             5,
             8
            ],
            "coloraxis": "coloraxis",
            "size": [
             1.515716566510398,
             1,
             1,
             1.2311444133449163,
             19.413694235203177,
             1,
             1.711769859409705,
             2.107435899344471,
             2.4926757485402593,
             1.3903891703159093,
             1.2311444133449163,
             2.5277074255111027,
             1.9952623149688795,
             2.107435899344471,
             1,
             1.2311444133449163,
             1.2311444133449163,
             2.717361446466631,
             2.4189454814875875,
             1,
             1,
             1,
             2.053136413658844,
             2.626527804403767,
             1.2311444133449163,
             1.2311444133449163,
             1.6206565966927624,
             1.8660659830736148
            ],
            "sizemode": "area",
            "sizeref": 0.07034885314052819
           },
           "name": "",
           "showlegend": false,
           "type": "scattergeo"
          }
         ],
         "name": "02/05/2020"
        },
        {
         "data": [
          {
           "geo": "geo",
           "hoverlabel": {
            "namelength": 0
           },
           "hovertemplate": "<b>%{hovertext}</b><br><br>ObservationDate=02/06/2020<br>size=%{marker.size}<br>Country/Region=%{location}<br>Confirmed=%{marker.color}",
           "hovertext": [
            "Australia",
            "Belgium",
            "Cambodia",
            "Canada",
            "China",
            "Finland",
            "France",
            "Germany",
            "Hong Kong",
            "India",
            "Italy",
            "Japan",
            "Macau",
            "Malaysia",
            "Nepal",
            "Philippines",
            "Russia",
            "Singapore",
            "South Korea",
            "Spain",
            "Sri Lanka",
            "Sweden",
            "Taiwan",
            "Thailand",
            "UK",
            "US",
            "United Arab Emirates",
            "Vietnam"
           ],
           "legendgroup": "",
           "locationmode": "country names",
           "locations": [
            "Australia",
            "Belgium",
            "Cambodia",
            "Canada",
            "China",
            "Finland",
            "France",
            "Germany",
            "Hong Kong",
            "India",
            "Italy",
            "Japan",
            "Macau",
            "Malaysia",
            "Nepal",
            "Philippines",
            "Russia",
            "Singapore",
            "South Korea",
            "Spain",
            "Sri Lanka",
            "Sweden",
            "Taiwan",
            "Thailand",
            "UK",
            "US",
            "United Arab Emirates",
            "Vietnam"
           ],
           "marker": {
            "color": [
             4,
             1,
             1,
             2,
             22112,
             1,
             6,
             12,
             24,
             3,
             2,
             45,
             10,
             12,
             1,
             2,
             2,
             28,
             23,
             1,
             1,
             1,
             16,
             25,
             2,
             2,
             5,
             10
            ],
            "coloraxis": "coloraxis",
            "size": [
             1.515716566510398,
             1,
             1,
             1.2311444133449163,
             20.10890432012336,
             1,
             1.711769859409705,
             2.107435899344471,
             2.594557933960465,
             1.3903891703159093,
             1.2311444133449163,
             3.1330242337266654,
             1.9952623149688795,
             2.107435899344471,
             1,
             1.2311444133449163,
             1.2311444133449163,
             2.717361446466631,
             2.5616415021458128,
             1,
             1,
             1,
             2.2973967099940698,
             2.626527804403767,
             1.2311444133449163,
             1.2311444133449163,
             1.6206565966927624,
             1.9952623149688795
            ],
            "sizemode": "area",
            "sizeref": 0.07034885314052819
           },
           "name": "",
           "showlegend": false,
           "type": "scattergeo"
          }
         ],
         "name": "02/06/2020"
        },
        {
         "data": [
          {
           "geo": "geo",
           "hoverlabel": {
            "namelength": 0
           },
           "hovertemplate": "<b>%{hovertext}</b><br><br>ObservationDate=02/07/2020<br>size=%{marker.size}<br>Country/Region=%{location}<br>Confirmed=%{marker.color}",
           "hovertext": [
            "Australia",
            "Belgium",
            "Cambodia",
            "Canada",
            "China",
            "Finland",
            "France",
            "Germany",
            "Hong Kong",
            "India",
            "Italy",
            "Japan",
            "Macau",
            "Malaysia",
            "Nepal",
            "Others",
            "Philippines",
            "Russia",
            "Singapore",
            "South Korea",
            "Spain",
            "Sri Lanka",
            "Sweden",
            "Taiwan",
            "Thailand",
            "UK",
            "US",
            "United Arab Emirates",
            "Vietnam"
           ],
           "legendgroup": "",
           "locationmode": "country names",
           "locations": [
            "Australia",
            "Belgium",
            "Cambodia",
            "Canada",
            "China",
            "Finland",
            "France",
            "Germany",
            "Hong Kong",
            "India",
            "Italy",
            "Japan",
            "Macau",
            "Malaysia",
            "Nepal",
            "Others",
            "Philippines",
            "Russia",
            "Singapore",
            "South Korea",
            "Spain",
            "Sri Lanka",
            "Sweden",
            "Taiwan",
            "Thailand",
            "UK",
            "US",
            "United Arab Emirates",
            "Vietnam"
           ],
           "marker": {
            "color": [
             5,
             1,
             1,
             4,
             24953,
             1,
             6,
             13,
             25,
             3,
             3,
             25,
             10,
             12,
             1,
             61,
             3,
             2,
             30,
             24,
             1,
             1,
             1,
             16,
             25,
             3,
             2,
             5,
             10
            ],
            "coloraxis": "coloraxis",
            "size": [
             1.6206565966927624,
             1,
             1,
             1.515716566510398,
             20.85147731830478,
             1,
             1.711769859409705,
             2.1586538444215795,
             2.626527804403767,
             1.3903891703159093,
             1.3903891703159093,
             2.626527804403767,
             1.9952623149688795,
             2.107435899344471,
             1,
             3.432408355505487,
             1.3903891703159093,
             1.2311444133449163,
             2.774191114672181,
             2.594557933960465,
             1,
             1,
             1,
             2.2973967099940698,
             2.626527804403767,
             1.3903891703159093,
             1.2311444133449163,
             1.6206565966927624,
             1.9952623149688795
            ],
            "sizemode": "area",
            "sizeref": 0.07034885314052819
           },
           "name": "",
           "showlegend": false,
           "type": "scattergeo"
          }
         ],
         "name": "02/07/2020"
        },
        {
         "data": [
          {
           "geo": "geo",
           "hoverlabel": {
            "namelength": 0
           },
           "hovertemplate": "<b>%{hovertext}</b><br><br>ObservationDate=02/08/2020<br>size=%{marker.size}<br>Country/Region=%{location}<br>Confirmed=%{marker.color}",
           "hovertext": [
            "Australia",
            "Belgium",
            "Cambodia",
            "Canada",
            "China",
            "Finland",
            "France",
            "Germany",
            "Hong Kong",
            "India",
            "Italy",
            "Japan",
            "Macau",
            "Malaysia",
            "Nepal",
            "Others",
            "Philippines",
            "Russia",
            "Singapore",
            "South Korea",
            "Spain",
            "Sri Lanka",
            "Sweden",
            "Taiwan",
            "Thailand",
            "UK",
            "US",
            "United Arab Emirates",
            "Vietnam"
           ],
           "legendgroup": "",
           "locationmode": "country names",
           "locations": [
            "Australia",
            "Belgium",
            "Cambodia",
            "Canada",
            "China",
            "Finland",
            "France",
            "Germany",
            "Hong Kong",
            "India",
            "Italy",
            "Japan",
            "Macau",
            "Malaysia",
            "Nepal",
            "Others",
            "Philippines",
            "Russia",
            "Singapore",
            "South Korea",
            "Spain",
            "Sri Lanka",
            "Sweden",
            "Taiwan",
            "Thailand",
            "UK",
            "US",
            "United Arab Emirates",
            "Vietnam"
           ],
           "marker": {
            "color": [
             5,
             1,
             1,
             4,
             27100,
             1,
             11,
             13,
             26,
             3,
             3,
             25,
             10,
             16,
             1,
             61,
             3,
             2,
             33,
             24,
             1,
             1,
             1,
             17,
             32,
             3,
             2,
             7,
             13
            ],
            "coloraxis": "coloraxis",
            "size": [
             1.6206565966927624,
             1,
             1,
             1.515716566510398,
             21.374245203028917,
             1,
             2.053136413658844,
             2.1586538444215795,
             2.657614620905154,
             1.3903891703159093,
             1.3903891703159093,
             2.626527804403767,
             1.9952623149688795,
             2.2973967099940698,
             1,
             3.432408355505487,
             1.3903891703159093,
             1.2311444133449163,
             2.854658634732502,
             2.594557933960465,
             1,
             1,
             1,
             2.3395626336814512,
             2.82842712474619,
             1.3903891703159093,
             1.2311444133449163,
             1.792789962520997,
             2.1586538444215795
            ],
            "sizemode": "area",
            "sizeref": 0.07034885314052819
           },
           "name": "",
           "showlegend": false,
           "type": "scattergeo"
          }
         ],
         "name": "02/08/2020"
        },
        {
         "data": [
          {
           "geo": "geo",
           "hoverlabel": {
            "namelength": 0
           },
           "hovertemplate": "<b>%{hovertext}</b><br><br>ObservationDate=02/09/2020<br>size=%{marker.size}<br>Country/Region=%{location}<br>Confirmed=%{marker.color}",
           "hovertext": [
            "Australia",
            "Belgium",
            "Cambodia",
            "Canada",
            "China",
            "Finland",
            "France",
            "Germany",
            "Hong Kong",
            "India",
            "Italy",
            "Japan",
            "Macau",
            "Malaysia",
            "Nepal",
            "Others",
            "Philippines",
            "Russia",
            "Singapore",
            "South Korea",
            "Spain",
            "Sri Lanka",
            "Sweden",
            "Taiwan",
            "Thailand",
            "UK",
            "US",
            "United Arab Emirates",
            "Vietnam"
           ],
           "legendgroup": "",
           "locationmode": "country names",
           "locations": [
            "Australia",
            "Belgium",
            "Cambodia",
            "Canada",
            "China",
            "Finland",
            "France",
            "Germany",
            "Hong Kong",
            "India",
            "Italy",
            "Japan",
            "Macau",
            "Malaysia",
            "Nepal",
            "Others",
            "Philippines",
            "Russia",
            "Singapore",
            "South Korea",
            "Spain",
            "Sri Lanka",
            "Sweden",
            "Taiwan",
            "Thailand",
            "UK",
            "US",
            "United Arab Emirates",
            "Vietnam"
           ],
           "marker": {
            "color": [
             5,
             1,
             1,
             4,
             29631,
             1,
             11,
             14,
             29,
             3,
             3,
             26,
             10,
             16,
             1,
             64,
             3,
             2,
             40,
             25,
             2,
             1,
             1,
             18,
             32,
             3,
             2,
             7,
             13
            ],
            "coloraxis": "coloraxis",
            "size": [
             1.6206565966927624,
             1,
             1,
             1.515716566510398,
             21.954517277630384,
             1,
             2.053136413658844,
             2.2071833466585673,
             2.7461192933624785,
             1.3903891703159093,
             1.3903891703159093,
             2.657614620905154,
             1.9952623149688795,
             2.2973967099940698,
             1,
             3.4822022531844965,
             1.3903891703159093,
             1.2311444133449163,
             3.0242521453322184,
             2.626527804403767,
             1.2311444133449163,
             1,
             1,
             2.3800262745964407,
             2.82842712474619,
             1.3903891703159093,
             1.2311444133449163,
             1.792789962520997,
             2.1586538444215795
            ],
            "sizemode": "area",
            "sizeref": 0.07034885314052819
           },
           "name": "",
           "showlegend": false,
           "type": "scattergeo"
          }
         ],
         "name": "02/09/2020"
        },
        {
         "data": [
          {
           "geo": "geo",
           "hoverlabel": {
            "namelength": 0
           },
           "hovertemplate": "<b>%{hovertext}</b><br><br>ObservationDate=02/10/2020<br>size=%{marker.size}<br>Country/Region=%{location}<br>Confirmed=%{marker.color}",
           "hovertext": [
            "Australia",
            "Belgium",
            "Cambodia",
            "Canada",
            "China",
            "Finland",
            "France",
            "Germany",
            "Hong Kong",
            "India",
            "Italy",
            "Japan",
            "Macau",
            "Malaysia",
            "Nepal",
            "Others",
            "Philippines",
            "Russia",
            "Singapore",
            "South Korea",
            "Spain",
            "Sri Lanka",
            "Sweden",
            "Taiwan",
            "Thailand",
            "UK",
            "US",
            "United Arab Emirates",
            "Vietnam"
           ],
           "legendgroup": "",
           "locationmode": "country names",
           "locations": [
            "Australia",
            "Belgium",
            "Cambodia",
            "Canada",
            "China",
            "Finland",
            "France",
            "Germany",
            "Hong Kong",
            "India",
            "Italy",
            "Japan",
            "Macau",
            "Malaysia",
            "Nepal",
            "Others",
            "Philippines",
            "Russia",
            "Singapore",
            "South Korea",
            "Spain",
            "Sri Lanka",
            "Sweden",
            "Taiwan",
            "Thailand",
            "UK",
            "US",
            "United Arab Emirates",
            "Vietnam"
           ],
           "marker": {
            "color": [
             5,
             1,
             1,
             4,
             31728,
             1,
             11,
             14,
             38,
             3,
             3,
             26,
             10,
             18,
             1,
             135,
             3,
             2,
             45,
             27,
             2,
             1,
             1,
             18,
             32,
             8,
             2,
             8,
             14
            ],
            "coloraxis": "coloraxis",
            "size": [
             1.6206565966927624,
             1,
             1,
             1.515716566510398,
             22.409533146633887,
             1,
             2.053136413658844,
             2.2071833466585673,
             2.978071215719372,
             1.3903891703159093,
             1.3903891703159093,
             2.657614620905154,
             1.9952623149688795,
             2.3800262745964407,
             1,
             4.356122964910856,
             1.3903891703159093,
             1.2311444133449163,
             3.1330242337266654,
             2.6878753795222865,
             1.2311444133449163,
             1,
             1,
             2.3800262745964407,
             2.82842712474619,
             1.8660659830736148,
             1.2311444133449163,
             1.8660659830736148,
             2.2071833466585673
            ],
            "sizemode": "area",
            "sizeref": 0.07034885314052819
           },
           "name": "",
           "showlegend": false,
           "type": "scattergeo"
          }
         ],
         "name": "02/10/2020"
        },
        {
         "data": [
          {
           "geo": "geo",
           "hoverlabel": {
            "namelength": 0
           },
           "hovertemplate": "<b>%{hovertext}</b><br><br>ObservationDate=02/11/2020<br>size=%{marker.size}<br>Country/Region=%{location}<br>Confirmed=%{marker.color}",
           "hovertext": [
            "Australia",
            "Belgium",
            "Cambodia",
            "Canada",
            "China",
            "Finland",
            "France",
            "Germany",
            "Hong Kong",
            "India",
            "Italy",
            "Japan",
            "Macau",
            "Malaysia",
            "Nepal",
            "Others",
            "Philippines",
            "Russia",
            "Singapore",
            "South Korea",
            "Spain",
            "Sri Lanka",
            "Sweden",
            "Taiwan",
            "Thailand",
            "UK",
            "US",
            "United Arab Emirates",
            "Vietnam"
           ],
           "legendgroup": "",
           "locationmode": "country names",
           "locations": [
            "Australia",
            "Belgium",
            "Cambodia",
            "Canada",
            "China",
            "Finland",
            "France",
            "Germany",
            "Hong Kong",
            "India",
            "Italy",
            "Japan",
            "Macau",
            "Malaysia",
            "Nepal",
            "Others",
            "Philippines",
            "Russia",
            "Singapore",
            "South Korea",
            "Spain",
            "Sri Lanka",
            "Sweden",
            "Taiwan",
            "Thailand",
            "UK",
            "US",
            "United Arab Emirates",
            "Vietnam"
           ],
           "marker": {
            "color": [
             5,
             1,
             1,
             4,
             33366,
             1,
             11,
             16,
             49,
             3,
             3,
             26,
             10,
             18,
             1,
             135,
             3,
             2,
             47,
             28,
             2,
             1,
             1,
             18,
             33,
             8,
             2,
             8,
             15
            ],
            "coloraxis": "coloraxis",
            "size": [
             1.6206565966927624,
             1,
             1,
             1.515716566510398,
             22.750515601098417,
             1,
             2.053136413658844,
             2.2973967099940698,
             3.2140958497160383,
             1.3903891703159093,
             1.3903891703159093,
             2.657614620905154,
             1.9952623149688795,
             2.3800262745964407,
             1,
             4.356122964910856,
             1.3903891703159093,
             1.2311444133449163,
             3.174163968024659,
             2.717361446466631,
             1.2311444133449163,
             1,
             1,
             2.3800262745964407,
             2.854658634732502,
             1.8660659830736148,
             1.2311444133449163,
             1.8660659830736148,
             2.2533433808426553
            ],
            "sizemode": "area",
            "sizeref": 0.07034885314052819
           },
           "name": "",
           "showlegend": false,
           "type": "scattergeo"
          }
         ],
         "name": "02/11/2020"
        },
        {
         "data": [
          {
           "geo": "geo",
           "hoverlabel": {
            "namelength": 0
           },
           "hovertemplate": "<b>%{hovertext}</b><br><br>ObservationDate=02/12/2020<br>size=%{marker.size}<br>Country/Region=%{location}<br>Confirmed=%{marker.color}",
           "hovertext": [
            "Australia",
            "Belgium",
            "Cambodia",
            "Canada",
            "China",
            "Finland",
            "France",
            "Germany",
            "Hong Kong",
            "India",
            "Italy",
            "Japan",
            "Macau",
            "Malaysia",
            "Nepal",
            "Others",
            "Philippines",
            "Russia",
            "Singapore",
            "South Korea",
            "Spain",
            "Sri Lanka",
            "Sweden",
            "Taiwan",
            "Thailand",
            "UK",
            "US",
            "United Arab Emirates",
            "Vietnam"
           ],
           "legendgroup": "",
           "locationmode": "country names",
           "locations": [
            "Australia",
            "Belgium",
            "Cambodia",
            "Canada",
            "China",
            "Finland",
            "France",
            "Germany",
            "Hong Kong",
            "India",
            "Italy",
            "Japan",
            "Macau",
            "Malaysia",
            "Nepal",
            "Others",
            "Philippines",
            "Russia",
            "Singapore",
            "South Korea",
            "Spain",
            "Sri Lanka",
            "Sweden",
            "Taiwan",
            "Thailand",
            "UK",
            "US",
            "United Arab Emirates",
            "Vietnam"
           ],
           "marker": {
            "color": [
             5,
             1,
             1,
             4,
             33366,
             1,
             11,
             16,
             50,
             3,
             3,
             28,
             10,
             18,
             1,
             175,
             3,
             2,
             50,
             28,
             2,
             1,
             1,
             18,
             33,
             9,
             2,
             8,
             15
            ],
            "coloraxis": "coloraxis",
            "size": [
             1.6206565966927624,
             1,
             1,
             1.515716566510398,
             22.750515601098417,
             1,
             2.053136413658844,
             2.2973967099940698,
             3.233635032886787,
             1.3903891703159093,
             1.3903891703159093,
             2.717361446466631,
             1.9952623149688795,
             2.3800262745964407,
             1,
             4.708812684017387,
             1.3903891703159093,
             1.2311444133449163,
             3.233635032886787,
             2.717361446466631,
             1.2311444133449163,
             1,
             1,
             2.3800262745964407,
             2.854658634732502,
             1.9331820449317627,
             1.2311444133449163,
             1.8660659830736148,
             2.2533433808426553
            ],
            "sizemode": "area",
            "sizeref": 0.07034885314052819
           },
           "name": "",
           "showlegend": false,
           "type": "scattergeo"
          }
         ],
         "name": "02/12/2020"
        },
        {
         "data": [
          {
           "geo": "geo",
           "hoverlabel": {
            "namelength": 0
           },
           "hovertemplate": "<b>%{hovertext}</b><br><br>ObservationDate=02/13/2020<br>size=%{marker.size}<br>Country/Region=%{location}<br>Confirmed=%{marker.color}",
           "hovertext": [
            "Australia",
            "Belgium",
            "Cambodia",
            "Canada",
            "China",
            "Finland",
            "France",
            "Germany",
            "Hong Kong",
            "India",
            "Italy",
            "Japan",
            "Macau",
            "Malaysia",
            "Nepal",
            "Others",
            "Philippines",
            "Russia",
            "Singapore",
            "South Korea",
            "Spain",
            "Sri Lanka",
            "Sweden",
            "Taiwan",
            "Thailand",
            "UK",
            "US",
            "United Arab Emirates",
            "Vietnam"
           ],
           "legendgroup": "",
           "locationmode": "country names",
           "locations": [
            "Australia",
            "Belgium",
            "Cambodia",
            "Canada",
            "China",
            "Finland",
            "France",
            "Germany",
            "Hong Kong",
            "India",
            "Italy",
            "Japan",
            "Macau",
            "Malaysia",
            "Nepal",
            "Others",
            "Philippines",
            "Russia",
            "Singapore",
            "South Korea",
            "Spain",
            "Sri Lanka",
            "Sweden",
            "Taiwan",
            "Thailand",
            "UK",
            "US",
            "United Arab Emirates",
            "Vietnam"
           ],
           "marker": {
            "color": [
             5,
             1,
             1,
             4,
             48206,
             1,
             11,
             16,
             53,
             3,
             3,
             28,
             10,
             19,
             1,
             175,
             3,
             2,
             58,
             28,
             2,
             1,
             1,
             18,
             33,
             9,
             2,
             8,
             16
            ],
            "coloraxis": "coloraxis",
            "size": [
             1.6206565966927624,
             1,
             1,
             1.515716566510398,
             25.405651063296247,
             1,
             2.053136413658844,
             2.2973967099940698,
             3.2906580963691905,
             1.3903891703159093,
             1.3903891703159093,
             2.717361446466631,
             1.9952623149688795,
             2.4189454814875875,
             1,
             4.708812684017387,
             1.3903891703159093,
             1.2311444133449163,
             3.380869426401905,
             2.717361446466631,
             1.2311444133449163,
             1,
             1,
             2.3800262745964407,
             2.854658634732502,
             1.9331820449317627,
             1.2311444133449163,
             1.8660659830736148,
             2.2973967099940698
            ],
            "sizemode": "area",
            "sizeref": 0.07034885314052819
           },
           "name": "",
           "showlegend": false,
           "type": "scattergeo"
          }
         ],
         "name": "02/13/2020"
        },
        {
         "data": [
          {
           "geo": "geo",
           "hoverlabel": {
            "namelength": 0
           },
           "hovertemplate": "<b>%{hovertext}</b><br><br>ObservationDate=02/14/2020<br>size=%{marker.size}<br>Country/Region=%{location}<br>Confirmed=%{marker.color}",
           "hovertext": [
            "Australia",
            "Belgium",
            "Cambodia",
            "Canada",
            "China",
            "Egypt",
            "Finland",
            "France",
            "Germany",
            "Hong Kong",
            "India",
            "Italy",
            "Japan",
            "Macau",
            "Malaysia",
            "Nepal",
            "Others",
            "Philippines",
            "Russia",
            "Singapore",
            "South Korea",
            "Spain",
            "Sri Lanka",
            "Sweden",
            "Taiwan",
            "Thailand",
            "UK",
            "US",
            "United Arab Emirates",
            "Vietnam"
           ],
           "legendgroup": "",
           "locationmode": "country names",
           "locations": [
            "Australia",
            "Belgium",
            "Cambodia",
            "Canada",
            "China",
            "Egypt",
            "Finland",
            "France",
            "Germany",
            "Hong Kong",
            "India",
            "Italy",
            "Japan",
            "Macau",
            "Malaysia",
            "Nepal",
            "Others",
            "Philippines",
            "Russia",
            "Singapore",
            "South Korea",
            "Spain",
            "Sri Lanka",
            "Sweden",
            "Taiwan",
            "Thailand",
            "UK",
            "US",
            "United Arab Emirates",
            "Vietnam"
           ],
           "marker": {
            "color": [
             5,
             1,
             1,
             4,
             54406,
             1,
             1,
             11,
             16,
             56,
             3,
             3,
             29,
             10,
             19,
             1,
             218,
             3,
             2,
             67,
             28,
             2,
             1,
             1,
             18,
             33,
             9,
             2,
             8,
             16
            ],
            "coloraxis": "coloraxis",
            "size": [
             1.6206565966927624,
             1,
             1,
             1.515716566510398,
             26.34474742122814,
             1,
             1,
             2.053136413658844,
             2.2973967099940698,
             3.345464363856254,
             1.3903891703159093,
             1.3903891703159093,
             2.7461192933624785,
             1.9952623149688795,
             2.4189454814875875,
             1,
             5.029640542511664,
             1.3903891703159093,
             1.2311444133449163,
             3.5303880208226968,
             2.717361446466631,
             1.2311444133449163,
             1,
             1,
             2.3800262745964407,
             2.854658634732502,
             1.9331820449317627,
             1.2311444133449163,
             1.8660659830736148,
             2.2973967099940698
            ],
            "sizemode": "area",
            "sizeref": 0.07034885314052819
           },
           "name": "",
           "showlegend": false,
           "type": "scattergeo"
          }
         ],
         "name": "02/14/2020"
        },
        {
         "data": [
          {
           "geo": "geo",
           "hoverlabel": {
            "namelength": 0
           },
           "hovertemplate": "<b>%{hovertext}</b><br><br>ObservationDate=02/15/2020<br>size=%{marker.size}<br>Country/Region=%{location}<br>Confirmed=%{marker.color}",
           "hovertext": [
            "Australia",
            "Belgium",
            "Cambodia",
            "Canada",
            "China",
            "Egypt",
            "Finland",
            "France",
            "Germany",
            "Hong Kong",
            "India",
            "Italy",
            "Japan",
            "Macau",
            "Malaysia",
            "Nepal",
            "Others",
            "Philippines",
            "Russia",
            "Singapore",
            "South Korea",
            "Spain",
            "Sri Lanka",
            "Sweden",
            "Taiwan",
            "Thailand",
            "UK",
            "US",
            "United Arab Emirates",
            "Vietnam"
           ],
           "legendgroup": "",
           "locationmode": "country names",
           "locations": [
            "Australia",
            "Belgium",
            "Cambodia",
            "Canada",
            "China",
            "Egypt",
            "Finland",
            "France",
            "Germany",
            "Hong Kong",
            "India",
            "Italy",
            "Japan",
            "Macau",
            "Malaysia",
            "Nepal",
            "Others",
            "Philippines",
            "Russia",
            "Singapore",
            "South Korea",
            "Spain",
            "Sri Lanka",
            "Sweden",
            "Taiwan",
            "Thailand",
            "UK",
            "US",
            "United Arab Emirates",
            "Vietnam"
           ],
           "marker": {
            "color": [
             5,
             1,
             1,
             4,
             56249,
             1,
             1,
             12,
             16,
             56,
             3,
             3,
             43,
             10,
             22,
             1,
             285,
             3,
             2,
             72,
             28,
             2,
             1,
             1,
             18,
             33,
             9,
             2,
             8,
             16
            ],
            "coloraxis": "coloraxis",
            "size": [
             1.6206565966927624,
             1,
             1,
             1.515716566510398,
             26.60936077293537,
             1,
             1,
             2.107435899344471,
             2.2973967099940698,
             3.345464363856254,
             1.3903891703159093,
             1.3903891703159093,
             3.0905838914967028,
             1.9952623149688795,
             2.5277074255111027,
             1,
             5.450714789329305,
             1.3903891703159093,
             1.2311444133449163,
             3.6074452531358507,
             2.717361446466631,
             1.2311444133449163,
             1,
             1,
             2.3800262745964407,
             2.854658634732502,
             1.9331820449317627,
             1.2311444133449163,
             1.8660659830736148,
             2.2973967099940698
            ],
            "sizemode": "area",
            "sizeref": 0.07034885314052819
           },
           "name": "",
           "showlegend": false,
           "type": "scattergeo"
          }
         ],
         "name": "02/15/2020"
        },
        {
         "data": [
          {
           "geo": "geo",
           "hoverlabel": {
            "namelength": 0
           },
           "hovertemplate": "<b>%{hovertext}</b><br><br>ObservationDate=02/16/2020<br>size=%{marker.size}<br>Country/Region=%{location}<br>Confirmed=%{marker.color}",
           "hovertext": [
            "Australia",
            "Belgium",
            "Cambodia",
            "Canada",
            "China",
            "Egypt",
            "Finland",
            "France",
            "Germany",
            "Hong Kong",
            "India",
            "Italy",
            "Japan",
            "Macau",
            "Malaysia",
            "Nepal",
            "Others",
            "Philippines",
            "Russia",
            "Singapore",
            "South Korea",
            "Spain",
            "Sri Lanka",
            "Sweden",
            "Taiwan",
            "Thailand",
            "UK",
            "US",
            "United Arab Emirates",
            "Vietnam"
           ],
           "legendgroup": "",
           "locationmode": "country names",
           "locations": [
            "Australia",
            "Belgium",
            "Cambodia",
            "Canada",
            "China",
            "Egypt",
            "Finland",
            "France",
            "Germany",
            "Hong Kong",
            "India",
            "Italy",
            "Japan",
            "Macau",
            "Malaysia",
            "Nepal",
            "Others",
            "Philippines",
            "Russia",
            "Singapore",
            "South Korea",
            "Spain",
            "Sri Lanka",
            "Sweden",
            "Taiwan",
            "Thailand",
            "UK",
            "US",
            "United Arab Emirates",
            "Vietnam"
           ],
           "marker": {
            "color": [
             5,
             1,
             1,
             4,
             58182,
             1,
             1,
             12,
             16,
             57,
             3,
             3,
             59,
             10,
             22,
             1,
             355,
             3,
             2,
             75,
             29,
             2,
             1,
             1,
             20,
             34,
             9,
             2,
             9,
             16
            ],
            "coloraxis": "coloraxis",
            "size": [
             1.6206565966927624,
             1,
             1,
             1.515716566510398,
             26.88045364696587,
             1,
             1,
             2.107435899344471,
             2.2973967099940698,
             3.3632756010449447,
             1.3903891703159093,
             1.3903891703159093,
             3.3982521746716885,
             1.9952623149688795,
             2.5277074255111027,
             1,
             5.821950463835482,
             1.3903891703159093,
             1.2311444133449163,
             3.651895814776621,
             2.7461192933624785,
             1.2311444133449163,
             1,
             1,
             2.4564560522315806,
             2.8803394661274377,
             1.9331820449317627,
             1.2311444133449163,
             1.9331820449317627,
             2.2973967099940698
            ],
            "sizemode": "area",
            "sizeref": 0.07034885314052819
           },
           "name": "",
           "showlegend": false,
           "type": "scattergeo"
          }
         ],
         "name": "02/16/2020"
        },
        {
         "data": [
          {
           "geo": "geo",
           "hoverlabel": {
            "namelength": 0
           },
           "hovertemplate": "<b>%{hovertext}</b><br><br>ObservationDate=02/17/2020<br>size=%{marker.size}<br>Country/Region=%{location}<br>Confirmed=%{marker.color}",
           "hovertext": [
            "Australia",
            "Belgium",
            "Cambodia",
            "Canada",
            "China",
            "Egypt",
            "Finland",
            "France",
            "Germany",
            "Hong Kong",
            "India",
            "Italy",
            "Japan",
            "Macau",
            "Malaysia",
            "Nepal",
            "Others",
            "Philippines",
            "Russia",
            "Singapore",
            "South Korea",
            "Spain",
            "Sri Lanka",
            "Sweden",
            "Taiwan",
            "Thailand",
            "UK",
            "US",
            "United Arab Emirates",
            "Vietnam"
           ],
           "legendgroup": "",
           "locationmode": "country names",
           "locations": [
            "Australia",
            "Belgium",
            "Cambodia",
            "Canada",
            "China",
            "Egypt",
            "Finland",
            "France",
            "Germany",
            "Hong Kong",
            "India",
            "Italy",
            "Japan",
            "Macau",
            "Malaysia",
            "Nepal",
            "Others",
            "Philippines",
            "Russia",
            "Singapore",
            "South Korea",
            "Spain",
            "Sri Lanka",
            "Sweden",
            "Taiwan",
            "Thailand",
            "UK",
            "US",
            "United Arab Emirates",
            "Vietnam"
           ],
           "marker": {
            "color": [
             5,
             1,
             1,
             5,
             59989,
             1,
             1,
             12,
             16,
             60,
             3,
             3,
             66,
             10,
             22,
             1,
             454,
             3,
             2,
             77,
             30,
             2,
             1,
             1,
             22,
             35,
             9,
             2,
             9,
             16
            ],
            "coloraxis": "coloraxis",
            "size": [
             1.6206565966927624,
             1,
             1,
             1.6206565966927624,
             27.128231741811838,
             1,
             1,
             2.107435899344471,
             2.2973967099940698,
             3.4154298923797617,
             1.3903891703159093,
             1.3903891703159093,
             3.5144970301577456,
             1.9952623149688795,
             2.5277074255111027,
             1,
             6.267823463756063,
             1.3903891703159093,
             1.2311444133449163,
             3.6808423540939335,
             2.774191114672181,
             1.2311444133449163,
             1,
             1,
             2.5277074255111027,
             2.9054968792442244,
             1.9331820449317627,
             1.2311444133449163,
             1.9331820449317627,
             2.2973967099940698
            ],
            "sizemode": "area",
            "sizeref": 0.07034885314052819
           },
           "name": "",
           "showlegend": false,
           "type": "scattergeo"
          }
         ],
         "name": "02/17/2020"
        },
        {
         "data": [
          {
           "geo": "geo",
           "hoverlabel": {
            "namelength": 0
           },
           "hovertemplate": "<b>%{hovertext}</b><br><br>ObservationDate=02/18/2020<br>size=%{marker.size}<br>Country/Region=%{location}<br>Confirmed=%{marker.color}",
           "hovertext": [
            "Australia",
            "Belgium",
            "Cambodia",
            "Canada",
            "China",
            "Egypt",
            "Finland",
            "France",
            "Germany",
            "Hong Kong",
            "India",
            "Italy",
            "Japan",
            "Macau",
            "Malaysia",
            "Nepal",
            "Others",
            "Philippines",
            "Russia",
            "Singapore",
            "South Korea",
            "Spain",
            "Sri Lanka",
            "Sweden",
            "Taiwan",
            "Thailand",
            "UK",
            "US",
            "United Arab Emirates",
            "Vietnam"
           ],
           "legendgroup": "",
           "locationmode": "country names",
           "locations": [
            "Australia",
            "Belgium",
            "Cambodia",
            "Canada",
            "China",
            "Egypt",
            "Finland",
            "France",
            "Germany",
            "Hong Kong",
            "India",
            "Italy",
            "Japan",
            "Macau",
            "Malaysia",
            "Nepal",
            "Others",
            "Philippines",
            "Russia",
            "Singapore",
            "South Korea",
            "Spain",
            "Sri Lanka",
            "Sweden",
            "Taiwan",
            "Thailand",
            "UK",
            "US",
            "United Arab Emirates",
            "Vietnam"
           ],
           "marker": {
            "color": [
             5,
             1,
             1,
             5,
             61682,
             1,
             1,
             12,
             16,
             62,
             3,
             3,
             74,
             10,
             22,
             1,
             542,
             3,
             2,
             81,
             31,
             2,
             1,
             1,
             22,
             35,
             9,
             2,
             9,
             16
            ],
            "coloraxis": "coloraxis",
            "size": [
             1.6206565966927624,
             1,
             1,
             1.6206565966927624,
             27.355681214293856,
             1,
             1,
             2.107435899344471,
             2.2973967099940698,
             3.449193085800954,
             1.3903891703159093,
             1.3903891703159093,
             3.6372195430613803,
             1.9952623149688795,
             2.5277074255111027,
             1,
             6.609974528865531,
             1.3903891703159093,
             1.2311444133449163,
             3.7371928188465517,
             2.8016153494371836,
             1.2311444133449163,
             1,
             1,
             2.5277074255111027,
             2.9054968792442244,
             1.9331820449317627,
             1.2311444133449163,
             1.9331820449317627,
             2.2973967099940698
            ],
            "sizemode": "area",
            "sizeref": 0.07034885314052819
           },
           "name": "",
           "showlegend": false,
           "type": "scattergeo"
          }
         ],
         "name": "02/18/2020"
        },
        {
         "data": [
          {
           "geo": "geo",
           "hoverlabel": {
            "namelength": 0
           },
           "hovertemplate": "<b>%{hovertext}</b><br><br>ObservationDate=02/19/2020<br>size=%{marker.size}<br>Country/Region=%{location}<br>Confirmed=%{marker.color}",
           "hovertext": [
            "Australia",
            "Belgium",
            "Cambodia",
            "Canada",
            "China",
            "Egypt",
            "Finland",
            "France",
            "Germany",
            "Hong Kong",
            "India",
            "Iran",
            "Italy",
            "Japan",
            "Macau",
            "Malaysia",
            "Nepal",
            "Others",
            "Philippines",
            "Russia",
            "Singapore",
            "South Korea",
            "Spain",
            "Sri Lanka",
            "Sweden",
            "Taiwan",
            "Thailand",
            "UK",
            "US",
            "United Arab Emirates",
            "Vietnam"
           ],
           "legendgroup": "",
           "locationmode": "country names",
           "locations": [
            "Australia",
            "Belgium",
            "Cambodia",
            "Canada",
            "China",
            "Egypt",
            "Finland",
            "France",
            "Germany",
            "Hong Kong",
            "India",
            "Iran",
            "Italy",
            "Japan",
            "Macau",
            "Malaysia",
            "Nepal",
            "Others",
            "Philippines",
            "Russia",
            "Singapore",
            "South Korea",
            "Spain",
            "Sri Lanka",
            "Sweden",
            "Taiwan",
            "Thailand",
            "UK",
            "US",
            "United Arab Emirates",
            "Vietnam"
           ],
           "marker": {
            "color": [
             5,
             1,
             1,
             5,
             62031,
             1,
             1,
             12,
             16,
             63,
             3,
             2,
             3,
             84,
             10,
             22,
             1,
             621,
             3,
             2,
             84,
             31,
             2,
             1,
             1,
             23,
             35,
             9,
             2,
             9,
             16
            ],
            "coloraxis": "coloraxis",
            "size": [
             1.6206565966927624,
             1,
             1,
             1.6206565966927624,
             27.402023518865736,
             1,
             1,
             2.107435899344471,
             2.2973967099940698,
             3.4657893658794796,
             1.3903891703159093,
             1.2311444133449163,
             1.3903891703159093,
             3.7781899270011783,
             1.9952623149688795,
             2.5277074255111027,
             1,
             6.885373124780216,
             1.3903891703159093,
             1.2311444133449163,
             3.7781899270011783,
             2.8016153494371836,
             1.2311444133449163,
             1,
             1,
             2.5616415021458128,
             2.9054968792442244,
             1.9331820449317627,
             1.2311444133449163,
             1.9331820449317627,
             2.2973967099940698
            ],
            "sizemode": "area",
            "sizeref": 0.07034885314052819
           },
           "name": "",
           "showlegend": false,
           "type": "scattergeo"
          }
         ],
         "name": "02/19/2020"
        },
        {
         "data": [
          {
           "geo": "geo",
           "hoverlabel": {
            "namelength": 0
           },
           "hovertemplate": "<b>%{hovertext}</b><br><br>ObservationDate=02/20/2020<br>size=%{marker.size}<br>Country/Region=%{location}<br>Confirmed=%{marker.color}",
           "hovertext": [
            "Australia",
            "Belgium",
            "Cambodia",
            "Canada",
            "China",
            "Egypt",
            "Finland",
            "France",
            "Germany",
            "Hong Kong",
            "India",
            "Iran",
            "Italy",
            "Japan",
            "Macau",
            "Malaysia",
            "Nepal",
            "Others",
            "Philippines",
            "Russia",
            "Singapore",
            "South Korea",
            "Spain",
            "Sri Lanka",
            "Sweden",
            "Taiwan",
            "Thailand",
            "UK",
            "US",
            "United Arab Emirates",
            "Vietnam"
           ],
           "legendgroup": "",
           "locationmode": "country names",
           "locations": [
            "Australia",
            "Belgium",
            "Cambodia",
            "Canada",
            "China",
            "Egypt",
            "Finland",
            "France",
            "Germany",
            "Hong Kong",
            "India",
            "Iran",
            "Italy",
            "Japan",
            "Macau",
            "Malaysia",
            "Nepal",
            "Others",
            "Philippines",
            "Russia",
            "Singapore",
            "South Korea",
            "Spain",
            "Sri Lanka",
            "Sweden",
            "Taiwan",
            "Thailand",
            "UK",
            "US",
            "United Arab Emirates",
            "Vietnam"
           ],
           "marker": {
            "color": [
             5,
             1,
             1,
             5,
             62442,
             1,
             1,
             12,
             16,
             68,
             3,
             5,
             3,
             94,
             10,
             22,
             1,
             634,
             3,
             2,
             84,
             104,
             2,
             1,
             1,
             24,
             35,
             9,
             2,
             9,
             16
            ],
            "coloraxis": "coloraxis",
            "size": [
             1.6206565966927624,
             1,
             1,
             1.6206565966927624,
             27.456365116550014,
             1,
             1,
             2.107435899344471,
             2.2973967099940698,
             3.5461138422596736,
             1.3903891703159093,
             1.6206565966927624,
             1.3903891703159093,
             3.9078542362742903,
             1.9952623149688795,
             2.5277074255111027,
             1,
             6.928301478971513,
             1.3903891703159093,
             1.2311444133449163,
             3.7781899270011783,
             4.028190508306193,
             1.2311444133449163,
             1,
             1,
             2.594557933960465,
             2.9054968792442244,
             1.9331820449317627,
             1.2311444133449163,
             1.9331820449317627,
             2.2973967099940698
            ],
            "sizemode": "area",
            "sizeref": 0.07034885314052819
           },
           "name": "",
           "showlegend": false,
           "type": "scattergeo"
          }
         ],
         "name": "02/20/2020"
        },
        {
         "data": [
          {
           "geo": "geo",
           "hoverlabel": {
            "namelength": 0
           },
           "hovertemplate": "<b>%{hovertext}</b><br><br>ObservationDate=02/21/2020<br>size=%{marker.size}<br>Country/Region=%{location}<br>Confirmed=%{marker.color}",
           "hovertext": [
            "Australia",
            "Belgium",
            "Cambodia",
            "Canada",
            "China",
            "Egypt",
            "Finland",
            "France",
            "Germany",
            "Hong Kong",
            "India",
            "Iran",
            "Israel",
            "Italy",
            "Japan",
            "Lebanon",
            "Macau",
            "Malaysia",
            "Nepal",
            "Others",
            "Philippines",
            "Russia",
            "Singapore",
            "South Korea",
            "Spain",
            "Sri Lanka",
            "Sweden",
            "Taiwan",
            "Thailand",
            "UK",
            "US",
            "United Arab Emirates",
            "Vietnam"
           ],
           "legendgroup": "",
           "locationmode": "country names",
           "locations": [
            "Australia",
            "Belgium",
            "Cambodia",
            "Canada",
            "China",
            "Egypt",
            "Finland",
            "France",
            "Germany",
            "Hong Kong",
            "India",
            "Iran",
            "Israel",
            "Italy",
            "Japan",
            "Lebanon",
            "Macau",
            "Malaysia",
            "Nepal",
            "Others",
            "Philippines",
            "Russia",
            "Singapore",
            "South Korea",
            "Spain",
            "Sri Lanka",
            "Sweden",
            "Taiwan",
            "Thailand",
            "UK",
            "US",
            "United Arab Emirates",
            "Vietnam"
           ],
           "marker": {
            "color": [
             5,
             1,
             1,
             6,
             62662,
             1,
             1,
             12,
             16,
             68,
             3,
             18,
             1,
             20,
             105,
             1,
             10,
             22,
             1,
             634,
             3,
             2,
             85,
             204,
             2,
             1,
             1,
             26,
             35,
             9,
             11,
             9,
             16
            ],
            "coloraxis": "coloraxis",
            "size": [
             1.6206565966927624,
             1,
             1,
             1.711769859409705,
             27.485350253843325,
             1,
             1,
             2.107435899344471,
             2.2973967099940698,
             3.5461138422596736,
             1.3903891703159093,
             2.3800262745964407,
             1,
             2.4564560522315806,
             4.039771395287841,
             1,
             1.9952623149688795,
             2.5277074255111027,
             1,
             6.928301478971513,
             1.3903891703159093,
             1.2311444133449163,
             3.791627615651737,
             4.930478282985189,
             1.2311444133449163,
             1,
             1,
             2.657614620905154,
             2.9054968792442244,
             1.9331820449317627,
             2.053136413658844,
             1.9331820449317627,
             2.2973967099940698
            ],
            "sizemode": "area",
            "sizeref": 0.07034885314052819
           },
           "name": "",
           "showlegend": false,
           "type": "scattergeo"
          }
         ],
         "name": "02/21/2020"
        },
        {
         "data": [
          {
           "geo": "geo",
           "hoverlabel": {
            "namelength": 0
           },
           "hovertemplate": "<b>%{hovertext}</b><br><br>ObservationDate=02/22/2020<br>size=%{marker.size}<br>Country/Region=%{location}<br>Confirmed=%{marker.color}",
           "hovertext": [
            "Australia",
            "Belgium",
            "Cambodia",
            "Canada",
            "China",
            "Egypt",
            "Finland",
            "France",
            "Germany",
            "Hong Kong",
            "India",
            "Iran",
            "Israel",
            "Italy",
            "Japan",
            "Lebanon",
            "Macau",
            "Malaysia",
            "Nepal",
            "Others",
            "Philippines",
            "Russia",
            "Singapore",
            "South Korea",
            "Spain",
            "Sri Lanka",
            "Sweden",
            "Taiwan",
            "Thailand",
            "UK",
            "US",
            "United Arab Emirates",
            "Vietnam"
           ],
           "legendgroup": "",
           "locationmode": "country names",
           "locations": [
            "Australia",
            "Belgium",
            "Cambodia",
            "Canada",
            "China",
            "Egypt",
            "Finland",
            "France",
            "Germany",
            "Hong Kong",
            "India",
            "Iran",
            "Israel",
            "Italy",
            "Japan",
            "Lebanon",
            "Macau",
            "Malaysia",
            "Nepal",
            "Others",
            "Philippines",
            "Russia",
            "Singapore",
            "South Korea",
            "Spain",
            "Sri Lanka",
            "Sweden",
            "Taiwan",
            "Thailand",
            "UK",
            "US",
            "United Arab Emirates",
            "Vietnam"
           ],
           "marker": {
            "color": [
             7,
             1,
             1,
             6,
             64084,
             1,
             1,
             12,
             16,
             69,
             3,
             28,
             1,
             62,
             122,
             1,
             10,
             22,
             1,
             634,
             3,
             2,
             85,
             433,
             2,
             1,
             1,
             26,
             35,
             9,
             11,
             13,
             16
            ],
            "coloraxis": "coloraxis",
            "size": [
             1.792789962520997,
             1,
             1,
             1.711769859409705,
             27.671001858387733,
             1,
             1,
             2.107435899344471,
             2.2973967099940698,
             3.561678602815316,
             1.3903891703159093,
             2.717361446466631,
             1,
             3.449193085800954,
             4.2257903711989915,
             1,
             1.9952623149688795,
             2.5277074255111027,
             1,
             6.928301478971513,
             1.3903891703159093,
             1.2311444133449163,
             3.791627615651737,
             6.179400859079236,
             1.2311444133449163,
             1,
             1,
             2.657614620905154,
             2.9054968792442244,
             1.9331820449317627,
             2.053136413658844,
             2.1586538444215795,
             2.2973967099940698
            ],
            "sizemode": "area",
            "sizeref": 0.07034885314052819
           },
           "name": "",
           "showlegend": false,
           "type": "scattergeo"
          }
         ],
         "name": "02/22/2020"
        },
        {
         "data": [
          {
           "geo": "geo",
           "hoverlabel": {
            "namelength": 0
           },
           "hovertemplate": "<b>%{hovertext}</b><br><br>ObservationDate=02/23/2020<br>size=%{marker.size}<br>Country/Region=%{location}<br>Confirmed=%{marker.color}",
           "hovertext": [
            "Australia",
            "Belgium",
            "Cambodia",
            "Canada",
            "China",
            "Egypt",
            "Finland",
            "France",
            "Germany",
            "Hong Kong",
            "India",
            "Iran",
            "Iraq",
            "Israel",
            "Italy",
            "Japan",
            "Lebanon",
            "Macau",
            "Malaysia",
            "Nepal",
            "Others",
            "Philippines",
            "Russia",
            "Singapore",
            "South Korea",
            "Spain",
            "Sri Lanka",
            "Sweden",
            "Taiwan",
            "Thailand",
            "UK",
            "US",
            "United Arab Emirates",
            "Vietnam"
           ],
           "legendgroup": "",
           "locationmode": "country names",
           "locations": [
            "Australia",
            "Belgium",
            "Cambodia",
            "Canada",
            "China",
            "Egypt",
            "Finland",
            "France",
            "Germany",
            "Hong Kong",
            "India",
            "Iran",
            "Iraq",
            "Israel",
            "Italy",
            "Japan",
            "Lebanon",
            "Macau",
            "Malaysia",
            "Nepal",
            "Others",
            "Philippines",
            "Russia",
            "Singapore",
            "South Korea",
            "Spain",
            "Sri Lanka",
            "Sweden",
            "Taiwan",
            "Thailand",
            "UK",
            "US",
            "United Arab Emirates",
            "Vietnam"
           ],
           "marker": {
            "color": [
             7,
             1,
             1,
             6,
             64084,
             1,
             1,
             12,
             16,
             74,
             3,
             43,
             0,
             1,
             155,
             147,
             1,
             10,
             22,
             1,
             691,
             3,
             2,
             89,
             602,
             2,
             1,
             1,
             28,
             35,
             9,
             11,
             13,
             16
            ],
            "coloraxis": "coloraxis",
            "size": [
             1.792789962520997,
             1,
             1,
             1.711769859409705,
             27.671001858387733,
             1,
             1,
             2.107435899344471,
             2.2973967099940698,
             3.6372195430613803,
             1.3903891703159093,
             3.0905838914967028,
             0,
             1,
             4.54045639746107,
             4.46884406180249,
             1,
             1.9952623149688795,
             2.5277074255111027,
             1,
             7.109571303495345,
             1.3903891703159093,
             1.2311444133449163,
             3.8442976132762077,
             6.821485296762751,
             1.2311444133449163,
             1,
             1,
             2.717361446466631,
             2.9054968792442244,
             1.9331820449317627,
             2.053136413658844,
             2.1586538444215795,
             2.2973967099940698
            ],
            "sizemode": "area",
            "sizeref": 0.07034885314052819
           },
           "name": "",
           "showlegend": false,
           "type": "scattergeo"
          }
         ],
         "name": "02/23/2020"
        },
        {
         "data": [
          {
           "geo": "geo",
           "hoverlabel": {
            "namelength": 0
           },
           "hovertemplate": "<b>%{hovertext}</b><br><br>ObservationDate=02/24/2020<br>size=%{marker.size}<br>Country/Region=%{location}<br>Confirmed=%{marker.color}",
           "hovertext": [
            "Afghanistan",
            "Australia",
            "Bahrain",
            "Belgium",
            "Cambodia",
            "Canada",
            "China",
            "Egypt",
            "Finland",
            "France",
            "Germany",
            "Hong Kong",
            "India",
            "Iran",
            "Iraq",
            "Israel",
            "Italy",
            "Japan",
            "Kuwait",
            "Lebanon",
            "Macau",
            "Malaysia",
            "Nepal",
            "Oman",
            "Others",
            "Philippines",
            "Russia",
            "Singapore",
            "South Korea",
            "Spain",
            "Sri Lanka",
            "Sweden",
            "Taiwan",
            "Thailand",
            "UK",
            "US",
            "United Arab Emirates",
            "Vietnam"
           ],
           "legendgroup": "",
           "locationmode": "country names",
           "locations": [
            "Afghanistan",
            "Australia",
            "Bahrain",
            "Belgium",
            "Cambodia",
            "Canada",
            "China",
            "Egypt",
            "Finland",
            "France",
            "Germany",
            "Hong Kong",
            "India",
            "Iran",
            "Iraq",
            "Israel",
            "Italy",
            "Japan",
            "Kuwait",
            "Lebanon",
            "Macau",
            "Malaysia",
            "Nepal",
            "Oman",
            "Others",
            "Philippines",
            "Russia",
            "Singapore",
            "South Korea",
            "Spain",
            "Sri Lanka",
            "Sweden",
            "Taiwan",
            "Thailand",
            "UK",
            "US",
            "United Arab Emirates",
            "Vietnam"
           ],
           "marker": {
            "color": [
             1,
             7,
             1,
             1,
             1,
             6,
             64287,
             1,
             1,
             12,
             16,
             79,
             3,
             61,
             1,
             1,
             229,
             159,
             1,
             1,
             10,
             22,
             1,
             2,
             691,
             3,
             2,
             89,
             833,
             2,
             1,
             1,
             30,
             35,
             13,
             36,
             13,
             16
            ],
            "coloraxis": "coloraxis",
            "size": [
             1,
             1.792789962520997,
             1,
             1,
             1,
             1.711769859409705,
             27.6972689299908,
             1,
             1,
             2.107435899344471,
             2.2973967099940698,
             3.709267269905158,
             1.3903891703159093,
             3.432408355505487,
             1,
             1,
             5.104469870468026,
             4.575295380404088,
             1,
             1,
             1.9952623149688795,
             2.5277074255111027,
             1,
             1.2311444133449163,
             7.109571303495345,
             1.3903891703159093,
             1.2311444133449163,
             3.8442976132762077,
             7.519578551066277,
             1.2311444133449163,
             1,
             1,
             2.774191114672181,
             2.9054968792442244,
             2.1586538444215795,
             2.930156051583521,
             2.1586538444215795,
             2.2973967099940698
            ],
            "sizemode": "area",
            "sizeref": 0.07034885314052819
           },
           "name": "",
           "showlegend": false,
           "type": "scattergeo"
          }
         ],
         "name": "02/24/2020"
        },
        {
         "data": [
          {
           "geo": "geo",
           "hoverlabel": {
            "namelength": 0
           },
           "hovertemplate": "<b>%{hovertext}</b><br><br>ObservationDate=02/25/2020<br>size=%{marker.size}<br>Country/Region=%{location}<br>Confirmed=%{marker.color}",
           "hovertext": [
            "Afghanistan",
            "Algeria",
            "Australia",
            "Austria",
            "Bahrain",
            "Belgium",
            "Cambodia",
            "Canada",
            "China",
            "Croatia",
            "Egypt",
            "Finland",
            "France",
            "Germany",
            "Hong Kong",
            "India",
            "Iran",
            "Iraq",
            "Israel",
            "Italy",
            "Japan",
            "Kuwait",
            "Lebanon",
            "Macau",
            "Malaysia",
            "Nepal",
            "Oman",
            "Others",
            "Philippines",
            "Russia",
            "Singapore",
            "South Korea",
            "Spain",
            "Sri Lanka",
            "Sweden",
            "Switzerland",
            "Taiwan",
            "Thailand",
            "UK",
            "US",
            "United Arab Emirates",
            "Vietnam"
           ],
           "legendgroup": "",
           "locationmode": "country names",
           "locations": [
            "Afghanistan",
            "Algeria",
            "Australia",
            "Austria",
            "Bahrain",
            "Belgium",
            "Cambodia",
            "Canada",
            "China",
            "Croatia",
            "Egypt",
            "Finland",
            "France",
            "Germany",
            "Hong Kong",
            "India",
            "Iran",
            "Iraq",
            "Israel",
            "Italy",
            "Japan",
            "Kuwait",
            "Lebanon",
            "Macau",
            "Malaysia",
            "Nepal",
            "Oman",
            "Others",
            "Philippines",
            "Russia",
            "Singapore",
            "South Korea",
            "Spain",
            "Sri Lanka",
            "Sweden",
            "Switzerland",
            "Taiwan",
            "Thailand",
            "UK",
            "US",
            "United Arab Emirates",
            "Vietnam"
           ],
           "marker": {
            "color": [
             1,
             1,
             7,
             2,
             23,
             1,
             1,
             7,
             64786,
             1,
             1,
             1,
             14,
             17,
             84,
             3,
             95,
             1,
             1,
             322,
             170,
             11,
             1,
             10,
             22,
             1,
             2,
             691,
             3,
             2,
             91,
             977,
             6,
             1,
             1,
             1,
             31,
             37,
             13,
             36,
             13,
             16
            ],
            "coloraxis": "coloraxis",
            "size": [
             1,
             1,
             1.792789962520997,
             1.2311444133449163,
             2.5616415021458128,
             1,
             1,
             1.792789962520997,
             27.761590894735704,
             1,
             1,
             1,
             2.2071833466585673,
             2.3395626336814512,
             3.7781899270011783,
             1.3903891703159093,
             3.920279951613009,
             1,
             1,
             5.654012463645675,
             4.668041156493941,
             2.053136413658844,
             1,
             1.9952623149688795,
             2.5277074255111027,
             1,
             1.2311444133449163,
             7.109571303495345,
             1.3903891703159093,
             1.2311444133449163,
             3.8700129448363705,
             7.888026648174017,
             1.711769859409705,
             1,
             1,
             1,
             2.8016153494371836,
             2.954340289925338,
             2.1586538444215795,
             2.930156051583521,
             2.1586538444215795,
             2.2973967099940698
            ],
            "sizemode": "area",
            "sizeref": 0.07034885314052819
           },
           "name": "",
           "showlegend": false,
           "type": "scattergeo"
          }
         ],
         "name": "02/25/2020"
        },
        {
         "data": [
          {
           "geo": "geo",
           "hoverlabel": {
            "namelength": 0
           },
           "hovertemplate": "<b>%{hovertext}</b><br><br>ObservationDate=02/26/2020<br>size=%{marker.size}<br>Country/Region=%{location}<br>Confirmed=%{marker.color}",
           "hovertext": [
            "Afghanistan",
            "Algeria",
            "Australia",
            "Austria",
            "Bahrain",
            "Belgium",
            "Brazil",
            "Cambodia",
            "Canada",
            "China",
            "Croatia",
            "Egypt",
            "Finland",
            "France",
            "Georgia",
            "Germany",
            "Greece",
            "Hong Kong",
            "India",
            "Iran",
            "Iraq",
            "Israel",
            "Italy",
            "Japan",
            "Kuwait",
            "Lebanon",
            "Macau",
            "Malaysia",
            "Nepal",
            "North Macedonia",
            "Norway",
            "Oman",
            "Others",
            "Pakistan",
            "Philippines",
            "Romania",
            "Russia",
            "Singapore",
            "South Korea",
            "Spain",
            "Sri Lanka",
            "Sweden",
            "Switzerland",
            "Taiwan",
            "Thailand",
            "UK",
            "US",
            "United Arab Emirates",
            "Vietnam"
           ],
           "legendgroup": "",
           "locationmode": "country names",
           "locations": [
            "Afghanistan",
            "Algeria",
            "Australia",
            "Austria",
            "Bahrain",
            "Belgium",
            "Brazil",
            "Cambodia",
            "Canada",
            "China",
            "Croatia",
            "Egypt",
            "Finland",
            "France",
            "Georgia",
            "Germany",
            "Greece",
            "Hong Kong",
            "India",
            "Iran",
            "Iraq",
            "Israel",
            "Italy",
            "Japan",
            "Kuwait",
            "Lebanon",
            "Macau",
            "Malaysia",
            "Nepal",
            "North Macedonia",
            "Norway",
            "Oman",
            "Others",
            "Pakistan",
            "Philippines",
            "Romania",
            "Russia",
            "Singapore",
            "South Korea",
            "Spain",
            "Sri Lanka",
            "Sweden",
            "Switzerland",
            "Taiwan",
            "Thailand",
            "UK",
            "US",
            "United Arab Emirates",
            "Vietnam"
           ],
           "marker": {
            "color": [
             1,
             1,
             7,
             2,
             33,
             1,
             1,
             1,
             7,
             65187,
             3,
             1,
             2,
             18,
             1,
             27,
             1,
             91,
             3,
             139,
             5,
             2,
             453,
             189,
             26,
             2,
             10,
             22,
             1,
             1,
             1,
             4,
             705,
             2,
             3,
             1,
             2,
             93,
             1261,
             13,
             1,
             2,
             1,
             32,
             40,
             13,
             42,
             13,
             16
            ],
            "coloraxis": "coloraxis",
            "size": [
             1,
             1,
             1.792789962520997,
             1.2311444133449163,
             2.854658634732502,
             1,
             1,
             1,
             1.792789962520997,
             27.81302962549188,
             1.3903891703159093,
             1,
             1.2311444133449163,
             2.3800262745964407,
             1,
             2.6878753795222865,
             1,
             3.8700129448363705,
             1.3903891703159093,
             4.39444911601279,
             1.6206565966927624,
             1.2311444133449163,
             6.263678533232016,
             4.818796000914871,
             2.657614620905154,
             1.2311444133449163,
             1.9952623149688795,
             2.5277074255111027,
             1,
             1,
             1,
             1.515716566510398,
             7.152481367057622,
             1.2311444133449163,
             1.3903891703159093,
             1,
             1.2311444133449163,
             3.8953356412482822,
             8.515585738681406,
             2.1586538444215795,
             1,
             1.2311444133449163,
             1,
             2.82842712474619,
             3.0242521453322184,
             2.1586538444215795,
             3.068843822095698,
             2.1586538444215795,
             2.2973967099940698
            ],
            "sizemode": "area",
            "sizeref": 0.07034885314052819
           },
           "name": "",
           "showlegend": false,
           "type": "scattergeo"
          }
         ],
         "name": "02/26/2020"
        },
        {
         "data": [
          {
           "geo": "geo",
           "hoverlabel": {
            "namelength": 0
           },
           "hovertemplate": "<b>%{hovertext}</b><br><br>ObservationDate=02/27/2020<br>size=%{marker.size}<br>Country/Region=%{location}<br>Confirmed=%{marker.color}",
           "hovertext": [
            "Afghanistan",
            "Algeria",
            "Australia",
            "Austria",
            "Bahrain",
            "Belgium",
            "Brazil",
            "Cambodia",
            "Canada",
            "China",
            "Croatia",
            "Denmark",
            "Egypt",
            "Estonia",
            "Finland",
            "France",
            "Georgia",
            "Germany",
            "Greece",
            "Hong Kong",
            "India",
            "Iran",
            "Iraq",
            "Israel",
            "Italy",
            "Japan",
            "Kuwait",
            "Lebanon",
            "Macau",
            "Malaysia",
            "Nepal",
            "Netherlands",
            "North Macedonia",
            "Norway",
            "Oman",
            "Others",
            "Pakistan",
            "Philippines",
            "Romania",
            "Russia",
            "San Marino",
            "Singapore",
            "South Korea",
            "Spain",
            "Sri Lanka",
            "Sweden",
            "Switzerland",
            "Taiwan",
            "Thailand",
            "UK",
            "US",
            "United Arab Emirates",
            "Vietnam"
           ],
           "legendgroup": "",
           "locationmode": "country names",
           "locations": [
            "Afghanistan",
            "Algeria",
            "Australia",
            "Austria",
            "Bahrain",
            "Belgium",
            "Brazil",
            "Cambodia",
            "Canada",
            "China",
            "Croatia",
            "Denmark",
            "Egypt",
            "Estonia",
            "Finland",
            "France",
            "Georgia",
            "Germany",
            "Greece",
            "Hong Kong",
            "India",
            "Iran",
            "Iraq",
            "Israel",
            "Italy",
            "Japan",
            "Kuwait",
            "Lebanon",
            "Macau",
            "Malaysia",
            "Nepal",
            "Netherlands",
            "North Macedonia",
            "Norway",
            "Oman",
            "Others",
            "Pakistan",
            "Philippines",
            "Romania",
            "Russia",
            "San Marino",
            "Singapore",
            "South Korea",
            "Spain",
            "Sri Lanka",
            "Sweden",
            "Switzerland",
            "Taiwan",
            "Thailand",
            "UK",
            "US",
            "United Arab Emirates",
            "Vietnam"
           ],
           "marker": {
            "color": [
             1,
             1,
             8,
             3,
             33,
             1,
             1,
             1,
             7,
             65596,
             3,
             1,
             1,
             1,
             2,
             38,
             1,
             46,
             3,
             92,
             3,
             245,
             7,
             3,
             655,
             214,
             43,
             2,
             10,
             23,
             1,
             1,
             1,
             1,
             4,
             705,
             2,
             3,
             1,
             2,
             1,
             93,
             1766,
             15,
             1,
             7,
             8,
             32,
             40,
             15,
             42,
             13,
             16
            ],
            "coloraxis": "coloraxis",
            "size": [
             1,
             1,
             1.8660659830736148,
             1.3903891703159093,
             2.854658634732502,
             1,
             1,
             1,
             1.792789962520997,
             27.86526689830887,
             1.3903891703159093,
             1,
             1,
             1,
             1.2311444133449163,
             2.978071215719372,
             1,
             3.1537506243592963,
             1.3903891703159093,
             3.8827224622629894,
             1.3903891703159093,
             5.208945641245127,
             1.792789962520997,
             1.3903891703159093,
             6.996363896149083,
             5.001774775270484,
             3.0905838914967028,
             1.2311444133449163,
             1.9952623149688795,
             2.5616415021458128,
             1,
             1,
             1,
             1,
             1.515716566510398,
             7.152481367057622,
             1.2311444133449163,
             1.3903891703159093,
             1,
             1.2311444133449163,
             1,
             3.8953356412482822,
             9.421004468217818,
             2.2533433808426553,
             1,
             1.792789962520997,
             1.8660659830736148,
             2.82842712474619,
             3.0242521453322184,
             2.2533433808426553,
             3.068843822095698,
             2.1586538444215795,
             2.2973967099940698
            ],
            "sizemode": "area",
            "sizeref": 0.07034885314052819
           },
           "name": "",
           "showlegend": false,
           "type": "scattergeo"
          }
         ],
         "name": "02/27/2020"
        },
        {
         "data": [
          {
           "geo": "geo",
           "hoverlabel": {
            "namelength": 0
           },
           "hovertemplate": "<b>%{hovertext}</b><br><br>ObservationDate=02/28/2020<br>size=%{marker.size}<br>Country/Region=%{location}<br>Confirmed=%{marker.color}",
           "hovertext": [
            " Azerbaijan",
            "Afghanistan",
            "Algeria",
            "Australia",
            "Austria",
            "Bahrain",
            "Belarus",
            "Belgium",
            "Brazil",
            "Cambodia",
            "Canada",
            "China",
            "Croatia",
            "Denmark",
            "Egypt",
            "Estonia",
            "Finland",
            "France",
            "Georgia",
            "Germany",
            "Greece",
            "Hong Kong",
            "Iceland",
            "India",
            "Iran",
            "Iraq",
            "Israel",
            "Italy",
            "Japan",
            "Kuwait",
            "Lebanon",
            "Lithuania",
            "Macau",
            "Malaysia",
            "Mexico",
            "Nepal",
            "Netherlands",
            "New Zealand",
            "Nigeria",
            "North Ireland",
            "North Macedonia",
            "Norway",
            "Oman",
            "Others",
            "Pakistan",
            "Philippines",
            "Romania",
            "Russia",
            "San Marino",
            "Singapore",
            "South Korea",
            "Spain",
            "Sri Lanka",
            "Sweden",
            "Switzerland",
            "Taiwan",
            "Thailand",
            "UK",
            "US",
            "United Arab Emirates",
            "Vietnam"
           ],
           "legendgroup": "",
           "locationmode": "country names",
           "locations": [
            " Azerbaijan",
            "Afghanistan",
            "Algeria",
            "Australia",
            "Austria",
            "Bahrain",
            "Belarus",
            "Belgium",
            "Brazil",
            "Cambodia",
            "Canada",
            "China",
            "Croatia",
            "Denmark",
            "Egypt",
            "Estonia",
            "Finland",
            "France",
            "Georgia",
            "Germany",
            "Greece",
            "Hong Kong",
            "Iceland",
            "India",
            "Iran",
            "Iraq",
            "Israel",
            "Italy",
            "Japan",
            "Kuwait",
            "Lebanon",
            "Lithuania",
            "Macau",
            "Malaysia",
            "Mexico",
            "Nepal",
            "Netherlands",
            "New Zealand",
            "Nigeria",
            "North Ireland",
            "North Macedonia",
            "Norway",
            "Oman",
            "Others",
            "Pakistan",
            "Philippines",
            "Romania",
            "Russia",
            "San Marino",
            "Singapore",
            "South Korea",
            "Spain",
            "Sri Lanka",
            "Sweden",
            "Switzerland",
            "Taiwan",
            "Thailand",
            "UK",
            "US",
            "United Arab Emirates",
            "Vietnam"
           ],
           "marker": {
            "color": [
             1,
             1,
             1,
             8,
             3,
             36,
             1,
             1,
             1,
             1,
             7,
             65914,
             5,
             1,
             1,
             1,
             2,
             57,
             1,
             48,
             4,
             94,
             1,
             3,
             388,
             7,
             4,
             888,
             228,
             45,
             2,
             1,
             10,
             23,
             1,
             1,
             1,
             1,
             1,
             1,
             1,
             6,
             4,
             705,
             2,
             3,
             3,
             2,
             1,
             93,
             2337,
             32,
             1,
             7,
             8,
             34,
             41,
             20,
             44,
             19,
             16
            ],
            "coloraxis": "coloraxis",
            "size": [
             1,
             1,
             1,
             1.8660659830736148,
             1.3903891703159093,
             2.930156051583521,
             1,
             1,
             1,
             1,
             1.792789962520997,
             27.905724369250343,
             1.6206565966927624,
             1,
             1,
             1,
             1.2311444133449163,
             3.3632756010449447,
             1,
             3.194275505495155,
             1.515716566510398,
             3.9078542362742903,
             1,
             1.3903891703159093,
             5.9792886251837345,
             1.792789962520997,
             1.515716566510398,
             7.665207038844847,
             5.097772546244038,
             3.1330242337266654,
             1.2311444133449163,
             1,
             1.9952623149688795,
             2.5616415021458128,
             1,
             1,
             1,
             1,
             1,
             1,
             1,
             1.711769859409705,
             1.515716566510398,
             7.152481367057622,
             1.2311444133449163,
             1.3903891703159093,
             1.3903891703159093,
             1.2311444133449163,
             1,
             3.8953356412482822,
             10.247020704536068,
             2.82842712474619,
             1,
             1.792789962520997,
             1.8660659830736148,
             2.8803394661274377,
             3.046738334899583,
             2.4564560522315806,
             3.1119728754884552,
             2.4189454814875875,
             2.2973967099940698
            ],
            "sizemode": "area",
            "sizeref": 0.07034885314052819
           },
           "name": "",
           "showlegend": false,
           "type": "scattergeo"
          }
         ],
         "name": "02/28/2020"
        },
        {
         "data": [
          {
           "geo": "geo",
           "hoverlabel": {
            "namelength": 0
           },
           "hovertemplate": "<b>%{hovertext}</b><br><br>ObservationDate=02/29/2020<br>size=%{marker.size}<br>Country/Region=%{location}<br>Confirmed=%{marker.color}",
           "hovertext": [
            "Afghanistan",
            "Algeria",
            "Australia",
            "Austria",
            "Bahrain",
            "Belarus",
            "Belgium",
            "Brazil",
            "Cambodia",
            "Canada",
            "China",
            "Croatia",
            "Denmark",
            "Egypt",
            "Estonia",
            "Finland",
            "France",
            "Georgia",
            "Germany",
            "Greece",
            "Hong Kong",
            "Iceland",
            "India",
            "Iran",
            "Iraq",
            "Ireland",
            "Israel",
            "Italy",
            "Japan",
            "Kuwait",
            "Lebanon",
            "Lithuania",
            "Luxembourg",
            "Macau",
            "Malaysia",
            "Mexico",
            "Monaco",
            "Nepal",
            "Netherlands",
            "New Zealand",
            "Nigeria",
            "North Macedonia",
            "Norway",
            "Oman",
            "Others",
            "Pakistan",
            "Philippines",
            "Qatar",
            "Romania",
            "Russia",
            "San Marino",
            "Singapore",
            "South Korea",
            "Spain",
            "Sri Lanka",
            "Sweden",
            "Switzerland",
            "Taiwan",
            "Thailand",
            "UK",
            "US",
            "United Arab Emirates",
            "Vietnam"
           ],
           "legendgroup": "",
           "locationmode": "country names",
           "locations": [
            "Afghanistan",
            "Algeria",
            "Australia",
            "Austria",
            "Bahrain",
            "Belarus",
            "Belgium",
            "Brazil",
            "Cambodia",
            "Canada",
            "China",
            "Croatia",
            "Denmark",
            "Egypt",
            "Estonia",
            "Finland",
            "France",
            "Georgia",
            "Germany",
            "Greece",
            "Hong Kong",
            "Iceland",
            "India",
            "Iran",
            "Iraq",
            "Ireland",
            "Israel",
            "Italy",
            "Japan",
            "Kuwait",
            "Lebanon",
            "Lithuania",
            "Luxembourg",
            "Macau",
            "Malaysia",
            "Mexico",
            "Monaco",
            "Nepal",
            "Netherlands",
            "New Zealand",
            "Nigeria",
            "North Macedonia",
            "Norway",
            "Oman",
            "Others",
            "Pakistan",
            "Philippines",
            "Qatar",
            "Romania",
            "Russia",
            "San Marino",
            "Singapore",
            "South Korea",
            "Spain",
            "Sri Lanka",
            "Sweden",
            "Switzerland",
            "Taiwan",
            "Thailand",
            "UK",
            "US",
            "United Arab Emirates",
            "Vietnam"
           ],
           "marker": {
            "color": [
             1,
             1,
             9,
             9,
             41,
             1,
             1,
             2,
             1,
             10,
             66337,
             6,
             3,
             1,
             1,
             3,
             100,
             1,
             79,
             4,
             95,
             1,
             3,
             593,
             13,
             1,
             7,
             1128,
             241,
             45,
             4,
             1,
             1,
             10,
             25,
             4,
             1,
             1,
             6,
             1,
             1,
             1,
             15,
             6,
             705,
             4,
             3,
             1,
             3,
             2,
             1,
             102,
             3150,
             45,
             1,
             12,
             18,
             39,
             42,
             23,
             44,
             21,
             16
            ],
            "coloraxis": "coloraxis",
            "size": [
             1,
             1,
             1.9331820449317627,
             1.9331820449317627,
             3.046738334899583,
             1,
             1,
             1.2311444133449163,
             1,
             1.9952623149688795,
             27.959329236523885,
             1.711769859409705,
             1.3903891703159093,
             1,
             1,
             1.3903891703159093,
             3.9810717055349722,
             1,
             3.709267269905158,
             1.515716566510398,
             3.920279951613009,
             1,
             1.3903891703159093,
             6.790729136639923,
             2.1586538444215795,
             1,
             1.792789962520997,
             8.23555230692981,
             5.1832852845228645,
             3.1330242337266654,
             1.515716566510398,
             1,
             1,
             1.9952623149688795,
             2.626527804403767,
             1.515716566510398,
             1,
             1,
             1.711769859409705,
             1,
             1,
             1,
             2.2533433808426553,
             1.711769859409705,
             7.152481367057622,
             1.515716566510398,
             1.3903891703159093,
             1,
             1.3903891703159093,
             1.2311444133449163,
             1,
             4.004792800537097,
             11.207097910114367,
             3.1330242337266654,
             1,
             2.107435899344471,
             2.3800262745964407,
             3.001368927744568,
             3.068843822095698,
             2.5616415021458128,
             3.1119728754884552,
             2.4926757485402593,
             2.2973967099940698
            ],
            "sizemode": "area",
            "sizeref": 0.07034885314052819
           },
           "name": "",
           "showlegend": false,
           "type": "scattergeo"
          }
         ],
         "name": "02/29/2020"
        },
        {
         "data": [
          {
           "geo": "geo",
           "hoverlabel": {
            "namelength": 0
           },
           "hovertemplate": "<b>%{hovertext}</b><br><br>ObservationDate=03/01/2020<br>size=%{marker.size}<br>Country/Region=%{location}<br>Confirmed=%{marker.color}",
           "hovertext": [
            "Afghanistan",
            "Algeria",
            "Armenia",
            "Australia",
            "Austria",
            "Azerbaijan",
            "Bahrain",
            "Belarus",
            "Belgium",
            "Brazil",
            "Cambodia",
            "Canada",
            "China",
            "Croatia",
            "Czech Republic",
            "Denmark",
            "Dominican Republic",
            "Ecuador",
            "Egypt",
            "Estonia",
            "Finland",
            "France",
            "Georgia",
            "Germany",
            "Greece",
            "Hong Kong",
            "Iceland",
            "India",
            "Iran",
            "Iraq",
            "Ireland",
            "Israel",
            "Italy",
            "Japan",
            "Kuwait",
            "Lebanon",
            "Lithuania",
            "Luxembourg",
            "Macau",
            "Malaysia",
            "Mexico",
            "Monaco",
            "Nepal",
            "Netherlands",
            "New Zealand",
            "Nigeria",
            "North Macedonia",
            "Norway",
            "Oman",
            "Others",
            "Pakistan",
            "Philippines",
            "Qatar",
            "Romania",
            "Russia",
            "San Marino",
            "Singapore",
            "South Korea",
            "Spain",
            "Sri Lanka",
            "Sweden",
            "Switzerland",
            "Taiwan",
            "Thailand",
            "UK",
            "US",
            "United Arab Emirates",
            "Vietnam"
           ],
           "legendgroup": "",
           "locationmode": "country names",
           "locations": [
            "Afghanistan",
            "Algeria",
            "Armenia",
            "Australia",
            "Austria",
            "Azerbaijan",
            "Bahrain",
            "Belarus",
            "Belgium",
            "Brazil",
            "Cambodia",
            "Canada",
            "China",
            "Croatia",
            "Czech Republic",
            "Denmark",
            "Dominican Republic",
            "Ecuador",
            "Egypt",
            "Estonia",
            "Finland",
            "France",
            "Georgia",
            "Germany",
            "Greece",
            "Hong Kong",
            "Iceland",
            "India",
            "Iran",
            "Iraq",
            "Ireland",
            "Israel",
            "Italy",
            "Japan",
            "Kuwait",
            "Lebanon",
            "Lithuania",
            "Luxembourg",
            "Macau",
            "Malaysia",
            "Mexico",
            "Monaco",
            "Nepal",
            "Netherlands",
            "New Zealand",
            "Nigeria",
            "North Macedonia",
            "Norway",
            "Oman",
            "Others",
            "Pakistan",
            "Philippines",
            "Qatar",
            "Romania",
            "Russia",
            "San Marino",
            "Singapore",
            "South Korea",
            "Spain",
            "Sri Lanka",
            "Sweden",
            "Switzerland",
            "Taiwan",
            "Thailand",
            "UK",
            "US",
            "United Arab Emirates",
            "Vietnam"
           ],
           "marker": {
            "color": [
             1,
             1,
             1,
             9,
             14,
             3,
             47,
             1,
             2,
             2,
             1,
             14,
             66907,
             7,
             3,
             4,
             1,
             6,
             2,
             1,
             6,
             130,
             3,
             130,
             7,
             96,
             3,
             3,
             978,
             19,
             1,
             10,
             1694,
             256,
             45,
             10,
             1,
             1,
             10,
             29,
             5,
             1,
             1,
             10,
             1,
             1,
             1,
             19,
             6,
             705,
             4,
             3,
             3,
             3,
             2,
             1,
             106,
             3736,
             84,
             1,
             14,
             27,
             40,
             42,
             36,
             44,
             21,
             16
            ],
            "coloraxis": "coloraxis",
            "size": [
             1,
             1,
             1,
             1.9331820449317627,
             2.2071833466585673,
             1.3903891703159093,
             3.174163968024659,
             1,
             1.2311444133449163,
             1.2311444133449163,
             1,
             2.2071833466585673,
             28.031185614205427,
             1.792789962520997,
             1.3903891703159093,
             1.515716566510398,
             1,
             1.711769859409705,
             1.2311444133449163,
             1,
             1.711769859409705,
             4.307080666837073,
             1.3903891703159093,
             4.307080666837073,
             1.792789962520997,
             3.932614443274868,
             1.3903891703159093,
             1.3903891703159093,
             7.890447897657098,
             2.4189454814875875,
             1,
             1.9952623149688795,
             9.304092550579004,
             5.278031643091577,
             3.1330242337266654,
             1.9952623149688795,
             1,
             1,
             1.9952623149688795,
             2.7461192933624785,
             1.6206565966927624,
             1,
             1,
             1.9952623149688795,
             1,
             1,
             1,
             2.4189454814875875,
             1.711769859409705,
             7.152481367057622,
             1.515716566510398,
             1.3903891703159093,
             1.3903891703159093,
             1.3903891703159093,
             1.2311444133449163,
             1,
             4.051275331573146,
             11.795654958499812,
             3.7781899270011783,
             1,
             2.2071833466585673,
             2.6878753795222865,
             3.0242521453322184,
             3.068843822095698,
             2.930156051583521,
             3.1119728754884552,
             2.4926757485402593,
             2.2973967099940698
            ],
            "sizemode": "area",
            "sizeref": 0.07034885314052819
           },
           "name": "",
           "showlegend": false,
           "type": "scattergeo"
          }
         ],
         "name": "03/01/2020"
        },
        {
         "data": [
          {
           "geo": "geo",
           "hoverlabel": {
            "namelength": 0
           },
           "hovertemplate": "<b>%{hovertext}</b><br><br>ObservationDate=03/02/2020<br>size=%{marker.size}<br>Country/Region=%{location}<br>Confirmed=%{marker.color}",
           "hovertext": [
            "Afghanistan",
            "Algeria",
            "Andorra",
            "Armenia",
            "Australia",
            "Austria",
            "Azerbaijan",
            "Bahrain",
            "Belarus",
            "Belgium",
            "Brazil",
            "Cambodia",
            "Canada",
            "China",
            "Croatia",
            "Czech Republic",
            "Denmark",
            "Dominican Republic",
            "Ecuador",
            "Egypt",
            "Estonia",
            "Finland",
            "France",
            "Georgia",
            "Germany",
            "Greece",
            "Hong Kong",
            "Iceland",
            "India",
            "Indonesia",
            "Iran",
            "Iraq",
            "Ireland",
            "Israel",
            "Italy",
            "Japan",
            "Kuwait",
            "Latvia",
            "Lebanon",
            "Lithuania",
            "Luxembourg",
            "Macau",
            "Malaysia",
            "Mexico",
            "Monaco",
            "Morocco",
            "Nepal",
            "Netherlands",
            "New Zealand",
            "Nigeria",
            "North Macedonia",
            "Norway",
            "Oman",
            "Others",
            "Pakistan",
            "Philippines",
            "Portugal",
            "Qatar",
            "Romania",
            "Russia",
            "San Marino",
            "Saudi Arabia",
            "Senegal",
            "Singapore",
            "South Korea",
            "Spain",
            "Sri Lanka",
            "Sweden",
            "Switzerland",
            "Taiwan",
            "Thailand",
            "UK",
            "US",
            "United Arab Emirates",
            "Vietnam"
           ],
           "legendgroup": "",
           "locationmode": "country names",
           "locations": [
            "Afghanistan",
            "Algeria",
            "Andorra",
            "Armenia",
            "Australia",
            "Austria",
            "Azerbaijan",
            "Bahrain",
            "Belarus",
            "Belgium",
            "Brazil",
            "Cambodia",
            "Canada",
            "China",
            "Croatia",
            "Czech Republic",
            "Denmark",
            "Dominican Republic",
            "Ecuador",
            "Egypt",
            "Estonia",
            "Finland",
            "France",
            "Georgia",
            "Germany",
            "Greece",
            "Hong Kong",
            "Iceland",
            "India",
            "Indonesia",
            "Iran",
            "Iraq",
            "Ireland",
            "Israel",
            "Italy",
            "Japan",
            "Kuwait",
            "Latvia",
            "Lebanon",
            "Lithuania",
            "Luxembourg",
            "Macau",
            "Malaysia",
            "Mexico",
            "Monaco",
            "Morocco",
            "Nepal",
            "Netherlands",
            "New Zealand",
            "Nigeria",
            "North Macedonia",
            "Norway",
            "Oman",
            "Others",
            "Pakistan",
            "Philippines",
            "Portugal",
            "Qatar",
            "Romania",
            "Russia",
            "San Marino",
            "Saudi Arabia",
            "Senegal",
            "Singapore",
            "South Korea",
            "Spain",
            "Sri Lanka",
            "Sweden",
            "Switzerland",
            "Taiwan",
            "Thailand",
            "UK",
            "US",
            "United Arab Emirates",
            "Vietnam"
           ],
           "marker": {
            "color": [
             1,
             3,
             1,
             1,
             9,
             18,
             3,
             49,
             1,
             8,
             2,
             1,
             17,
             67103,
             7,
             3,
             4,
             1,
             6,
             2,
             1,
             6,
             191,
             3,
             159,
             7,
             100,
             6,
             5,
             2,
             1501,
             26,
             1,
             10,
             2036,
             274,
             56,
             1,
             13,
             1,
             1,
             10,
             29,
             5,
             1,
             1,
             1,
             18,
             1,
             1,
             1,
             25,
             6,
             705,
             4,
             3,
             2,
             3,
             3,
             3,
             8,
             1,
             1,
             108,
             4335,
             120,
             1,
             15,
             42,
             41,
             43,
             40,
             45,
             21,
             16
            ],
            "coloraxis": "coloraxis",
            "size": [
             1,
             1.3903891703159093,
             1,
             1,
             1.9331820449317627,
             2.3800262745964407,
             1.3903891703159093,
             3.2140958497160383,
             1,
             1.8660659830736148,
             1.2311444133449163,
             1,
             2.3395626336814512,
             28.055795095629644,
             1.792789962520997,
             1.3903891703159093,
             1.515716566510398,
             1,
             1.711769859409705,
             1.2311444133449163,
             1,
             1.711769859409705,
             4.834037444950487,
             1.3903891703159093,
             4.575295380404088,
             1.792789962520997,
             3.9810717055349722,
             1.711769859409705,
             1.6206565966927624,
             1.2311444133449163,
             8.972515302166881,
             2.657614620905154,
             1,
             1.9952623149688795,
             9.831806714979518,
             5.386729515921298,
             3.345464363856254,
             1,
             2.1586538444215795,
             1,
             1,
             1.9952623149688795,
             2.7461192933624785,
             1.6206565966927624,
             1,
             1,
             1,
             2.3800262745964407,
             1,
             1,
             1,
             2.626527804403767,
             1.711769859409705,
             7.152481367057622,
             1.515716566510398,
             1.3903891703159093,
             1.2311444133449163,
             1.3903891703159093,
             1.3903891703159093,
             1.3903891703159093,
             1.8660659830736148,
             1,
             1,
             4.0740572414573535,
             12.333795136367636,
             4.204887431174572,
             1,
             2.2533433808426553,
             3.068843822095698,
             3.046738334899583,
             3.0905838914967028,
             3.0242521453322184,
             3.1330242337266654,
             2.4926757485402593,
             2.2973967099940698
            ],
            "sizemode": "area",
            "sizeref": 0.07034885314052819
           },
           "name": "",
           "showlegend": false,
           "type": "scattergeo"
          }
         ],
         "name": "03/02/2020"
        },
        {
         "data": [
          {
           "geo": "geo",
           "hoverlabel": {
            "namelength": 0
           },
           "hovertemplate": "<b>%{hovertext}</b><br><br>ObservationDate=03/03/2020<br>size=%{marker.size}<br>Country/Region=%{location}<br>Confirmed=%{marker.color}",
           "hovertext": [
            "Afghanistan",
            "Algeria",
            "Andorra",
            "Argentina",
            "Armenia",
            "Australia",
            "Austria",
            "Azerbaijan",
            "Bahrain",
            "Belarus",
            "Belgium",
            "Brazil",
            "Cambodia",
            "Canada",
            "Chile",
            "China",
            "Croatia",
            "Czech Republic",
            "Denmark",
            "Dominican Republic",
            "Ecuador",
            "Egypt",
            "Estonia",
            "Finland",
            "France",
            "Georgia",
            "Germany",
            "Greece",
            "Hong Kong",
            "Iceland",
            "India",
            "Indonesia",
            "Iran",
            "Iraq",
            "Ireland",
            "Israel",
            "Italy",
            "Japan",
            "Jordan",
            "Kuwait",
            "Latvia",
            "Lebanon",
            "Lithuania",
            "Luxembourg",
            "Macau",
            "Malaysia",
            "Mexico",
            "Monaco",
            "Morocco",
            "Nepal",
            "Netherlands",
            "New Zealand",
            "Nigeria",
            "North Macedonia",
            "Norway",
            "Oman",
            "Others",
            "Pakistan",
            "Philippines",
            "Portugal",
            "Qatar",
            "Romania",
            "Russia",
            "San Marino",
            "Saudi Arabia",
            "Senegal",
            "Singapore",
            "South Korea",
            "Spain",
            "Sri Lanka",
            "Sweden",
            "Switzerland",
            "Taiwan",
            "Thailand",
            "UK",
            "US",
            "Ukraine",
            "United Arab Emirates",
            "Vietnam"
           ],
           "legendgroup": "",
           "locationmode": "country names",
           "locations": [
            "Afghanistan",
            "Algeria",
            "Andorra",
            "Argentina",
            "Armenia",
            "Australia",
            "Austria",
            "Azerbaijan",
            "Bahrain",
            "Belarus",
            "Belgium",
            "Brazil",
            "Cambodia",
            "Canada",
            "Chile",
            "China",
            "Croatia",
            "Czech Republic",
            "Denmark",
            "Dominican Republic",
            "Ecuador",
            "Egypt",
            "Estonia",
            "Finland",
            "France",
            "Georgia",
            "Germany",
            "Greece",
            "Hong Kong",
            "Iceland",
            "India",
            "Indonesia",
            "Iran",
            "Iraq",
            "Ireland",
            "Israel",
            "Italy",
            "Japan",
            "Jordan",
            "Kuwait",
            "Latvia",
            "Lebanon",
            "Lithuania",
            "Luxembourg",
            "Macau",
            "Malaysia",
            "Mexico",
            "Monaco",
            "Morocco",
            "Nepal",
            "Netherlands",
            "New Zealand",
            "Nigeria",
            "North Macedonia",
            "Norway",
            "Oman",
            "Others",
            "Pakistan",
            "Philippines",
            "Portugal",
            "Qatar",
            "Romania",
            "Russia",
            "San Marino",
            "Saudi Arabia",
            "Senegal",
            "Singapore",
            "South Korea",
            "Spain",
            "Sri Lanka",
            "Sweden",
            "Switzerland",
            "Taiwan",
            "Thailand",
            "UK",
            "US",
            "Ukraine",
            "United Arab Emirates",
            "Vietnam"
           ],
           "marker": {
            "color": [
             1,
             5,
             1,
             1,
             1,
             13,
             21,
             3,
             49,
             1,
             13,
             2,
             1,
             19,
             1,
             67217,
             9,
             5,
             6,
             1,
             7,
             2,
             2,
             6,
             204,
             3,
             196,
             7,
             100,
             11,
             5,
             2,
             2336,
             32,
             2,
             12,
             2502,
             293,
             1,
             56,
             1,
             13,
             1,
             1,
             10,
             36,
             5,
             1,
             1,
             1,
             24,
             1,
             1,
             1,
             32,
             12,
             706,
             5,
             3,
             2,
             7,
             3,
             3,
             10,
             1,
             2,
             110,
             5186,
             165,
             1,
             21,
             56,
             42,
             43,
             51,
             45,
             1,
             27,
             16
            ],
            "coloraxis": "coloraxis",
            "size": [
             1,
             1.6206565966927624,
             1,
             1,
             1,
             2.1586538444215795,
             2.4926757485402593,
             1.3903891703159093,
             3.2140958497160383,
             1,
             2.1586538444215795,
             1.2311444133449163,
             1,
             2.4189454814875875,
             1,
             28.070085637175737,
             1.9331820449317627,
             1.6206565966927624,
             1.711769859409705,
             1,
             1.792789962520997,
             1.2311444133449163,
             1.2311444133449163,
             1.711769859409705,
             4.930478282985189,
             1.3903891703159093,
             4.871658325766914,
             1.792789962520997,
             3.9810717055349722,
             2.053136413658844,
             1.6206565966927624,
             1.2311444133449163,
             10.245705100464402,
             2.82842712474619,
             1.2311444133449163,
             2.107435899344471,
             10.458904358487542,
             5.496171630586563,
             1,
             3.345464363856254,
             1,
             2.1586538444215795,
             1,
             1,
             1.9952623149688795,
             2.930156051583521,
             1.6206565966927624,
             1,
             1,
             1,
             2.594557933960465,
             1,
             1,
             1,
             2.82842712474619,
             2.107435899344471,
             7.155523466351744,
             1.6206565966927624,
             1.3903891703159093,
             1.2311444133449163,
             1.792789962520997,
             1.3903891703159093,
             1.3903891703159093,
             1.9952623149688795,
             1,
             1.2311444133449163,
             4.096545713663848,
             13.01516726182522,
             4.626421347685183,
             1,
             2.4926757485402593,
             3.345464363856254,
             3.068843822095698,
             3.0905838914967028,
             3.2529025491464565,
             3.1330242337266654,
             1,
             2.6878753795222865,
             2.2973967099940698
            ],
            "sizemode": "area",
            "sizeref": 0.07034885314052819
           },
           "name": "",
           "showlegend": false,
           "type": "scattergeo"
          }
         ],
         "name": "03/03/2020"
        },
        {
         "data": [
          {
           "geo": "geo",
           "hoverlabel": {
            "namelength": 0
           },
           "hovertemplate": "<b>%{hovertext}</b><br><br>ObservationDate=03/04/2020<br>size=%{marker.size}<br>Country/Region=%{location}<br>Confirmed=%{marker.color}",
           "hovertext": [
            "Afghanistan",
            "Algeria",
            "Andorra",
            "Argentina",
            "Armenia",
            "Australia",
            "Austria",
            "Azerbaijan",
            "Bahrain",
            "Belarus",
            "Belgium",
            "Brazil",
            "Cambodia",
            "Canada",
            "Chile",
            "China",
            "Croatia",
            "Czech Republic",
            "Denmark",
            "Dominican Republic",
            "Ecuador",
            "Egypt",
            "Estonia",
            "Faroe Islands",
            "Finland",
            "France",
            "Georgia",
            "Germany",
            "Gibraltar",
            "Greece",
            "Hong Kong",
            "Hungary",
            "Iceland",
            "India",
            "Indonesia",
            "Iran",
            "Iraq",
            "Ireland",
            "Israel",
            "Italy",
            "Japan",
            "Jordan",
            "Kuwait",
            "Latvia",
            "Lebanon",
            "Liechtenstein",
            "Lithuania",
            "Luxembourg",
            "Macau",
            "Malaysia",
            "Mexico",
            "Monaco",
            "Morocco",
            "Nepal",
            "Netherlands",
            "New Zealand",
            "Nigeria",
            "North Macedonia",
            "Norway",
            "Oman",
            "Others",
            "Pakistan",
            "Philippines",
            "Poland",
            "Portugal",
            "Qatar",
            "Romania",
            "Russia",
            "Saint Barthelemy",
            "San Marino",
            "Saudi Arabia",
            "Senegal",
            "Singapore",
            "South Korea",
            "Spain",
            "Sri Lanka",
            "Sweden",
            "Switzerland",
            "Taiwan",
            "Thailand",
            "Tunisia",
            "UK",
            "US",
            "Ukraine",
            "United Arab Emirates",
            "Vietnam"
           ],
           "legendgroup": "",
           "locationmode": "country names",
           "locations": [
            "Afghanistan",
            "Algeria",
            "Andorra",
            "Argentina",
            "Armenia",
            "Australia",
            "Austria",
            "Azerbaijan",
            "Bahrain",
            "Belarus",
            "Belgium",
            "Brazil",
            "Cambodia",
            "Canada",
            "Chile",
            "China",
            "Croatia",
            "Czech Republic",
            "Denmark",
            "Dominican Republic",
            "Ecuador",
            "Egypt",
            "Estonia",
            "Faroe Islands",
            "Finland",
            "France",
            "Georgia",
            "Germany",
            "Gibraltar",
            "Greece",
            "Hong Kong",
            "Hungary",
            "Iceland",
            "India",
            "Indonesia",
            "Iran",
            "Iraq",
            "Ireland",
            "Israel",
            "Italy",
            "Japan",
            "Jordan",
            "Kuwait",
            "Latvia",
            "Lebanon",
            "Liechtenstein",
            "Lithuania",
            "Luxembourg",
            "Macau",
            "Malaysia",
            "Mexico",
            "Monaco",
            "Morocco",
            "Nepal",
            "Netherlands",
            "New Zealand",
            "Nigeria",
            "North Macedonia",
            "Norway",
            "Oman",
            "Others",
            "Pakistan",
            "Philippines",
            "Poland",
            "Portugal",
            "Qatar",
            "Romania",
            "Russia",
            "Saint Barthelemy",
            "San Marino",
            "Saudi Arabia",
            "Senegal",
            "Singapore",
            "South Korea",
            "Spain",
            "Sri Lanka",
            "Sweden",
            "Switzerland",
            "Taiwan",
            "Thailand",
            "Tunisia",
            "UK",
            "US",
            "Ukraine",
            "United Arab Emirates",
            "Vietnam"
           ],
           "marker": {
            "color": [
             1,
             12,
             1,
             1,
             1,
             22,
             29,
             3,
             52,
             6,
             23,
             4,
             1,
             19,
             1,
             67332,
             10,
             8,
             10,
             1,
             10,
             2,
             2,
             1,
             6,
             285,
             3,
             262,
             1,
             9,
             105,
             2,
             26,
             28,
             2,
             2922,
             35,
             6,
             15,
             3089,
             331,
             1,
             56,
             1,
             13,
             1,
             1,
             1,
             10,
             50,
             5,
             1,
             1,
             1,
             38,
             3,
             1,
             1,
             56,
             15,
             706,
             5,
             3,
             1,
             5,
             8,
             4,
             3,
             3,
             16,
             1,
             4,
             110,
             5621,
             222,
             1,
             35,
             90,
             42,
             43,
             1,
             85,
             45,
             1,
             27,
             16
            ],
            "coloraxis": "coloraxis",
            "size": [
             1,
             2.107435899344471,
             1,
             1,
             1,
             2.5277074255111027,
             2.7461192933624785,
             1.3903891703159093,
             3.2719073933511478,
             1.711769859409705,
             2.5616415021458128,
             1.515716566510398,
             1,
             2.4189454814875875,
             1,
             28.084484355070565,
             1.9952623149688795,
             1.8660659830736148,
             1.9952623149688795,
             1,
             1.9952623149688795,
             1.2311444133449163,
             1.2311444133449163,
             1,
             1.711769859409705,
             5.450714789329305,
             1.3903891703159093,
             5.314842355900356,
             1,
             1.9331820449317627,
             4.039771395287841,
             1.2311444133449163,
             2.657614620905154,
             2.717361446466631,
             1.2311444133449163,
             10.957312895517244,
             2.9054968792442244,
             1.711769859409705,
             2.2533433808426553,
             11.141543814376817,
             5.700965307033067,
             1,
             3.345464363856254,
             1,
             2.1586538444215795,
             1,
             1,
             1,
             1.9952623149688795,
             3.233635032886787,
             1.6206565966927624,
             1,
             1,
             1,
             2.978071215719372,
             1.3903891703159093,
             1,
             1,
             3.345464363856254,
             2.2533433808426553,
             7.155523466351744,
             1.6206565966927624,
             1.3903891703159093,
             1,
             1.6206565966927624,
             1.8660659830736148,
             1.515716566510398,
             1.3903891703159093,
             1.3903891703159093,
             2.2973967099940698,
             1,
             1.515716566510398,
             4.096545713663848,
             13.333497247071476,
             5.057150662733924,
             1,
             2.9054968792442244,
             3.8572052822268215,
             3.068843822095698,
             3.0905838914967028,
             1,
             3.791627615651737,
             3.1330242337266654,
             1,
             2.6878753795222865,
             2.2973967099940698
            ],
            "sizemode": "area",
            "sizeref": 0.07034885314052819
           },
           "name": "",
           "showlegend": false,
           "type": "scattergeo"
          }
         ],
         "name": "03/04/2020"
        },
        {
         "data": [
          {
           "geo": "geo",
           "hoverlabel": {
            "namelength": 0
           },
           "hovertemplate": "<b>%{hovertext}</b><br><br>ObservationDate=03/05/2020<br>size=%{marker.size}<br>Country/Region=%{location}<br>Confirmed=%{marker.color}",
           "hovertext": [
            "Afghanistan",
            "Algeria",
            "Andorra",
            "Argentina",
            "Armenia",
            "Australia",
            "Austria",
            "Azerbaijan",
            "Bahrain",
            "Belarus",
            "Belgium",
            "Bosnia and Herzegovina",
            "Brazil",
            "Cambodia",
            "Canada",
            "Chile",
            "China",
            "Croatia",
            "Czech Republic",
            "Denmark",
            "Dominican Republic",
            "Ecuador",
            "Egypt",
            "Estonia",
            "Faroe Islands",
            "Finland",
            "France",
            "Georgia",
            "Germany",
            "Gibraltar",
            "Greece",
            "Hong Kong",
            "Hungary",
            "Iceland",
            "India",
            "Indonesia",
            "Iran",
            "Iraq",
            "Ireland",
            "Israel",
            "Italy",
            "Japan",
            "Jordan",
            "Kuwait",
            "Latvia",
            "Lebanon",
            "Liechtenstein",
            "Lithuania",
            "Luxembourg",
            "Macau",
            "Malaysia",
            "Mexico",
            "Monaco",
            "Morocco",
            "Nepal",
            "Netherlands",
            "New Zealand",
            "Nigeria",
            "North Macedonia",
            "Norway",
            "Oman",
            "Others",
            "Pakistan",
            "Palestine",
            "Philippines",
            "Poland",
            "Portugal",
            "Qatar",
            "Romania",
            "Russia",
            "Saint Barthelemy",
            "San Marino",
            "Saudi Arabia",
            "Senegal",
            "Singapore",
            "Slovenia",
            "South Africa",
            "South Korea",
            "Spain",
            "Sri Lanka",
            "Sweden",
            "Switzerland",
            "Taiwan",
            "Thailand",
            "Tunisia",
            "UK",
            "US",
            "Ukraine",
            "United Arab Emirates",
            "Vietnam"
           ],
           "legendgroup": "",
           "locationmode": "country names",
           "locations": [
            "Afghanistan",
            "Algeria",
            "Andorra",
            "Argentina",
            "Armenia",
            "Australia",
            "Austria",
            "Azerbaijan",
            "Bahrain",
            "Belarus",
            "Belgium",
            "Bosnia and Herzegovina",
            "Brazil",
            "Cambodia",
            "Canada",
            "Chile",
            "China",
            "Croatia",
            "Czech Republic",
            "Denmark",
            "Dominican Republic",
            "Ecuador",
            "Egypt",
            "Estonia",
            "Faroe Islands",
            "Finland",
            "France",
            "Georgia",
            "Germany",
            "Gibraltar",
            "Greece",
            "Hong Kong",
            "Hungary",
            "Iceland",
            "India",
            "Indonesia",
            "Iran",
            "Iraq",
            "Ireland",
            "Israel",
            "Italy",
            "Japan",
            "Jordan",
            "Kuwait",
            "Latvia",
            "Lebanon",
            "Liechtenstein",
            "Lithuania",
            "Luxembourg",
            "Macau",
            "Malaysia",
            "Mexico",
            "Monaco",
            "Morocco",
            "Nepal",
            "Netherlands",
            "New Zealand",
            "Nigeria",
            "North Macedonia",
            "Norway",
            "Oman",
            "Others",
            "Pakistan",
            "Palestine",
            "Philippines",
            "Poland",
            "Portugal",
            "Qatar",
            "Romania",
            "Russia",
            "Saint Barthelemy",
            "San Marino",
            "Saudi Arabia",
            "Senegal",
            "Singapore",
            "Slovenia",
            "South Africa",
            "South Korea",
            "Spain",
            "Sri Lanka",
            "Sweden",
            "Switzerland",
            "Taiwan",
            "Thailand",
            "Tunisia",
            "UK",
            "US",
            "Ukraine",
            "United Arab Emirates",
            "Vietnam"
           ],
           "marker": {
            "color": [
             1,
             12,
             1,
             1,
             1,
             22,
             41,
             6,
             55,
             6,
             50,
             2,
             4,
             1,
             21,
             4,
             67466,
             10,
             12,
             10,
             1,
             13,
             3,
             3,
             1,
             12,
             377,
             4,
             482,
             1,
             31,
             105,
             2,
             34,
             30,
             2,
             3513,
             35,
             6,
             16,
             3858,
             360,
             1,
             58,
             1,
             16,
             1,
             1,
             1,
             10,
             50,
             5,
             1,
             2,
             1,
             82,
             3,
             1,
             1,
             87,
             16,
             706,
             5,
             4,
             3,
             1,
             8,
             8,
             6,
             4,
             3,
             21,
             5,
             4,
             117,
             2,
             1,
             6088,
             259,
             1,
             94,
             114,
             44,
             47,
             1,
             115,
             51,
             1,
             29,
             16
            ],
            "coloraxis": "coloraxis",
            "size": [
             1,
             2.107435899344471,
             1,
             1,
             1,
             2.5277074255111027,
             3.046738334899583,
             1.711769859409705,
             3.327429072706326,
             1.711769859409705,
             3.233635032886787,
             1.2311444133449163,
             1.515716566510398,
             1,
             2.4926757485402593,
             1.515716566510398,
             28.10124029216058,
             1.9952623149688795,
             2.107435899344471,
             1.9952623149688795,
             1,
             2.1586538444215795,
             1.3903891703159093,
             1.3903891703159093,
             1,
             2.107435899344471,
             5.927920969857187,
             1.515716566510398,
             6.381372720813239,
             1,
             2.8016153494371836,
             4.039771395287841,
             1.2311444133449163,
             2.8803394661274377,
             2.774191114672181,
             1.2311444133449163,
             11.579863629337112,
             2.9054968792442244,
             1.711769859409705,
             2.2973967099940698,
             11.909915137651733,
             5.846429946702608,
             1,
             3.380869426401905,
             1,
             2.2973967099940698,
             1,
             1,
             1,
             1.9952623149688795,
             3.233635032886787,
             1.6206565966927624,
             1,
             1.2311444133449163,
             1,
             3.750974879935414,
             1.3903891703159093,
             1,
             1,
             3.818174525886768,
             2.2973967099940698,
             7.155523466351744,
             1.6206565966927624,
             1.515716566510398,
             1.3903891703159093,
             1,
             1.8660659830736148,
             1.8660659830736148,
             1.711769859409705,
             1.515716566510398,
             1.3903891703159093,
             2.4926757485402593,
             1.6206565966927624,
             1.515716566510398,
             4.173070853258721,
             1.2311444133449163,
             1,
             13.656593835472236,
             5.296511617649519,
             1,
             3.9078542362742903,
             4.1406779667657485,
             3.1119728754884552,
             3.174163968024659,
             1,
             4.151541198814568,
             3.2529025491464565,
             1,
             2.7461192933624785,
             2.2973967099940698
            ],
            "sizemode": "area",
            "sizeref": 0.07034885314052819
           },
           "name": "",
           "showlegend": false,
           "type": "scattergeo"
          }
         ],
         "name": "03/05/2020"
        },
        {
         "data": [
          {
           "geo": "geo",
           "hoverlabel": {
            "namelength": 0
           },
           "hovertemplate": "<b>%{hovertext}</b><br><br>ObservationDate=03/06/2020<br>size=%{marker.size}<br>Country/Region=%{location}<br>Confirmed=%{marker.color}",
           "hovertext": [
            "Afghanistan",
            "Algeria",
            "Andorra",
            "Argentina",
            "Armenia",
            "Australia",
            "Austria",
            "Azerbaijan",
            "Bahrain",
            "Belarus",
            "Belgium",
            "Bhutan",
            "Bosnia and Herzegovina",
            "Brazil",
            "Cambodia",
            "Cameroon",
            "Canada",
            "Chile",
            "China",
            "Colombia",
            "Costa Rica",
            "Croatia",
            "Czech Republic",
            "Denmark",
            "Dominican Republic",
            "Ecuador",
            "Egypt",
            "Estonia",
            "Faroe Islands",
            "Finland",
            "France",
            "Georgia",
            "Germany",
            "Gibraltar",
            "Greece",
            "Hong Kong",
            "Hungary",
            "Iceland",
            "India",
            "Indonesia",
            "Iran",
            "Iraq",
            "Ireland",
            "Israel",
            "Italy",
            "Japan",
            "Jordan",
            "Kuwait",
            "Latvia",
            "Lebanon",
            "Liechtenstein",
            "Lithuania",
            "Luxembourg",
            "Macau",
            "Malaysia",
            "Mexico",
            "Monaco",
            "Morocco",
            "Nepal",
            "Netherlands",
            "New Zealand",
            "Nigeria",
            "North Macedonia",
            "Norway",
            "Oman",
            "Others",
            "Pakistan",
            "Palestine",
            "Peru",
            "Philippines",
            "Poland",
            "Portugal",
            "Qatar",
            "Romania",
            "Russia",
            "Saint Barthelemy",
            "San Marino",
            "Saudi Arabia",
            "Senegal",
            "Serbia",
            "Singapore",
            "Slovakia",
            "Slovenia",
            "South Africa",
            "South Korea",
            "Spain",
            "Sri Lanka",
            "Sweden",
            "Switzerland",
            "Taiwan",
            "Thailand",
            "Togo",
            "Tunisia",
            "UK",
            "US",
            "Ukraine",
            "United Arab Emirates",
            "Vatican City",
            "Vietnam"
           ],
           "legendgroup": "",
           "locationmode": "country names",
           "locations": [
            "Afghanistan",
            "Algeria",
            "Andorra",
            "Argentina",
            "Armenia",
            "Australia",
            "Austria",
            "Azerbaijan",
            "Bahrain",
            "Belarus",
            "Belgium",
            "Bhutan",
            "Bosnia and Herzegovina",
            "Brazil",
            "Cambodia",
            "Cameroon",
            "Canada",
            "Chile",
            "China",
            "Colombia",
            "Costa Rica",
            "Croatia",
            "Czech Republic",
            "Denmark",
            "Dominican Republic",
            "Ecuador",
            "Egypt",
            "Estonia",
            "Faroe Islands",
            "Finland",
            "France",
            "Georgia",
            "Germany",
            "Gibraltar",
            "Greece",
            "Hong Kong",
            "Hungary",
            "Iceland",
            "India",
            "Indonesia",
            "Iran",
            "Iraq",
            "Ireland",
            "Israel",
            "Italy",
            "Japan",
            "Jordan",
            "Kuwait",
            "Latvia",
            "Lebanon",
            "Liechtenstein",
            "Lithuania",
            "Luxembourg",
            "Macau",
            "Malaysia",
            "Mexico",
            "Monaco",
            "Morocco",
            "Nepal",
            "Netherlands",
            "New Zealand",
            "Nigeria",
            "North Macedonia",
            "Norway",
            "Oman",
            "Others",
            "Pakistan",
            "Palestine",
            "Peru",
            "Philippines",
            "Poland",
            "Portugal",
            "Qatar",
            "Romania",
            "Russia",
            "Saint Barthelemy",
            "San Marino",
            "Saudi Arabia",
            "Senegal",
            "Serbia",
            "Singapore",
            "Slovakia",
            "Slovenia",
            "South Africa",
            "South Korea",
            "Spain",
            "Sri Lanka",
            "Sweden",
            "Switzerland",
            "Taiwan",
            "Thailand",
            "Togo",
            "Tunisia",
            "UK",
            "US",
            "Ukraine",
            "United Arab Emirates",
            "Vatican City",
            "Vietnam"
           ],
           "marker": {
            "color": [
             1,
             17,
             1,
             2,
             1,
             26,
             55,
             6,
             60,
             6,
             109,
             1,
             2,
             13,
             1,
             1,
             24,
             4,
             67592,
             1,
             1,
             11,
             18,
             23,
             2,
             13,
             15,
             10,
             1,
             15,
             653,
             4,
             670,
             1,
             45,
             107,
             2,
             43,
             31,
             4,
             4747,
             40,
             18,
             21,
             4636,
             420,
             1,
             58,
             1,
             22,
             1,
             1,
             2,
             10,
             83,
             6,
             1,
             2,
             1,
             128,
             4,
             1,
             3,
             108,
             16,
             696,
             6,
             16,
             1,
             5,
             5,
             13,
             8,
             9,
             13,
             3,
             21,
             5,
             4,
             1,
             130,
             1,
             7,
             1,
             6593,
             400,
             1,
             101,
             214,
             45,
             48,
             1,
             1,
             163,
             58,
             1,
             29,
             1,
             16
            ],
            "coloraxis": "coloraxis",
            "size": [
             1,
             2.3395626336814512,
             1,
             1.2311444133449163,
             1,
             2.657614620905154,
             3.327429072706326,
             1.711769859409705,
             3.4154298923797617,
             1.711769859409705,
             4.085337583465575,
             1,
             1.2311444133449163,
             2.1586538444215795,
             1,
             1,
             2.594557933960465,
             1.515716566510398,
             28.116974636555877,
             1,
             1,
             2.053136413658844,
             2.3800262745964407,
             2.5616415021458128,
             1.2311444133449163,
             2.1586538444215795,
             2.2533433808426553,
             1.9952623149688795,
             1,
             2.2533433808426553,
             6.989948152127391,
             1.515716566510398,
             7.044050175165095,
             1,
             3.1330242337266654,
             4.062703547247622,
             1.2311444133449163,
             3.0905838914967028,
             2.8016153494371836,
             1.515716566510398,
             12.674352147724555,
             3.0242521453322184,
             2.3800262745964407,
             2.4926757485402593,
             12.584704668131797,
             6.123148428752606,
             1,
             3.380869426401905,
             1,
             2.5277074255111027,
             1,
             1,
             1.2311444133449163,
             1.9952623149688795,
             3.7646397861257266,
             1.711769859409705,
             1,
             1.2311444133449163,
             1,
             4.2870938501451725,
             1.515716566510398,
             1,
             1.3903891703159093,
             4.0740572414573535,
             2.2973967099940698,
             7.124965600195525,
             1.711769859409705,
             2.2973967099940698,
             1,
             1.6206565966927624,
             1.6206565966927624,
             2.1586538444215795,
             1.8660659830736148,
             1.9331820449317627,
             2.1586538444215795,
             1.3903891703159093,
             2.4926757485402593,
             1.6206565966927624,
             1.515716566510398,
             1,
             4.307080666837073,
             1,
             1.792789962520997,
             1,
             13.987011202707828,
             6.034176336545163,
             1,
             3.9929733546852777,
             5.001774775270484,
             3.1330242337266654,
             3.194275505495155,
             1,
             1,
             4.6095261312628075,
             3.380869426401905,
             1,
             2.7461192933624785,
             1,
             2.2973967099940698
            ],
            "sizemode": "area",
            "sizeref": 0.07034885314052819
           },
           "name": "",
           "showlegend": false,
           "type": "scattergeo"
          }
         ],
         "name": "03/06/2020"
        },
        {
         "data": [
          {
           "geo": "geo",
           "hoverlabel": {
            "namelength": 0
           },
           "hovertemplate": "<b>%{hovertext}</b><br><br>ObservationDate=03/07/2020<br>size=%{marker.size}<br>Country/Region=%{location}<br>Confirmed=%{marker.color}",
           "hovertext": [
            "Afghanistan",
            "Algeria",
            "Andorra",
            "Argentina",
            "Armenia",
            "Australia",
            "Austria",
            "Azerbaijan",
            "Bahrain",
            "Belarus",
            "Belgium",
            "Bhutan",
            "Bosnia and Herzegovina",
            "Brazil",
            "Cambodia",
            "Cameroon",
            "Canada",
            "Chile",
            "China",
            "Colombia",
            "Costa Rica",
            "Croatia",
            "Czech Republic",
            "Denmark",
            "Dominican Republic",
            "Ecuador",
            "Egypt",
            "Estonia",
            "Faroe Islands",
            "Finland",
            "France",
            "French Guiana",
            "Georgia",
            "Germany",
            "Gibraltar",
            "Greece",
            "Hong Kong",
            "Hungary",
            "Iceland",
            "India",
            "Indonesia",
            "Iran",
            "Iraq",
            "Ireland",
            "Israel",
            "Italy",
            "Japan",
            "Jordan",
            "Kuwait",
            "Latvia",
            "Lebanon",
            "Liechtenstein",
            "Lithuania",
            "Luxembourg",
            "Macau",
            "Malaysia",
            "Malta",
            "Martinique",
            "Mexico",
            "Monaco",
            "Morocco",
            "Nepal",
            "Netherlands",
            "New Zealand",
            "Nigeria",
            "North Macedonia",
            "Norway",
            "Oman",
            "Others",
            "Pakistan",
            "Palestine",
            "Peru",
            "Philippines",
            "Poland",
            "Portugal",
            "Qatar",
            "Romania",
            "Russia",
            "Saint Barthelemy",
            "San Marino",
            "Saudi Arabia",
            "Senegal",
            "Serbia",
            "Singapore",
            "Slovakia",
            "Slovenia",
            "South Africa",
            "South Korea",
            "Spain",
            "Sri Lanka",
            "Sweden",
            "Switzerland",
            "Taiwan",
            "Thailand",
            "Togo",
            "Tunisia",
            "UK",
            "US",
            "Ukraine",
            "United Arab Emirates",
            "Vatican City",
            "Vietnam"
           ],
           "legendgroup": "",
           "locationmode": "country names",
           "locations": [
            "Afghanistan",
            "Algeria",
            "Andorra",
            "Argentina",
            "Armenia",
            "Australia",
            "Austria",
            "Azerbaijan",
            "Bahrain",
            "Belarus",
            "Belgium",
            "Bhutan",
            "Bosnia and Herzegovina",
            "Brazil",
            "Cambodia",
            "Cameroon",
            "Canada",
            "Chile",
            "China",
            "Colombia",
            "Costa Rica",
            "Croatia",
            "Czech Republic",
            "Denmark",
            "Dominican Republic",
            "Ecuador",
            "Egypt",
            "Estonia",
            "Faroe Islands",
            "Finland",
            "France",
            "French Guiana",
            "Georgia",
            "Germany",
            "Gibraltar",
            "Greece",
            "Hong Kong",
            "Hungary",
            "Iceland",
            "India",
            "Indonesia",
            "Iran",
            "Iraq",
            "Ireland",
            "Israel",
            "Italy",
            "Japan",
            "Jordan",
            "Kuwait",
            "Latvia",
            "Lebanon",
            "Liechtenstein",
            "Lithuania",
            "Luxembourg",
            "Macau",
            "Malaysia",
            "Malta",
            "Martinique",
            "Mexico",
            "Monaco",
            "Morocco",
            "Nepal",
            "Netherlands",
            "New Zealand",
            "Nigeria",
            "North Macedonia",
            "Norway",
            "Oman",
            "Others",
            "Pakistan",
            "Palestine",
            "Peru",
            "Philippines",
            "Poland",
            "Portugal",
            "Qatar",
            "Romania",
            "Russia",
            "Saint Barthelemy",
            "San Marino",
            "Saudi Arabia",
            "Senegal",
            "Serbia",
            "Singapore",
            "Slovakia",
            "Slovenia",
            "South Africa",
            "South Korea",
            "Spain",
            "Sri Lanka",
            "Sweden",
            "Switzerland",
            "Taiwan",
            "Thailand",
            "Togo",
            "Tunisia",
            "UK",
            "US",
            "Ukraine",
            "United Arab Emirates",
            "Vatican City",
            "Vietnam"
           ],
           "marker": {
            "color": [
             1,
             17,
             1,
             8,
             1,
             28,
             79,
             9,
             85,
             6,
             169,
             1,
             3,
             13,
             1,
             1,
             27,
             4,
             67666,
             1,
             1,
             12,
             19,
             23,
             2,
             13,
             15,
             10,
             1,
             15,
             949,
             5,
             4,
             799,
             1,
             46,
             108,
             4,
             50,
             34,
             4,
             5823,
             54,
             18,
             21,
             5883,
             461,
             1,
             61,
             1,
             22,
             1,
             1,
             2,
             10,
             93,
             3,
             2,
             6,
             1,
             2,
             1,
             188,
             5,
             1,
             3,
             147,
             16,
             696,
             6,
             22,
             1,
             6,
             5,
             20,
             8,
             9,
             13,
             3,
             23,
             5,
             4,
             1,
             138,
             1,
             7,
             1,
             7041,
             500,
             1,
             161,
             268,
             45,
             50,
             1,
             1,
             206,
             71,
             1,
             45,
             1,
             18
            ],
            "coloraxis": "coloraxis",
            "size": [
             1,
             2.3395626336814512,
             1,
             1.8660659830736148,
             1,
             2.717361446466631,
             3.709267269905158,
             1.9331820449317627,
             3.791627615651737,
             1.711769859409705,
             4.659786420036066,
             1,
             1.3903891703159093,
             2.1586538444215795,
             1,
             1,
             2.6878753795222865,
             1.515716566510398,
             28.126205874047933,
             1,
             1,
             2.107435899344471,
             2.4189454814875875,
             2.5616415021458128,
             1.2311444133449163,
             2.1586538444215795,
             2.2533433808426553,
             1.9952623149688795,
             1,
             2.2533433808426553,
             7.819515839889967,
             1.6206565966927624,
             1.515716566510398,
             7.426155412768537,
             1,
             3.1537506243592963,
             4.0740572414573535,
             1.515716566510398,
             3.233635032886787,
             2.8803394661274377,
             1.515716566510398,
             13.475473583910057,
             3.3091627572662095,
             2.3800262745964407,
             2.4926757485402593,
             13.516979480637076,
             6.2966604962743995,
             1,
             3.432408355505487,
             1,
             2.5277074255111027,
             1,
             1,
             1.2311444133449163,
             1.9952623149688795,
             3.8953356412482822,
             1.3903891703159093,
             1.2311444133449163,
             1.711769859409705,
             1,
             1.2311444133449163,
             1,
             4.811132911155357,
             1.6206565966927624,
             1,
             1.3903891703159093,
             4.46884406180249,
             2.2973967099940698,
             7.124965600195525,
             1.711769859409705,
             2.5277074255111027,
             1,
             1.711769859409705,
             1.6206565966927624,
             2.4564560522315806,
             1.8660659830736148,
             1.9331820449317627,
             2.1586538444215795,
             1.3903891703159093,
             2.5616415021458128,
             1.6206565966927624,
             1.515716566510398,
             1,
             4.384940713986203,
             1,
             1.792789962520997,
             1,
             14.265608567727663,
             6.4519501214821595,
             1,
             4.592485172624222,
             5.351067609370817,
             3.1330242337266654,
             3.233635032886787,
             1,
             1,
             4.944930204597636,
             3.592340583264959,
             1,
             3.1330242337266654,
             1,
             2.3800262745964407
            ],
            "sizemode": "area",
            "sizeref": 0.07034885314052819
           },
           "name": "",
           "showlegend": false,
           "type": "scattergeo"
          }
         ],
         "name": "03/07/2020"
        },
        {
         "data": [
          {
           "geo": "geo",
           "hoverlabel": {
            "namelength": 0
           },
           "hovertemplate": "<b>%{hovertext}</b><br><br>ObservationDate=03/08/2020<br>size=%{marker.size}<br>Country/Region=%{location}<br>Confirmed=%{marker.color}",
           "hovertext": [
            "Afghanistan",
            "Algeria",
            "Andorra",
            "Argentina",
            "Armenia",
            "Australia",
            "Austria",
            "Azerbaijan",
            "Bahrain",
            "Bangladesh",
            "Belarus",
            "Belgium",
            "Bhutan",
            "Bosnia and Herzegovina",
            "Brazil",
            "Bulgaria",
            "Cambodia",
            "Cameroon",
            "Canada",
            "Chile",
            "China",
            "Colombia",
            "Costa Rica",
            "Croatia",
            "Czech Republic",
            "Denmark",
            "Dominican Republic",
            "Ecuador",
            "Egypt",
            "Estonia",
            "Faroe Islands",
            "Finland",
            "France",
            "French Guiana",
            "Georgia",
            "Germany",
            "Gibraltar",
            "Greece",
            "Hong Kong",
            "Hungary",
            "Iceland",
            "India",
            "Indonesia",
            "Iran",
            "Iraq",
            "Ireland",
            "Israel",
            "Italy",
            "Japan",
            "Jordan",
            "Kuwait",
            "Latvia",
            "Lebanon",
            "Liechtenstein",
            "Lithuania",
            "Luxembourg",
            "Macau",
            "Malaysia",
            "Maldives",
            "Malta",
            "Martinique",
            "Mexico",
            "Moldova",
            "Monaco",
            "Morocco",
            "Nepal",
            "Netherlands",
            "New Zealand",
            "Nigeria",
            "North Macedonia",
            "Norway",
            "Oman",
            "Others",
            "Pakistan",
            "Palestine",
            "Paraguay",
            "Peru",
            "Philippines",
            "Poland",
            "Portugal",
            "Qatar",
            "Republic of Ireland",
            "Romania",
            "Russia",
            "Saint Barthelemy",
            "San Marino",
            "Saudi Arabia",
            "Senegal",
            "Serbia",
            "Singapore",
            "Slovakia",
            "Slovenia",
            "South Africa",
            "South Korea",
            "Spain",
            "Sri Lanka",
            "Sweden",
            "Switzerland",
            "Taiwan",
            "Thailand",
            "Togo",
            "Tunisia",
            "UK",
            "US",
            "Ukraine",
            "United Arab Emirates",
            "Vatican City",
            "Vietnam"
           ],
           "legendgroup": "",
           "locationmode": "country names",
           "locations": [
            "Afghanistan",
            "Algeria",
            "Andorra",
            "Argentina",
            "Armenia",
            "Australia",
            "Austria",
            "Azerbaijan",
            "Bahrain",
            "Bangladesh",
            "Belarus",
            "Belgium",
            "Bhutan",
            "Bosnia and Herzegovina",
            "Brazil",
            "Bulgaria",
            "Cambodia",
            "Cameroon",
            "Canada",
            "Chile",
            "China",
            "Colombia",
            "Costa Rica",
            "Croatia",
            "Czech Republic",
            "Denmark",
            "Dominican Republic",
            "Ecuador",
            "Egypt",
            "Estonia",
            "Faroe Islands",
            "Finland",
            "France",
            "French Guiana",
            "Georgia",
            "Germany",
            "Gibraltar",
            "Greece",
            "Hong Kong",
            "Hungary",
            "Iceland",
            "India",
            "Indonesia",
            "Iran",
            "Iraq",
            "Ireland",
            "Israel",
            "Italy",
            "Japan",
            "Jordan",
            "Kuwait",
            "Latvia",
            "Lebanon",
            "Liechtenstein",
            "Lithuania",
            "Luxembourg",
            "Macau",
            "Malaysia",
            "Maldives",
            "Malta",
            "Martinique",
            "Mexico",
            "Moldova",
            "Monaco",
            "Morocco",
            "Nepal",
            "Netherlands",
            "New Zealand",
            "Nigeria",
            "North Macedonia",
            "Norway",
            "Oman",
            "Others",
            "Pakistan",
            "Palestine",
            "Paraguay",
            "Peru",
            "Philippines",
            "Poland",
            "Portugal",
            "Qatar",
            "Republic of Ireland",
            "Romania",
            "Russia",
            "Saint Barthelemy",
            "San Marino",
            "Saudi Arabia",
            "Senegal",
            "Serbia",
            "Singapore",
            "Slovakia",
            "Slovenia",
            "South Africa",
            "South Korea",
            "Spain",
            "Sri Lanka",
            "Sweden",
            "Switzerland",
            "Taiwan",
            "Thailand",
            "Togo",
            "Tunisia",
            "UK",
            "US",
            "Ukraine",
            "United Arab Emirates",
            "Vatican City",
            "Vietnam"
           ],
           "marker": {
            "color": [
             4,
             19,
             1,
             12,
             1,
             38,
             104,
             9,
             85,
             3,
             6,
             200,
             1,
             3,
             20,
             4,
             2,
             2,
             28,
             8,
             67707,
             1,
             5,
             12,
             31,
             35,
             5,
             14,
             49,
             10,
             2,
             23,
             1126,
             5,
             13,
             1040,
             1,
             73,
             114,
             7,
             50,
             39,
             6,
             6566,
             60,
             19,
             39,
             7375,
             502,
             1,
             64,
             2,
             32,
             1,
             1,
             3,
             10,
             99,
             4,
             3,
             2,
             7,
             1,
             1,
             2,
             1,
             265,
             5,
             1,
             3,
             176,
             16,
             696,
             6,
             22,
             1,
             6,
             10,
             11,
             30,
             15,
             21,
             15,
             17,
             3,
             36,
             11,
             4,
             1,
             150,
             3,
             16,
             3,
             7314,
             673,
             1,
             203,
             337,
             45,
             50,
             1,
             2,
             273,
             83,
             1,
             45,
             1,
             30
            ],
            "coloraxis": "coloraxis",
            "size": [
             1.515716566510398,
             2.4189454814875875,
             1,
             2.107435899344471,
             1,
             2.978071215719372,
             4.028190508306193,
             1.9331820449317627,
             3.791627615651737,
             1.3903891703159093,
             1.711769859409705,
             4.901274189394899,
             1,
             1.3903891703159093,
             2.4564560522315806,
             1.515716566510398,
             1.2311444133449163,
             1.2311444133449163,
             2.717361446466631,
             1.8660659830736148,
             28.131317436589757,
             1,
             1.6206565966927624,
             2.107435899344471,
             2.8016153494371836,
             2.9054968792442244,
             1.6206565966927624,
             2.2071833466585673,
             3.2140958497160383,
             1.9952623149688795,
             1.2311444133449163,
             2.5616415021458128,
             8.23116897280053,
             1.6206565966927624,
             2.1586538444215795,
             8.037296718738682,
             1,
             3.622403777287988,
             4.1406779667657485,
             1.792789962520997,
             3.233635032886787,
             3.001368927744568,
             1.711769859409705,
             13.969802411807116,
             3.4154298923797617,
             2.4189454814875875,
             3.001368927744568,
             14.465338715455415,
             6.459681646854619,
             1,
             3.4822022531844965,
             1.2311444133449163,
             2.82842712474619,
             1,
             1,
             1.3903891703159093,
             1.9952623149688795,
             3.9690864506808694,
             1.515716566510398,
             1.3903891703159093,
             1.2311444133449163,
             1.792789962520997,
             1,
             1,
             1.2311444133449163,
             1,
             5.333026751341176,
             1.6206565966927624,
             1,
             1.3903891703159093,
             4.716868841908852,
             2.2973967099940698,
             7.124965600195525,
             1.711769859409705,
             2.5277074255111027,
             1,
             1.711769859409705,
             1.9952623149688795,
             2.053136413658844,
             2.774191114672181,
             2.2533433808426553,
             2.4926757485402593,
             2.2533433808426553,
             2.3395626336814512,
             1.3903891703159093,
             2.930156051583521,
             2.053136413658844,
             1.515716566510398,
             1,
             4.496011130479918,
             1.3903891703159093,
             2.2973967099940698,
             1.3903891703159093,
             14.4293406625776,
             7.05349754087523,
             1,
             4.9232151050255055,
             5.731772840410531,
             3.1330242337266654,
             3.233635032886787,
             1,
             1.2311444133449163,
             5.38082408748287,
             3.7646397861257266,
             1,
             3.1330242337266654,
             1,
             2.774191114672181
            ],
            "sizemode": "area",
            "sizeref": 0.07034885314052819
           },
           "name": "",
           "showlegend": false,
           "type": "scattergeo"
          }
         ],
         "name": "03/08/2020"
        },
        {
         "data": [
          {
           "geo": "geo",
           "hoverlabel": {
            "namelength": 0
           },
           "hovertemplate": "<b>%{hovertext}</b><br><br>ObservationDate=03/09/2020<br>size=%{marker.size}<br>Country/Region=%{location}<br>Confirmed=%{marker.color}",
           "hovertext": [
            "Afghanistan",
            "Albania",
            "Algeria",
            "Andorra",
            "Argentina",
            "Armenia",
            "Australia",
            "Austria",
            "Azerbaijan",
            "Bahrain",
            "Bangladesh",
            "Belarus",
            "Belgium",
            "Bhutan",
            "Bosnia and Herzegovina",
            "Brazil",
            "Brunei",
            "Bulgaria",
            "Cambodia",
            "Cameroon",
            "Canada",
            "Chile",
            "China",
            "Colombia",
            "Costa Rica",
            "Croatia",
            "Cyprus",
            "Czech Republic",
            "Denmark",
            "Dominican Republic",
            "Ecuador",
            "Egypt",
            "Estonia",
            "Faroe Islands",
            "Finland",
            "France",
            "French Guiana",
            "Georgia",
            "Germany",
            "Gibraltar",
            "Greece",
            "Hong Kong",
            "Hungary",
            "Iceland",
            "India",
            "Indonesia",
            "Iran",
            "Iraq",
            "Ireland",
            "Israel",
            "Italy",
            "Japan",
            "Jordan",
            "Kuwait",
            "Latvia",
            "Lebanon",
            "Liechtenstein",
            "Lithuania",
            "Luxembourg",
            "Macau",
            "Malaysia",
            "Maldives",
            "Malta",
            "Martinique",
            "Mexico",
            "Moldova",
            "Monaco",
            "Morocco",
            "Nepal",
            "Netherlands",
            "New Zealand",
            "Nigeria",
            "North Macedonia",
            "Norway",
            "Oman",
            "Others",
            "Pakistan",
            "Palestine",
            "Paraguay",
            "Peru",
            "Philippines",
            "Poland",
            "Portugal",
            "Qatar",
            "Romania",
            "Russia",
            "Saint Barthelemy",
            "San Marino",
            "Saudi Arabia",
            "Senegal",
            "Serbia",
            "Singapore",
            "Slovakia",
            "Slovenia",
            "South Africa",
            "South Korea",
            "Spain",
            "Sri Lanka",
            "St. Martin",
            "Sweden",
            "Switzerland",
            "Taiwan",
            "Thailand",
            "Togo",
            "Tunisia",
            "UK",
            "US",
            "Ukraine",
            "United Arab Emirates",
            "Vatican City",
            "Vietnam"
           ],
           "legendgroup": "",
           "locationmode": "country names",
           "locations": [
            "Afghanistan",
            "Albania",
            "Algeria",
            "Andorra",
            "Argentina",
            "Armenia",
            "Australia",
            "Austria",
            "Azerbaijan",
            "Bahrain",
            "Bangladesh",
            "Belarus",
            "Belgium",
            "Bhutan",
            "Bosnia and Herzegovina",
            "Brazil",
            "Brunei",
            "Bulgaria",
            "Cambodia",
            "Cameroon",
            "Canada",
            "Chile",
            "China",
            "Colombia",
            "Costa Rica",
            "Croatia",
            "Cyprus",
            "Czech Republic",
            "Denmark",
            "Dominican Republic",
            "Ecuador",
            "Egypt",
            "Estonia",
            "Faroe Islands",
            "Finland",
            "France",
            "French Guiana",
            "Georgia",
            "Germany",
            "Gibraltar",
            "Greece",
            "Hong Kong",
            "Hungary",
            "Iceland",
            "India",
            "Indonesia",
            "Iran",
            "Iraq",
            "Ireland",
            "Israel",
            "Italy",
            "Japan",
            "Jordan",
            "Kuwait",
            "Latvia",
            "Lebanon",
            "Liechtenstein",
            "Lithuania",
            "Luxembourg",
            "Macau",
            "Malaysia",
            "Maldives",
            "Malta",
            "Martinique",
            "Mexico",
            "Moldova",
            "Monaco",
            "Morocco",
            "Nepal",
            "Netherlands",
            "New Zealand",
            "Nigeria",
            "North Macedonia",
            "Norway",
            "Oman",
            "Others",
            "Pakistan",
            "Palestine",
            "Paraguay",
            "Peru",
            "Philippines",
            "Poland",
            "Portugal",
            "Qatar",
            "Romania",
            "Russia",
            "Saint Barthelemy",
            "San Marino",
            "Saudi Arabia",
            "Senegal",
            "Serbia",
            "Singapore",
            "Slovakia",
            "Slovenia",
            "South Africa",
            "South Korea",
            "Spain",
            "Sri Lanka",
            "St. Martin",
            "Sweden",
            "Switzerland",
            "Taiwan",
            "Thailand",
            "Togo",
            "Tunisia",
            "UK",
            "US",
            "Ukraine",
            "United Arab Emirates",
            "Vatican City",
            "Vietnam"
           ],
           "marker": {
            "color": [
             4,
             2,
             20,
             1,
             12,
             1,
             48,
             131,
             9,
             95,
             3,
             6,
             239,
             1,
             3,
             25,
             1,
             4,
             2,
             2,
             34,
             8,
             67743,
             1,
             9,
             12,
             2,
             31,
             90,
             5,
             15,
             55,
             10,
             2,
             30,
             1209,
             5,
             15,
             1176,
             1,
             73,
             115,
             9,
             58,
             43,
             19,
             7161,
             60,
             21,
             39,
             9172,
             511,
             1,
             64,
             6,
             32,
             1,
             1,
             3,
             10,
             117,
             4,
             3,
             2,
             7,
             1,
             1,
             2,
             1,
             321,
             5,
             2,
             3,
             205,
             16,
             696,
             6,
             22,
             1,
             7,
             20,
             16,
             30,
             18,
             15,
             17,
             1,
             36,
             15,
             4,
             1,
             150,
             3,
             16,
             3,
             7478,
             1073,
             1,
             2,
             248,
             374,
             45,
             50,
             1,
             2,
             321,
             98,
             1,
             45,
             1,
             30
            ],
            "coloraxis": "coloraxis",
            "size": [
             1.515716566510398,
             1.2311444133449163,
             2.4564560522315806,
             1,
             2.107435899344471,
             1,
             3.194275505495155,
             4.316993439835684,
             1.9331820449317627,
             3.920279951613009,
             1.3903891703159093,
             1.711769859409705,
             5.170343180785166,
             1,
             1.3903891703159093,
             2.626527804403767,
             1,
             1.515716566510398,
             1.2311444133449163,
             1.2311444133449163,
             2.8803394661274377,
             1.8660659830736148,
             28.13580385167233,
             1,
             1.9331820449317627,
             2.107435899344471,
             1.2311444133449163,
             2.8016153494371836,
             3.8572052822268215,
             1.6206565966927624,
             2.2533433808426553,
             3.327429072706326,
             1.9952623149688795,
             1.2311444133449163,
             2.774191114672181,
             8.408681257293004,
             1.6206565966927624,
             2.2533433808426553,
             8.339157887390149,
             1,
             3.622403777287988,
             4.151541198814568,
             1.9331820449317627,
             3.380869426401905,
             3.0905838914967028,
             2.4189454814875875,
             14.33811641171833,
             3.4154298923797617,
             2.4926757485402593,
             3.001368927744568,
             15.443268200175966,
             6.494209132120051,
             1,
             3.4822022531844965,
             1.711769859409705,
             2.82842712474619,
             1,
             1,
             1.3903891703159093,
             1.9952623149688795,
             4.173070853258721,
             1.515716566510398,
             1.3903891703159093,
             1.2311444133449163,
             1.792789962520997,
             1,
             1,
             1.2311444133449163,
             1,
             5.648739014297123,
             1.6206565966927624,
             1.2311444133449163,
             1.3903891703159093,
             4.937716580851732,
             2.2973967099940698,
             7.124965600195525,
             1.711769859409705,
             2.5277074255111027,
             1,
             1.792789962520997,
             2.4564560522315806,
             2.2973967099940698,
             2.774191114672181,
             2.3800262745964407,
             2.2533433808426553,
             2.3395626336814512,
             1,
             2.930156051583521,
             2.2533433808426553,
             1.515716566510398,
             1,
             4.496011130479918,
             1.3903891703159093,
             2.2973967099940698,
             1.3903891703159093,
             14.525652098871177,
             8.112970869322071,
             1,
             1.2311444133449163,
             5.227999101241627,
             5.913729841604916,
             3.1330242337266654,
             3.233635032886787,
             1,
             1.2311444133449163,
             5.648739014297123,
             3.9570161493329823,
             1,
             3.1330242337266654,
             1,
             2.774191114672181
            ],
            "sizemode": "area",
            "sizeref": 0.07034885314052819
           },
           "name": "",
           "showlegend": false,
           "type": "scattergeo"
          }
         ],
         "name": "03/09/2020"
        },
        {
         "data": [
          {
           "geo": "geo",
           "hoverlabel": {
            "namelength": 0
           },
           "hovertemplate": "<b>%{hovertext}</b><br><br>ObservationDate=03/10/2020<br>size=%{marker.size}<br>Country/Region=%{location}<br>Confirmed=%{marker.color}",
           "hovertext": [
            "('St. Martin',)",
            "Afghanistan",
            "Albania",
            "Algeria",
            "Andorra",
            "Argentina",
            "Armenia",
            "Australia",
            "Austria",
            "Azerbaijan",
            "Bahrain",
            "Bangladesh",
            "Belarus",
            "Belgium",
            "Bhutan",
            "Bosnia and Herzegovina",
            "Brazil",
            "Brunei",
            "Bulgaria",
            "Burkina Faso",
            "Cambodia",
            "Cameroon",
            "Canada",
            "Channel Islands",
            "Chile",
            "China",
            "Colombia",
            "Costa Rica",
            "Croatia",
            "Cyprus",
            "Czech Republic",
            "Denmark",
            "Dominican Republic",
            "Ecuador",
            "Egypt",
            "Estonia",
            "Faroe Islands",
            "Finland",
            "France",
            "French Guiana",
            "Georgia",
            "Germany",
            "Gibraltar",
            "Greece",
            "Holy See",
            "Hong Kong",
            "Hungary",
            "Iceland",
            "India",
            "Indonesia",
            "Iran",
            "Iraq",
            "Ireland",
            "Israel",
            "Italy",
            "Japan",
            "Jordan",
            "Kuwait",
            "Latvia",
            "Lebanon",
            "Liechtenstein",
            "Lithuania",
            "Luxembourg",
            "Macau",
            "Malaysia",
            "Maldives",
            "Malta",
            "Martinique",
            "Mexico",
            "Moldova",
            "Monaco",
            "Mongolia",
            "Morocco",
            "Nepal",
            "Netherlands",
            "New Zealand",
            "Nigeria",
            "North Macedonia",
            "Norway",
            "Oman",
            "Others",
            "Pakistan",
            "Panama",
            "Paraguay",
            "Peru",
            "Philippines",
            "Poland",
            "Portugal",
            "Qatar",
            "Romania",
            "Russia",
            "Saint Barthelemy",
            "San Marino",
            "Saudi Arabia",
            "Senegal",
            "Serbia",
            "Singapore",
            "Slovakia",
            "Slovenia",
            "South Africa",
            "South Korea",
            "Spain",
            "Sri Lanka",
            "Sweden",
            "Switzerland",
            "Taiwan",
            "Thailand",
            "Togo",
            "Tunisia",
            "UK",
            "US",
            "Ukraine",
            "United Arab Emirates",
            "Vietnam",
            "occupied Palestinian territory"
           ],
           "legendgroup": "",
           "locationmode": "country names",
           "locations": [
            "('St. Martin',)",
            "Afghanistan",
            "Albania",
            "Algeria",
            "Andorra",
            "Argentina",
            "Armenia",
            "Australia",
            "Austria",
            "Azerbaijan",
            "Bahrain",
            "Bangladesh",
            "Belarus",
            "Belgium",
            "Bhutan",
            "Bosnia and Herzegovina",
            "Brazil",
            "Brunei",
            "Bulgaria",
            "Burkina Faso",
            "Cambodia",
            "Cameroon",
            "Canada",
            "Channel Islands",
            "Chile",
            "China",
            "Colombia",
            "Costa Rica",
            "Croatia",
            "Cyprus",
            "Czech Republic",
            "Denmark",
            "Dominican Republic",
            "Ecuador",
            "Egypt",
            "Estonia",
            "Faroe Islands",
            "Finland",
            "France",
            "French Guiana",
            "Georgia",
            "Germany",
            "Gibraltar",
            "Greece",
            "Holy See",
            "Hong Kong",
            "Hungary",
            "Iceland",
            "India",
            "Indonesia",
            "Iran",
            "Iraq",
            "Ireland",
            "Israel",
            "Italy",
            "Japan",
            "Jordan",
            "Kuwait",
            "Latvia",
            "Lebanon",
            "Liechtenstein",
            "Lithuania",
            "Luxembourg",
            "Macau",
            "Malaysia",
            "Maldives",
            "Malta",
            "Martinique",
            "Mexico",
            "Moldova",
            "Monaco",
            "Mongolia",
            "Morocco",
            "Nepal",
            "Netherlands",
            "New Zealand",
            "Nigeria",
            "North Macedonia",
            "Norway",
            "Oman",
            "Others",
            "Pakistan",
            "Panama",
            "Paraguay",
            "Peru",
            "Philippines",
            "Poland",
            "Portugal",
            "Qatar",
            "Romania",
            "Russia",
            "Saint Barthelemy",
            "San Marino",
            "Saudi Arabia",
            "Senegal",
            "Serbia",
            "Singapore",
            "Slovakia",
            "Slovenia",
            "South Africa",
            "South Korea",
            "Spain",
            "Sri Lanka",
            "Sweden",
            "Switzerland",
            "Taiwan",
            "Thailand",
            "Togo",
            "Tunisia",
            "UK",
            "US",
            "Ukraine",
            "United Arab Emirates",
            "Vietnam",
            "occupied Palestinian territory"
           ],
           "marker": {
            "color": [
             2,
             5,
             10,
             20,
             1,
             17,
             1,
             55,
             182,
             11,
             110,
             3,
             9,
             267,
             1,
             5,
             31,
             1,
             4,
             1,
             2,
             2,
             36,
             1,
             13,
             67760,
             3,
             9,
             14,
             3,
             41,
             262,
             5,
             15,
             59,
             12,
             2,
             40,
             1784,
             5,
             15,
             1457,
             1,
             89,
             1,
             120,
             9,
             69,
             56,
             27,
             8042,
             71,
             34,
             58,
             10149,
             581,
             1,
             69,
             8,
             41,
             1,
             1,
             5,
             10,
             129,
             6,
             5,
             2,
             7,
             3,
             1,
             1,
             3,
             1,
             382,
             5,
             2,
             7,
             400,
             18,
             696,
             16,
             1,
             1,
             11,
             33,
             22,
             41,
             24,
             25,
             10,
             1,
             51,
             20,
             4,
             5,
             160,
             7,
             31,
             7,
             7513,
             1695,
             1,
             355,
             491,
             47,
             53,
             1,
             5,
             382,
             267,
             1,
             74,
             31,
             25
            ],
            "coloraxis": "coloraxis",
            "size": [
             1.2311444133449163,
             1.6206565966927624,
             1.9952623149688795,
             2.4564560522315806,
             1,
             2.3395626336814512,
             1,
             3.327429072706326,
             4.764544816607805,
             2.053136413658844,
             4.096545713663848,
             1.3903891703159093,
             1.9331820449317627,
             5.345069768970537,
             1,
             1.6206565966927624,
             2.8016153494371836,
             1,
             1.515716566510398,
             1,
             1.2311444133449163,
             1.2311444133449163,
             2.930156051583521,
             1,
             2.1586538444215795,
             28.137921856458068,
             1.3903891703159093,
             1.9331820449317627,
             2.2071833466585673,
             1.3903891703159093,
             3.046738334899583,
             5.314842355900356,
             1.6206565966927624,
             2.2533433808426553,
             3.3982521746716885,
             2.107435899344471,
             1.2311444133449163,
             3.0242521453322184,
             9.449709439990395,
             1.6206565966927624,
             2.2533433808426553,
             8.892786494448323,
             1,
             3.8442976132762077,
             1,
             4.204887431174572,
             1.9331820449317627,
             3.561678602815316,
             3.345464363856254,
             2.6878753795222865,
             14.845991946667903,
             3.592340583264959,
             2.8803394661274377,
             3.380869426401905,
             15.919410283471617,
             6.749208421073396,
             1,
             3.561678602815316,
             1.8660659830736148,
             3.046738334899583,
             1,
             1,
             1.6206565966927624,
             1.9952623149688795,
             4.297114372689815,
             1.711769859409705,
             1.6206565966927624,
             1.2311444133449163,
             1.792789962520997,
             1.3903891703159093,
             1,
             1,
             1.3903891703159093,
             1,
             5.951398194250925,
             1.6206565966927624,
             1.2311444133449163,
             1.792789962520997,
             6.034176336545163,
             2.3800262745964407,
             7.124965600195525,
             2.2973967099940698,
             1,
             1,
             2.053136413658844,
             2.854658634732502,
             2.5277074255111027,
             3.046738334899583,
             2.594557933960465,
             2.626527804403767,
             1.9952623149688795,
             1,
             3.2529025491464565,
             2.4564560522315806,
             1.515716566510398,
             1.6206565966927624,
             4.583909077984655,
             1.792789962520997,
             2.8016153494371836,
             1.792789962520997,
             14.546014516601037,
             9.305739924403124,
             1,
             5.821950463835482,
             6.416887829060949,
             3.174163968024659,
             3.2906580963691905,
             1,
             1.6206565966927624,
             5.951398194250925,
             5.345069768970537,
             1,
             3.6372195430613803,
             2.8016153494371836,
             2.626527804403767
            ],
            "sizemode": "area",
            "sizeref": 0.07034885314052819
           },
           "name": "",
           "showlegend": false,
           "type": "scattergeo"
          }
         ],
         "name": "03/10/2020"
        },
        {
         "data": [
          {
           "geo": "geo",
           "hoverlabel": {
            "namelength": 0
           },
           "hovertemplate": "<b>%{hovertext}</b><br><br>ObservationDate=03/11/2020<br>size=%{marker.size}<br>Country/Region=%{location}<br>Confirmed=%{marker.color}",
           "hovertext": [
            "Afghanistan",
            "Albania",
            "Algeria",
            "Andorra",
            "Argentina",
            "Armenia",
            "Australia",
            "Austria",
            "Azerbaijan",
            "Bahrain",
            "Bangladesh",
            "Belarus",
            "Belgium",
            "Bhutan",
            "Bolivia",
            "Bosnia and Herzegovina",
            "Brazil",
            "Brunei",
            "Bulgaria",
            "Burkina Faso",
            "Cambodia",
            "Cameroon",
            "Canada",
            "Chile",
            "China",
            "Colombia",
            "Congo (Kinshasa)",
            "Costa Rica",
            "Croatia",
            "Cyprus",
            "Czech Republic",
            "Denmark",
            "Dominican Republic",
            "Ecuador",
            "Egypt",
            "Estonia",
            "Finland",
            "France",
            "French Guiana",
            "Georgia",
            "Germany",
            "Greece",
            "Holy See",
            "Honduras",
            "Hungary",
            "Iceland",
            "India",
            "Indonesia",
            "Iran",
            "Iraq",
            "Ireland",
            "Israel",
            "Italy",
            "Ivory Coast",
            "Jamaica",
            "Japan",
            "Jordan",
            "Kuwait",
            "Latvia",
            "Lebanon",
            "Liechtenstein",
            "Lithuania",
            "Luxembourg",
            "Malaysia",
            "Maldives",
            "Malta",
            "Martinique",
            "Mexico",
            "Moldova",
            "Monaco",
            "Mongolia",
            "Morocco",
            "Nepal",
            "Netherlands",
            "New Zealand",
            "Nigeria",
            "North Macedonia",
            "Norway",
            "Oman",
            "Others",
            "Pakistan",
            "Panama",
            "Paraguay",
            "Peru",
            "Philippines",
            "Poland",
            "Portugal",
            "Qatar",
            "Reunion",
            "Romania",
            "Russia",
            "San Marino",
            "Saudi Arabia",
            "Senegal",
            "Serbia",
            "Singapore",
            "Slovakia",
            "Slovenia",
            "South Africa",
            "South Korea",
            "Spain",
            "Sri Lanka",
            "Sweden",
            "Switzerland",
            "Taiwan",
            "Thailand",
            "Togo",
            "Tunisia",
            "Turkey",
            "UK",
            "US",
            "Ukraine",
            "United Arab Emirates",
            "Vietnam",
            "occupied Palestinian territory"
           ],
           "legendgroup": "",
           "locationmode": "country names",
           "locations": [
            "Afghanistan",
            "Albania",
            "Algeria",
            "Andorra",
            "Argentina",
            "Armenia",
            "Australia",
            "Austria",
            "Azerbaijan",
            "Bahrain",
            "Bangladesh",
            "Belarus",
            "Belgium",
            "Bhutan",
            "Bolivia",
            "Bosnia and Herzegovina",
            "Brazil",
            "Brunei",
            "Bulgaria",
            "Burkina Faso",
            "Cambodia",
            "Cameroon",
            "Canada",
            "Chile",
            "China",
            "Colombia",
            "Congo (Kinshasa)",
            "Costa Rica",
            "Croatia",
            "Cyprus",
            "Czech Republic",
            "Denmark",
            "Dominican Republic",
            "Ecuador",
            "Egypt",
            "Estonia",
            "Finland",
            "France",
            "French Guiana",
            "Georgia",
            "Germany",
            "Greece",
            "Holy See",
            "Honduras",
            "Hungary",
            "Iceland",
            "India",
            "Indonesia",
            "Iran",
            "Iraq",
            "Ireland",
            "Israel",
            "Italy",
            "Ivory Coast",
            "Jamaica",
            "Japan",
            "Jordan",
            "Kuwait",
            "Latvia",
            "Lebanon",
            "Liechtenstein",
            "Lithuania",
            "Luxembourg",
            "Malaysia",
            "Maldives",
            "Malta",
            "Martinique",
            "Mexico",
            "Moldova",
            "Monaco",
            "Mongolia",
            "Morocco",
            "Nepal",
            "Netherlands",
            "New Zealand",
            "Nigeria",
            "North Macedonia",
            "Norway",
            "Oman",
            "Others",
            "Pakistan",
            "Panama",
            "Paraguay",
            "Peru",
            "Philippines",
            "Poland",
            "Portugal",
            "Qatar",
            "Reunion",
            "Romania",
            "Russia",
            "San Marino",
            "Saudi Arabia",
            "Senegal",
            "Serbia",
            "Singapore",
            "Slovakia",
            "Slovenia",
            "South Africa",
            "South Korea",
            "Spain",
            "Sri Lanka",
            "Sweden",
            "Switzerland",
            "Taiwan",
            "Thailand",
            "Togo",
            "Tunisia",
            "Turkey",
            "UK",
            "US",
            "Ukraine",
            "United Arab Emirates",
            "Vietnam",
            "occupied Palestinian territory"
           ],
           "marker": {
            "color": [
             7,
             12,
             20,
             1,
             19,
             1,
             65,
             246,
             11,
             195,
             3,
             9,
             314,
             1,
             2,
             7,
             38,
             11,
             7,
             2,
             3,
             2,
             41,
             23,
             67773,
             9,
             1,
             13,
             19,
             6,
             91,
             442,
             5,
             17,
             60,
             16,
             59,
             2281,
             5,
             24,
             1908,
             99,
             1,
             2,
             13,
             85,
             62,
             34,
             9000,
             71,
             43,
             109,
             12462,
             1,
             1,
             639,
             1,
             72,
             10,
             61,
             1,
             3,
             7,
             149,
             8,
             6,
             3,
             8,
             3,
             1,
             1,
             5,
             1,
             503,
             5,
             2,
             7,
             598,
             18,
             696,
             19,
             8,
             5,
             11,
             49,
             31,
             59,
             262,
             1,
             45,
             20,
             62,
             21,
             4,
             12,
             178,
             10,
             57,
             13,
             7755,
             2277,
             2,
             500,
             652,
             48,
             59,
             1,
             7,
             1,
             456,
             366,
             1,
             74,
             38,
             0
            ],
            "coloraxis": "coloraxis",
            "size": [
             1.792789962520997,
             2.107435899344471,
             2.4564560522315806,
             1,
             2.4189454814875875,
             1,
             3.4984365929380252,
             5.215314851189218,
             2.053136413658844,
             4.864188351857917,
             1.3903891703159093,
             1.9331820449317627,
             5.6114990589420035,
             1,
             1.2311444133449163,
             1.792789962520997,
             2.978071215719372,
             2.053136413658844,
             1.792789962520997,
             1.2311444133449163,
             1.3903891703159093,
             1.2311444133449163,
             3.046738334899583,
             2.5616415021458128,
             28.139541256211277,
             1.9331820449317627,
             1,
             2.1586538444215795,
             2.4189454814875875,
             1.711769859409705,
             3.8700129448363705,
             6.217655861795193,
             1.6206565966927624,
             2.3395626336814512,
             3.4154298923797617,
             2.2973967099940698,
             3.3982521746716885,
             10.172731587651263,
             1.6206565966927624,
             2.594557933960465,
             9.642141734768494,
             3.9690864506808694,
             1,
             1.2311444133449163,
             2.1586538444215795,
             3.791627615651737,
             3.449193085800954,
             2.8803394661274377,
             15.355810811513235,
             3.592340583264959,
             3.0905838914967028,
             4.085337583465575,
             16.93075495577276,
             1,
             1,
             6.944648314847515,
             1,
             3.6074452531358507,
             1.9952623149688795,
             3.432408355505487,
             1,
             1.3903891703159093,
             1.792789962520997,
             4.486998047212219,
             1.8660659830736148,
             1.711769859409705,
             1.3903891703159093,
             1.8660659830736148,
             1.3903891703159093,
             1,
             1,
             1.6206565966927624,
             1,
             6.463539325915487,
             1.6206565966927624,
             1.2311444133449163,
             1.792789962520997,
             6.8078559096201525,
             2.3800262745964407,
             7.124965600195525,
             2.4189454814875875,
             1.8660659830736148,
             1.6206565966927624,
             2.053136413658844,
             3.2140958497160383,
             2.8016153494371836,
             3.3982521746716885,
             5.314842355900356,
             1,
             3.1330242337266654,
             2.4564560522315806,
             3.449193085800954,
             2.4926757485402593,
             1.515716566510398,
             2.107435899344471,
             4.732885529820199,
             1.9952623149688795,
             3.3632756010449447,
             2.1586538444215795,
             14.685019942722393,
             10.167376577668735,
             1.2311444133449163,
             6.4519501214821595,
             6.986735120917621,
             3.194275505495155,
             3.3982521746716885,
             1,
             1.792789962520997,
             1,
             6.276094190811437,
             5.875493168140324,
             1,
             3.6372195430613803,
             2.978071215719372,
             0
            ],
            "sizemode": "area",
            "sizeref": 0.07034885314052819
           },
           "name": "",
           "showlegend": false,
           "type": "scattergeo"
          }
         ],
         "name": "03/11/2020"
        }
       ],
       "layout": {
        "coloraxis": {
         "cmax": 67775,
         "cmin": 0,
         "colorbar": {
          "title": {
           "text": "Confirmed"
          }
         },
         "colorscale": [
          [
           0,
           "#0d0887"
          ],
          [
           0.1111111111111111,
           "#46039f"
          ],
          [
           0.2222222222222222,
           "#7201a8"
          ],
          [
           0.3333333333333333,
           "#9c179e"
          ],
          [
           0.4444444444444444,
           "#bd3786"
          ],
          [
           0.5555555555555556,
           "#d8576b"
          ],
          [
           0.6666666666666666,
           "#ed7953"
          ],
          [
           0.7777777777777778,
           "#fb9f3a"
          ],
          [
           0.8888888888888888,
           "#fdca26"
          ],
          [
           1,
           "#f0f921"
          ]
         ],
         "showscale": false
        },
        "geo": {
         "center": {},
         "domain": {
          "x": [
           0,
           1
          ],
          "y": [
           0,
           1
          ]
         },
         "projection": {
          "type": "natural earth"
         }
        },
        "legend": {
         "itemsizing": "constant",
         "tracegroupgap": 0
        },
        "sliders": [
         {
          "active": 0,
          "currentvalue": {
           "prefix": "ObservationDate="
          },
          "len": 0.9,
          "pad": {
           "b": 10,
           "t": 60
          },
          "steps": [
           {
            "args": [
             [
              "01/22/2020"
             ],
             {
              "frame": {
               "duration": 0,
               "redraw": true
              },
              "fromcurrent": true,
              "mode": "immediate",
              "transition": {
               "duration": 0,
               "easing": "linear"
              }
             }
            ],
            "label": "01/22/2020",
            "method": "animate"
           },
           {
            "args": [
             [
              "01/23/2020"
             ],
             {
              "frame": {
               "duration": 0,
               "redraw": true
              },
              "fromcurrent": true,
              "mode": "immediate",
              "transition": {
               "duration": 0,
               "easing": "linear"
              }
             }
            ],
            "label": "01/23/2020",
            "method": "animate"
           },
           {
            "args": [
             [
              "01/24/2020"
             ],
             {
              "frame": {
               "duration": 0,
               "redraw": true
              },
              "fromcurrent": true,
              "mode": "immediate",
              "transition": {
               "duration": 0,
               "easing": "linear"
              }
             }
            ],
            "label": "01/24/2020",
            "method": "animate"
           },
           {
            "args": [
             [
              "01/25/2020"
             ],
             {
              "frame": {
               "duration": 0,
               "redraw": true
              },
              "fromcurrent": true,
              "mode": "immediate",
              "transition": {
               "duration": 0,
               "easing": "linear"
              }
             }
            ],
            "label": "01/25/2020",
            "method": "animate"
           },
           {
            "args": [
             [
              "01/26/2020"
             ],
             {
              "frame": {
               "duration": 0,
               "redraw": true
              },
              "fromcurrent": true,
              "mode": "immediate",
              "transition": {
               "duration": 0,
               "easing": "linear"
              }
             }
            ],
            "label": "01/26/2020",
            "method": "animate"
           },
           {
            "args": [
             [
              "01/27/2020"
             ],
             {
              "frame": {
               "duration": 0,
               "redraw": true
              },
              "fromcurrent": true,
              "mode": "immediate",
              "transition": {
               "duration": 0,
               "easing": "linear"
              }
             }
            ],
            "label": "01/27/2020",
            "method": "animate"
           },
           {
            "args": [
             [
              "01/28/2020"
             ],
             {
              "frame": {
               "duration": 0,
               "redraw": true
              },
              "fromcurrent": true,
              "mode": "immediate",
              "transition": {
               "duration": 0,
               "easing": "linear"
              }
             }
            ],
            "label": "01/28/2020",
            "method": "animate"
           },
           {
            "args": [
             [
              "01/29/2020"
             ],
             {
              "frame": {
               "duration": 0,
               "redraw": true
              },
              "fromcurrent": true,
              "mode": "immediate",
              "transition": {
               "duration": 0,
               "easing": "linear"
              }
             }
            ],
            "label": "01/29/2020",
            "method": "animate"
           },
           {
            "args": [
             [
              "01/30/2020"
             ],
             {
              "frame": {
               "duration": 0,
               "redraw": true
              },
              "fromcurrent": true,
              "mode": "immediate",
              "transition": {
               "duration": 0,
               "easing": "linear"
              }
             }
            ],
            "label": "01/30/2020",
            "method": "animate"
           },
           {
            "args": [
             [
              "01/31/2020"
             ],
             {
              "frame": {
               "duration": 0,
               "redraw": true
              },
              "fromcurrent": true,
              "mode": "immediate",
              "transition": {
               "duration": 0,
               "easing": "linear"
              }
             }
            ],
            "label": "01/31/2020",
            "method": "animate"
           },
           {
            "args": [
             [
              "02/01/2020"
             ],
             {
              "frame": {
               "duration": 0,
               "redraw": true
              },
              "fromcurrent": true,
              "mode": "immediate",
              "transition": {
               "duration": 0,
               "easing": "linear"
              }
             }
            ],
            "label": "02/01/2020",
            "method": "animate"
           },
           {
            "args": [
             [
              "02/02/2020"
             ],
             {
              "frame": {
               "duration": 0,
               "redraw": true
              },
              "fromcurrent": true,
              "mode": "immediate",
              "transition": {
               "duration": 0,
               "easing": "linear"
              }
             }
            ],
            "label": "02/02/2020",
            "method": "animate"
           },
           {
            "args": [
             [
              "02/03/2020"
             ],
             {
              "frame": {
               "duration": 0,
               "redraw": true
              },
              "fromcurrent": true,
              "mode": "immediate",
              "transition": {
               "duration": 0,
               "easing": "linear"
              }
             }
            ],
            "label": "02/03/2020",
            "method": "animate"
           },
           {
            "args": [
             [
              "02/04/2020"
             ],
             {
              "frame": {
               "duration": 0,
               "redraw": true
              },
              "fromcurrent": true,
              "mode": "immediate",
              "transition": {
               "duration": 0,
               "easing": "linear"
              }
             }
            ],
            "label": "02/04/2020",
            "method": "animate"
           },
           {
            "args": [
             [
              "02/05/2020"
             ],
             {
              "frame": {
               "duration": 0,
               "redraw": true
              },
              "fromcurrent": true,
              "mode": "immediate",
              "transition": {
               "duration": 0,
               "easing": "linear"
              }
             }
            ],
            "label": "02/05/2020",
            "method": "animate"
           },
           {
            "args": [
             [
              "02/06/2020"
             ],
             {
              "frame": {
               "duration": 0,
               "redraw": true
              },
              "fromcurrent": true,
              "mode": "immediate",
              "transition": {
               "duration": 0,
               "easing": "linear"
              }
             }
            ],
            "label": "02/06/2020",
            "method": "animate"
           },
           {
            "args": [
             [
              "02/07/2020"
             ],
             {
              "frame": {
               "duration": 0,
               "redraw": true
              },
              "fromcurrent": true,
              "mode": "immediate",
              "transition": {
               "duration": 0,
               "easing": "linear"
              }
             }
            ],
            "label": "02/07/2020",
            "method": "animate"
           },
           {
            "args": [
             [
              "02/08/2020"
             ],
             {
              "frame": {
               "duration": 0,
               "redraw": true
              },
              "fromcurrent": true,
              "mode": "immediate",
              "transition": {
               "duration": 0,
               "easing": "linear"
              }
             }
            ],
            "label": "02/08/2020",
            "method": "animate"
           },
           {
            "args": [
             [
              "02/09/2020"
             ],
             {
              "frame": {
               "duration": 0,
               "redraw": true
              },
              "fromcurrent": true,
              "mode": "immediate",
              "transition": {
               "duration": 0,
               "easing": "linear"
              }
             }
            ],
            "label": "02/09/2020",
            "method": "animate"
           },
           {
            "args": [
             [
              "02/10/2020"
             ],
             {
              "frame": {
               "duration": 0,
               "redraw": true
              },
              "fromcurrent": true,
              "mode": "immediate",
              "transition": {
               "duration": 0,
               "easing": "linear"
              }
             }
            ],
            "label": "02/10/2020",
            "method": "animate"
           },
           {
            "args": [
             [
              "02/11/2020"
             ],
             {
              "frame": {
               "duration": 0,
               "redraw": true
              },
              "fromcurrent": true,
              "mode": "immediate",
              "transition": {
               "duration": 0,
               "easing": "linear"
              }
             }
            ],
            "label": "02/11/2020",
            "method": "animate"
           },
           {
            "args": [
             [
              "02/12/2020"
             ],
             {
              "frame": {
               "duration": 0,
               "redraw": true
              },
              "fromcurrent": true,
              "mode": "immediate",
              "transition": {
               "duration": 0,
               "easing": "linear"
              }
             }
            ],
            "label": "02/12/2020",
            "method": "animate"
           },
           {
            "args": [
             [
              "02/13/2020"
             ],
             {
              "frame": {
               "duration": 0,
               "redraw": true
              },
              "fromcurrent": true,
              "mode": "immediate",
              "transition": {
               "duration": 0,
               "easing": "linear"
              }
             }
            ],
            "label": "02/13/2020",
            "method": "animate"
           },
           {
            "args": [
             [
              "02/14/2020"
             ],
             {
              "frame": {
               "duration": 0,
               "redraw": true
              },
              "fromcurrent": true,
              "mode": "immediate",
              "transition": {
               "duration": 0,
               "easing": "linear"
              }
             }
            ],
            "label": "02/14/2020",
            "method": "animate"
           },
           {
            "args": [
             [
              "02/15/2020"
             ],
             {
              "frame": {
               "duration": 0,
               "redraw": true
              },
              "fromcurrent": true,
              "mode": "immediate",
              "transition": {
               "duration": 0,
               "easing": "linear"
              }
             }
            ],
            "label": "02/15/2020",
            "method": "animate"
           },
           {
            "args": [
             [
              "02/16/2020"
             ],
             {
              "frame": {
               "duration": 0,
               "redraw": true
              },
              "fromcurrent": true,
              "mode": "immediate",
              "transition": {
               "duration": 0,
               "easing": "linear"
              }
             }
            ],
            "label": "02/16/2020",
            "method": "animate"
           },
           {
            "args": [
             [
              "02/17/2020"
             ],
             {
              "frame": {
               "duration": 0,
               "redraw": true
              },
              "fromcurrent": true,
              "mode": "immediate",
              "transition": {
               "duration": 0,
               "easing": "linear"
              }
             }
            ],
            "label": "02/17/2020",
            "method": "animate"
           },
           {
            "args": [
             [
              "02/18/2020"
             ],
             {
              "frame": {
               "duration": 0,
               "redraw": true
              },
              "fromcurrent": true,
              "mode": "immediate",
              "transition": {
               "duration": 0,
               "easing": "linear"
              }
             }
            ],
            "label": "02/18/2020",
            "method": "animate"
           },
           {
            "args": [
             [
              "02/19/2020"
             ],
             {
              "frame": {
               "duration": 0,
               "redraw": true
              },
              "fromcurrent": true,
              "mode": "immediate",
              "transition": {
               "duration": 0,
               "easing": "linear"
              }
             }
            ],
            "label": "02/19/2020",
            "method": "animate"
           },
           {
            "args": [
             [
              "02/20/2020"
             ],
             {
              "frame": {
               "duration": 0,
               "redraw": true
              },
              "fromcurrent": true,
              "mode": "immediate",
              "transition": {
               "duration": 0,
               "easing": "linear"
              }
             }
            ],
            "label": "02/20/2020",
            "method": "animate"
           },
           {
            "args": [
             [
              "02/21/2020"
             ],
             {
              "frame": {
               "duration": 0,
               "redraw": true
              },
              "fromcurrent": true,
              "mode": "immediate",
              "transition": {
               "duration": 0,
               "easing": "linear"
              }
             }
            ],
            "label": "02/21/2020",
            "method": "animate"
           },
           {
            "args": [
             [
              "02/22/2020"
             ],
             {
              "frame": {
               "duration": 0,
               "redraw": true
              },
              "fromcurrent": true,
              "mode": "immediate",
              "transition": {
               "duration": 0,
               "easing": "linear"
              }
             }
            ],
            "label": "02/22/2020",
            "method": "animate"
           },
           {
            "args": [
             [
              "02/23/2020"
             ],
             {
              "frame": {
               "duration": 0,
               "redraw": true
              },
              "fromcurrent": true,
              "mode": "immediate",
              "transition": {
               "duration": 0,
               "easing": "linear"
              }
             }
            ],
            "label": "02/23/2020",
            "method": "animate"
           },
           {
            "args": [
             [
              "02/24/2020"
             ],
             {
              "frame": {
               "duration": 0,
               "redraw": true
              },
              "fromcurrent": true,
              "mode": "immediate",
              "transition": {
               "duration": 0,
               "easing": "linear"
              }
             }
            ],
            "label": "02/24/2020",
            "method": "animate"
           },
           {
            "args": [
             [
              "02/25/2020"
             ],
             {
              "frame": {
               "duration": 0,
               "redraw": true
              },
              "fromcurrent": true,
              "mode": "immediate",
              "transition": {
               "duration": 0,
               "easing": "linear"
              }
             }
            ],
            "label": "02/25/2020",
            "method": "animate"
           },
           {
            "args": [
             [
              "02/26/2020"
             ],
             {
              "frame": {
               "duration": 0,
               "redraw": true
              },
              "fromcurrent": true,
              "mode": "immediate",
              "transition": {
               "duration": 0,
               "easing": "linear"
              }
             }
            ],
            "label": "02/26/2020",
            "method": "animate"
           },
           {
            "args": [
             [
              "02/27/2020"
             ],
             {
              "frame": {
               "duration": 0,
               "redraw": true
              },
              "fromcurrent": true,
              "mode": "immediate",
              "transition": {
               "duration": 0,
               "easing": "linear"
              }
             }
            ],
            "label": "02/27/2020",
            "method": "animate"
           },
           {
            "args": [
             [
              "02/28/2020"
             ],
             {
              "frame": {
               "duration": 0,
               "redraw": true
              },
              "fromcurrent": true,
              "mode": "immediate",
              "transition": {
               "duration": 0,
               "easing": "linear"
              }
             }
            ],
            "label": "02/28/2020",
            "method": "animate"
           },
           {
            "args": [
             [
              "02/29/2020"
             ],
             {
              "frame": {
               "duration": 0,
               "redraw": true
              },
              "fromcurrent": true,
              "mode": "immediate",
              "transition": {
               "duration": 0,
               "easing": "linear"
              }
             }
            ],
            "label": "02/29/2020",
            "method": "animate"
           },
           {
            "args": [
             [
              "03/01/2020"
             ],
             {
              "frame": {
               "duration": 0,
               "redraw": true
              },
              "fromcurrent": true,
              "mode": "immediate",
              "transition": {
               "duration": 0,
               "easing": "linear"
              }
             }
            ],
            "label": "03/01/2020",
            "method": "animate"
           },
           {
            "args": [
             [
              "03/02/2020"
             ],
             {
              "frame": {
               "duration": 0,
               "redraw": true
              },
              "fromcurrent": true,
              "mode": "immediate",
              "transition": {
               "duration": 0,
               "easing": "linear"
              }
             }
            ],
            "label": "03/02/2020",
            "method": "animate"
           },
           {
            "args": [
             [
              "03/03/2020"
             ],
             {
              "frame": {
               "duration": 0,
               "redraw": true
              },
              "fromcurrent": true,
              "mode": "immediate",
              "transition": {
               "duration": 0,
               "easing": "linear"
              }
             }
            ],
            "label": "03/03/2020",
            "method": "animate"
           },
           {
            "args": [
             [
              "03/04/2020"
             ],
             {
              "frame": {
               "duration": 0,
               "redraw": true
              },
              "fromcurrent": true,
              "mode": "immediate",
              "transition": {
               "duration": 0,
               "easing": "linear"
              }
             }
            ],
            "label": "03/04/2020",
            "method": "animate"
           },
           {
            "args": [
             [
              "03/05/2020"
             ],
             {
              "frame": {
               "duration": 0,
               "redraw": true
              },
              "fromcurrent": true,
              "mode": "immediate",
              "transition": {
               "duration": 0,
               "easing": "linear"
              }
             }
            ],
            "label": "03/05/2020",
            "method": "animate"
           },
           {
            "args": [
             [
              "03/06/2020"
             ],
             {
              "frame": {
               "duration": 0,
               "redraw": true
              },
              "fromcurrent": true,
              "mode": "immediate",
              "transition": {
               "duration": 0,
               "easing": "linear"
              }
             }
            ],
            "label": "03/06/2020",
            "method": "animate"
           },
           {
            "args": [
             [
              "03/07/2020"
             ],
             {
              "frame": {
               "duration": 0,
               "redraw": true
              },
              "fromcurrent": true,
              "mode": "immediate",
              "transition": {
               "duration": 0,
               "easing": "linear"
              }
             }
            ],
            "label": "03/07/2020",
            "method": "animate"
           },
           {
            "args": [
             [
              "03/08/2020"
             ],
             {
              "frame": {
               "duration": 0,
               "redraw": true
              },
              "fromcurrent": true,
              "mode": "immediate",
              "transition": {
               "duration": 0,
               "easing": "linear"
              }
             }
            ],
            "label": "03/08/2020",
            "method": "animate"
           },
           {
            "args": [
             [
              "03/09/2020"
             ],
             {
              "frame": {
               "duration": 0,
               "redraw": true
              },
              "fromcurrent": true,
              "mode": "immediate",
              "transition": {
               "duration": 0,
               "easing": "linear"
              }
             }
            ],
            "label": "03/09/2020",
            "method": "animate"
           },
           {
            "args": [
             [
              "03/10/2020"
             ],
             {
              "frame": {
               "duration": 0,
               "redraw": true
              },
              "fromcurrent": true,
              "mode": "immediate",
              "transition": {
               "duration": 0,
               "easing": "linear"
              }
             }
            ],
            "label": "03/10/2020",
            "method": "animate"
           },
           {
            "args": [
             [
              "03/11/2020"
             ],
             {
              "frame": {
               "duration": 0,
               "redraw": true
              },
              "fromcurrent": true,
              "mode": "immediate",
              "transition": {
               "duration": 0,
               "easing": "linear"
              }
             }
            ],
            "label": "03/11/2020",
            "method": "animate"
           }
          ],
          "x": 0.1,
          "xanchor": "left",
          "y": 0,
          "yanchor": "top"
         }
        ],
        "template": {
         "data": {
          "bar": [
           {
            "error_x": {
             "color": "#2a3f5f"
            },
            "error_y": {
             "color": "#2a3f5f"
            },
            "marker": {
             "line": {
              "color": "#E5ECF6",
              "width": 0.5
             }
            },
            "type": "bar"
           }
          ],
          "barpolar": [
           {
            "marker": {
             "line": {
              "color": "#E5ECF6",
              "width": 0.5
             }
            },
            "type": "barpolar"
           }
          ],
          "carpet": [
           {
            "aaxis": {
             "endlinecolor": "#2a3f5f",
             "gridcolor": "white",
             "linecolor": "white",
             "minorgridcolor": "white",
             "startlinecolor": "#2a3f5f"
            },
            "baxis": {
             "endlinecolor": "#2a3f5f",
             "gridcolor": "white",
             "linecolor": "white",
             "minorgridcolor": "white",
             "startlinecolor": "#2a3f5f"
            },
            "type": "carpet"
           }
          ],
          "choropleth": [
           {
            "colorbar": {
             "outlinewidth": 0,
             "ticks": ""
            },
            "type": "choropleth"
           }
          ],
          "contour": [
           {
            "colorbar": {
             "outlinewidth": 0,
             "ticks": ""
            },
            "colorscale": [
             [
              0,
              "#0d0887"
             ],
             [
              0.1111111111111111,
              "#46039f"
             ],
             [
              0.2222222222222222,
              "#7201a8"
             ],
             [
              0.3333333333333333,
              "#9c179e"
             ],
             [
              0.4444444444444444,
              "#bd3786"
             ],
             [
              0.5555555555555556,
              "#d8576b"
             ],
             [
              0.6666666666666666,
              "#ed7953"
             ],
             [
              0.7777777777777778,
              "#fb9f3a"
             ],
             [
              0.8888888888888888,
              "#fdca26"
             ],
             [
              1,
              "#f0f921"
             ]
            ],
            "type": "contour"
           }
          ],
          "contourcarpet": [
           {
            "colorbar": {
             "outlinewidth": 0,
             "ticks": ""
            },
            "type": "contourcarpet"
           }
          ],
          "heatmap": [
           {
            "colorbar": {
             "outlinewidth": 0,
             "ticks": ""
            },
            "colorscale": [
             [
              0,
              "#0d0887"
             ],
             [
              0.1111111111111111,
              "#46039f"
             ],
             [
              0.2222222222222222,
              "#7201a8"
             ],
             [
              0.3333333333333333,
              "#9c179e"
             ],
             [
              0.4444444444444444,
              "#bd3786"
             ],
             [
              0.5555555555555556,
              "#d8576b"
             ],
             [
              0.6666666666666666,
              "#ed7953"
             ],
             [
              0.7777777777777778,
              "#fb9f3a"
             ],
             [
              0.8888888888888888,
              "#fdca26"
             ],
             [
              1,
              "#f0f921"
             ]
            ],
            "type": "heatmap"
           }
          ],
          "heatmapgl": [
           {
            "colorbar": {
             "outlinewidth": 0,
             "ticks": ""
            },
            "colorscale": [
             [
              0,
              "#0d0887"
             ],
             [
              0.1111111111111111,
              "#46039f"
             ],
             [
              0.2222222222222222,
              "#7201a8"
             ],
             [
              0.3333333333333333,
              "#9c179e"
             ],
             [
              0.4444444444444444,
              "#bd3786"
             ],
             [
              0.5555555555555556,
              "#d8576b"
             ],
             [
              0.6666666666666666,
              "#ed7953"
             ],
             [
              0.7777777777777778,
              "#fb9f3a"
             ],
             [
              0.8888888888888888,
              "#fdca26"
             ],
             [
              1,
              "#f0f921"
             ]
            ],
            "type": "heatmapgl"
           }
          ],
          "histogram": [
           {
            "marker": {
             "colorbar": {
              "outlinewidth": 0,
              "ticks": ""
             }
            },
            "type": "histogram"
           }
          ],
          "histogram2d": [
           {
            "colorbar": {
             "outlinewidth": 0,
             "ticks": ""
            },
            "colorscale": [
             [
              0,
              "#0d0887"
             ],
             [
              0.1111111111111111,
              "#46039f"
             ],
             [
              0.2222222222222222,
              "#7201a8"
             ],
             [
              0.3333333333333333,
              "#9c179e"
             ],
             [
              0.4444444444444444,
              "#bd3786"
             ],
             [
              0.5555555555555556,
              "#d8576b"
             ],
             [
              0.6666666666666666,
              "#ed7953"
             ],
             [
              0.7777777777777778,
              "#fb9f3a"
             ],
             [
              0.8888888888888888,
              "#fdca26"
             ],
             [
              1,
              "#f0f921"
             ]
            ],
            "type": "histogram2d"
           }
          ],
          "histogram2dcontour": [
           {
            "colorbar": {
             "outlinewidth": 0,
             "ticks": ""
            },
            "colorscale": [
             [
              0,
              "#0d0887"
             ],
             [
              0.1111111111111111,
              "#46039f"
             ],
             [
              0.2222222222222222,
              "#7201a8"
             ],
             [
              0.3333333333333333,
              "#9c179e"
             ],
             [
              0.4444444444444444,
              "#bd3786"
             ],
             [
              0.5555555555555556,
              "#d8576b"
             ],
             [
              0.6666666666666666,
              "#ed7953"
             ],
             [
              0.7777777777777778,
              "#fb9f3a"
             ],
             [
              0.8888888888888888,
              "#fdca26"
             ],
             [
              1,
              "#f0f921"
             ]
            ],
            "type": "histogram2dcontour"
           }
          ],
          "mesh3d": [
           {
            "colorbar": {
             "outlinewidth": 0,
             "ticks": ""
            },
            "type": "mesh3d"
           }
          ],
          "parcoords": [
           {
            "line": {
             "colorbar": {
              "outlinewidth": 0,
              "ticks": ""
             }
            },
            "type": "parcoords"
           }
          ],
          "pie": [
           {
            "automargin": true,
            "type": "pie"
           }
          ],
          "scatter": [
           {
            "marker": {
             "colorbar": {
              "outlinewidth": 0,
              "ticks": ""
             }
            },
            "type": "scatter"
           }
          ],
          "scatter3d": [
           {
            "line": {
             "colorbar": {
              "outlinewidth": 0,
              "ticks": ""
             }
            },
            "marker": {
             "colorbar": {
              "outlinewidth": 0,
              "ticks": ""
             }
            },
            "type": "scatter3d"
           }
          ],
          "scattercarpet": [
           {
            "marker": {
             "colorbar": {
              "outlinewidth": 0,
              "ticks": ""
             }
            },
            "type": "scattercarpet"
           }
          ],
          "scattergeo": [
           {
            "marker": {
             "colorbar": {
              "outlinewidth": 0,
              "ticks": ""
             }
            },
            "type": "scattergeo"
           }
          ],
          "scattergl": [
           {
            "marker": {
             "colorbar": {
              "outlinewidth": 0,
              "ticks": ""
             }
            },
            "type": "scattergl"
           }
          ],
          "scattermapbox": [
           {
            "marker": {
             "colorbar": {
              "outlinewidth": 0,
              "ticks": ""
             }
            },
            "type": "scattermapbox"
           }
          ],
          "scatterpolar": [
           {
            "marker": {
             "colorbar": {
              "outlinewidth": 0,
              "ticks": ""
             }
            },
            "type": "scatterpolar"
           }
          ],
          "scatterpolargl": [
           {
            "marker": {
             "colorbar": {
              "outlinewidth": 0,
              "ticks": ""
             }
            },
            "type": "scatterpolargl"
           }
          ],
          "scatterternary": [
           {
            "marker": {
             "colorbar": {
              "outlinewidth": 0,
              "ticks": ""
             }
            },
            "type": "scatterternary"
           }
          ],
          "surface": [
           {
            "colorbar": {
             "outlinewidth": 0,
             "ticks": ""
            },
            "colorscale": [
             [
              0,
              "#0d0887"
             ],
             [
              0.1111111111111111,
              "#46039f"
             ],
             [
              0.2222222222222222,
              "#7201a8"
             ],
             [
              0.3333333333333333,
              "#9c179e"
             ],
             [
              0.4444444444444444,
              "#bd3786"
             ],
             [
              0.5555555555555556,
              "#d8576b"
             ],
             [
              0.6666666666666666,
              "#ed7953"
             ],
             [
              0.7777777777777778,
              "#fb9f3a"
             ],
             [
              0.8888888888888888,
              "#fdca26"
             ],
             [
              1,
              "#f0f921"
             ]
            ],
            "type": "surface"
           }
          ],
          "table": [
           {
            "cells": {
             "fill": {
              "color": "#EBF0F8"
             },
             "line": {
              "color": "white"
             }
            },
            "header": {
             "fill": {
              "color": "#C8D4E3"
             },
             "line": {
              "color": "white"
             }
            },
            "type": "table"
           }
          ]
         },
         "layout": {
          "annotationdefaults": {
           "arrowcolor": "#2a3f5f",
           "arrowhead": 0,
           "arrowwidth": 1
          },
          "coloraxis": {
           "colorbar": {
            "outlinewidth": 0,
            "ticks": ""
           }
          },
          "colorscale": {
           "diverging": [
            [
             0,
             "#8e0152"
            ],
            [
             0.1,
             "#c51b7d"
            ],
            [
             0.2,
             "#de77ae"
            ],
            [
             0.3,
             "#f1b6da"
            ],
            [
             0.4,
             "#fde0ef"
            ],
            [
             0.5,
             "#f7f7f7"
            ],
            [
             0.6,
             "#e6f5d0"
            ],
            [
             0.7,
             "#b8e186"
            ],
            [
             0.8,
             "#7fbc41"
            ],
            [
             0.9,
             "#4d9221"
            ],
            [
             1,
             "#276419"
            ]
           ],
           "sequential": [
            [
             0,
             "#0d0887"
            ],
            [
             0.1111111111111111,
             "#46039f"
            ],
            [
             0.2222222222222222,
             "#7201a8"
            ],
            [
             0.3333333333333333,
             "#9c179e"
            ],
            [
             0.4444444444444444,
             "#bd3786"
            ],
            [
             0.5555555555555556,
             "#d8576b"
            ],
            [
             0.6666666666666666,
             "#ed7953"
            ],
            [
             0.7777777777777778,
             "#fb9f3a"
            ],
            [
             0.8888888888888888,
             "#fdca26"
            ],
            [
             1,
             "#f0f921"
            ]
           ],
           "sequentialminus": [
            [
             0,
             "#0d0887"
            ],
            [
             0.1111111111111111,
             "#46039f"
            ],
            [
             0.2222222222222222,
             "#7201a8"
            ],
            [
             0.3333333333333333,
             "#9c179e"
            ],
            [
             0.4444444444444444,
             "#bd3786"
            ],
            [
             0.5555555555555556,
             "#d8576b"
            ],
            [
             0.6666666666666666,
             "#ed7953"
            ],
            [
             0.7777777777777778,
             "#fb9f3a"
            ],
            [
             0.8888888888888888,
             "#fdca26"
            ],
            [
             1,
             "#f0f921"
            ]
           ]
          },
          "colorway": [
           "#636efa",
           "#EF553B",
           "#00cc96",
           "#ab63fa",
           "#FFA15A",
           "#19d3f3",
           "#FF6692",
           "#B6E880",
           "#FF97FF",
           "#FECB52"
          ],
          "font": {
           "color": "#2a3f5f"
          },
          "geo": {
           "bgcolor": "white",
           "lakecolor": "white",
           "landcolor": "#E5ECF6",
           "showlakes": true,
           "showland": true,
           "subunitcolor": "white"
          },
          "hoverlabel": {
           "align": "left"
          },
          "hovermode": "closest",
          "mapbox": {
           "style": "light"
          },
          "paper_bgcolor": "white",
          "plot_bgcolor": "#E5ECF6",
          "polar": {
           "angularaxis": {
            "gridcolor": "white",
            "linecolor": "white",
            "ticks": ""
           },
           "bgcolor": "#E5ECF6",
           "radialaxis": {
            "gridcolor": "white",
            "linecolor": "white",
            "ticks": ""
           }
          },
          "scene": {
           "xaxis": {
            "backgroundcolor": "#E5ECF6",
            "gridcolor": "white",
            "gridwidth": 2,
            "linecolor": "white",
            "showbackground": true,
            "ticks": "",
            "zerolinecolor": "white"
           },
           "yaxis": {
            "backgroundcolor": "#E5ECF6",
            "gridcolor": "white",
            "gridwidth": 2,
            "linecolor": "white",
            "showbackground": true,
            "ticks": "",
            "zerolinecolor": "white"
           },
           "zaxis": {
            "backgroundcolor": "#E5ECF6",
            "gridcolor": "white",
            "gridwidth": 2,
            "linecolor": "white",
            "showbackground": true,
            "ticks": "",
            "zerolinecolor": "white"
           }
          },
          "shapedefaults": {
           "line": {
            "color": "#2a3f5f"
           }
          },
          "ternary": {
           "aaxis": {
            "gridcolor": "white",
            "linecolor": "white",
            "ticks": ""
           },
           "baxis": {
            "gridcolor": "white",
            "linecolor": "white",
            "ticks": ""
           },
           "bgcolor": "#E5ECF6",
           "caxis": {
            "gridcolor": "white",
            "linecolor": "white",
            "ticks": ""
           }
          },
          "title": {
           "x": 0.05
          },
          "xaxis": {
           "automargin": true,
           "gridcolor": "white",
           "linecolor": "white",
           "ticks": "",
           "title": {
            "standoff": 15
           },
           "zerolinecolor": "white",
           "zerolinewidth": 2
          },
          "yaxis": {
           "automargin": true,
           "gridcolor": "white",
           "linecolor": "white",
           "ticks": "",
           "title": {
            "standoff": 15
           },
           "zerolinecolor": "white",
           "zerolinewidth": 2
          }
         }
        },
        "title": {
         "text": "Spread over time"
        },
        "updatemenus": [
         {
          "buttons": [
           {
            "args": [
             null,
             {
              "frame": {
               "duration": 500,
               "redraw": true
              },
              "fromcurrent": true,
              "mode": "immediate",
              "transition": {
               "duration": 500,
               "easing": "linear"
              }
             }
            ],
            "label": "&#9654;",
            "method": "animate"
           },
           {
            "args": [
             [
              null
             ],
             {
              "frame": {
               "duration": 0,
               "redraw": true
              },
              "fromcurrent": true,
              "mode": "immediate",
              "transition": {
               "duration": 0,
               "easing": "linear"
              }
             }
            ],
            "label": "&#9724;",
            "method": "animate"
           }
          ],
          "direction": "left",
          "pad": {
           "r": 10,
           "t": 70
          },
          "showactive": false,
          "type": "buttons",
          "x": 0.1,
          "xanchor": "right",
          "y": 0,
          "yanchor": "top"
         }
        ]
       }
      },
      "text/html": [
       "<div>\n",
       "        \n",
       "        \n",
       "            <div id=\"0b836725-5ded-4ce7-b381-11d70668c900\" class=\"plotly-graph-div\" style=\"height:525px; width:100%;\"></div>\n",
       "            <script type=\"text/javascript\">\n",
       "                require([\"plotly\"], function(Plotly) {\n",
       "                    window.PLOTLYENV=window.PLOTLYENV || {};\n",
       "                    \n",
       "                if (document.getElementById(\"0b836725-5ded-4ce7-b381-11d70668c900\")) {\n",
       "                    Plotly.newPlot(\n",
       "                        '0b836725-5ded-4ce7-b381-11d70668c900',\n",
       "                        [{\"geo\": \"geo\", \"hoverlabel\": {\"namelength\": 0}, \"hovertemplate\": \"<b>%{hovertext}</b><br><br>ObservationDate=01/22/2020<br>size=%{marker.size}<br>Country/Region=%{location}<br>Confirmed=%{marker.color}\", \"hovertext\": [\"China\", \"Hong Kong\", \"Japan\", \"Macau\", \"South Korea\", \"Taiwan\", \"Thailand\", \"US\"], \"legendgroup\": \"\", \"locationmode\": \"country names\", \"locations\": [\"China\", \"Hong Kong\", \"Japan\", \"Macau\", \"South Korea\", \"Taiwan\", \"Thailand\", \"US\"], \"marker\": {\"color\": [444, 0, 2, 1, 1, 1, 2, 1], \"coloraxis\": \"coloraxis\", \"size\": [6.226082785868411, 0.0, 1.2311444133449163, 1.0, 1.0, 1.0, 1.2311444133449163, 1.0], \"sizemode\": \"area\", \"sizeref\": 0.07034885314052819}, \"name\": \"\", \"showlegend\": false, \"type\": \"scattergeo\"}],\n",
       "                        {\"coloraxis\": {\"cmax\": 67775, \"cmin\": 0, \"colorbar\": {\"title\": {\"text\": \"Confirmed\"}}, \"colorscale\": [[0.0, \"#0d0887\"], [0.1111111111111111, \"#46039f\"], [0.2222222222222222, \"#7201a8\"], [0.3333333333333333, \"#9c179e\"], [0.4444444444444444, \"#bd3786\"], [0.5555555555555556, \"#d8576b\"], [0.6666666666666666, \"#ed7953\"], [0.7777777777777778, \"#fb9f3a\"], [0.8888888888888888, \"#fdca26\"], [1.0, \"#f0f921\"]], \"showscale\": false}, \"geo\": {\"center\": {}, \"domain\": {\"x\": [0.0, 1.0], \"y\": [0.0, 1.0]}, \"projection\": {\"type\": \"natural earth\"}}, \"legend\": {\"itemsizing\": \"constant\", \"tracegroupgap\": 0}, \"sliders\": [{\"active\": 0, \"currentvalue\": {\"prefix\": \"ObservationDate=\"}, \"len\": 0.9, \"pad\": {\"b\": 10, \"t\": 60}, \"steps\": [{\"args\": [[\"01/22/2020\"], {\"frame\": {\"duration\": 0, \"redraw\": true}, \"fromcurrent\": true, \"mode\": \"immediate\", \"transition\": {\"duration\": 0, \"easing\": \"linear\"}}], \"label\": \"01/22/2020\", \"method\": \"animate\"}, {\"args\": [[\"01/23/2020\"], {\"frame\": {\"duration\": 0, \"redraw\": true}, \"fromcurrent\": true, \"mode\": \"immediate\", \"transition\": {\"duration\": 0, \"easing\": \"linear\"}}], \"label\": \"01/23/2020\", \"method\": \"animate\"}, {\"args\": [[\"01/24/2020\"], {\"frame\": {\"duration\": 0, \"redraw\": true}, \"fromcurrent\": true, \"mode\": \"immediate\", \"transition\": {\"duration\": 0, \"easing\": \"linear\"}}], \"label\": \"01/24/2020\", \"method\": \"animate\"}, {\"args\": [[\"01/25/2020\"], {\"frame\": {\"duration\": 0, \"redraw\": true}, \"fromcurrent\": true, \"mode\": \"immediate\", \"transition\": {\"duration\": 0, \"easing\": \"linear\"}}], \"label\": \"01/25/2020\", \"method\": \"animate\"}, {\"args\": [[\"01/26/2020\"], {\"frame\": {\"duration\": 0, \"redraw\": true}, \"fromcurrent\": true, \"mode\": \"immediate\", \"transition\": {\"duration\": 0, \"easing\": \"linear\"}}], \"label\": \"01/26/2020\", \"method\": \"animate\"}, {\"args\": [[\"01/27/2020\"], {\"frame\": {\"duration\": 0, \"redraw\": true}, \"fromcurrent\": true, \"mode\": \"immediate\", \"transition\": {\"duration\": 0, \"easing\": \"linear\"}}], \"label\": \"01/27/2020\", \"method\": \"animate\"}, {\"args\": [[\"01/28/2020\"], {\"frame\": {\"duration\": 0, \"redraw\": true}, \"fromcurrent\": true, \"mode\": \"immediate\", \"transition\": {\"duration\": 0, \"easing\": \"linear\"}}], \"label\": \"01/28/2020\", \"method\": \"animate\"}, {\"args\": [[\"01/29/2020\"], {\"frame\": {\"duration\": 0, \"redraw\": true}, \"fromcurrent\": true, \"mode\": \"immediate\", \"transition\": {\"duration\": 0, \"easing\": \"linear\"}}], \"label\": \"01/29/2020\", \"method\": \"animate\"}, {\"args\": [[\"01/30/2020\"], {\"frame\": {\"duration\": 0, \"redraw\": true}, \"fromcurrent\": true, \"mode\": \"immediate\", \"transition\": {\"duration\": 0, \"easing\": \"linear\"}}], \"label\": \"01/30/2020\", \"method\": \"animate\"}, {\"args\": [[\"01/31/2020\"], {\"frame\": {\"duration\": 0, \"redraw\": true}, \"fromcurrent\": true, \"mode\": \"immediate\", \"transition\": {\"duration\": 0, \"easing\": \"linear\"}}], \"label\": \"01/31/2020\", \"method\": \"animate\"}, {\"args\": [[\"02/01/2020\"], {\"frame\": {\"duration\": 0, \"redraw\": true}, \"fromcurrent\": true, \"mode\": \"immediate\", \"transition\": {\"duration\": 0, \"easing\": \"linear\"}}], \"label\": \"02/01/2020\", \"method\": \"animate\"}, {\"args\": [[\"02/02/2020\"], {\"frame\": {\"duration\": 0, \"redraw\": true}, \"fromcurrent\": true, \"mode\": \"immediate\", \"transition\": {\"duration\": 0, \"easing\": \"linear\"}}], \"label\": \"02/02/2020\", \"method\": \"animate\"}, {\"args\": [[\"02/03/2020\"], {\"frame\": {\"duration\": 0, \"redraw\": true}, \"fromcurrent\": true, \"mode\": \"immediate\", \"transition\": {\"duration\": 0, \"easing\": \"linear\"}}], \"label\": \"02/03/2020\", \"method\": \"animate\"}, {\"args\": [[\"02/04/2020\"], {\"frame\": {\"duration\": 0, \"redraw\": true}, \"fromcurrent\": true, \"mode\": \"immediate\", \"transition\": {\"duration\": 0, \"easing\": \"linear\"}}], \"label\": \"02/04/2020\", \"method\": \"animate\"}, {\"args\": [[\"02/05/2020\"], {\"frame\": {\"duration\": 0, \"redraw\": true}, \"fromcurrent\": true, \"mode\": \"immediate\", \"transition\": {\"duration\": 0, \"easing\": \"linear\"}}], \"label\": \"02/05/2020\", \"method\": \"animate\"}, {\"args\": [[\"02/06/2020\"], {\"frame\": {\"duration\": 0, \"redraw\": true}, \"fromcurrent\": true, \"mode\": \"immediate\", \"transition\": {\"duration\": 0, \"easing\": \"linear\"}}], \"label\": \"02/06/2020\", \"method\": \"animate\"}, {\"args\": [[\"02/07/2020\"], {\"frame\": {\"duration\": 0, \"redraw\": true}, \"fromcurrent\": true, \"mode\": \"immediate\", \"transition\": {\"duration\": 0, \"easing\": \"linear\"}}], \"label\": \"02/07/2020\", \"method\": \"animate\"}, {\"args\": [[\"02/08/2020\"], {\"frame\": {\"duration\": 0, \"redraw\": true}, \"fromcurrent\": true, \"mode\": \"immediate\", \"transition\": {\"duration\": 0, \"easing\": \"linear\"}}], \"label\": \"02/08/2020\", \"method\": \"animate\"}, {\"args\": [[\"02/09/2020\"], {\"frame\": {\"duration\": 0, \"redraw\": true}, \"fromcurrent\": true, \"mode\": \"immediate\", \"transition\": {\"duration\": 0, \"easing\": \"linear\"}}], \"label\": \"02/09/2020\", \"method\": \"animate\"}, {\"args\": [[\"02/10/2020\"], {\"frame\": {\"duration\": 0, \"redraw\": true}, \"fromcurrent\": true, \"mode\": \"immediate\", \"transition\": {\"duration\": 0, \"easing\": \"linear\"}}], \"label\": \"02/10/2020\", \"method\": \"animate\"}, {\"args\": [[\"02/11/2020\"], {\"frame\": {\"duration\": 0, \"redraw\": true}, \"fromcurrent\": true, \"mode\": \"immediate\", \"transition\": {\"duration\": 0, \"easing\": \"linear\"}}], \"label\": \"02/11/2020\", \"method\": \"animate\"}, {\"args\": [[\"02/12/2020\"], {\"frame\": {\"duration\": 0, \"redraw\": true}, \"fromcurrent\": true, \"mode\": \"immediate\", \"transition\": {\"duration\": 0, \"easing\": \"linear\"}}], \"label\": \"02/12/2020\", \"method\": \"animate\"}, {\"args\": [[\"02/13/2020\"], {\"frame\": {\"duration\": 0, \"redraw\": true}, \"fromcurrent\": true, \"mode\": \"immediate\", \"transition\": {\"duration\": 0, \"easing\": \"linear\"}}], \"label\": \"02/13/2020\", \"method\": \"animate\"}, {\"args\": [[\"02/14/2020\"], {\"frame\": {\"duration\": 0, \"redraw\": true}, \"fromcurrent\": true, \"mode\": \"immediate\", \"transition\": {\"duration\": 0, \"easing\": \"linear\"}}], \"label\": \"02/14/2020\", \"method\": \"animate\"}, {\"args\": [[\"02/15/2020\"], {\"frame\": {\"duration\": 0, \"redraw\": true}, \"fromcurrent\": true, \"mode\": \"immediate\", \"transition\": {\"duration\": 0, \"easing\": \"linear\"}}], \"label\": \"02/15/2020\", \"method\": \"animate\"}, {\"args\": [[\"02/16/2020\"], {\"frame\": {\"duration\": 0, \"redraw\": true}, \"fromcurrent\": true, \"mode\": \"immediate\", \"transition\": {\"duration\": 0, \"easing\": \"linear\"}}], \"label\": \"02/16/2020\", \"method\": \"animate\"}, {\"args\": [[\"02/17/2020\"], {\"frame\": {\"duration\": 0, \"redraw\": true}, \"fromcurrent\": true, \"mode\": \"immediate\", \"transition\": {\"duration\": 0, \"easing\": \"linear\"}}], \"label\": \"02/17/2020\", \"method\": \"animate\"}, {\"args\": [[\"02/18/2020\"], {\"frame\": {\"duration\": 0, \"redraw\": true}, \"fromcurrent\": true, \"mode\": \"immediate\", \"transition\": {\"duration\": 0, \"easing\": \"linear\"}}], \"label\": \"02/18/2020\", \"method\": \"animate\"}, {\"args\": [[\"02/19/2020\"], {\"frame\": {\"duration\": 0, \"redraw\": true}, \"fromcurrent\": true, \"mode\": \"immediate\", \"transition\": {\"duration\": 0, \"easing\": \"linear\"}}], \"label\": \"02/19/2020\", \"method\": \"animate\"}, {\"args\": [[\"02/20/2020\"], {\"frame\": {\"duration\": 0, \"redraw\": true}, \"fromcurrent\": true, \"mode\": \"immediate\", \"transition\": {\"duration\": 0, \"easing\": \"linear\"}}], \"label\": \"02/20/2020\", \"method\": \"animate\"}, {\"args\": [[\"02/21/2020\"], {\"frame\": {\"duration\": 0, \"redraw\": true}, \"fromcurrent\": true, \"mode\": \"immediate\", \"transition\": {\"duration\": 0, \"easing\": \"linear\"}}], \"label\": \"02/21/2020\", \"method\": \"animate\"}, {\"args\": [[\"02/22/2020\"], {\"frame\": {\"duration\": 0, \"redraw\": true}, \"fromcurrent\": true, \"mode\": \"immediate\", \"transition\": {\"duration\": 0, \"easing\": \"linear\"}}], \"label\": \"02/22/2020\", \"method\": \"animate\"}, {\"args\": [[\"02/23/2020\"], {\"frame\": {\"duration\": 0, \"redraw\": true}, \"fromcurrent\": true, \"mode\": \"immediate\", \"transition\": {\"duration\": 0, \"easing\": \"linear\"}}], \"label\": \"02/23/2020\", \"method\": \"animate\"}, {\"args\": [[\"02/24/2020\"], {\"frame\": {\"duration\": 0, \"redraw\": true}, \"fromcurrent\": true, \"mode\": \"immediate\", \"transition\": {\"duration\": 0, \"easing\": \"linear\"}}], \"label\": \"02/24/2020\", \"method\": \"animate\"}, {\"args\": [[\"02/25/2020\"], {\"frame\": {\"duration\": 0, \"redraw\": true}, \"fromcurrent\": true, \"mode\": \"immediate\", \"transition\": {\"duration\": 0, \"easing\": \"linear\"}}], \"label\": \"02/25/2020\", \"method\": \"animate\"}, {\"args\": [[\"02/26/2020\"], {\"frame\": {\"duration\": 0, \"redraw\": true}, \"fromcurrent\": true, \"mode\": \"immediate\", \"transition\": {\"duration\": 0, \"easing\": \"linear\"}}], \"label\": \"02/26/2020\", \"method\": \"animate\"}, {\"args\": [[\"02/27/2020\"], {\"frame\": {\"duration\": 0, \"redraw\": true}, \"fromcurrent\": true, \"mode\": \"immediate\", \"transition\": {\"duration\": 0, \"easing\": \"linear\"}}], \"label\": \"02/27/2020\", \"method\": \"animate\"}, {\"args\": [[\"02/28/2020\"], {\"frame\": {\"duration\": 0, \"redraw\": true}, \"fromcurrent\": true, \"mode\": \"immediate\", \"transition\": {\"duration\": 0, \"easing\": \"linear\"}}], \"label\": \"02/28/2020\", \"method\": \"animate\"}, {\"args\": [[\"02/29/2020\"], {\"frame\": {\"duration\": 0, \"redraw\": true}, \"fromcurrent\": true, \"mode\": \"immediate\", \"transition\": {\"duration\": 0, \"easing\": \"linear\"}}], \"label\": \"02/29/2020\", \"method\": \"animate\"}, {\"args\": [[\"03/01/2020\"], {\"frame\": {\"duration\": 0, \"redraw\": true}, \"fromcurrent\": true, \"mode\": \"immediate\", \"transition\": {\"duration\": 0, \"easing\": \"linear\"}}], \"label\": \"03/01/2020\", \"method\": \"animate\"}, {\"args\": [[\"03/02/2020\"], {\"frame\": {\"duration\": 0, \"redraw\": true}, \"fromcurrent\": true, \"mode\": \"immediate\", \"transition\": {\"duration\": 0, \"easing\": \"linear\"}}], \"label\": \"03/02/2020\", \"method\": \"animate\"}, {\"args\": [[\"03/03/2020\"], {\"frame\": {\"duration\": 0, \"redraw\": true}, \"fromcurrent\": true, \"mode\": \"immediate\", \"transition\": {\"duration\": 0, \"easing\": \"linear\"}}], \"label\": \"03/03/2020\", \"method\": \"animate\"}, {\"args\": [[\"03/04/2020\"], {\"frame\": {\"duration\": 0, \"redraw\": true}, \"fromcurrent\": true, \"mode\": \"immediate\", \"transition\": {\"duration\": 0, \"easing\": \"linear\"}}], \"label\": \"03/04/2020\", \"method\": \"animate\"}, {\"args\": [[\"03/05/2020\"], {\"frame\": {\"duration\": 0, \"redraw\": true}, \"fromcurrent\": true, \"mode\": \"immediate\", \"transition\": {\"duration\": 0, \"easing\": \"linear\"}}], \"label\": \"03/05/2020\", \"method\": \"animate\"}, {\"args\": [[\"03/06/2020\"], {\"frame\": {\"duration\": 0, \"redraw\": true}, \"fromcurrent\": true, \"mode\": \"immediate\", \"transition\": {\"duration\": 0, \"easing\": \"linear\"}}], \"label\": \"03/06/2020\", \"method\": \"animate\"}, {\"args\": [[\"03/07/2020\"], {\"frame\": {\"duration\": 0, \"redraw\": true}, \"fromcurrent\": true, \"mode\": \"immediate\", \"transition\": {\"duration\": 0, \"easing\": \"linear\"}}], \"label\": \"03/07/2020\", \"method\": \"animate\"}, {\"args\": [[\"03/08/2020\"], {\"frame\": {\"duration\": 0, \"redraw\": true}, \"fromcurrent\": true, \"mode\": \"immediate\", \"transition\": {\"duration\": 0, \"easing\": \"linear\"}}], \"label\": \"03/08/2020\", \"method\": \"animate\"}, {\"args\": [[\"03/09/2020\"], {\"frame\": {\"duration\": 0, \"redraw\": true}, \"fromcurrent\": true, \"mode\": \"immediate\", \"transition\": {\"duration\": 0, \"easing\": \"linear\"}}], \"label\": \"03/09/2020\", \"method\": \"animate\"}, {\"args\": [[\"03/10/2020\"], {\"frame\": {\"duration\": 0, \"redraw\": true}, \"fromcurrent\": true, \"mode\": \"immediate\", \"transition\": {\"duration\": 0, \"easing\": \"linear\"}}], \"label\": \"03/10/2020\", \"method\": \"animate\"}, {\"args\": [[\"03/11/2020\"], {\"frame\": {\"duration\": 0, \"redraw\": true}, \"fromcurrent\": true, \"mode\": \"immediate\", \"transition\": {\"duration\": 0, \"easing\": \"linear\"}}], \"label\": \"03/11/2020\", \"method\": \"animate\"}], \"x\": 0.1, \"xanchor\": \"left\", \"y\": 0, \"yanchor\": \"top\"}], \"template\": {\"data\": {\"bar\": [{\"error_x\": {\"color\": \"#2a3f5f\"}, \"error_y\": {\"color\": \"#2a3f5f\"}, \"marker\": {\"line\": {\"color\": \"#E5ECF6\", \"width\": 0.5}}, \"type\": \"bar\"}], \"barpolar\": [{\"marker\": {\"line\": {\"color\": \"#E5ECF6\", \"width\": 0.5}}, \"type\": \"barpolar\"}], \"carpet\": [{\"aaxis\": {\"endlinecolor\": \"#2a3f5f\", \"gridcolor\": \"white\", \"linecolor\": \"white\", \"minorgridcolor\": \"white\", \"startlinecolor\": \"#2a3f5f\"}, \"baxis\": {\"endlinecolor\": \"#2a3f5f\", \"gridcolor\": \"white\", \"linecolor\": \"white\", \"minorgridcolor\": \"white\", \"startlinecolor\": \"#2a3f5f\"}, \"type\": \"carpet\"}], \"choropleth\": [{\"colorbar\": {\"outlinewidth\": 0, \"ticks\": \"\"}, \"type\": \"choropleth\"}], \"contour\": [{\"colorbar\": {\"outlinewidth\": 0, \"ticks\": \"\"}, \"colorscale\": [[0.0, \"#0d0887\"], [0.1111111111111111, \"#46039f\"], [0.2222222222222222, \"#7201a8\"], [0.3333333333333333, \"#9c179e\"], [0.4444444444444444, \"#bd3786\"], [0.5555555555555556, \"#d8576b\"], [0.6666666666666666, \"#ed7953\"], [0.7777777777777778, \"#fb9f3a\"], [0.8888888888888888, \"#fdca26\"], [1.0, \"#f0f921\"]], \"type\": \"contour\"}], \"contourcarpet\": [{\"colorbar\": {\"outlinewidth\": 0, \"ticks\": \"\"}, \"type\": \"contourcarpet\"}], \"heatmap\": [{\"colorbar\": {\"outlinewidth\": 0, \"ticks\": \"\"}, \"colorscale\": [[0.0, \"#0d0887\"], [0.1111111111111111, \"#46039f\"], [0.2222222222222222, \"#7201a8\"], [0.3333333333333333, \"#9c179e\"], [0.4444444444444444, \"#bd3786\"], [0.5555555555555556, \"#d8576b\"], [0.6666666666666666, \"#ed7953\"], [0.7777777777777778, \"#fb9f3a\"], [0.8888888888888888, \"#fdca26\"], [1.0, \"#f0f921\"]], \"type\": \"heatmap\"}], \"heatmapgl\": [{\"colorbar\": {\"outlinewidth\": 0, \"ticks\": \"\"}, \"colorscale\": [[0.0, \"#0d0887\"], [0.1111111111111111, \"#46039f\"], [0.2222222222222222, \"#7201a8\"], [0.3333333333333333, \"#9c179e\"], [0.4444444444444444, \"#bd3786\"], [0.5555555555555556, \"#d8576b\"], [0.6666666666666666, \"#ed7953\"], [0.7777777777777778, \"#fb9f3a\"], [0.8888888888888888, \"#fdca26\"], [1.0, \"#f0f921\"]], \"type\": \"heatmapgl\"}], \"histogram\": [{\"marker\": {\"colorbar\": {\"outlinewidth\": 0, \"ticks\": \"\"}}, \"type\": \"histogram\"}], \"histogram2d\": [{\"colorbar\": {\"outlinewidth\": 0, \"ticks\": \"\"}, \"colorscale\": [[0.0, \"#0d0887\"], [0.1111111111111111, \"#46039f\"], [0.2222222222222222, \"#7201a8\"], [0.3333333333333333, \"#9c179e\"], [0.4444444444444444, \"#bd3786\"], [0.5555555555555556, \"#d8576b\"], [0.6666666666666666, \"#ed7953\"], [0.7777777777777778, \"#fb9f3a\"], [0.8888888888888888, \"#fdca26\"], [1.0, \"#f0f921\"]], \"type\": \"histogram2d\"}], \"histogram2dcontour\": [{\"colorbar\": {\"outlinewidth\": 0, \"ticks\": \"\"}, \"colorscale\": [[0.0, \"#0d0887\"], [0.1111111111111111, \"#46039f\"], [0.2222222222222222, \"#7201a8\"], [0.3333333333333333, \"#9c179e\"], [0.4444444444444444, \"#bd3786\"], [0.5555555555555556, \"#d8576b\"], [0.6666666666666666, \"#ed7953\"], [0.7777777777777778, \"#fb9f3a\"], [0.8888888888888888, \"#fdca26\"], [1.0, \"#f0f921\"]], \"type\": \"histogram2dcontour\"}], \"mesh3d\": [{\"colorbar\": {\"outlinewidth\": 0, \"ticks\": \"\"}, \"type\": \"mesh3d\"}], \"parcoords\": [{\"line\": {\"colorbar\": {\"outlinewidth\": 0, \"ticks\": \"\"}}, \"type\": \"parcoords\"}], \"pie\": [{\"automargin\": true, \"type\": \"pie\"}], \"scatter\": [{\"marker\": {\"colorbar\": {\"outlinewidth\": 0, \"ticks\": \"\"}}, \"type\": \"scatter\"}], \"scatter3d\": [{\"line\": {\"colorbar\": {\"outlinewidth\": 0, \"ticks\": \"\"}}, \"marker\": {\"colorbar\": {\"outlinewidth\": 0, \"ticks\": \"\"}}, \"type\": \"scatter3d\"}], \"scattercarpet\": [{\"marker\": {\"colorbar\": {\"outlinewidth\": 0, \"ticks\": \"\"}}, \"type\": \"scattercarpet\"}], \"scattergeo\": [{\"marker\": {\"colorbar\": {\"outlinewidth\": 0, \"ticks\": \"\"}}, \"type\": \"scattergeo\"}], \"scattergl\": [{\"marker\": {\"colorbar\": {\"outlinewidth\": 0, \"ticks\": \"\"}}, \"type\": \"scattergl\"}], \"scattermapbox\": [{\"marker\": {\"colorbar\": {\"outlinewidth\": 0, \"ticks\": \"\"}}, \"type\": \"scattermapbox\"}], \"scatterpolar\": [{\"marker\": {\"colorbar\": {\"outlinewidth\": 0, \"ticks\": \"\"}}, \"type\": \"scatterpolar\"}], \"scatterpolargl\": [{\"marker\": {\"colorbar\": {\"outlinewidth\": 0, \"ticks\": \"\"}}, \"type\": \"scatterpolargl\"}], \"scatterternary\": [{\"marker\": {\"colorbar\": {\"outlinewidth\": 0, \"ticks\": \"\"}}, \"type\": \"scatterternary\"}], \"surface\": [{\"colorbar\": {\"outlinewidth\": 0, \"ticks\": \"\"}, \"colorscale\": [[0.0, \"#0d0887\"], [0.1111111111111111, \"#46039f\"], [0.2222222222222222, \"#7201a8\"], [0.3333333333333333, \"#9c179e\"], [0.4444444444444444, \"#bd3786\"], [0.5555555555555556, \"#d8576b\"], [0.6666666666666666, \"#ed7953\"], [0.7777777777777778, \"#fb9f3a\"], [0.8888888888888888, \"#fdca26\"], [1.0, \"#f0f921\"]], \"type\": \"surface\"}], \"table\": [{\"cells\": {\"fill\": {\"color\": \"#EBF0F8\"}, \"line\": {\"color\": \"white\"}}, \"header\": {\"fill\": {\"color\": \"#C8D4E3\"}, \"line\": {\"color\": \"white\"}}, \"type\": \"table\"}]}, \"layout\": {\"annotationdefaults\": {\"arrowcolor\": \"#2a3f5f\", \"arrowhead\": 0, \"arrowwidth\": 1}, \"coloraxis\": {\"colorbar\": {\"outlinewidth\": 0, \"ticks\": \"\"}}, \"colorscale\": {\"diverging\": [[0, \"#8e0152\"], [0.1, \"#c51b7d\"], [0.2, \"#de77ae\"], [0.3, \"#f1b6da\"], [0.4, \"#fde0ef\"], [0.5, \"#f7f7f7\"], [0.6, \"#e6f5d0\"], [0.7, \"#b8e186\"], [0.8, \"#7fbc41\"], [0.9, \"#4d9221\"], [1, \"#276419\"]], \"sequential\": [[0.0, \"#0d0887\"], [0.1111111111111111, \"#46039f\"], [0.2222222222222222, \"#7201a8\"], [0.3333333333333333, \"#9c179e\"], [0.4444444444444444, \"#bd3786\"], [0.5555555555555556, \"#d8576b\"], [0.6666666666666666, \"#ed7953\"], [0.7777777777777778, \"#fb9f3a\"], [0.8888888888888888, \"#fdca26\"], [1.0, \"#f0f921\"]], \"sequentialminus\": [[0.0, \"#0d0887\"], [0.1111111111111111, \"#46039f\"], [0.2222222222222222, \"#7201a8\"], [0.3333333333333333, \"#9c179e\"], [0.4444444444444444, \"#bd3786\"], [0.5555555555555556, \"#d8576b\"], [0.6666666666666666, \"#ed7953\"], [0.7777777777777778, \"#fb9f3a\"], [0.8888888888888888, \"#fdca26\"], [1.0, \"#f0f921\"]]}, \"colorway\": [\"#636efa\", \"#EF553B\", \"#00cc96\", \"#ab63fa\", \"#FFA15A\", \"#19d3f3\", \"#FF6692\", \"#B6E880\", \"#FF97FF\", \"#FECB52\"], \"font\": {\"color\": \"#2a3f5f\"}, \"geo\": {\"bgcolor\": \"white\", \"lakecolor\": \"white\", \"landcolor\": \"#E5ECF6\", \"showlakes\": true, \"showland\": true, \"subunitcolor\": \"white\"}, \"hoverlabel\": {\"align\": \"left\"}, \"hovermode\": \"closest\", \"mapbox\": {\"style\": \"light\"}, \"paper_bgcolor\": \"white\", \"plot_bgcolor\": \"#E5ECF6\", \"polar\": {\"angularaxis\": {\"gridcolor\": \"white\", \"linecolor\": \"white\", \"ticks\": \"\"}, \"bgcolor\": \"#E5ECF6\", \"radialaxis\": {\"gridcolor\": \"white\", \"linecolor\": \"white\", \"ticks\": \"\"}}, \"scene\": {\"xaxis\": {\"backgroundcolor\": \"#E5ECF6\", \"gridcolor\": \"white\", \"gridwidth\": 2, \"linecolor\": \"white\", \"showbackground\": true, \"ticks\": \"\", \"zerolinecolor\": \"white\"}, \"yaxis\": {\"backgroundcolor\": \"#E5ECF6\", \"gridcolor\": \"white\", \"gridwidth\": 2, \"linecolor\": \"white\", \"showbackground\": true, \"ticks\": \"\", \"zerolinecolor\": \"white\"}, \"zaxis\": {\"backgroundcolor\": \"#E5ECF6\", \"gridcolor\": \"white\", \"gridwidth\": 2, \"linecolor\": \"white\", \"showbackground\": true, \"ticks\": \"\", \"zerolinecolor\": \"white\"}}, \"shapedefaults\": {\"line\": {\"color\": \"#2a3f5f\"}}, \"ternary\": {\"aaxis\": {\"gridcolor\": \"white\", \"linecolor\": \"white\", \"ticks\": \"\"}, \"baxis\": {\"gridcolor\": \"white\", \"linecolor\": \"white\", \"ticks\": \"\"}, \"bgcolor\": \"#E5ECF6\", \"caxis\": {\"gridcolor\": \"white\", \"linecolor\": \"white\", \"ticks\": \"\"}}, \"title\": {\"x\": 0.05}, \"xaxis\": {\"automargin\": true, \"gridcolor\": \"white\", \"linecolor\": \"white\", \"ticks\": \"\", \"title\": {\"standoff\": 15}, \"zerolinecolor\": \"white\", \"zerolinewidth\": 2}, \"yaxis\": {\"automargin\": true, \"gridcolor\": \"white\", \"linecolor\": \"white\", \"ticks\": \"\", \"title\": {\"standoff\": 15}, \"zerolinecolor\": \"white\", \"zerolinewidth\": 2}}}, \"title\": {\"text\": \"Spread over time\"}, \"updatemenus\": [{\"buttons\": [{\"args\": [null, {\"frame\": {\"duration\": 500, \"redraw\": true}, \"fromcurrent\": true, \"mode\": \"immediate\", \"transition\": {\"duration\": 500, \"easing\": \"linear\"}}], \"label\": \"&#9654;\", \"method\": \"animate\"}, {\"args\": [[null], {\"frame\": {\"duration\": 0, \"redraw\": true}, \"fromcurrent\": true, \"mode\": \"immediate\", \"transition\": {\"duration\": 0, \"easing\": \"linear\"}}], \"label\": \"&#9724;\", \"method\": \"animate\"}], \"direction\": \"left\", \"pad\": {\"r\": 10, \"t\": 70}, \"showactive\": false, \"type\": \"buttons\", \"x\": 0.1, \"xanchor\": \"right\", \"y\": 0, \"yanchor\": \"top\"}]},\n",
       "                        {\"responsive\": true}\n",
       "                    ).then(function(){\n",
       "                            Plotly.addFrames('0b836725-5ded-4ce7-b381-11d70668c900', [{\"data\": [{\"geo\": \"geo\", \"hoverlabel\": {\"namelength\": 0}, \"hovertemplate\": \"<b>%{hovertext}</b><br><br>ObservationDate=01/22/2020<br>size=%{marker.size}<br>Country/Region=%{location}<br>Confirmed=%{marker.color}\", \"hovertext\": [\"China\", \"Hong Kong\", \"Japan\", \"Macau\", \"South Korea\", \"Taiwan\", \"Thailand\", \"US\"], \"legendgroup\": \"\", \"locationmode\": \"country names\", \"locations\": [\"China\", \"Hong Kong\", \"Japan\", \"Macau\", \"South Korea\", \"Taiwan\", \"Thailand\", \"US\"], \"marker\": {\"color\": [444, 0, 2, 1, 1, 1, 2, 1], \"coloraxis\": \"coloraxis\", \"size\": [6.226082785868411, 0.0, 1.2311444133449163, 1.0, 1.0, 1.0, 1.2311444133449163, 1.0], \"sizemode\": \"area\", \"sizeref\": 0.07034885314052819}, \"name\": \"\", \"showlegend\": false, \"type\": \"scattergeo\"}], \"name\": \"01/22/2020\"}, {\"data\": [{\"geo\": \"geo\", \"hoverlabel\": {\"namelength\": 0}, \"hovertemplate\": \"<b>%{hovertext}</b><br><br>ObservationDate=01/23/2020<br>size=%{marker.size}<br>Country/Region=%{location}<br>Confirmed=%{marker.color}\", \"hovertext\": [\"Australia\", \"Brazil\", \"China\", \"Colombia\", \"Hong Kong\", \"Japan\", \"Macau\", \"Malaysia\", \"Mexico\", \"Philippines\", \"Singapore\", \"South Korea\", \"Taiwan\", \"Thailand\", \"US\", \"Vietnam\"], \"legendgroup\": \"\", \"locationmode\": \"country names\", \"locations\": [\"Australia\", \"Brazil\", \"China\", \"Colombia\", \"Hong Kong\", \"Japan\", \"Macau\", \"Malaysia\", \"Mexico\", \"Philippines\", \"Singapore\", \"South Korea\", \"Taiwan\", \"Thailand\", \"US\", \"Vietnam\"], \"marker\": {\"color\": [0, 0, 444, 0, 2, 1, 2, 0, 0, 0, 1, 1, 1, 3, 1, 2], \"coloraxis\": \"coloraxis\", \"size\": [0.0, 0.0, 6.226082785868411, 0.0, 1.2311444133449163, 1.0, 1.2311444133449163, 0.0, 0.0, 0.0, 1.0, 1.0, 1.0, 1.3903891703159093, 1.0, 1.2311444133449163], \"sizemode\": \"area\", \"sizeref\": 0.07034885314052819}, \"name\": \"\", \"showlegend\": false, \"type\": \"scattergeo\"}], \"name\": \"01/23/2020\"}, {\"data\": [{\"geo\": \"geo\", \"hoverlabel\": {\"namelength\": 0}, \"hovertemplate\": \"<b>%{hovertext}</b><br><br>ObservationDate=01/24/2020<br>size=%{marker.size}<br>Country/Region=%{location}<br>Confirmed=%{marker.color}\", \"hovertext\": [\"China\", \"France\", \"Hong Kong\", \"Japan\", \"Macau\", \"Singapore\", \"South Korea\", \"Taiwan\", \"Thailand\", \"US\", \"Vietnam\"], \"legendgroup\": \"\", \"locationmode\": \"country names\", \"locations\": [\"China\", \"France\", \"Hong Kong\", \"Japan\", \"Macau\", \"Singapore\", \"South Korea\", \"Taiwan\", \"Thailand\", \"US\", \"Vietnam\"], \"marker\": {\"color\": [549, 2, 2, 2, 2, 3, 2, 3, 5, 1, 2], \"coloraxis\": \"coloraxis\", \"size\": [6.635470203736966, 1.2311444133449163, 1.2311444133449163, 1.2311444133449163, 1.2311444133449163, 1.3903891703159093, 1.2311444133449163, 1.3903891703159093, 1.6206565966927624, 1.0, 1.2311444133449163], \"sizemode\": \"area\", \"sizeref\": 0.07034885314052819}, \"name\": \"\", \"showlegend\": false, \"type\": \"scattergeo\"}], \"name\": \"01/24/2020\"}, {\"data\": [{\"geo\": \"geo\", \"hoverlabel\": {\"namelength\": 0}, \"hovertemplate\": \"<b>%{hovertext}</b><br><br>ObservationDate=01/25/2020<br>size=%{marker.size}<br>Country/Region=%{location}<br>Confirmed=%{marker.color}\", \"hovertext\": [\"Australia\", \"China\", \"France\", \"Hong Kong\", \"Japan\", \"Macau\", \"Malaysia\", \"Nepal\", \"Singapore\", \"South Korea\", \"Taiwan\", \"Thailand\", \"US\", \"Vietnam\"], \"legendgroup\": \"\", \"locationmode\": \"country names\", \"locations\": [\"Australia\", \"China\", \"France\", \"Hong Kong\", \"Japan\", \"Macau\", \"Malaysia\", \"Nepal\", \"Singapore\", \"South Korea\", \"Taiwan\", \"Thailand\", \"US\", \"Vietnam\"], \"marker\": {\"color\": [4, 761, 3, 5, 2, 2, 3, 1, 3, 2, 3, 7, 1, 2], \"coloraxis\": \"coloraxis\", \"size\": [1.515716566510398, 7.318387430747937, 1.3903891703159093, 1.6206565966927624, 1.2311444133449163, 1.2311444133449163, 1.3903891703159093, 1.0, 1.3903891703159093, 1.2311444133449163, 1.3903891703159093, 1.792789962520997, 1.0, 1.2311444133449163], \"sizemode\": \"area\", \"sizeref\": 0.07034885314052819}, \"name\": \"\", \"showlegend\": false, \"type\": \"scattergeo\"}], \"name\": \"01/25/2020\"}, {\"data\": [{\"geo\": \"geo\", \"hoverlabel\": {\"namelength\": 0}, \"hovertemplate\": \"<b>%{hovertext}</b><br><br>ObservationDate=01/26/2020<br>size=%{marker.size}<br>Country/Region=%{location}<br>Confirmed=%{marker.color}\", \"hovertext\": [\"Australia\", \"Canada\", \"China\", \"France\", \"Hong Kong\", \"Japan\", \"Macau\", \"Malaysia\", \"Nepal\", \"Singapore\", \"South Korea\", \"Taiwan\", \"Thailand\", \"US\", \"Vietnam\"], \"legendgroup\": \"\", \"locationmode\": \"country names\", \"locations\": [\"Australia\", \"Canada\", \"China\", \"France\", \"Hong Kong\", \"Japan\", \"Macau\", \"Malaysia\", \"Nepal\", \"Singapore\", \"South Korea\", \"Taiwan\", \"Thailand\", \"US\", \"Vietnam\"], \"marker\": {\"color\": [4, 1, 1058, 3, 8, 4, 5, 4, 1, 4, 3, 4, 8, 2, 2], \"coloraxis\": \"coloraxis\", \"size\": [1.515716566510398, 1.0, 8.078778486777043, 1.3903891703159093, 1.8660659830736148, 1.515716566510398, 1.6206565966927624, 1.515716566510398, 1.0, 1.515716566510398, 1.3903891703159093, 1.515716566510398, 1.8660659830736148, 1.2311444133449163, 1.2311444133449163], \"sizemode\": \"area\", \"sizeref\": 0.07034885314052819}, \"name\": \"\", \"showlegend\": false, \"type\": \"scattergeo\"}], \"name\": \"01/26/2020\"}, {\"data\": [{\"geo\": \"geo\", \"hoverlabel\": {\"namelength\": 0}, \"hovertemplate\": \"<b>%{hovertext}</b><br><br>ObservationDate=01/27/2020<br>size=%{marker.size}<br>Country/Region=%{location}<br>Confirmed=%{marker.color}\", \"hovertext\": [\"Australia\", \"Cambodia\", \"Canada\", \"China\", \"France\", \"Hong Kong\", \"Ivory Coast\", \"Japan\", \"Macau\", \"Malaysia\", \"Nepal\", \"Singapore\", \"South Korea\", \"Sri Lanka\", \"Taiwan\", \"Thailand\", \"US\", \"Vietnam\"], \"legendgroup\": \"\", \"locationmode\": \"country names\", \"locations\": [\"Australia\", \"Cambodia\", \"Canada\", \"China\", \"France\", \"Hong Kong\", \"Ivory Coast\", \"Japan\", \"Macau\", \"Malaysia\", \"Nepal\", \"Singapore\", \"South Korea\", \"Sri Lanka\", \"Taiwan\", \"Thailand\", \"US\", \"Vietnam\"], \"marker\": {\"color\": [4, 1, 1, 1423, 3, 8, 1, 4, 6, 4, 1, 5, 4, 1, 5, 8, 2, 2], \"coloraxis\": \"coloraxis\", \"size\": [1.515716566510398, 1.0, 1.0, 8.83001558329565, 1.3903891703159093, 1.8660659830736148, 1.0, 1.515716566510398, 1.711769859409705, 1.515716566510398, 1.0, 1.6206565966927624, 1.515716566510398, 1.0, 1.6206565966927624, 1.8660659830736148, 1.2311444133449163, 1.2311444133449163], \"sizemode\": \"area\", \"sizeref\": 0.07034885314052819}, \"name\": \"\", \"showlegend\": false, \"type\": \"scattergeo\"}], \"name\": \"01/27/2020\"}, {\"data\": [{\"geo\": \"geo\", \"hoverlabel\": {\"namelength\": 0}, \"hovertemplate\": \"<b>%{hovertext}</b><br><br>ObservationDate=01/28/2020<br>size=%{marker.size}<br>Country/Region=%{location}<br>Confirmed=%{marker.color}\", \"hovertext\": [\"Australia\", \"Cambodia\", \"Canada\", \"China\", \"France\", \"Germany\", \"Hong Kong\", \"Japan\", \"Macau\", \"Malaysia\", \"Nepal\", \"Singapore\", \"South Korea\", \"Sri Lanka\", \"Taiwan\", \"Thailand\", \"US\", \"Vietnam\"], \"legendgroup\": \"\", \"locationmode\": \"country names\", \"locations\": [\"Australia\", \"Cambodia\", \"Canada\", \"China\", \"France\", \"Germany\", \"Hong Kong\", \"Japan\", \"Macau\", \"Malaysia\", \"Nepal\", \"Singapore\", \"South Korea\", \"Sri Lanka\", \"Taiwan\", \"Thailand\", \"US\", \"Vietnam\"], \"marker\": {\"color\": [4, 1, 1, 3554, 4, 4, 8, 7, 7, 4, 1, 7, 4, 1, 8, 14, 2, 2], \"coloraxis\": \"coloraxis\", \"size\": [1.515716566510398, 1.0, 1.0, 11.620243455385262, 1.515716566510398, 1.515716566510398, 1.8660659830736148, 1.792789962520997, 1.792789962520997, 1.515716566510398, 1.0, 1.792789962520997, 1.515716566510398, 1.0, 1.8660659830736148, 2.2071833466585673, 1.2311444133449163, 1.2311444133449163], \"sizemode\": \"area\", \"sizeref\": 0.07034885314052819}, \"name\": \"\", \"showlegend\": false, \"type\": \"scattergeo\"}], \"name\": \"01/28/2020\"}, {\"data\": [{\"geo\": \"geo\", \"hoverlabel\": {\"namelength\": 0}, \"hovertemplate\": \"<b>%{hovertext}</b><br><br>ObservationDate=01/29/2020<br>size=%{marker.size}<br>Country/Region=%{location}<br>Confirmed=%{marker.color}\", \"hovertext\": [\"Australia\", \"Cambodia\", \"Canada\", \"China\", \"Finland\", \"France\", \"Germany\", \"Hong Kong\", \"Japan\", \"Macau\", \"Malaysia\", \"Nepal\", \"Singapore\", \"South Korea\", \"Sri Lanka\", \"Taiwan\", \"Thailand\", \"US\", \"United Arab Emirates\", \"Vietnam\"], \"legendgroup\": \"\", \"locationmode\": \"country names\", \"locations\": [\"Australia\", \"Cambodia\", \"Canada\", \"China\", \"Finland\", \"France\", \"Germany\", \"Hong Kong\", \"Japan\", \"Macau\", \"Malaysia\", \"Nepal\", \"Singapore\", \"South Korea\", \"Sri Lanka\", \"Taiwan\", \"Thailand\", \"US\", \"United Arab Emirates\", \"Vietnam\"], \"marker\": {\"color\": [4, 1, 1, 3554, 1, 5, 4, 10, 7, 7, 7, 1, 7, 4, 1, 8, 14, 2, 4, 2], \"coloraxis\": \"coloraxis\", \"size\": [1.515716566510398, 1.0, 1.0, 11.620243455385262, 1.0, 1.6206565966927624, 1.515716566510398, 1.9952623149688795, 1.792789962520997, 1.792789962520997, 1.792789962520997, 1.0, 1.792789962520997, 1.515716566510398, 1.0, 1.8660659830736148, 2.2071833466585673, 1.2311444133449163, 1.515716566510398, 1.2311444133449163], \"sizemode\": \"area\", \"sizeref\": 0.07034885314052819}, \"name\": \"\", \"showlegend\": false, \"type\": \"scattergeo\"}], \"name\": \"01/29/2020\"}, {\"data\": [{\"geo\": \"geo\", \"hoverlabel\": {\"namelength\": 0}, \"hovertemplate\": \"<b>%{hovertext}</b><br><br>ObservationDate=01/30/2020<br>size=%{marker.size}<br>Country/Region=%{location}<br>Confirmed=%{marker.color}\", \"hovertext\": [\"Australia\", \"Cambodia\", \"Canada\", \"China\", \"Finland\", \"France\", \"Germany\", \"Hong Kong\", \"India\", \"Japan\", \"Macau\", \"Malaysia\", \"Nepal\", \"Philippines\", \"Singapore\", \"South Korea\", \"Sri Lanka\", \"Taiwan\", \"Thailand\", \"US\", \"United Arab Emirates\", \"Vietnam\"], \"legendgroup\": \"\", \"locationmode\": \"country names\", \"locations\": [\"Australia\", \"Cambodia\", \"Canada\", \"China\", \"Finland\", \"France\", \"Germany\", \"Hong Kong\", \"India\", \"Japan\", \"Macau\", \"Malaysia\", \"Nepal\", \"Philippines\", \"Singapore\", \"South Korea\", \"Sri Lanka\", \"Taiwan\", \"Thailand\", \"US\", \"United Arab Emirates\", \"Vietnam\"], \"marker\": {\"color\": [4, 1, 2, 4903, 1, 5, 4, 10, 1, 11, 7, 8, 1, 1, 10, 4, 1, 9, 14, 2, 4, 2], \"coloraxis\": \"coloraxis\", \"size\": [1.515716566510398, 1.0, 1.2311444133449163, 12.797895745076783, 1.0, 1.6206565966927624, 1.515716566510398, 1.9952623149688795, 1.0, 2.053136413658844, 1.792789962520997, 1.8660659830736148, 1.0, 1.0, 1.9952623149688795, 1.515716566510398, 1.0, 1.9331820449317627, 2.2071833466585673, 1.2311444133449163, 1.515716566510398, 1.2311444133449163], \"sizemode\": \"area\", \"sizeref\": 0.07034885314052819}, \"name\": \"\", \"showlegend\": false, \"type\": \"scattergeo\"}], \"name\": \"01/30/2020\"}, {\"data\": [{\"geo\": \"geo\", \"hoverlabel\": {\"namelength\": 0}, \"hovertemplate\": \"<b>%{hovertext}</b><br><br>ObservationDate=01/31/2020<br>size=%{marker.size}<br>Country/Region=%{location}<br>Confirmed=%{marker.color}\", \"hovertext\": [\"Australia\", \"Cambodia\", \"Canada\", \"China\", \"Finland\", \"France\", \"Germany\", \"Hong Kong\", \"India\", \"Italy\", \"Japan\", \"Macau\", \"Malaysia\", \"Nepal\", \"Philippines\", \"Russia\", \"Singapore\", \"South Korea\", \"Sri Lanka\", \"Sweden\", \"Taiwan\", \"Thailand\", \"UK\", \"US\", \"United Arab Emirates\", \"Vietnam\"], \"legendgroup\": \"\", \"locationmode\": \"country names\", \"locations\": [\"Australia\", \"Cambodia\", \"Canada\", \"China\", \"Finland\", \"France\", \"Germany\", \"Hong Kong\", \"India\", \"Italy\", \"Japan\", \"Macau\", \"Malaysia\", \"Nepal\", \"Philippines\", \"Russia\", \"Singapore\", \"South Korea\", \"Sri Lanka\", \"Sweden\", \"Taiwan\", \"Thailand\", \"UK\", \"US\", \"United Arab Emirates\", \"Vietnam\"], \"marker\": {\"color\": [4, 1, 2, 5806, 1, 5, 5, 12, 1, 2, 15, 7, 8, 1, 1, 2, 13, 11, 1, 1, 10, 19, 2, 2, 4, 2], \"coloraxis\": \"coloraxis\", \"size\": [1.515716566510398, 1.0, 1.2311444133449163, 13.463659183172838, 1.0, 1.6206565966927624, 1.6206565966927624, 2.107435899344471, 1.0, 1.2311444133449163, 2.2533433808426553, 1.792789962520997, 1.8660659830736148, 1.0, 1.0, 1.2311444133449163, 2.1586538444215795, 2.053136413658844, 1.0, 1.0, 1.9952623149688795, 2.4189454814875875, 1.2311444133449163, 1.2311444133449163, 1.515716566510398, 1.2311444133449163], \"sizemode\": \"area\", \"sizeref\": 0.07034885314052819}, \"name\": \"\", \"showlegend\": false, \"type\": \"scattergeo\"}], \"name\": \"01/31/2020\"}, {\"data\": [{\"geo\": \"geo\", \"hoverlabel\": {\"namelength\": 0}, \"hovertemplate\": \"<b>%{hovertext}</b><br><br>ObservationDate=02/01/2020<br>size=%{marker.size}<br>Country/Region=%{location}<br>Confirmed=%{marker.color}\", \"hovertext\": [\"Australia\", \"Cambodia\", \"Canada\", \"China\", \"Finland\", \"France\", \"Germany\", \"Hong Kong\", \"India\", \"Italy\", \"Japan\", \"Macau\", \"Malaysia\", \"Nepal\", \"Philippines\", \"Russia\", \"Singapore\", \"South Korea\", \"Spain\", \"Sri Lanka\", \"Sweden\", \"Taiwan\", \"Thailand\", \"UK\", \"US\", \"United Arab Emirates\", \"Vietnam\"], \"legendgroup\": \"\", \"locationmode\": \"country names\", \"locations\": [\"Australia\", \"Cambodia\", \"Canada\", \"China\", \"Finland\", \"France\", \"Germany\", \"Hong Kong\", \"India\", \"Italy\", \"Japan\", \"Macau\", \"Malaysia\", \"Nepal\", \"Philippines\", \"Russia\", \"Singapore\", \"South Korea\", \"Spain\", \"Sri Lanka\", \"Sweden\", \"Taiwan\", \"Thailand\", \"UK\", \"US\", \"United Arab Emirates\", \"Vietnam\"], \"marker\": {\"color\": [4, 1, 3, 7153, 1, 6, 8, 13, 1, 2, 20, 7, 8, 1, 1, 2, 16, 12, 1, 1, 1, 10, 19, 2, 2, 4, 6], \"coloraxis\": \"coloraxis\", \"size\": [1.515716566510398, 1.0, 1.3903891703159093, 14.333309130188328, 1.0, 1.711769859409705, 1.8660659830736148, 2.1586538444215795, 1.0, 1.2311444133449163, 2.4564560522315806, 1.792789962520997, 1.8660659830736148, 1.0, 1.0, 1.2311444133449163, 2.2973967099940698, 2.107435899344471, 1.0, 1.0, 1.0, 1.9952623149688795, 2.4189454814875875, 1.2311444133449163, 1.2311444133449163, 1.515716566510398, 1.711769859409705], \"sizemode\": \"area\", \"sizeref\": 0.07034885314052819}, \"name\": \"\", \"showlegend\": false, \"type\": \"scattergeo\"}], \"name\": \"02/01/2020\"}, {\"data\": [{\"geo\": \"geo\", \"hoverlabel\": {\"namelength\": 0}, \"hovertemplate\": \"<b>%{hovertext}</b><br><br>ObservationDate=02/02/2020<br>size=%{marker.size}<br>Country/Region=%{location}<br>Confirmed=%{marker.color}\", \"hovertext\": [\"Australia\", \"Cambodia\", \"Canada\", \"China\", \"Finland\", \"France\", \"Germany\", \"Hong Kong\", \"India\", \"Italy\", \"Japan\", \"Macau\", \"Malaysia\", \"Nepal\", \"Philippines\", \"Russia\", \"Singapore\", \"South Korea\", \"Spain\", \"Sri Lanka\", \"Sweden\", \"Taiwan\", \"Thailand\", \"UK\", \"US\", \"United Arab Emirates\", \"Vietnam\"], \"legendgroup\": \"\", \"locationmode\": \"country names\", \"locations\": [\"Australia\", \"Cambodia\", \"Canada\", \"China\", \"Finland\", \"France\", \"Germany\", \"Hong Kong\", \"India\", \"Italy\", \"Japan\", \"Macau\", \"Malaysia\", \"Nepal\", \"Philippines\", \"Russia\", \"Singapore\", \"South Korea\", \"Spain\", \"Sri Lanka\", \"Sweden\", \"Taiwan\", \"Thailand\", \"UK\", \"US\", \"United Arab Emirates\", \"Vietnam\"], \"marker\": {\"color\": [4, 1, 3, 11177, 1, 6, 10, 15, 2, 2, 20, 8, 8, 1, 2, 2, 18, 15, 1, 1, 1, 10, 19, 2, 2, 5, 6], \"coloraxis\": \"coloraxis\", \"size\": [1.515716566510398, 1.0, 1.3903891703159093, 16.38692912230769, 1.0, 1.711769859409705, 1.9952623149688795, 2.2533433808426553, 1.2311444133449163, 1.2311444133449163, 2.4564560522315806, 1.8660659830736148, 1.8660659830736148, 1.0, 1.2311444133449163, 1.2311444133449163, 2.3800262745964407, 2.2533433808426553, 1.0, 1.0, 1.0, 1.9952623149688795, 2.4189454814875875, 1.2311444133449163, 1.2311444133449163, 1.6206565966927624, 1.711769859409705], \"sizemode\": \"area\", \"sizeref\": 0.07034885314052819}, \"name\": \"\", \"showlegend\": false, \"type\": \"scattergeo\"}], \"name\": \"02/02/2020\"}, {\"data\": [{\"geo\": \"geo\", \"hoverlabel\": {\"namelength\": 0}, \"hovertemplate\": \"<b>%{hovertext}</b><br><br>ObservationDate=02/03/2020<br>size=%{marker.size}<br>Country/Region=%{location}<br>Confirmed=%{marker.color}\", \"hovertext\": [\"Australia\", \"Cambodia\", \"Canada\", \"China\", \"Finland\", \"France\", \"Germany\", \"Hong Kong\", \"India\", \"Italy\", \"Japan\", \"Macau\", \"Malaysia\", \"Nepal\", \"Philippines\", \"Russia\", \"Singapore\", \"South Korea\", \"Spain\", \"Sri Lanka\", \"Sweden\", \"Taiwan\", \"Thailand\", \"UK\", \"US\", \"United Arab Emirates\", \"Vietnam\"], \"legendgroup\": \"\", \"locationmode\": \"country names\", \"locations\": [\"Australia\", \"Cambodia\", \"Canada\", \"China\", \"Finland\", \"France\", \"Germany\", \"Hong Kong\", \"India\", \"Italy\", \"Japan\", \"Macau\", \"Malaysia\", \"Nepal\", \"Philippines\", \"Russia\", \"Singapore\", \"South Korea\", \"Spain\", \"Sri Lanka\", \"Sweden\", \"Taiwan\", \"Thailand\", \"UK\", \"US\", \"United Arab Emirates\", \"Vietnam\"], \"marker\": {\"color\": [4, 1, 3, 13522, 1, 6, 12, 15, 3, 2, 20, 8, 8, 1, 2, 2, 18, 15, 1, 1, 1, 10, 19, 2, 2, 5, 8], \"coloraxis\": \"coloraxis\", \"size\": [1.515716566510398, 1.0, 1.3903891703159093, 17.35051137974137, 1.0, 1.711769859409705, 2.107435899344471, 2.2533433808426553, 1.3903891703159093, 1.2311444133449163, 2.4564560522315806, 1.8660659830736148, 1.8660659830736148, 1.0, 1.2311444133449163, 1.2311444133449163, 2.3800262745964407, 2.2533433808426553, 1.0, 1.0, 1.0, 1.9952623149688795, 2.4189454814875875, 1.2311444133449163, 1.2311444133449163, 1.6206565966927624, 1.8660659830736148], \"sizemode\": \"area\", \"sizeref\": 0.07034885314052819}, \"name\": \"\", \"showlegend\": false, \"type\": \"scattergeo\"}], \"name\": \"02/03/2020\"}, {\"data\": [{\"geo\": \"geo\", \"hoverlabel\": {\"namelength\": 0}, \"hovertemplate\": \"<b>%{hovertext}</b><br><br>ObservationDate=02/04/2020<br>size=%{marker.size}<br>Country/Region=%{location}<br>Confirmed=%{marker.color}\", \"hovertext\": [\"Australia\", \"Belgium\", \"Cambodia\", \"Canada\", \"China\", \"Finland\", \"France\", \"Germany\", \"Hong Kong\", \"India\", \"Italy\", \"Japan\", \"Macau\", \"Malaysia\", \"Nepal\", \"Philippines\", \"Russia\", \"Singapore\", \"South Korea\", \"Spain\", \"Sri Lanka\", \"Sweden\", \"Taiwan\", \"Thailand\", \"UK\", \"US\", \"United Arab Emirates\", \"Vietnam\"], \"legendgroup\": \"\", \"locationmode\": \"country names\", \"locations\": [\"Australia\", \"Belgium\", \"Cambodia\", \"Canada\", \"China\", \"Finland\", \"France\", \"Germany\", \"Hong Kong\", \"India\", \"Italy\", \"Japan\", \"Macau\", \"Malaysia\", \"Nepal\", \"Philippines\", \"Russia\", \"Singapore\", \"South Korea\", \"Spain\", \"Sri Lanka\", \"Sweden\", \"Taiwan\", \"Thailand\", \"UK\", \"US\", \"United Arab Emirates\", \"Vietnam\"], \"marker\": {\"color\": [4, 1, 1, 2, 16678, 1, 6, 12, 17, 3, 2, 22, 10, 10, 1, 2, 2, 24, 16, 1, 1, 1, 11, 25, 2, 2, 5, 8], \"coloraxis\": \"coloraxis\", \"size\": [1.515716566510398, 1.0, 1.0, 1.2311444133449163, 18.47749914480911, 1.0, 1.711769859409705, 2.107435899344471, 2.3395626336814512, 1.3903891703159093, 1.2311444133449163, 2.5277074255111027, 1.9952623149688795, 1.9952623149688795, 1.0, 1.2311444133449163, 1.2311444133449163, 2.594557933960465, 2.2973967099940698, 1.0, 1.0, 1.0, 2.053136413658844, 2.626527804403767, 1.2311444133449163, 1.2311444133449163, 1.6206565966927624, 1.8660659830736148], \"sizemode\": \"area\", \"sizeref\": 0.07034885314052819}, \"name\": \"\", \"showlegend\": false, \"type\": \"scattergeo\"}], \"name\": \"02/04/2020\"}, {\"data\": [{\"geo\": \"geo\", \"hoverlabel\": {\"namelength\": 0}, \"hovertemplate\": \"<b>%{hovertext}</b><br><br>ObservationDate=02/05/2020<br>size=%{marker.size}<br>Country/Region=%{location}<br>Confirmed=%{marker.color}\", \"hovertext\": [\"Australia\", \"Belgium\", \"Cambodia\", \"Canada\", \"China\", \"Finland\", \"France\", \"Germany\", \"Hong Kong\", \"India\", \"Italy\", \"Japan\", \"Macau\", \"Malaysia\", \"Nepal\", \"Philippines\", \"Russia\", \"Singapore\", \"South Korea\", \"Spain\", \"Sri Lanka\", \"Sweden\", \"Taiwan\", \"Thailand\", \"UK\", \"US\", \"United Arab Emirates\", \"Vietnam\"], \"legendgroup\": \"\", \"locationmode\": \"country names\", \"locations\": [\"Australia\", \"Belgium\", \"Cambodia\", \"Canada\", \"China\", \"Finland\", \"France\", \"Germany\", \"Hong Kong\", \"India\", \"Italy\", \"Japan\", \"Macau\", \"Malaysia\", \"Nepal\", \"Philippines\", \"Russia\", \"Singapore\", \"South Korea\", \"Spain\", \"Sri Lanka\", \"Sweden\", \"Taiwan\", \"Thailand\", \"UK\", \"US\", \"United Arab Emirates\", \"Vietnam\"], \"marker\": {\"color\": [4, 1, 1, 2, 19665, 1, 6, 12, 21, 3, 2, 22, 10, 12, 1, 2, 2, 28, 19, 1, 1, 1, 11, 25, 2, 2, 5, 8], \"coloraxis\": \"coloraxis\", \"size\": [1.515716566510398, 1.0, 1.0, 1.2311444133449163, 19.413694235203177, 1.0, 1.711769859409705, 2.107435899344471, 2.4926757485402593, 1.3903891703159093, 1.2311444133449163, 2.5277074255111027, 1.9952623149688795, 2.107435899344471, 1.0, 1.2311444133449163, 1.2311444133449163, 2.717361446466631, 2.4189454814875875, 1.0, 1.0, 1.0, 2.053136413658844, 2.626527804403767, 1.2311444133449163, 1.2311444133449163, 1.6206565966927624, 1.8660659830736148], \"sizemode\": \"area\", \"sizeref\": 0.07034885314052819}, \"name\": \"\", \"showlegend\": false, \"type\": \"scattergeo\"}], \"name\": \"02/05/2020\"}, {\"data\": [{\"geo\": \"geo\", \"hoverlabel\": {\"namelength\": 0}, \"hovertemplate\": \"<b>%{hovertext}</b><br><br>ObservationDate=02/06/2020<br>size=%{marker.size}<br>Country/Region=%{location}<br>Confirmed=%{marker.color}\", \"hovertext\": [\"Australia\", \"Belgium\", \"Cambodia\", \"Canada\", \"China\", \"Finland\", \"France\", \"Germany\", \"Hong Kong\", \"India\", \"Italy\", \"Japan\", \"Macau\", \"Malaysia\", \"Nepal\", \"Philippines\", \"Russia\", \"Singapore\", \"South Korea\", \"Spain\", \"Sri Lanka\", \"Sweden\", \"Taiwan\", \"Thailand\", \"UK\", \"US\", \"United Arab Emirates\", \"Vietnam\"], \"legendgroup\": \"\", \"locationmode\": \"country names\", \"locations\": [\"Australia\", \"Belgium\", \"Cambodia\", \"Canada\", \"China\", \"Finland\", \"France\", \"Germany\", \"Hong Kong\", \"India\", \"Italy\", \"Japan\", \"Macau\", \"Malaysia\", \"Nepal\", \"Philippines\", \"Russia\", \"Singapore\", \"South Korea\", \"Spain\", \"Sri Lanka\", \"Sweden\", \"Taiwan\", \"Thailand\", \"UK\", \"US\", \"United Arab Emirates\", \"Vietnam\"], \"marker\": {\"color\": [4, 1, 1, 2, 22112, 1, 6, 12, 24, 3, 2, 45, 10, 12, 1, 2, 2, 28, 23, 1, 1, 1, 16, 25, 2, 2, 5, 10], \"coloraxis\": \"coloraxis\", \"size\": [1.515716566510398, 1.0, 1.0, 1.2311444133449163, 20.10890432012336, 1.0, 1.711769859409705, 2.107435899344471, 2.594557933960465, 1.3903891703159093, 1.2311444133449163, 3.1330242337266654, 1.9952623149688795, 2.107435899344471, 1.0, 1.2311444133449163, 1.2311444133449163, 2.717361446466631, 2.5616415021458128, 1.0, 1.0, 1.0, 2.2973967099940698, 2.626527804403767, 1.2311444133449163, 1.2311444133449163, 1.6206565966927624, 1.9952623149688795], \"sizemode\": \"area\", \"sizeref\": 0.07034885314052819}, \"name\": \"\", \"showlegend\": false, \"type\": \"scattergeo\"}], \"name\": \"02/06/2020\"}, {\"data\": [{\"geo\": \"geo\", \"hoverlabel\": {\"namelength\": 0}, \"hovertemplate\": \"<b>%{hovertext}</b><br><br>ObservationDate=02/07/2020<br>size=%{marker.size}<br>Country/Region=%{location}<br>Confirmed=%{marker.color}\", \"hovertext\": [\"Australia\", \"Belgium\", \"Cambodia\", \"Canada\", \"China\", \"Finland\", \"France\", \"Germany\", \"Hong Kong\", \"India\", \"Italy\", \"Japan\", \"Macau\", \"Malaysia\", \"Nepal\", \"Others\", \"Philippines\", \"Russia\", \"Singapore\", \"South Korea\", \"Spain\", \"Sri Lanka\", \"Sweden\", \"Taiwan\", \"Thailand\", \"UK\", \"US\", \"United Arab Emirates\", \"Vietnam\"], \"legendgroup\": \"\", \"locationmode\": \"country names\", \"locations\": [\"Australia\", \"Belgium\", \"Cambodia\", \"Canada\", \"China\", \"Finland\", \"France\", \"Germany\", \"Hong Kong\", \"India\", \"Italy\", \"Japan\", \"Macau\", \"Malaysia\", \"Nepal\", \"Others\", \"Philippines\", \"Russia\", \"Singapore\", \"South Korea\", \"Spain\", \"Sri Lanka\", \"Sweden\", \"Taiwan\", \"Thailand\", \"UK\", \"US\", \"United Arab Emirates\", \"Vietnam\"], \"marker\": {\"color\": [5, 1, 1, 4, 24953, 1, 6, 13, 25, 3, 3, 25, 10, 12, 1, 61, 3, 2, 30, 24, 1, 1, 1, 16, 25, 3, 2, 5, 10], \"coloraxis\": \"coloraxis\", \"size\": [1.6206565966927624, 1.0, 1.0, 1.515716566510398, 20.85147731830478, 1.0, 1.711769859409705, 2.1586538444215795, 2.626527804403767, 1.3903891703159093, 1.3903891703159093, 2.626527804403767, 1.9952623149688795, 2.107435899344471, 1.0, 3.432408355505487, 1.3903891703159093, 1.2311444133449163, 2.774191114672181, 2.594557933960465, 1.0, 1.0, 1.0, 2.2973967099940698, 2.626527804403767, 1.3903891703159093, 1.2311444133449163, 1.6206565966927624, 1.9952623149688795], \"sizemode\": \"area\", \"sizeref\": 0.07034885314052819}, \"name\": \"\", \"showlegend\": false, \"type\": \"scattergeo\"}], \"name\": \"02/07/2020\"}, {\"data\": [{\"geo\": \"geo\", \"hoverlabel\": {\"namelength\": 0}, \"hovertemplate\": \"<b>%{hovertext}</b><br><br>ObservationDate=02/08/2020<br>size=%{marker.size}<br>Country/Region=%{location}<br>Confirmed=%{marker.color}\", \"hovertext\": [\"Australia\", \"Belgium\", \"Cambodia\", \"Canada\", \"China\", \"Finland\", \"France\", \"Germany\", \"Hong Kong\", \"India\", \"Italy\", \"Japan\", \"Macau\", \"Malaysia\", \"Nepal\", \"Others\", \"Philippines\", \"Russia\", \"Singapore\", \"South Korea\", \"Spain\", \"Sri Lanka\", \"Sweden\", \"Taiwan\", \"Thailand\", \"UK\", \"US\", \"United Arab Emirates\", \"Vietnam\"], \"legendgroup\": \"\", \"locationmode\": \"country names\", \"locations\": [\"Australia\", \"Belgium\", \"Cambodia\", \"Canada\", \"China\", \"Finland\", \"France\", \"Germany\", \"Hong Kong\", \"India\", \"Italy\", \"Japan\", \"Macau\", \"Malaysia\", \"Nepal\", \"Others\", \"Philippines\", \"Russia\", \"Singapore\", \"South Korea\", \"Spain\", \"Sri Lanka\", \"Sweden\", \"Taiwan\", \"Thailand\", \"UK\", \"US\", \"United Arab Emirates\", \"Vietnam\"], \"marker\": {\"color\": [5, 1, 1, 4, 27100, 1, 11, 13, 26, 3, 3, 25, 10, 16, 1, 61, 3, 2, 33, 24, 1, 1, 1, 17, 32, 3, 2, 7, 13], \"coloraxis\": \"coloraxis\", \"size\": [1.6206565966927624, 1.0, 1.0, 1.515716566510398, 21.374245203028917, 1.0, 2.053136413658844, 2.1586538444215795, 2.657614620905154, 1.3903891703159093, 1.3903891703159093, 2.626527804403767, 1.9952623149688795, 2.2973967099940698, 1.0, 3.432408355505487, 1.3903891703159093, 1.2311444133449163, 2.854658634732502, 2.594557933960465, 1.0, 1.0, 1.0, 2.3395626336814512, 2.82842712474619, 1.3903891703159093, 1.2311444133449163, 1.792789962520997, 2.1586538444215795], \"sizemode\": \"area\", \"sizeref\": 0.07034885314052819}, \"name\": \"\", \"showlegend\": false, \"type\": \"scattergeo\"}], \"name\": \"02/08/2020\"}, {\"data\": [{\"geo\": \"geo\", \"hoverlabel\": {\"namelength\": 0}, \"hovertemplate\": \"<b>%{hovertext}</b><br><br>ObservationDate=02/09/2020<br>size=%{marker.size}<br>Country/Region=%{location}<br>Confirmed=%{marker.color}\", \"hovertext\": [\"Australia\", \"Belgium\", \"Cambodia\", \"Canada\", \"China\", \"Finland\", \"France\", \"Germany\", \"Hong Kong\", \"India\", \"Italy\", \"Japan\", \"Macau\", \"Malaysia\", \"Nepal\", \"Others\", \"Philippines\", \"Russia\", \"Singapore\", \"South Korea\", \"Spain\", \"Sri Lanka\", \"Sweden\", \"Taiwan\", \"Thailand\", \"UK\", \"US\", \"United Arab Emirates\", \"Vietnam\"], \"legendgroup\": \"\", \"locationmode\": \"country names\", \"locations\": [\"Australia\", \"Belgium\", \"Cambodia\", \"Canada\", \"China\", \"Finland\", \"France\", \"Germany\", \"Hong Kong\", \"India\", \"Italy\", \"Japan\", \"Macau\", \"Malaysia\", \"Nepal\", \"Others\", \"Philippines\", \"Russia\", \"Singapore\", \"South Korea\", \"Spain\", \"Sri Lanka\", \"Sweden\", \"Taiwan\", \"Thailand\", \"UK\", \"US\", \"United Arab Emirates\", \"Vietnam\"], \"marker\": {\"color\": [5, 1, 1, 4, 29631, 1, 11, 14, 29, 3, 3, 26, 10, 16, 1, 64, 3, 2, 40, 25, 2, 1, 1, 18, 32, 3, 2, 7, 13], \"coloraxis\": \"coloraxis\", \"size\": [1.6206565966927624, 1.0, 1.0, 1.515716566510398, 21.954517277630384, 1.0, 2.053136413658844, 2.2071833466585673, 2.7461192933624785, 1.3903891703159093, 1.3903891703159093, 2.657614620905154, 1.9952623149688795, 2.2973967099940698, 1.0, 3.4822022531844965, 1.3903891703159093, 1.2311444133449163, 3.0242521453322184, 2.626527804403767, 1.2311444133449163, 1.0, 1.0, 2.3800262745964407, 2.82842712474619, 1.3903891703159093, 1.2311444133449163, 1.792789962520997, 2.1586538444215795], \"sizemode\": \"area\", \"sizeref\": 0.07034885314052819}, \"name\": \"\", \"showlegend\": false, \"type\": \"scattergeo\"}], \"name\": \"02/09/2020\"}, {\"data\": [{\"geo\": \"geo\", \"hoverlabel\": {\"namelength\": 0}, \"hovertemplate\": \"<b>%{hovertext}</b><br><br>ObservationDate=02/10/2020<br>size=%{marker.size}<br>Country/Region=%{location}<br>Confirmed=%{marker.color}\", \"hovertext\": [\"Australia\", \"Belgium\", \"Cambodia\", \"Canada\", \"China\", \"Finland\", \"France\", \"Germany\", \"Hong Kong\", \"India\", \"Italy\", \"Japan\", \"Macau\", \"Malaysia\", \"Nepal\", \"Others\", \"Philippines\", \"Russia\", \"Singapore\", \"South Korea\", \"Spain\", \"Sri Lanka\", \"Sweden\", \"Taiwan\", \"Thailand\", \"UK\", \"US\", \"United Arab Emirates\", \"Vietnam\"], \"legendgroup\": \"\", \"locationmode\": \"country names\", \"locations\": [\"Australia\", \"Belgium\", \"Cambodia\", \"Canada\", \"China\", \"Finland\", \"France\", \"Germany\", \"Hong Kong\", \"India\", \"Italy\", \"Japan\", \"Macau\", \"Malaysia\", \"Nepal\", \"Others\", \"Philippines\", \"Russia\", \"Singapore\", \"South Korea\", \"Spain\", \"Sri Lanka\", \"Sweden\", \"Taiwan\", \"Thailand\", \"UK\", \"US\", \"United Arab Emirates\", \"Vietnam\"], \"marker\": {\"color\": [5, 1, 1, 4, 31728, 1, 11, 14, 38, 3, 3, 26, 10, 18, 1, 135, 3, 2, 45, 27, 2, 1, 1, 18, 32, 8, 2, 8, 14], \"coloraxis\": \"coloraxis\", \"size\": [1.6206565966927624, 1.0, 1.0, 1.515716566510398, 22.409533146633887, 1.0, 2.053136413658844, 2.2071833466585673, 2.978071215719372, 1.3903891703159093, 1.3903891703159093, 2.657614620905154, 1.9952623149688795, 2.3800262745964407, 1.0, 4.356122964910856, 1.3903891703159093, 1.2311444133449163, 3.1330242337266654, 2.6878753795222865, 1.2311444133449163, 1.0, 1.0, 2.3800262745964407, 2.82842712474619, 1.8660659830736148, 1.2311444133449163, 1.8660659830736148, 2.2071833466585673], \"sizemode\": \"area\", \"sizeref\": 0.07034885314052819}, \"name\": \"\", \"showlegend\": false, \"type\": \"scattergeo\"}], \"name\": \"02/10/2020\"}, {\"data\": [{\"geo\": \"geo\", \"hoverlabel\": {\"namelength\": 0}, \"hovertemplate\": \"<b>%{hovertext}</b><br><br>ObservationDate=02/11/2020<br>size=%{marker.size}<br>Country/Region=%{location}<br>Confirmed=%{marker.color}\", \"hovertext\": [\"Australia\", \"Belgium\", \"Cambodia\", \"Canada\", \"China\", \"Finland\", \"France\", \"Germany\", \"Hong Kong\", \"India\", \"Italy\", \"Japan\", \"Macau\", \"Malaysia\", \"Nepal\", \"Others\", \"Philippines\", \"Russia\", \"Singapore\", \"South Korea\", \"Spain\", \"Sri Lanka\", \"Sweden\", \"Taiwan\", \"Thailand\", \"UK\", \"US\", \"United Arab Emirates\", \"Vietnam\"], \"legendgroup\": \"\", \"locationmode\": \"country names\", \"locations\": [\"Australia\", \"Belgium\", \"Cambodia\", \"Canada\", \"China\", \"Finland\", \"France\", \"Germany\", \"Hong Kong\", \"India\", \"Italy\", \"Japan\", \"Macau\", \"Malaysia\", \"Nepal\", \"Others\", \"Philippines\", \"Russia\", \"Singapore\", \"South Korea\", \"Spain\", \"Sri Lanka\", \"Sweden\", \"Taiwan\", \"Thailand\", \"UK\", \"US\", \"United Arab Emirates\", \"Vietnam\"], \"marker\": {\"color\": [5, 1, 1, 4, 33366, 1, 11, 16, 49, 3, 3, 26, 10, 18, 1, 135, 3, 2, 47, 28, 2, 1, 1, 18, 33, 8, 2, 8, 15], \"coloraxis\": \"coloraxis\", \"size\": [1.6206565966927624, 1.0, 1.0, 1.515716566510398, 22.750515601098417, 1.0, 2.053136413658844, 2.2973967099940698, 3.2140958497160383, 1.3903891703159093, 1.3903891703159093, 2.657614620905154, 1.9952623149688795, 2.3800262745964407, 1.0, 4.356122964910856, 1.3903891703159093, 1.2311444133449163, 3.174163968024659, 2.717361446466631, 1.2311444133449163, 1.0, 1.0, 2.3800262745964407, 2.854658634732502, 1.8660659830736148, 1.2311444133449163, 1.8660659830736148, 2.2533433808426553], \"sizemode\": \"area\", \"sizeref\": 0.07034885314052819}, \"name\": \"\", \"showlegend\": false, \"type\": \"scattergeo\"}], \"name\": \"02/11/2020\"}, {\"data\": [{\"geo\": \"geo\", \"hoverlabel\": {\"namelength\": 0}, \"hovertemplate\": \"<b>%{hovertext}</b><br><br>ObservationDate=02/12/2020<br>size=%{marker.size}<br>Country/Region=%{location}<br>Confirmed=%{marker.color}\", \"hovertext\": [\"Australia\", \"Belgium\", \"Cambodia\", \"Canada\", \"China\", \"Finland\", \"France\", \"Germany\", \"Hong Kong\", \"India\", \"Italy\", \"Japan\", \"Macau\", \"Malaysia\", \"Nepal\", \"Others\", \"Philippines\", \"Russia\", \"Singapore\", \"South Korea\", \"Spain\", \"Sri Lanka\", \"Sweden\", \"Taiwan\", \"Thailand\", \"UK\", \"US\", \"United Arab Emirates\", \"Vietnam\"], \"legendgroup\": \"\", \"locationmode\": \"country names\", \"locations\": [\"Australia\", \"Belgium\", \"Cambodia\", \"Canada\", \"China\", \"Finland\", \"France\", \"Germany\", \"Hong Kong\", \"India\", \"Italy\", \"Japan\", \"Macau\", \"Malaysia\", \"Nepal\", \"Others\", \"Philippines\", \"Russia\", \"Singapore\", \"South Korea\", \"Spain\", \"Sri Lanka\", \"Sweden\", \"Taiwan\", \"Thailand\", \"UK\", \"US\", \"United Arab Emirates\", \"Vietnam\"], \"marker\": {\"color\": [5, 1, 1, 4, 33366, 1, 11, 16, 50, 3, 3, 28, 10, 18, 1, 175, 3, 2, 50, 28, 2, 1, 1, 18, 33, 9, 2, 8, 15], \"coloraxis\": \"coloraxis\", \"size\": [1.6206565966927624, 1.0, 1.0, 1.515716566510398, 22.750515601098417, 1.0, 2.053136413658844, 2.2973967099940698, 3.233635032886787, 1.3903891703159093, 1.3903891703159093, 2.717361446466631, 1.9952623149688795, 2.3800262745964407, 1.0, 4.708812684017387, 1.3903891703159093, 1.2311444133449163, 3.233635032886787, 2.717361446466631, 1.2311444133449163, 1.0, 1.0, 2.3800262745964407, 2.854658634732502, 1.9331820449317627, 1.2311444133449163, 1.8660659830736148, 2.2533433808426553], \"sizemode\": \"area\", \"sizeref\": 0.07034885314052819}, \"name\": \"\", \"showlegend\": false, \"type\": \"scattergeo\"}], \"name\": \"02/12/2020\"}, {\"data\": [{\"geo\": \"geo\", \"hoverlabel\": {\"namelength\": 0}, \"hovertemplate\": \"<b>%{hovertext}</b><br><br>ObservationDate=02/13/2020<br>size=%{marker.size}<br>Country/Region=%{location}<br>Confirmed=%{marker.color}\", \"hovertext\": [\"Australia\", \"Belgium\", \"Cambodia\", \"Canada\", \"China\", \"Finland\", \"France\", \"Germany\", \"Hong Kong\", \"India\", \"Italy\", \"Japan\", \"Macau\", \"Malaysia\", \"Nepal\", \"Others\", \"Philippines\", \"Russia\", \"Singapore\", \"South Korea\", \"Spain\", \"Sri Lanka\", \"Sweden\", \"Taiwan\", \"Thailand\", \"UK\", \"US\", \"United Arab Emirates\", \"Vietnam\"], \"legendgroup\": \"\", \"locationmode\": \"country names\", \"locations\": [\"Australia\", \"Belgium\", \"Cambodia\", \"Canada\", \"China\", \"Finland\", \"France\", \"Germany\", \"Hong Kong\", \"India\", \"Italy\", \"Japan\", \"Macau\", \"Malaysia\", \"Nepal\", \"Others\", \"Philippines\", \"Russia\", \"Singapore\", \"South Korea\", \"Spain\", \"Sri Lanka\", \"Sweden\", \"Taiwan\", \"Thailand\", \"UK\", \"US\", \"United Arab Emirates\", \"Vietnam\"], \"marker\": {\"color\": [5, 1, 1, 4, 48206, 1, 11, 16, 53, 3, 3, 28, 10, 19, 1, 175, 3, 2, 58, 28, 2, 1, 1, 18, 33, 9, 2, 8, 16], \"coloraxis\": \"coloraxis\", \"size\": [1.6206565966927624, 1.0, 1.0, 1.515716566510398, 25.405651063296247, 1.0, 2.053136413658844, 2.2973967099940698, 3.2906580963691905, 1.3903891703159093, 1.3903891703159093, 2.717361446466631, 1.9952623149688795, 2.4189454814875875, 1.0, 4.708812684017387, 1.3903891703159093, 1.2311444133449163, 3.380869426401905, 2.717361446466631, 1.2311444133449163, 1.0, 1.0, 2.3800262745964407, 2.854658634732502, 1.9331820449317627, 1.2311444133449163, 1.8660659830736148, 2.2973967099940698], \"sizemode\": \"area\", \"sizeref\": 0.07034885314052819}, \"name\": \"\", \"showlegend\": false, \"type\": \"scattergeo\"}], \"name\": \"02/13/2020\"}, {\"data\": [{\"geo\": \"geo\", \"hoverlabel\": {\"namelength\": 0}, \"hovertemplate\": \"<b>%{hovertext}</b><br><br>ObservationDate=02/14/2020<br>size=%{marker.size}<br>Country/Region=%{location}<br>Confirmed=%{marker.color}\", \"hovertext\": [\"Australia\", \"Belgium\", \"Cambodia\", \"Canada\", \"China\", \"Egypt\", \"Finland\", \"France\", \"Germany\", \"Hong Kong\", \"India\", \"Italy\", \"Japan\", \"Macau\", \"Malaysia\", \"Nepal\", \"Others\", \"Philippines\", \"Russia\", \"Singapore\", \"South Korea\", \"Spain\", \"Sri Lanka\", \"Sweden\", \"Taiwan\", \"Thailand\", \"UK\", \"US\", \"United Arab Emirates\", \"Vietnam\"], \"legendgroup\": \"\", \"locationmode\": \"country names\", \"locations\": [\"Australia\", \"Belgium\", \"Cambodia\", \"Canada\", \"China\", \"Egypt\", \"Finland\", \"France\", \"Germany\", \"Hong Kong\", \"India\", \"Italy\", \"Japan\", \"Macau\", \"Malaysia\", \"Nepal\", \"Others\", \"Philippines\", \"Russia\", \"Singapore\", \"South Korea\", \"Spain\", \"Sri Lanka\", \"Sweden\", \"Taiwan\", \"Thailand\", \"UK\", \"US\", \"United Arab Emirates\", \"Vietnam\"], \"marker\": {\"color\": [5, 1, 1, 4, 54406, 1, 1, 11, 16, 56, 3, 3, 29, 10, 19, 1, 218, 3, 2, 67, 28, 2, 1, 1, 18, 33, 9, 2, 8, 16], \"coloraxis\": \"coloraxis\", \"size\": [1.6206565966927624, 1.0, 1.0, 1.515716566510398, 26.34474742122814, 1.0, 1.0, 2.053136413658844, 2.2973967099940698, 3.345464363856254, 1.3903891703159093, 1.3903891703159093, 2.7461192933624785, 1.9952623149688795, 2.4189454814875875, 1.0, 5.029640542511664, 1.3903891703159093, 1.2311444133449163, 3.5303880208226968, 2.717361446466631, 1.2311444133449163, 1.0, 1.0, 2.3800262745964407, 2.854658634732502, 1.9331820449317627, 1.2311444133449163, 1.8660659830736148, 2.2973967099940698], \"sizemode\": \"area\", \"sizeref\": 0.07034885314052819}, \"name\": \"\", \"showlegend\": false, \"type\": \"scattergeo\"}], \"name\": \"02/14/2020\"}, {\"data\": [{\"geo\": \"geo\", \"hoverlabel\": {\"namelength\": 0}, \"hovertemplate\": \"<b>%{hovertext}</b><br><br>ObservationDate=02/15/2020<br>size=%{marker.size}<br>Country/Region=%{location}<br>Confirmed=%{marker.color}\", \"hovertext\": [\"Australia\", \"Belgium\", \"Cambodia\", \"Canada\", \"China\", \"Egypt\", \"Finland\", \"France\", \"Germany\", \"Hong Kong\", \"India\", \"Italy\", \"Japan\", \"Macau\", \"Malaysia\", \"Nepal\", \"Others\", \"Philippines\", \"Russia\", \"Singapore\", \"South Korea\", \"Spain\", \"Sri Lanka\", \"Sweden\", \"Taiwan\", \"Thailand\", \"UK\", \"US\", \"United Arab Emirates\", \"Vietnam\"], \"legendgroup\": \"\", \"locationmode\": \"country names\", \"locations\": [\"Australia\", \"Belgium\", \"Cambodia\", \"Canada\", \"China\", \"Egypt\", \"Finland\", \"France\", \"Germany\", \"Hong Kong\", \"India\", \"Italy\", \"Japan\", \"Macau\", \"Malaysia\", \"Nepal\", \"Others\", \"Philippines\", \"Russia\", \"Singapore\", \"South Korea\", \"Spain\", \"Sri Lanka\", \"Sweden\", \"Taiwan\", \"Thailand\", \"UK\", \"US\", \"United Arab Emirates\", \"Vietnam\"], \"marker\": {\"color\": [5, 1, 1, 4, 56249, 1, 1, 12, 16, 56, 3, 3, 43, 10, 22, 1, 285, 3, 2, 72, 28, 2, 1, 1, 18, 33, 9, 2, 8, 16], \"coloraxis\": \"coloraxis\", \"size\": [1.6206565966927624, 1.0, 1.0, 1.515716566510398, 26.60936077293537, 1.0, 1.0, 2.107435899344471, 2.2973967099940698, 3.345464363856254, 1.3903891703159093, 1.3903891703159093, 3.0905838914967028, 1.9952623149688795, 2.5277074255111027, 1.0, 5.450714789329305, 1.3903891703159093, 1.2311444133449163, 3.6074452531358507, 2.717361446466631, 1.2311444133449163, 1.0, 1.0, 2.3800262745964407, 2.854658634732502, 1.9331820449317627, 1.2311444133449163, 1.8660659830736148, 2.2973967099940698], \"sizemode\": \"area\", \"sizeref\": 0.07034885314052819}, \"name\": \"\", \"showlegend\": false, \"type\": \"scattergeo\"}], \"name\": \"02/15/2020\"}, {\"data\": [{\"geo\": \"geo\", \"hoverlabel\": {\"namelength\": 0}, \"hovertemplate\": \"<b>%{hovertext}</b><br><br>ObservationDate=02/16/2020<br>size=%{marker.size}<br>Country/Region=%{location}<br>Confirmed=%{marker.color}\", \"hovertext\": [\"Australia\", \"Belgium\", \"Cambodia\", \"Canada\", \"China\", \"Egypt\", \"Finland\", \"France\", \"Germany\", \"Hong Kong\", \"India\", \"Italy\", \"Japan\", \"Macau\", \"Malaysia\", \"Nepal\", \"Others\", \"Philippines\", \"Russia\", \"Singapore\", \"South Korea\", \"Spain\", \"Sri Lanka\", \"Sweden\", \"Taiwan\", \"Thailand\", \"UK\", \"US\", \"United Arab Emirates\", \"Vietnam\"], \"legendgroup\": \"\", \"locationmode\": \"country names\", \"locations\": [\"Australia\", \"Belgium\", \"Cambodia\", \"Canada\", \"China\", \"Egypt\", \"Finland\", \"France\", \"Germany\", \"Hong Kong\", \"India\", \"Italy\", \"Japan\", \"Macau\", \"Malaysia\", \"Nepal\", \"Others\", \"Philippines\", \"Russia\", \"Singapore\", \"South Korea\", \"Spain\", \"Sri Lanka\", \"Sweden\", \"Taiwan\", \"Thailand\", \"UK\", \"US\", \"United Arab Emirates\", \"Vietnam\"], \"marker\": {\"color\": [5, 1, 1, 4, 58182, 1, 1, 12, 16, 57, 3, 3, 59, 10, 22, 1, 355, 3, 2, 75, 29, 2, 1, 1, 20, 34, 9, 2, 9, 16], \"coloraxis\": \"coloraxis\", \"size\": [1.6206565966927624, 1.0, 1.0, 1.515716566510398, 26.88045364696587, 1.0, 1.0, 2.107435899344471, 2.2973967099940698, 3.3632756010449447, 1.3903891703159093, 1.3903891703159093, 3.3982521746716885, 1.9952623149688795, 2.5277074255111027, 1.0, 5.821950463835482, 1.3903891703159093, 1.2311444133449163, 3.651895814776621, 2.7461192933624785, 1.2311444133449163, 1.0, 1.0, 2.4564560522315806, 2.8803394661274377, 1.9331820449317627, 1.2311444133449163, 1.9331820449317627, 2.2973967099940698], \"sizemode\": \"area\", \"sizeref\": 0.07034885314052819}, \"name\": \"\", \"showlegend\": false, \"type\": \"scattergeo\"}], \"name\": \"02/16/2020\"}, {\"data\": [{\"geo\": \"geo\", \"hoverlabel\": {\"namelength\": 0}, \"hovertemplate\": \"<b>%{hovertext}</b><br><br>ObservationDate=02/17/2020<br>size=%{marker.size}<br>Country/Region=%{location}<br>Confirmed=%{marker.color}\", \"hovertext\": [\"Australia\", \"Belgium\", \"Cambodia\", \"Canada\", \"China\", \"Egypt\", \"Finland\", \"France\", \"Germany\", \"Hong Kong\", \"India\", \"Italy\", \"Japan\", \"Macau\", \"Malaysia\", \"Nepal\", \"Others\", \"Philippines\", \"Russia\", \"Singapore\", \"South Korea\", \"Spain\", \"Sri Lanka\", \"Sweden\", \"Taiwan\", \"Thailand\", \"UK\", \"US\", \"United Arab Emirates\", \"Vietnam\"], \"legendgroup\": \"\", \"locationmode\": \"country names\", \"locations\": [\"Australia\", \"Belgium\", \"Cambodia\", \"Canada\", \"China\", \"Egypt\", \"Finland\", \"France\", \"Germany\", \"Hong Kong\", \"India\", \"Italy\", \"Japan\", \"Macau\", \"Malaysia\", \"Nepal\", \"Others\", \"Philippines\", \"Russia\", \"Singapore\", \"South Korea\", \"Spain\", \"Sri Lanka\", \"Sweden\", \"Taiwan\", \"Thailand\", \"UK\", \"US\", \"United Arab Emirates\", \"Vietnam\"], \"marker\": {\"color\": [5, 1, 1, 5, 59989, 1, 1, 12, 16, 60, 3, 3, 66, 10, 22, 1, 454, 3, 2, 77, 30, 2, 1, 1, 22, 35, 9, 2, 9, 16], \"coloraxis\": \"coloraxis\", \"size\": [1.6206565966927624, 1.0, 1.0, 1.6206565966927624, 27.128231741811838, 1.0, 1.0, 2.107435899344471, 2.2973967099940698, 3.4154298923797617, 1.3903891703159093, 1.3903891703159093, 3.5144970301577456, 1.9952623149688795, 2.5277074255111027, 1.0, 6.267823463756063, 1.3903891703159093, 1.2311444133449163, 3.6808423540939335, 2.774191114672181, 1.2311444133449163, 1.0, 1.0, 2.5277074255111027, 2.9054968792442244, 1.9331820449317627, 1.2311444133449163, 1.9331820449317627, 2.2973967099940698], \"sizemode\": \"area\", \"sizeref\": 0.07034885314052819}, \"name\": \"\", \"showlegend\": false, \"type\": \"scattergeo\"}], \"name\": \"02/17/2020\"}, {\"data\": [{\"geo\": \"geo\", \"hoverlabel\": {\"namelength\": 0}, \"hovertemplate\": \"<b>%{hovertext}</b><br><br>ObservationDate=02/18/2020<br>size=%{marker.size}<br>Country/Region=%{location}<br>Confirmed=%{marker.color}\", \"hovertext\": [\"Australia\", \"Belgium\", \"Cambodia\", \"Canada\", \"China\", \"Egypt\", \"Finland\", \"France\", \"Germany\", \"Hong Kong\", \"India\", \"Italy\", \"Japan\", \"Macau\", \"Malaysia\", \"Nepal\", \"Others\", \"Philippines\", \"Russia\", \"Singapore\", \"South Korea\", \"Spain\", \"Sri Lanka\", \"Sweden\", \"Taiwan\", \"Thailand\", \"UK\", \"US\", \"United Arab Emirates\", \"Vietnam\"], \"legendgroup\": \"\", \"locationmode\": \"country names\", \"locations\": [\"Australia\", \"Belgium\", \"Cambodia\", \"Canada\", \"China\", \"Egypt\", \"Finland\", \"France\", \"Germany\", \"Hong Kong\", \"India\", \"Italy\", \"Japan\", \"Macau\", \"Malaysia\", \"Nepal\", \"Others\", \"Philippines\", \"Russia\", \"Singapore\", \"South Korea\", \"Spain\", \"Sri Lanka\", \"Sweden\", \"Taiwan\", \"Thailand\", \"UK\", \"US\", \"United Arab Emirates\", \"Vietnam\"], \"marker\": {\"color\": [5, 1, 1, 5, 61682, 1, 1, 12, 16, 62, 3, 3, 74, 10, 22, 1, 542, 3, 2, 81, 31, 2, 1, 1, 22, 35, 9, 2, 9, 16], \"coloraxis\": \"coloraxis\", \"size\": [1.6206565966927624, 1.0, 1.0, 1.6206565966927624, 27.355681214293856, 1.0, 1.0, 2.107435899344471, 2.2973967099940698, 3.449193085800954, 1.3903891703159093, 1.3903891703159093, 3.6372195430613803, 1.9952623149688795, 2.5277074255111027, 1.0, 6.609974528865531, 1.3903891703159093, 1.2311444133449163, 3.7371928188465517, 2.8016153494371836, 1.2311444133449163, 1.0, 1.0, 2.5277074255111027, 2.9054968792442244, 1.9331820449317627, 1.2311444133449163, 1.9331820449317627, 2.2973967099940698], \"sizemode\": \"area\", \"sizeref\": 0.07034885314052819}, \"name\": \"\", \"showlegend\": false, \"type\": \"scattergeo\"}], \"name\": \"02/18/2020\"}, {\"data\": [{\"geo\": \"geo\", \"hoverlabel\": {\"namelength\": 0}, \"hovertemplate\": \"<b>%{hovertext}</b><br><br>ObservationDate=02/19/2020<br>size=%{marker.size}<br>Country/Region=%{location}<br>Confirmed=%{marker.color}\", \"hovertext\": [\"Australia\", \"Belgium\", \"Cambodia\", \"Canada\", \"China\", \"Egypt\", \"Finland\", \"France\", \"Germany\", \"Hong Kong\", \"India\", \"Iran\", \"Italy\", \"Japan\", \"Macau\", \"Malaysia\", \"Nepal\", \"Others\", \"Philippines\", \"Russia\", \"Singapore\", \"South Korea\", \"Spain\", \"Sri Lanka\", \"Sweden\", \"Taiwan\", \"Thailand\", \"UK\", \"US\", \"United Arab Emirates\", \"Vietnam\"], \"legendgroup\": \"\", \"locationmode\": \"country names\", \"locations\": [\"Australia\", \"Belgium\", \"Cambodia\", \"Canada\", \"China\", \"Egypt\", \"Finland\", \"France\", \"Germany\", \"Hong Kong\", \"India\", \"Iran\", \"Italy\", \"Japan\", \"Macau\", \"Malaysia\", \"Nepal\", \"Others\", \"Philippines\", \"Russia\", \"Singapore\", \"South Korea\", \"Spain\", \"Sri Lanka\", \"Sweden\", \"Taiwan\", \"Thailand\", \"UK\", \"US\", \"United Arab Emirates\", \"Vietnam\"], \"marker\": {\"color\": [5, 1, 1, 5, 62031, 1, 1, 12, 16, 63, 3, 2, 3, 84, 10, 22, 1, 621, 3, 2, 84, 31, 2, 1, 1, 23, 35, 9, 2, 9, 16], \"coloraxis\": \"coloraxis\", \"size\": [1.6206565966927624, 1.0, 1.0, 1.6206565966927624, 27.402023518865736, 1.0, 1.0, 2.107435899344471, 2.2973967099940698, 3.4657893658794796, 1.3903891703159093, 1.2311444133449163, 1.3903891703159093, 3.7781899270011783, 1.9952623149688795, 2.5277074255111027, 1.0, 6.885373124780216, 1.3903891703159093, 1.2311444133449163, 3.7781899270011783, 2.8016153494371836, 1.2311444133449163, 1.0, 1.0, 2.5616415021458128, 2.9054968792442244, 1.9331820449317627, 1.2311444133449163, 1.9331820449317627, 2.2973967099940698], \"sizemode\": \"area\", \"sizeref\": 0.07034885314052819}, \"name\": \"\", \"showlegend\": false, \"type\": \"scattergeo\"}], \"name\": \"02/19/2020\"}, {\"data\": [{\"geo\": \"geo\", \"hoverlabel\": {\"namelength\": 0}, \"hovertemplate\": \"<b>%{hovertext}</b><br><br>ObservationDate=02/20/2020<br>size=%{marker.size}<br>Country/Region=%{location}<br>Confirmed=%{marker.color}\", \"hovertext\": [\"Australia\", \"Belgium\", \"Cambodia\", \"Canada\", \"China\", \"Egypt\", \"Finland\", \"France\", \"Germany\", \"Hong Kong\", \"India\", \"Iran\", \"Italy\", \"Japan\", \"Macau\", \"Malaysia\", \"Nepal\", \"Others\", \"Philippines\", \"Russia\", \"Singapore\", \"South Korea\", \"Spain\", \"Sri Lanka\", \"Sweden\", \"Taiwan\", \"Thailand\", \"UK\", \"US\", \"United Arab Emirates\", \"Vietnam\"], \"legendgroup\": \"\", \"locationmode\": \"country names\", \"locations\": [\"Australia\", \"Belgium\", \"Cambodia\", \"Canada\", \"China\", \"Egypt\", \"Finland\", \"France\", \"Germany\", \"Hong Kong\", \"India\", \"Iran\", \"Italy\", \"Japan\", \"Macau\", \"Malaysia\", \"Nepal\", \"Others\", \"Philippines\", \"Russia\", \"Singapore\", \"South Korea\", \"Spain\", \"Sri Lanka\", \"Sweden\", \"Taiwan\", \"Thailand\", \"UK\", \"US\", \"United Arab Emirates\", \"Vietnam\"], \"marker\": {\"color\": [5, 1, 1, 5, 62442, 1, 1, 12, 16, 68, 3, 5, 3, 94, 10, 22, 1, 634, 3, 2, 84, 104, 2, 1, 1, 24, 35, 9, 2, 9, 16], \"coloraxis\": \"coloraxis\", \"size\": [1.6206565966927624, 1.0, 1.0, 1.6206565966927624, 27.456365116550014, 1.0, 1.0, 2.107435899344471, 2.2973967099940698, 3.5461138422596736, 1.3903891703159093, 1.6206565966927624, 1.3903891703159093, 3.9078542362742903, 1.9952623149688795, 2.5277074255111027, 1.0, 6.928301478971513, 1.3903891703159093, 1.2311444133449163, 3.7781899270011783, 4.028190508306193, 1.2311444133449163, 1.0, 1.0, 2.594557933960465, 2.9054968792442244, 1.9331820449317627, 1.2311444133449163, 1.9331820449317627, 2.2973967099940698], \"sizemode\": \"area\", \"sizeref\": 0.07034885314052819}, \"name\": \"\", \"showlegend\": false, \"type\": \"scattergeo\"}], \"name\": \"02/20/2020\"}, {\"data\": [{\"geo\": \"geo\", \"hoverlabel\": {\"namelength\": 0}, \"hovertemplate\": \"<b>%{hovertext}</b><br><br>ObservationDate=02/21/2020<br>size=%{marker.size}<br>Country/Region=%{location}<br>Confirmed=%{marker.color}\", \"hovertext\": [\"Australia\", \"Belgium\", \"Cambodia\", \"Canada\", \"China\", \"Egypt\", \"Finland\", \"France\", \"Germany\", \"Hong Kong\", \"India\", \"Iran\", \"Israel\", \"Italy\", \"Japan\", \"Lebanon\", \"Macau\", \"Malaysia\", \"Nepal\", \"Others\", \"Philippines\", \"Russia\", \"Singapore\", \"South Korea\", \"Spain\", \"Sri Lanka\", \"Sweden\", \"Taiwan\", \"Thailand\", \"UK\", \"US\", \"United Arab Emirates\", \"Vietnam\"], \"legendgroup\": \"\", \"locationmode\": \"country names\", \"locations\": [\"Australia\", \"Belgium\", \"Cambodia\", \"Canada\", \"China\", \"Egypt\", \"Finland\", \"France\", \"Germany\", \"Hong Kong\", \"India\", \"Iran\", \"Israel\", \"Italy\", \"Japan\", \"Lebanon\", \"Macau\", \"Malaysia\", \"Nepal\", \"Others\", \"Philippines\", \"Russia\", \"Singapore\", \"South Korea\", \"Spain\", \"Sri Lanka\", \"Sweden\", \"Taiwan\", \"Thailand\", \"UK\", \"US\", \"United Arab Emirates\", \"Vietnam\"], \"marker\": {\"color\": [5, 1, 1, 6, 62662, 1, 1, 12, 16, 68, 3, 18, 1, 20, 105, 1, 10, 22, 1, 634, 3, 2, 85, 204, 2, 1, 1, 26, 35, 9, 11, 9, 16], \"coloraxis\": \"coloraxis\", \"size\": [1.6206565966927624, 1.0, 1.0, 1.711769859409705, 27.485350253843325, 1.0, 1.0, 2.107435899344471, 2.2973967099940698, 3.5461138422596736, 1.3903891703159093, 2.3800262745964407, 1.0, 2.4564560522315806, 4.039771395287841, 1.0, 1.9952623149688795, 2.5277074255111027, 1.0, 6.928301478971513, 1.3903891703159093, 1.2311444133449163, 3.791627615651737, 4.930478282985189, 1.2311444133449163, 1.0, 1.0, 2.657614620905154, 2.9054968792442244, 1.9331820449317627, 2.053136413658844, 1.9331820449317627, 2.2973967099940698], \"sizemode\": \"area\", \"sizeref\": 0.07034885314052819}, \"name\": \"\", \"showlegend\": false, \"type\": \"scattergeo\"}], \"name\": \"02/21/2020\"}, {\"data\": [{\"geo\": \"geo\", \"hoverlabel\": {\"namelength\": 0}, \"hovertemplate\": \"<b>%{hovertext}</b><br><br>ObservationDate=02/22/2020<br>size=%{marker.size}<br>Country/Region=%{location}<br>Confirmed=%{marker.color}\", \"hovertext\": [\"Australia\", \"Belgium\", \"Cambodia\", \"Canada\", \"China\", \"Egypt\", \"Finland\", \"France\", \"Germany\", \"Hong Kong\", \"India\", \"Iran\", \"Israel\", \"Italy\", \"Japan\", \"Lebanon\", \"Macau\", \"Malaysia\", \"Nepal\", \"Others\", \"Philippines\", \"Russia\", \"Singapore\", \"South Korea\", \"Spain\", \"Sri Lanka\", \"Sweden\", \"Taiwan\", \"Thailand\", \"UK\", \"US\", \"United Arab Emirates\", \"Vietnam\"], \"legendgroup\": \"\", \"locationmode\": \"country names\", \"locations\": [\"Australia\", \"Belgium\", \"Cambodia\", \"Canada\", \"China\", \"Egypt\", \"Finland\", \"France\", \"Germany\", \"Hong Kong\", \"India\", \"Iran\", \"Israel\", \"Italy\", \"Japan\", \"Lebanon\", \"Macau\", \"Malaysia\", \"Nepal\", \"Others\", \"Philippines\", \"Russia\", \"Singapore\", \"South Korea\", \"Spain\", \"Sri Lanka\", \"Sweden\", \"Taiwan\", \"Thailand\", \"UK\", \"US\", \"United Arab Emirates\", \"Vietnam\"], \"marker\": {\"color\": [7, 1, 1, 6, 64084, 1, 1, 12, 16, 69, 3, 28, 1, 62, 122, 1, 10, 22, 1, 634, 3, 2, 85, 433, 2, 1, 1, 26, 35, 9, 11, 13, 16], \"coloraxis\": \"coloraxis\", \"size\": [1.792789962520997, 1.0, 1.0, 1.711769859409705, 27.671001858387733, 1.0, 1.0, 2.107435899344471, 2.2973967099940698, 3.561678602815316, 1.3903891703159093, 2.717361446466631, 1.0, 3.449193085800954, 4.2257903711989915, 1.0, 1.9952623149688795, 2.5277074255111027, 1.0, 6.928301478971513, 1.3903891703159093, 1.2311444133449163, 3.791627615651737, 6.179400859079236, 1.2311444133449163, 1.0, 1.0, 2.657614620905154, 2.9054968792442244, 1.9331820449317627, 2.053136413658844, 2.1586538444215795, 2.2973967099940698], \"sizemode\": \"area\", \"sizeref\": 0.07034885314052819}, \"name\": \"\", \"showlegend\": false, \"type\": \"scattergeo\"}], \"name\": \"02/22/2020\"}, {\"data\": [{\"geo\": \"geo\", \"hoverlabel\": {\"namelength\": 0}, \"hovertemplate\": \"<b>%{hovertext}</b><br><br>ObservationDate=02/23/2020<br>size=%{marker.size}<br>Country/Region=%{location}<br>Confirmed=%{marker.color}\", \"hovertext\": [\"Australia\", \"Belgium\", \"Cambodia\", \"Canada\", \"China\", \"Egypt\", \"Finland\", \"France\", \"Germany\", \"Hong Kong\", \"India\", \"Iran\", \"Iraq\", \"Israel\", \"Italy\", \"Japan\", \"Lebanon\", \"Macau\", \"Malaysia\", \"Nepal\", \"Others\", \"Philippines\", \"Russia\", \"Singapore\", \"South Korea\", \"Spain\", \"Sri Lanka\", \"Sweden\", \"Taiwan\", \"Thailand\", \"UK\", \"US\", \"United Arab Emirates\", \"Vietnam\"], \"legendgroup\": \"\", \"locationmode\": \"country names\", \"locations\": [\"Australia\", \"Belgium\", \"Cambodia\", \"Canada\", \"China\", \"Egypt\", \"Finland\", \"France\", \"Germany\", \"Hong Kong\", \"India\", \"Iran\", \"Iraq\", \"Israel\", \"Italy\", \"Japan\", \"Lebanon\", \"Macau\", \"Malaysia\", \"Nepal\", \"Others\", \"Philippines\", \"Russia\", \"Singapore\", \"South Korea\", \"Spain\", \"Sri Lanka\", \"Sweden\", \"Taiwan\", \"Thailand\", \"UK\", \"US\", \"United Arab Emirates\", \"Vietnam\"], \"marker\": {\"color\": [7, 1, 1, 6, 64084, 1, 1, 12, 16, 74, 3, 43, 0, 1, 155, 147, 1, 10, 22, 1, 691, 3, 2, 89, 602, 2, 1, 1, 28, 35, 9, 11, 13, 16], \"coloraxis\": \"coloraxis\", \"size\": [1.792789962520997, 1.0, 1.0, 1.711769859409705, 27.671001858387733, 1.0, 1.0, 2.107435899344471, 2.2973967099940698, 3.6372195430613803, 1.3903891703159093, 3.0905838914967028, 0.0, 1.0, 4.54045639746107, 4.46884406180249, 1.0, 1.9952623149688795, 2.5277074255111027, 1.0, 7.109571303495345, 1.3903891703159093, 1.2311444133449163, 3.8442976132762077, 6.821485296762751, 1.2311444133449163, 1.0, 1.0, 2.717361446466631, 2.9054968792442244, 1.9331820449317627, 2.053136413658844, 2.1586538444215795, 2.2973967099940698], \"sizemode\": \"area\", \"sizeref\": 0.07034885314052819}, \"name\": \"\", \"showlegend\": false, \"type\": \"scattergeo\"}], \"name\": \"02/23/2020\"}, {\"data\": [{\"geo\": \"geo\", \"hoverlabel\": {\"namelength\": 0}, \"hovertemplate\": \"<b>%{hovertext}</b><br><br>ObservationDate=02/24/2020<br>size=%{marker.size}<br>Country/Region=%{location}<br>Confirmed=%{marker.color}\", \"hovertext\": [\"Afghanistan\", \"Australia\", \"Bahrain\", \"Belgium\", \"Cambodia\", \"Canada\", \"China\", \"Egypt\", \"Finland\", \"France\", \"Germany\", \"Hong Kong\", \"India\", \"Iran\", \"Iraq\", \"Israel\", \"Italy\", \"Japan\", \"Kuwait\", \"Lebanon\", \"Macau\", \"Malaysia\", \"Nepal\", \"Oman\", \"Others\", \"Philippines\", \"Russia\", \"Singapore\", \"South Korea\", \"Spain\", \"Sri Lanka\", \"Sweden\", \"Taiwan\", \"Thailand\", \"UK\", \"US\", \"United Arab Emirates\", \"Vietnam\"], \"legendgroup\": \"\", \"locationmode\": \"country names\", \"locations\": [\"Afghanistan\", \"Australia\", \"Bahrain\", \"Belgium\", \"Cambodia\", \"Canada\", \"China\", \"Egypt\", \"Finland\", \"France\", \"Germany\", \"Hong Kong\", \"India\", \"Iran\", \"Iraq\", \"Israel\", \"Italy\", \"Japan\", \"Kuwait\", \"Lebanon\", \"Macau\", \"Malaysia\", \"Nepal\", \"Oman\", \"Others\", \"Philippines\", \"Russia\", \"Singapore\", \"South Korea\", \"Spain\", \"Sri Lanka\", \"Sweden\", \"Taiwan\", \"Thailand\", \"UK\", \"US\", \"United Arab Emirates\", \"Vietnam\"], \"marker\": {\"color\": [1, 7, 1, 1, 1, 6, 64287, 1, 1, 12, 16, 79, 3, 61, 1, 1, 229, 159, 1, 1, 10, 22, 1, 2, 691, 3, 2, 89, 833, 2, 1, 1, 30, 35, 13, 36, 13, 16], \"coloraxis\": \"coloraxis\", \"size\": [1.0, 1.792789962520997, 1.0, 1.0, 1.0, 1.711769859409705, 27.6972689299908, 1.0, 1.0, 2.107435899344471, 2.2973967099940698, 3.709267269905158, 1.3903891703159093, 3.432408355505487, 1.0, 1.0, 5.104469870468026, 4.575295380404088, 1.0, 1.0, 1.9952623149688795, 2.5277074255111027, 1.0, 1.2311444133449163, 7.109571303495345, 1.3903891703159093, 1.2311444133449163, 3.8442976132762077, 7.519578551066277, 1.2311444133449163, 1.0, 1.0, 2.774191114672181, 2.9054968792442244, 2.1586538444215795, 2.930156051583521, 2.1586538444215795, 2.2973967099940698], \"sizemode\": \"area\", \"sizeref\": 0.07034885314052819}, \"name\": \"\", \"showlegend\": false, \"type\": \"scattergeo\"}], \"name\": \"02/24/2020\"}, {\"data\": [{\"geo\": \"geo\", \"hoverlabel\": {\"namelength\": 0}, \"hovertemplate\": \"<b>%{hovertext}</b><br><br>ObservationDate=02/25/2020<br>size=%{marker.size}<br>Country/Region=%{location}<br>Confirmed=%{marker.color}\", \"hovertext\": [\"Afghanistan\", \"Algeria\", \"Australia\", \"Austria\", \"Bahrain\", \"Belgium\", \"Cambodia\", \"Canada\", \"China\", \"Croatia\", \"Egypt\", \"Finland\", \"France\", \"Germany\", \"Hong Kong\", \"India\", \"Iran\", \"Iraq\", \"Israel\", \"Italy\", \"Japan\", \"Kuwait\", \"Lebanon\", \"Macau\", \"Malaysia\", \"Nepal\", \"Oman\", \"Others\", \"Philippines\", \"Russia\", \"Singapore\", \"South Korea\", \"Spain\", \"Sri Lanka\", \"Sweden\", \"Switzerland\", \"Taiwan\", \"Thailand\", \"UK\", \"US\", \"United Arab Emirates\", \"Vietnam\"], \"legendgroup\": \"\", \"locationmode\": \"country names\", \"locations\": [\"Afghanistan\", \"Algeria\", \"Australia\", \"Austria\", \"Bahrain\", \"Belgium\", \"Cambodia\", \"Canada\", \"China\", \"Croatia\", \"Egypt\", \"Finland\", \"France\", \"Germany\", \"Hong Kong\", \"India\", \"Iran\", \"Iraq\", \"Israel\", \"Italy\", \"Japan\", \"Kuwait\", \"Lebanon\", \"Macau\", \"Malaysia\", \"Nepal\", \"Oman\", \"Others\", \"Philippines\", \"Russia\", \"Singapore\", \"South Korea\", \"Spain\", \"Sri Lanka\", \"Sweden\", \"Switzerland\", \"Taiwan\", \"Thailand\", \"UK\", \"US\", \"United Arab Emirates\", \"Vietnam\"], \"marker\": {\"color\": [1, 1, 7, 2, 23, 1, 1, 7, 64786, 1, 1, 1, 14, 17, 84, 3, 95, 1, 1, 322, 170, 11, 1, 10, 22, 1, 2, 691, 3, 2, 91, 977, 6, 1, 1, 1, 31, 37, 13, 36, 13, 16], \"coloraxis\": \"coloraxis\", \"size\": [1.0, 1.0, 1.792789962520997, 1.2311444133449163, 2.5616415021458128, 1.0, 1.0, 1.792789962520997, 27.761590894735704, 1.0, 1.0, 1.0, 2.2071833466585673, 2.3395626336814512, 3.7781899270011783, 1.3903891703159093, 3.920279951613009, 1.0, 1.0, 5.654012463645675, 4.668041156493941, 2.053136413658844, 1.0, 1.9952623149688795, 2.5277074255111027, 1.0, 1.2311444133449163, 7.109571303495345, 1.3903891703159093, 1.2311444133449163, 3.8700129448363705, 7.888026648174017, 1.711769859409705, 1.0, 1.0, 1.0, 2.8016153494371836, 2.954340289925338, 2.1586538444215795, 2.930156051583521, 2.1586538444215795, 2.2973967099940698], \"sizemode\": \"area\", \"sizeref\": 0.07034885314052819}, \"name\": \"\", \"showlegend\": false, \"type\": \"scattergeo\"}], \"name\": \"02/25/2020\"}, {\"data\": [{\"geo\": \"geo\", \"hoverlabel\": {\"namelength\": 0}, \"hovertemplate\": \"<b>%{hovertext}</b><br><br>ObservationDate=02/26/2020<br>size=%{marker.size}<br>Country/Region=%{location}<br>Confirmed=%{marker.color}\", \"hovertext\": [\"Afghanistan\", \"Algeria\", \"Australia\", \"Austria\", \"Bahrain\", \"Belgium\", \"Brazil\", \"Cambodia\", \"Canada\", \"China\", \"Croatia\", \"Egypt\", \"Finland\", \"France\", \"Georgia\", \"Germany\", \"Greece\", \"Hong Kong\", \"India\", \"Iran\", \"Iraq\", \"Israel\", \"Italy\", \"Japan\", \"Kuwait\", \"Lebanon\", \"Macau\", \"Malaysia\", \"Nepal\", \"North Macedonia\", \"Norway\", \"Oman\", \"Others\", \"Pakistan\", \"Philippines\", \"Romania\", \"Russia\", \"Singapore\", \"South Korea\", \"Spain\", \"Sri Lanka\", \"Sweden\", \"Switzerland\", \"Taiwan\", \"Thailand\", \"UK\", \"US\", \"United Arab Emirates\", \"Vietnam\"], \"legendgroup\": \"\", \"locationmode\": \"country names\", \"locations\": [\"Afghanistan\", \"Algeria\", \"Australia\", \"Austria\", \"Bahrain\", \"Belgium\", \"Brazil\", \"Cambodia\", \"Canada\", \"China\", \"Croatia\", \"Egypt\", \"Finland\", \"France\", \"Georgia\", \"Germany\", \"Greece\", \"Hong Kong\", \"India\", \"Iran\", \"Iraq\", \"Israel\", \"Italy\", \"Japan\", \"Kuwait\", \"Lebanon\", \"Macau\", \"Malaysia\", \"Nepal\", \"North Macedonia\", \"Norway\", \"Oman\", \"Others\", \"Pakistan\", \"Philippines\", \"Romania\", \"Russia\", \"Singapore\", \"South Korea\", \"Spain\", \"Sri Lanka\", \"Sweden\", \"Switzerland\", \"Taiwan\", \"Thailand\", \"UK\", \"US\", \"United Arab Emirates\", \"Vietnam\"], \"marker\": {\"color\": [1, 1, 7, 2, 33, 1, 1, 1, 7, 65187, 3, 1, 2, 18, 1, 27, 1, 91, 3, 139, 5, 2, 453, 189, 26, 2, 10, 22, 1, 1, 1, 4, 705, 2, 3, 1, 2, 93, 1261, 13, 1, 2, 1, 32, 40, 13, 42, 13, 16], \"coloraxis\": \"coloraxis\", \"size\": [1.0, 1.0, 1.792789962520997, 1.2311444133449163, 2.854658634732502, 1.0, 1.0, 1.0, 1.792789962520997, 27.81302962549188, 1.3903891703159093, 1.0, 1.2311444133449163, 2.3800262745964407, 1.0, 2.6878753795222865, 1.0, 3.8700129448363705, 1.3903891703159093, 4.39444911601279, 1.6206565966927624, 1.2311444133449163, 6.263678533232016, 4.818796000914871, 2.657614620905154, 1.2311444133449163, 1.9952623149688795, 2.5277074255111027, 1.0, 1.0, 1.0, 1.515716566510398, 7.152481367057622, 1.2311444133449163, 1.3903891703159093, 1.0, 1.2311444133449163, 3.8953356412482822, 8.515585738681406, 2.1586538444215795, 1.0, 1.2311444133449163, 1.0, 2.82842712474619, 3.0242521453322184, 2.1586538444215795, 3.068843822095698, 2.1586538444215795, 2.2973967099940698], \"sizemode\": \"area\", \"sizeref\": 0.07034885314052819}, \"name\": \"\", \"showlegend\": false, \"type\": \"scattergeo\"}], \"name\": \"02/26/2020\"}, {\"data\": [{\"geo\": \"geo\", \"hoverlabel\": {\"namelength\": 0}, \"hovertemplate\": \"<b>%{hovertext}</b><br><br>ObservationDate=02/27/2020<br>size=%{marker.size}<br>Country/Region=%{location}<br>Confirmed=%{marker.color}\", \"hovertext\": [\"Afghanistan\", \"Algeria\", \"Australia\", \"Austria\", \"Bahrain\", \"Belgium\", \"Brazil\", \"Cambodia\", \"Canada\", \"China\", \"Croatia\", \"Denmark\", \"Egypt\", \"Estonia\", \"Finland\", \"France\", \"Georgia\", \"Germany\", \"Greece\", \"Hong Kong\", \"India\", \"Iran\", \"Iraq\", \"Israel\", \"Italy\", \"Japan\", \"Kuwait\", \"Lebanon\", \"Macau\", \"Malaysia\", \"Nepal\", \"Netherlands\", \"North Macedonia\", \"Norway\", \"Oman\", \"Others\", \"Pakistan\", \"Philippines\", \"Romania\", \"Russia\", \"San Marino\", \"Singapore\", \"South Korea\", \"Spain\", \"Sri Lanka\", \"Sweden\", \"Switzerland\", \"Taiwan\", \"Thailand\", \"UK\", \"US\", \"United Arab Emirates\", \"Vietnam\"], \"legendgroup\": \"\", \"locationmode\": \"country names\", \"locations\": [\"Afghanistan\", \"Algeria\", \"Australia\", \"Austria\", \"Bahrain\", \"Belgium\", \"Brazil\", \"Cambodia\", \"Canada\", \"China\", \"Croatia\", \"Denmark\", \"Egypt\", \"Estonia\", \"Finland\", \"France\", \"Georgia\", \"Germany\", \"Greece\", \"Hong Kong\", \"India\", \"Iran\", \"Iraq\", \"Israel\", \"Italy\", \"Japan\", \"Kuwait\", \"Lebanon\", \"Macau\", \"Malaysia\", \"Nepal\", \"Netherlands\", \"North Macedonia\", \"Norway\", \"Oman\", \"Others\", \"Pakistan\", \"Philippines\", \"Romania\", \"Russia\", \"San Marino\", \"Singapore\", \"South Korea\", \"Spain\", \"Sri Lanka\", \"Sweden\", \"Switzerland\", \"Taiwan\", \"Thailand\", \"UK\", \"US\", \"United Arab Emirates\", \"Vietnam\"], \"marker\": {\"color\": [1, 1, 8, 3, 33, 1, 1, 1, 7, 65596, 3, 1, 1, 1, 2, 38, 1, 46, 3, 92, 3, 245, 7, 3, 655, 214, 43, 2, 10, 23, 1, 1, 1, 1, 4, 705, 2, 3, 1, 2, 1, 93, 1766, 15, 1, 7, 8, 32, 40, 15, 42, 13, 16], \"coloraxis\": \"coloraxis\", \"size\": [1.0, 1.0, 1.8660659830736148, 1.3903891703159093, 2.854658634732502, 1.0, 1.0, 1.0, 1.792789962520997, 27.86526689830887, 1.3903891703159093, 1.0, 1.0, 1.0, 1.2311444133449163, 2.978071215719372, 1.0, 3.1537506243592963, 1.3903891703159093, 3.8827224622629894, 1.3903891703159093, 5.208945641245127, 1.792789962520997, 1.3903891703159093, 6.996363896149083, 5.001774775270484, 3.0905838914967028, 1.2311444133449163, 1.9952623149688795, 2.5616415021458128, 1.0, 1.0, 1.0, 1.0, 1.515716566510398, 7.152481367057622, 1.2311444133449163, 1.3903891703159093, 1.0, 1.2311444133449163, 1.0, 3.8953356412482822, 9.421004468217818, 2.2533433808426553, 1.0, 1.792789962520997, 1.8660659830736148, 2.82842712474619, 3.0242521453322184, 2.2533433808426553, 3.068843822095698, 2.1586538444215795, 2.2973967099940698], \"sizemode\": \"area\", \"sizeref\": 0.07034885314052819}, \"name\": \"\", \"showlegend\": false, \"type\": \"scattergeo\"}], \"name\": \"02/27/2020\"}, {\"data\": [{\"geo\": \"geo\", \"hoverlabel\": {\"namelength\": 0}, \"hovertemplate\": \"<b>%{hovertext}</b><br><br>ObservationDate=02/28/2020<br>size=%{marker.size}<br>Country/Region=%{location}<br>Confirmed=%{marker.color}\", \"hovertext\": [\" Azerbaijan\", \"Afghanistan\", \"Algeria\", \"Australia\", \"Austria\", \"Bahrain\", \"Belarus\", \"Belgium\", \"Brazil\", \"Cambodia\", \"Canada\", \"China\", \"Croatia\", \"Denmark\", \"Egypt\", \"Estonia\", \"Finland\", \"France\", \"Georgia\", \"Germany\", \"Greece\", \"Hong Kong\", \"Iceland\", \"India\", \"Iran\", \"Iraq\", \"Israel\", \"Italy\", \"Japan\", \"Kuwait\", \"Lebanon\", \"Lithuania\", \"Macau\", \"Malaysia\", \"Mexico\", \"Nepal\", \"Netherlands\", \"New Zealand\", \"Nigeria\", \"North Ireland\", \"North Macedonia\", \"Norway\", \"Oman\", \"Others\", \"Pakistan\", \"Philippines\", \"Romania\", \"Russia\", \"San Marino\", \"Singapore\", \"South Korea\", \"Spain\", \"Sri Lanka\", \"Sweden\", \"Switzerland\", \"Taiwan\", \"Thailand\", \"UK\", \"US\", \"United Arab Emirates\", \"Vietnam\"], \"legendgroup\": \"\", \"locationmode\": \"country names\", \"locations\": [\" Azerbaijan\", \"Afghanistan\", \"Algeria\", \"Australia\", \"Austria\", \"Bahrain\", \"Belarus\", \"Belgium\", \"Brazil\", \"Cambodia\", \"Canada\", \"China\", \"Croatia\", \"Denmark\", \"Egypt\", \"Estonia\", \"Finland\", \"France\", \"Georgia\", \"Germany\", \"Greece\", \"Hong Kong\", \"Iceland\", \"India\", \"Iran\", \"Iraq\", \"Israel\", \"Italy\", \"Japan\", \"Kuwait\", \"Lebanon\", \"Lithuania\", \"Macau\", \"Malaysia\", \"Mexico\", \"Nepal\", \"Netherlands\", \"New Zealand\", \"Nigeria\", \"North Ireland\", \"North Macedonia\", \"Norway\", \"Oman\", \"Others\", \"Pakistan\", \"Philippines\", \"Romania\", \"Russia\", \"San Marino\", \"Singapore\", \"South Korea\", \"Spain\", \"Sri Lanka\", \"Sweden\", \"Switzerland\", \"Taiwan\", \"Thailand\", \"UK\", \"US\", \"United Arab Emirates\", \"Vietnam\"], \"marker\": {\"color\": [1, 1, 1, 8, 3, 36, 1, 1, 1, 1, 7, 65914, 5, 1, 1, 1, 2, 57, 1, 48, 4, 94, 1, 3, 388, 7, 4, 888, 228, 45, 2, 1, 10, 23, 1, 1, 1, 1, 1, 1, 1, 6, 4, 705, 2, 3, 3, 2, 1, 93, 2337, 32, 1, 7, 8, 34, 41, 20, 44, 19, 16], \"coloraxis\": \"coloraxis\", \"size\": [1.0, 1.0, 1.0, 1.8660659830736148, 1.3903891703159093, 2.930156051583521, 1.0, 1.0, 1.0, 1.0, 1.792789962520997, 27.905724369250343, 1.6206565966927624, 1.0, 1.0, 1.0, 1.2311444133449163, 3.3632756010449447, 1.0, 3.194275505495155, 1.515716566510398, 3.9078542362742903, 1.0, 1.3903891703159093, 5.9792886251837345, 1.792789962520997, 1.515716566510398, 7.665207038844847, 5.097772546244038, 3.1330242337266654, 1.2311444133449163, 1.0, 1.9952623149688795, 2.5616415021458128, 1.0, 1.0, 1.0, 1.0, 1.0, 1.0, 1.0, 1.711769859409705, 1.515716566510398, 7.152481367057622, 1.2311444133449163, 1.3903891703159093, 1.3903891703159093, 1.2311444133449163, 1.0, 3.8953356412482822, 10.247020704536068, 2.82842712474619, 1.0, 1.792789962520997, 1.8660659830736148, 2.8803394661274377, 3.046738334899583, 2.4564560522315806, 3.1119728754884552, 2.4189454814875875, 2.2973967099940698], \"sizemode\": \"area\", \"sizeref\": 0.07034885314052819}, \"name\": \"\", \"showlegend\": false, \"type\": \"scattergeo\"}], \"name\": \"02/28/2020\"}, {\"data\": [{\"geo\": \"geo\", \"hoverlabel\": {\"namelength\": 0}, \"hovertemplate\": \"<b>%{hovertext}</b><br><br>ObservationDate=02/29/2020<br>size=%{marker.size}<br>Country/Region=%{location}<br>Confirmed=%{marker.color}\", \"hovertext\": [\"Afghanistan\", \"Algeria\", \"Australia\", \"Austria\", \"Bahrain\", \"Belarus\", \"Belgium\", \"Brazil\", \"Cambodia\", \"Canada\", \"China\", \"Croatia\", \"Denmark\", \"Egypt\", \"Estonia\", \"Finland\", \"France\", \"Georgia\", \"Germany\", \"Greece\", \"Hong Kong\", \"Iceland\", \"India\", \"Iran\", \"Iraq\", \"Ireland\", \"Israel\", \"Italy\", \"Japan\", \"Kuwait\", \"Lebanon\", \"Lithuania\", \"Luxembourg\", \"Macau\", \"Malaysia\", \"Mexico\", \"Monaco\", \"Nepal\", \"Netherlands\", \"New Zealand\", \"Nigeria\", \"North Macedonia\", \"Norway\", \"Oman\", \"Others\", \"Pakistan\", \"Philippines\", \"Qatar\", \"Romania\", \"Russia\", \"San Marino\", \"Singapore\", \"South Korea\", \"Spain\", \"Sri Lanka\", \"Sweden\", \"Switzerland\", \"Taiwan\", \"Thailand\", \"UK\", \"US\", \"United Arab Emirates\", \"Vietnam\"], \"legendgroup\": \"\", \"locationmode\": \"country names\", \"locations\": [\"Afghanistan\", \"Algeria\", \"Australia\", \"Austria\", \"Bahrain\", \"Belarus\", \"Belgium\", \"Brazil\", \"Cambodia\", \"Canada\", \"China\", \"Croatia\", \"Denmark\", \"Egypt\", \"Estonia\", \"Finland\", \"France\", \"Georgia\", \"Germany\", \"Greece\", \"Hong Kong\", \"Iceland\", \"India\", \"Iran\", \"Iraq\", \"Ireland\", \"Israel\", \"Italy\", \"Japan\", \"Kuwait\", \"Lebanon\", \"Lithuania\", \"Luxembourg\", \"Macau\", \"Malaysia\", \"Mexico\", \"Monaco\", \"Nepal\", \"Netherlands\", \"New Zealand\", \"Nigeria\", \"North Macedonia\", \"Norway\", \"Oman\", \"Others\", \"Pakistan\", \"Philippines\", \"Qatar\", \"Romania\", \"Russia\", \"San Marino\", \"Singapore\", \"South Korea\", \"Spain\", \"Sri Lanka\", \"Sweden\", \"Switzerland\", \"Taiwan\", \"Thailand\", \"UK\", \"US\", \"United Arab Emirates\", \"Vietnam\"], \"marker\": {\"color\": [1, 1, 9, 9, 41, 1, 1, 2, 1, 10, 66337, 6, 3, 1, 1, 3, 100, 1, 79, 4, 95, 1, 3, 593, 13, 1, 7, 1128, 241, 45, 4, 1, 1, 10, 25, 4, 1, 1, 6, 1, 1, 1, 15, 6, 705, 4, 3, 1, 3, 2, 1, 102, 3150, 45, 1, 12, 18, 39, 42, 23, 44, 21, 16], \"coloraxis\": \"coloraxis\", \"size\": [1.0, 1.0, 1.9331820449317627, 1.9331820449317627, 3.046738334899583, 1.0, 1.0, 1.2311444133449163, 1.0, 1.9952623149688795, 27.959329236523885, 1.711769859409705, 1.3903891703159093, 1.0, 1.0, 1.3903891703159093, 3.9810717055349722, 1.0, 3.709267269905158, 1.515716566510398, 3.920279951613009, 1.0, 1.3903891703159093, 6.790729136639923, 2.1586538444215795, 1.0, 1.792789962520997, 8.23555230692981, 5.1832852845228645, 3.1330242337266654, 1.515716566510398, 1.0, 1.0, 1.9952623149688795, 2.626527804403767, 1.515716566510398, 1.0, 1.0, 1.711769859409705, 1.0, 1.0, 1.0, 2.2533433808426553, 1.711769859409705, 7.152481367057622, 1.515716566510398, 1.3903891703159093, 1.0, 1.3903891703159093, 1.2311444133449163, 1.0, 4.004792800537097, 11.207097910114367, 3.1330242337266654, 1.0, 2.107435899344471, 2.3800262745964407, 3.001368927744568, 3.068843822095698, 2.5616415021458128, 3.1119728754884552, 2.4926757485402593, 2.2973967099940698], \"sizemode\": \"area\", \"sizeref\": 0.07034885314052819}, \"name\": \"\", \"showlegend\": false, \"type\": \"scattergeo\"}], \"name\": \"02/29/2020\"}, {\"data\": [{\"geo\": \"geo\", \"hoverlabel\": {\"namelength\": 0}, \"hovertemplate\": \"<b>%{hovertext}</b><br><br>ObservationDate=03/01/2020<br>size=%{marker.size}<br>Country/Region=%{location}<br>Confirmed=%{marker.color}\", \"hovertext\": [\"Afghanistan\", \"Algeria\", \"Armenia\", \"Australia\", \"Austria\", \"Azerbaijan\", \"Bahrain\", \"Belarus\", \"Belgium\", \"Brazil\", \"Cambodia\", \"Canada\", \"China\", \"Croatia\", \"Czech Republic\", \"Denmark\", \"Dominican Republic\", \"Ecuador\", \"Egypt\", \"Estonia\", \"Finland\", \"France\", \"Georgia\", \"Germany\", \"Greece\", \"Hong Kong\", \"Iceland\", \"India\", \"Iran\", \"Iraq\", \"Ireland\", \"Israel\", \"Italy\", \"Japan\", \"Kuwait\", \"Lebanon\", \"Lithuania\", \"Luxembourg\", \"Macau\", \"Malaysia\", \"Mexico\", \"Monaco\", \"Nepal\", \"Netherlands\", \"New Zealand\", \"Nigeria\", \"North Macedonia\", \"Norway\", \"Oman\", \"Others\", \"Pakistan\", \"Philippines\", \"Qatar\", \"Romania\", \"Russia\", \"San Marino\", \"Singapore\", \"South Korea\", \"Spain\", \"Sri Lanka\", \"Sweden\", \"Switzerland\", \"Taiwan\", \"Thailand\", \"UK\", \"US\", \"United Arab Emirates\", \"Vietnam\"], \"legendgroup\": \"\", \"locationmode\": \"country names\", \"locations\": [\"Afghanistan\", \"Algeria\", \"Armenia\", \"Australia\", \"Austria\", \"Azerbaijan\", \"Bahrain\", \"Belarus\", \"Belgium\", \"Brazil\", \"Cambodia\", \"Canada\", \"China\", \"Croatia\", \"Czech Republic\", \"Denmark\", \"Dominican Republic\", \"Ecuador\", \"Egypt\", \"Estonia\", \"Finland\", \"France\", \"Georgia\", \"Germany\", \"Greece\", \"Hong Kong\", \"Iceland\", \"India\", \"Iran\", \"Iraq\", \"Ireland\", \"Israel\", \"Italy\", \"Japan\", \"Kuwait\", \"Lebanon\", \"Lithuania\", \"Luxembourg\", \"Macau\", \"Malaysia\", \"Mexico\", \"Monaco\", \"Nepal\", \"Netherlands\", \"New Zealand\", \"Nigeria\", \"North Macedonia\", \"Norway\", \"Oman\", \"Others\", \"Pakistan\", \"Philippines\", \"Qatar\", \"Romania\", \"Russia\", \"San Marino\", \"Singapore\", \"South Korea\", \"Spain\", \"Sri Lanka\", \"Sweden\", \"Switzerland\", \"Taiwan\", \"Thailand\", \"UK\", \"US\", \"United Arab Emirates\", \"Vietnam\"], \"marker\": {\"color\": [1, 1, 1, 9, 14, 3, 47, 1, 2, 2, 1, 14, 66907, 7, 3, 4, 1, 6, 2, 1, 6, 130, 3, 130, 7, 96, 3, 3, 978, 19, 1, 10, 1694, 256, 45, 10, 1, 1, 10, 29, 5, 1, 1, 10, 1, 1, 1, 19, 6, 705, 4, 3, 3, 3, 2, 1, 106, 3736, 84, 1, 14, 27, 40, 42, 36, 44, 21, 16], \"coloraxis\": \"coloraxis\", \"size\": [1.0, 1.0, 1.0, 1.9331820449317627, 2.2071833466585673, 1.3903891703159093, 3.174163968024659, 1.0, 1.2311444133449163, 1.2311444133449163, 1.0, 2.2071833466585673, 28.031185614205427, 1.792789962520997, 1.3903891703159093, 1.515716566510398, 1.0, 1.711769859409705, 1.2311444133449163, 1.0, 1.711769859409705, 4.307080666837073, 1.3903891703159093, 4.307080666837073, 1.792789962520997, 3.932614443274868, 1.3903891703159093, 1.3903891703159093, 7.890447897657098, 2.4189454814875875, 1.0, 1.9952623149688795, 9.304092550579004, 5.278031643091577, 3.1330242337266654, 1.9952623149688795, 1.0, 1.0, 1.9952623149688795, 2.7461192933624785, 1.6206565966927624, 1.0, 1.0, 1.9952623149688795, 1.0, 1.0, 1.0, 2.4189454814875875, 1.711769859409705, 7.152481367057622, 1.515716566510398, 1.3903891703159093, 1.3903891703159093, 1.3903891703159093, 1.2311444133449163, 1.0, 4.051275331573146, 11.795654958499812, 3.7781899270011783, 1.0, 2.2071833466585673, 2.6878753795222865, 3.0242521453322184, 3.068843822095698, 2.930156051583521, 3.1119728754884552, 2.4926757485402593, 2.2973967099940698], \"sizemode\": \"area\", \"sizeref\": 0.07034885314052819}, \"name\": \"\", \"showlegend\": false, \"type\": \"scattergeo\"}], \"name\": \"03/01/2020\"}, {\"data\": [{\"geo\": \"geo\", \"hoverlabel\": {\"namelength\": 0}, \"hovertemplate\": \"<b>%{hovertext}</b><br><br>ObservationDate=03/02/2020<br>size=%{marker.size}<br>Country/Region=%{location}<br>Confirmed=%{marker.color}\", \"hovertext\": [\"Afghanistan\", \"Algeria\", \"Andorra\", \"Armenia\", \"Australia\", \"Austria\", \"Azerbaijan\", \"Bahrain\", \"Belarus\", \"Belgium\", \"Brazil\", \"Cambodia\", \"Canada\", \"China\", \"Croatia\", \"Czech Republic\", \"Denmark\", \"Dominican Republic\", \"Ecuador\", \"Egypt\", \"Estonia\", \"Finland\", \"France\", \"Georgia\", \"Germany\", \"Greece\", \"Hong Kong\", \"Iceland\", \"India\", \"Indonesia\", \"Iran\", \"Iraq\", \"Ireland\", \"Israel\", \"Italy\", \"Japan\", \"Kuwait\", \"Latvia\", \"Lebanon\", \"Lithuania\", \"Luxembourg\", \"Macau\", \"Malaysia\", \"Mexico\", \"Monaco\", \"Morocco\", \"Nepal\", \"Netherlands\", \"New Zealand\", \"Nigeria\", \"North Macedonia\", \"Norway\", \"Oman\", \"Others\", \"Pakistan\", \"Philippines\", \"Portugal\", \"Qatar\", \"Romania\", \"Russia\", \"San Marino\", \"Saudi Arabia\", \"Senegal\", \"Singapore\", \"South Korea\", \"Spain\", \"Sri Lanka\", \"Sweden\", \"Switzerland\", \"Taiwan\", \"Thailand\", \"UK\", \"US\", \"United Arab Emirates\", \"Vietnam\"], \"legendgroup\": \"\", \"locationmode\": \"country names\", \"locations\": [\"Afghanistan\", \"Algeria\", \"Andorra\", \"Armenia\", \"Australia\", \"Austria\", \"Azerbaijan\", \"Bahrain\", \"Belarus\", \"Belgium\", \"Brazil\", \"Cambodia\", \"Canada\", \"China\", \"Croatia\", \"Czech Republic\", \"Denmark\", \"Dominican Republic\", \"Ecuador\", \"Egypt\", \"Estonia\", \"Finland\", \"France\", \"Georgia\", \"Germany\", \"Greece\", \"Hong Kong\", \"Iceland\", \"India\", \"Indonesia\", \"Iran\", \"Iraq\", \"Ireland\", \"Israel\", \"Italy\", \"Japan\", \"Kuwait\", \"Latvia\", \"Lebanon\", \"Lithuania\", \"Luxembourg\", \"Macau\", \"Malaysia\", \"Mexico\", \"Monaco\", \"Morocco\", \"Nepal\", \"Netherlands\", \"New Zealand\", \"Nigeria\", \"North Macedonia\", \"Norway\", \"Oman\", \"Others\", \"Pakistan\", \"Philippines\", \"Portugal\", \"Qatar\", \"Romania\", \"Russia\", \"San Marino\", \"Saudi Arabia\", \"Senegal\", \"Singapore\", \"South Korea\", \"Spain\", \"Sri Lanka\", \"Sweden\", \"Switzerland\", \"Taiwan\", \"Thailand\", \"UK\", \"US\", \"United Arab Emirates\", \"Vietnam\"], \"marker\": {\"color\": [1, 3, 1, 1, 9, 18, 3, 49, 1, 8, 2, 1, 17, 67103, 7, 3, 4, 1, 6, 2, 1, 6, 191, 3, 159, 7, 100, 6, 5, 2, 1501, 26, 1, 10, 2036, 274, 56, 1, 13, 1, 1, 10, 29, 5, 1, 1, 1, 18, 1, 1, 1, 25, 6, 705, 4, 3, 2, 3, 3, 3, 8, 1, 1, 108, 4335, 120, 1, 15, 42, 41, 43, 40, 45, 21, 16], \"coloraxis\": \"coloraxis\", \"size\": [1.0, 1.3903891703159093, 1.0, 1.0, 1.9331820449317627, 2.3800262745964407, 1.3903891703159093, 3.2140958497160383, 1.0, 1.8660659830736148, 1.2311444133449163, 1.0, 2.3395626336814512, 28.055795095629644, 1.792789962520997, 1.3903891703159093, 1.515716566510398, 1.0, 1.711769859409705, 1.2311444133449163, 1.0, 1.711769859409705, 4.834037444950487, 1.3903891703159093, 4.575295380404088, 1.792789962520997, 3.9810717055349722, 1.711769859409705, 1.6206565966927624, 1.2311444133449163, 8.972515302166881, 2.657614620905154, 1.0, 1.9952623149688795, 9.831806714979518, 5.386729515921298, 3.345464363856254, 1.0, 2.1586538444215795, 1.0, 1.0, 1.9952623149688795, 2.7461192933624785, 1.6206565966927624, 1.0, 1.0, 1.0, 2.3800262745964407, 1.0, 1.0, 1.0, 2.626527804403767, 1.711769859409705, 7.152481367057622, 1.515716566510398, 1.3903891703159093, 1.2311444133449163, 1.3903891703159093, 1.3903891703159093, 1.3903891703159093, 1.8660659830736148, 1.0, 1.0, 4.0740572414573535, 12.333795136367636, 4.204887431174572, 1.0, 2.2533433808426553, 3.068843822095698, 3.046738334899583, 3.0905838914967028, 3.0242521453322184, 3.1330242337266654, 2.4926757485402593, 2.2973967099940698], \"sizemode\": \"area\", \"sizeref\": 0.07034885314052819}, \"name\": \"\", \"showlegend\": false, \"type\": \"scattergeo\"}], \"name\": \"03/02/2020\"}, {\"data\": [{\"geo\": \"geo\", \"hoverlabel\": {\"namelength\": 0}, \"hovertemplate\": \"<b>%{hovertext}</b><br><br>ObservationDate=03/03/2020<br>size=%{marker.size}<br>Country/Region=%{location}<br>Confirmed=%{marker.color}\", \"hovertext\": [\"Afghanistan\", \"Algeria\", \"Andorra\", \"Argentina\", \"Armenia\", \"Australia\", \"Austria\", \"Azerbaijan\", \"Bahrain\", \"Belarus\", \"Belgium\", \"Brazil\", \"Cambodia\", \"Canada\", \"Chile\", \"China\", \"Croatia\", \"Czech Republic\", \"Denmark\", \"Dominican Republic\", \"Ecuador\", \"Egypt\", \"Estonia\", \"Finland\", \"France\", \"Georgia\", \"Germany\", \"Greece\", \"Hong Kong\", \"Iceland\", \"India\", \"Indonesia\", \"Iran\", \"Iraq\", \"Ireland\", \"Israel\", \"Italy\", \"Japan\", \"Jordan\", \"Kuwait\", \"Latvia\", \"Lebanon\", \"Lithuania\", \"Luxembourg\", \"Macau\", \"Malaysia\", \"Mexico\", \"Monaco\", \"Morocco\", \"Nepal\", \"Netherlands\", \"New Zealand\", \"Nigeria\", \"North Macedonia\", \"Norway\", \"Oman\", \"Others\", \"Pakistan\", \"Philippines\", \"Portugal\", \"Qatar\", \"Romania\", \"Russia\", \"San Marino\", \"Saudi Arabia\", \"Senegal\", \"Singapore\", \"South Korea\", \"Spain\", \"Sri Lanka\", \"Sweden\", \"Switzerland\", \"Taiwan\", \"Thailand\", \"UK\", \"US\", \"Ukraine\", \"United Arab Emirates\", \"Vietnam\"], \"legendgroup\": \"\", \"locationmode\": \"country names\", \"locations\": [\"Afghanistan\", \"Algeria\", \"Andorra\", \"Argentina\", \"Armenia\", \"Australia\", \"Austria\", \"Azerbaijan\", \"Bahrain\", \"Belarus\", \"Belgium\", \"Brazil\", \"Cambodia\", \"Canada\", \"Chile\", \"China\", \"Croatia\", \"Czech Republic\", \"Denmark\", \"Dominican Republic\", \"Ecuador\", \"Egypt\", \"Estonia\", \"Finland\", \"France\", \"Georgia\", \"Germany\", \"Greece\", \"Hong Kong\", \"Iceland\", \"India\", \"Indonesia\", \"Iran\", \"Iraq\", \"Ireland\", \"Israel\", \"Italy\", \"Japan\", \"Jordan\", \"Kuwait\", \"Latvia\", \"Lebanon\", \"Lithuania\", \"Luxembourg\", \"Macau\", \"Malaysia\", \"Mexico\", \"Monaco\", \"Morocco\", \"Nepal\", \"Netherlands\", \"New Zealand\", \"Nigeria\", \"North Macedonia\", \"Norway\", \"Oman\", \"Others\", \"Pakistan\", \"Philippines\", \"Portugal\", \"Qatar\", \"Romania\", \"Russia\", \"San Marino\", \"Saudi Arabia\", \"Senegal\", \"Singapore\", \"South Korea\", \"Spain\", \"Sri Lanka\", \"Sweden\", \"Switzerland\", \"Taiwan\", \"Thailand\", \"UK\", \"US\", \"Ukraine\", \"United Arab Emirates\", \"Vietnam\"], \"marker\": {\"color\": [1, 5, 1, 1, 1, 13, 21, 3, 49, 1, 13, 2, 1, 19, 1, 67217, 9, 5, 6, 1, 7, 2, 2, 6, 204, 3, 196, 7, 100, 11, 5, 2, 2336, 32, 2, 12, 2502, 293, 1, 56, 1, 13, 1, 1, 10, 36, 5, 1, 1, 1, 24, 1, 1, 1, 32, 12, 706, 5, 3, 2, 7, 3, 3, 10, 1, 2, 110, 5186, 165, 1, 21, 56, 42, 43, 51, 45, 1, 27, 16], \"coloraxis\": \"coloraxis\", \"size\": [1.0, 1.6206565966927624, 1.0, 1.0, 1.0, 2.1586538444215795, 2.4926757485402593, 1.3903891703159093, 3.2140958497160383, 1.0, 2.1586538444215795, 1.2311444133449163, 1.0, 2.4189454814875875, 1.0, 28.070085637175737, 1.9331820449317627, 1.6206565966927624, 1.711769859409705, 1.0, 1.792789962520997, 1.2311444133449163, 1.2311444133449163, 1.711769859409705, 4.930478282985189, 1.3903891703159093, 4.871658325766914, 1.792789962520997, 3.9810717055349722, 2.053136413658844, 1.6206565966927624, 1.2311444133449163, 10.245705100464402, 2.82842712474619, 1.2311444133449163, 2.107435899344471, 10.458904358487542, 5.496171630586563, 1.0, 3.345464363856254, 1.0, 2.1586538444215795, 1.0, 1.0, 1.9952623149688795, 2.930156051583521, 1.6206565966927624, 1.0, 1.0, 1.0, 2.594557933960465, 1.0, 1.0, 1.0, 2.82842712474619, 2.107435899344471, 7.155523466351744, 1.6206565966927624, 1.3903891703159093, 1.2311444133449163, 1.792789962520997, 1.3903891703159093, 1.3903891703159093, 1.9952623149688795, 1.0, 1.2311444133449163, 4.096545713663848, 13.01516726182522, 4.626421347685183, 1.0, 2.4926757485402593, 3.345464363856254, 3.068843822095698, 3.0905838914967028, 3.2529025491464565, 3.1330242337266654, 1.0, 2.6878753795222865, 2.2973967099940698], \"sizemode\": \"area\", \"sizeref\": 0.07034885314052819}, \"name\": \"\", \"showlegend\": false, \"type\": \"scattergeo\"}], \"name\": \"03/03/2020\"}, {\"data\": [{\"geo\": \"geo\", \"hoverlabel\": {\"namelength\": 0}, \"hovertemplate\": \"<b>%{hovertext}</b><br><br>ObservationDate=03/04/2020<br>size=%{marker.size}<br>Country/Region=%{location}<br>Confirmed=%{marker.color}\", \"hovertext\": [\"Afghanistan\", \"Algeria\", \"Andorra\", \"Argentina\", \"Armenia\", \"Australia\", \"Austria\", \"Azerbaijan\", \"Bahrain\", \"Belarus\", \"Belgium\", \"Brazil\", \"Cambodia\", \"Canada\", \"Chile\", \"China\", \"Croatia\", \"Czech Republic\", \"Denmark\", \"Dominican Republic\", \"Ecuador\", \"Egypt\", \"Estonia\", \"Faroe Islands\", \"Finland\", \"France\", \"Georgia\", \"Germany\", \"Gibraltar\", \"Greece\", \"Hong Kong\", \"Hungary\", \"Iceland\", \"India\", \"Indonesia\", \"Iran\", \"Iraq\", \"Ireland\", \"Israel\", \"Italy\", \"Japan\", \"Jordan\", \"Kuwait\", \"Latvia\", \"Lebanon\", \"Liechtenstein\", \"Lithuania\", \"Luxembourg\", \"Macau\", \"Malaysia\", \"Mexico\", \"Monaco\", \"Morocco\", \"Nepal\", \"Netherlands\", \"New Zealand\", \"Nigeria\", \"North Macedonia\", \"Norway\", \"Oman\", \"Others\", \"Pakistan\", \"Philippines\", \"Poland\", \"Portugal\", \"Qatar\", \"Romania\", \"Russia\", \"Saint Barthelemy\", \"San Marino\", \"Saudi Arabia\", \"Senegal\", \"Singapore\", \"South Korea\", \"Spain\", \"Sri Lanka\", \"Sweden\", \"Switzerland\", \"Taiwan\", \"Thailand\", \"Tunisia\", \"UK\", \"US\", \"Ukraine\", \"United Arab Emirates\", \"Vietnam\"], \"legendgroup\": \"\", \"locationmode\": \"country names\", \"locations\": [\"Afghanistan\", \"Algeria\", \"Andorra\", \"Argentina\", \"Armenia\", \"Australia\", \"Austria\", \"Azerbaijan\", \"Bahrain\", \"Belarus\", \"Belgium\", \"Brazil\", \"Cambodia\", \"Canada\", \"Chile\", \"China\", \"Croatia\", \"Czech Republic\", \"Denmark\", \"Dominican Republic\", \"Ecuador\", \"Egypt\", \"Estonia\", \"Faroe Islands\", \"Finland\", \"France\", \"Georgia\", \"Germany\", \"Gibraltar\", \"Greece\", \"Hong Kong\", \"Hungary\", \"Iceland\", \"India\", \"Indonesia\", \"Iran\", \"Iraq\", \"Ireland\", \"Israel\", \"Italy\", \"Japan\", \"Jordan\", \"Kuwait\", \"Latvia\", \"Lebanon\", \"Liechtenstein\", \"Lithuania\", \"Luxembourg\", \"Macau\", \"Malaysia\", \"Mexico\", \"Monaco\", \"Morocco\", \"Nepal\", \"Netherlands\", \"New Zealand\", \"Nigeria\", \"North Macedonia\", \"Norway\", \"Oman\", \"Others\", \"Pakistan\", \"Philippines\", \"Poland\", \"Portugal\", \"Qatar\", \"Romania\", \"Russia\", \"Saint Barthelemy\", \"San Marino\", \"Saudi Arabia\", \"Senegal\", \"Singapore\", \"South Korea\", \"Spain\", \"Sri Lanka\", \"Sweden\", \"Switzerland\", \"Taiwan\", \"Thailand\", \"Tunisia\", \"UK\", \"US\", \"Ukraine\", \"United Arab Emirates\", \"Vietnam\"], \"marker\": {\"color\": [1, 12, 1, 1, 1, 22, 29, 3, 52, 6, 23, 4, 1, 19, 1, 67332, 10, 8, 10, 1, 10, 2, 2, 1, 6, 285, 3, 262, 1, 9, 105, 2, 26, 28, 2, 2922, 35, 6, 15, 3089, 331, 1, 56, 1, 13, 1, 1, 1, 10, 50, 5, 1, 1, 1, 38, 3, 1, 1, 56, 15, 706, 5, 3, 1, 5, 8, 4, 3, 3, 16, 1, 4, 110, 5621, 222, 1, 35, 90, 42, 43, 1, 85, 45, 1, 27, 16], \"coloraxis\": \"coloraxis\", \"size\": [1.0, 2.107435899344471, 1.0, 1.0, 1.0, 2.5277074255111027, 2.7461192933624785, 1.3903891703159093, 3.2719073933511478, 1.711769859409705, 2.5616415021458128, 1.515716566510398, 1.0, 2.4189454814875875, 1.0, 28.084484355070565, 1.9952623149688795, 1.8660659830736148, 1.9952623149688795, 1.0, 1.9952623149688795, 1.2311444133449163, 1.2311444133449163, 1.0, 1.711769859409705, 5.450714789329305, 1.3903891703159093, 5.314842355900356, 1.0, 1.9331820449317627, 4.039771395287841, 1.2311444133449163, 2.657614620905154, 2.717361446466631, 1.2311444133449163, 10.957312895517244, 2.9054968792442244, 1.711769859409705, 2.2533433808426553, 11.141543814376817, 5.700965307033067, 1.0, 3.345464363856254, 1.0, 2.1586538444215795, 1.0, 1.0, 1.0, 1.9952623149688795, 3.233635032886787, 1.6206565966927624, 1.0, 1.0, 1.0, 2.978071215719372, 1.3903891703159093, 1.0, 1.0, 3.345464363856254, 2.2533433808426553, 7.155523466351744, 1.6206565966927624, 1.3903891703159093, 1.0, 1.6206565966927624, 1.8660659830736148, 1.515716566510398, 1.3903891703159093, 1.3903891703159093, 2.2973967099940698, 1.0, 1.515716566510398, 4.096545713663848, 13.333497247071476, 5.057150662733924, 1.0, 2.9054968792442244, 3.8572052822268215, 3.068843822095698, 3.0905838914967028, 1.0, 3.791627615651737, 3.1330242337266654, 1.0, 2.6878753795222865, 2.2973967099940698], \"sizemode\": \"area\", \"sizeref\": 0.07034885314052819}, \"name\": \"\", \"showlegend\": false, \"type\": \"scattergeo\"}], \"name\": \"03/04/2020\"}, {\"data\": [{\"geo\": \"geo\", \"hoverlabel\": {\"namelength\": 0}, \"hovertemplate\": \"<b>%{hovertext}</b><br><br>ObservationDate=03/05/2020<br>size=%{marker.size}<br>Country/Region=%{location}<br>Confirmed=%{marker.color}\", \"hovertext\": [\"Afghanistan\", \"Algeria\", \"Andorra\", \"Argentina\", \"Armenia\", \"Australia\", \"Austria\", \"Azerbaijan\", \"Bahrain\", \"Belarus\", \"Belgium\", \"Bosnia and Herzegovina\", \"Brazil\", \"Cambodia\", \"Canada\", \"Chile\", \"China\", \"Croatia\", \"Czech Republic\", \"Denmark\", \"Dominican Republic\", \"Ecuador\", \"Egypt\", \"Estonia\", \"Faroe Islands\", \"Finland\", \"France\", \"Georgia\", \"Germany\", \"Gibraltar\", \"Greece\", \"Hong Kong\", \"Hungary\", \"Iceland\", \"India\", \"Indonesia\", \"Iran\", \"Iraq\", \"Ireland\", \"Israel\", \"Italy\", \"Japan\", \"Jordan\", \"Kuwait\", \"Latvia\", \"Lebanon\", \"Liechtenstein\", \"Lithuania\", \"Luxembourg\", \"Macau\", \"Malaysia\", \"Mexico\", \"Monaco\", \"Morocco\", \"Nepal\", \"Netherlands\", \"New Zealand\", \"Nigeria\", \"North Macedonia\", \"Norway\", \"Oman\", \"Others\", \"Pakistan\", \"Palestine\", \"Philippines\", \"Poland\", \"Portugal\", \"Qatar\", \"Romania\", \"Russia\", \"Saint Barthelemy\", \"San Marino\", \"Saudi Arabia\", \"Senegal\", \"Singapore\", \"Slovenia\", \"South Africa\", \"South Korea\", \"Spain\", \"Sri Lanka\", \"Sweden\", \"Switzerland\", \"Taiwan\", \"Thailand\", \"Tunisia\", \"UK\", \"US\", \"Ukraine\", \"United Arab Emirates\", \"Vietnam\"], \"legendgroup\": \"\", \"locationmode\": \"country names\", \"locations\": [\"Afghanistan\", \"Algeria\", \"Andorra\", \"Argentina\", \"Armenia\", \"Australia\", \"Austria\", \"Azerbaijan\", \"Bahrain\", \"Belarus\", \"Belgium\", \"Bosnia and Herzegovina\", \"Brazil\", \"Cambodia\", \"Canada\", \"Chile\", \"China\", \"Croatia\", \"Czech Republic\", \"Denmark\", \"Dominican Republic\", \"Ecuador\", \"Egypt\", \"Estonia\", \"Faroe Islands\", \"Finland\", \"France\", \"Georgia\", \"Germany\", \"Gibraltar\", \"Greece\", \"Hong Kong\", \"Hungary\", \"Iceland\", \"India\", \"Indonesia\", \"Iran\", \"Iraq\", \"Ireland\", \"Israel\", \"Italy\", \"Japan\", \"Jordan\", \"Kuwait\", \"Latvia\", \"Lebanon\", \"Liechtenstein\", \"Lithuania\", \"Luxembourg\", \"Macau\", \"Malaysia\", \"Mexico\", \"Monaco\", \"Morocco\", \"Nepal\", \"Netherlands\", \"New Zealand\", \"Nigeria\", \"North Macedonia\", \"Norway\", \"Oman\", \"Others\", \"Pakistan\", \"Palestine\", \"Philippines\", \"Poland\", \"Portugal\", \"Qatar\", \"Romania\", \"Russia\", \"Saint Barthelemy\", \"San Marino\", \"Saudi Arabia\", \"Senegal\", \"Singapore\", \"Slovenia\", \"South Africa\", \"South Korea\", \"Spain\", \"Sri Lanka\", \"Sweden\", \"Switzerland\", \"Taiwan\", \"Thailand\", \"Tunisia\", \"UK\", \"US\", \"Ukraine\", \"United Arab Emirates\", \"Vietnam\"], \"marker\": {\"color\": [1, 12, 1, 1, 1, 22, 41, 6, 55, 6, 50, 2, 4, 1, 21, 4, 67466, 10, 12, 10, 1, 13, 3, 3, 1, 12, 377, 4, 482, 1, 31, 105, 2, 34, 30, 2, 3513, 35, 6, 16, 3858, 360, 1, 58, 1, 16, 1, 1, 1, 10, 50, 5, 1, 2, 1, 82, 3, 1, 1, 87, 16, 706, 5, 4, 3, 1, 8, 8, 6, 4, 3, 21, 5, 4, 117, 2, 1, 6088, 259, 1, 94, 114, 44, 47, 1, 115, 51, 1, 29, 16], \"coloraxis\": \"coloraxis\", \"size\": [1.0, 2.107435899344471, 1.0, 1.0, 1.0, 2.5277074255111027, 3.046738334899583, 1.711769859409705, 3.327429072706326, 1.711769859409705, 3.233635032886787, 1.2311444133449163, 1.515716566510398, 1.0, 2.4926757485402593, 1.515716566510398, 28.10124029216058, 1.9952623149688795, 2.107435899344471, 1.9952623149688795, 1.0, 2.1586538444215795, 1.3903891703159093, 1.3903891703159093, 1.0, 2.107435899344471, 5.927920969857187, 1.515716566510398, 6.381372720813239, 1.0, 2.8016153494371836, 4.039771395287841, 1.2311444133449163, 2.8803394661274377, 2.774191114672181, 1.2311444133449163, 11.579863629337112, 2.9054968792442244, 1.711769859409705, 2.2973967099940698, 11.909915137651733, 5.846429946702608, 1.0, 3.380869426401905, 1.0, 2.2973967099940698, 1.0, 1.0, 1.0, 1.9952623149688795, 3.233635032886787, 1.6206565966927624, 1.0, 1.2311444133449163, 1.0, 3.750974879935414, 1.3903891703159093, 1.0, 1.0, 3.818174525886768, 2.2973967099940698, 7.155523466351744, 1.6206565966927624, 1.515716566510398, 1.3903891703159093, 1.0, 1.8660659830736148, 1.8660659830736148, 1.711769859409705, 1.515716566510398, 1.3903891703159093, 2.4926757485402593, 1.6206565966927624, 1.515716566510398, 4.173070853258721, 1.2311444133449163, 1.0, 13.656593835472236, 5.296511617649519, 1.0, 3.9078542362742903, 4.1406779667657485, 3.1119728754884552, 3.174163968024659, 1.0, 4.151541198814568, 3.2529025491464565, 1.0, 2.7461192933624785, 2.2973967099940698], \"sizemode\": \"area\", \"sizeref\": 0.07034885314052819}, \"name\": \"\", \"showlegend\": false, \"type\": \"scattergeo\"}], \"name\": \"03/05/2020\"}, {\"data\": [{\"geo\": \"geo\", \"hoverlabel\": {\"namelength\": 0}, \"hovertemplate\": \"<b>%{hovertext}</b><br><br>ObservationDate=03/06/2020<br>size=%{marker.size}<br>Country/Region=%{location}<br>Confirmed=%{marker.color}\", \"hovertext\": [\"Afghanistan\", \"Algeria\", \"Andorra\", \"Argentina\", \"Armenia\", \"Australia\", \"Austria\", \"Azerbaijan\", \"Bahrain\", \"Belarus\", \"Belgium\", \"Bhutan\", \"Bosnia and Herzegovina\", \"Brazil\", \"Cambodia\", \"Cameroon\", \"Canada\", \"Chile\", \"China\", \"Colombia\", \"Costa Rica\", \"Croatia\", \"Czech Republic\", \"Denmark\", \"Dominican Republic\", \"Ecuador\", \"Egypt\", \"Estonia\", \"Faroe Islands\", \"Finland\", \"France\", \"Georgia\", \"Germany\", \"Gibraltar\", \"Greece\", \"Hong Kong\", \"Hungary\", \"Iceland\", \"India\", \"Indonesia\", \"Iran\", \"Iraq\", \"Ireland\", \"Israel\", \"Italy\", \"Japan\", \"Jordan\", \"Kuwait\", \"Latvia\", \"Lebanon\", \"Liechtenstein\", \"Lithuania\", \"Luxembourg\", \"Macau\", \"Malaysia\", \"Mexico\", \"Monaco\", \"Morocco\", \"Nepal\", \"Netherlands\", \"New Zealand\", \"Nigeria\", \"North Macedonia\", \"Norway\", \"Oman\", \"Others\", \"Pakistan\", \"Palestine\", \"Peru\", \"Philippines\", \"Poland\", \"Portugal\", \"Qatar\", \"Romania\", \"Russia\", \"Saint Barthelemy\", \"San Marino\", \"Saudi Arabia\", \"Senegal\", \"Serbia\", \"Singapore\", \"Slovakia\", \"Slovenia\", \"South Africa\", \"South Korea\", \"Spain\", \"Sri Lanka\", \"Sweden\", \"Switzerland\", \"Taiwan\", \"Thailand\", \"Togo\", \"Tunisia\", \"UK\", \"US\", \"Ukraine\", \"United Arab Emirates\", \"Vatican City\", \"Vietnam\"], \"legendgroup\": \"\", \"locationmode\": \"country names\", \"locations\": [\"Afghanistan\", \"Algeria\", \"Andorra\", \"Argentina\", \"Armenia\", \"Australia\", \"Austria\", \"Azerbaijan\", \"Bahrain\", \"Belarus\", \"Belgium\", \"Bhutan\", \"Bosnia and Herzegovina\", \"Brazil\", \"Cambodia\", \"Cameroon\", \"Canada\", \"Chile\", \"China\", \"Colombia\", \"Costa Rica\", \"Croatia\", \"Czech Republic\", \"Denmark\", \"Dominican Republic\", \"Ecuador\", \"Egypt\", \"Estonia\", \"Faroe Islands\", \"Finland\", \"France\", \"Georgia\", \"Germany\", \"Gibraltar\", \"Greece\", \"Hong Kong\", \"Hungary\", \"Iceland\", \"India\", \"Indonesia\", \"Iran\", \"Iraq\", \"Ireland\", \"Israel\", \"Italy\", \"Japan\", \"Jordan\", \"Kuwait\", \"Latvia\", \"Lebanon\", \"Liechtenstein\", \"Lithuania\", \"Luxembourg\", \"Macau\", \"Malaysia\", \"Mexico\", \"Monaco\", \"Morocco\", \"Nepal\", \"Netherlands\", \"New Zealand\", \"Nigeria\", \"North Macedonia\", \"Norway\", \"Oman\", \"Others\", \"Pakistan\", \"Palestine\", \"Peru\", \"Philippines\", \"Poland\", \"Portugal\", \"Qatar\", \"Romania\", \"Russia\", \"Saint Barthelemy\", \"San Marino\", \"Saudi Arabia\", \"Senegal\", \"Serbia\", \"Singapore\", \"Slovakia\", \"Slovenia\", \"South Africa\", \"South Korea\", \"Spain\", \"Sri Lanka\", \"Sweden\", \"Switzerland\", \"Taiwan\", \"Thailand\", \"Togo\", \"Tunisia\", \"UK\", \"US\", \"Ukraine\", \"United Arab Emirates\", \"Vatican City\", \"Vietnam\"], \"marker\": {\"color\": [1, 17, 1, 2, 1, 26, 55, 6, 60, 6, 109, 1, 2, 13, 1, 1, 24, 4, 67592, 1, 1, 11, 18, 23, 2, 13, 15, 10, 1, 15, 653, 4, 670, 1, 45, 107, 2, 43, 31, 4, 4747, 40, 18, 21, 4636, 420, 1, 58, 1, 22, 1, 1, 2, 10, 83, 6, 1, 2, 1, 128, 4, 1, 3, 108, 16, 696, 6, 16, 1, 5, 5, 13, 8, 9, 13, 3, 21, 5, 4, 1, 130, 1, 7, 1, 6593, 400, 1, 101, 214, 45, 48, 1, 1, 163, 58, 1, 29, 1, 16], \"coloraxis\": \"coloraxis\", \"size\": [1.0, 2.3395626336814512, 1.0, 1.2311444133449163, 1.0, 2.657614620905154, 3.327429072706326, 1.711769859409705, 3.4154298923797617, 1.711769859409705, 4.085337583465575, 1.0, 1.2311444133449163, 2.1586538444215795, 1.0, 1.0, 2.594557933960465, 1.515716566510398, 28.116974636555877, 1.0, 1.0, 2.053136413658844, 2.3800262745964407, 2.5616415021458128, 1.2311444133449163, 2.1586538444215795, 2.2533433808426553, 1.9952623149688795, 1.0, 2.2533433808426553, 6.989948152127391, 1.515716566510398, 7.044050175165095, 1.0, 3.1330242337266654, 4.062703547247622, 1.2311444133449163, 3.0905838914967028, 2.8016153494371836, 1.515716566510398, 12.674352147724555, 3.0242521453322184, 2.3800262745964407, 2.4926757485402593, 12.584704668131797, 6.123148428752606, 1.0, 3.380869426401905, 1.0, 2.5277074255111027, 1.0, 1.0, 1.2311444133449163, 1.9952623149688795, 3.7646397861257266, 1.711769859409705, 1.0, 1.2311444133449163, 1.0, 4.2870938501451725, 1.515716566510398, 1.0, 1.3903891703159093, 4.0740572414573535, 2.2973967099940698, 7.124965600195525, 1.711769859409705, 2.2973967099940698, 1.0, 1.6206565966927624, 1.6206565966927624, 2.1586538444215795, 1.8660659830736148, 1.9331820449317627, 2.1586538444215795, 1.3903891703159093, 2.4926757485402593, 1.6206565966927624, 1.515716566510398, 1.0, 4.307080666837073, 1.0, 1.792789962520997, 1.0, 13.987011202707828, 6.034176336545163, 1.0, 3.9929733546852777, 5.001774775270484, 3.1330242337266654, 3.194275505495155, 1.0, 1.0, 4.6095261312628075, 3.380869426401905, 1.0, 2.7461192933624785, 1.0, 2.2973967099940698], \"sizemode\": \"area\", \"sizeref\": 0.07034885314052819}, \"name\": \"\", \"showlegend\": false, \"type\": \"scattergeo\"}], \"name\": \"03/06/2020\"}, {\"data\": [{\"geo\": \"geo\", \"hoverlabel\": {\"namelength\": 0}, \"hovertemplate\": \"<b>%{hovertext}</b><br><br>ObservationDate=03/07/2020<br>size=%{marker.size}<br>Country/Region=%{location}<br>Confirmed=%{marker.color}\", \"hovertext\": [\"Afghanistan\", \"Algeria\", \"Andorra\", \"Argentina\", \"Armenia\", \"Australia\", \"Austria\", \"Azerbaijan\", \"Bahrain\", \"Belarus\", \"Belgium\", \"Bhutan\", \"Bosnia and Herzegovina\", \"Brazil\", \"Cambodia\", \"Cameroon\", \"Canada\", \"Chile\", \"China\", \"Colombia\", \"Costa Rica\", \"Croatia\", \"Czech Republic\", \"Denmark\", \"Dominican Republic\", \"Ecuador\", \"Egypt\", \"Estonia\", \"Faroe Islands\", \"Finland\", \"France\", \"French Guiana\", \"Georgia\", \"Germany\", \"Gibraltar\", \"Greece\", \"Hong Kong\", \"Hungary\", \"Iceland\", \"India\", \"Indonesia\", \"Iran\", \"Iraq\", \"Ireland\", \"Israel\", \"Italy\", \"Japan\", \"Jordan\", \"Kuwait\", \"Latvia\", \"Lebanon\", \"Liechtenstein\", \"Lithuania\", \"Luxembourg\", \"Macau\", \"Malaysia\", \"Malta\", \"Martinique\", \"Mexico\", \"Monaco\", \"Morocco\", \"Nepal\", \"Netherlands\", \"New Zealand\", \"Nigeria\", \"North Macedonia\", \"Norway\", \"Oman\", \"Others\", \"Pakistan\", \"Palestine\", \"Peru\", \"Philippines\", \"Poland\", \"Portugal\", \"Qatar\", \"Romania\", \"Russia\", \"Saint Barthelemy\", \"San Marino\", \"Saudi Arabia\", \"Senegal\", \"Serbia\", \"Singapore\", \"Slovakia\", \"Slovenia\", \"South Africa\", \"South Korea\", \"Spain\", \"Sri Lanka\", \"Sweden\", \"Switzerland\", \"Taiwan\", \"Thailand\", \"Togo\", \"Tunisia\", \"UK\", \"US\", \"Ukraine\", \"United Arab Emirates\", \"Vatican City\", \"Vietnam\"], \"legendgroup\": \"\", \"locationmode\": \"country names\", \"locations\": [\"Afghanistan\", \"Algeria\", \"Andorra\", \"Argentina\", \"Armenia\", \"Australia\", \"Austria\", \"Azerbaijan\", \"Bahrain\", \"Belarus\", \"Belgium\", \"Bhutan\", \"Bosnia and Herzegovina\", \"Brazil\", \"Cambodia\", \"Cameroon\", \"Canada\", \"Chile\", \"China\", \"Colombia\", \"Costa Rica\", \"Croatia\", \"Czech Republic\", \"Denmark\", \"Dominican Republic\", \"Ecuador\", \"Egypt\", \"Estonia\", \"Faroe Islands\", \"Finland\", \"France\", \"French Guiana\", \"Georgia\", \"Germany\", \"Gibraltar\", \"Greece\", \"Hong Kong\", \"Hungary\", \"Iceland\", \"India\", \"Indonesia\", \"Iran\", \"Iraq\", \"Ireland\", \"Israel\", \"Italy\", \"Japan\", \"Jordan\", \"Kuwait\", \"Latvia\", \"Lebanon\", \"Liechtenstein\", \"Lithuania\", \"Luxembourg\", \"Macau\", \"Malaysia\", \"Malta\", \"Martinique\", \"Mexico\", \"Monaco\", \"Morocco\", \"Nepal\", \"Netherlands\", \"New Zealand\", \"Nigeria\", \"North Macedonia\", \"Norway\", \"Oman\", \"Others\", \"Pakistan\", \"Palestine\", \"Peru\", \"Philippines\", \"Poland\", \"Portugal\", \"Qatar\", \"Romania\", \"Russia\", \"Saint Barthelemy\", \"San Marino\", \"Saudi Arabia\", \"Senegal\", \"Serbia\", \"Singapore\", \"Slovakia\", \"Slovenia\", \"South Africa\", \"South Korea\", \"Spain\", \"Sri Lanka\", \"Sweden\", \"Switzerland\", \"Taiwan\", \"Thailand\", \"Togo\", \"Tunisia\", \"UK\", \"US\", \"Ukraine\", \"United Arab Emirates\", \"Vatican City\", \"Vietnam\"], \"marker\": {\"color\": [1, 17, 1, 8, 1, 28, 79, 9, 85, 6, 169, 1, 3, 13, 1, 1, 27, 4, 67666, 1, 1, 12, 19, 23, 2, 13, 15, 10, 1, 15, 949, 5, 4, 799, 1, 46, 108, 4, 50, 34, 4, 5823, 54, 18, 21, 5883, 461, 1, 61, 1, 22, 1, 1, 2, 10, 93, 3, 2, 6, 1, 2, 1, 188, 5, 1, 3, 147, 16, 696, 6, 22, 1, 6, 5, 20, 8, 9, 13, 3, 23, 5, 4, 1, 138, 1, 7, 1, 7041, 500, 1, 161, 268, 45, 50, 1, 1, 206, 71, 1, 45, 1, 18], \"coloraxis\": \"coloraxis\", \"size\": [1.0, 2.3395626336814512, 1.0, 1.8660659830736148, 1.0, 2.717361446466631, 3.709267269905158, 1.9331820449317627, 3.791627615651737, 1.711769859409705, 4.659786420036066, 1.0, 1.3903891703159093, 2.1586538444215795, 1.0, 1.0, 2.6878753795222865, 1.515716566510398, 28.126205874047933, 1.0, 1.0, 2.107435899344471, 2.4189454814875875, 2.5616415021458128, 1.2311444133449163, 2.1586538444215795, 2.2533433808426553, 1.9952623149688795, 1.0, 2.2533433808426553, 7.819515839889967, 1.6206565966927624, 1.515716566510398, 7.426155412768537, 1.0, 3.1537506243592963, 4.0740572414573535, 1.515716566510398, 3.233635032886787, 2.8803394661274377, 1.515716566510398, 13.475473583910057, 3.3091627572662095, 2.3800262745964407, 2.4926757485402593, 13.516979480637076, 6.2966604962743995, 1.0, 3.432408355505487, 1.0, 2.5277074255111027, 1.0, 1.0, 1.2311444133449163, 1.9952623149688795, 3.8953356412482822, 1.3903891703159093, 1.2311444133449163, 1.711769859409705, 1.0, 1.2311444133449163, 1.0, 4.811132911155357, 1.6206565966927624, 1.0, 1.3903891703159093, 4.46884406180249, 2.2973967099940698, 7.124965600195525, 1.711769859409705, 2.5277074255111027, 1.0, 1.711769859409705, 1.6206565966927624, 2.4564560522315806, 1.8660659830736148, 1.9331820449317627, 2.1586538444215795, 1.3903891703159093, 2.5616415021458128, 1.6206565966927624, 1.515716566510398, 1.0, 4.384940713986203, 1.0, 1.792789962520997, 1.0, 14.265608567727663, 6.4519501214821595, 1.0, 4.592485172624222, 5.351067609370817, 3.1330242337266654, 3.233635032886787, 1.0, 1.0, 4.944930204597636, 3.592340583264959, 1.0, 3.1330242337266654, 1.0, 2.3800262745964407], \"sizemode\": \"area\", \"sizeref\": 0.07034885314052819}, \"name\": \"\", \"showlegend\": false, \"type\": \"scattergeo\"}], \"name\": \"03/07/2020\"}, {\"data\": [{\"geo\": \"geo\", \"hoverlabel\": {\"namelength\": 0}, \"hovertemplate\": \"<b>%{hovertext}</b><br><br>ObservationDate=03/08/2020<br>size=%{marker.size}<br>Country/Region=%{location}<br>Confirmed=%{marker.color}\", \"hovertext\": [\"Afghanistan\", \"Algeria\", \"Andorra\", \"Argentina\", \"Armenia\", \"Australia\", \"Austria\", \"Azerbaijan\", \"Bahrain\", \"Bangladesh\", \"Belarus\", \"Belgium\", \"Bhutan\", \"Bosnia and Herzegovina\", \"Brazil\", \"Bulgaria\", \"Cambodia\", \"Cameroon\", \"Canada\", \"Chile\", \"China\", \"Colombia\", \"Costa Rica\", \"Croatia\", \"Czech Republic\", \"Denmark\", \"Dominican Republic\", \"Ecuador\", \"Egypt\", \"Estonia\", \"Faroe Islands\", \"Finland\", \"France\", \"French Guiana\", \"Georgia\", \"Germany\", \"Gibraltar\", \"Greece\", \"Hong Kong\", \"Hungary\", \"Iceland\", \"India\", \"Indonesia\", \"Iran\", \"Iraq\", \"Ireland\", \"Israel\", \"Italy\", \"Japan\", \"Jordan\", \"Kuwait\", \"Latvia\", \"Lebanon\", \"Liechtenstein\", \"Lithuania\", \"Luxembourg\", \"Macau\", \"Malaysia\", \"Maldives\", \"Malta\", \"Martinique\", \"Mexico\", \"Moldova\", \"Monaco\", \"Morocco\", \"Nepal\", \"Netherlands\", \"New Zealand\", \"Nigeria\", \"North Macedonia\", \"Norway\", \"Oman\", \"Others\", \"Pakistan\", \"Palestine\", \"Paraguay\", \"Peru\", \"Philippines\", \"Poland\", \"Portugal\", \"Qatar\", \"Republic of Ireland\", \"Romania\", \"Russia\", \"Saint Barthelemy\", \"San Marino\", \"Saudi Arabia\", \"Senegal\", \"Serbia\", \"Singapore\", \"Slovakia\", \"Slovenia\", \"South Africa\", \"South Korea\", \"Spain\", \"Sri Lanka\", \"Sweden\", \"Switzerland\", \"Taiwan\", \"Thailand\", \"Togo\", \"Tunisia\", \"UK\", \"US\", \"Ukraine\", \"United Arab Emirates\", \"Vatican City\", \"Vietnam\"], \"legendgroup\": \"\", \"locationmode\": \"country names\", \"locations\": [\"Afghanistan\", \"Algeria\", \"Andorra\", \"Argentina\", \"Armenia\", \"Australia\", \"Austria\", \"Azerbaijan\", \"Bahrain\", \"Bangladesh\", \"Belarus\", \"Belgium\", \"Bhutan\", \"Bosnia and Herzegovina\", \"Brazil\", \"Bulgaria\", \"Cambodia\", \"Cameroon\", \"Canada\", \"Chile\", \"China\", \"Colombia\", \"Costa Rica\", \"Croatia\", \"Czech Republic\", \"Denmark\", \"Dominican Republic\", \"Ecuador\", \"Egypt\", \"Estonia\", \"Faroe Islands\", \"Finland\", \"France\", \"French Guiana\", \"Georgia\", \"Germany\", \"Gibraltar\", \"Greece\", \"Hong Kong\", \"Hungary\", \"Iceland\", \"India\", \"Indonesia\", \"Iran\", \"Iraq\", \"Ireland\", \"Israel\", \"Italy\", \"Japan\", \"Jordan\", \"Kuwait\", \"Latvia\", \"Lebanon\", \"Liechtenstein\", \"Lithuania\", \"Luxembourg\", \"Macau\", \"Malaysia\", \"Maldives\", \"Malta\", \"Martinique\", \"Mexico\", \"Moldova\", \"Monaco\", \"Morocco\", \"Nepal\", \"Netherlands\", \"New Zealand\", \"Nigeria\", \"North Macedonia\", \"Norway\", \"Oman\", \"Others\", \"Pakistan\", \"Palestine\", \"Paraguay\", \"Peru\", \"Philippines\", \"Poland\", \"Portugal\", \"Qatar\", \"Republic of Ireland\", \"Romania\", \"Russia\", \"Saint Barthelemy\", \"San Marino\", \"Saudi Arabia\", \"Senegal\", \"Serbia\", \"Singapore\", \"Slovakia\", \"Slovenia\", \"South Africa\", \"South Korea\", \"Spain\", \"Sri Lanka\", \"Sweden\", \"Switzerland\", \"Taiwan\", \"Thailand\", \"Togo\", \"Tunisia\", \"UK\", \"US\", \"Ukraine\", \"United Arab Emirates\", \"Vatican City\", \"Vietnam\"], \"marker\": {\"color\": [4, 19, 1, 12, 1, 38, 104, 9, 85, 3, 6, 200, 1, 3, 20, 4, 2, 2, 28, 8, 67707, 1, 5, 12, 31, 35, 5, 14, 49, 10, 2, 23, 1126, 5, 13, 1040, 1, 73, 114, 7, 50, 39, 6, 6566, 60, 19, 39, 7375, 502, 1, 64, 2, 32, 1, 1, 3, 10, 99, 4, 3, 2, 7, 1, 1, 2, 1, 265, 5, 1, 3, 176, 16, 696, 6, 22, 1, 6, 10, 11, 30, 15, 21, 15, 17, 3, 36, 11, 4, 1, 150, 3, 16, 3, 7314, 673, 1, 203, 337, 45, 50, 1, 2, 273, 83, 1, 45, 1, 30], \"coloraxis\": \"coloraxis\", \"size\": [1.515716566510398, 2.4189454814875875, 1.0, 2.107435899344471, 1.0, 2.978071215719372, 4.028190508306193, 1.9331820449317627, 3.791627615651737, 1.3903891703159093, 1.711769859409705, 4.901274189394899, 1.0, 1.3903891703159093, 2.4564560522315806, 1.515716566510398, 1.2311444133449163, 1.2311444133449163, 2.717361446466631, 1.8660659830736148, 28.131317436589757, 1.0, 1.6206565966927624, 2.107435899344471, 2.8016153494371836, 2.9054968792442244, 1.6206565966927624, 2.2071833466585673, 3.2140958497160383, 1.9952623149688795, 1.2311444133449163, 2.5616415021458128, 8.23116897280053, 1.6206565966927624, 2.1586538444215795, 8.037296718738682, 1.0, 3.622403777287988, 4.1406779667657485, 1.792789962520997, 3.233635032886787, 3.001368927744568, 1.711769859409705, 13.969802411807116, 3.4154298923797617, 2.4189454814875875, 3.001368927744568, 14.465338715455415, 6.459681646854619, 1.0, 3.4822022531844965, 1.2311444133449163, 2.82842712474619, 1.0, 1.0, 1.3903891703159093, 1.9952623149688795, 3.9690864506808694, 1.515716566510398, 1.3903891703159093, 1.2311444133449163, 1.792789962520997, 1.0, 1.0, 1.2311444133449163, 1.0, 5.333026751341176, 1.6206565966927624, 1.0, 1.3903891703159093, 4.716868841908852, 2.2973967099940698, 7.124965600195525, 1.711769859409705, 2.5277074255111027, 1.0, 1.711769859409705, 1.9952623149688795, 2.053136413658844, 2.774191114672181, 2.2533433808426553, 2.4926757485402593, 2.2533433808426553, 2.3395626336814512, 1.3903891703159093, 2.930156051583521, 2.053136413658844, 1.515716566510398, 1.0, 4.496011130479918, 1.3903891703159093, 2.2973967099940698, 1.3903891703159093, 14.4293406625776, 7.05349754087523, 1.0, 4.9232151050255055, 5.731772840410531, 3.1330242337266654, 3.233635032886787, 1.0, 1.2311444133449163, 5.38082408748287, 3.7646397861257266, 1.0, 3.1330242337266654, 1.0, 2.774191114672181], \"sizemode\": \"area\", \"sizeref\": 0.07034885314052819}, \"name\": \"\", \"showlegend\": false, \"type\": \"scattergeo\"}], \"name\": \"03/08/2020\"}, {\"data\": [{\"geo\": \"geo\", \"hoverlabel\": {\"namelength\": 0}, \"hovertemplate\": \"<b>%{hovertext}</b><br><br>ObservationDate=03/09/2020<br>size=%{marker.size}<br>Country/Region=%{location}<br>Confirmed=%{marker.color}\", \"hovertext\": [\"Afghanistan\", \"Albania\", \"Algeria\", \"Andorra\", \"Argentina\", \"Armenia\", \"Australia\", \"Austria\", \"Azerbaijan\", \"Bahrain\", \"Bangladesh\", \"Belarus\", \"Belgium\", \"Bhutan\", \"Bosnia and Herzegovina\", \"Brazil\", \"Brunei\", \"Bulgaria\", \"Cambodia\", \"Cameroon\", \"Canada\", \"Chile\", \"China\", \"Colombia\", \"Costa Rica\", \"Croatia\", \"Cyprus\", \"Czech Republic\", \"Denmark\", \"Dominican Republic\", \"Ecuador\", \"Egypt\", \"Estonia\", \"Faroe Islands\", \"Finland\", \"France\", \"French Guiana\", \"Georgia\", \"Germany\", \"Gibraltar\", \"Greece\", \"Hong Kong\", \"Hungary\", \"Iceland\", \"India\", \"Indonesia\", \"Iran\", \"Iraq\", \"Ireland\", \"Israel\", \"Italy\", \"Japan\", \"Jordan\", \"Kuwait\", \"Latvia\", \"Lebanon\", \"Liechtenstein\", \"Lithuania\", \"Luxembourg\", \"Macau\", \"Malaysia\", \"Maldives\", \"Malta\", \"Martinique\", \"Mexico\", \"Moldova\", \"Monaco\", \"Morocco\", \"Nepal\", \"Netherlands\", \"New Zealand\", \"Nigeria\", \"North Macedonia\", \"Norway\", \"Oman\", \"Others\", \"Pakistan\", \"Palestine\", \"Paraguay\", \"Peru\", \"Philippines\", \"Poland\", \"Portugal\", \"Qatar\", \"Romania\", \"Russia\", \"Saint Barthelemy\", \"San Marino\", \"Saudi Arabia\", \"Senegal\", \"Serbia\", \"Singapore\", \"Slovakia\", \"Slovenia\", \"South Africa\", \"South Korea\", \"Spain\", \"Sri Lanka\", \"St. Martin\", \"Sweden\", \"Switzerland\", \"Taiwan\", \"Thailand\", \"Togo\", \"Tunisia\", \"UK\", \"US\", \"Ukraine\", \"United Arab Emirates\", \"Vatican City\", \"Vietnam\"], \"legendgroup\": \"\", \"locationmode\": \"country names\", \"locations\": [\"Afghanistan\", \"Albania\", \"Algeria\", \"Andorra\", \"Argentina\", \"Armenia\", \"Australia\", \"Austria\", \"Azerbaijan\", \"Bahrain\", \"Bangladesh\", \"Belarus\", \"Belgium\", \"Bhutan\", \"Bosnia and Herzegovina\", \"Brazil\", \"Brunei\", \"Bulgaria\", \"Cambodia\", \"Cameroon\", \"Canada\", \"Chile\", \"China\", \"Colombia\", \"Costa Rica\", \"Croatia\", \"Cyprus\", \"Czech Republic\", \"Denmark\", \"Dominican Republic\", \"Ecuador\", \"Egypt\", \"Estonia\", \"Faroe Islands\", \"Finland\", \"France\", \"French Guiana\", \"Georgia\", \"Germany\", \"Gibraltar\", \"Greece\", \"Hong Kong\", \"Hungary\", \"Iceland\", \"India\", \"Indonesia\", \"Iran\", \"Iraq\", \"Ireland\", \"Israel\", \"Italy\", \"Japan\", \"Jordan\", \"Kuwait\", \"Latvia\", \"Lebanon\", \"Liechtenstein\", \"Lithuania\", \"Luxembourg\", \"Macau\", \"Malaysia\", \"Maldives\", \"Malta\", \"Martinique\", \"Mexico\", \"Moldova\", \"Monaco\", \"Morocco\", \"Nepal\", \"Netherlands\", \"New Zealand\", \"Nigeria\", \"North Macedonia\", \"Norway\", \"Oman\", \"Others\", \"Pakistan\", \"Palestine\", \"Paraguay\", \"Peru\", \"Philippines\", \"Poland\", \"Portugal\", \"Qatar\", \"Romania\", \"Russia\", \"Saint Barthelemy\", \"San Marino\", \"Saudi Arabia\", \"Senegal\", \"Serbia\", \"Singapore\", \"Slovakia\", \"Slovenia\", \"South Africa\", \"South Korea\", \"Spain\", \"Sri Lanka\", \"St. Martin\", \"Sweden\", \"Switzerland\", \"Taiwan\", \"Thailand\", \"Togo\", \"Tunisia\", \"UK\", \"US\", \"Ukraine\", \"United Arab Emirates\", \"Vatican City\", \"Vietnam\"], \"marker\": {\"color\": [4, 2, 20, 1, 12, 1, 48, 131, 9, 95, 3, 6, 239, 1, 3, 25, 1, 4, 2, 2, 34, 8, 67743, 1, 9, 12, 2, 31, 90, 5, 15, 55, 10, 2, 30, 1209, 5, 15, 1176, 1, 73, 115, 9, 58, 43, 19, 7161, 60, 21, 39, 9172, 511, 1, 64, 6, 32, 1, 1, 3, 10, 117, 4, 3, 2, 7, 1, 1, 2, 1, 321, 5, 2, 3, 205, 16, 696, 6, 22, 1, 7, 20, 16, 30, 18, 15, 17, 1, 36, 15, 4, 1, 150, 3, 16, 3, 7478, 1073, 1, 2, 248, 374, 45, 50, 1, 2, 321, 98, 1, 45, 1, 30], \"coloraxis\": \"coloraxis\", \"size\": [1.515716566510398, 1.2311444133449163, 2.4564560522315806, 1.0, 2.107435899344471, 1.0, 3.194275505495155, 4.316993439835684, 1.9331820449317627, 3.920279951613009, 1.3903891703159093, 1.711769859409705, 5.170343180785166, 1.0, 1.3903891703159093, 2.626527804403767, 1.0, 1.515716566510398, 1.2311444133449163, 1.2311444133449163, 2.8803394661274377, 1.8660659830736148, 28.13580385167233, 1.0, 1.9331820449317627, 2.107435899344471, 1.2311444133449163, 2.8016153494371836, 3.8572052822268215, 1.6206565966927624, 2.2533433808426553, 3.327429072706326, 1.9952623149688795, 1.2311444133449163, 2.774191114672181, 8.408681257293004, 1.6206565966927624, 2.2533433808426553, 8.339157887390149, 1.0, 3.622403777287988, 4.151541198814568, 1.9331820449317627, 3.380869426401905, 3.0905838914967028, 2.4189454814875875, 14.33811641171833, 3.4154298923797617, 2.4926757485402593, 3.001368927744568, 15.443268200175966, 6.494209132120051, 1.0, 3.4822022531844965, 1.711769859409705, 2.82842712474619, 1.0, 1.0, 1.3903891703159093, 1.9952623149688795, 4.173070853258721, 1.515716566510398, 1.3903891703159093, 1.2311444133449163, 1.792789962520997, 1.0, 1.0, 1.2311444133449163, 1.0, 5.648739014297123, 1.6206565966927624, 1.2311444133449163, 1.3903891703159093, 4.937716580851732, 2.2973967099940698, 7.124965600195525, 1.711769859409705, 2.5277074255111027, 1.0, 1.792789962520997, 2.4564560522315806, 2.2973967099940698, 2.774191114672181, 2.3800262745964407, 2.2533433808426553, 2.3395626336814512, 1.0, 2.930156051583521, 2.2533433808426553, 1.515716566510398, 1.0, 4.496011130479918, 1.3903891703159093, 2.2973967099940698, 1.3903891703159093, 14.525652098871177, 8.112970869322071, 1.0, 1.2311444133449163, 5.227999101241627, 5.913729841604916, 3.1330242337266654, 3.233635032886787, 1.0, 1.2311444133449163, 5.648739014297123, 3.9570161493329823, 1.0, 3.1330242337266654, 1.0, 2.774191114672181], \"sizemode\": \"area\", \"sizeref\": 0.07034885314052819}, \"name\": \"\", \"showlegend\": false, \"type\": \"scattergeo\"}], \"name\": \"03/09/2020\"}, {\"data\": [{\"geo\": \"geo\", \"hoverlabel\": {\"namelength\": 0}, \"hovertemplate\": \"<b>%{hovertext}</b><br><br>ObservationDate=03/10/2020<br>size=%{marker.size}<br>Country/Region=%{location}<br>Confirmed=%{marker.color}\", \"hovertext\": [\"('St. Martin',)\", \"Afghanistan\", \"Albania\", \"Algeria\", \"Andorra\", \"Argentina\", \"Armenia\", \"Australia\", \"Austria\", \"Azerbaijan\", \"Bahrain\", \"Bangladesh\", \"Belarus\", \"Belgium\", \"Bhutan\", \"Bosnia and Herzegovina\", \"Brazil\", \"Brunei\", \"Bulgaria\", \"Burkina Faso\", \"Cambodia\", \"Cameroon\", \"Canada\", \"Channel Islands\", \"Chile\", \"China\", \"Colombia\", \"Costa Rica\", \"Croatia\", \"Cyprus\", \"Czech Republic\", \"Denmark\", \"Dominican Republic\", \"Ecuador\", \"Egypt\", \"Estonia\", \"Faroe Islands\", \"Finland\", \"France\", \"French Guiana\", \"Georgia\", \"Germany\", \"Gibraltar\", \"Greece\", \"Holy See\", \"Hong Kong\", \"Hungary\", \"Iceland\", \"India\", \"Indonesia\", \"Iran\", \"Iraq\", \"Ireland\", \"Israel\", \"Italy\", \"Japan\", \"Jordan\", \"Kuwait\", \"Latvia\", \"Lebanon\", \"Liechtenstein\", \"Lithuania\", \"Luxembourg\", \"Macau\", \"Malaysia\", \"Maldives\", \"Malta\", \"Martinique\", \"Mexico\", \"Moldova\", \"Monaco\", \"Mongolia\", \"Morocco\", \"Nepal\", \"Netherlands\", \"New Zealand\", \"Nigeria\", \"North Macedonia\", \"Norway\", \"Oman\", \"Others\", \"Pakistan\", \"Panama\", \"Paraguay\", \"Peru\", \"Philippines\", \"Poland\", \"Portugal\", \"Qatar\", \"Romania\", \"Russia\", \"Saint Barthelemy\", \"San Marino\", \"Saudi Arabia\", \"Senegal\", \"Serbia\", \"Singapore\", \"Slovakia\", \"Slovenia\", \"South Africa\", \"South Korea\", \"Spain\", \"Sri Lanka\", \"Sweden\", \"Switzerland\", \"Taiwan\", \"Thailand\", \"Togo\", \"Tunisia\", \"UK\", \"US\", \"Ukraine\", \"United Arab Emirates\", \"Vietnam\", \"occupied Palestinian territory\"], \"legendgroup\": \"\", \"locationmode\": \"country names\", \"locations\": [\"('St. Martin',)\", \"Afghanistan\", \"Albania\", \"Algeria\", \"Andorra\", \"Argentina\", \"Armenia\", \"Australia\", \"Austria\", \"Azerbaijan\", \"Bahrain\", \"Bangladesh\", \"Belarus\", \"Belgium\", \"Bhutan\", \"Bosnia and Herzegovina\", \"Brazil\", \"Brunei\", \"Bulgaria\", \"Burkina Faso\", \"Cambodia\", \"Cameroon\", \"Canada\", \"Channel Islands\", \"Chile\", \"China\", \"Colombia\", \"Costa Rica\", \"Croatia\", \"Cyprus\", \"Czech Republic\", \"Denmark\", \"Dominican Republic\", \"Ecuador\", \"Egypt\", \"Estonia\", \"Faroe Islands\", \"Finland\", \"France\", \"French Guiana\", \"Georgia\", \"Germany\", \"Gibraltar\", \"Greece\", \"Holy See\", \"Hong Kong\", \"Hungary\", \"Iceland\", \"India\", \"Indonesia\", \"Iran\", \"Iraq\", \"Ireland\", \"Israel\", \"Italy\", \"Japan\", \"Jordan\", \"Kuwait\", \"Latvia\", \"Lebanon\", \"Liechtenstein\", \"Lithuania\", \"Luxembourg\", \"Macau\", \"Malaysia\", \"Maldives\", \"Malta\", \"Martinique\", \"Mexico\", \"Moldova\", \"Monaco\", \"Mongolia\", \"Morocco\", \"Nepal\", \"Netherlands\", \"New Zealand\", \"Nigeria\", \"North Macedonia\", \"Norway\", \"Oman\", \"Others\", \"Pakistan\", \"Panama\", \"Paraguay\", \"Peru\", \"Philippines\", \"Poland\", \"Portugal\", \"Qatar\", \"Romania\", \"Russia\", \"Saint Barthelemy\", \"San Marino\", \"Saudi Arabia\", \"Senegal\", \"Serbia\", \"Singapore\", \"Slovakia\", \"Slovenia\", \"South Africa\", \"South Korea\", \"Spain\", \"Sri Lanka\", \"Sweden\", \"Switzerland\", \"Taiwan\", \"Thailand\", \"Togo\", \"Tunisia\", \"UK\", \"US\", \"Ukraine\", \"United Arab Emirates\", \"Vietnam\", \"occupied Palestinian territory\"], \"marker\": {\"color\": [2, 5, 10, 20, 1, 17, 1, 55, 182, 11, 110, 3, 9, 267, 1, 5, 31, 1, 4, 1, 2, 2, 36, 1, 13, 67760, 3, 9, 14, 3, 41, 262, 5, 15, 59, 12, 2, 40, 1784, 5, 15, 1457, 1, 89, 1, 120, 9, 69, 56, 27, 8042, 71, 34, 58, 10149, 581, 1, 69, 8, 41, 1, 1, 5, 10, 129, 6, 5, 2, 7, 3, 1, 1, 3, 1, 382, 5, 2, 7, 400, 18, 696, 16, 1, 1, 11, 33, 22, 41, 24, 25, 10, 1, 51, 20, 4, 5, 160, 7, 31, 7, 7513, 1695, 1, 355, 491, 47, 53, 1, 5, 382, 267, 1, 74, 31, 25], \"coloraxis\": \"coloraxis\", \"size\": [1.2311444133449163, 1.6206565966927624, 1.9952623149688795, 2.4564560522315806, 1.0, 2.3395626336814512, 1.0, 3.327429072706326, 4.764544816607805, 2.053136413658844, 4.096545713663848, 1.3903891703159093, 1.9331820449317627, 5.345069768970537, 1.0, 1.6206565966927624, 2.8016153494371836, 1.0, 1.515716566510398, 1.0, 1.2311444133449163, 1.2311444133449163, 2.930156051583521, 1.0, 2.1586538444215795, 28.137921856458068, 1.3903891703159093, 1.9331820449317627, 2.2071833466585673, 1.3903891703159093, 3.046738334899583, 5.314842355900356, 1.6206565966927624, 2.2533433808426553, 3.3982521746716885, 2.107435899344471, 1.2311444133449163, 3.0242521453322184, 9.449709439990395, 1.6206565966927624, 2.2533433808426553, 8.892786494448323, 1.0, 3.8442976132762077, 1.0, 4.204887431174572, 1.9331820449317627, 3.561678602815316, 3.345464363856254, 2.6878753795222865, 14.845991946667903, 3.592340583264959, 2.8803394661274377, 3.380869426401905, 15.919410283471617, 6.749208421073396, 1.0, 3.561678602815316, 1.8660659830736148, 3.046738334899583, 1.0, 1.0, 1.6206565966927624, 1.9952623149688795, 4.297114372689815, 1.711769859409705, 1.6206565966927624, 1.2311444133449163, 1.792789962520997, 1.3903891703159093, 1.0, 1.0, 1.3903891703159093, 1.0, 5.951398194250925, 1.6206565966927624, 1.2311444133449163, 1.792789962520997, 6.034176336545163, 2.3800262745964407, 7.124965600195525, 2.2973967099940698, 1.0, 1.0, 2.053136413658844, 2.854658634732502, 2.5277074255111027, 3.046738334899583, 2.594557933960465, 2.626527804403767, 1.9952623149688795, 1.0, 3.2529025491464565, 2.4564560522315806, 1.515716566510398, 1.6206565966927624, 4.583909077984655, 1.792789962520997, 2.8016153494371836, 1.792789962520997, 14.546014516601037, 9.305739924403124, 1.0, 5.821950463835482, 6.416887829060949, 3.174163968024659, 3.2906580963691905, 1.0, 1.6206565966927624, 5.951398194250925, 5.345069768970537, 1.0, 3.6372195430613803, 2.8016153494371836, 2.626527804403767], \"sizemode\": \"area\", \"sizeref\": 0.07034885314052819}, \"name\": \"\", \"showlegend\": false, \"type\": \"scattergeo\"}], \"name\": \"03/10/2020\"}, {\"data\": [{\"geo\": \"geo\", \"hoverlabel\": {\"namelength\": 0}, \"hovertemplate\": \"<b>%{hovertext}</b><br><br>ObservationDate=03/11/2020<br>size=%{marker.size}<br>Country/Region=%{location}<br>Confirmed=%{marker.color}\", \"hovertext\": [\"Afghanistan\", \"Albania\", \"Algeria\", \"Andorra\", \"Argentina\", \"Armenia\", \"Australia\", \"Austria\", \"Azerbaijan\", \"Bahrain\", \"Bangladesh\", \"Belarus\", \"Belgium\", \"Bhutan\", \"Bolivia\", \"Bosnia and Herzegovina\", \"Brazil\", \"Brunei\", \"Bulgaria\", \"Burkina Faso\", \"Cambodia\", \"Cameroon\", \"Canada\", \"Chile\", \"China\", \"Colombia\", \"Congo (Kinshasa)\", \"Costa Rica\", \"Croatia\", \"Cyprus\", \"Czech Republic\", \"Denmark\", \"Dominican Republic\", \"Ecuador\", \"Egypt\", \"Estonia\", \"Finland\", \"France\", \"French Guiana\", \"Georgia\", \"Germany\", \"Greece\", \"Holy See\", \"Honduras\", \"Hungary\", \"Iceland\", \"India\", \"Indonesia\", \"Iran\", \"Iraq\", \"Ireland\", \"Israel\", \"Italy\", \"Ivory Coast\", \"Jamaica\", \"Japan\", \"Jordan\", \"Kuwait\", \"Latvia\", \"Lebanon\", \"Liechtenstein\", \"Lithuania\", \"Luxembourg\", \"Malaysia\", \"Maldives\", \"Malta\", \"Martinique\", \"Mexico\", \"Moldova\", \"Monaco\", \"Mongolia\", \"Morocco\", \"Nepal\", \"Netherlands\", \"New Zealand\", \"Nigeria\", \"North Macedonia\", \"Norway\", \"Oman\", \"Others\", \"Pakistan\", \"Panama\", \"Paraguay\", \"Peru\", \"Philippines\", \"Poland\", \"Portugal\", \"Qatar\", \"Reunion\", \"Romania\", \"Russia\", \"San Marino\", \"Saudi Arabia\", \"Senegal\", \"Serbia\", \"Singapore\", \"Slovakia\", \"Slovenia\", \"South Africa\", \"South Korea\", \"Spain\", \"Sri Lanka\", \"Sweden\", \"Switzerland\", \"Taiwan\", \"Thailand\", \"Togo\", \"Tunisia\", \"Turkey\", \"UK\", \"US\", \"Ukraine\", \"United Arab Emirates\", \"Vietnam\", \"occupied Palestinian territory\"], \"legendgroup\": \"\", \"locationmode\": \"country names\", \"locations\": [\"Afghanistan\", \"Albania\", \"Algeria\", \"Andorra\", \"Argentina\", \"Armenia\", \"Australia\", \"Austria\", \"Azerbaijan\", \"Bahrain\", \"Bangladesh\", \"Belarus\", \"Belgium\", \"Bhutan\", \"Bolivia\", \"Bosnia and Herzegovina\", \"Brazil\", \"Brunei\", \"Bulgaria\", \"Burkina Faso\", \"Cambodia\", \"Cameroon\", \"Canada\", \"Chile\", \"China\", \"Colombia\", \"Congo (Kinshasa)\", \"Costa Rica\", \"Croatia\", \"Cyprus\", \"Czech Republic\", \"Denmark\", \"Dominican Republic\", \"Ecuador\", \"Egypt\", \"Estonia\", \"Finland\", \"France\", \"French Guiana\", \"Georgia\", \"Germany\", \"Greece\", \"Holy See\", \"Honduras\", \"Hungary\", \"Iceland\", \"India\", \"Indonesia\", \"Iran\", \"Iraq\", \"Ireland\", \"Israel\", \"Italy\", \"Ivory Coast\", \"Jamaica\", \"Japan\", \"Jordan\", \"Kuwait\", \"Latvia\", \"Lebanon\", \"Liechtenstein\", \"Lithuania\", \"Luxembourg\", \"Malaysia\", \"Maldives\", \"Malta\", \"Martinique\", \"Mexico\", \"Moldova\", \"Monaco\", \"Mongolia\", \"Morocco\", \"Nepal\", \"Netherlands\", \"New Zealand\", \"Nigeria\", \"North Macedonia\", \"Norway\", \"Oman\", \"Others\", \"Pakistan\", \"Panama\", \"Paraguay\", \"Peru\", \"Philippines\", \"Poland\", \"Portugal\", \"Qatar\", \"Reunion\", \"Romania\", \"Russia\", \"San Marino\", \"Saudi Arabia\", \"Senegal\", \"Serbia\", \"Singapore\", \"Slovakia\", \"Slovenia\", \"South Africa\", \"South Korea\", \"Spain\", \"Sri Lanka\", \"Sweden\", \"Switzerland\", \"Taiwan\", \"Thailand\", \"Togo\", \"Tunisia\", \"Turkey\", \"UK\", \"US\", \"Ukraine\", \"United Arab Emirates\", \"Vietnam\", \"occupied Palestinian territory\"], \"marker\": {\"color\": [7, 12, 20, 1, 19, 1, 65, 246, 11, 195, 3, 9, 314, 1, 2, 7, 38, 11, 7, 2, 3, 2, 41, 23, 67773, 9, 1, 13, 19, 6, 91, 442, 5, 17, 60, 16, 59, 2281, 5, 24, 1908, 99, 1, 2, 13, 85, 62, 34, 9000, 71, 43, 109, 12462, 1, 1, 639, 1, 72, 10, 61, 1, 3, 7, 149, 8, 6, 3, 8, 3, 1, 1, 5, 1, 503, 5, 2, 7, 598, 18, 696, 19, 8, 5, 11, 49, 31, 59, 262, 1, 45, 20, 62, 21, 4, 12, 178, 10, 57, 13, 7755, 2277, 2, 500, 652, 48, 59, 1, 7, 1, 456, 366, 1, 74, 38, 0], \"coloraxis\": \"coloraxis\", \"size\": [1.792789962520997, 2.107435899344471, 2.4564560522315806, 1.0, 2.4189454814875875, 1.0, 3.4984365929380252, 5.215314851189218, 2.053136413658844, 4.864188351857917, 1.3903891703159093, 1.9331820449317627, 5.6114990589420035, 1.0, 1.2311444133449163, 1.792789962520997, 2.978071215719372, 2.053136413658844, 1.792789962520997, 1.2311444133449163, 1.3903891703159093, 1.2311444133449163, 3.046738334899583, 2.5616415021458128, 28.139541256211277, 1.9331820449317627, 1.0, 2.1586538444215795, 2.4189454814875875, 1.711769859409705, 3.8700129448363705, 6.217655861795193, 1.6206565966927624, 2.3395626336814512, 3.4154298923797617, 2.2973967099940698, 3.3982521746716885, 10.172731587651263, 1.6206565966927624, 2.594557933960465, 9.642141734768494, 3.9690864506808694, 1.0, 1.2311444133449163, 2.1586538444215795, 3.791627615651737, 3.449193085800954, 2.8803394661274377, 15.355810811513235, 3.592340583264959, 3.0905838914967028, 4.085337583465575, 16.93075495577276, 1.0, 1.0, 6.944648314847515, 1.0, 3.6074452531358507, 1.9952623149688795, 3.432408355505487, 1.0, 1.3903891703159093, 1.792789962520997, 4.486998047212219, 1.8660659830736148, 1.711769859409705, 1.3903891703159093, 1.8660659830736148, 1.3903891703159093, 1.0, 1.0, 1.6206565966927624, 1.0, 6.463539325915487, 1.6206565966927624, 1.2311444133449163, 1.792789962520997, 6.8078559096201525, 2.3800262745964407, 7.124965600195525, 2.4189454814875875, 1.8660659830736148, 1.6206565966927624, 2.053136413658844, 3.2140958497160383, 2.8016153494371836, 3.3982521746716885, 5.314842355900356, 1.0, 3.1330242337266654, 2.4564560522315806, 3.449193085800954, 2.4926757485402593, 1.515716566510398, 2.107435899344471, 4.732885529820199, 1.9952623149688795, 3.3632756010449447, 2.1586538444215795, 14.685019942722393, 10.167376577668735, 1.2311444133449163, 6.4519501214821595, 6.986735120917621, 3.194275505495155, 3.3982521746716885, 1.0, 1.792789962520997, 1.0, 6.276094190811437, 5.875493168140324, 1.0, 3.6372195430613803, 2.978071215719372, 0.0], \"sizemode\": \"area\", \"sizeref\": 0.07034885314052819}, \"name\": \"\", \"showlegend\": false, \"type\": \"scattergeo\"}], \"name\": \"03/11/2020\"}]);\n",
       "                        }).then(function(){\n",
       "                            \n",
       "var gd = document.getElementById('0b836725-5ded-4ce7-b381-11d70668c900');\n",
       "var x = new MutationObserver(function (mutations, observer) {{\n",
       "        var display = window.getComputedStyle(gd).display;\n",
       "        if (!display || display === 'none') {{\n",
       "            console.log([gd, 'removed!']);\n",
       "            Plotly.purge(gd);\n",
       "            observer.disconnect();\n",
       "        }}\n",
       "}});\n",
       "\n",
       "// Listen for the removal of the full notebook cells\n",
       "var notebookContainer = gd.closest('#notebook-container');\n",
       "if (notebookContainer) {{\n",
       "    x.observe(notebookContainer, {childList: true});\n",
       "}}\n",
       "\n",
       "// Listen for the clearing of the current output cell\n",
       "var outputEl = gd.closest('.output');\n",
       "if (outputEl) {{\n",
       "    x.observe(outputEl, {childList: true});\n",
       "}}\n",
       "\n",
       "                        })\n",
       "                };\n",
       "                });\n",
       "            </script>\n",
       "        </div>"
      ]
     },
     "metadata": {},
     "output_type": "display_data"
    }
   ],
   "source": [
    "formated_gdf = full_table.groupby(['ObservationDate', 'Country/Region'])['Confirmed', 'Deaths', 'Recovered'].max()\n",
    "formated_gdf = formated_gdf.reset_index()\n",
    "formated_gdf['ObservationDate'] = pd.to_datetime(formated_gdf['ObservationDate'])\n",
    "formated_gdf['ObservationDate'] = formated_gdf['ObservationDate'].dt.strftime('%m/%d/%Y')\n",
    "formated_gdf['size'] = formated_gdf['Confirmed'].pow(0.3)\n",
    "\n",
    "fig = px.scatter_geo(formated_gdf, locations=\"Country/Region\", locationmode='country names', \n",
    "                     color=\"Confirmed\", size='size', hover_name=\"Country/Region\", \n",
    "                     range_color= [0, max(formated_gdf['Confirmed'])+2], \n",
    "                     projection=\"natural earth\", animation_frame=\"ObservationDate\", \n",
    "                     title='Spread over time')\n",
    "fig.update(layout_coloraxis_showscale=False)\n",
    "fig.show()"
   ]
  },
  {
   "cell_type": "code",
   "execution_count": 15,
   "metadata": {},
   "outputs": [
    {
     "data": {
      "application/vnd.plotly.v1+json": {
       "config": {
        "plotlyServerURL": "https://plot.ly"
       },
       "data": [
        {
         "coloraxis": "coloraxis",
         "geo": "geo",
         "hoverlabel": {
          "namelength": 0
         },
         "hovertemplate": "<b>%{hovertext}</b><br><br>Country/Region=%{location}<br>Confirmed=%{z}",
         "hovertext": [
          "Afghanistan",
          "Albania",
          "Algeria",
          "Andorra",
          "Argentina",
          "Armenia",
          "Australia",
          "Austria",
          "Azerbaijan",
          "Bahrain",
          "Bangladesh",
          "Belarus",
          "Belgium",
          "Bhutan",
          "Bolivia",
          "Bosnia and Herzegovina",
          "Brazil",
          "Brunei",
          "Bulgaria",
          "Burkina Faso",
          "Cambodia",
          "Cameroon",
          "Canada",
          "Chile",
          "China",
          "Colombia",
          "Congo (Kinshasa)",
          "Costa Rica",
          "Croatia",
          "Cyprus",
          "Czech Republic",
          "Denmark",
          "Dominican Republic",
          "Ecuador",
          "Egypt",
          "Estonia",
          "Finland",
          "France",
          "French Guiana",
          "Georgia",
          "Germany",
          "Greece",
          "Holy See",
          "Honduras",
          "Hungary",
          "Iceland",
          "India",
          "Indonesia",
          "Iran",
          "Iraq",
          "Ireland",
          "Israel",
          "Italy",
          "Ivory Coast",
          "Jamaica",
          "Japan",
          "Jordan",
          "Kuwait",
          "Latvia",
          "Lebanon",
          "Liechtenstein",
          "Lithuania",
          "Luxembourg",
          "Malaysia",
          "Maldives",
          "Malta",
          "Martinique",
          "Mexico",
          "Moldova",
          "Monaco",
          "Mongolia",
          "Morocco",
          "Nepal",
          "Netherlands",
          "New Zealand",
          "Nigeria",
          "North Macedonia",
          "Norway",
          "Oman",
          "Others",
          "Pakistan",
          "Panama",
          "Paraguay",
          "Peru",
          "Philippines",
          "Poland",
          "Portugal",
          "Qatar",
          "Reunion",
          "Romania",
          "Russia",
          "San Marino",
          "Saudi Arabia",
          "Senegal",
          "Serbia",
          "Singapore",
          "Slovakia",
          "Slovenia",
          "South Africa",
          "South Korea",
          "Spain",
          "Sri Lanka",
          "Sweden",
          "Switzerland",
          "Taiwan",
          "Thailand",
          "Togo",
          "Tunisia",
          "Turkey",
          "UK",
          "US",
          "Ukraine",
          "United Arab Emirates",
          "Vietnam",
          "occupied Palestinian territory"
         ],
         "locationmode": "country names",
         "locations": [
          "Afghanistan",
          "Albania",
          "Algeria",
          "Andorra",
          "Argentina",
          "Armenia",
          "Australia",
          "Austria",
          "Azerbaijan",
          "Bahrain",
          "Bangladesh",
          "Belarus",
          "Belgium",
          "Bhutan",
          "Bolivia",
          "Bosnia and Herzegovina",
          "Brazil",
          "Brunei",
          "Bulgaria",
          "Burkina Faso",
          "Cambodia",
          "Cameroon",
          "Canada",
          "Chile",
          "China",
          "Colombia",
          "Congo (Kinshasa)",
          "Costa Rica",
          "Croatia",
          "Cyprus",
          "Czech Republic",
          "Denmark",
          "Dominican Republic",
          "Ecuador",
          "Egypt",
          "Estonia",
          "Finland",
          "France",
          "French Guiana",
          "Georgia",
          "Germany",
          "Greece",
          "Holy See",
          "Honduras",
          "Hungary",
          "Iceland",
          "India",
          "Indonesia",
          "Iran",
          "Iraq",
          "Ireland",
          "Israel",
          "Italy",
          "Ivory Coast",
          "Jamaica",
          "Japan",
          "Jordan",
          "Kuwait",
          "Latvia",
          "Lebanon",
          "Liechtenstein",
          "Lithuania",
          "Luxembourg",
          "Malaysia",
          "Maldives",
          "Malta",
          "Martinique",
          "Mexico",
          "Moldova",
          "Monaco",
          "Mongolia",
          "Morocco",
          "Nepal",
          "Netherlands",
          "New Zealand",
          "Nigeria",
          "North Macedonia",
          "Norway",
          "Oman",
          "Others",
          "Pakistan",
          "Panama",
          "Paraguay",
          "Peru",
          "Philippines",
          "Poland",
          "Portugal",
          "Qatar",
          "Reunion",
          "Romania",
          "Russia",
          "San Marino",
          "Saudi Arabia",
          "Senegal",
          "Serbia",
          "Singapore",
          "Slovakia",
          "Slovenia",
          "South Africa",
          "South Korea",
          "Spain",
          "Sri Lanka",
          "Sweden",
          "Switzerland",
          "Taiwan",
          "Thailand",
          "Togo",
          "Tunisia",
          "Turkey",
          "UK",
          "US",
          "Ukraine",
          "United Arab Emirates",
          "Vietnam",
          "occupied Palestinian territory"
         ],
         "name": "",
         "type": "choropleth",
         "z": [
          7,
          12,
          20,
          1,
          19,
          1,
          128,
          246,
          11,
          195,
          3,
          9,
          314,
          1,
          2,
          7,
          38,
          11,
          7,
          2,
          3,
          2,
          108,
          23,
          80921,
          9,
          1,
          13,
          19,
          6,
          91,
          444,
          5,
          17,
          60,
          16,
          59,
          2284,
          5,
          24,
          1908,
          99,
          1,
          2,
          13,
          85,
          62,
          34,
          9000,
          71,
          43,
          109,
          12462,
          1,
          1,
          639,
          1,
          72,
          10,
          61,
          1,
          3,
          7,
          149,
          8,
          6,
          3,
          8,
          3,
          1,
          1,
          5,
          1,
          503,
          5,
          2,
          7,
          598,
          18,
          696,
          19,
          8,
          5,
          11,
          49,
          31,
          59,
          262,
          1,
          45,
          20,
          62,
          21,
          4,
          12,
          178,
          10,
          57,
          13,
          7755,
          2277,
          2,
          500,
          652,
          48,
          59,
          1,
          7,
          1,
          459,
          1281,
          1,
          74,
          38,
          0
         ]
        }
       ],
       "layout": {
        "coloraxis": {
         "cmax": 7000,
         "cmin": 1,
         "colorbar": {
          "title": {
           "text": "Confirmed"
          }
         },
         "colorscale": [
          [
           0,
           "rgb(36, 86, 104)"
          ],
          [
           0.16666666666666666,
           "rgb(15, 114, 121)"
          ],
          [
           0.3333333333333333,
           "rgb(13, 143, 129)"
          ],
          [
           0.5,
           "rgb(57, 171, 126)"
          ],
          [
           0.6666666666666666,
           "rgb(110, 197, 116)"
          ],
          [
           0.8333333333333334,
           "rgb(169, 220, 103)"
          ],
          [
           1,
           "rgb(237, 239, 93)"
          ]
         ],
         "showscale": false
        },
        "geo": {
         "center": {},
         "domain": {
          "x": [
           0,
           1
          ],
          "y": [
           0,
           1
          ]
         }
        },
        "legend": {
         "tracegroupgap": 0
        },
        "template": {
         "data": {
          "bar": [
           {
            "error_x": {
             "color": "#2a3f5f"
            },
            "error_y": {
             "color": "#2a3f5f"
            },
            "marker": {
             "line": {
              "color": "#E5ECF6",
              "width": 0.5
             }
            },
            "type": "bar"
           }
          ],
          "barpolar": [
           {
            "marker": {
             "line": {
              "color": "#E5ECF6",
              "width": 0.5
             }
            },
            "type": "barpolar"
           }
          ],
          "carpet": [
           {
            "aaxis": {
             "endlinecolor": "#2a3f5f",
             "gridcolor": "white",
             "linecolor": "white",
             "minorgridcolor": "white",
             "startlinecolor": "#2a3f5f"
            },
            "baxis": {
             "endlinecolor": "#2a3f5f",
             "gridcolor": "white",
             "linecolor": "white",
             "minorgridcolor": "white",
             "startlinecolor": "#2a3f5f"
            },
            "type": "carpet"
           }
          ],
          "choropleth": [
           {
            "colorbar": {
             "outlinewidth": 0,
             "ticks": ""
            },
            "type": "choropleth"
           }
          ],
          "contour": [
           {
            "colorbar": {
             "outlinewidth": 0,
             "ticks": ""
            },
            "colorscale": [
             [
              0,
              "#0d0887"
             ],
             [
              0.1111111111111111,
              "#46039f"
             ],
             [
              0.2222222222222222,
              "#7201a8"
             ],
             [
              0.3333333333333333,
              "#9c179e"
             ],
             [
              0.4444444444444444,
              "#bd3786"
             ],
             [
              0.5555555555555556,
              "#d8576b"
             ],
             [
              0.6666666666666666,
              "#ed7953"
             ],
             [
              0.7777777777777778,
              "#fb9f3a"
             ],
             [
              0.8888888888888888,
              "#fdca26"
             ],
             [
              1,
              "#f0f921"
             ]
            ],
            "type": "contour"
           }
          ],
          "contourcarpet": [
           {
            "colorbar": {
             "outlinewidth": 0,
             "ticks": ""
            },
            "type": "contourcarpet"
           }
          ],
          "heatmap": [
           {
            "colorbar": {
             "outlinewidth": 0,
             "ticks": ""
            },
            "colorscale": [
             [
              0,
              "#0d0887"
             ],
             [
              0.1111111111111111,
              "#46039f"
             ],
             [
              0.2222222222222222,
              "#7201a8"
             ],
             [
              0.3333333333333333,
              "#9c179e"
             ],
             [
              0.4444444444444444,
              "#bd3786"
             ],
             [
              0.5555555555555556,
              "#d8576b"
             ],
             [
              0.6666666666666666,
              "#ed7953"
             ],
             [
              0.7777777777777778,
              "#fb9f3a"
             ],
             [
              0.8888888888888888,
              "#fdca26"
             ],
             [
              1,
              "#f0f921"
             ]
            ],
            "type": "heatmap"
           }
          ],
          "heatmapgl": [
           {
            "colorbar": {
             "outlinewidth": 0,
             "ticks": ""
            },
            "colorscale": [
             [
              0,
              "#0d0887"
             ],
             [
              0.1111111111111111,
              "#46039f"
             ],
             [
              0.2222222222222222,
              "#7201a8"
             ],
             [
              0.3333333333333333,
              "#9c179e"
             ],
             [
              0.4444444444444444,
              "#bd3786"
             ],
             [
              0.5555555555555556,
              "#d8576b"
             ],
             [
              0.6666666666666666,
              "#ed7953"
             ],
             [
              0.7777777777777778,
              "#fb9f3a"
             ],
             [
              0.8888888888888888,
              "#fdca26"
             ],
             [
              1,
              "#f0f921"
             ]
            ],
            "type": "heatmapgl"
           }
          ],
          "histogram": [
           {
            "marker": {
             "colorbar": {
              "outlinewidth": 0,
              "ticks": ""
             }
            },
            "type": "histogram"
           }
          ],
          "histogram2d": [
           {
            "colorbar": {
             "outlinewidth": 0,
             "ticks": ""
            },
            "colorscale": [
             [
              0,
              "#0d0887"
             ],
             [
              0.1111111111111111,
              "#46039f"
             ],
             [
              0.2222222222222222,
              "#7201a8"
             ],
             [
              0.3333333333333333,
              "#9c179e"
             ],
             [
              0.4444444444444444,
              "#bd3786"
             ],
             [
              0.5555555555555556,
              "#d8576b"
             ],
             [
              0.6666666666666666,
              "#ed7953"
             ],
             [
              0.7777777777777778,
              "#fb9f3a"
             ],
             [
              0.8888888888888888,
              "#fdca26"
             ],
             [
              1,
              "#f0f921"
             ]
            ],
            "type": "histogram2d"
           }
          ],
          "histogram2dcontour": [
           {
            "colorbar": {
             "outlinewidth": 0,
             "ticks": ""
            },
            "colorscale": [
             [
              0,
              "#0d0887"
             ],
             [
              0.1111111111111111,
              "#46039f"
             ],
             [
              0.2222222222222222,
              "#7201a8"
             ],
             [
              0.3333333333333333,
              "#9c179e"
             ],
             [
              0.4444444444444444,
              "#bd3786"
             ],
             [
              0.5555555555555556,
              "#d8576b"
             ],
             [
              0.6666666666666666,
              "#ed7953"
             ],
             [
              0.7777777777777778,
              "#fb9f3a"
             ],
             [
              0.8888888888888888,
              "#fdca26"
             ],
             [
              1,
              "#f0f921"
             ]
            ],
            "type": "histogram2dcontour"
           }
          ],
          "mesh3d": [
           {
            "colorbar": {
             "outlinewidth": 0,
             "ticks": ""
            },
            "type": "mesh3d"
           }
          ],
          "parcoords": [
           {
            "line": {
             "colorbar": {
              "outlinewidth": 0,
              "ticks": ""
             }
            },
            "type": "parcoords"
           }
          ],
          "pie": [
           {
            "automargin": true,
            "type": "pie"
           }
          ],
          "scatter": [
           {
            "marker": {
             "colorbar": {
              "outlinewidth": 0,
              "ticks": ""
             }
            },
            "type": "scatter"
           }
          ],
          "scatter3d": [
           {
            "line": {
             "colorbar": {
              "outlinewidth": 0,
              "ticks": ""
             }
            },
            "marker": {
             "colorbar": {
              "outlinewidth": 0,
              "ticks": ""
             }
            },
            "type": "scatter3d"
           }
          ],
          "scattercarpet": [
           {
            "marker": {
             "colorbar": {
              "outlinewidth": 0,
              "ticks": ""
             }
            },
            "type": "scattercarpet"
           }
          ],
          "scattergeo": [
           {
            "marker": {
             "colorbar": {
              "outlinewidth": 0,
              "ticks": ""
             }
            },
            "type": "scattergeo"
           }
          ],
          "scattergl": [
           {
            "marker": {
             "colorbar": {
              "outlinewidth": 0,
              "ticks": ""
             }
            },
            "type": "scattergl"
           }
          ],
          "scattermapbox": [
           {
            "marker": {
             "colorbar": {
              "outlinewidth": 0,
              "ticks": ""
             }
            },
            "type": "scattermapbox"
           }
          ],
          "scatterpolar": [
           {
            "marker": {
             "colorbar": {
              "outlinewidth": 0,
              "ticks": ""
             }
            },
            "type": "scatterpolar"
           }
          ],
          "scatterpolargl": [
           {
            "marker": {
             "colorbar": {
              "outlinewidth": 0,
              "ticks": ""
             }
            },
            "type": "scatterpolargl"
           }
          ],
          "scatterternary": [
           {
            "marker": {
             "colorbar": {
              "outlinewidth": 0,
              "ticks": ""
             }
            },
            "type": "scatterternary"
           }
          ],
          "surface": [
           {
            "colorbar": {
             "outlinewidth": 0,
             "ticks": ""
            },
            "colorscale": [
             [
              0,
              "#0d0887"
             ],
             [
              0.1111111111111111,
              "#46039f"
             ],
             [
              0.2222222222222222,
              "#7201a8"
             ],
             [
              0.3333333333333333,
              "#9c179e"
             ],
             [
              0.4444444444444444,
              "#bd3786"
             ],
             [
              0.5555555555555556,
              "#d8576b"
             ],
             [
              0.6666666666666666,
              "#ed7953"
             ],
             [
              0.7777777777777778,
              "#fb9f3a"
             ],
             [
              0.8888888888888888,
              "#fdca26"
             ],
             [
              1,
              "#f0f921"
             ]
            ],
            "type": "surface"
           }
          ],
          "table": [
           {
            "cells": {
             "fill": {
              "color": "#EBF0F8"
             },
             "line": {
              "color": "white"
             }
            },
            "header": {
             "fill": {
              "color": "#C8D4E3"
             },
             "line": {
              "color": "white"
             }
            },
            "type": "table"
           }
          ]
         },
         "layout": {
          "annotationdefaults": {
           "arrowcolor": "#2a3f5f",
           "arrowhead": 0,
           "arrowwidth": 1
          },
          "coloraxis": {
           "colorbar": {
            "outlinewidth": 0,
            "ticks": ""
           }
          },
          "colorscale": {
           "diverging": [
            [
             0,
             "#8e0152"
            ],
            [
             0.1,
             "#c51b7d"
            ],
            [
             0.2,
             "#de77ae"
            ],
            [
             0.3,
             "#f1b6da"
            ],
            [
             0.4,
             "#fde0ef"
            ],
            [
             0.5,
             "#f7f7f7"
            ],
            [
             0.6,
             "#e6f5d0"
            ],
            [
             0.7,
             "#b8e186"
            ],
            [
             0.8,
             "#7fbc41"
            ],
            [
             0.9,
             "#4d9221"
            ],
            [
             1,
             "#276419"
            ]
           ],
           "sequential": [
            [
             0,
             "#0d0887"
            ],
            [
             0.1111111111111111,
             "#46039f"
            ],
            [
             0.2222222222222222,
             "#7201a8"
            ],
            [
             0.3333333333333333,
             "#9c179e"
            ],
            [
             0.4444444444444444,
             "#bd3786"
            ],
            [
             0.5555555555555556,
             "#d8576b"
            ],
            [
             0.6666666666666666,
             "#ed7953"
            ],
            [
             0.7777777777777778,
             "#fb9f3a"
            ],
            [
             0.8888888888888888,
             "#fdca26"
            ],
            [
             1,
             "#f0f921"
            ]
           ],
           "sequentialminus": [
            [
             0,
             "#0d0887"
            ],
            [
             0.1111111111111111,
             "#46039f"
            ],
            [
             0.2222222222222222,
             "#7201a8"
            ],
            [
             0.3333333333333333,
             "#9c179e"
            ],
            [
             0.4444444444444444,
             "#bd3786"
            ],
            [
             0.5555555555555556,
             "#d8576b"
            ],
            [
             0.6666666666666666,
             "#ed7953"
            ],
            [
             0.7777777777777778,
             "#fb9f3a"
            ],
            [
             0.8888888888888888,
             "#fdca26"
            ],
            [
             1,
             "#f0f921"
            ]
           ]
          },
          "colorway": [
           "#636efa",
           "#EF553B",
           "#00cc96",
           "#ab63fa",
           "#FFA15A",
           "#19d3f3",
           "#FF6692",
           "#B6E880",
           "#FF97FF",
           "#FECB52"
          ],
          "font": {
           "color": "#2a3f5f"
          },
          "geo": {
           "bgcolor": "white",
           "lakecolor": "white",
           "landcolor": "#E5ECF6",
           "showlakes": true,
           "showland": true,
           "subunitcolor": "white"
          },
          "hoverlabel": {
           "align": "left"
          },
          "hovermode": "closest",
          "mapbox": {
           "style": "light"
          },
          "paper_bgcolor": "white",
          "plot_bgcolor": "#E5ECF6",
          "polar": {
           "angularaxis": {
            "gridcolor": "white",
            "linecolor": "white",
            "ticks": ""
           },
           "bgcolor": "#E5ECF6",
           "radialaxis": {
            "gridcolor": "white",
            "linecolor": "white",
            "ticks": ""
           }
          },
          "scene": {
           "xaxis": {
            "backgroundcolor": "#E5ECF6",
            "gridcolor": "white",
            "gridwidth": 2,
            "linecolor": "white",
            "showbackground": true,
            "ticks": "",
            "zerolinecolor": "white"
           },
           "yaxis": {
            "backgroundcolor": "#E5ECF6",
            "gridcolor": "white",
            "gridwidth": 2,
            "linecolor": "white",
            "showbackground": true,
            "ticks": "",
            "zerolinecolor": "white"
           },
           "zaxis": {
            "backgroundcolor": "#E5ECF6",
            "gridcolor": "white",
            "gridwidth": 2,
            "linecolor": "white",
            "showbackground": true,
            "ticks": "",
            "zerolinecolor": "white"
           }
          },
          "shapedefaults": {
           "line": {
            "color": "#2a3f5f"
           }
          },
          "ternary": {
           "aaxis": {
            "gridcolor": "white",
            "linecolor": "white",
            "ticks": ""
           },
           "baxis": {
            "gridcolor": "white",
            "linecolor": "white",
            "ticks": ""
           },
           "bgcolor": "#E5ECF6",
           "caxis": {
            "gridcolor": "white",
            "linecolor": "white",
            "ticks": ""
           }
          },
          "title": {
           "x": 0.05
          },
          "xaxis": {
           "automargin": true,
           "gridcolor": "white",
           "linecolor": "white",
           "ticks": "",
           "title": {
            "standoff": 15
           },
           "zerolinecolor": "white",
           "zerolinewidth": 2
          },
          "yaxis": {
           "automargin": true,
           "gridcolor": "white",
           "linecolor": "white",
           "ticks": "",
           "title": {
            "standoff": 15
           },
           "zerolinecolor": "white",
           "zerolinewidth": 2
          }
         }
        },
        "title": {
         "text": "Countries with Confirmed Cases"
        }
       }
      },
      "text/html": [
       "<div>\n",
       "        \n",
       "        \n",
       "            <div id=\"dfca1ac6-95f3-4219-9063-ded0f452844b\" class=\"plotly-graph-div\" style=\"height:525px; width:100%;\"></div>\n",
       "            <script type=\"text/javascript\">\n",
       "                require([\"plotly\"], function(Plotly) {\n",
       "                    window.PLOTLYENV=window.PLOTLYENV || {};\n",
       "                    \n",
       "                if (document.getElementById(\"dfca1ac6-95f3-4219-9063-ded0f452844b\")) {\n",
       "                    Plotly.newPlot(\n",
       "                        'dfca1ac6-95f3-4219-9063-ded0f452844b',\n",
       "                        [{\"coloraxis\": \"coloraxis\", \"geo\": \"geo\", \"hoverlabel\": {\"namelength\": 0}, \"hovertemplate\": \"<b>%{hovertext}</b><br><br>Country/Region=%{location}<br>Confirmed=%{z}\", \"hovertext\": [\"Afghanistan\", \"Albania\", \"Algeria\", \"Andorra\", \"Argentina\", \"Armenia\", \"Australia\", \"Austria\", \"Azerbaijan\", \"Bahrain\", \"Bangladesh\", \"Belarus\", \"Belgium\", \"Bhutan\", \"Bolivia\", \"Bosnia and Herzegovina\", \"Brazil\", \"Brunei\", \"Bulgaria\", \"Burkina Faso\", \"Cambodia\", \"Cameroon\", \"Canada\", \"Chile\", \"China\", \"Colombia\", \"Congo (Kinshasa)\", \"Costa Rica\", \"Croatia\", \"Cyprus\", \"Czech Republic\", \"Denmark\", \"Dominican Republic\", \"Ecuador\", \"Egypt\", \"Estonia\", \"Finland\", \"France\", \"French Guiana\", \"Georgia\", \"Germany\", \"Greece\", \"Holy See\", \"Honduras\", \"Hungary\", \"Iceland\", \"India\", \"Indonesia\", \"Iran\", \"Iraq\", \"Ireland\", \"Israel\", \"Italy\", \"Ivory Coast\", \"Jamaica\", \"Japan\", \"Jordan\", \"Kuwait\", \"Latvia\", \"Lebanon\", \"Liechtenstein\", \"Lithuania\", \"Luxembourg\", \"Malaysia\", \"Maldives\", \"Malta\", \"Martinique\", \"Mexico\", \"Moldova\", \"Monaco\", \"Mongolia\", \"Morocco\", \"Nepal\", \"Netherlands\", \"New Zealand\", \"Nigeria\", \"North Macedonia\", \"Norway\", \"Oman\", \"Others\", \"Pakistan\", \"Panama\", \"Paraguay\", \"Peru\", \"Philippines\", \"Poland\", \"Portugal\", \"Qatar\", \"Reunion\", \"Romania\", \"Russia\", \"San Marino\", \"Saudi Arabia\", \"Senegal\", \"Serbia\", \"Singapore\", \"Slovakia\", \"Slovenia\", \"South Africa\", \"South Korea\", \"Spain\", \"Sri Lanka\", \"Sweden\", \"Switzerland\", \"Taiwan\", \"Thailand\", \"Togo\", \"Tunisia\", \"Turkey\", \"UK\", \"US\", \"Ukraine\", \"United Arab Emirates\", \"Vietnam\", \"occupied Palestinian territory\"], \"locationmode\": \"country names\", \"locations\": [\"Afghanistan\", \"Albania\", \"Algeria\", \"Andorra\", \"Argentina\", \"Armenia\", \"Australia\", \"Austria\", \"Azerbaijan\", \"Bahrain\", \"Bangladesh\", \"Belarus\", \"Belgium\", \"Bhutan\", \"Bolivia\", \"Bosnia and Herzegovina\", \"Brazil\", \"Brunei\", \"Bulgaria\", \"Burkina Faso\", \"Cambodia\", \"Cameroon\", \"Canada\", \"Chile\", \"China\", \"Colombia\", \"Congo (Kinshasa)\", \"Costa Rica\", \"Croatia\", \"Cyprus\", \"Czech Republic\", \"Denmark\", \"Dominican Republic\", \"Ecuador\", \"Egypt\", \"Estonia\", \"Finland\", \"France\", \"French Guiana\", \"Georgia\", \"Germany\", \"Greece\", \"Holy See\", \"Honduras\", \"Hungary\", \"Iceland\", \"India\", \"Indonesia\", \"Iran\", \"Iraq\", \"Ireland\", \"Israel\", \"Italy\", \"Ivory Coast\", \"Jamaica\", \"Japan\", \"Jordan\", \"Kuwait\", \"Latvia\", \"Lebanon\", \"Liechtenstein\", \"Lithuania\", \"Luxembourg\", \"Malaysia\", \"Maldives\", \"Malta\", \"Martinique\", \"Mexico\", \"Moldova\", \"Monaco\", \"Mongolia\", \"Morocco\", \"Nepal\", \"Netherlands\", \"New Zealand\", \"Nigeria\", \"North Macedonia\", \"Norway\", \"Oman\", \"Others\", \"Pakistan\", \"Panama\", \"Paraguay\", \"Peru\", \"Philippines\", \"Poland\", \"Portugal\", \"Qatar\", \"Reunion\", \"Romania\", \"Russia\", \"San Marino\", \"Saudi Arabia\", \"Senegal\", \"Serbia\", \"Singapore\", \"Slovakia\", \"Slovenia\", \"South Africa\", \"South Korea\", \"Spain\", \"Sri Lanka\", \"Sweden\", \"Switzerland\", \"Taiwan\", \"Thailand\", \"Togo\", \"Tunisia\", \"Turkey\", \"UK\", \"US\", \"Ukraine\", \"United Arab Emirates\", \"Vietnam\", \"occupied Palestinian territory\"], \"name\": \"\", \"type\": \"choropleth\", \"z\": [7, 12, 20, 1, 19, 1, 128, 246, 11, 195, 3, 9, 314, 1, 2, 7, 38, 11, 7, 2, 3, 2, 108, 23, 80921, 9, 1, 13, 19, 6, 91, 444, 5, 17, 60, 16, 59, 2284, 5, 24, 1908, 99, 1, 2, 13, 85, 62, 34, 9000, 71, 43, 109, 12462, 1, 1, 639, 1, 72, 10, 61, 1, 3, 7, 149, 8, 6, 3, 8, 3, 1, 1, 5, 1, 503, 5, 2, 7, 598, 18, 696, 19, 8, 5, 11, 49, 31, 59, 262, 1, 45, 20, 62, 21, 4, 12, 178, 10, 57, 13, 7755, 2277, 2, 500, 652, 48, 59, 1, 7, 1, 459, 1281, 1, 74, 38, 0]}],\n",
       "                        {\"coloraxis\": {\"cmax\": 7000, \"cmin\": 1, \"colorbar\": {\"title\": {\"text\": \"Confirmed\"}}, \"colorscale\": [[0.0, \"rgb(36, 86, 104)\"], [0.16666666666666666, \"rgb(15, 114, 121)\"], [0.3333333333333333, \"rgb(13, 143, 129)\"], [0.5, \"rgb(57, 171, 126)\"], [0.6666666666666666, \"rgb(110, 197, 116)\"], [0.8333333333333334, \"rgb(169, 220, 103)\"], [1.0, \"rgb(237, 239, 93)\"]], \"showscale\": false}, \"geo\": {\"center\": {}, \"domain\": {\"x\": [0.0, 1.0], \"y\": [0.0, 1.0]}}, \"legend\": {\"tracegroupgap\": 0}, \"template\": {\"data\": {\"bar\": [{\"error_x\": {\"color\": \"#2a3f5f\"}, \"error_y\": {\"color\": \"#2a3f5f\"}, \"marker\": {\"line\": {\"color\": \"#E5ECF6\", \"width\": 0.5}}, \"type\": \"bar\"}], \"barpolar\": [{\"marker\": {\"line\": {\"color\": \"#E5ECF6\", \"width\": 0.5}}, \"type\": \"barpolar\"}], \"carpet\": [{\"aaxis\": {\"endlinecolor\": \"#2a3f5f\", \"gridcolor\": \"white\", \"linecolor\": \"white\", \"minorgridcolor\": \"white\", \"startlinecolor\": \"#2a3f5f\"}, \"baxis\": {\"endlinecolor\": \"#2a3f5f\", \"gridcolor\": \"white\", \"linecolor\": \"white\", \"minorgridcolor\": \"white\", \"startlinecolor\": \"#2a3f5f\"}, \"type\": \"carpet\"}], \"choropleth\": [{\"colorbar\": {\"outlinewidth\": 0, \"ticks\": \"\"}, \"type\": \"choropleth\"}], \"contour\": [{\"colorbar\": {\"outlinewidth\": 0, \"ticks\": \"\"}, \"colorscale\": [[0.0, \"#0d0887\"], [0.1111111111111111, \"#46039f\"], [0.2222222222222222, \"#7201a8\"], [0.3333333333333333, \"#9c179e\"], [0.4444444444444444, \"#bd3786\"], [0.5555555555555556, \"#d8576b\"], [0.6666666666666666, \"#ed7953\"], [0.7777777777777778, \"#fb9f3a\"], [0.8888888888888888, \"#fdca26\"], [1.0, \"#f0f921\"]], \"type\": \"contour\"}], \"contourcarpet\": [{\"colorbar\": {\"outlinewidth\": 0, \"ticks\": \"\"}, \"type\": \"contourcarpet\"}], \"heatmap\": [{\"colorbar\": {\"outlinewidth\": 0, \"ticks\": \"\"}, \"colorscale\": [[0.0, \"#0d0887\"], [0.1111111111111111, \"#46039f\"], [0.2222222222222222, \"#7201a8\"], [0.3333333333333333, \"#9c179e\"], [0.4444444444444444, \"#bd3786\"], [0.5555555555555556, \"#d8576b\"], [0.6666666666666666, \"#ed7953\"], [0.7777777777777778, \"#fb9f3a\"], [0.8888888888888888, \"#fdca26\"], [1.0, \"#f0f921\"]], \"type\": \"heatmap\"}], \"heatmapgl\": [{\"colorbar\": {\"outlinewidth\": 0, \"ticks\": \"\"}, \"colorscale\": [[0.0, \"#0d0887\"], [0.1111111111111111, \"#46039f\"], [0.2222222222222222, \"#7201a8\"], [0.3333333333333333, \"#9c179e\"], [0.4444444444444444, \"#bd3786\"], [0.5555555555555556, \"#d8576b\"], [0.6666666666666666, \"#ed7953\"], [0.7777777777777778, \"#fb9f3a\"], [0.8888888888888888, \"#fdca26\"], [1.0, \"#f0f921\"]], \"type\": \"heatmapgl\"}], \"histogram\": [{\"marker\": {\"colorbar\": {\"outlinewidth\": 0, \"ticks\": \"\"}}, \"type\": \"histogram\"}], \"histogram2d\": [{\"colorbar\": {\"outlinewidth\": 0, \"ticks\": \"\"}, \"colorscale\": [[0.0, \"#0d0887\"], [0.1111111111111111, \"#46039f\"], [0.2222222222222222, \"#7201a8\"], [0.3333333333333333, \"#9c179e\"], [0.4444444444444444, \"#bd3786\"], [0.5555555555555556, \"#d8576b\"], [0.6666666666666666, \"#ed7953\"], [0.7777777777777778, \"#fb9f3a\"], [0.8888888888888888, \"#fdca26\"], [1.0, \"#f0f921\"]], \"type\": \"histogram2d\"}], \"histogram2dcontour\": [{\"colorbar\": {\"outlinewidth\": 0, \"ticks\": \"\"}, \"colorscale\": [[0.0, \"#0d0887\"], [0.1111111111111111, \"#46039f\"], [0.2222222222222222, \"#7201a8\"], [0.3333333333333333, \"#9c179e\"], [0.4444444444444444, \"#bd3786\"], [0.5555555555555556, \"#d8576b\"], [0.6666666666666666, \"#ed7953\"], [0.7777777777777778, \"#fb9f3a\"], [0.8888888888888888, \"#fdca26\"], [1.0, \"#f0f921\"]], \"type\": \"histogram2dcontour\"}], \"mesh3d\": [{\"colorbar\": {\"outlinewidth\": 0, \"ticks\": \"\"}, \"type\": \"mesh3d\"}], \"parcoords\": [{\"line\": {\"colorbar\": {\"outlinewidth\": 0, \"ticks\": \"\"}}, \"type\": \"parcoords\"}], \"pie\": [{\"automargin\": true, \"type\": \"pie\"}], \"scatter\": [{\"marker\": {\"colorbar\": {\"outlinewidth\": 0, \"ticks\": \"\"}}, \"type\": \"scatter\"}], \"scatter3d\": [{\"line\": {\"colorbar\": {\"outlinewidth\": 0, \"ticks\": \"\"}}, \"marker\": {\"colorbar\": {\"outlinewidth\": 0, \"ticks\": \"\"}}, \"type\": \"scatter3d\"}], \"scattercarpet\": [{\"marker\": {\"colorbar\": {\"outlinewidth\": 0, \"ticks\": \"\"}}, \"type\": \"scattercarpet\"}], \"scattergeo\": [{\"marker\": {\"colorbar\": {\"outlinewidth\": 0, \"ticks\": \"\"}}, \"type\": \"scattergeo\"}], \"scattergl\": [{\"marker\": {\"colorbar\": {\"outlinewidth\": 0, \"ticks\": \"\"}}, \"type\": \"scattergl\"}], \"scattermapbox\": [{\"marker\": {\"colorbar\": {\"outlinewidth\": 0, \"ticks\": \"\"}}, \"type\": \"scattermapbox\"}], \"scatterpolar\": [{\"marker\": {\"colorbar\": {\"outlinewidth\": 0, \"ticks\": \"\"}}, \"type\": \"scatterpolar\"}], \"scatterpolargl\": [{\"marker\": {\"colorbar\": {\"outlinewidth\": 0, \"ticks\": \"\"}}, \"type\": \"scatterpolargl\"}], \"scatterternary\": [{\"marker\": {\"colorbar\": {\"outlinewidth\": 0, \"ticks\": \"\"}}, \"type\": \"scatterternary\"}], \"surface\": [{\"colorbar\": {\"outlinewidth\": 0, \"ticks\": \"\"}, \"colorscale\": [[0.0, \"#0d0887\"], [0.1111111111111111, \"#46039f\"], [0.2222222222222222, \"#7201a8\"], [0.3333333333333333, \"#9c179e\"], [0.4444444444444444, \"#bd3786\"], [0.5555555555555556, \"#d8576b\"], [0.6666666666666666, \"#ed7953\"], [0.7777777777777778, \"#fb9f3a\"], [0.8888888888888888, \"#fdca26\"], [1.0, \"#f0f921\"]], \"type\": \"surface\"}], \"table\": [{\"cells\": {\"fill\": {\"color\": \"#EBF0F8\"}, \"line\": {\"color\": \"white\"}}, \"header\": {\"fill\": {\"color\": \"#C8D4E3\"}, \"line\": {\"color\": \"white\"}}, \"type\": \"table\"}]}, \"layout\": {\"annotationdefaults\": {\"arrowcolor\": \"#2a3f5f\", \"arrowhead\": 0, \"arrowwidth\": 1}, \"coloraxis\": {\"colorbar\": {\"outlinewidth\": 0, \"ticks\": \"\"}}, \"colorscale\": {\"diverging\": [[0, \"#8e0152\"], [0.1, \"#c51b7d\"], [0.2, \"#de77ae\"], [0.3, \"#f1b6da\"], [0.4, \"#fde0ef\"], [0.5, \"#f7f7f7\"], [0.6, \"#e6f5d0\"], [0.7, \"#b8e186\"], [0.8, \"#7fbc41\"], [0.9, \"#4d9221\"], [1, \"#276419\"]], \"sequential\": [[0.0, \"#0d0887\"], [0.1111111111111111, \"#46039f\"], [0.2222222222222222, \"#7201a8\"], [0.3333333333333333, \"#9c179e\"], [0.4444444444444444, \"#bd3786\"], [0.5555555555555556, \"#d8576b\"], [0.6666666666666666, \"#ed7953\"], [0.7777777777777778, \"#fb9f3a\"], [0.8888888888888888, \"#fdca26\"], [1.0, \"#f0f921\"]], \"sequentialminus\": [[0.0, \"#0d0887\"], [0.1111111111111111, \"#46039f\"], [0.2222222222222222, \"#7201a8\"], [0.3333333333333333, \"#9c179e\"], [0.4444444444444444, \"#bd3786\"], [0.5555555555555556, \"#d8576b\"], [0.6666666666666666, \"#ed7953\"], [0.7777777777777778, \"#fb9f3a\"], [0.8888888888888888, \"#fdca26\"], [1.0, \"#f0f921\"]]}, \"colorway\": [\"#636efa\", \"#EF553B\", \"#00cc96\", \"#ab63fa\", \"#FFA15A\", \"#19d3f3\", \"#FF6692\", \"#B6E880\", \"#FF97FF\", \"#FECB52\"], \"font\": {\"color\": \"#2a3f5f\"}, \"geo\": {\"bgcolor\": \"white\", \"lakecolor\": \"white\", \"landcolor\": \"#E5ECF6\", \"showlakes\": true, \"showland\": true, \"subunitcolor\": \"white\"}, \"hoverlabel\": {\"align\": \"left\"}, \"hovermode\": \"closest\", \"mapbox\": {\"style\": \"light\"}, \"paper_bgcolor\": \"white\", \"plot_bgcolor\": \"#E5ECF6\", \"polar\": {\"angularaxis\": {\"gridcolor\": \"white\", \"linecolor\": \"white\", \"ticks\": \"\"}, \"bgcolor\": \"#E5ECF6\", \"radialaxis\": {\"gridcolor\": \"white\", \"linecolor\": \"white\", \"ticks\": \"\"}}, \"scene\": {\"xaxis\": {\"backgroundcolor\": \"#E5ECF6\", \"gridcolor\": \"white\", \"gridwidth\": 2, \"linecolor\": \"white\", \"showbackground\": true, \"ticks\": \"\", \"zerolinecolor\": \"white\"}, \"yaxis\": {\"backgroundcolor\": \"#E5ECF6\", \"gridcolor\": \"white\", \"gridwidth\": 2, \"linecolor\": \"white\", \"showbackground\": true, \"ticks\": \"\", \"zerolinecolor\": \"white\"}, \"zaxis\": {\"backgroundcolor\": \"#E5ECF6\", \"gridcolor\": \"white\", \"gridwidth\": 2, \"linecolor\": \"white\", \"showbackground\": true, \"ticks\": \"\", \"zerolinecolor\": \"white\"}}, \"shapedefaults\": {\"line\": {\"color\": \"#2a3f5f\"}}, \"ternary\": {\"aaxis\": {\"gridcolor\": \"white\", \"linecolor\": \"white\", \"ticks\": \"\"}, \"baxis\": {\"gridcolor\": \"white\", \"linecolor\": \"white\", \"ticks\": \"\"}, \"bgcolor\": \"#E5ECF6\", \"caxis\": {\"gridcolor\": \"white\", \"linecolor\": \"white\", \"ticks\": \"\"}}, \"title\": {\"x\": 0.05}, \"xaxis\": {\"automargin\": true, \"gridcolor\": \"white\", \"linecolor\": \"white\", \"ticks\": \"\", \"title\": {\"standoff\": 15}, \"zerolinecolor\": \"white\", \"zerolinewidth\": 2}, \"yaxis\": {\"automargin\": true, \"gridcolor\": \"white\", \"linecolor\": \"white\", \"ticks\": \"\", \"title\": {\"standoff\": 15}, \"zerolinecolor\": \"white\", \"zerolinewidth\": 2}}}, \"title\": {\"text\": \"Countries with Confirmed Cases\"}},\n",
       "                        {\"responsive\": true}\n",
       "                    ).then(function(){\n",
       "                            \n",
       "var gd = document.getElementById('dfca1ac6-95f3-4219-9063-ded0f452844b');\n",
       "var x = new MutationObserver(function (mutations, observer) {{\n",
       "        var display = window.getComputedStyle(gd).display;\n",
       "        if (!display || display === 'none') {{\n",
       "            console.log([gd, 'removed!']);\n",
       "            Plotly.purge(gd);\n",
       "            observer.disconnect();\n",
       "        }}\n",
       "}});\n",
       "\n",
       "// Listen for the removal of the full notebook cells\n",
       "var notebookContainer = gd.closest('#notebook-container');\n",
       "if (notebookContainer) {{\n",
       "    x.observe(notebookContainer, {childList: true});\n",
       "}}\n",
       "\n",
       "// Listen for the clearing of the current output cell\n",
       "var outputEl = gd.closest('.output');\n",
       "if (outputEl) {{\n",
       "    x.observe(outputEl, {childList: true});\n",
       "}}\n",
       "\n",
       "                        })\n",
       "                };\n",
       "                });\n",
       "            </script>\n",
       "        </div>"
      ]
     },
     "metadata": {},
     "output_type": "display_data"
    }
   ],
   "source": [
    "# Confirmed\n",
    "fig = px.choropleth(full_latest_grouped, locations=\"Country/Region\", \n",
    "                    locationmode='country names', color=\"Confirmed\", \n",
    "                    hover_name=\"Country/Region\", range_color=[1,7000], \n",
    "                    color_continuous_scale=\"aggrnyl\", \n",
    "                    title='Countries with Confirmed Cases')\n",
    "fig.update(layout_coloraxis_showscale=False)\n",
    "fig.show()"
   ]
  },
  {
   "cell_type": "code",
   "execution_count": 14,
   "metadata": {},
   "outputs": [
    {
     "data": {
      "application/vnd.plotly.v1+json": {
       "config": {
        "plotlyServerURL": "https://plot.ly"
       },
       "data": [
        {
         "coloraxis": "coloraxis",
         "geo": "geo",
         "hoverlabel": {
          "namelength": 0
         },
         "hovertemplate": "<b>%{hovertext}</b><br><br>Country/Region=%{location}<br>Deaths=%{z}",
         "hovertext": [
          "Albania",
          "Argentina",
          "Australia",
          "Belgium",
          "Bulgaria",
          "Canada",
          "China",
          "Egypt",
          "France",
          "Germany",
          "Greece",
          "India",
          "Indonesia",
          "Iran",
          "Iraq",
          "Ireland",
          "Italy",
          "Japan",
          "Lebanon",
          "Morocco",
          "Netherlands",
          "Others",
          "Panama",
          "Philippines",
          "San Marino",
          "South Korea",
          "Spain",
          "Sweden",
          "Switzerland",
          "Taiwan",
          "Thailand",
          "UK",
          "US"
         ],
         "locationmode": "country names",
         "locations": [
          "Albania",
          "Argentina",
          "Australia",
          "Belgium",
          "Bulgaria",
          "Canada",
          "China",
          "Egypt",
          "France",
          "Germany",
          "Greece",
          "India",
          "Indonesia",
          "Iran",
          "Iraq",
          "Ireland",
          "Italy",
          "Japan",
          "Lebanon",
          "Morocco",
          "Netherlands",
          "Others",
          "Panama",
          "Philippines",
          "San Marino",
          "South Korea",
          "Spain",
          "Sweden",
          "Switzerland",
          "Taiwan",
          "Thailand",
          "UK",
          "US"
         ],
         "name": "",
         "type": "choropleth",
         "z": [
          1,
          1,
          3,
          3,
          1,
          1,
          3161,
          1,
          48,
          3,
          1,
          1,
          1,
          354,
          7,
          1,
          827,
          15,
          3,
          1,
          5,
          7,
          1,
          1,
          2,
          60,
          54,
          1,
          4,
          1,
          1,
          8,
          36
         ]
        }
       ],
       "layout": {
        "coloraxis": {
         "cmax": 50,
         "cmin": 1,
         "colorbar": {
          "title": {
           "text": "Deaths"
          }
         },
         "colorscale": [
          [
           0,
           "rgb(75, 41, 145)"
          ],
          [
           0.16666666666666666,
           "rgb(135, 44, 162)"
          ],
          [
           0.3333333333333333,
           "rgb(192, 54, 157)"
          ],
          [
           0.5,
           "rgb(234, 79, 136)"
          ],
          [
           0.6666666666666666,
           "rgb(250, 120, 118)"
          ],
          [
           0.8333333333333334,
           "rgb(246, 169, 122)"
          ],
          [
           1,
           "rgb(237, 217, 163)"
          ]
         ],
         "showscale": false
        },
        "geo": {
         "center": {},
         "domain": {
          "x": [
           0,
           1
          ],
          "y": [
           0,
           1
          ]
         }
        },
        "legend": {
         "tracegroupgap": 0
        },
        "template": {
         "data": {
          "bar": [
           {
            "error_x": {
             "color": "#2a3f5f"
            },
            "error_y": {
             "color": "#2a3f5f"
            },
            "marker": {
             "line": {
              "color": "#E5ECF6",
              "width": 0.5
             }
            },
            "type": "bar"
           }
          ],
          "barpolar": [
           {
            "marker": {
             "line": {
              "color": "#E5ECF6",
              "width": 0.5
             }
            },
            "type": "barpolar"
           }
          ],
          "carpet": [
           {
            "aaxis": {
             "endlinecolor": "#2a3f5f",
             "gridcolor": "white",
             "linecolor": "white",
             "minorgridcolor": "white",
             "startlinecolor": "#2a3f5f"
            },
            "baxis": {
             "endlinecolor": "#2a3f5f",
             "gridcolor": "white",
             "linecolor": "white",
             "minorgridcolor": "white",
             "startlinecolor": "#2a3f5f"
            },
            "type": "carpet"
           }
          ],
          "choropleth": [
           {
            "colorbar": {
             "outlinewidth": 0,
             "ticks": ""
            },
            "type": "choropleth"
           }
          ],
          "contour": [
           {
            "colorbar": {
             "outlinewidth": 0,
             "ticks": ""
            },
            "colorscale": [
             [
              0,
              "#0d0887"
             ],
             [
              0.1111111111111111,
              "#46039f"
             ],
             [
              0.2222222222222222,
              "#7201a8"
             ],
             [
              0.3333333333333333,
              "#9c179e"
             ],
             [
              0.4444444444444444,
              "#bd3786"
             ],
             [
              0.5555555555555556,
              "#d8576b"
             ],
             [
              0.6666666666666666,
              "#ed7953"
             ],
             [
              0.7777777777777778,
              "#fb9f3a"
             ],
             [
              0.8888888888888888,
              "#fdca26"
             ],
             [
              1,
              "#f0f921"
             ]
            ],
            "type": "contour"
           }
          ],
          "contourcarpet": [
           {
            "colorbar": {
             "outlinewidth": 0,
             "ticks": ""
            },
            "type": "contourcarpet"
           }
          ],
          "heatmap": [
           {
            "colorbar": {
             "outlinewidth": 0,
             "ticks": ""
            },
            "colorscale": [
             [
              0,
              "#0d0887"
             ],
             [
              0.1111111111111111,
              "#46039f"
             ],
             [
              0.2222222222222222,
              "#7201a8"
             ],
             [
              0.3333333333333333,
              "#9c179e"
             ],
             [
              0.4444444444444444,
              "#bd3786"
             ],
             [
              0.5555555555555556,
              "#d8576b"
             ],
             [
              0.6666666666666666,
              "#ed7953"
             ],
             [
              0.7777777777777778,
              "#fb9f3a"
             ],
             [
              0.8888888888888888,
              "#fdca26"
             ],
             [
              1,
              "#f0f921"
             ]
            ],
            "type": "heatmap"
           }
          ],
          "heatmapgl": [
           {
            "colorbar": {
             "outlinewidth": 0,
             "ticks": ""
            },
            "colorscale": [
             [
              0,
              "#0d0887"
             ],
             [
              0.1111111111111111,
              "#46039f"
             ],
             [
              0.2222222222222222,
              "#7201a8"
             ],
             [
              0.3333333333333333,
              "#9c179e"
             ],
             [
              0.4444444444444444,
              "#bd3786"
             ],
             [
              0.5555555555555556,
              "#d8576b"
             ],
             [
              0.6666666666666666,
              "#ed7953"
             ],
             [
              0.7777777777777778,
              "#fb9f3a"
             ],
             [
              0.8888888888888888,
              "#fdca26"
             ],
             [
              1,
              "#f0f921"
             ]
            ],
            "type": "heatmapgl"
           }
          ],
          "histogram": [
           {
            "marker": {
             "colorbar": {
              "outlinewidth": 0,
              "ticks": ""
             }
            },
            "type": "histogram"
           }
          ],
          "histogram2d": [
           {
            "colorbar": {
             "outlinewidth": 0,
             "ticks": ""
            },
            "colorscale": [
             [
              0,
              "#0d0887"
             ],
             [
              0.1111111111111111,
              "#46039f"
             ],
             [
              0.2222222222222222,
              "#7201a8"
             ],
             [
              0.3333333333333333,
              "#9c179e"
             ],
             [
              0.4444444444444444,
              "#bd3786"
             ],
             [
              0.5555555555555556,
              "#d8576b"
             ],
             [
              0.6666666666666666,
              "#ed7953"
             ],
             [
              0.7777777777777778,
              "#fb9f3a"
             ],
             [
              0.8888888888888888,
              "#fdca26"
             ],
             [
              1,
              "#f0f921"
             ]
            ],
            "type": "histogram2d"
           }
          ],
          "histogram2dcontour": [
           {
            "colorbar": {
             "outlinewidth": 0,
             "ticks": ""
            },
            "colorscale": [
             [
              0,
              "#0d0887"
             ],
             [
              0.1111111111111111,
              "#46039f"
             ],
             [
              0.2222222222222222,
              "#7201a8"
             ],
             [
              0.3333333333333333,
              "#9c179e"
             ],
             [
              0.4444444444444444,
              "#bd3786"
             ],
             [
              0.5555555555555556,
              "#d8576b"
             ],
             [
              0.6666666666666666,
              "#ed7953"
             ],
             [
              0.7777777777777778,
              "#fb9f3a"
             ],
             [
              0.8888888888888888,
              "#fdca26"
             ],
             [
              1,
              "#f0f921"
             ]
            ],
            "type": "histogram2dcontour"
           }
          ],
          "mesh3d": [
           {
            "colorbar": {
             "outlinewidth": 0,
             "ticks": ""
            },
            "type": "mesh3d"
           }
          ],
          "parcoords": [
           {
            "line": {
             "colorbar": {
              "outlinewidth": 0,
              "ticks": ""
             }
            },
            "type": "parcoords"
           }
          ],
          "pie": [
           {
            "automargin": true,
            "type": "pie"
           }
          ],
          "scatter": [
           {
            "marker": {
             "colorbar": {
              "outlinewidth": 0,
              "ticks": ""
             }
            },
            "type": "scatter"
           }
          ],
          "scatter3d": [
           {
            "line": {
             "colorbar": {
              "outlinewidth": 0,
              "ticks": ""
             }
            },
            "marker": {
             "colorbar": {
              "outlinewidth": 0,
              "ticks": ""
             }
            },
            "type": "scatter3d"
           }
          ],
          "scattercarpet": [
           {
            "marker": {
             "colorbar": {
              "outlinewidth": 0,
              "ticks": ""
             }
            },
            "type": "scattercarpet"
           }
          ],
          "scattergeo": [
           {
            "marker": {
             "colorbar": {
              "outlinewidth": 0,
              "ticks": ""
             }
            },
            "type": "scattergeo"
           }
          ],
          "scattergl": [
           {
            "marker": {
             "colorbar": {
              "outlinewidth": 0,
              "ticks": ""
             }
            },
            "type": "scattergl"
           }
          ],
          "scattermapbox": [
           {
            "marker": {
             "colorbar": {
              "outlinewidth": 0,
              "ticks": ""
             }
            },
            "type": "scattermapbox"
           }
          ],
          "scatterpolar": [
           {
            "marker": {
             "colorbar": {
              "outlinewidth": 0,
              "ticks": ""
             }
            },
            "type": "scatterpolar"
           }
          ],
          "scatterpolargl": [
           {
            "marker": {
             "colorbar": {
              "outlinewidth": 0,
              "ticks": ""
             }
            },
            "type": "scatterpolargl"
           }
          ],
          "scatterternary": [
           {
            "marker": {
             "colorbar": {
              "outlinewidth": 0,
              "ticks": ""
             }
            },
            "type": "scatterternary"
           }
          ],
          "surface": [
           {
            "colorbar": {
             "outlinewidth": 0,
             "ticks": ""
            },
            "colorscale": [
             [
              0,
              "#0d0887"
             ],
             [
              0.1111111111111111,
              "#46039f"
             ],
             [
              0.2222222222222222,
              "#7201a8"
             ],
             [
              0.3333333333333333,
              "#9c179e"
             ],
             [
              0.4444444444444444,
              "#bd3786"
             ],
             [
              0.5555555555555556,
              "#d8576b"
             ],
             [
              0.6666666666666666,
              "#ed7953"
             ],
             [
              0.7777777777777778,
              "#fb9f3a"
             ],
             [
              0.8888888888888888,
              "#fdca26"
             ],
             [
              1,
              "#f0f921"
             ]
            ],
            "type": "surface"
           }
          ],
          "table": [
           {
            "cells": {
             "fill": {
              "color": "#EBF0F8"
             },
             "line": {
              "color": "white"
             }
            },
            "header": {
             "fill": {
              "color": "#C8D4E3"
             },
             "line": {
              "color": "white"
             }
            },
            "type": "table"
           }
          ]
         },
         "layout": {
          "annotationdefaults": {
           "arrowcolor": "#2a3f5f",
           "arrowhead": 0,
           "arrowwidth": 1
          },
          "coloraxis": {
           "colorbar": {
            "outlinewidth": 0,
            "ticks": ""
           }
          },
          "colorscale": {
           "diverging": [
            [
             0,
             "#8e0152"
            ],
            [
             0.1,
             "#c51b7d"
            ],
            [
             0.2,
             "#de77ae"
            ],
            [
             0.3,
             "#f1b6da"
            ],
            [
             0.4,
             "#fde0ef"
            ],
            [
             0.5,
             "#f7f7f7"
            ],
            [
             0.6,
             "#e6f5d0"
            ],
            [
             0.7,
             "#b8e186"
            ],
            [
             0.8,
             "#7fbc41"
            ],
            [
             0.9,
             "#4d9221"
            ],
            [
             1,
             "#276419"
            ]
           ],
           "sequential": [
            [
             0,
             "#0d0887"
            ],
            [
             0.1111111111111111,
             "#46039f"
            ],
            [
             0.2222222222222222,
             "#7201a8"
            ],
            [
             0.3333333333333333,
             "#9c179e"
            ],
            [
             0.4444444444444444,
             "#bd3786"
            ],
            [
             0.5555555555555556,
             "#d8576b"
            ],
            [
             0.6666666666666666,
             "#ed7953"
            ],
            [
             0.7777777777777778,
             "#fb9f3a"
            ],
            [
             0.8888888888888888,
             "#fdca26"
            ],
            [
             1,
             "#f0f921"
            ]
           ],
           "sequentialminus": [
            [
             0,
             "#0d0887"
            ],
            [
             0.1111111111111111,
             "#46039f"
            ],
            [
             0.2222222222222222,
             "#7201a8"
            ],
            [
             0.3333333333333333,
             "#9c179e"
            ],
            [
             0.4444444444444444,
             "#bd3786"
            ],
            [
             0.5555555555555556,
             "#d8576b"
            ],
            [
             0.6666666666666666,
             "#ed7953"
            ],
            [
             0.7777777777777778,
             "#fb9f3a"
            ],
            [
             0.8888888888888888,
             "#fdca26"
            ],
            [
             1,
             "#f0f921"
            ]
           ]
          },
          "colorway": [
           "#636efa",
           "#EF553B",
           "#00cc96",
           "#ab63fa",
           "#FFA15A",
           "#19d3f3",
           "#FF6692",
           "#B6E880",
           "#FF97FF",
           "#FECB52"
          ],
          "font": {
           "color": "#2a3f5f"
          },
          "geo": {
           "bgcolor": "white",
           "lakecolor": "white",
           "landcolor": "#E5ECF6",
           "showlakes": true,
           "showland": true,
           "subunitcolor": "white"
          },
          "hoverlabel": {
           "align": "left"
          },
          "hovermode": "closest",
          "mapbox": {
           "style": "light"
          },
          "paper_bgcolor": "white",
          "plot_bgcolor": "#E5ECF6",
          "polar": {
           "angularaxis": {
            "gridcolor": "white",
            "linecolor": "white",
            "ticks": ""
           },
           "bgcolor": "#E5ECF6",
           "radialaxis": {
            "gridcolor": "white",
            "linecolor": "white",
            "ticks": ""
           }
          },
          "scene": {
           "xaxis": {
            "backgroundcolor": "#E5ECF6",
            "gridcolor": "white",
            "gridwidth": 2,
            "linecolor": "white",
            "showbackground": true,
            "ticks": "",
            "zerolinecolor": "white"
           },
           "yaxis": {
            "backgroundcolor": "#E5ECF6",
            "gridcolor": "white",
            "gridwidth": 2,
            "linecolor": "white",
            "showbackground": true,
            "ticks": "",
            "zerolinecolor": "white"
           },
           "zaxis": {
            "backgroundcolor": "#E5ECF6",
            "gridcolor": "white",
            "gridwidth": 2,
            "linecolor": "white",
            "showbackground": true,
            "ticks": "",
            "zerolinecolor": "white"
           }
          },
          "shapedefaults": {
           "line": {
            "color": "#2a3f5f"
           }
          },
          "ternary": {
           "aaxis": {
            "gridcolor": "white",
            "linecolor": "white",
            "ticks": ""
           },
           "baxis": {
            "gridcolor": "white",
            "linecolor": "white",
            "ticks": ""
           },
           "bgcolor": "#E5ECF6",
           "caxis": {
            "gridcolor": "white",
            "linecolor": "white",
            "ticks": ""
           }
          },
          "title": {
           "x": 0.05
          },
          "xaxis": {
           "automargin": true,
           "gridcolor": "white",
           "linecolor": "white",
           "ticks": "",
           "title": {
            "standoff": 15
           },
           "zerolinecolor": "white",
           "zerolinewidth": 2
          },
          "yaxis": {
           "automargin": true,
           "gridcolor": "white",
           "linecolor": "white",
           "ticks": "",
           "title": {
            "standoff": 15
           },
           "zerolinecolor": "white",
           "zerolinewidth": 2
          }
         }
        },
        "title": {
         "text": "Countries with Deaths Reported"
        }
       }
      },
      "text/html": [
       "<div>\n",
       "        \n",
       "        \n",
       "            <div id=\"adcacaf7-c267-4fe7-9b68-74217b119fc2\" class=\"plotly-graph-div\" style=\"height:525px; width:100%;\"></div>\n",
       "            <script type=\"text/javascript\">\n",
       "                require([\"plotly\"], function(Plotly) {\n",
       "                    window.PLOTLYENV=window.PLOTLYENV || {};\n",
       "                    \n",
       "                if (document.getElementById(\"adcacaf7-c267-4fe7-9b68-74217b119fc2\")) {\n",
       "                    Plotly.newPlot(\n",
       "                        'adcacaf7-c267-4fe7-9b68-74217b119fc2',\n",
       "                        [{\"coloraxis\": \"coloraxis\", \"geo\": \"geo\", \"hoverlabel\": {\"namelength\": 0}, \"hovertemplate\": \"<b>%{hovertext}</b><br><br>Country/Region=%{location}<br>Deaths=%{z}\", \"hovertext\": [\"Albania\", \"Argentina\", \"Australia\", \"Belgium\", \"Bulgaria\", \"Canada\", \"China\", \"Egypt\", \"France\", \"Germany\", \"Greece\", \"India\", \"Indonesia\", \"Iran\", \"Iraq\", \"Ireland\", \"Italy\", \"Japan\", \"Lebanon\", \"Morocco\", \"Netherlands\", \"Others\", \"Panama\", \"Philippines\", \"San Marino\", \"South Korea\", \"Spain\", \"Sweden\", \"Switzerland\", \"Taiwan\", \"Thailand\", \"UK\", \"US\"], \"locationmode\": \"country names\", \"locations\": [\"Albania\", \"Argentina\", \"Australia\", \"Belgium\", \"Bulgaria\", \"Canada\", \"China\", \"Egypt\", \"France\", \"Germany\", \"Greece\", \"India\", \"Indonesia\", \"Iran\", \"Iraq\", \"Ireland\", \"Italy\", \"Japan\", \"Lebanon\", \"Morocco\", \"Netherlands\", \"Others\", \"Panama\", \"Philippines\", \"San Marino\", \"South Korea\", \"Spain\", \"Sweden\", \"Switzerland\", \"Taiwan\", \"Thailand\", \"UK\", \"US\"], \"name\": \"\", \"type\": \"choropleth\", \"z\": [1, 1, 3, 3, 1, 1, 3161, 1, 48, 3, 1, 1, 1, 354, 7, 1, 827, 15, 3, 1, 5, 7, 1, 1, 2, 60, 54, 1, 4, 1, 1, 8, 36]}],\n",
       "                        {\"coloraxis\": {\"cmax\": 50, \"cmin\": 1, \"colorbar\": {\"title\": {\"text\": \"Deaths\"}}, \"colorscale\": [[0.0, \"rgb(75, 41, 145)\"], [0.16666666666666666, \"rgb(135, 44, 162)\"], [0.3333333333333333, \"rgb(192, 54, 157)\"], [0.5, \"rgb(234, 79, 136)\"], [0.6666666666666666, \"rgb(250, 120, 118)\"], [0.8333333333333334, \"rgb(246, 169, 122)\"], [1.0, \"rgb(237, 217, 163)\"]], \"showscale\": false}, \"geo\": {\"center\": {}, \"domain\": {\"x\": [0.0, 1.0], \"y\": [0.0, 1.0]}}, \"legend\": {\"tracegroupgap\": 0}, \"template\": {\"data\": {\"bar\": [{\"error_x\": {\"color\": \"#2a3f5f\"}, \"error_y\": {\"color\": \"#2a3f5f\"}, \"marker\": {\"line\": {\"color\": \"#E5ECF6\", \"width\": 0.5}}, \"type\": \"bar\"}], \"barpolar\": [{\"marker\": {\"line\": {\"color\": \"#E5ECF6\", \"width\": 0.5}}, \"type\": \"barpolar\"}], \"carpet\": [{\"aaxis\": {\"endlinecolor\": \"#2a3f5f\", \"gridcolor\": \"white\", \"linecolor\": \"white\", \"minorgridcolor\": \"white\", \"startlinecolor\": \"#2a3f5f\"}, \"baxis\": {\"endlinecolor\": \"#2a3f5f\", \"gridcolor\": \"white\", \"linecolor\": \"white\", \"minorgridcolor\": \"white\", \"startlinecolor\": \"#2a3f5f\"}, \"type\": \"carpet\"}], \"choropleth\": [{\"colorbar\": {\"outlinewidth\": 0, \"ticks\": \"\"}, \"type\": \"choropleth\"}], \"contour\": [{\"colorbar\": {\"outlinewidth\": 0, \"ticks\": \"\"}, \"colorscale\": [[0.0, \"#0d0887\"], [0.1111111111111111, \"#46039f\"], [0.2222222222222222, \"#7201a8\"], [0.3333333333333333, \"#9c179e\"], [0.4444444444444444, \"#bd3786\"], [0.5555555555555556, \"#d8576b\"], [0.6666666666666666, \"#ed7953\"], [0.7777777777777778, \"#fb9f3a\"], [0.8888888888888888, \"#fdca26\"], [1.0, \"#f0f921\"]], \"type\": \"contour\"}], \"contourcarpet\": [{\"colorbar\": {\"outlinewidth\": 0, \"ticks\": \"\"}, \"type\": \"contourcarpet\"}], \"heatmap\": [{\"colorbar\": {\"outlinewidth\": 0, \"ticks\": \"\"}, \"colorscale\": [[0.0, \"#0d0887\"], [0.1111111111111111, \"#46039f\"], [0.2222222222222222, \"#7201a8\"], [0.3333333333333333, \"#9c179e\"], [0.4444444444444444, \"#bd3786\"], [0.5555555555555556, \"#d8576b\"], [0.6666666666666666, \"#ed7953\"], [0.7777777777777778, \"#fb9f3a\"], [0.8888888888888888, \"#fdca26\"], [1.0, \"#f0f921\"]], \"type\": \"heatmap\"}], \"heatmapgl\": [{\"colorbar\": {\"outlinewidth\": 0, \"ticks\": \"\"}, \"colorscale\": [[0.0, \"#0d0887\"], [0.1111111111111111, \"#46039f\"], [0.2222222222222222, \"#7201a8\"], [0.3333333333333333, \"#9c179e\"], [0.4444444444444444, \"#bd3786\"], [0.5555555555555556, \"#d8576b\"], [0.6666666666666666, \"#ed7953\"], [0.7777777777777778, \"#fb9f3a\"], [0.8888888888888888, \"#fdca26\"], [1.0, \"#f0f921\"]], \"type\": \"heatmapgl\"}], \"histogram\": [{\"marker\": {\"colorbar\": {\"outlinewidth\": 0, \"ticks\": \"\"}}, \"type\": \"histogram\"}], \"histogram2d\": [{\"colorbar\": {\"outlinewidth\": 0, \"ticks\": \"\"}, \"colorscale\": [[0.0, \"#0d0887\"], [0.1111111111111111, \"#46039f\"], [0.2222222222222222, \"#7201a8\"], [0.3333333333333333, \"#9c179e\"], [0.4444444444444444, \"#bd3786\"], [0.5555555555555556, \"#d8576b\"], [0.6666666666666666, \"#ed7953\"], [0.7777777777777778, \"#fb9f3a\"], [0.8888888888888888, \"#fdca26\"], [1.0, \"#f0f921\"]], \"type\": \"histogram2d\"}], \"histogram2dcontour\": [{\"colorbar\": {\"outlinewidth\": 0, \"ticks\": \"\"}, \"colorscale\": [[0.0, \"#0d0887\"], [0.1111111111111111, \"#46039f\"], [0.2222222222222222, \"#7201a8\"], [0.3333333333333333, \"#9c179e\"], [0.4444444444444444, \"#bd3786\"], [0.5555555555555556, \"#d8576b\"], [0.6666666666666666, \"#ed7953\"], [0.7777777777777778, \"#fb9f3a\"], [0.8888888888888888, \"#fdca26\"], [1.0, \"#f0f921\"]], \"type\": \"histogram2dcontour\"}], \"mesh3d\": [{\"colorbar\": {\"outlinewidth\": 0, \"ticks\": \"\"}, \"type\": \"mesh3d\"}], \"parcoords\": [{\"line\": {\"colorbar\": {\"outlinewidth\": 0, \"ticks\": \"\"}}, \"type\": \"parcoords\"}], \"pie\": [{\"automargin\": true, \"type\": \"pie\"}], \"scatter\": [{\"marker\": {\"colorbar\": {\"outlinewidth\": 0, \"ticks\": \"\"}}, \"type\": \"scatter\"}], \"scatter3d\": [{\"line\": {\"colorbar\": {\"outlinewidth\": 0, \"ticks\": \"\"}}, \"marker\": {\"colorbar\": {\"outlinewidth\": 0, \"ticks\": \"\"}}, \"type\": \"scatter3d\"}], \"scattercarpet\": [{\"marker\": {\"colorbar\": {\"outlinewidth\": 0, \"ticks\": \"\"}}, \"type\": \"scattercarpet\"}], \"scattergeo\": [{\"marker\": {\"colorbar\": {\"outlinewidth\": 0, \"ticks\": \"\"}}, \"type\": \"scattergeo\"}], \"scattergl\": [{\"marker\": {\"colorbar\": {\"outlinewidth\": 0, \"ticks\": \"\"}}, \"type\": \"scattergl\"}], \"scattermapbox\": [{\"marker\": {\"colorbar\": {\"outlinewidth\": 0, \"ticks\": \"\"}}, \"type\": \"scattermapbox\"}], \"scatterpolar\": [{\"marker\": {\"colorbar\": {\"outlinewidth\": 0, \"ticks\": \"\"}}, \"type\": \"scatterpolar\"}], \"scatterpolargl\": [{\"marker\": {\"colorbar\": {\"outlinewidth\": 0, \"ticks\": \"\"}}, \"type\": \"scatterpolargl\"}], \"scatterternary\": [{\"marker\": {\"colorbar\": {\"outlinewidth\": 0, \"ticks\": \"\"}}, \"type\": \"scatterternary\"}], \"surface\": [{\"colorbar\": {\"outlinewidth\": 0, \"ticks\": \"\"}, \"colorscale\": [[0.0, \"#0d0887\"], [0.1111111111111111, \"#46039f\"], [0.2222222222222222, \"#7201a8\"], [0.3333333333333333, \"#9c179e\"], [0.4444444444444444, \"#bd3786\"], [0.5555555555555556, \"#d8576b\"], [0.6666666666666666, \"#ed7953\"], [0.7777777777777778, \"#fb9f3a\"], [0.8888888888888888, \"#fdca26\"], [1.0, \"#f0f921\"]], \"type\": \"surface\"}], \"table\": [{\"cells\": {\"fill\": {\"color\": \"#EBF0F8\"}, \"line\": {\"color\": \"white\"}}, \"header\": {\"fill\": {\"color\": \"#C8D4E3\"}, \"line\": {\"color\": \"white\"}}, \"type\": \"table\"}]}, \"layout\": {\"annotationdefaults\": {\"arrowcolor\": \"#2a3f5f\", \"arrowhead\": 0, \"arrowwidth\": 1}, \"coloraxis\": {\"colorbar\": {\"outlinewidth\": 0, \"ticks\": \"\"}}, \"colorscale\": {\"diverging\": [[0, \"#8e0152\"], [0.1, \"#c51b7d\"], [0.2, \"#de77ae\"], [0.3, \"#f1b6da\"], [0.4, \"#fde0ef\"], [0.5, \"#f7f7f7\"], [0.6, \"#e6f5d0\"], [0.7, \"#b8e186\"], [0.8, \"#7fbc41\"], [0.9, \"#4d9221\"], [1, \"#276419\"]], \"sequential\": [[0.0, \"#0d0887\"], [0.1111111111111111, \"#46039f\"], [0.2222222222222222, \"#7201a8\"], [0.3333333333333333, \"#9c179e\"], [0.4444444444444444, \"#bd3786\"], [0.5555555555555556, \"#d8576b\"], [0.6666666666666666, \"#ed7953\"], [0.7777777777777778, \"#fb9f3a\"], [0.8888888888888888, \"#fdca26\"], [1.0, \"#f0f921\"]], \"sequentialminus\": [[0.0, \"#0d0887\"], [0.1111111111111111, \"#46039f\"], [0.2222222222222222, \"#7201a8\"], [0.3333333333333333, \"#9c179e\"], [0.4444444444444444, \"#bd3786\"], [0.5555555555555556, \"#d8576b\"], [0.6666666666666666, \"#ed7953\"], [0.7777777777777778, \"#fb9f3a\"], [0.8888888888888888, \"#fdca26\"], [1.0, \"#f0f921\"]]}, \"colorway\": [\"#636efa\", \"#EF553B\", \"#00cc96\", \"#ab63fa\", \"#FFA15A\", \"#19d3f3\", \"#FF6692\", \"#B6E880\", \"#FF97FF\", \"#FECB52\"], \"font\": {\"color\": \"#2a3f5f\"}, \"geo\": {\"bgcolor\": \"white\", \"lakecolor\": \"white\", \"landcolor\": \"#E5ECF6\", \"showlakes\": true, \"showland\": true, \"subunitcolor\": \"white\"}, \"hoverlabel\": {\"align\": \"left\"}, \"hovermode\": \"closest\", \"mapbox\": {\"style\": \"light\"}, \"paper_bgcolor\": \"white\", \"plot_bgcolor\": \"#E5ECF6\", \"polar\": {\"angularaxis\": {\"gridcolor\": \"white\", \"linecolor\": \"white\", \"ticks\": \"\"}, \"bgcolor\": \"#E5ECF6\", \"radialaxis\": {\"gridcolor\": \"white\", \"linecolor\": \"white\", \"ticks\": \"\"}}, \"scene\": {\"xaxis\": {\"backgroundcolor\": \"#E5ECF6\", \"gridcolor\": \"white\", \"gridwidth\": 2, \"linecolor\": \"white\", \"showbackground\": true, \"ticks\": \"\", \"zerolinecolor\": \"white\"}, \"yaxis\": {\"backgroundcolor\": \"#E5ECF6\", \"gridcolor\": \"white\", \"gridwidth\": 2, \"linecolor\": \"white\", \"showbackground\": true, \"ticks\": \"\", \"zerolinecolor\": \"white\"}, \"zaxis\": {\"backgroundcolor\": \"#E5ECF6\", \"gridcolor\": \"white\", \"gridwidth\": 2, \"linecolor\": \"white\", \"showbackground\": true, \"ticks\": \"\", \"zerolinecolor\": \"white\"}}, \"shapedefaults\": {\"line\": {\"color\": \"#2a3f5f\"}}, \"ternary\": {\"aaxis\": {\"gridcolor\": \"white\", \"linecolor\": \"white\", \"ticks\": \"\"}, \"baxis\": {\"gridcolor\": \"white\", \"linecolor\": \"white\", \"ticks\": \"\"}, \"bgcolor\": \"#E5ECF6\", \"caxis\": {\"gridcolor\": \"white\", \"linecolor\": \"white\", \"ticks\": \"\"}}, \"title\": {\"x\": 0.05}, \"xaxis\": {\"automargin\": true, \"gridcolor\": \"white\", \"linecolor\": \"white\", \"ticks\": \"\", \"title\": {\"standoff\": 15}, \"zerolinecolor\": \"white\", \"zerolinewidth\": 2}, \"yaxis\": {\"automargin\": true, \"gridcolor\": \"white\", \"linecolor\": \"white\", \"ticks\": \"\", \"title\": {\"standoff\": 15}, \"zerolinecolor\": \"white\", \"zerolinewidth\": 2}}}, \"title\": {\"text\": \"Countries with Deaths Reported\"}},\n",
       "                        {\"responsive\": true}\n",
       "                    ).then(function(){\n",
       "                            \n",
       "var gd = document.getElementById('adcacaf7-c267-4fe7-9b68-74217b119fc2');\n",
       "var x = new MutationObserver(function (mutations, observer) {{\n",
       "        var display = window.getComputedStyle(gd).display;\n",
       "        if (!display || display === 'none') {{\n",
       "            console.log([gd, 'removed!']);\n",
       "            Plotly.purge(gd);\n",
       "            observer.disconnect();\n",
       "        }}\n",
       "}});\n",
       "\n",
       "// Listen for the removal of the full notebook cells\n",
       "var notebookContainer = gd.closest('#notebook-container');\n",
       "if (notebookContainer) {{\n",
       "    x.observe(notebookContainer, {childList: true});\n",
       "}}\n",
       "\n",
       "// Listen for the clearing of the current output cell\n",
       "var outputEl = gd.closest('.output');\n",
       "if (outputEl) {{\n",
       "    x.observe(outputEl, {childList: true});\n",
       "}}\n",
       "\n",
       "                        })\n",
       "                };\n",
       "                });\n",
       "            </script>\n",
       "        </div>"
      ]
     },
     "metadata": {},
     "output_type": "display_data"
    }
   ],
   "source": [
    "# Deaths\n",
    "fig = px.choropleth(full_latest_grouped[full_latest_grouped['Deaths']>0], \n",
    "                    locations=\"Country/Region\", locationmode='country names',\n",
    "                    color=\"Deaths\", hover_name=\"Country/Region\", \n",
    "                    range_color=[1,50], color_continuous_scale=\"agsunset\",\n",
    "                    title='Countries with Deaths Reported')\n",
    "fig.update(layout_coloraxis_showscale=False)\n",
    "fig.show()"
   ]
  },
  {
   "cell_type": "code",
   "execution_count": 16,
   "metadata": {},
   "outputs": [
    {
     "data": {
      "application/vnd.plotly.v1+json": {
       "config": {
        "plotlyServerURL": "https://plot.ly"
       },
       "data": [
        {
         "branchvalues": "total",
         "domain": {
          "x": [
           0,
           1
          ],
          "y": [
           0,
           1
          ]
         },
         "hoverlabel": {
          "namelength": 0
         },
         "hovertemplate": "labels=%{label}<br>Confirmed=%{value}<br>parent=%{parent}<br>id=%{id}",
         "ids": [
          "Afghanistan/",
          "Albania/",
          "Algeria/",
          "Andorra/",
          "Argentina/",
          "Armenia/",
          "Austria/",
          "Azerbaijan/",
          "Bahrain/",
          "Bangladesh/",
          "Belarus/",
          "Belgium/",
          "Bhutan/",
          "Bolivia/",
          "Bosnia and Herzegovina/",
          "Brazil/",
          "Brunei/",
          "Bulgaria/",
          "Burkina Faso/",
          "Cambodia/",
          "Cameroon/",
          "Chile/",
          "Colombia/",
          "Congo (Kinshasa)/",
          "Costa Rica/",
          "Croatia/",
          "Cyprus/",
          "Czech Republic/",
          "Dominican Republic/",
          "Ecuador/",
          "Egypt/",
          "Estonia/",
          "Finland/",
          "French Guiana/",
          "Georgia/",
          "Germany/",
          "Greece/",
          "Holy See/",
          "Honduras/",
          "Hungary/",
          "Iceland/",
          "India/",
          "Indonesia/",
          "Iran/",
          "Iraq/",
          "Ireland/",
          "Israel/",
          "Italy/",
          "Ivory Coast/",
          "Jamaica/",
          "Japan/",
          "Jordan/",
          "Kuwait/",
          "Latvia/",
          "Lebanon/",
          "Liechtenstein/",
          "Lithuania/",
          "Luxembourg/",
          "Malaysia/",
          "Maldives/",
          "Malta/",
          "Martinique/",
          "Mexico/",
          "Moldova/",
          "Monaco/",
          "Mongolia/",
          "Morocco/",
          "Nepal/",
          "Netherlands/",
          "New Zealand/",
          "Nigeria/",
          "North Macedonia/",
          "Norway/",
          "Oman/",
          "Pakistan/",
          "Panama/",
          "Paraguay/",
          "Peru/",
          "Philippines/",
          "Poland/",
          "Portugal/",
          "Qatar/",
          "Reunion/",
          "Romania/",
          "Russia/",
          "San Marino/",
          "Saudi Arabia/",
          "Senegal/",
          "Serbia/",
          "Singapore/",
          "Slovakia/",
          "Slovenia/",
          "South Africa/",
          "South Korea/",
          "Spain/",
          "Sri Lanka/",
          "Sweden/",
          "Switzerland/",
          "Taiwan/",
          "Thailand/",
          "Togo/",
          "Tunisia/",
          "Turkey/",
          "Ukraine/",
          "United Arab Emirates/",
          "Vietnam/",
          "occupied Palestinian territory/",
          "US/Alaska",
          "Canada/Alberta",
          "China/Anhui",
          "US/Arizona",
          "US/Arkansas",
          "China/Beijing",
          "Canada/British Columbia",
          "US/California",
          "UK/Channel Islands",
          "China/Chongqing",
          "US/Colorado",
          "US/Connecticut",
          "US/Delaware",
          "Denmark/Denmark",
          "Australia/Diamond Princess cruise ship",
          "Others/Diamond Princess cruise ship",
          "US/Diamond Princess cruise ship",
          "US/District of Columbia",
          "Denmark/Faroe Islands",
          "US/Florida",
          "France/France",
          "China/Fujian",
          "China/Gansu",
          "US/Georgia",
          "UK/Gibraltar",
          "US/Grand Princess",
          "China/Guangdong",
          "China/Guangxi",
          "China/Guizhou",
          "China/Hainan",
          "US/Hawaii",
          "China/Hebei",
          "China/Heilongjiang",
          "China/Henan",
          "China/Hong Kong",
          "China/Hubei",
          "China/Hunan",
          "US/Idaho",
          "US/Illinois",
          "US/Indiana",
          "China/Inner Mongolia",
          "US/Iowa",
          "China/Jiangsu",
          "China/Jiangxi",
          "China/Jilin",
          "US/Kansas",
          "US/Kentucky",
          "China/Liaoning",
          "US/Louisiana",
          "China/Macau",
          "US/Maine",
          "US/Maryland",
          "US/Massachusetts",
          "US/Michigan",
          "US/Minnesota",
          "US/Mississippi",
          "US/Missouri",
          "US/Montana",
          "US/Nebraska",
          "US/Nevada",
          "Canada/New Brunswick",
          "US/New Hampshire",
          "US/New Jersey",
          "US/New Mexico",
          "Australia/New South Wales",
          "US/New York",
          "China/Ningxia",
          "US/North Carolina",
          "US/North Dakota",
          "Australia/Northern Territory",
          "US/Ohio",
          "US/Oklahoma",
          "Canada/Ontario",
          "US/Oregon",
          "US/Pennsylvania",
          "China/Qinghai",
          "Canada/Quebec",
          "Australia/Queensland",
          "US/Rhode Island",
          "France/Saint Barthelemy",
          "China/Shaanxi",
          "China/Shandong",
          "China/Shanghai",
          "China/Shanxi",
          "China/Sichuan",
          "Australia/South Australia",
          "US/South Carolina",
          "US/South Dakota",
          "France/St Martin",
          "Australia/Tasmania",
          "US/Tennessee",
          "US/Texas",
          "China/Tianjin",
          "China/Tibet",
          "UK/UK",
          "US/Utah",
          "US/Vermont",
          "Australia/Victoria",
          "US/Virginia",
          "US/Washington",
          "US/West Virginia",
          "Australia/Western Australia",
          "US/Wisconsin",
          "US/Wyoming",
          "China/Xinjiang",
          "China/Yunnan",
          "China/Zhejiang",
          "Afghanistan",
          "Albania",
          "Algeria",
          "Andorra",
          "Argentina",
          "Armenia",
          "Australia",
          "Austria",
          "Azerbaijan",
          "Bahrain",
          "Bangladesh",
          "Belarus",
          "Belgium",
          "Bhutan",
          "Bolivia",
          "Bosnia and Herzegovina",
          "Brazil",
          "Brunei",
          "Bulgaria",
          "Burkina Faso",
          "Cambodia",
          "Cameroon",
          "Canada",
          "Chile",
          "China",
          "Colombia",
          "Congo (Kinshasa)",
          "Costa Rica",
          "Croatia",
          "Cyprus",
          "Czech Republic",
          "Denmark",
          "Dominican Republic",
          "Ecuador",
          "Egypt",
          "Estonia",
          "Finland",
          "France",
          "French Guiana",
          "Georgia",
          "Germany",
          "Greece",
          "Holy See",
          "Honduras",
          "Hungary",
          "Iceland",
          "India",
          "Indonesia",
          "Iran",
          "Iraq",
          "Ireland",
          "Israel",
          "Italy",
          "Ivory Coast",
          "Jamaica",
          "Japan",
          "Jordan",
          "Kuwait",
          "Latvia",
          "Lebanon",
          "Liechtenstein",
          "Lithuania",
          "Luxembourg",
          "Malaysia",
          "Maldives",
          "Malta",
          "Martinique",
          "Mexico",
          "Moldova",
          "Monaco",
          "Mongolia",
          "Morocco",
          "Nepal",
          "Netherlands",
          "New Zealand",
          "Nigeria",
          "North Macedonia",
          "Norway",
          "Oman",
          "Others",
          "Pakistan",
          "Panama",
          "Paraguay",
          "Peru",
          "Philippines",
          "Poland",
          "Portugal",
          "Qatar",
          "Reunion",
          "Romania",
          "Russia",
          "San Marino",
          "Saudi Arabia",
          "Senegal",
          "Serbia",
          "Singapore",
          "Slovakia",
          "Slovenia",
          "South Africa",
          "South Korea",
          "Spain",
          "Sri Lanka",
          "Sweden",
          "Switzerland",
          "Taiwan",
          "Thailand",
          "Togo",
          "Tunisia",
          "Turkey",
          "UK",
          "US",
          "Ukraine",
          "United Arab Emirates",
          "Vietnam",
          "occupied Palestinian territory"
         ],
         "labels": [
          "",
          "",
          "",
          "",
          "",
          "",
          "",
          "",
          "",
          "",
          "",
          "",
          "",
          "",
          "",
          "",
          "",
          "",
          "",
          "",
          "",
          "",
          "",
          "",
          "",
          "",
          "",
          "",
          "",
          "",
          "",
          "",
          "",
          "",
          "",
          "",
          "",
          "",
          "",
          "",
          "",
          "",
          "",
          "",
          "",
          "",
          "",
          "",
          "",
          "",
          "",
          "",
          "",
          "",
          "",
          "",
          "",
          "",
          "",
          "",
          "",
          "",
          "",
          "",
          "",
          "",
          "",
          "",
          "",
          "",
          "",
          "",
          "",
          "",
          "",
          "",
          "",
          "",
          "",
          "",
          "",
          "",
          "",
          "",
          "",
          "",
          "",
          "",
          "",
          "",
          "",
          "",
          "",
          "",
          "",
          "",
          "",
          "",
          "",
          "",
          "",
          "",
          "",
          "",
          "",
          "",
          "",
          "Alaska",
          "Alberta",
          "Anhui",
          "Arizona",
          "Arkansas",
          "Beijing",
          "British Columbia",
          "California",
          "Channel Islands",
          "Chongqing",
          "Colorado",
          "Connecticut",
          "Delaware",
          "Denmark",
          "Diamond Princess cruise ship",
          "Diamond Princess cruise ship",
          "Diamond Princess cruise ship",
          "District of Columbia",
          "Faroe Islands",
          "Florida",
          "France",
          "Fujian",
          "Gansu",
          "Georgia",
          "Gibraltar",
          "Grand Princess",
          "Guangdong",
          "Guangxi",
          "Guizhou",
          "Hainan",
          "Hawaii",
          "Hebei",
          "Heilongjiang",
          "Henan",
          "Hong Kong",
          "Hubei",
          "Hunan",
          "Idaho",
          "Illinois",
          "Indiana",
          "Inner Mongolia",
          "Iowa",
          "Jiangsu",
          "Jiangxi",
          "Jilin",
          "Kansas",
          "Kentucky",
          "Liaoning",
          "Louisiana",
          "Macau",
          "Maine",
          "Maryland",
          "Massachusetts",
          "Michigan",
          "Minnesota",
          "Mississippi",
          "Missouri",
          "Montana",
          "Nebraska",
          "Nevada",
          "New Brunswick",
          "New Hampshire",
          "New Jersey",
          "New Mexico",
          "New South Wales",
          "New York",
          "Ningxia",
          "North Carolina",
          "North Dakota",
          "Northern Territory",
          "Ohio",
          "Oklahoma",
          "Ontario",
          "Oregon",
          "Pennsylvania",
          "Qinghai",
          "Quebec",
          "Queensland",
          "Rhode Island",
          "Saint Barthelemy",
          "Shaanxi",
          "Shandong",
          "Shanghai",
          "Shanxi",
          "Sichuan",
          "South Australia",
          "South Carolina",
          "South Dakota",
          "St Martin",
          "Tasmania",
          "Tennessee",
          "Texas",
          "Tianjin",
          "Tibet",
          "UK",
          "Utah",
          "Vermont",
          "Victoria",
          "Virginia",
          "Washington",
          "West Virginia",
          "Western Australia",
          "Wisconsin",
          "Wyoming",
          "Xinjiang",
          "Yunnan",
          "Zhejiang",
          "Afghanistan",
          "Albania",
          "Algeria",
          "Andorra",
          "Argentina",
          "Armenia",
          "Australia",
          "Austria",
          "Azerbaijan",
          "Bahrain",
          "Bangladesh",
          "Belarus",
          "Belgium",
          "Bhutan",
          "Bolivia",
          "Bosnia and Herzegovina",
          "Brazil",
          "Brunei",
          "Bulgaria",
          "Burkina Faso",
          "Cambodia",
          "Cameroon",
          "Canada",
          "Chile",
          "China",
          "Colombia",
          "Congo (Kinshasa)",
          "Costa Rica",
          "Croatia",
          "Cyprus",
          "Czech Republic",
          "Denmark",
          "Dominican Republic",
          "Ecuador",
          "Egypt",
          "Estonia",
          "Finland",
          "France",
          "French Guiana",
          "Georgia",
          "Germany",
          "Greece",
          "Holy See",
          "Honduras",
          "Hungary",
          "Iceland",
          "India",
          "Indonesia",
          "Iran",
          "Iraq",
          "Ireland",
          "Israel",
          "Italy",
          "Ivory Coast",
          "Jamaica",
          "Japan",
          "Jordan",
          "Kuwait",
          "Latvia",
          "Lebanon",
          "Liechtenstein",
          "Lithuania",
          "Luxembourg",
          "Malaysia",
          "Maldives",
          "Malta",
          "Martinique",
          "Mexico",
          "Moldova",
          "Monaco",
          "Mongolia",
          "Morocco",
          "Nepal",
          "Netherlands",
          "New Zealand",
          "Nigeria",
          "North Macedonia",
          "Norway",
          "Oman",
          "Others",
          "Pakistan",
          "Panama",
          "Paraguay",
          "Peru",
          "Philippines",
          "Poland",
          "Portugal",
          "Qatar",
          "Reunion",
          "Romania",
          "Russia",
          "San Marino",
          "Saudi Arabia",
          "Senegal",
          "Serbia",
          "Singapore",
          "Slovakia",
          "Slovenia",
          "South Africa",
          "South Korea",
          "Spain",
          "Sri Lanka",
          "Sweden",
          "Switzerland",
          "Taiwan",
          "Thailand",
          "Togo",
          "Tunisia",
          "Turkey",
          "UK",
          "US",
          "Ukraine",
          "United Arab Emirates",
          "Vietnam",
          "occupied Palestinian territory"
         ],
         "name": "",
         "parents": [
          "Afghanistan",
          "Albania",
          "Algeria",
          "Andorra",
          "Argentina",
          "Armenia",
          "Austria",
          "Azerbaijan",
          "Bahrain",
          "Bangladesh",
          "Belarus",
          "Belgium",
          "Bhutan",
          "Bolivia",
          "Bosnia and Herzegovina",
          "Brazil",
          "Brunei",
          "Bulgaria",
          "Burkina Faso",
          "Cambodia",
          "Cameroon",
          "Chile",
          "Colombia",
          "Congo (Kinshasa)",
          "Costa Rica",
          "Croatia",
          "Cyprus",
          "Czech Republic",
          "Dominican Republic",
          "Ecuador",
          "Egypt",
          "Estonia",
          "Finland",
          "French Guiana",
          "Georgia",
          "Germany",
          "Greece",
          "Holy See",
          "Honduras",
          "Hungary",
          "Iceland",
          "India",
          "Indonesia",
          "Iran",
          "Iraq",
          "Ireland",
          "Israel",
          "Italy",
          "Ivory Coast",
          "Jamaica",
          "Japan",
          "Jordan",
          "Kuwait",
          "Latvia",
          "Lebanon",
          "Liechtenstein",
          "Lithuania",
          "Luxembourg",
          "Malaysia",
          "Maldives",
          "Malta",
          "Martinique",
          "Mexico",
          "Moldova",
          "Monaco",
          "Mongolia",
          "Morocco",
          "Nepal",
          "Netherlands",
          "New Zealand",
          "Nigeria",
          "North Macedonia",
          "Norway",
          "Oman",
          "Pakistan",
          "Panama",
          "Paraguay",
          "Peru",
          "Philippines",
          "Poland",
          "Portugal",
          "Qatar",
          "Reunion",
          "Romania",
          "Russia",
          "San Marino",
          "Saudi Arabia",
          "Senegal",
          "Serbia",
          "Singapore",
          "Slovakia",
          "Slovenia",
          "South Africa",
          "South Korea",
          "Spain",
          "Sri Lanka",
          "Sweden",
          "Switzerland",
          "Taiwan",
          "Thailand",
          "Togo",
          "Tunisia",
          "Turkey",
          "Ukraine",
          "United Arab Emirates",
          "Vietnam",
          "occupied Palestinian territory",
          "US",
          "Canada",
          "China",
          "US",
          "US",
          "China",
          "Canada",
          "US",
          "UK",
          "China",
          "US",
          "US",
          "US",
          "Denmark",
          "Australia",
          "Others",
          "US",
          "US",
          "Denmark",
          "US",
          "France",
          "China",
          "China",
          "US",
          "UK",
          "US",
          "China",
          "China",
          "China",
          "China",
          "US",
          "China",
          "China",
          "China",
          "China",
          "China",
          "China",
          "US",
          "US",
          "US",
          "China",
          "US",
          "China",
          "China",
          "China",
          "US",
          "US",
          "China",
          "US",
          "China",
          "US",
          "US",
          "US",
          "US",
          "US",
          "US",
          "US",
          "US",
          "US",
          "US",
          "Canada",
          "US",
          "US",
          "US",
          "Australia",
          "US",
          "China",
          "US",
          "US",
          "Australia",
          "US",
          "US",
          "Canada",
          "US",
          "US",
          "China",
          "Canada",
          "Australia",
          "US",
          "France",
          "China",
          "China",
          "China",
          "China",
          "China",
          "Australia",
          "US",
          "US",
          "France",
          "Australia",
          "US",
          "US",
          "China",
          "China",
          "UK",
          "US",
          "US",
          "Australia",
          "US",
          "US",
          "US",
          "Australia",
          "US",
          "US",
          "China",
          "China",
          "China",
          "",
          "",
          "",
          "",
          "",
          "",
          "",
          "",
          "",
          "",
          "",
          "",
          "",
          "",
          "",
          "",
          "",
          "",
          "",
          "",
          "",
          "",
          "",
          "",
          "",
          "",
          "",
          "",
          "",
          "",
          "",
          "",
          "",
          "",
          "",
          "",
          "",
          "",
          "",
          "",
          "",
          "",
          "",
          "",
          "",
          "",
          "",
          "",
          "",
          "",
          "",
          "",
          "",
          "",
          "",
          "",
          "",
          "",
          "",
          "",
          "",
          "",
          "",
          "",
          "",
          "",
          "",
          "",
          "",
          "",
          "",
          "",
          "",
          "",
          "",
          "",
          "",
          "",
          "",
          "",
          "",
          "",
          "",
          "",
          "",
          "",
          "",
          "",
          "",
          "",
          "",
          "",
          "",
          "",
          "",
          "",
          "",
          "",
          "",
          "",
          "",
          "",
          "",
          "",
          "",
          "",
          "",
          "",
          "",
          "",
          "",
          "",
          "",
          "",
          ""
         ],
         "textinfo": "label+text+value",
         "type": "treemap",
         "values": [
          7,
          12,
          20,
          1,
          19,
          1,
          246,
          11,
          195,
          3,
          9,
          314,
          1,
          2,
          7,
          38,
          11,
          7,
          2,
          3,
          2,
          23,
          9,
          1,
          13,
          19,
          6,
          91,
          5,
          17,
          60,
          16,
          59,
          5,
          24,
          1908,
          99,
          1,
          2,
          13,
          85,
          62,
          34,
          9000,
          71,
          43,
          109,
          12462,
          1,
          1,
          639,
          1,
          72,
          10,
          61,
          1,
          3,
          7,
          149,
          8,
          6,
          3,
          8,
          3,
          1,
          1,
          5,
          1,
          503,
          5,
          2,
          7,
          598,
          18,
          19,
          8,
          5,
          11,
          49,
          31,
          59,
          262,
          1,
          45,
          20,
          62,
          21,
          4,
          12,
          178,
          10,
          57,
          13,
          7755,
          2277,
          2,
          500,
          652,
          48,
          59,
          1,
          7,
          1,
          1,
          74,
          38,
          0,
          0,
          19,
          990,
          9,
          1,
          435,
          39,
          177,
          2,
          576,
          34,
          3,
          1,
          442,
          0,
          696,
          46,
          10,
          2,
          28,
          2281,
          296,
          127,
          23,
          1,
          21,
          1356,
          252,
          146,
          168,
          2,
          318,
          482,
          1273,
          126,
          67773,
          1018,
          0,
          25,
          11,
          75,
          13,
          631,
          935,
          93,
          1,
          8,
          125,
          6,
          10,
          0,
          9,
          95,
          2,
          5,
          0,
          1,
          1,
          5,
          7,
          1,
          5,
          23,
          3,
          65,
          220,
          75,
          7,
          0,
          1,
          4,
          2,
          41,
          19,
          16,
          18,
          8,
          20,
          5,
          1,
          245,
          760,
          344,
          133,
          539,
          9,
          10,
          8,
          2,
          3,
          9,
          21,
          136,
          1,
          456,
          3,
          1,
          21,
          9,
          366,
          0,
          9,
          6,
          0,
          76,
          174,
          1215,
          7,
          12,
          20,
          1,
          19,
          1,
          128,
          246,
          11,
          195,
          3,
          9,
          314,
          1,
          2,
          7,
          38,
          11,
          7,
          2,
          3,
          2,
          108,
          23,
          80921,
          9,
          1,
          13,
          19,
          6,
          91,
          444,
          5,
          17,
          60,
          16,
          59,
          2284,
          5,
          24,
          1908,
          99,
          1,
          2,
          13,
          85,
          62,
          34,
          9000,
          71,
          43,
          109,
          12462,
          1,
          1,
          639,
          1,
          72,
          10,
          61,
          1,
          3,
          7,
          149,
          8,
          6,
          3,
          8,
          3,
          1,
          1,
          5,
          1,
          503,
          5,
          2,
          7,
          598,
          18,
          696,
          19,
          8,
          5,
          11,
          49,
          31,
          59,
          262,
          1,
          45,
          20,
          62,
          21,
          4,
          12,
          178,
          10,
          57,
          13,
          7755,
          2277,
          2,
          500,
          652,
          48,
          59,
          1,
          7,
          1,
          459,
          1281,
          1,
          74,
          38,
          0
         ]
        }
       ],
       "layout": {
        "height": 700,
        "legend": {
         "tracegroupgap": 0
        },
        "template": {
         "data": {
          "bar": [
           {
            "error_x": {
             "color": "#2a3f5f"
            },
            "error_y": {
             "color": "#2a3f5f"
            },
            "marker": {
             "line": {
              "color": "#E5ECF6",
              "width": 0.5
             }
            },
            "type": "bar"
           }
          ],
          "barpolar": [
           {
            "marker": {
             "line": {
              "color": "#E5ECF6",
              "width": 0.5
             }
            },
            "type": "barpolar"
           }
          ],
          "carpet": [
           {
            "aaxis": {
             "endlinecolor": "#2a3f5f",
             "gridcolor": "white",
             "linecolor": "white",
             "minorgridcolor": "white",
             "startlinecolor": "#2a3f5f"
            },
            "baxis": {
             "endlinecolor": "#2a3f5f",
             "gridcolor": "white",
             "linecolor": "white",
             "minorgridcolor": "white",
             "startlinecolor": "#2a3f5f"
            },
            "type": "carpet"
           }
          ],
          "choropleth": [
           {
            "colorbar": {
             "outlinewidth": 0,
             "ticks": ""
            },
            "type": "choropleth"
           }
          ],
          "contour": [
           {
            "colorbar": {
             "outlinewidth": 0,
             "ticks": ""
            },
            "colorscale": [
             [
              0,
              "#0d0887"
             ],
             [
              0.1111111111111111,
              "#46039f"
             ],
             [
              0.2222222222222222,
              "#7201a8"
             ],
             [
              0.3333333333333333,
              "#9c179e"
             ],
             [
              0.4444444444444444,
              "#bd3786"
             ],
             [
              0.5555555555555556,
              "#d8576b"
             ],
             [
              0.6666666666666666,
              "#ed7953"
             ],
             [
              0.7777777777777778,
              "#fb9f3a"
             ],
             [
              0.8888888888888888,
              "#fdca26"
             ],
             [
              1,
              "#f0f921"
             ]
            ],
            "type": "contour"
           }
          ],
          "contourcarpet": [
           {
            "colorbar": {
             "outlinewidth": 0,
             "ticks": ""
            },
            "type": "contourcarpet"
           }
          ],
          "heatmap": [
           {
            "colorbar": {
             "outlinewidth": 0,
             "ticks": ""
            },
            "colorscale": [
             [
              0,
              "#0d0887"
             ],
             [
              0.1111111111111111,
              "#46039f"
             ],
             [
              0.2222222222222222,
              "#7201a8"
             ],
             [
              0.3333333333333333,
              "#9c179e"
             ],
             [
              0.4444444444444444,
              "#bd3786"
             ],
             [
              0.5555555555555556,
              "#d8576b"
             ],
             [
              0.6666666666666666,
              "#ed7953"
             ],
             [
              0.7777777777777778,
              "#fb9f3a"
             ],
             [
              0.8888888888888888,
              "#fdca26"
             ],
             [
              1,
              "#f0f921"
             ]
            ],
            "type": "heatmap"
           }
          ],
          "heatmapgl": [
           {
            "colorbar": {
             "outlinewidth": 0,
             "ticks": ""
            },
            "colorscale": [
             [
              0,
              "#0d0887"
             ],
             [
              0.1111111111111111,
              "#46039f"
             ],
             [
              0.2222222222222222,
              "#7201a8"
             ],
             [
              0.3333333333333333,
              "#9c179e"
             ],
             [
              0.4444444444444444,
              "#bd3786"
             ],
             [
              0.5555555555555556,
              "#d8576b"
             ],
             [
              0.6666666666666666,
              "#ed7953"
             ],
             [
              0.7777777777777778,
              "#fb9f3a"
             ],
             [
              0.8888888888888888,
              "#fdca26"
             ],
             [
              1,
              "#f0f921"
             ]
            ],
            "type": "heatmapgl"
           }
          ],
          "histogram": [
           {
            "marker": {
             "colorbar": {
              "outlinewidth": 0,
              "ticks": ""
             }
            },
            "type": "histogram"
           }
          ],
          "histogram2d": [
           {
            "colorbar": {
             "outlinewidth": 0,
             "ticks": ""
            },
            "colorscale": [
             [
              0,
              "#0d0887"
             ],
             [
              0.1111111111111111,
              "#46039f"
             ],
             [
              0.2222222222222222,
              "#7201a8"
             ],
             [
              0.3333333333333333,
              "#9c179e"
             ],
             [
              0.4444444444444444,
              "#bd3786"
             ],
             [
              0.5555555555555556,
              "#d8576b"
             ],
             [
              0.6666666666666666,
              "#ed7953"
             ],
             [
              0.7777777777777778,
              "#fb9f3a"
             ],
             [
              0.8888888888888888,
              "#fdca26"
             ],
             [
              1,
              "#f0f921"
             ]
            ],
            "type": "histogram2d"
           }
          ],
          "histogram2dcontour": [
           {
            "colorbar": {
             "outlinewidth": 0,
             "ticks": ""
            },
            "colorscale": [
             [
              0,
              "#0d0887"
             ],
             [
              0.1111111111111111,
              "#46039f"
             ],
             [
              0.2222222222222222,
              "#7201a8"
             ],
             [
              0.3333333333333333,
              "#9c179e"
             ],
             [
              0.4444444444444444,
              "#bd3786"
             ],
             [
              0.5555555555555556,
              "#d8576b"
             ],
             [
              0.6666666666666666,
              "#ed7953"
             ],
             [
              0.7777777777777778,
              "#fb9f3a"
             ],
             [
              0.8888888888888888,
              "#fdca26"
             ],
             [
              1,
              "#f0f921"
             ]
            ],
            "type": "histogram2dcontour"
           }
          ],
          "mesh3d": [
           {
            "colorbar": {
             "outlinewidth": 0,
             "ticks": ""
            },
            "type": "mesh3d"
           }
          ],
          "parcoords": [
           {
            "line": {
             "colorbar": {
              "outlinewidth": 0,
              "ticks": ""
             }
            },
            "type": "parcoords"
           }
          ],
          "pie": [
           {
            "automargin": true,
            "type": "pie"
           }
          ],
          "scatter": [
           {
            "marker": {
             "colorbar": {
              "outlinewidth": 0,
              "ticks": ""
             }
            },
            "type": "scatter"
           }
          ],
          "scatter3d": [
           {
            "line": {
             "colorbar": {
              "outlinewidth": 0,
              "ticks": ""
             }
            },
            "marker": {
             "colorbar": {
              "outlinewidth": 0,
              "ticks": ""
             }
            },
            "type": "scatter3d"
           }
          ],
          "scattercarpet": [
           {
            "marker": {
             "colorbar": {
              "outlinewidth": 0,
              "ticks": ""
             }
            },
            "type": "scattercarpet"
           }
          ],
          "scattergeo": [
           {
            "marker": {
             "colorbar": {
              "outlinewidth": 0,
              "ticks": ""
             }
            },
            "type": "scattergeo"
           }
          ],
          "scattergl": [
           {
            "marker": {
             "colorbar": {
              "outlinewidth": 0,
              "ticks": ""
             }
            },
            "type": "scattergl"
           }
          ],
          "scattermapbox": [
           {
            "marker": {
             "colorbar": {
              "outlinewidth": 0,
              "ticks": ""
             }
            },
            "type": "scattermapbox"
           }
          ],
          "scatterpolar": [
           {
            "marker": {
             "colorbar": {
              "outlinewidth": 0,
              "ticks": ""
             }
            },
            "type": "scatterpolar"
           }
          ],
          "scatterpolargl": [
           {
            "marker": {
             "colorbar": {
              "outlinewidth": 0,
              "ticks": ""
             }
            },
            "type": "scatterpolargl"
           }
          ],
          "scatterternary": [
           {
            "marker": {
             "colorbar": {
              "outlinewidth": 0,
              "ticks": ""
             }
            },
            "type": "scatterternary"
           }
          ],
          "surface": [
           {
            "colorbar": {
             "outlinewidth": 0,
             "ticks": ""
            },
            "colorscale": [
             [
              0,
              "#0d0887"
             ],
             [
              0.1111111111111111,
              "#46039f"
             ],
             [
              0.2222222222222222,
              "#7201a8"
             ],
             [
              0.3333333333333333,
              "#9c179e"
             ],
             [
              0.4444444444444444,
              "#bd3786"
             ],
             [
              0.5555555555555556,
              "#d8576b"
             ],
             [
              0.6666666666666666,
              "#ed7953"
             ],
             [
              0.7777777777777778,
              "#fb9f3a"
             ],
             [
              0.8888888888888888,
              "#fdca26"
             ],
             [
              1,
              "#f0f921"
             ]
            ],
            "type": "surface"
           }
          ],
          "table": [
           {
            "cells": {
             "fill": {
              "color": "#EBF0F8"
             },
             "line": {
              "color": "white"
             }
            },
            "header": {
             "fill": {
              "color": "#C8D4E3"
             },
             "line": {
              "color": "white"
             }
            },
            "type": "table"
           }
          ]
         },
         "layout": {
          "annotationdefaults": {
           "arrowcolor": "#2a3f5f",
           "arrowhead": 0,
           "arrowwidth": 1
          },
          "coloraxis": {
           "colorbar": {
            "outlinewidth": 0,
            "ticks": ""
           }
          },
          "colorscale": {
           "diverging": [
            [
             0,
             "#8e0152"
            ],
            [
             0.1,
             "#c51b7d"
            ],
            [
             0.2,
             "#de77ae"
            ],
            [
             0.3,
             "#f1b6da"
            ],
            [
             0.4,
             "#fde0ef"
            ],
            [
             0.5,
             "#f7f7f7"
            ],
            [
             0.6,
             "#e6f5d0"
            ],
            [
             0.7,
             "#b8e186"
            ],
            [
             0.8,
             "#7fbc41"
            ],
            [
             0.9,
             "#4d9221"
            ],
            [
             1,
             "#276419"
            ]
           ],
           "sequential": [
            [
             0,
             "#0d0887"
            ],
            [
             0.1111111111111111,
             "#46039f"
            ],
            [
             0.2222222222222222,
             "#7201a8"
            ],
            [
             0.3333333333333333,
             "#9c179e"
            ],
            [
             0.4444444444444444,
             "#bd3786"
            ],
            [
             0.5555555555555556,
             "#d8576b"
            ],
            [
             0.6666666666666666,
             "#ed7953"
            ],
            [
             0.7777777777777778,
             "#fb9f3a"
            ],
            [
             0.8888888888888888,
             "#fdca26"
            ],
            [
             1,
             "#f0f921"
            ]
           ],
           "sequentialminus": [
            [
             0,
             "#0d0887"
            ],
            [
             0.1111111111111111,
             "#46039f"
            ],
            [
             0.2222222222222222,
             "#7201a8"
            ],
            [
             0.3333333333333333,
             "#9c179e"
            ],
            [
             0.4444444444444444,
             "#bd3786"
            ],
            [
             0.5555555555555556,
             "#d8576b"
            ],
            [
             0.6666666666666666,
             "#ed7953"
            ],
            [
             0.7777777777777778,
             "#fb9f3a"
            ],
            [
             0.8888888888888888,
             "#fdca26"
            ],
            [
             1,
             "#f0f921"
            ]
           ]
          },
          "colorway": [
           "#636efa",
           "#EF553B",
           "#00cc96",
           "#ab63fa",
           "#FFA15A",
           "#19d3f3",
           "#FF6692",
           "#B6E880",
           "#FF97FF",
           "#FECB52"
          ],
          "font": {
           "color": "#2a3f5f"
          },
          "geo": {
           "bgcolor": "white",
           "lakecolor": "white",
           "landcolor": "#E5ECF6",
           "showlakes": true,
           "showland": true,
           "subunitcolor": "white"
          },
          "hoverlabel": {
           "align": "left"
          },
          "hovermode": "closest",
          "mapbox": {
           "style": "light"
          },
          "paper_bgcolor": "white",
          "plot_bgcolor": "#E5ECF6",
          "polar": {
           "angularaxis": {
            "gridcolor": "white",
            "linecolor": "white",
            "ticks": ""
           },
           "bgcolor": "#E5ECF6",
           "radialaxis": {
            "gridcolor": "white",
            "linecolor": "white",
            "ticks": ""
           }
          },
          "scene": {
           "xaxis": {
            "backgroundcolor": "#E5ECF6",
            "gridcolor": "white",
            "gridwidth": 2,
            "linecolor": "white",
            "showbackground": true,
            "ticks": "",
            "zerolinecolor": "white"
           },
           "yaxis": {
            "backgroundcolor": "#E5ECF6",
            "gridcolor": "white",
            "gridwidth": 2,
            "linecolor": "white",
            "showbackground": true,
            "ticks": "",
            "zerolinecolor": "white"
           },
           "zaxis": {
            "backgroundcolor": "#E5ECF6",
            "gridcolor": "white",
            "gridwidth": 2,
            "linecolor": "white",
            "showbackground": true,
            "ticks": "",
            "zerolinecolor": "white"
           }
          },
          "shapedefaults": {
           "line": {
            "color": "#2a3f5f"
           }
          },
          "ternary": {
           "aaxis": {
            "gridcolor": "white",
            "linecolor": "white",
            "ticks": ""
           },
           "baxis": {
            "gridcolor": "white",
            "linecolor": "white",
            "ticks": ""
           },
           "bgcolor": "#E5ECF6",
           "caxis": {
            "gridcolor": "white",
            "linecolor": "white",
            "ticks": ""
           }
          },
          "title": {
           "x": 0.05
          },
          "xaxis": {
           "automargin": true,
           "gridcolor": "white",
           "linecolor": "white",
           "ticks": "",
           "title": {
            "standoff": 15
           },
           "zerolinecolor": "white",
           "zerolinewidth": 2
          },
          "yaxis": {
           "automargin": true,
           "gridcolor": "white",
           "linecolor": "white",
           "ticks": "",
           "title": {
            "standoff": 15
           },
           "zerolinecolor": "white",
           "zerolinewidth": 2
          }
         }
        },
        "title": {
         "text": "Number of Confirmed Cases"
        },
        "treemapcolorway": [
         "rgb(95, 70, 144)",
         "rgb(29, 105, 150)",
         "rgb(56, 166, 165)",
         "rgb(15, 133, 84)",
         "rgb(115, 175, 72)",
         "rgb(237, 173, 8)",
         "rgb(225, 124, 5)",
         "rgb(204, 80, 62)",
         "rgb(148, 52, 110)",
         "rgb(111, 64, 112)",
         "rgb(102, 102, 102)"
        ]
       }
      },
      "text/html": [
       "<div>\n",
       "        \n",
       "        \n",
       "            <div id=\"c672175c-c313-4ea5-85d1-fc4955febd23\" class=\"plotly-graph-div\" style=\"height:700px; width:100%;\"></div>\n",
       "            <script type=\"text/javascript\">\n",
       "                require([\"plotly\"], function(Plotly) {\n",
       "                    window.PLOTLYENV=window.PLOTLYENV || {};\n",
       "                    \n",
       "                if (document.getElementById(\"c672175c-c313-4ea5-85d1-fc4955febd23\")) {\n",
       "                    Plotly.newPlot(\n",
       "                        'c672175c-c313-4ea5-85d1-fc4955febd23',\n",
       "                        [{\"branchvalues\": \"total\", \"domain\": {\"x\": [0.0, 1.0], \"y\": [0.0, 1.0]}, \"hoverlabel\": {\"namelength\": 0}, \"hovertemplate\": \"labels=%{label}<br>Confirmed=%{value}<br>parent=%{parent}<br>id=%{id}\", \"ids\": [\"Afghanistan/\", \"Albania/\", \"Algeria/\", \"Andorra/\", \"Argentina/\", \"Armenia/\", \"Austria/\", \"Azerbaijan/\", \"Bahrain/\", \"Bangladesh/\", \"Belarus/\", \"Belgium/\", \"Bhutan/\", \"Bolivia/\", \"Bosnia and Herzegovina/\", \"Brazil/\", \"Brunei/\", \"Bulgaria/\", \"Burkina Faso/\", \"Cambodia/\", \"Cameroon/\", \"Chile/\", \"Colombia/\", \"Congo (Kinshasa)/\", \"Costa Rica/\", \"Croatia/\", \"Cyprus/\", \"Czech Republic/\", \"Dominican Republic/\", \"Ecuador/\", \"Egypt/\", \"Estonia/\", \"Finland/\", \"French Guiana/\", \"Georgia/\", \"Germany/\", \"Greece/\", \"Holy See/\", \"Honduras/\", \"Hungary/\", \"Iceland/\", \"India/\", \"Indonesia/\", \"Iran/\", \"Iraq/\", \"Ireland/\", \"Israel/\", \"Italy/\", \"Ivory Coast/\", \"Jamaica/\", \"Japan/\", \"Jordan/\", \"Kuwait/\", \"Latvia/\", \"Lebanon/\", \"Liechtenstein/\", \"Lithuania/\", \"Luxembourg/\", \"Malaysia/\", \"Maldives/\", \"Malta/\", \"Martinique/\", \"Mexico/\", \"Moldova/\", \"Monaco/\", \"Mongolia/\", \"Morocco/\", \"Nepal/\", \"Netherlands/\", \"New Zealand/\", \"Nigeria/\", \"North Macedonia/\", \"Norway/\", \"Oman/\", \"Pakistan/\", \"Panama/\", \"Paraguay/\", \"Peru/\", \"Philippines/\", \"Poland/\", \"Portugal/\", \"Qatar/\", \"Reunion/\", \"Romania/\", \"Russia/\", \"San Marino/\", \"Saudi Arabia/\", \"Senegal/\", \"Serbia/\", \"Singapore/\", \"Slovakia/\", \"Slovenia/\", \"South Africa/\", \"South Korea/\", \"Spain/\", \"Sri Lanka/\", \"Sweden/\", \"Switzerland/\", \"Taiwan/\", \"Thailand/\", \"Togo/\", \"Tunisia/\", \"Turkey/\", \"Ukraine/\", \"United Arab Emirates/\", \"Vietnam/\", \"occupied Palestinian territory/\", \"US/Alaska\", \"Canada/Alberta\", \"China/Anhui\", \"US/Arizona\", \"US/Arkansas\", \"China/Beijing\", \"Canada/British Columbia\", \"US/California\", \"UK/Channel Islands\", \"China/Chongqing\", \"US/Colorado\", \"US/Connecticut\", \"US/Delaware\", \"Denmark/Denmark\", \"Australia/Diamond Princess cruise ship\", \"Others/Diamond Princess cruise ship\", \"US/Diamond Princess cruise ship\", \"US/District of Columbia\", \"Denmark/Faroe Islands\", \"US/Florida\", \"France/France\", \"China/Fujian\", \"China/Gansu\", \"US/Georgia\", \"UK/Gibraltar\", \"US/Grand Princess\", \"China/Guangdong\", \"China/Guangxi\", \"China/Guizhou\", \"China/Hainan\", \"US/Hawaii\", \"China/Hebei\", \"China/Heilongjiang\", \"China/Henan\", \"China/Hong Kong\", \"China/Hubei\", \"China/Hunan\", \"US/Idaho\", \"US/Illinois\", \"US/Indiana\", \"China/Inner Mongolia\", \"US/Iowa\", \"China/Jiangsu\", \"China/Jiangxi\", \"China/Jilin\", \"US/Kansas\", \"US/Kentucky\", \"China/Liaoning\", \"US/Louisiana\", \"China/Macau\", \"US/Maine\", \"US/Maryland\", \"US/Massachusetts\", \"US/Michigan\", \"US/Minnesota\", \"US/Mississippi\", \"US/Missouri\", \"US/Montana\", \"US/Nebraska\", \"US/Nevada\", \"Canada/New Brunswick\", \"US/New Hampshire\", \"US/New Jersey\", \"US/New Mexico\", \"Australia/New South Wales\", \"US/New York\", \"China/Ningxia\", \"US/North Carolina\", \"US/North Dakota\", \"Australia/Northern Territory\", \"US/Ohio\", \"US/Oklahoma\", \"Canada/Ontario\", \"US/Oregon\", \"US/Pennsylvania\", \"China/Qinghai\", \"Canada/Quebec\", \"Australia/Queensland\", \"US/Rhode Island\", \"France/Saint Barthelemy\", \"China/Shaanxi\", \"China/Shandong\", \"China/Shanghai\", \"China/Shanxi\", \"China/Sichuan\", \"Australia/South Australia\", \"US/South Carolina\", \"US/South Dakota\", \"France/St Martin\", \"Australia/Tasmania\", \"US/Tennessee\", \"US/Texas\", \"China/Tianjin\", \"China/Tibet\", \"UK/UK\", \"US/Utah\", \"US/Vermont\", \"Australia/Victoria\", \"US/Virginia\", \"US/Washington\", \"US/West Virginia\", \"Australia/Western Australia\", \"US/Wisconsin\", \"US/Wyoming\", \"China/Xinjiang\", \"China/Yunnan\", \"China/Zhejiang\", \"Afghanistan\", \"Albania\", \"Algeria\", \"Andorra\", \"Argentina\", \"Armenia\", \"Australia\", \"Austria\", \"Azerbaijan\", \"Bahrain\", \"Bangladesh\", \"Belarus\", \"Belgium\", \"Bhutan\", \"Bolivia\", \"Bosnia and Herzegovina\", \"Brazil\", \"Brunei\", \"Bulgaria\", \"Burkina Faso\", \"Cambodia\", \"Cameroon\", \"Canada\", \"Chile\", \"China\", \"Colombia\", \"Congo (Kinshasa)\", \"Costa Rica\", \"Croatia\", \"Cyprus\", \"Czech Republic\", \"Denmark\", \"Dominican Republic\", \"Ecuador\", \"Egypt\", \"Estonia\", \"Finland\", \"France\", \"French Guiana\", \"Georgia\", \"Germany\", \"Greece\", \"Holy See\", \"Honduras\", \"Hungary\", \"Iceland\", \"India\", \"Indonesia\", \"Iran\", \"Iraq\", \"Ireland\", \"Israel\", \"Italy\", \"Ivory Coast\", \"Jamaica\", \"Japan\", \"Jordan\", \"Kuwait\", \"Latvia\", \"Lebanon\", \"Liechtenstein\", \"Lithuania\", \"Luxembourg\", \"Malaysia\", \"Maldives\", \"Malta\", \"Martinique\", \"Mexico\", \"Moldova\", \"Monaco\", \"Mongolia\", \"Morocco\", \"Nepal\", \"Netherlands\", \"New Zealand\", \"Nigeria\", \"North Macedonia\", \"Norway\", \"Oman\", \"Others\", \"Pakistan\", \"Panama\", \"Paraguay\", \"Peru\", \"Philippines\", \"Poland\", \"Portugal\", \"Qatar\", \"Reunion\", \"Romania\", \"Russia\", \"San Marino\", \"Saudi Arabia\", \"Senegal\", \"Serbia\", \"Singapore\", \"Slovakia\", \"Slovenia\", \"South Africa\", \"South Korea\", \"Spain\", \"Sri Lanka\", \"Sweden\", \"Switzerland\", \"Taiwan\", \"Thailand\", \"Togo\", \"Tunisia\", \"Turkey\", \"UK\", \"US\", \"Ukraine\", \"United Arab Emirates\", \"Vietnam\", \"occupied Palestinian territory\"], \"labels\": [\"\", \"\", \"\", \"\", \"\", \"\", \"\", \"\", \"\", \"\", \"\", \"\", \"\", \"\", \"\", \"\", \"\", \"\", \"\", \"\", \"\", \"\", \"\", \"\", \"\", \"\", \"\", \"\", \"\", \"\", \"\", \"\", \"\", \"\", \"\", \"\", \"\", \"\", \"\", \"\", \"\", \"\", \"\", \"\", \"\", \"\", \"\", \"\", \"\", \"\", \"\", \"\", \"\", \"\", \"\", \"\", \"\", \"\", \"\", \"\", \"\", \"\", \"\", \"\", \"\", \"\", \"\", \"\", \"\", \"\", \"\", \"\", \"\", \"\", \"\", \"\", \"\", \"\", \"\", \"\", \"\", \"\", \"\", \"\", \"\", \"\", \"\", \"\", \"\", \"\", \"\", \"\", \"\", \"\", \"\", \"\", \"\", \"\", \"\", \"\", \"\", \"\", \"\", \"\", \"\", \"\", \"\", \"Alaska\", \"Alberta\", \"Anhui\", \"Arizona\", \"Arkansas\", \"Beijing\", \"British Columbia\", \"California\", \"Channel Islands\", \"Chongqing\", \"Colorado\", \"Connecticut\", \"Delaware\", \"Denmark\", \"Diamond Princess cruise ship\", \"Diamond Princess cruise ship\", \"Diamond Princess cruise ship\", \"District of Columbia\", \"Faroe Islands\", \"Florida\", \"France\", \"Fujian\", \"Gansu\", \"Georgia\", \"Gibraltar\", \"Grand Princess\", \"Guangdong\", \"Guangxi\", \"Guizhou\", \"Hainan\", \"Hawaii\", \"Hebei\", \"Heilongjiang\", \"Henan\", \"Hong Kong\", \"Hubei\", \"Hunan\", \"Idaho\", \"Illinois\", \"Indiana\", \"Inner Mongolia\", \"Iowa\", \"Jiangsu\", \"Jiangxi\", \"Jilin\", \"Kansas\", \"Kentucky\", \"Liaoning\", \"Louisiana\", \"Macau\", \"Maine\", \"Maryland\", \"Massachusetts\", \"Michigan\", \"Minnesota\", \"Mississippi\", \"Missouri\", \"Montana\", \"Nebraska\", \"Nevada\", \"New Brunswick\", \"New Hampshire\", \"New Jersey\", \"New Mexico\", \"New South Wales\", \"New York\", \"Ningxia\", \"North Carolina\", \"North Dakota\", \"Northern Territory\", \"Ohio\", \"Oklahoma\", \"Ontario\", \"Oregon\", \"Pennsylvania\", \"Qinghai\", \"Quebec\", \"Queensland\", \"Rhode Island\", \"Saint Barthelemy\", \"Shaanxi\", \"Shandong\", \"Shanghai\", \"Shanxi\", \"Sichuan\", \"South Australia\", \"South Carolina\", \"South Dakota\", \"St Martin\", \"Tasmania\", \"Tennessee\", \"Texas\", \"Tianjin\", \"Tibet\", \"UK\", \"Utah\", \"Vermont\", \"Victoria\", \"Virginia\", \"Washington\", \"West Virginia\", \"Western Australia\", \"Wisconsin\", \"Wyoming\", \"Xinjiang\", \"Yunnan\", \"Zhejiang\", \"Afghanistan\", \"Albania\", \"Algeria\", \"Andorra\", \"Argentina\", \"Armenia\", \"Australia\", \"Austria\", \"Azerbaijan\", \"Bahrain\", \"Bangladesh\", \"Belarus\", \"Belgium\", \"Bhutan\", \"Bolivia\", \"Bosnia and Herzegovina\", \"Brazil\", \"Brunei\", \"Bulgaria\", \"Burkina Faso\", \"Cambodia\", \"Cameroon\", \"Canada\", \"Chile\", \"China\", \"Colombia\", \"Congo (Kinshasa)\", \"Costa Rica\", \"Croatia\", \"Cyprus\", \"Czech Republic\", \"Denmark\", \"Dominican Republic\", \"Ecuador\", \"Egypt\", \"Estonia\", \"Finland\", \"France\", \"French Guiana\", \"Georgia\", \"Germany\", \"Greece\", \"Holy See\", \"Honduras\", \"Hungary\", \"Iceland\", \"India\", \"Indonesia\", \"Iran\", \"Iraq\", \"Ireland\", \"Israel\", \"Italy\", \"Ivory Coast\", \"Jamaica\", \"Japan\", \"Jordan\", \"Kuwait\", \"Latvia\", \"Lebanon\", \"Liechtenstein\", \"Lithuania\", \"Luxembourg\", \"Malaysia\", \"Maldives\", \"Malta\", \"Martinique\", \"Mexico\", \"Moldova\", \"Monaco\", \"Mongolia\", \"Morocco\", \"Nepal\", \"Netherlands\", \"New Zealand\", \"Nigeria\", \"North Macedonia\", \"Norway\", \"Oman\", \"Others\", \"Pakistan\", \"Panama\", \"Paraguay\", \"Peru\", \"Philippines\", \"Poland\", \"Portugal\", \"Qatar\", \"Reunion\", \"Romania\", \"Russia\", \"San Marino\", \"Saudi Arabia\", \"Senegal\", \"Serbia\", \"Singapore\", \"Slovakia\", \"Slovenia\", \"South Africa\", \"South Korea\", \"Spain\", \"Sri Lanka\", \"Sweden\", \"Switzerland\", \"Taiwan\", \"Thailand\", \"Togo\", \"Tunisia\", \"Turkey\", \"UK\", \"US\", \"Ukraine\", \"United Arab Emirates\", \"Vietnam\", \"occupied Palestinian territory\"], \"name\": \"\", \"parents\": [\"Afghanistan\", \"Albania\", \"Algeria\", \"Andorra\", \"Argentina\", \"Armenia\", \"Austria\", \"Azerbaijan\", \"Bahrain\", \"Bangladesh\", \"Belarus\", \"Belgium\", \"Bhutan\", \"Bolivia\", \"Bosnia and Herzegovina\", \"Brazil\", \"Brunei\", \"Bulgaria\", \"Burkina Faso\", \"Cambodia\", \"Cameroon\", \"Chile\", \"Colombia\", \"Congo (Kinshasa)\", \"Costa Rica\", \"Croatia\", \"Cyprus\", \"Czech Republic\", \"Dominican Republic\", \"Ecuador\", \"Egypt\", \"Estonia\", \"Finland\", \"French Guiana\", \"Georgia\", \"Germany\", \"Greece\", \"Holy See\", \"Honduras\", \"Hungary\", \"Iceland\", \"India\", \"Indonesia\", \"Iran\", \"Iraq\", \"Ireland\", \"Israel\", \"Italy\", \"Ivory Coast\", \"Jamaica\", \"Japan\", \"Jordan\", \"Kuwait\", \"Latvia\", \"Lebanon\", \"Liechtenstein\", \"Lithuania\", \"Luxembourg\", \"Malaysia\", \"Maldives\", \"Malta\", \"Martinique\", \"Mexico\", \"Moldova\", \"Monaco\", \"Mongolia\", \"Morocco\", \"Nepal\", \"Netherlands\", \"New Zealand\", \"Nigeria\", \"North Macedonia\", \"Norway\", \"Oman\", \"Pakistan\", \"Panama\", \"Paraguay\", \"Peru\", \"Philippines\", \"Poland\", \"Portugal\", \"Qatar\", \"Reunion\", \"Romania\", \"Russia\", \"San Marino\", \"Saudi Arabia\", \"Senegal\", \"Serbia\", \"Singapore\", \"Slovakia\", \"Slovenia\", \"South Africa\", \"South Korea\", \"Spain\", \"Sri Lanka\", \"Sweden\", \"Switzerland\", \"Taiwan\", \"Thailand\", \"Togo\", \"Tunisia\", \"Turkey\", \"Ukraine\", \"United Arab Emirates\", \"Vietnam\", \"occupied Palestinian territory\", \"US\", \"Canada\", \"China\", \"US\", \"US\", \"China\", \"Canada\", \"US\", \"UK\", \"China\", \"US\", \"US\", \"US\", \"Denmark\", \"Australia\", \"Others\", \"US\", \"US\", \"Denmark\", \"US\", \"France\", \"China\", \"China\", \"US\", \"UK\", \"US\", \"China\", \"China\", \"China\", \"China\", \"US\", \"China\", \"China\", \"China\", \"China\", \"China\", \"China\", \"US\", \"US\", \"US\", \"China\", \"US\", \"China\", \"China\", \"China\", \"US\", \"US\", \"China\", \"US\", \"China\", \"US\", \"US\", \"US\", \"US\", \"US\", \"US\", \"US\", \"US\", \"US\", \"US\", \"Canada\", \"US\", \"US\", \"US\", \"Australia\", \"US\", \"China\", \"US\", \"US\", \"Australia\", \"US\", \"US\", \"Canada\", \"US\", \"US\", \"China\", \"Canada\", \"Australia\", \"US\", \"France\", \"China\", \"China\", \"China\", \"China\", \"China\", \"Australia\", \"US\", \"US\", \"France\", \"Australia\", \"US\", \"US\", \"China\", \"China\", \"UK\", \"US\", \"US\", \"Australia\", \"US\", \"US\", \"US\", \"Australia\", \"US\", \"US\", \"China\", \"China\", \"China\", \"\", \"\", \"\", \"\", \"\", \"\", \"\", \"\", \"\", \"\", \"\", \"\", \"\", \"\", \"\", \"\", \"\", \"\", \"\", \"\", \"\", \"\", \"\", \"\", \"\", \"\", \"\", \"\", \"\", \"\", \"\", \"\", \"\", \"\", \"\", \"\", \"\", \"\", \"\", \"\", \"\", \"\", \"\", \"\", \"\", \"\", \"\", \"\", \"\", \"\", \"\", \"\", \"\", \"\", \"\", \"\", \"\", \"\", \"\", \"\", \"\", \"\", \"\", \"\", \"\", \"\", \"\", \"\", \"\", \"\", \"\", \"\", \"\", \"\", \"\", \"\", \"\", \"\", \"\", \"\", \"\", \"\", \"\", \"\", \"\", \"\", \"\", \"\", \"\", \"\", \"\", \"\", \"\", \"\", \"\", \"\", \"\", \"\", \"\", \"\", \"\", \"\", \"\", \"\", \"\", \"\", \"\", \"\", \"\", \"\", \"\", \"\", \"\", \"\", \"\"], \"textinfo\": \"label+text+value\", \"type\": \"treemap\", \"values\": [7, 12, 20, 1, 19, 1, 246, 11, 195, 3, 9, 314, 1, 2, 7, 38, 11, 7, 2, 3, 2, 23, 9, 1, 13, 19, 6, 91, 5, 17, 60, 16, 59, 5, 24, 1908, 99, 1, 2, 13, 85, 62, 34, 9000, 71, 43, 109, 12462, 1, 1, 639, 1, 72, 10, 61, 1, 3, 7, 149, 8, 6, 3, 8, 3, 1, 1, 5, 1, 503, 5, 2, 7, 598, 18, 19, 8, 5, 11, 49, 31, 59, 262, 1, 45, 20, 62, 21, 4, 12, 178, 10, 57, 13, 7755, 2277, 2, 500, 652, 48, 59, 1, 7, 1, 1, 74, 38, 0, 0, 19, 990, 9, 1, 435, 39, 177, 2, 576, 34, 3, 1, 442, 0, 696, 46, 10, 2, 28, 2281, 296, 127, 23, 1, 21, 1356, 252, 146, 168, 2, 318, 482, 1273, 126, 67773, 1018, 0, 25, 11, 75, 13, 631, 935, 93, 1, 8, 125, 6, 10, 0, 9, 95, 2, 5, 0, 1, 1, 5, 7, 1, 5, 23, 3, 65, 220, 75, 7, 0, 1, 4, 2, 41, 19, 16, 18, 8, 20, 5, 1, 245, 760, 344, 133, 539, 9, 10, 8, 2, 3, 9, 21, 136, 1, 456, 3, 1, 21, 9, 366, 0, 9, 6, 0, 76, 174, 1215, 7, 12, 20, 1, 19, 1, 128, 246, 11, 195, 3, 9, 314, 1, 2, 7, 38, 11, 7, 2, 3, 2, 108, 23, 80921, 9, 1, 13, 19, 6, 91, 444, 5, 17, 60, 16, 59, 2284, 5, 24, 1908, 99, 1, 2, 13, 85, 62, 34, 9000, 71, 43, 109, 12462, 1, 1, 639, 1, 72, 10, 61, 1, 3, 7, 149, 8, 6, 3, 8, 3, 1, 1, 5, 1, 503, 5, 2, 7, 598, 18, 696, 19, 8, 5, 11, 49, 31, 59, 262, 1, 45, 20, 62, 21, 4, 12, 178, 10, 57, 13, 7755, 2277, 2, 500, 652, 48, 59, 1, 7, 1, 459, 1281, 1, 74, 38, 0]}],\n",
       "                        {\"height\": 700, \"legend\": {\"tracegroupgap\": 0}, \"template\": {\"data\": {\"bar\": [{\"error_x\": {\"color\": \"#2a3f5f\"}, \"error_y\": {\"color\": \"#2a3f5f\"}, \"marker\": {\"line\": {\"color\": \"#E5ECF6\", \"width\": 0.5}}, \"type\": \"bar\"}], \"barpolar\": [{\"marker\": {\"line\": {\"color\": \"#E5ECF6\", \"width\": 0.5}}, \"type\": \"barpolar\"}], \"carpet\": [{\"aaxis\": {\"endlinecolor\": \"#2a3f5f\", \"gridcolor\": \"white\", \"linecolor\": \"white\", \"minorgridcolor\": \"white\", \"startlinecolor\": \"#2a3f5f\"}, \"baxis\": {\"endlinecolor\": \"#2a3f5f\", \"gridcolor\": \"white\", \"linecolor\": \"white\", \"minorgridcolor\": \"white\", \"startlinecolor\": \"#2a3f5f\"}, \"type\": \"carpet\"}], \"choropleth\": [{\"colorbar\": {\"outlinewidth\": 0, \"ticks\": \"\"}, \"type\": \"choropleth\"}], \"contour\": [{\"colorbar\": {\"outlinewidth\": 0, \"ticks\": \"\"}, \"colorscale\": [[0.0, \"#0d0887\"], [0.1111111111111111, \"#46039f\"], [0.2222222222222222, \"#7201a8\"], [0.3333333333333333, \"#9c179e\"], [0.4444444444444444, \"#bd3786\"], [0.5555555555555556, \"#d8576b\"], [0.6666666666666666, \"#ed7953\"], [0.7777777777777778, \"#fb9f3a\"], [0.8888888888888888, \"#fdca26\"], [1.0, \"#f0f921\"]], \"type\": \"contour\"}], \"contourcarpet\": [{\"colorbar\": {\"outlinewidth\": 0, \"ticks\": \"\"}, \"type\": \"contourcarpet\"}], \"heatmap\": [{\"colorbar\": {\"outlinewidth\": 0, \"ticks\": \"\"}, \"colorscale\": [[0.0, \"#0d0887\"], [0.1111111111111111, \"#46039f\"], [0.2222222222222222, \"#7201a8\"], [0.3333333333333333, \"#9c179e\"], [0.4444444444444444, \"#bd3786\"], [0.5555555555555556, \"#d8576b\"], [0.6666666666666666, \"#ed7953\"], [0.7777777777777778, \"#fb9f3a\"], [0.8888888888888888, \"#fdca26\"], [1.0, \"#f0f921\"]], \"type\": \"heatmap\"}], \"heatmapgl\": [{\"colorbar\": {\"outlinewidth\": 0, \"ticks\": \"\"}, \"colorscale\": [[0.0, \"#0d0887\"], [0.1111111111111111, \"#46039f\"], [0.2222222222222222, \"#7201a8\"], [0.3333333333333333, \"#9c179e\"], [0.4444444444444444, \"#bd3786\"], [0.5555555555555556, \"#d8576b\"], [0.6666666666666666, \"#ed7953\"], [0.7777777777777778, \"#fb9f3a\"], [0.8888888888888888, \"#fdca26\"], [1.0, \"#f0f921\"]], \"type\": \"heatmapgl\"}], \"histogram\": [{\"marker\": {\"colorbar\": {\"outlinewidth\": 0, \"ticks\": \"\"}}, \"type\": \"histogram\"}], \"histogram2d\": [{\"colorbar\": {\"outlinewidth\": 0, \"ticks\": \"\"}, \"colorscale\": [[0.0, \"#0d0887\"], [0.1111111111111111, \"#46039f\"], [0.2222222222222222, \"#7201a8\"], [0.3333333333333333, \"#9c179e\"], [0.4444444444444444, \"#bd3786\"], [0.5555555555555556, \"#d8576b\"], [0.6666666666666666, \"#ed7953\"], [0.7777777777777778, \"#fb9f3a\"], [0.8888888888888888, \"#fdca26\"], [1.0, \"#f0f921\"]], \"type\": \"histogram2d\"}], \"histogram2dcontour\": [{\"colorbar\": {\"outlinewidth\": 0, \"ticks\": \"\"}, \"colorscale\": [[0.0, \"#0d0887\"], [0.1111111111111111, \"#46039f\"], [0.2222222222222222, \"#7201a8\"], [0.3333333333333333, \"#9c179e\"], [0.4444444444444444, \"#bd3786\"], [0.5555555555555556, \"#d8576b\"], [0.6666666666666666, \"#ed7953\"], [0.7777777777777778, \"#fb9f3a\"], [0.8888888888888888, \"#fdca26\"], [1.0, \"#f0f921\"]], \"type\": \"histogram2dcontour\"}], \"mesh3d\": [{\"colorbar\": {\"outlinewidth\": 0, \"ticks\": \"\"}, \"type\": \"mesh3d\"}], \"parcoords\": [{\"line\": {\"colorbar\": {\"outlinewidth\": 0, \"ticks\": \"\"}}, \"type\": \"parcoords\"}], \"pie\": [{\"automargin\": true, \"type\": \"pie\"}], \"scatter\": [{\"marker\": {\"colorbar\": {\"outlinewidth\": 0, \"ticks\": \"\"}}, \"type\": \"scatter\"}], \"scatter3d\": [{\"line\": {\"colorbar\": {\"outlinewidth\": 0, \"ticks\": \"\"}}, \"marker\": {\"colorbar\": {\"outlinewidth\": 0, \"ticks\": \"\"}}, \"type\": \"scatter3d\"}], \"scattercarpet\": [{\"marker\": {\"colorbar\": {\"outlinewidth\": 0, \"ticks\": \"\"}}, \"type\": \"scattercarpet\"}], \"scattergeo\": [{\"marker\": {\"colorbar\": {\"outlinewidth\": 0, \"ticks\": \"\"}}, \"type\": \"scattergeo\"}], \"scattergl\": [{\"marker\": {\"colorbar\": {\"outlinewidth\": 0, \"ticks\": \"\"}}, \"type\": \"scattergl\"}], \"scattermapbox\": [{\"marker\": {\"colorbar\": {\"outlinewidth\": 0, \"ticks\": \"\"}}, \"type\": \"scattermapbox\"}], \"scatterpolar\": [{\"marker\": {\"colorbar\": {\"outlinewidth\": 0, \"ticks\": \"\"}}, \"type\": \"scatterpolar\"}], \"scatterpolargl\": [{\"marker\": {\"colorbar\": {\"outlinewidth\": 0, \"ticks\": \"\"}}, \"type\": \"scatterpolargl\"}], \"scatterternary\": [{\"marker\": {\"colorbar\": {\"outlinewidth\": 0, \"ticks\": \"\"}}, \"type\": \"scatterternary\"}], \"surface\": [{\"colorbar\": {\"outlinewidth\": 0, \"ticks\": \"\"}, \"colorscale\": [[0.0, \"#0d0887\"], [0.1111111111111111, \"#46039f\"], [0.2222222222222222, \"#7201a8\"], [0.3333333333333333, \"#9c179e\"], [0.4444444444444444, \"#bd3786\"], [0.5555555555555556, \"#d8576b\"], [0.6666666666666666, \"#ed7953\"], [0.7777777777777778, \"#fb9f3a\"], [0.8888888888888888, \"#fdca26\"], [1.0, \"#f0f921\"]], \"type\": \"surface\"}], \"table\": [{\"cells\": {\"fill\": {\"color\": \"#EBF0F8\"}, \"line\": {\"color\": \"white\"}}, \"header\": {\"fill\": {\"color\": \"#C8D4E3\"}, \"line\": {\"color\": \"white\"}}, \"type\": \"table\"}]}, \"layout\": {\"annotationdefaults\": {\"arrowcolor\": \"#2a3f5f\", \"arrowhead\": 0, \"arrowwidth\": 1}, \"coloraxis\": {\"colorbar\": {\"outlinewidth\": 0, \"ticks\": \"\"}}, \"colorscale\": {\"diverging\": [[0, \"#8e0152\"], [0.1, \"#c51b7d\"], [0.2, \"#de77ae\"], [0.3, \"#f1b6da\"], [0.4, \"#fde0ef\"], [0.5, \"#f7f7f7\"], [0.6, \"#e6f5d0\"], [0.7, \"#b8e186\"], [0.8, \"#7fbc41\"], [0.9, \"#4d9221\"], [1, \"#276419\"]], \"sequential\": [[0.0, \"#0d0887\"], [0.1111111111111111, \"#46039f\"], [0.2222222222222222, \"#7201a8\"], [0.3333333333333333, \"#9c179e\"], [0.4444444444444444, \"#bd3786\"], [0.5555555555555556, \"#d8576b\"], [0.6666666666666666, \"#ed7953\"], [0.7777777777777778, \"#fb9f3a\"], [0.8888888888888888, \"#fdca26\"], [1.0, \"#f0f921\"]], \"sequentialminus\": [[0.0, \"#0d0887\"], [0.1111111111111111, \"#46039f\"], [0.2222222222222222, \"#7201a8\"], [0.3333333333333333, \"#9c179e\"], [0.4444444444444444, \"#bd3786\"], [0.5555555555555556, \"#d8576b\"], [0.6666666666666666, \"#ed7953\"], [0.7777777777777778, \"#fb9f3a\"], [0.8888888888888888, \"#fdca26\"], [1.0, \"#f0f921\"]]}, \"colorway\": [\"#636efa\", \"#EF553B\", \"#00cc96\", \"#ab63fa\", \"#FFA15A\", \"#19d3f3\", \"#FF6692\", \"#B6E880\", \"#FF97FF\", \"#FECB52\"], \"font\": {\"color\": \"#2a3f5f\"}, \"geo\": {\"bgcolor\": \"white\", \"lakecolor\": \"white\", \"landcolor\": \"#E5ECF6\", \"showlakes\": true, \"showland\": true, \"subunitcolor\": \"white\"}, \"hoverlabel\": {\"align\": \"left\"}, \"hovermode\": \"closest\", \"mapbox\": {\"style\": \"light\"}, \"paper_bgcolor\": \"white\", \"plot_bgcolor\": \"#E5ECF6\", \"polar\": {\"angularaxis\": {\"gridcolor\": \"white\", \"linecolor\": \"white\", \"ticks\": \"\"}, \"bgcolor\": \"#E5ECF6\", \"radialaxis\": {\"gridcolor\": \"white\", \"linecolor\": \"white\", \"ticks\": \"\"}}, \"scene\": {\"xaxis\": {\"backgroundcolor\": \"#E5ECF6\", \"gridcolor\": \"white\", \"gridwidth\": 2, \"linecolor\": \"white\", \"showbackground\": true, \"ticks\": \"\", \"zerolinecolor\": \"white\"}, \"yaxis\": {\"backgroundcolor\": \"#E5ECF6\", \"gridcolor\": \"white\", \"gridwidth\": 2, \"linecolor\": \"white\", \"showbackground\": true, \"ticks\": \"\", \"zerolinecolor\": \"white\"}, \"zaxis\": {\"backgroundcolor\": \"#E5ECF6\", \"gridcolor\": \"white\", \"gridwidth\": 2, \"linecolor\": \"white\", \"showbackground\": true, \"ticks\": \"\", \"zerolinecolor\": \"white\"}}, \"shapedefaults\": {\"line\": {\"color\": \"#2a3f5f\"}}, \"ternary\": {\"aaxis\": {\"gridcolor\": \"white\", \"linecolor\": \"white\", \"ticks\": \"\"}, \"baxis\": {\"gridcolor\": \"white\", \"linecolor\": \"white\", \"ticks\": \"\"}, \"bgcolor\": \"#E5ECF6\", \"caxis\": {\"gridcolor\": \"white\", \"linecolor\": \"white\", \"ticks\": \"\"}}, \"title\": {\"x\": 0.05}, \"xaxis\": {\"automargin\": true, \"gridcolor\": \"white\", \"linecolor\": \"white\", \"ticks\": \"\", \"title\": {\"standoff\": 15}, \"zerolinecolor\": \"white\", \"zerolinewidth\": 2}, \"yaxis\": {\"automargin\": true, \"gridcolor\": \"white\", \"linecolor\": \"white\", \"ticks\": \"\", \"title\": {\"standoff\": 15}, \"zerolinecolor\": \"white\", \"zerolinewidth\": 2}}}, \"title\": {\"text\": \"Number of Confirmed Cases\"}, \"treemapcolorway\": [\"rgb(95, 70, 144)\", \"rgb(29, 105, 150)\", \"rgb(56, 166, 165)\", \"rgb(15, 133, 84)\", \"rgb(115, 175, 72)\", \"rgb(237, 173, 8)\", \"rgb(225, 124, 5)\", \"rgb(204, 80, 62)\", \"rgb(148, 52, 110)\", \"rgb(111, 64, 112)\", \"rgb(102, 102, 102)\"]},\n",
       "                        {\"responsive\": true}\n",
       "                    ).then(function(){\n",
       "                            \n",
       "var gd = document.getElementById('c672175c-c313-4ea5-85d1-fc4955febd23');\n",
       "var x = new MutationObserver(function (mutations, observer) {{\n",
       "        var display = window.getComputedStyle(gd).display;\n",
       "        if (!display || display === 'none') {{\n",
       "            console.log([gd, 'removed!']);\n",
       "            Plotly.purge(gd);\n",
       "            observer.disconnect();\n",
       "        }}\n",
       "}});\n",
       "\n",
       "// Listen for the removal of the full notebook cells\n",
       "var notebookContainer = gd.closest('#notebook-container');\n",
       "if (notebookContainer) {{\n",
       "    x.observe(notebookContainer, {childList: true});\n",
       "}}\n",
       "\n",
       "// Listen for the clearing of the current output cell\n",
       "var outputEl = gd.closest('.output');\n",
       "if (outputEl) {{\n",
       "    x.observe(outputEl, {childList: true});\n",
       "}}\n",
       "\n",
       "                        })\n",
       "                };\n",
       "                });\n",
       "            </script>\n",
       "        </div>"
      ]
     },
     "metadata": {},
     "output_type": "display_data"
    },
    {
     "data": {
      "application/vnd.plotly.v1+json": {
       "config": {
        "plotlyServerURL": "https://plot.ly"
       },
       "data": [
        {
         "branchvalues": "total",
         "domain": {
          "x": [
           0,
           1
          ],
          "y": [
           0,
           1
          ]
         },
         "hoverlabel": {
          "namelength": 0
         },
         "hovertemplate": "labels=%{label}<br>Deaths=%{value}<br>parent=%{parent}<br>id=%{id}",
         "ids": [
          "Afghanistan/",
          "Albania/",
          "Algeria/",
          "Andorra/",
          "Argentina/",
          "Armenia/",
          "Austria/",
          "Azerbaijan/",
          "Bahrain/",
          "Bangladesh/",
          "Belarus/",
          "Belgium/",
          "Bhutan/",
          "Bolivia/",
          "Bosnia and Herzegovina/",
          "Brazil/",
          "Brunei/",
          "Bulgaria/",
          "Burkina Faso/",
          "Cambodia/",
          "Cameroon/",
          "Chile/",
          "Colombia/",
          "Congo (Kinshasa)/",
          "Costa Rica/",
          "Croatia/",
          "Cyprus/",
          "Czech Republic/",
          "Dominican Republic/",
          "Ecuador/",
          "Egypt/",
          "Estonia/",
          "Finland/",
          "French Guiana/",
          "Georgia/",
          "Germany/",
          "Greece/",
          "Holy See/",
          "Honduras/",
          "Hungary/",
          "Iceland/",
          "India/",
          "Indonesia/",
          "Iran/",
          "Iraq/",
          "Ireland/",
          "Israel/",
          "Italy/",
          "Ivory Coast/",
          "Jamaica/",
          "Japan/",
          "Jordan/",
          "Kuwait/",
          "Latvia/",
          "Lebanon/",
          "Liechtenstein/",
          "Lithuania/",
          "Luxembourg/",
          "Malaysia/",
          "Maldives/",
          "Malta/",
          "Martinique/",
          "Mexico/",
          "Moldova/",
          "Monaco/",
          "Mongolia/",
          "Morocco/",
          "Nepal/",
          "Netherlands/",
          "New Zealand/",
          "Nigeria/",
          "North Macedonia/",
          "Norway/",
          "Oman/",
          "Pakistan/",
          "Panama/",
          "Paraguay/",
          "Peru/",
          "Philippines/",
          "Poland/",
          "Portugal/",
          "Qatar/",
          "Reunion/",
          "Romania/",
          "Russia/",
          "San Marino/",
          "Saudi Arabia/",
          "Senegal/",
          "Serbia/",
          "Singapore/",
          "Slovakia/",
          "Slovenia/",
          "South Africa/",
          "South Korea/",
          "Spain/",
          "Sri Lanka/",
          "Sweden/",
          "Switzerland/",
          "Taiwan/",
          "Thailand/",
          "Togo/",
          "Tunisia/",
          "Turkey/",
          "Ukraine/",
          "United Arab Emirates/",
          "Vietnam/",
          "occupied Palestinian territory/",
          "US/Alaska",
          "Canada/Alberta",
          "China/Anhui",
          "US/Arizona",
          "US/Arkansas",
          "China/Beijing",
          "Canada/British Columbia",
          "US/California",
          "UK/Channel Islands",
          "China/Chongqing",
          "US/Colorado",
          "US/Connecticut",
          "US/Delaware",
          "Denmark/Denmark",
          "Australia/Diamond Princess cruise ship",
          "Others/Diamond Princess cruise ship",
          "US/Diamond Princess cruise ship",
          "US/District of Columbia",
          "Denmark/Faroe Islands",
          "US/Florida",
          "France/France",
          "China/Fujian",
          "China/Gansu",
          "US/Georgia",
          "UK/Gibraltar",
          "US/Grand Princess",
          "China/Guangdong",
          "China/Guangxi",
          "China/Guizhou",
          "China/Hainan",
          "US/Hawaii",
          "China/Hebei",
          "China/Heilongjiang",
          "China/Henan",
          "China/Hong Kong",
          "China/Hubei",
          "China/Hunan",
          "US/Idaho",
          "US/Illinois",
          "US/Indiana",
          "China/Inner Mongolia",
          "US/Iowa",
          "China/Jiangsu",
          "China/Jiangxi",
          "China/Jilin",
          "US/Kansas",
          "US/Kentucky",
          "China/Liaoning",
          "US/Louisiana",
          "China/Macau",
          "US/Maine",
          "US/Maryland",
          "US/Massachusetts",
          "US/Michigan",
          "US/Minnesota",
          "US/Mississippi",
          "US/Missouri",
          "US/Montana",
          "US/Nebraska",
          "US/Nevada",
          "Canada/New Brunswick",
          "US/New Hampshire",
          "US/New Jersey",
          "US/New Mexico",
          "Australia/New South Wales",
          "US/New York",
          "China/Ningxia",
          "US/North Carolina",
          "US/North Dakota",
          "Australia/Northern Territory",
          "US/Ohio",
          "US/Oklahoma",
          "Canada/Ontario",
          "US/Oregon",
          "US/Pennsylvania",
          "China/Qinghai",
          "Canada/Quebec",
          "Australia/Queensland",
          "US/Rhode Island",
          "France/Saint Barthelemy",
          "China/Shaanxi",
          "China/Shandong",
          "China/Shanghai",
          "China/Shanxi",
          "China/Sichuan",
          "Australia/South Australia",
          "US/South Carolina",
          "US/South Dakota",
          "France/St Martin",
          "Australia/Tasmania",
          "US/Tennessee",
          "US/Texas",
          "China/Tianjin",
          "China/Tibet",
          "UK/UK",
          "US/Utah",
          "US/Vermont",
          "Australia/Victoria",
          "US/Virginia",
          "US/Washington",
          "US/West Virginia",
          "Australia/Western Australia",
          "US/Wisconsin",
          "US/Wyoming",
          "China/Xinjiang",
          "China/Yunnan",
          "China/Zhejiang",
          "Afghanistan",
          "Albania",
          "Algeria",
          "Andorra",
          "Argentina",
          "Armenia",
          "Australia",
          "Austria",
          "Azerbaijan",
          "Bahrain",
          "Bangladesh",
          "Belarus",
          "Belgium",
          "Bhutan",
          "Bolivia",
          "Bosnia and Herzegovina",
          "Brazil",
          "Brunei",
          "Bulgaria",
          "Burkina Faso",
          "Cambodia",
          "Cameroon",
          "Canada",
          "Chile",
          "China",
          "Colombia",
          "Congo (Kinshasa)",
          "Costa Rica",
          "Croatia",
          "Cyprus",
          "Czech Republic",
          "Denmark",
          "Dominican Republic",
          "Ecuador",
          "Egypt",
          "Estonia",
          "Finland",
          "France",
          "French Guiana",
          "Georgia",
          "Germany",
          "Greece",
          "Holy See",
          "Honduras",
          "Hungary",
          "Iceland",
          "India",
          "Indonesia",
          "Iran",
          "Iraq",
          "Ireland",
          "Israel",
          "Italy",
          "Ivory Coast",
          "Jamaica",
          "Japan",
          "Jordan",
          "Kuwait",
          "Latvia",
          "Lebanon",
          "Liechtenstein",
          "Lithuania",
          "Luxembourg",
          "Malaysia",
          "Maldives",
          "Malta",
          "Martinique",
          "Mexico",
          "Moldova",
          "Monaco",
          "Mongolia",
          "Morocco",
          "Nepal",
          "Netherlands",
          "New Zealand",
          "Nigeria",
          "North Macedonia",
          "Norway",
          "Oman",
          "Others",
          "Pakistan",
          "Panama",
          "Paraguay",
          "Peru",
          "Philippines",
          "Poland",
          "Portugal",
          "Qatar",
          "Reunion",
          "Romania",
          "Russia",
          "San Marino",
          "Saudi Arabia",
          "Senegal",
          "Serbia",
          "Singapore",
          "Slovakia",
          "Slovenia",
          "South Africa",
          "South Korea",
          "Spain",
          "Sri Lanka",
          "Sweden",
          "Switzerland",
          "Taiwan",
          "Thailand",
          "Togo",
          "Tunisia",
          "Turkey",
          "UK",
          "US",
          "Ukraine",
          "United Arab Emirates",
          "Vietnam",
          "occupied Palestinian territory"
         ],
         "labels": [
          "",
          "",
          "",
          "",
          "",
          "",
          "",
          "",
          "",
          "",
          "",
          "",
          "",
          "",
          "",
          "",
          "",
          "",
          "",
          "",
          "",
          "",
          "",
          "",
          "",
          "",
          "",
          "",
          "",
          "",
          "",
          "",
          "",
          "",
          "",
          "",
          "",
          "",
          "",
          "",
          "",
          "",
          "",
          "",
          "",
          "",
          "",
          "",
          "",
          "",
          "",
          "",
          "",
          "",
          "",
          "",
          "",
          "",
          "",
          "",
          "",
          "",
          "",
          "",
          "",
          "",
          "",
          "",
          "",
          "",
          "",
          "",
          "",
          "",
          "",
          "",
          "",
          "",
          "",
          "",
          "",
          "",
          "",
          "",
          "",
          "",
          "",
          "",
          "",
          "",
          "",
          "",
          "",
          "",
          "",
          "",
          "",
          "",
          "",
          "",
          "",
          "",
          "",
          "",
          "",
          "",
          "",
          "Alaska",
          "Alberta",
          "Anhui",
          "Arizona",
          "Arkansas",
          "Beijing",
          "British Columbia",
          "California",
          "Channel Islands",
          "Chongqing",
          "Colorado",
          "Connecticut",
          "Delaware",
          "Denmark",
          "Diamond Princess cruise ship",
          "Diamond Princess cruise ship",
          "Diamond Princess cruise ship",
          "District of Columbia",
          "Faroe Islands",
          "Florida",
          "France",
          "Fujian",
          "Gansu",
          "Georgia",
          "Gibraltar",
          "Grand Princess",
          "Guangdong",
          "Guangxi",
          "Guizhou",
          "Hainan",
          "Hawaii",
          "Hebei",
          "Heilongjiang",
          "Henan",
          "Hong Kong",
          "Hubei",
          "Hunan",
          "Idaho",
          "Illinois",
          "Indiana",
          "Inner Mongolia",
          "Iowa",
          "Jiangsu",
          "Jiangxi",
          "Jilin",
          "Kansas",
          "Kentucky",
          "Liaoning",
          "Louisiana",
          "Macau",
          "Maine",
          "Maryland",
          "Massachusetts",
          "Michigan",
          "Minnesota",
          "Mississippi",
          "Missouri",
          "Montana",
          "Nebraska",
          "Nevada",
          "New Brunswick",
          "New Hampshire",
          "New Jersey",
          "New Mexico",
          "New South Wales",
          "New York",
          "Ningxia",
          "North Carolina",
          "North Dakota",
          "Northern Territory",
          "Ohio",
          "Oklahoma",
          "Ontario",
          "Oregon",
          "Pennsylvania",
          "Qinghai",
          "Quebec",
          "Queensland",
          "Rhode Island",
          "Saint Barthelemy",
          "Shaanxi",
          "Shandong",
          "Shanghai",
          "Shanxi",
          "Sichuan",
          "South Australia",
          "South Carolina",
          "South Dakota",
          "St Martin",
          "Tasmania",
          "Tennessee",
          "Texas",
          "Tianjin",
          "Tibet",
          "UK",
          "Utah",
          "Vermont",
          "Victoria",
          "Virginia",
          "Washington",
          "West Virginia",
          "Western Australia",
          "Wisconsin",
          "Wyoming",
          "Xinjiang",
          "Yunnan",
          "Zhejiang",
          "Afghanistan",
          "Albania",
          "Algeria",
          "Andorra",
          "Argentina",
          "Armenia",
          "Australia",
          "Austria",
          "Azerbaijan",
          "Bahrain",
          "Bangladesh",
          "Belarus",
          "Belgium",
          "Bhutan",
          "Bolivia",
          "Bosnia and Herzegovina",
          "Brazil",
          "Brunei",
          "Bulgaria",
          "Burkina Faso",
          "Cambodia",
          "Cameroon",
          "Canada",
          "Chile",
          "China",
          "Colombia",
          "Congo (Kinshasa)",
          "Costa Rica",
          "Croatia",
          "Cyprus",
          "Czech Republic",
          "Denmark",
          "Dominican Republic",
          "Ecuador",
          "Egypt",
          "Estonia",
          "Finland",
          "France",
          "French Guiana",
          "Georgia",
          "Germany",
          "Greece",
          "Holy See",
          "Honduras",
          "Hungary",
          "Iceland",
          "India",
          "Indonesia",
          "Iran",
          "Iraq",
          "Ireland",
          "Israel",
          "Italy",
          "Ivory Coast",
          "Jamaica",
          "Japan",
          "Jordan",
          "Kuwait",
          "Latvia",
          "Lebanon",
          "Liechtenstein",
          "Lithuania",
          "Luxembourg",
          "Malaysia",
          "Maldives",
          "Malta",
          "Martinique",
          "Mexico",
          "Moldova",
          "Monaco",
          "Mongolia",
          "Morocco",
          "Nepal",
          "Netherlands",
          "New Zealand",
          "Nigeria",
          "North Macedonia",
          "Norway",
          "Oman",
          "Others",
          "Pakistan",
          "Panama",
          "Paraguay",
          "Peru",
          "Philippines",
          "Poland",
          "Portugal",
          "Qatar",
          "Reunion",
          "Romania",
          "Russia",
          "San Marino",
          "Saudi Arabia",
          "Senegal",
          "Serbia",
          "Singapore",
          "Slovakia",
          "Slovenia",
          "South Africa",
          "South Korea",
          "Spain",
          "Sri Lanka",
          "Sweden",
          "Switzerland",
          "Taiwan",
          "Thailand",
          "Togo",
          "Tunisia",
          "Turkey",
          "UK",
          "US",
          "Ukraine",
          "United Arab Emirates",
          "Vietnam",
          "occupied Palestinian territory"
         ],
         "name": "",
         "parents": [
          "Afghanistan",
          "Albania",
          "Algeria",
          "Andorra",
          "Argentina",
          "Armenia",
          "Austria",
          "Azerbaijan",
          "Bahrain",
          "Bangladesh",
          "Belarus",
          "Belgium",
          "Bhutan",
          "Bolivia",
          "Bosnia and Herzegovina",
          "Brazil",
          "Brunei",
          "Bulgaria",
          "Burkina Faso",
          "Cambodia",
          "Cameroon",
          "Chile",
          "Colombia",
          "Congo (Kinshasa)",
          "Costa Rica",
          "Croatia",
          "Cyprus",
          "Czech Republic",
          "Dominican Republic",
          "Ecuador",
          "Egypt",
          "Estonia",
          "Finland",
          "French Guiana",
          "Georgia",
          "Germany",
          "Greece",
          "Holy See",
          "Honduras",
          "Hungary",
          "Iceland",
          "India",
          "Indonesia",
          "Iran",
          "Iraq",
          "Ireland",
          "Israel",
          "Italy",
          "Ivory Coast",
          "Jamaica",
          "Japan",
          "Jordan",
          "Kuwait",
          "Latvia",
          "Lebanon",
          "Liechtenstein",
          "Lithuania",
          "Luxembourg",
          "Malaysia",
          "Maldives",
          "Malta",
          "Martinique",
          "Mexico",
          "Moldova",
          "Monaco",
          "Mongolia",
          "Morocco",
          "Nepal",
          "Netherlands",
          "New Zealand",
          "Nigeria",
          "North Macedonia",
          "Norway",
          "Oman",
          "Pakistan",
          "Panama",
          "Paraguay",
          "Peru",
          "Philippines",
          "Poland",
          "Portugal",
          "Qatar",
          "Reunion",
          "Romania",
          "Russia",
          "San Marino",
          "Saudi Arabia",
          "Senegal",
          "Serbia",
          "Singapore",
          "Slovakia",
          "Slovenia",
          "South Africa",
          "South Korea",
          "Spain",
          "Sri Lanka",
          "Sweden",
          "Switzerland",
          "Taiwan",
          "Thailand",
          "Togo",
          "Tunisia",
          "Turkey",
          "Ukraine",
          "United Arab Emirates",
          "Vietnam",
          "occupied Palestinian territory",
          "US",
          "Canada",
          "China",
          "US",
          "US",
          "China",
          "Canada",
          "US",
          "UK",
          "China",
          "US",
          "US",
          "US",
          "Denmark",
          "Australia",
          "Others",
          "US",
          "US",
          "Denmark",
          "US",
          "France",
          "China",
          "China",
          "US",
          "UK",
          "US",
          "China",
          "China",
          "China",
          "China",
          "US",
          "China",
          "China",
          "China",
          "China",
          "China",
          "China",
          "US",
          "US",
          "US",
          "China",
          "US",
          "China",
          "China",
          "China",
          "US",
          "US",
          "China",
          "US",
          "China",
          "US",
          "US",
          "US",
          "US",
          "US",
          "US",
          "US",
          "US",
          "US",
          "US",
          "Canada",
          "US",
          "US",
          "US",
          "Australia",
          "US",
          "China",
          "US",
          "US",
          "Australia",
          "US",
          "US",
          "Canada",
          "US",
          "US",
          "China",
          "Canada",
          "Australia",
          "US",
          "France",
          "China",
          "China",
          "China",
          "China",
          "China",
          "Australia",
          "US",
          "US",
          "France",
          "Australia",
          "US",
          "US",
          "China",
          "China",
          "UK",
          "US",
          "US",
          "Australia",
          "US",
          "US",
          "US",
          "Australia",
          "US",
          "US",
          "China",
          "China",
          "China",
          "",
          "",
          "",
          "",
          "",
          "",
          "",
          "",
          "",
          "",
          "",
          "",
          "",
          "",
          "",
          "",
          "",
          "",
          "",
          "",
          "",
          "",
          "",
          "",
          "",
          "",
          "",
          "",
          "",
          "",
          "",
          "",
          "",
          "",
          "",
          "",
          "",
          "",
          "",
          "",
          "",
          "",
          "",
          "",
          "",
          "",
          "",
          "",
          "",
          "",
          "",
          "",
          "",
          "",
          "",
          "",
          "",
          "",
          "",
          "",
          "",
          "",
          "",
          "",
          "",
          "",
          "",
          "",
          "",
          "",
          "",
          "",
          "",
          "",
          "",
          "",
          "",
          "",
          "",
          "",
          "",
          "",
          "",
          "",
          "",
          "",
          "",
          "",
          "",
          "",
          "",
          "",
          "",
          "",
          "",
          "",
          "",
          "",
          "",
          "",
          "",
          "",
          "",
          "",
          "",
          "",
          "",
          "",
          "",
          "",
          "",
          "",
          "",
          "",
          ""
         ],
         "textinfo": "label+text+value",
         "type": "treemap",
         "values": [
          0,
          1,
          0,
          0,
          1,
          0,
          0,
          0,
          0,
          0,
          0,
          3,
          0,
          0,
          0,
          0,
          0,
          1,
          0,
          0,
          0,
          0,
          0,
          0,
          0,
          0,
          0,
          0,
          0,
          0,
          1,
          0,
          0,
          0,
          0,
          3,
          1,
          0,
          0,
          0,
          0,
          1,
          1,
          354,
          7,
          1,
          0,
          827,
          0,
          0,
          15,
          0,
          0,
          0,
          3,
          0,
          0,
          0,
          0,
          0,
          0,
          0,
          0,
          0,
          0,
          0,
          1,
          0,
          5,
          0,
          0,
          0,
          0,
          0,
          0,
          1,
          0,
          0,
          1,
          0,
          0,
          0,
          0,
          0,
          0,
          2,
          0,
          0,
          0,
          0,
          0,
          0,
          0,
          60,
          54,
          0,
          1,
          4,
          1,
          1,
          0,
          0,
          0,
          0,
          0,
          0,
          0,
          0,
          0,
          6,
          0,
          0,
          8,
          1,
          3,
          0,
          6,
          0,
          0,
          0,
          0,
          0,
          7,
          0,
          0,
          0,
          2,
          48,
          1,
          2,
          0,
          0,
          0,
          8,
          2,
          2,
          6,
          0,
          6,
          13,
          22,
          3,
          3046,
          4,
          0,
          0,
          0,
          1,
          0,
          0,
          1,
          1,
          0,
          0,
          1,
          0,
          0,
          0,
          0,
          0,
          0,
          0,
          0,
          0,
          0,
          0,
          0,
          0,
          0,
          1,
          0,
          2,
          0,
          0,
          0,
          0,
          0,
          0,
          0,
          0,
          0,
          0,
          0,
          0,
          0,
          0,
          0,
          1,
          6,
          3,
          0,
          3,
          0,
          0,
          1,
          0,
          0,
          0,
          0,
          3,
          0,
          8,
          0,
          0,
          0,
          0,
          29,
          0,
          1,
          0,
          0,
          3,
          2,
          1,
          0,
          1,
          0,
          0,
          1,
          0,
          3,
          0,
          0,
          0,
          0,
          0,
          3,
          0,
          0,
          0,
          0,
          0,
          1,
          0,
          0,
          0,
          1,
          0,
          3161,
          0,
          0,
          0,
          0,
          0,
          0,
          0,
          0,
          0,
          1,
          0,
          0,
          48,
          0,
          0,
          3,
          1,
          0,
          0,
          0,
          0,
          1,
          1,
          354,
          7,
          1,
          0,
          827,
          0,
          0,
          15,
          0,
          0,
          0,
          3,
          0,
          0,
          0,
          0,
          0,
          0,
          0,
          0,
          0,
          0,
          0,
          1,
          0,
          5,
          0,
          0,
          0,
          0,
          0,
          7,
          0,
          1,
          0,
          0,
          1,
          0,
          0,
          0,
          0,
          0,
          0,
          2,
          0,
          0,
          0,
          0,
          0,
          0,
          0,
          60,
          54,
          0,
          1,
          4,
          1,
          1,
          0,
          0,
          0,
          8,
          36,
          0,
          0,
          0,
          0
         ]
        }
       ],
       "layout": {
        "height": 700,
        "legend": {
         "tracegroupgap": 0
        },
        "template": {
         "data": {
          "bar": [
           {
            "error_x": {
             "color": "#2a3f5f"
            },
            "error_y": {
             "color": "#2a3f5f"
            },
            "marker": {
             "line": {
              "color": "#E5ECF6",
              "width": 0.5
             }
            },
            "type": "bar"
           }
          ],
          "barpolar": [
           {
            "marker": {
             "line": {
              "color": "#E5ECF6",
              "width": 0.5
             }
            },
            "type": "barpolar"
           }
          ],
          "carpet": [
           {
            "aaxis": {
             "endlinecolor": "#2a3f5f",
             "gridcolor": "white",
             "linecolor": "white",
             "minorgridcolor": "white",
             "startlinecolor": "#2a3f5f"
            },
            "baxis": {
             "endlinecolor": "#2a3f5f",
             "gridcolor": "white",
             "linecolor": "white",
             "minorgridcolor": "white",
             "startlinecolor": "#2a3f5f"
            },
            "type": "carpet"
           }
          ],
          "choropleth": [
           {
            "colorbar": {
             "outlinewidth": 0,
             "ticks": ""
            },
            "type": "choropleth"
           }
          ],
          "contour": [
           {
            "colorbar": {
             "outlinewidth": 0,
             "ticks": ""
            },
            "colorscale": [
             [
              0,
              "#0d0887"
             ],
             [
              0.1111111111111111,
              "#46039f"
             ],
             [
              0.2222222222222222,
              "#7201a8"
             ],
             [
              0.3333333333333333,
              "#9c179e"
             ],
             [
              0.4444444444444444,
              "#bd3786"
             ],
             [
              0.5555555555555556,
              "#d8576b"
             ],
             [
              0.6666666666666666,
              "#ed7953"
             ],
             [
              0.7777777777777778,
              "#fb9f3a"
             ],
             [
              0.8888888888888888,
              "#fdca26"
             ],
             [
              1,
              "#f0f921"
             ]
            ],
            "type": "contour"
           }
          ],
          "contourcarpet": [
           {
            "colorbar": {
             "outlinewidth": 0,
             "ticks": ""
            },
            "type": "contourcarpet"
           }
          ],
          "heatmap": [
           {
            "colorbar": {
             "outlinewidth": 0,
             "ticks": ""
            },
            "colorscale": [
             [
              0,
              "#0d0887"
             ],
             [
              0.1111111111111111,
              "#46039f"
             ],
             [
              0.2222222222222222,
              "#7201a8"
             ],
             [
              0.3333333333333333,
              "#9c179e"
             ],
             [
              0.4444444444444444,
              "#bd3786"
             ],
             [
              0.5555555555555556,
              "#d8576b"
             ],
             [
              0.6666666666666666,
              "#ed7953"
             ],
             [
              0.7777777777777778,
              "#fb9f3a"
             ],
             [
              0.8888888888888888,
              "#fdca26"
             ],
             [
              1,
              "#f0f921"
             ]
            ],
            "type": "heatmap"
           }
          ],
          "heatmapgl": [
           {
            "colorbar": {
             "outlinewidth": 0,
             "ticks": ""
            },
            "colorscale": [
             [
              0,
              "#0d0887"
             ],
             [
              0.1111111111111111,
              "#46039f"
             ],
             [
              0.2222222222222222,
              "#7201a8"
             ],
             [
              0.3333333333333333,
              "#9c179e"
             ],
             [
              0.4444444444444444,
              "#bd3786"
             ],
             [
              0.5555555555555556,
              "#d8576b"
             ],
             [
              0.6666666666666666,
              "#ed7953"
             ],
             [
              0.7777777777777778,
              "#fb9f3a"
             ],
             [
              0.8888888888888888,
              "#fdca26"
             ],
             [
              1,
              "#f0f921"
             ]
            ],
            "type": "heatmapgl"
           }
          ],
          "histogram": [
           {
            "marker": {
             "colorbar": {
              "outlinewidth": 0,
              "ticks": ""
             }
            },
            "type": "histogram"
           }
          ],
          "histogram2d": [
           {
            "colorbar": {
             "outlinewidth": 0,
             "ticks": ""
            },
            "colorscale": [
             [
              0,
              "#0d0887"
             ],
             [
              0.1111111111111111,
              "#46039f"
             ],
             [
              0.2222222222222222,
              "#7201a8"
             ],
             [
              0.3333333333333333,
              "#9c179e"
             ],
             [
              0.4444444444444444,
              "#bd3786"
             ],
             [
              0.5555555555555556,
              "#d8576b"
             ],
             [
              0.6666666666666666,
              "#ed7953"
             ],
             [
              0.7777777777777778,
              "#fb9f3a"
             ],
             [
              0.8888888888888888,
              "#fdca26"
             ],
             [
              1,
              "#f0f921"
             ]
            ],
            "type": "histogram2d"
           }
          ],
          "histogram2dcontour": [
           {
            "colorbar": {
             "outlinewidth": 0,
             "ticks": ""
            },
            "colorscale": [
             [
              0,
              "#0d0887"
             ],
             [
              0.1111111111111111,
              "#46039f"
             ],
             [
              0.2222222222222222,
              "#7201a8"
             ],
             [
              0.3333333333333333,
              "#9c179e"
             ],
             [
              0.4444444444444444,
              "#bd3786"
             ],
             [
              0.5555555555555556,
              "#d8576b"
             ],
             [
              0.6666666666666666,
              "#ed7953"
             ],
             [
              0.7777777777777778,
              "#fb9f3a"
             ],
             [
              0.8888888888888888,
              "#fdca26"
             ],
             [
              1,
              "#f0f921"
             ]
            ],
            "type": "histogram2dcontour"
           }
          ],
          "mesh3d": [
           {
            "colorbar": {
             "outlinewidth": 0,
             "ticks": ""
            },
            "type": "mesh3d"
           }
          ],
          "parcoords": [
           {
            "line": {
             "colorbar": {
              "outlinewidth": 0,
              "ticks": ""
             }
            },
            "type": "parcoords"
           }
          ],
          "pie": [
           {
            "automargin": true,
            "type": "pie"
           }
          ],
          "scatter": [
           {
            "marker": {
             "colorbar": {
              "outlinewidth": 0,
              "ticks": ""
             }
            },
            "type": "scatter"
           }
          ],
          "scatter3d": [
           {
            "line": {
             "colorbar": {
              "outlinewidth": 0,
              "ticks": ""
             }
            },
            "marker": {
             "colorbar": {
              "outlinewidth": 0,
              "ticks": ""
             }
            },
            "type": "scatter3d"
           }
          ],
          "scattercarpet": [
           {
            "marker": {
             "colorbar": {
              "outlinewidth": 0,
              "ticks": ""
             }
            },
            "type": "scattercarpet"
           }
          ],
          "scattergeo": [
           {
            "marker": {
             "colorbar": {
              "outlinewidth": 0,
              "ticks": ""
             }
            },
            "type": "scattergeo"
           }
          ],
          "scattergl": [
           {
            "marker": {
             "colorbar": {
              "outlinewidth": 0,
              "ticks": ""
             }
            },
            "type": "scattergl"
           }
          ],
          "scattermapbox": [
           {
            "marker": {
             "colorbar": {
              "outlinewidth": 0,
              "ticks": ""
             }
            },
            "type": "scattermapbox"
           }
          ],
          "scatterpolar": [
           {
            "marker": {
             "colorbar": {
              "outlinewidth": 0,
              "ticks": ""
             }
            },
            "type": "scatterpolar"
           }
          ],
          "scatterpolargl": [
           {
            "marker": {
             "colorbar": {
              "outlinewidth": 0,
              "ticks": ""
             }
            },
            "type": "scatterpolargl"
           }
          ],
          "scatterternary": [
           {
            "marker": {
             "colorbar": {
              "outlinewidth": 0,
              "ticks": ""
             }
            },
            "type": "scatterternary"
           }
          ],
          "surface": [
           {
            "colorbar": {
             "outlinewidth": 0,
             "ticks": ""
            },
            "colorscale": [
             [
              0,
              "#0d0887"
             ],
             [
              0.1111111111111111,
              "#46039f"
             ],
             [
              0.2222222222222222,
              "#7201a8"
             ],
             [
              0.3333333333333333,
              "#9c179e"
             ],
             [
              0.4444444444444444,
              "#bd3786"
             ],
             [
              0.5555555555555556,
              "#d8576b"
             ],
             [
              0.6666666666666666,
              "#ed7953"
             ],
             [
              0.7777777777777778,
              "#fb9f3a"
             ],
             [
              0.8888888888888888,
              "#fdca26"
             ],
             [
              1,
              "#f0f921"
             ]
            ],
            "type": "surface"
           }
          ],
          "table": [
           {
            "cells": {
             "fill": {
              "color": "#EBF0F8"
             },
             "line": {
              "color": "white"
             }
            },
            "header": {
             "fill": {
              "color": "#C8D4E3"
             },
             "line": {
              "color": "white"
             }
            },
            "type": "table"
           }
          ]
         },
         "layout": {
          "annotationdefaults": {
           "arrowcolor": "#2a3f5f",
           "arrowhead": 0,
           "arrowwidth": 1
          },
          "coloraxis": {
           "colorbar": {
            "outlinewidth": 0,
            "ticks": ""
           }
          },
          "colorscale": {
           "diverging": [
            [
             0,
             "#8e0152"
            ],
            [
             0.1,
             "#c51b7d"
            ],
            [
             0.2,
             "#de77ae"
            ],
            [
             0.3,
             "#f1b6da"
            ],
            [
             0.4,
             "#fde0ef"
            ],
            [
             0.5,
             "#f7f7f7"
            ],
            [
             0.6,
             "#e6f5d0"
            ],
            [
             0.7,
             "#b8e186"
            ],
            [
             0.8,
             "#7fbc41"
            ],
            [
             0.9,
             "#4d9221"
            ],
            [
             1,
             "#276419"
            ]
           ],
           "sequential": [
            [
             0,
             "#0d0887"
            ],
            [
             0.1111111111111111,
             "#46039f"
            ],
            [
             0.2222222222222222,
             "#7201a8"
            ],
            [
             0.3333333333333333,
             "#9c179e"
            ],
            [
             0.4444444444444444,
             "#bd3786"
            ],
            [
             0.5555555555555556,
             "#d8576b"
            ],
            [
             0.6666666666666666,
             "#ed7953"
            ],
            [
             0.7777777777777778,
             "#fb9f3a"
            ],
            [
             0.8888888888888888,
             "#fdca26"
            ],
            [
             1,
             "#f0f921"
            ]
           ],
           "sequentialminus": [
            [
             0,
             "#0d0887"
            ],
            [
             0.1111111111111111,
             "#46039f"
            ],
            [
             0.2222222222222222,
             "#7201a8"
            ],
            [
             0.3333333333333333,
             "#9c179e"
            ],
            [
             0.4444444444444444,
             "#bd3786"
            ],
            [
             0.5555555555555556,
             "#d8576b"
            ],
            [
             0.6666666666666666,
             "#ed7953"
            ],
            [
             0.7777777777777778,
             "#fb9f3a"
            ],
            [
             0.8888888888888888,
             "#fdca26"
            ],
            [
             1,
             "#f0f921"
            ]
           ]
          },
          "colorway": [
           "#636efa",
           "#EF553B",
           "#00cc96",
           "#ab63fa",
           "#FFA15A",
           "#19d3f3",
           "#FF6692",
           "#B6E880",
           "#FF97FF",
           "#FECB52"
          ],
          "font": {
           "color": "#2a3f5f"
          },
          "geo": {
           "bgcolor": "white",
           "lakecolor": "white",
           "landcolor": "#E5ECF6",
           "showlakes": true,
           "showland": true,
           "subunitcolor": "white"
          },
          "hoverlabel": {
           "align": "left"
          },
          "hovermode": "closest",
          "mapbox": {
           "style": "light"
          },
          "paper_bgcolor": "white",
          "plot_bgcolor": "#E5ECF6",
          "polar": {
           "angularaxis": {
            "gridcolor": "white",
            "linecolor": "white",
            "ticks": ""
           },
           "bgcolor": "#E5ECF6",
           "radialaxis": {
            "gridcolor": "white",
            "linecolor": "white",
            "ticks": ""
           }
          },
          "scene": {
           "xaxis": {
            "backgroundcolor": "#E5ECF6",
            "gridcolor": "white",
            "gridwidth": 2,
            "linecolor": "white",
            "showbackground": true,
            "ticks": "",
            "zerolinecolor": "white"
           },
           "yaxis": {
            "backgroundcolor": "#E5ECF6",
            "gridcolor": "white",
            "gridwidth": 2,
            "linecolor": "white",
            "showbackground": true,
            "ticks": "",
            "zerolinecolor": "white"
           },
           "zaxis": {
            "backgroundcolor": "#E5ECF6",
            "gridcolor": "white",
            "gridwidth": 2,
            "linecolor": "white",
            "showbackground": true,
            "ticks": "",
            "zerolinecolor": "white"
           }
          },
          "shapedefaults": {
           "line": {
            "color": "#2a3f5f"
           }
          },
          "ternary": {
           "aaxis": {
            "gridcolor": "white",
            "linecolor": "white",
            "ticks": ""
           },
           "baxis": {
            "gridcolor": "white",
            "linecolor": "white",
            "ticks": ""
           },
           "bgcolor": "#E5ECF6",
           "caxis": {
            "gridcolor": "white",
            "linecolor": "white",
            "ticks": ""
           }
          },
          "title": {
           "x": 0.05
          },
          "xaxis": {
           "automargin": true,
           "gridcolor": "white",
           "linecolor": "white",
           "ticks": "",
           "title": {
            "standoff": 15
           },
           "zerolinecolor": "white",
           "zerolinewidth": 2
          },
          "yaxis": {
           "automargin": true,
           "gridcolor": "white",
           "linecolor": "white",
           "ticks": "",
           "title": {
            "standoff": 15
           },
           "zerolinecolor": "white",
           "zerolinewidth": 2
          }
         }
        },
        "title": {
         "text": "Number of Deaths reported"
        },
        "treemapcolorway": [
         "rgb(95, 70, 144)",
         "rgb(29, 105, 150)",
         "rgb(56, 166, 165)",
         "rgb(15, 133, 84)",
         "rgb(115, 175, 72)",
         "rgb(237, 173, 8)",
         "rgb(225, 124, 5)",
         "rgb(204, 80, 62)",
         "rgb(148, 52, 110)",
         "rgb(111, 64, 112)",
         "rgb(102, 102, 102)"
        ]
       }
      },
      "text/html": [
       "<div>\n",
       "        \n",
       "        \n",
       "            <div id=\"8e7ca868-81d6-4c72-a6f2-d49849f9bbfa\" class=\"plotly-graph-div\" style=\"height:700px; width:100%;\"></div>\n",
       "            <script type=\"text/javascript\">\n",
       "                require([\"plotly\"], function(Plotly) {\n",
       "                    window.PLOTLYENV=window.PLOTLYENV || {};\n",
       "                    \n",
       "                if (document.getElementById(\"8e7ca868-81d6-4c72-a6f2-d49849f9bbfa\")) {\n",
       "                    Plotly.newPlot(\n",
       "                        '8e7ca868-81d6-4c72-a6f2-d49849f9bbfa',\n",
       "                        [{\"branchvalues\": \"total\", \"domain\": {\"x\": [0.0, 1.0], \"y\": [0.0, 1.0]}, \"hoverlabel\": {\"namelength\": 0}, \"hovertemplate\": \"labels=%{label}<br>Deaths=%{value}<br>parent=%{parent}<br>id=%{id}\", \"ids\": [\"Afghanistan/\", \"Albania/\", \"Algeria/\", \"Andorra/\", \"Argentina/\", \"Armenia/\", \"Austria/\", \"Azerbaijan/\", \"Bahrain/\", \"Bangladesh/\", \"Belarus/\", \"Belgium/\", \"Bhutan/\", \"Bolivia/\", \"Bosnia and Herzegovina/\", \"Brazil/\", \"Brunei/\", \"Bulgaria/\", \"Burkina Faso/\", \"Cambodia/\", \"Cameroon/\", \"Chile/\", \"Colombia/\", \"Congo (Kinshasa)/\", \"Costa Rica/\", \"Croatia/\", \"Cyprus/\", \"Czech Republic/\", \"Dominican Republic/\", \"Ecuador/\", \"Egypt/\", \"Estonia/\", \"Finland/\", \"French Guiana/\", \"Georgia/\", \"Germany/\", \"Greece/\", \"Holy See/\", \"Honduras/\", \"Hungary/\", \"Iceland/\", \"India/\", \"Indonesia/\", \"Iran/\", \"Iraq/\", \"Ireland/\", \"Israel/\", \"Italy/\", \"Ivory Coast/\", \"Jamaica/\", \"Japan/\", \"Jordan/\", \"Kuwait/\", \"Latvia/\", \"Lebanon/\", \"Liechtenstein/\", \"Lithuania/\", \"Luxembourg/\", \"Malaysia/\", \"Maldives/\", \"Malta/\", \"Martinique/\", \"Mexico/\", \"Moldova/\", \"Monaco/\", \"Mongolia/\", \"Morocco/\", \"Nepal/\", \"Netherlands/\", \"New Zealand/\", \"Nigeria/\", \"North Macedonia/\", \"Norway/\", \"Oman/\", \"Pakistan/\", \"Panama/\", \"Paraguay/\", \"Peru/\", \"Philippines/\", \"Poland/\", \"Portugal/\", \"Qatar/\", \"Reunion/\", \"Romania/\", \"Russia/\", \"San Marino/\", \"Saudi Arabia/\", \"Senegal/\", \"Serbia/\", \"Singapore/\", \"Slovakia/\", \"Slovenia/\", \"South Africa/\", \"South Korea/\", \"Spain/\", \"Sri Lanka/\", \"Sweden/\", \"Switzerland/\", \"Taiwan/\", \"Thailand/\", \"Togo/\", \"Tunisia/\", \"Turkey/\", \"Ukraine/\", \"United Arab Emirates/\", \"Vietnam/\", \"occupied Palestinian territory/\", \"US/Alaska\", \"Canada/Alberta\", \"China/Anhui\", \"US/Arizona\", \"US/Arkansas\", \"China/Beijing\", \"Canada/British Columbia\", \"US/California\", \"UK/Channel Islands\", \"China/Chongqing\", \"US/Colorado\", \"US/Connecticut\", \"US/Delaware\", \"Denmark/Denmark\", \"Australia/Diamond Princess cruise ship\", \"Others/Diamond Princess cruise ship\", \"US/Diamond Princess cruise ship\", \"US/District of Columbia\", \"Denmark/Faroe Islands\", \"US/Florida\", \"France/France\", \"China/Fujian\", \"China/Gansu\", \"US/Georgia\", \"UK/Gibraltar\", \"US/Grand Princess\", \"China/Guangdong\", \"China/Guangxi\", \"China/Guizhou\", \"China/Hainan\", \"US/Hawaii\", \"China/Hebei\", \"China/Heilongjiang\", \"China/Henan\", \"China/Hong Kong\", \"China/Hubei\", \"China/Hunan\", \"US/Idaho\", \"US/Illinois\", \"US/Indiana\", \"China/Inner Mongolia\", \"US/Iowa\", \"China/Jiangsu\", \"China/Jiangxi\", \"China/Jilin\", \"US/Kansas\", \"US/Kentucky\", \"China/Liaoning\", \"US/Louisiana\", \"China/Macau\", \"US/Maine\", \"US/Maryland\", \"US/Massachusetts\", \"US/Michigan\", \"US/Minnesota\", \"US/Mississippi\", \"US/Missouri\", \"US/Montana\", \"US/Nebraska\", \"US/Nevada\", \"Canada/New Brunswick\", \"US/New Hampshire\", \"US/New Jersey\", \"US/New Mexico\", \"Australia/New South Wales\", \"US/New York\", \"China/Ningxia\", \"US/North Carolina\", \"US/North Dakota\", \"Australia/Northern Territory\", \"US/Ohio\", \"US/Oklahoma\", \"Canada/Ontario\", \"US/Oregon\", \"US/Pennsylvania\", \"China/Qinghai\", \"Canada/Quebec\", \"Australia/Queensland\", \"US/Rhode Island\", \"France/Saint Barthelemy\", \"China/Shaanxi\", \"China/Shandong\", \"China/Shanghai\", \"China/Shanxi\", \"China/Sichuan\", \"Australia/South Australia\", \"US/South Carolina\", \"US/South Dakota\", \"France/St Martin\", \"Australia/Tasmania\", \"US/Tennessee\", \"US/Texas\", \"China/Tianjin\", \"China/Tibet\", \"UK/UK\", \"US/Utah\", \"US/Vermont\", \"Australia/Victoria\", \"US/Virginia\", \"US/Washington\", \"US/West Virginia\", \"Australia/Western Australia\", \"US/Wisconsin\", \"US/Wyoming\", \"China/Xinjiang\", \"China/Yunnan\", \"China/Zhejiang\", \"Afghanistan\", \"Albania\", \"Algeria\", \"Andorra\", \"Argentina\", \"Armenia\", \"Australia\", \"Austria\", \"Azerbaijan\", \"Bahrain\", \"Bangladesh\", \"Belarus\", \"Belgium\", \"Bhutan\", \"Bolivia\", \"Bosnia and Herzegovina\", \"Brazil\", \"Brunei\", \"Bulgaria\", \"Burkina Faso\", \"Cambodia\", \"Cameroon\", \"Canada\", \"Chile\", \"China\", \"Colombia\", \"Congo (Kinshasa)\", \"Costa Rica\", \"Croatia\", \"Cyprus\", \"Czech Republic\", \"Denmark\", \"Dominican Republic\", \"Ecuador\", \"Egypt\", \"Estonia\", \"Finland\", \"France\", \"French Guiana\", \"Georgia\", \"Germany\", \"Greece\", \"Holy See\", \"Honduras\", \"Hungary\", \"Iceland\", \"India\", \"Indonesia\", \"Iran\", \"Iraq\", \"Ireland\", \"Israel\", \"Italy\", \"Ivory Coast\", \"Jamaica\", \"Japan\", \"Jordan\", \"Kuwait\", \"Latvia\", \"Lebanon\", \"Liechtenstein\", \"Lithuania\", \"Luxembourg\", \"Malaysia\", \"Maldives\", \"Malta\", \"Martinique\", \"Mexico\", \"Moldova\", \"Monaco\", \"Mongolia\", \"Morocco\", \"Nepal\", \"Netherlands\", \"New Zealand\", \"Nigeria\", \"North Macedonia\", \"Norway\", \"Oman\", \"Others\", \"Pakistan\", \"Panama\", \"Paraguay\", \"Peru\", \"Philippines\", \"Poland\", \"Portugal\", \"Qatar\", \"Reunion\", \"Romania\", \"Russia\", \"San Marino\", \"Saudi Arabia\", \"Senegal\", \"Serbia\", \"Singapore\", \"Slovakia\", \"Slovenia\", \"South Africa\", \"South Korea\", \"Spain\", \"Sri Lanka\", \"Sweden\", \"Switzerland\", \"Taiwan\", \"Thailand\", \"Togo\", \"Tunisia\", \"Turkey\", \"UK\", \"US\", \"Ukraine\", \"United Arab Emirates\", \"Vietnam\", \"occupied Palestinian territory\"], \"labels\": [\"\", \"\", \"\", \"\", \"\", \"\", \"\", \"\", \"\", \"\", \"\", \"\", \"\", \"\", \"\", \"\", \"\", \"\", \"\", \"\", \"\", \"\", \"\", \"\", \"\", \"\", \"\", \"\", \"\", \"\", \"\", \"\", \"\", \"\", \"\", \"\", \"\", \"\", \"\", \"\", \"\", \"\", \"\", \"\", \"\", \"\", \"\", \"\", \"\", \"\", \"\", \"\", \"\", \"\", \"\", \"\", \"\", \"\", \"\", \"\", \"\", \"\", \"\", \"\", \"\", \"\", \"\", \"\", \"\", \"\", \"\", \"\", \"\", \"\", \"\", \"\", \"\", \"\", \"\", \"\", \"\", \"\", \"\", \"\", \"\", \"\", \"\", \"\", \"\", \"\", \"\", \"\", \"\", \"\", \"\", \"\", \"\", \"\", \"\", \"\", \"\", \"\", \"\", \"\", \"\", \"\", \"\", \"Alaska\", \"Alberta\", \"Anhui\", \"Arizona\", \"Arkansas\", \"Beijing\", \"British Columbia\", \"California\", \"Channel Islands\", \"Chongqing\", \"Colorado\", \"Connecticut\", \"Delaware\", \"Denmark\", \"Diamond Princess cruise ship\", \"Diamond Princess cruise ship\", \"Diamond Princess cruise ship\", \"District of Columbia\", \"Faroe Islands\", \"Florida\", \"France\", \"Fujian\", \"Gansu\", \"Georgia\", \"Gibraltar\", \"Grand Princess\", \"Guangdong\", \"Guangxi\", \"Guizhou\", \"Hainan\", \"Hawaii\", \"Hebei\", \"Heilongjiang\", \"Henan\", \"Hong Kong\", \"Hubei\", \"Hunan\", \"Idaho\", \"Illinois\", \"Indiana\", \"Inner Mongolia\", \"Iowa\", \"Jiangsu\", \"Jiangxi\", \"Jilin\", \"Kansas\", \"Kentucky\", \"Liaoning\", \"Louisiana\", \"Macau\", \"Maine\", \"Maryland\", \"Massachusetts\", \"Michigan\", \"Minnesota\", \"Mississippi\", \"Missouri\", \"Montana\", \"Nebraska\", \"Nevada\", \"New Brunswick\", \"New Hampshire\", \"New Jersey\", \"New Mexico\", \"New South Wales\", \"New York\", \"Ningxia\", \"North Carolina\", \"North Dakota\", \"Northern Territory\", \"Ohio\", \"Oklahoma\", \"Ontario\", \"Oregon\", \"Pennsylvania\", \"Qinghai\", \"Quebec\", \"Queensland\", \"Rhode Island\", \"Saint Barthelemy\", \"Shaanxi\", \"Shandong\", \"Shanghai\", \"Shanxi\", \"Sichuan\", \"South Australia\", \"South Carolina\", \"South Dakota\", \"St Martin\", \"Tasmania\", \"Tennessee\", \"Texas\", \"Tianjin\", \"Tibet\", \"UK\", \"Utah\", \"Vermont\", \"Victoria\", \"Virginia\", \"Washington\", \"West Virginia\", \"Western Australia\", \"Wisconsin\", \"Wyoming\", \"Xinjiang\", \"Yunnan\", \"Zhejiang\", \"Afghanistan\", \"Albania\", \"Algeria\", \"Andorra\", \"Argentina\", \"Armenia\", \"Australia\", \"Austria\", \"Azerbaijan\", \"Bahrain\", \"Bangladesh\", \"Belarus\", \"Belgium\", \"Bhutan\", \"Bolivia\", \"Bosnia and Herzegovina\", \"Brazil\", \"Brunei\", \"Bulgaria\", \"Burkina Faso\", \"Cambodia\", \"Cameroon\", \"Canada\", \"Chile\", \"China\", \"Colombia\", \"Congo (Kinshasa)\", \"Costa Rica\", \"Croatia\", \"Cyprus\", \"Czech Republic\", \"Denmark\", \"Dominican Republic\", \"Ecuador\", \"Egypt\", \"Estonia\", \"Finland\", \"France\", \"French Guiana\", \"Georgia\", \"Germany\", \"Greece\", \"Holy See\", \"Honduras\", \"Hungary\", \"Iceland\", \"India\", \"Indonesia\", \"Iran\", \"Iraq\", \"Ireland\", \"Israel\", \"Italy\", \"Ivory Coast\", \"Jamaica\", \"Japan\", \"Jordan\", \"Kuwait\", \"Latvia\", \"Lebanon\", \"Liechtenstein\", \"Lithuania\", \"Luxembourg\", \"Malaysia\", \"Maldives\", \"Malta\", \"Martinique\", \"Mexico\", \"Moldova\", \"Monaco\", \"Mongolia\", \"Morocco\", \"Nepal\", \"Netherlands\", \"New Zealand\", \"Nigeria\", \"North Macedonia\", \"Norway\", \"Oman\", \"Others\", \"Pakistan\", \"Panama\", \"Paraguay\", \"Peru\", \"Philippines\", \"Poland\", \"Portugal\", \"Qatar\", \"Reunion\", \"Romania\", \"Russia\", \"San Marino\", \"Saudi Arabia\", \"Senegal\", \"Serbia\", \"Singapore\", \"Slovakia\", \"Slovenia\", \"South Africa\", \"South Korea\", \"Spain\", \"Sri Lanka\", \"Sweden\", \"Switzerland\", \"Taiwan\", \"Thailand\", \"Togo\", \"Tunisia\", \"Turkey\", \"UK\", \"US\", \"Ukraine\", \"United Arab Emirates\", \"Vietnam\", \"occupied Palestinian territory\"], \"name\": \"\", \"parents\": [\"Afghanistan\", \"Albania\", \"Algeria\", \"Andorra\", \"Argentina\", \"Armenia\", \"Austria\", \"Azerbaijan\", \"Bahrain\", \"Bangladesh\", \"Belarus\", \"Belgium\", \"Bhutan\", \"Bolivia\", \"Bosnia and Herzegovina\", \"Brazil\", \"Brunei\", \"Bulgaria\", \"Burkina Faso\", \"Cambodia\", \"Cameroon\", \"Chile\", \"Colombia\", \"Congo (Kinshasa)\", \"Costa Rica\", \"Croatia\", \"Cyprus\", \"Czech Republic\", \"Dominican Republic\", \"Ecuador\", \"Egypt\", \"Estonia\", \"Finland\", \"French Guiana\", \"Georgia\", \"Germany\", \"Greece\", \"Holy See\", \"Honduras\", \"Hungary\", \"Iceland\", \"India\", \"Indonesia\", \"Iran\", \"Iraq\", \"Ireland\", \"Israel\", \"Italy\", \"Ivory Coast\", \"Jamaica\", \"Japan\", \"Jordan\", \"Kuwait\", \"Latvia\", \"Lebanon\", \"Liechtenstein\", \"Lithuania\", \"Luxembourg\", \"Malaysia\", \"Maldives\", \"Malta\", \"Martinique\", \"Mexico\", \"Moldova\", \"Monaco\", \"Mongolia\", \"Morocco\", \"Nepal\", \"Netherlands\", \"New Zealand\", \"Nigeria\", \"North Macedonia\", \"Norway\", \"Oman\", \"Pakistan\", \"Panama\", \"Paraguay\", \"Peru\", \"Philippines\", \"Poland\", \"Portugal\", \"Qatar\", \"Reunion\", \"Romania\", \"Russia\", \"San Marino\", \"Saudi Arabia\", \"Senegal\", \"Serbia\", \"Singapore\", \"Slovakia\", \"Slovenia\", \"South Africa\", \"South Korea\", \"Spain\", \"Sri Lanka\", \"Sweden\", \"Switzerland\", \"Taiwan\", \"Thailand\", \"Togo\", \"Tunisia\", \"Turkey\", \"Ukraine\", \"United Arab Emirates\", \"Vietnam\", \"occupied Palestinian territory\", \"US\", \"Canada\", \"China\", \"US\", \"US\", \"China\", \"Canada\", \"US\", \"UK\", \"China\", \"US\", \"US\", \"US\", \"Denmark\", \"Australia\", \"Others\", \"US\", \"US\", \"Denmark\", \"US\", \"France\", \"China\", \"China\", \"US\", \"UK\", \"US\", \"China\", \"China\", \"China\", \"China\", \"US\", \"China\", \"China\", \"China\", \"China\", \"China\", \"China\", \"US\", \"US\", \"US\", \"China\", \"US\", \"China\", \"China\", \"China\", \"US\", \"US\", \"China\", \"US\", \"China\", \"US\", \"US\", \"US\", \"US\", \"US\", \"US\", \"US\", \"US\", \"US\", \"US\", \"Canada\", \"US\", \"US\", \"US\", \"Australia\", \"US\", \"China\", \"US\", \"US\", \"Australia\", \"US\", \"US\", \"Canada\", \"US\", \"US\", \"China\", \"Canada\", \"Australia\", \"US\", \"France\", \"China\", \"China\", \"China\", \"China\", \"China\", \"Australia\", \"US\", \"US\", \"France\", \"Australia\", \"US\", \"US\", \"China\", \"China\", \"UK\", \"US\", \"US\", \"Australia\", \"US\", \"US\", \"US\", \"Australia\", \"US\", \"US\", \"China\", \"China\", \"China\", \"\", \"\", \"\", \"\", \"\", \"\", \"\", \"\", \"\", \"\", \"\", \"\", \"\", \"\", \"\", \"\", \"\", \"\", \"\", \"\", \"\", \"\", \"\", \"\", \"\", \"\", \"\", \"\", \"\", \"\", \"\", \"\", \"\", \"\", \"\", \"\", \"\", \"\", \"\", \"\", \"\", \"\", \"\", \"\", \"\", \"\", \"\", \"\", \"\", \"\", \"\", \"\", \"\", \"\", \"\", \"\", \"\", \"\", \"\", \"\", \"\", \"\", \"\", \"\", \"\", \"\", \"\", \"\", \"\", \"\", \"\", \"\", \"\", \"\", \"\", \"\", \"\", \"\", \"\", \"\", \"\", \"\", \"\", \"\", \"\", \"\", \"\", \"\", \"\", \"\", \"\", \"\", \"\", \"\", \"\", \"\", \"\", \"\", \"\", \"\", \"\", \"\", \"\", \"\", \"\", \"\", \"\", \"\", \"\", \"\", \"\", \"\", \"\", \"\", \"\"], \"textinfo\": \"label+text+value\", \"type\": \"treemap\", \"values\": [0, 1, 0, 0, 1, 0, 0, 0, 0, 0, 0, 3, 0, 0, 0, 0, 0, 1, 0, 0, 0, 0, 0, 0, 0, 0, 0, 0, 0, 0, 1, 0, 0, 0, 0, 3, 1, 0, 0, 0, 0, 1, 1, 354, 7, 1, 0, 827, 0, 0, 15, 0, 0, 0, 3, 0, 0, 0, 0, 0, 0, 0, 0, 0, 0, 0, 1, 0, 5, 0, 0, 0, 0, 0, 0, 1, 0, 0, 1, 0, 0, 0, 0, 0, 0, 2, 0, 0, 0, 0, 0, 0, 0, 60, 54, 0, 1, 4, 1, 1, 0, 0, 0, 0, 0, 0, 0, 0, 0, 6, 0, 0, 8, 1, 3, 0, 6, 0, 0, 0, 0, 0, 7, 0, 0, 0, 2, 48, 1, 2, 0, 0, 0, 8, 2, 2, 6, 0, 6, 13, 22, 3, 3046, 4, 0, 0, 0, 1, 0, 0, 1, 1, 0, 0, 1, 0, 0, 0, 0, 0, 0, 0, 0, 0, 0, 0, 0, 0, 0, 1, 0, 2, 0, 0, 0, 0, 0, 0, 0, 0, 0, 0, 0, 0, 0, 0, 0, 1, 6, 3, 0, 3, 0, 0, 1, 0, 0, 0, 0, 3, 0, 8, 0, 0, 0, 0, 29, 0, 1, 0, 0, 3, 2, 1, 0, 1, 0, 0, 1, 0, 3, 0, 0, 0, 0, 0, 3, 0, 0, 0, 0, 0, 1, 0, 0, 0, 1, 0, 3161, 0, 0, 0, 0, 0, 0, 0, 0, 0, 1, 0, 0, 48, 0, 0, 3, 1, 0, 0, 0, 0, 1, 1, 354, 7, 1, 0, 827, 0, 0, 15, 0, 0, 0, 3, 0, 0, 0, 0, 0, 0, 0, 0, 0, 0, 0, 1, 0, 5, 0, 0, 0, 0, 0, 7, 0, 1, 0, 0, 1, 0, 0, 0, 0, 0, 0, 2, 0, 0, 0, 0, 0, 0, 0, 60, 54, 0, 1, 4, 1, 1, 0, 0, 0, 8, 36, 0, 0, 0, 0]}],\n",
       "                        {\"height\": 700, \"legend\": {\"tracegroupgap\": 0}, \"template\": {\"data\": {\"bar\": [{\"error_x\": {\"color\": \"#2a3f5f\"}, \"error_y\": {\"color\": \"#2a3f5f\"}, \"marker\": {\"line\": {\"color\": \"#E5ECF6\", \"width\": 0.5}}, \"type\": \"bar\"}], \"barpolar\": [{\"marker\": {\"line\": {\"color\": \"#E5ECF6\", \"width\": 0.5}}, \"type\": \"barpolar\"}], \"carpet\": [{\"aaxis\": {\"endlinecolor\": \"#2a3f5f\", \"gridcolor\": \"white\", \"linecolor\": \"white\", \"minorgridcolor\": \"white\", \"startlinecolor\": \"#2a3f5f\"}, \"baxis\": {\"endlinecolor\": \"#2a3f5f\", \"gridcolor\": \"white\", \"linecolor\": \"white\", \"minorgridcolor\": \"white\", \"startlinecolor\": \"#2a3f5f\"}, \"type\": \"carpet\"}], \"choropleth\": [{\"colorbar\": {\"outlinewidth\": 0, \"ticks\": \"\"}, \"type\": \"choropleth\"}], \"contour\": [{\"colorbar\": {\"outlinewidth\": 0, \"ticks\": \"\"}, \"colorscale\": [[0.0, \"#0d0887\"], [0.1111111111111111, \"#46039f\"], [0.2222222222222222, \"#7201a8\"], [0.3333333333333333, \"#9c179e\"], [0.4444444444444444, \"#bd3786\"], [0.5555555555555556, \"#d8576b\"], [0.6666666666666666, \"#ed7953\"], [0.7777777777777778, \"#fb9f3a\"], [0.8888888888888888, \"#fdca26\"], [1.0, \"#f0f921\"]], \"type\": \"contour\"}], \"contourcarpet\": [{\"colorbar\": {\"outlinewidth\": 0, \"ticks\": \"\"}, \"type\": \"contourcarpet\"}], \"heatmap\": [{\"colorbar\": {\"outlinewidth\": 0, \"ticks\": \"\"}, \"colorscale\": [[0.0, \"#0d0887\"], [0.1111111111111111, \"#46039f\"], [0.2222222222222222, \"#7201a8\"], [0.3333333333333333, \"#9c179e\"], [0.4444444444444444, \"#bd3786\"], [0.5555555555555556, \"#d8576b\"], [0.6666666666666666, \"#ed7953\"], [0.7777777777777778, \"#fb9f3a\"], [0.8888888888888888, \"#fdca26\"], [1.0, \"#f0f921\"]], \"type\": \"heatmap\"}], \"heatmapgl\": [{\"colorbar\": {\"outlinewidth\": 0, \"ticks\": \"\"}, \"colorscale\": [[0.0, \"#0d0887\"], [0.1111111111111111, \"#46039f\"], [0.2222222222222222, \"#7201a8\"], [0.3333333333333333, \"#9c179e\"], [0.4444444444444444, \"#bd3786\"], [0.5555555555555556, \"#d8576b\"], [0.6666666666666666, \"#ed7953\"], [0.7777777777777778, \"#fb9f3a\"], [0.8888888888888888, \"#fdca26\"], [1.0, \"#f0f921\"]], \"type\": \"heatmapgl\"}], \"histogram\": [{\"marker\": {\"colorbar\": {\"outlinewidth\": 0, \"ticks\": \"\"}}, \"type\": \"histogram\"}], \"histogram2d\": [{\"colorbar\": {\"outlinewidth\": 0, \"ticks\": \"\"}, \"colorscale\": [[0.0, \"#0d0887\"], [0.1111111111111111, \"#46039f\"], [0.2222222222222222, \"#7201a8\"], [0.3333333333333333, \"#9c179e\"], [0.4444444444444444, \"#bd3786\"], [0.5555555555555556, \"#d8576b\"], [0.6666666666666666, \"#ed7953\"], [0.7777777777777778, \"#fb9f3a\"], [0.8888888888888888, \"#fdca26\"], [1.0, \"#f0f921\"]], \"type\": \"histogram2d\"}], \"histogram2dcontour\": [{\"colorbar\": {\"outlinewidth\": 0, \"ticks\": \"\"}, \"colorscale\": [[0.0, \"#0d0887\"], [0.1111111111111111, \"#46039f\"], [0.2222222222222222, \"#7201a8\"], [0.3333333333333333, \"#9c179e\"], [0.4444444444444444, \"#bd3786\"], [0.5555555555555556, \"#d8576b\"], [0.6666666666666666, \"#ed7953\"], [0.7777777777777778, \"#fb9f3a\"], [0.8888888888888888, \"#fdca26\"], [1.0, \"#f0f921\"]], \"type\": \"histogram2dcontour\"}], \"mesh3d\": [{\"colorbar\": {\"outlinewidth\": 0, \"ticks\": \"\"}, \"type\": \"mesh3d\"}], \"parcoords\": [{\"line\": {\"colorbar\": {\"outlinewidth\": 0, \"ticks\": \"\"}}, \"type\": \"parcoords\"}], \"pie\": [{\"automargin\": true, \"type\": \"pie\"}], \"scatter\": [{\"marker\": {\"colorbar\": {\"outlinewidth\": 0, \"ticks\": \"\"}}, \"type\": \"scatter\"}], \"scatter3d\": [{\"line\": {\"colorbar\": {\"outlinewidth\": 0, \"ticks\": \"\"}}, \"marker\": {\"colorbar\": {\"outlinewidth\": 0, \"ticks\": \"\"}}, \"type\": \"scatter3d\"}], \"scattercarpet\": [{\"marker\": {\"colorbar\": {\"outlinewidth\": 0, \"ticks\": \"\"}}, \"type\": \"scattercarpet\"}], \"scattergeo\": [{\"marker\": {\"colorbar\": {\"outlinewidth\": 0, \"ticks\": \"\"}}, \"type\": \"scattergeo\"}], \"scattergl\": [{\"marker\": {\"colorbar\": {\"outlinewidth\": 0, \"ticks\": \"\"}}, \"type\": \"scattergl\"}], \"scattermapbox\": [{\"marker\": {\"colorbar\": {\"outlinewidth\": 0, \"ticks\": \"\"}}, \"type\": \"scattermapbox\"}], \"scatterpolar\": [{\"marker\": {\"colorbar\": {\"outlinewidth\": 0, \"ticks\": \"\"}}, \"type\": \"scatterpolar\"}], \"scatterpolargl\": [{\"marker\": {\"colorbar\": {\"outlinewidth\": 0, \"ticks\": \"\"}}, \"type\": \"scatterpolargl\"}], \"scatterternary\": [{\"marker\": {\"colorbar\": {\"outlinewidth\": 0, \"ticks\": \"\"}}, \"type\": \"scatterternary\"}], \"surface\": [{\"colorbar\": {\"outlinewidth\": 0, \"ticks\": \"\"}, \"colorscale\": [[0.0, \"#0d0887\"], [0.1111111111111111, \"#46039f\"], [0.2222222222222222, \"#7201a8\"], [0.3333333333333333, \"#9c179e\"], [0.4444444444444444, \"#bd3786\"], [0.5555555555555556, \"#d8576b\"], [0.6666666666666666, \"#ed7953\"], [0.7777777777777778, \"#fb9f3a\"], [0.8888888888888888, \"#fdca26\"], [1.0, \"#f0f921\"]], \"type\": \"surface\"}], \"table\": [{\"cells\": {\"fill\": {\"color\": \"#EBF0F8\"}, \"line\": {\"color\": \"white\"}}, \"header\": {\"fill\": {\"color\": \"#C8D4E3\"}, \"line\": {\"color\": \"white\"}}, \"type\": \"table\"}]}, \"layout\": {\"annotationdefaults\": {\"arrowcolor\": \"#2a3f5f\", \"arrowhead\": 0, \"arrowwidth\": 1}, \"coloraxis\": {\"colorbar\": {\"outlinewidth\": 0, \"ticks\": \"\"}}, \"colorscale\": {\"diverging\": [[0, \"#8e0152\"], [0.1, \"#c51b7d\"], [0.2, \"#de77ae\"], [0.3, \"#f1b6da\"], [0.4, \"#fde0ef\"], [0.5, \"#f7f7f7\"], [0.6, \"#e6f5d0\"], [0.7, \"#b8e186\"], [0.8, \"#7fbc41\"], [0.9, \"#4d9221\"], [1, \"#276419\"]], \"sequential\": [[0.0, \"#0d0887\"], [0.1111111111111111, \"#46039f\"], [0.2222222222222222, \"#7201a8\"], [0.3333333333333333, \"#9c179e\"], [0.4444444444444444, \"#bd3786\"], [0.5555555555555556, \"#d8576b\"], [0.6666666666666666, \"#ed7953\"], [0.7777777777777778, \"#fb9f3a\"], [0.8888888888888888, \"#fdca26\"], [1.0, \"#f0f921\"]], \"sequentialminus\": [[0.0, \"#0d0887\"], [0.1111111111111111, \"#46039f\"], [0.2222222222222222, \"#7201a8\"], [0.3333333333333333, \"#9c179e\"], [0.4444444444444444, \"#bd3786\"], [0.5555555555555556, \"#d8576b\"], [0.6666666666666666, \"#ed7953\"], [0.7777777777777778, \"#fb9f3a\"], [0.8888888888888888, \"#fdca26\"], [1.0, \"#f0f921\"]]}, \"colorway\": [\"#636efa\", \"#EF553B\", \"#00cc96\", \"#ab63fa\", \"#FFA15A\", \"#19d3f3\", \"#FF6692\", \"#B6E880\", \"#FF97FF\", \"#FECB52\"], \"font\": {\"color\": \"#2a3f5f\"}, \"geo\": {\"bgcolor\": \"white\", \"lakecolor\": \"white\", \"landcolor\": \"#E5ECF6\", \"showlakes\": true, \"showland\": true, \"subunitcolor\": \"white\"}, \"hoverlabel\": {\"align\": \"left\"}, \"hovermode\": \"closest\", \"mapbox\": {\"style\": \"light\"}, \"paper_bgcolor\": \"white\", \"plot_bgcolor\": \"#E5ECF6\", \"polar\": {\"angularaxis\": {\"gridcolor\": \"white\", \"linecolor\": \"white\", \"ticks\": \"\"}, \"bgcolor\": \"#E5ECF6\", \"radialaxis\": {\"gridcolor\": \"white\", \"linecolor\": \"white\", \"ticks\": \"\"}}, \"scene\": {\"xaxis\": {\"backgroundcolor\": \"#E5ECF6\", \"gridcolor\": \"white\", \"gridwidth\": 2, \"linecolor\": \"white\", \"showbackground\": true, \"ticks\": \"\", \"zerolinecolor\": \"white\"}, \"yaxis\": {\"backgroundcolor\": \"#E5ECF6\", \"gridcolor\": \"white\", \"gridwidth\": 2, \"linecolor\": \"white\", \"showbackground\": true, \"ticks\": \"\", \"zerolinecolor\": \"white\"}, \"zaxis\": {\"backgroundcolor\": \"#E5ECF6\", \"gridcolor\": \"white\", \"gridwidth\": 2, \"linecolor\": \"white\", \"showbackground\": true, \"ticks\": \"\", \"zerolinecolor\": \"white\"}}, \"shapedefaults\": {\"line\": {\"color\": \"#2a3f5f\"}}, \"ternary\": {\"aaxis\": {\"gridcolor\": \"white\", \"linecolor\": \"white\", \"ticks\": \"\"}, \"baxis\": {\"gridcolor\": \"white\", \"linecolor\": \"white\", \"ticks\": \"\"}, \"bgcolor\": \"#E5ECF6\", \"caxis\": {\"gridcolor\": \"white\", \"linecolor\": \"white\", \"ticks\": \"\"}}, \"title\": {\"x\": 0.05}, \"xaxis\": {\"automargin\": true, \"gridcolor\": \"white\", \"linecolor\": \"white\", \"ticks\": \"\", \"title\": {\"standoff\": 15}, \"zerolinecolor\": \"white\", \"zerolinewidth\": 2}, \"yaxis\": {\"automargin\": true, \"gridcolor\": \"white\", \"linecolor\": \"white\", \"ticks\": \"\", \"title\": {\"standoff\": 15}, \"zerolinecolor\": \"white\", \"zerolinewidth\": 2}}}, \"title\": {\"text\": \"Number of Deaths reported\"}, \"treemapcolorway\": [\"rgb(95, 70, 144)\", \"rgb(29, 105, 150)\", \"rgb(56, 166, 165)\", \"rgb(15, 133, 84)\", \"rgb(115, 175, 72)\", \"rgb(237, 173, 8)\", \"rgb(225, 124, 5)\", \"rgb(204, 80, 62)\", \"rgb(148, 52, 110)\", \"rgb(111, 64, 112)\", \"rgb(102, 102, 102)\"]},\n",
       "                        {\"responsive\": true}\n",
       "                    ).then(function(){\n",
       "                            \n",
       "var gd = document.getElementById('8e7ca868-81d6-4c72-a6f2-d49849f9bbfa');\n",
       "var x = new MutationObserver(function (mutations, observer) {{\n",
       "        var display = window.getComputedStyle(gd).display;\n",
       "        if (!display || display === 'none') {{\n",
       "            console.log([gd, 'removed!']);\n",
       "            Plotly.purge(gd);\n",
       "            observer.disconnect();\n",
       "        }}\n",
       "}});\n",
       "\n",
       "// Listen for the removal of the full notebook cells\n",
       "var notebookContainer = gd.closest('#notebook-container');\n",
       "if (notebookContainer) {{\n",
       "    x.observe(notebookContainer, {childList: true});\n",
       "}}\n",
       "\n",
       "// Listen for the clearing of the current output cell\n",
       "var outputEl = gd.closest('.output');\n",
       "if (outputEl) {{\n",
       "    x.observe(outputEl, {childList: true});\n",
       "}}\n",
       "\n",
       "                        })\n",
       "                };\n",
       "                });\n",
       "            </script>\n",
       "        </div>"
      ]
     },
     "metadata": {},
     "output_type": "display_data"
    }
   ],
   "source": [
    "fig = px.treemap(full_latest.sort_values(by='Confirmed', ascending=False).reset_index(drop=True), \n",
    "                 path=[\"Country/Region\", \"Province/State\"], values=\"Confirmed\", height=700,\n",
    "                 title='Number of Confirmed Cases',\n",
    "                 color_discrete_sequence = px.colors.qualitative.Prism)\n",
    "fig.data[0].textinfo = 'label+text+value'\n",
    "fig.show()\n",
    "\n",
    "fig = px.treemap(full_latest.sort_values(by='Deaths', ascending=False).reset_index(drop=True), \n",
    "                 path=[\"Country/Region\", \"Province/State\"], values=\"Deaths\", height=700,\n",
    "                 title='Number of Deaths reported',\n",
    "                 color_discrete_sequence = px.colors.qualitative.Prism)\n",
    "fig.data[0].textinfo = 'label+text+value'\n",
    "fig.show()"
   ]
  },
  {
   "cell_type": "code",
   "execution_count": 39,
   "metadata": {},
   "outputs": [
    {
     "data": {
      "image/png": "[encoded data removed]",
      "text/plain": [
       "<Figure size 1080x216 with 4 Axes>"
      ]
     },
     "metadata": {},
     "output_type": "display_data"
    }
   ],
   "source": [
    "temp=full_table.loc[full_table['Country/Region'].isin(interested_countries)].groupby(['ObservationDate', 'Country/Region'])['Confirmed'].sum()\n",
    "temp = temp.reset_index().sort_values(by=['ObservationDate', 'Confirmed'])\n",
    "plt.style.use('seaborn')\n",
    "g = sns.FacetGrid(temp, col=\"Country/Region\", hue=\"Country/Region\", \n",
    "                  sharey=False, col_wrap=5)\n",
    "g = g.map(plt.plot, \"ObservationDate\", \"Confirmed\")\n",
    "g.set_xticklabels(rotation=90)\n",
    "plt.show()"
   ]
  },
  {
   "cell_type": "code",
   "execution_count": 45,
   "metadata": {},
   "outputs": [
    {
     "data": {
      "text/html": [
       "<style  type=\"text/css\" >\n",
       "    #T_5b5ef814_65bf_11ea_a85c_bbcfc5918484row0_col1 {\n",
       "            background-color:  #67000d;\n",
       "            color:  #f1f1f1;\n",
       "        }    #T_5b5ef814_65bf_11ea_a85c_bbcfc5918484row0_col2 {\n",
       "            background-color:  #67000d;\n",
       "            color:  #f1f1f1;\n",
       "        }    #T_5b5ef814_65bf_11ea_a85c_bbcfc5918484row0_col3 {\n",
       "            background-color:  #67000d;\n",
       "            color:  #f1f1f1;\n",
       "        }    #T_5b5ef814_65bf_11ea_a85c_bbcfc5918484row0_col4 {\n",
       "            background-color:  #67000d;\n",
       "            color:  #f1f1f1;\n",
       "        }    #T_5b5ef814_65bf_11ea_a85c_bbcfc5918484row1_col1 {\n",
       "            background-color:  #fed9c9;\n",
       "            color:  #000000;\n",
       "        }    #T_5b5ef814_65bf_11ea_a85c_bbcfc5918484row1_col2 {\n",
       "            background-color:  #fcb89e;\n",
       "            color:  #000000;\n",
       "        }    #T_5b5ef814_65bf_11ea_a85c_bbcfc5918484row1_col3 {\n",
       "            background-color:  #fff2ec;\n",
       "            color:  #000000;\n",
       "        }    #T_5b5ef814_65bf_11ea_a85c_bbcfc5918484row1_col4 {\n",
       "            background-color:  #e63328;\n",
       "            color:  #f1f1f1;\n",
       "        }    #T_5b5ef814_65bf_11ea_a85c_bbcfc5918484row2_col1 {\n",
       "            background-color:  #fee3d7;\n",
       "            color:  #000000;\n",
       "        }    #T_5b5ef814_65bf_11ea_a85c_bbcfc5918484row2_col2 {\n",
       "            background-color:  #fee3d6;\n",
       "            color:  #000000;\n",
       "        }    #T_5b5ef814_65bf_11ea_a85c_bbcfc5918484row2_col3 {\n",
       "            background-color:  #ffede5;\n",
       "            color:  #000000;\n",
       "        }    #T_5b5ef814_65bf_11ea_a85c_bbcfc5918484row2_col4 {\n",
       "            background-color:  #fc9c7d;\n",
       "            color:  #000000;\n",
       "        }    #T_5b5ef814_65bf_11ea_a85c_bbcfc5918484row3_col1 {\n",
       "            background-color:  #fee6da;\n",
       "            color:  #000000;\n",
       "        }    #T_5b5ef814_65bf_11ea_a85c_bbcfc5918484row3_col2 {\n",
       "            background-color:  #fff2ec;\n",
       "            color:  #000000;\n",
       "        }    #T_5b5ef814_65bf_11ea_a85c_bbcfc5918484row3_col3 {\n",
       "            background-color:  #fff4ef;\n",
       "            color:  #000000;\n",
       "        }    #T_5b5ef814_65bf_11ea_a85c_bbcfc5918484row3_col4 {\n",
       "            background-color:  #fb7858;\n",
       "            color:  #000000;\n",
       "        }    #T_5b5ef814_65bf_11ea_a85c_bbcfc5918484row4_col1 {\n",
       "            background-color:  #fff1ea;\n",
       "            color:  #000000;\n",
       "        }    #T_5b5ef814_65bf_11ea_a85c_bbcfc5918484row4_col2 {\n",
       "            background-color:  #fff3ed;\n",
       "            color:  #000000;\n",
       "        }    #T_5b5ef814_65bf_11ea_a85c_bbcfc5918484row4_col3 {\n",
       "            background-color:  #fff5f0;\n",
       "            color:  #000000;\n",
       "        }    #T_5b5ef814_65bf_11ea_a85c_bbcfc5918484row4_col4 {\n",
       "            background-color:  #fedfd0;\n",
       "            color:  #000000;\n",
       "        }    #T_5b5ef814_65bf_11ea_a85c_bbcfc5918484row5_col1 {\n",
       "            background-color:  #fff1ea;\n",
       "            color:  #000000;\n",
       "        }    #T_5b5ef814_65bf_11ea_a85c_bbcfc5918484row5_col2 {\n",
       "            background-color:  #fff2ec;\n",
       "            color:  #000000;\n",
       "        }    #T_5b5ef814_65bf_11ea_a85c_bbcfc5918484row5_col3 {\n",
       "            background-color:  #fff5f0;\n",
       "            color:  #000000;\n",
       "        }    #T_5b5ef814_65bf_11ea_a85c_bbcfc5918484row5_col4 {\n",
       "            background-color:  #fee1d4;\n",
       "            color:  #000000;\n",
       "        }    #T_5b5ef814_65bf_11ea_a85c_bbcfc5918484row6_col1 {\n",
       "            background-color:  #fff2eb;\n",
       "            color:  #000000;\n",
       "        }    #T_5b5ef814_65bf_11ea_a85c_bbcfc5918484row6_col2 {\n",
       "            background-color:  #fff5f0;\n",
       "            color:  #000000;\n",
       "        }    #T_5b5ef814_65bf_11ea_a85c_bbcfc5918484row6_col3 {\n",
       "            background-color:  #fff5f0;\n",
       "            color:  #000000;\n",
       "        }    #T_5b5ef814_65bf_11ea_a85c_bbcfc5918484row6_col4 {\n",
       "            background-color:  #fee3d7;\n",
       "            color:  #000000;\n",
       "        }    #T_5b5ef814_65bf_11ea_a85c_bbcfc5918484row7_col1 {\n",
       "            background-color:  #fff3ed;\n",
       "            color:  #000000;\n",
       "        }    #T_5b5ef814_65bf_11ea_a85c_bbcfc5918484row7_col2 {\n",
       "            background-color:  #fff4ee;\n",
       "            color:  #000000;\n",
       "        }    #T_5b5ef814_65bf_11ea_a85c_bbcfc5918484row7_col3 {\n",
       "            background-color:  #fff5f0;\n",
       "            color:  #000000;\n",
       "        }    #T_5b5ef814_65bf_11ea_a85c_bbcfc5918484row7_col4 {\n",
       "            background-color:  #feeae0;\n",
       "            color:  #000000;\n",
       "        }    #T_5b5ef814_65bf_11ea_a85c_bbcfc5918484row8_col1 {\n",
       "            background-color:  #fff4ef;\n",
       "            color:  #000000;\n",
       "        }    #T_5b5ef814_65bf_11ea_a85c_bbcfc5918484row8_col2 {\n",
       "            background-color:  #fff5f0;\n",
       "            color:  #000000;\n",
       "        }    #T_5b5ef814_65bf_11ea_a85c_bbcfc5918484row8_col3 {\n",
       "            background-color:  #fff4ef;\n",
       "            color:  #000000;\n",
       "        }    #T_5b5ef814_65bf_11ea_a85c_bbcfc5918484row8_col4 {\n",
       "            background-color:  #fff3ed;\n",
       "            color:  #000000;\n",
       "        }    #T_5b5ef814_65bf_11ea_a85c_bbcfc5918484row9_col1 {\n",
       "            background-color:  #fff4ef;\n",
       "            color:  #000000;\n",
       "        }    #T_5b5ef814_65bf_11ea_a85c_bbcfc5918484row9_col2 {\n",
       "            background-color:  #fff5f0;\n",
       "            color:  #000000;\n",
       "        }    #T_5b5ef814_65bf_11ea_a85c_bbcfc5918484row9_col3 {\n",
       "            background-color:  #fff5f0;\n",
       "            color:  #000000;\n",
       "        }    #T_5b5ef814_65bf_11ea_a85c_bbcfc5918484row9_col4 {\n",
       "            background-color:  #fff0e9;\n",
       "            color:  #000000;\n",
       "        }    #T_5b5ef814_65bf_11ea_a85c_bbcfc5918484row10_col1 {\n",
       "            background-color:  #fff4ef;\n",
       "            color:  #000000;\n",
       "        }    #T_5b5ef814_65bf_11ea_a85c_bbcfc5918484row10_col2 {\n",
       "            background-color:  #fff4ef;\n",
       "            color:  #000000;\n",
       "        }    #T_5b5ef814_65bf_11ea_a85c_bbcfc5918484row10_col3 {\n",
       "            background-color:  #fff5f0;\n",
       "            color:  #000000;\n",
       "        }    #T_5b5ef814_65bf_11ea_a85c_bbcfc5918484row10_col4 {\n",
       "            background-color:  #fff2eb;\n",
       "            color:  #000000;\n",
       "        }    #T_5b5ef814_65bf_11ea_a85c_bbcfc5918484row11_col1 {\n",
       "            background-color:  #fff4ef;\n",
       "            color:  #000000;\n",
       "        }    #T_5b5ef814_65bf_11ea_a85c_bbcfc5918484row11_col2 {\n",
       "            background-color:  #fff5f0;\n",
       "            color:  #000000;\n",
       "        }    #T_5b5ef814_65bf_11ea_a85c_bbcfc5918484row11_col3 {\n",
       "            background-color:  #fff5f0;\n",
       "            color:  #000000;\n",
       "        }    #T_5b5ef814_65bf_11ea_a85c_bbcfc5918484row11_col4 {\n",
       "            background-color:  #fff0e9;\n",
       "            color:  #000000;\n",
       "        }    #T_5b5ef814_65bf_11ea_a85c_bbcfc5918484row12_col1 {\n",
       "            background-color:  #fff5f0;\n",
       "            color:  #000000;\n",
       "        }    #T_5b5ef814_65bf_11ea_a85c_bbcfc5918484row12_col2 {\n",
       "            background-color:  #fff5f0;\n",
       "            color:  #000000;\n",
       "        }    #T_5b5ef814_65bf_11ea_a85c_bbcfc5918484row12_col3 {\n",
       "            background-color:  #fff5f0;\n",
       "            color:  #000000;\n",
       "        }    #T_5b5ef814_65bf_11ea_a85c_bbcfc5918484row12_col4 {\n",
       "            background-color:  #fff2eb;\n",
       "            color:  #000000;\n",
       "        }    #T_5b5ef814_65bf_11ea_a85c_bbcfc5918484row13_col1 {\n",
       "            background-color:  #fff5f0;\n",
       "            color:  #000000;\n",
       "        }    #T_5b5ef814_65bf_11ea_a85c_bbcfc5918484row13_col2 {\n",
       "            background-color:  #fff5f0;\n",
       "            color:  #000000;\n",
       "        }    #T_5b5ef814_65bf_11ea_a85c_bbcfc5918484row13_col3 {\n",
       "            background-color:  #fff5f0;\n",
       "            color:  #000000;\n",
       "        }    #T_5b5ef814_65bf_11ea_a85c_bbcfc5918484row13_col4 {\n",
       "            background-color:  #fff2eb;\n",
       "            color:  #000000;\n",
       "        }    #T_5b5ef814_65bf_11ea_a85c_bbcfc5918484row14_col1 {\n",
       "            background-color:  #fff5f0;\n",
       "            color:  #000000;\n",
       "        }    #T_5b5ef814_65bf_11ea_a85c_bbcfc5918484row14_col2 {\n",
       "            background-color:  #fff5f0;\n",
       "            color:  #000000;\n",
       "        }    #T_5b5ef814_65bf_11ea_a85c_bbcfc5918484row14_col3 {\n",
       "            background-color:  #fff5f0;\n",
       "            color:  #000000;\n",
       "        }    #T_5b5ef814_65bf_11ea_a85c_bbcfc5918484row14_col4 {\n",
       "            background-color:  #fff2ec;\n",
       "            color:  #000000;\n",
       "        }    #T_5b5ef814_65bf_11ea_a85c_bbcfc5918484row15_col1 {\n",
       "            background-color:  #fff5f0;\n",
       "            color:  #000000;\n",
       "        }    #T_5b5ef814_65bf_11ea_a85c_bbcfc5918484row15_col2 {\n",
       "            background-color:  #fff5f0;\n",
       "            color:  #000000;\n",
       "        }    #T_5b5ef814_65bf_11ea_a85c_bbcfc5918484row15_col3 {\n",
       "            background-color:  #fff5f0;\n",
       "            color:  #000000;\n",
       "        }    #T_5b5ef814_65bf_11ea_a85c_bbcfc5918484row15_col4 {\n",
       "            background-color:  #fff2ec;\n",
       "            color:  #000000;\n",
       "        }    #T_5b5ef814_65bf_11ea_a85c_bbcfc5918484row16_col1 {\n",
       "            background-color:  #fff5f0;\n",
       "            color:  #000000;\n",
       "        }    #T_5b5ef814_65bf_11ea_a85c_bbcfc5918484row16_col2 {\n",
       "            background-color:  #fff5f0;\n",
       "            color:  #000000;\n",
       "        }    #T_5b5ef814_65bf_11ea_a85c_bbcfc5918484row16_col3 {\n",
       "            background-color:  #fff5f0;\n",
       "            color:  #000000;\n",
       "        }    #T_5b5ef814_65bf_11ea_a85c_bbcfc5918484row16_col4 {\n",
       "            background-color:  #fff4ee;\n",
       "            color:  #000000;\n",
       "        }    #T_5b5ef814_65bf_11ea_a85c_bbcfc5918484row17_col1 {\n",
       "            background-color:  #fff5f0;\n",
       "            color:  #000000;\n",
       "        }    #T_5b5ef814_65bf_11ea_a85c_bbcfc5918484row17_col2 {\n",
       "            background-color:  #fff5f0;\n",
       "            color:  #000000;\n",
       "        }    #T_5b5ef814_65bf_11ea_a85c_bbcfc5918484row17_col3 {\n",
       "            background-color:  #fff5f0;\n",
       "            color:  #000000;\n",
       "        }    #T_5b5ef814_65bf_11ea_a85c_bbcfc5918484row17_col4 {\n",
       "            background-color:  #fff4ef;\n",
       "            color:  #000000;\n",
       "        }    #T_5b5ef814_65bf_11ea_a85c_bbcfc5918484row18_col1 {\n",
       "            background-color:  #fff5f0;\n",
       "            color:  #000000;\n",
       "        }    #T_5b5ef814_65bf_11ea_a85c_bbcfc5918484row18_col2 {\n",
       "            background-color:  #fff5f0;\n",
       "            color:  #000000;\n",
       "        }    #T_5b5ef814_65bf_11ea_a85c_bbcfc5918484row18_col3 {\n",
       "            background-color:  #fff5f0;\n",
       "            color:  #000000;\n",
       "        }    #T_5b5ef814_65bf_11ea_a85c_bbcfc5918484row18_col4 {\n",
       "            background-color:  #fff4ef;\n",
       "            color:  #000000;\n",
       "        }    #T_5b5ef814_65bf_11ea_a85c_bbcfc5918484row19_col1 {\n",
       "            background-color:  #fff5f0;\n",
       "            color:  #000000;\n",
       "        }    #T_5b5ef814_65bf_11ea_a85c_bbcfc5918484row19_col2 {\n",
       "            background-color:  #fff5f0;\n",
       "            color:  #000000;\n",
       "        }    #T_5b5ef814_65bf_11ea_a85c_bbcfc5918484row19_col3 {\n",
       "            background-color:  #fff5f0;\n",
       "            color:  #000000;\n",
       "        }    #T_5b5ef814_65bf_11ea_a85c_bbcfc5918484row19_col4 {\n",
       "            background-color:  #fff5f0;\n",
       "            color:  #000000;\n",
       "        }</style><table id=\"T_5b5ef814_65bf_11ea_a85c_bbcfc5918484\" ><thead>    <tr>        <th class=\"blank level0\" ></th>        <th class=\"col_heading level0 col0\" >Country/Region</th>        <th class=\"col_heading level0 col1\" >Confirmed</th>        <th class=\"col_heading level0 col2\" >Deaths</th>        <th class=\"col_heading level0 col3\" >Recovered</th>        <th class=\"col_heading level0 col4\" >Active</th>    </tr></thead><tbody>\n",
       "                <tr>\n",
       "                        <th id=\"T_5b5ef814_65bf_11ea_a85c_bbcfc5918484level0_row0\" class=\"row_heading level0 row0\" >0</th>\n",
       "                        <td id=\"T_5b5ef814_65bf_11ea_a85c_bbcfc5918484row0_col0\" class=\"data row0 col0\" >China</td>\n",
       "                        <td id=\"T_5b5ef814_65bf_11ea_a85c_bbcfc5918484row0_col1\" class=\"data row0 col1\" >80921</td>\n",
       "                        <td id=\"T_5b5ef814_65bf_11ea_a85c_bbcfc5918484row0_col2\" class=\"data row0 col2\" >3161</td>\n",
       "                        <td id=\"T_5b5ef814_65bf_11ea_a85c_bbcfc5918484row0_col3\" class=\"data row0 col3\" >61644</td>\n",
       "                        <td id=\"T_5b5ef814_65bf_11ea_a85c_bbcfc5918484row0_col4\" class=\"data row0 col4\" >16116</td>\n",
       "            </tr>\n",
       "            <tr>\n",
       "                        <th id=\"T_5b5ef814_65bf_11ea_a85c_bbcfc5918484level0_row1\" class=\"row_heading level0 row1\" >1</th>\n",
       "                        <td id=\"T_5b5ef814_65bf_11ea_a85c_bbcfc5918484row1_col0\" class=\"data row1 col0\" >Italy</td>\n",
       "                        <td id=\"T_5b5ef814_65bf_11ea_a85c_bbcfc5918484row1_col1\" class=\"data row1 col1\" >12462</td>\n",
       "                        <td id=\"T_5b5ef814_65bf_11ea_a85c_bbcfc5918484row1_col2\" class=\"data row1 col2\" >827</td>\n",
       "                        <td id=\"T_5b5ef814_65bf_11ea_a85c_bbcfc5918484row1_col3\" class=\"data row1 col3\" >1045</td>\n",
       "                        <td id=\"T_5b5ef814_65bf_11ea_a85c_bbcfc5918484row1_col4\" class=\"data row1 col4\" >10590</td>\n",
       "            </tr>\n",
       "            <tr>\n",
       "                        <th id=\"T_5b5ef814_65bf_11ea_a85c_bbcfc5918484level0_row2\" class=\"row_heading level0 row2\" >2</th>\n",
       "                        <td id=\"T_5b5ef814_65bf_11ea_a85c_bbcfc5918484row2_col0\" class=\"data row2 col0\" >Iran</td>\n",
       "                        <td id=\"T_5b5ef814_65bf_11ea_a85c_bbcfc5918484row2_col1\" class=\"data row2 col1\" >9000</td>\n",
       "                        <td id=\"T_5b5ef814_65bf_11ea_a85c_bbcfc5918484row2_col2\" class=\"data row2 col2\" >354</td>\n",
       "                        <td id=\"T_5b5ef814_65bf_11ea_a85c_bbcfc5918484row2_col3\" class=\"data row2 col3\" >2959</td>\n",
       "                        <td id=\"T_5b5ef814_65bf_11ea_a85c_bbcfc5918484row2_col4\" class=\"data row2 col4\" >5687</td>\n",
       "            </tr>\n",
       "            <tr>\n",
       "                        <th id=\"T_5b5ef814_65bf_11ea_a85c_bbcfc5918484level0_row3\" class=\"row_heading level0 row3\" >3</th>\n",
       "                        <td id=\"T_5b5ef814_65bf_11ea_a85c_bbcfc5918484row3_col0\" class=\"data row3 col0\" >South Korea</td>\n",
       "                        <td id=\"T_5b5ef814_65bf_11ea_a85c_bbcfc5918484row3_col1\" class=\"data row3 col1\" >7755</td>\n",
       "                        <td id=\"T_5b5ef814_65bf_11ea_a85c_bbcfc5918484row3_col2\" class=\"data row3 col2\" >60</td>\n",
       "                        <td id=\"T_5b5ef814_65bf_11ea_a85c_bbcfc5918484row3_col3\" class=\"data row3 col3\" >288</td>\n",
       "                        <td id=\"T_5b5ef814_65bf_11ea_a85c_bbcfc5918484row3_col4\" class=\"data row3 col4\" >7407</td>\n",
       "            </tr>\n",
       "            <tr>\n",
       "                        <th id=\"T_5b5ef814_65bf_11ea_a85c_bbcfc5918484level0_row4\" class=\"row_heading level0 row4\" >4</th>\n",
       "                        <td id=\"T_5b5ef814_65bf_11ea_a85c_bbcfc5918484row4_col0\" class=\"data row4 col0\" >France</td>\n",
       "                        <td id=\"T_5b5ef814_65bf_11ea_a85c_bbcfc5918484row4_col1\" class=\"data row4 col1\" >2284</td>\n",
       "                        <td id=\"T_5b5ef814_65bf_11ea_a85c_bbcfc5918484row4_col2\" class=\"data row4 col2\" >48</td>\n",
       "                        <td id=\"T_5b5ef814_65bf_11ea_a85c_bbcfc5918484row4_col3\" class=\"data row4 col3\" >12</td>\n",
       "                        <td id=\"T_5b5ef814_65bf_11ea_a85c_bbcfc5918484row4_col4\" class=\"data row4 col4\" >2224</td>\n",
       "            </tr>\n",
       "            <tr>\n",
       "                        <th id=\"T_5b5ef814_65bf_11ea_a85c_bbcfc5918484level0_row5\" class=\"row_heading level0 row5\" >5</th>\n",
       "                        <td id=\"T_5b5ef814_65bf_11ea_a85c_bbcfc5918484row5_col0\" class=\"data row5 col0\" >Spain</td>\n",
       "                        <td id=\"T_5b5ef814_65bf_11ea_a85c_bbcfc5918484row5_col1\" class=\"data row5 col1\" >2277</td>\n",
       "                        <td id=\"T_5b5ef814_65bf_11ea_a85c_bbcfc5918484row5_col2\" class=\"data row5 col2\" >54</td>\n",
       "                        <td id=\"T_5b5ef814_65bf_11ea_a85c_bbcfc5918484row5_col3\" class=\"data row5 col3\" >183</td>\n",
       "                        <td id=\"T_5b5ef814_65bf_11ea_a85c_bbcfc5918484row5_col4\" class=\"data row5 col4\" >2040</td>\n",
       "            </tr>\n",
       "            <tr>\n",
       "                        <th id=\"T_5b5ef814_65bf_11ea_a85c_bbcfc5918484level0_row6\" class=\"row_heading level0 row6\" >6</th>\n",
       "                        <td id=\"T_5b5ef814_65bf_11ea_a85c_bbcfc5918484row6_col0\" class=\"data row6 col0\" >Germany</td>\n",
       "                        <td id=\"T_5b5ef814_65bf_11ea_a85c_bbcfc5918484row6_col1\" class=\"data row6 col1\" >1908</td>\n",
       "                        <td id=\"T_5b5ef814_65bf_11ea_a85c_bbcfc5918484row6_col2\" class=\"data row6 col2\" >3</td>\n",
       "                        <td id=\"T_5b5ef814_65bf_11ea_a85c_bbcfc5918484row6_col3\" class=\"data row6 col3\" >25</td>\n",
       "                        <td id=\"T_5b5ef814_65bf_11ea_a85c_bbcfc5918484row6_col4\" class=\"data row6 col4\" >1880</td>\n",
       "            </tr>\n",
       "            <tr>\n",
       "                        <th id=\"T_5b5ef814_65bf_11ea_a85c_bbcfc5918484level0_row7\" class=\"row_heading level0 row7\" >7</th>\n",
       "                        <td id=\"T_5b5ef814_65bf_11ea_a85c_bbcfc5918484row7_col0\" class=\"data row7 col0\" >US</td>\n",
       "                        <td id=\"T_5b5ef814_65bf_11ea_a85c_bbcfc5918484row7_col1\" class=\"data row7 col1\" >1281</td>\n",
       "                        <td id=\"T_5b5ef814_65bf_11ea_a85c_bbcfc5918484row7_col2\" class=\"data row7 col2\" >36</td>\n",
       "                        <td id=\"T_5b5ef814_65bf_11ea_a85c_bbcfc5918484row7_col3\" class=\"data row7 col3\" >8</td>\n",
       "                        <td id=\"T_5b5ef814_65bf_11ea_a85c_bbcfc5918484row7_col4\" class=\"data row7 col4\" >1237</td>\n",
       "            </tr>\n",
       "            <tr>\n",
       "                        <th id=\"T_5b5ef814_65bf_11ea_a85c_bbcfc5918484level0_row8\" class=\"row_heading level0 row8\" >8</th>\n",
       "                        <td id=\"T_5b5ef814_65bf_11ea_a85c_bbcfc5918484row8_col0\" class=\"data row8 col0\" >Others</td>\n",
       "                        <td id=\"T_5b5ef814_65bf_11ea_a85c_bbcfc5918484row8_col1\" class=\"data row8 col1\" >696</td>\n",
       "                        <td id=\"T_5b5ef814_65bf_11ea_a85c_bbcfc5918484row8_col2\" class=\"data row8 col2\" >7</td>\n",
       "                        <td id=\"T_5b5ef814_65bf_11ea_a85c_bbcfc5918484row8_col3\" class=\"data row8 col3\" >325</td>\n",
       "                        <td id=\"T_5b5ef814_65bf_11ea_a85c_bbcfc5918484row8_col4\" class=\"data row8 col4\" >364</td>\n",
       "            </tr>\n",
       "            <tr>\n",
       "                        <th id=\"T_5b5ef814_65bf_11ea_a85c_bbcfc5918484level0_row9\" class=\"row_heading level0 row9\" >9</th>\n",
       "                        <td id=\"T_5b5ef814_65bf_11ea_a85c_bbcfc5918484row9_col0\" class=\"data row9 col0\" >Switzerland</td>\n",
       "                        <td id=\"T_5b5ef814_65bf_11ea_a85c_bbcfc5918484row9_col1\" class=\"data row9 col1\" >652</td>\n",
       "                        <td id=\"T_5b5ef814_65bf_11ea_a85c_bbcfc5918484row9_col2\" class=\"data row9 col2\" >4</td>\n",
       "                        <td id=\"T_5b5ef814_65bf_11ea_a85c_bbcfc5918484row9_col3\" class=\"data row9 col3\" >4</td>\n",
       "                        <td id=\"T_5b5ef814_65bf_11ea_a85c_bbcfc5918484row9_col4\" class=\"data row9 col4\" >644</td>\n",
       "            </tr>\n",
       "            <tr>\n",
       "                        <th id=\"T_5b5ef814_65bf_11ea_a85c_bbcfc5918484level0_row10\" class=\"row_heading level0 row10\" >10</th>\n",
       "                        <td id=\"T_5b5ef814_65bf_11ea_a85c_bbcfc5918484row10_col0\" class=\"data row10 col0\" >Japan</td>\n",
       "                        <td id=\"T_5b5ef814_65bf_11ea_a85c_bbcfc5918484row10_col1\" class=\"data row10 col1\" >639</td>\n",
       "                        <td id=\"T_5b5ef814_65bf_11ea_a85c_bbcfc5918484row10_col2\" class=\"data row10 col2\" >15</td>\n",
       "                        <td id=\"T_5b5ef814_65bf_11ea_a85c_bbcfc5918484row10_col3\" class=\"data row10 col3\" >118</td>\n",
       "                        <td id=\"T_5b5ef814_65bf_11ea_a85c_bbcfc5918484row10_col4\" class=\"data row10 col4\" >506</td>\n",
       "            </tr>\n",
       "            <tr>\n",
       "                        <th id=\"T_5b5ef814_65bf_11ea_a85c_bbcfc5918484level0_row11\" class=\"row_heading level0 row11\" >11</th>\n",
       "                        <td id=\"T_5b5ef814_65bf_11ea_a85c_bbcfc5918484row11_col0\" class=\"data row11 col0\" >Norway</td>\n",
       "                        <td id=\"T_5b5ef814_65bf_11ea_a85c_bbcfc5918484row11_col1\" class=\"data row11 col1\" >598</td>\n",
       "                        <td id=\"T_5b5ef814_65bf_11ea_a85c_bbcfc5918484row11_col2\" class=\"data row11 col2\" >0</td>\n",
       "                        <td id=\"T_5b5ef814_65bf_11ea_a85c_bbcfc5918484row11_col3\" class=\"data row11 col3\" >1</td>\n",
       "                        <td id=\"T_5b5ef814_65bf_11ea_a85c_bbcfc5918484row11_col4\" class=\"data row11 col4\" >597</td>\n",
       "            </tr>\n",
       "            <tr>\n",
       "                        <th id=\"T_5b5ef814_65bf_11ea_a85c_bbcfc5918484level0_row12\" class=\"row_heading level0 row12\" >12</th>\n",
       "                        <td id=\"T_5b5ef814_65bf_11ea_a85c_bbcfc5918484row12_col0\" class=\"data row12 col0\" >Netherlands</td>\n",
       "                        <td id=\"T_5b5ef814_65bf_11ea_a85c_bbcfc5918484row12_col1\" class=\"data row12 col1\" >503</td>\n",
       "                        <td id=\"T_5b5ef814_65bf_11ea_a85c_bbcfc5918484row12_col2\" class=\"data row12 col2\" >5</td>\n",
       "                        <td id=\"T_5b5ef814_65bf_11ea_a85c_bbcfc5918484row12_col3\" class=\"data row12 col3\" >0</td>\n",
       "                        <td id=\"T_5b5ef814_65bf_11ea_a85c_bbcfc5918484row12_col4\" class=\"data row12 col4\" >498</td>\n",
       "            </tr>\n",
       "            <tr>\n",
       "                        <th id=\"T_5b5ef814_65bf_11ea_a85c_bbcfc5918484level0_row13\" class=\"row_heading level0 row13\" >13</th>\n",
       "                        <td id=\"T_5b5ef814_65bf_11ea_a85c_bbcfc5918484row13_col0\" class=\"data row13 col0\" >Sweden</td>\n",
       "                        <td id=\"T_5b5ef814_65bf_11ea_a85c_bbcfc5918484row13_col1\" class=\"data row13 col1\" >500</td>\n",
       "                        <td id=\"T_5b5ef814_65bf_11ea_a85c_bbcfc5918484row13_col2\" class=\"data row13 col2\" >1</td>\n",
       "                        <td id=\"T_5b5ef814_65bf_11ea_a85c_bbcfc5918484row13_col3\" class=\"data row13 col3\" >1</td>\n",
       "                        <td id=\"T_5b5ef814_65bf_11ea_a85c_bbcfc5918484row13_col4\" class=\"data row13 col4\" >498</td>\n",
       "            </tr>\n",
       "            <tr>\n",
       "                        <th id=\"T_5b5ef814_65bf_11ea_a85c_bbcfc5918484level0_row14\" class=\"row_heading level0 row14\" >14</th>\n",
       "                        <td id=\"T_5b5ef814_65bf_11ea_a85c_bbcfc5918484row14_col0\" class=\"data row14 col0\" >UK</td>\n",
       "                        <td id=\"T_5b5ef814_65bf_11ea_a85c_bbcfc5918484row14_col1\" class=\"data row14 col1\" >459</td>\n",
       "                        <td id=\"T_5b5ef814_65bf_11ea_a85c_bbcfc5918484row14_col2\" class=\"data row14 col2\" >8</td>\n",
       "                        <td id=\"T_5b5ef814_65bf_11ea_a85c_bbcfc5918484row14_col3\" class=\"data row14 col3\" >19</td>\n",
       "                        <td id=\"T_5b5ef814_65bf_11ea_a85c_bbcfc5918484row14_col4\" class=\"data row14 col4\" >432</td>\n",
       "            </tr>\n",
       "            <tr>\n",
       "                        <th id=\"T_5b5ef814_65bf_11ea_a85c_bbcfc5918484level0_row15\" class=\"row_heading level0 row15\" >15</th>\n",
       "                        <td id=\"T_5b5ef814_65bf_11ea_a85c_bbcfc5918484row15_col0\" class=\"data row15 col0\" >Denmark</td>\n",
       "                        <td id=\"T_5b5ef814_65bf_11ea_a85c_bbcfc5918484row15_col1\" class=\"data row15 col1\" >444</td>\n",
       "                        <td id=\"T_5b5ef814_65bf_11ea_a85c_bbcfc5918484row15_col2\" class=\"data row15 col2\" >0</td>\n",
       "                        <td id=\"T_5b5ef814_65bf_11ea_a85c_bbcfc5918484row15_col3\" class=\"data row15 col3\" >1</td>\n",
       "                        <td id=\"T_5b5ef814_65bf_11ea_a85c_bbcfc5918484row15_col4\" class=\"data row15 col4\" >443</td>\n",
       "            </tr>\n",
       "            <tr>\n",
       "                        <th id=\"T_5b5ef814_65bf_11ea_a85c_bbcfc5918484level0_row16\" class=\"row_heading level0 row16\" >16</th>\n",
       "                        <td id=\"T_5b5ef814_65bf_11ea_a85c_bbcfc5918484row16_col0\" class=\"data row16 col0\" >Belgium</td>\n",
       "                        <td id=\"T_5b5ef814_65bf_11ea_a85c_bbcfc5918484row16_col1\" class=\"data row16 col1\" >314</td>\n",
       "                        <td id=\"T_5b5ef814_65bf_11ea_a85c_bbcfc5918484row16_col2\" class=\"data row16 col2\" >3</td>\n",
       "                        <td id=\"T_5b5ef814_65bf_11ea_a85c_bbcfc5918484row16_col3\" class=\"data row16 col3\" >1</td>\n",
       "                        <td id=\"T_5b5ef814_65bf_11ea_a85c_bbcfc5918484row16_col4\" class=\"data row16 col4\" >310</td>\n",
       "            </tr>\n",
       "            <tr>\n",
       "                        <th id=\"T_5b5ef814_65bf_11ea_a85c_bbcfc5918484level0_row17\" class=\"row_heading level0 row17\" >17</th>\n",
       "                        <td id=\"T_5b5ef814_65bf_11ea_a85c_bbcfc5918484row17_col0\" class=\"data row17 col0\" >Qatar</td>\n",
       "                        <td id=\"T_5b5ef814_65bf_11ea_a85c_bbcfc5918484row17_col1\" class=\"data row17 col1\" >262</td>\n",
       "                        <td id=\"T_5b5ef814_65bf_11ea_a85c_bbcfc5918484row17_col2\" class=\"data row17 col2\" >0</td>\n",
       "                        <td id=\"T_5b5ef814_65bf_11ea_a85c_bbcfc5918484row17_col3\" class=\"data row17 col3\" >0</td>\n",
       "                        <td id=\"T_5b5ef814_65bf_11ea_a85c_bbcfc5918484row17_col4\" class=\"data row17 col4\" >262</td>\n",
       "            </tr>\n",
       "            <tr>\n",
       "                        <th id=\"T_5b5ef814_65bf_11ea_a85c_bbcfc5918484level0_row18\" class=\"row_heading level0 row18\" >18</th>\n",
       "                        <td id=\"T_5b5ef814_65bf_11ea_a85c_bbcfc5918484row18_col0\" class=\"data row18 col0\" >Austria</td>\n",
       "                        <td id=\"T_5b5ef814_65bf_11ea_a85c_bbcfc5918484row18_col1\" class=\"data row18 col1\" >246</td>\n",
       "                        <td id=\"T_5b5ef814_65bf_11ea_a85c_bbcfc5918484row18_col2\" class=\"data row18 col2\" >0</td>\n",
       "                        <td id=\"T_5b5ef814_65bf_11ea_a85c_bbcfc5918484row18_col3\" class=\"data row18 col3\" >4</td>\n",
       "                        <td id=\"T_5b5ef814_65bf_11ea_a85c_bbcfc5918484row18_col4\" class=\"data row18 col4\" >242</td>\n",
       "            </tr>\n",
       "            <tr>\n",
       "                        <th id=\"T_5b5ef814_65bf_11ea_a85c_bbcfc5918484level0_row19\" class=\"row_heading level0 row19\" >19</th>\n",
       "                        <td id=\"T_5b5ef814_65bf_11ea_a85c_bbcfc5918484row19_col0\" class=\"data row19 col0\" >Bahrain</td>\n",
       "                        <td id=\"T_5b5ef814_65bf_11ea_a85c_bbcfc5918484row19_col1\" class=\"data row19 col1\" >195</td>\n",
       "                        <td id=\"T_5b5ef814_65bf_11ea_a85c_bbcfc5918484row19_col2\" class=\"data row19 col2\" >0</td>\n",
       "                        <td id=\"T_5b5ef814_65bf_11ea_a85c_bbcfc5918484row19_col3\" class=\"data row19 col3\" >35</td>\n",
       "                        <td id=\"T_5b5ef814_65bf_11ea_a85c_bbcfc5918484row19_col4\" class=\"data row19 col4\" >160</td>\n",
       "            </tr>\n",
       "    </tbody></table>"
      ],
      "text/plain": [
       "<pandas.io.formats.style.Styler at 0x7fdc14ba8390>"
      ]
     },
     "execution_count": 45,
     "metadata": {},
     "output_type": "execute_result"
    }
   ],
   "source": [
    "temp_f = full_latest_grouped.sort_values(by='Confirmed', ascending=False)\n",
    "temp_f = temp_f.reset_index(drop=True)\n",
    "temp_f.head(20).style.background_gradient(cmap='Reds')"
   ]
  },
  {
   "cell_type": "code",
   "execution_count": 76,
   "metadata": {},
   "outputs": [
    {
     "data": {
      "application/vnd.plotly.v1+json": {
       "config": {
        "plotlyServerURL": "https://plot.ly"
       },
       "data": [
        {
         "hoverlabel": {
          "namelength": 0
         },
         "hovertemplate": "Country/Region=Japan<br>ObservationDate=%{x}<br>Confirmed=%{y}",
         "legendgroup": "Japan",
         "line": {
          "color": "#636efa",
          "dash": "solid"
         },
         "mode": "lines",
         "name": "Japan",
         "showlegend": true,
         "type": "scatter",
         "x": [
          "2020-01-22T00:00:00",
          "2020-01-23T00:00:00",
          "2020-01-24T00:00:00",
          "2020-01-25T00:00:00",
          "2020-01-26T00:00:00",
          "2020-01-27T00:00:00",
          "2020-01-28T00:00:00",
          "2020-01-29T00:00:00",
          "2020-01-30T00:00:00",
          "2020-01-31T00:00:00",
          "2020-02-01T00:00:00",
          "2020-02-02T00:00:00",
          "2020-02-03T00:00:00",
          "2020-02-04T00:00:00",
          "2020-02-05T00:00:00",
          "2020-02-06T00:00:00",
          "2020-02-07T00:00:00",
          "2020-02-08T00:00:00",
          "2020-02-09T00:00:00",
          "2020-02-10T00:00:00",
          "2020-02-11T00:00:00",
          "2020-02-12T00:00:00",
          "2020-02-13T00:00:00",
          "2020-02-14T00:00:00",
          "2020-02-15T00:00:00",
          "2020-02-16T00:00:00",
          "2020-02-17T00:00:00",
          "2020-02-18T00:00:00",
          "2020-02-19T00:00:00",
          "2020-02-20T00:00:00",
          "2020-02-21T00:00:00",
          "2020-02-22T00:00:00",
          "2020-02-23T00:00:00",
          "2020-02-24T00:00:00",
          "2020-02-25T00:00:00",
          "2020-02-26T00:00:00",
          "2020-02-27T00:00:00",
          "2020-02-28T00:00:00",
          "2020-02-29T00:00:00",
          "2020-03-01T00:00:00",
          "2020-03-02T00:00:00",
          "2020-03-03T00:00:00",
          "2020-03-04T00:00:00",
          "2020-03-05T00:00:00",
          "2020-03-06T00:00:00",
          "2020-03-07T00:00:00",
          "2020-03-08T00:00:00",
          "2020-03-09T00:00:00",
          "2020-03-10T00:00:00",
          "2020-03-11T00:00:00"
         ],
         "xaxis": "x",
         "y": [
          2,
          1,
          2,
          2,
          4,
          4,
          7,
          7,
          11,
          15,
          20,
          20,
          20,
          22,
          22,
          45,
          25,
          25,
          26,
          26,
          26,
          28,
          28,
          29,
          43,
          59,
          66,
          74,
          84,
          94,
          105,
          122,
          147,
          159,
          170,
          189,
          214,
          228,
          241,
          256,
          274,
          293,
          331,
          360,
          420,
          461,
          502,
          511,
          581,
          639
         ],
         "yaxis": "y"
        },
        {
         "hoverlabel": {
          "namelength": 0
         },
         "hovertemplate": "Country/Region=South Korea<br>ObservationDate=%{x}<br>Confirmed=%{y}",
         "legendgroup": "South Korea",
         "line": {
          "color": "#EF553B",
          "dash": "solid"
         },
         "mode": "lines",
         "name": "South Korea",
         "showlegend": true,
         "type": "scatter",
         "x": [
          "2020-01-22T00:00:00",
          "2020-01-23T00:00:00",
          "2020-01-24T00:00:00",
          "2020-01-25T00:00:00",
          "2020-01-26T00:00:00",
          "2020-01-27T00:00:00",
          "2020-01-28T00:00:00",
          "2020-01-29T00:00:00",
          "2020-01-30T00:00:00",
          "2020-01-31T00:00:00",
          "2020-02-01T00:00:00",
          "2020-02-02T00:00:00",
          "2020-02-03T00:00:00",
          "2020-02-04T00:00:00",
          "2020-02-05T00:00:00",
          "2020-02-06T00:00:00",
          "2020-02-07T00:00:00",
          "2020-02-08T00:00:00",
          "2020-02-09T00:00:00",
          "2020-02-10T00:00:00",
          "2020-02-11T00:00:00",
          "2020-02-12T00:00:00",
          "2020-02-13T00:00:00",
          "2020-02-14T00:00:00",
          "2020-02-15T00:00:00",
          "2020-02-16T00:00:00",
          "2020-02-17T00:00:00",
          "2020-02-18T00:00:00",
          "2020-02-19T00:00:00",
          "2020-02-20T00:00:00",
          "2020-02-21T00:00:00",
          "2020-02-22T00:00:00",
          "2020-02-23T00:00:00",
          "2020-02-24T00:00:00",
          "2020-02-25T00:00:00",
          "2020-02-26T00:00:00",
          "2020-02-27T00:00:00",
          "2020-02-28T00:00:00",
          "2020-02-29T00:00:00",
          "2020-03-01T00:00:00",
          "2020-03-02T00:00:00",
          "2020-03-03T00:00:00",
          "2020-03-04T00:00:00",
          "2020-03-05T00:00:00",
          "2020-03-06T00:00:00",
          "2020-03-07T00:00:00",
          "2020-03-08T00:00:00",
          "2020-03-09T00:00:00",
          "2020-03-10T00:00:00",
          "2020-03-11T00:00:00"
         ],
         "xaxis": "x",
         "y": [
          1,
          1,
          2,
          2,
          3,
          4,
          4,
          4,
          4,
          11,
          12,
          15,
          15,
          16,
          19,
          23,
          24,
          24,
          25,
          27,
          28,
          28,
          28,
          28,
          28,
          29,
          30,
          31,
          31,
          104,
          204,
          433,
          602,
          833,
          977,
          1261,
          1766,
          2337,
          3150,
          3736,
          4335,
          5186,
          5621,
          6088,
          6593,
          7041,
          7314,
          7478,
          7513,
          7755
         ],
         "yaxis": "y"
        },
        {
         "hoverlabel": {
          "namelength": 0
         },
         "hovertemplate": "Country/Region=US<br>ObservationDate=%{x}<br>Confirmed=%{y}",
         "legendgroup": "US",
         "line": {
          "color": "#00cc96",
          "dash": "solid"
         },
         "mode": "lines",
         "name": "US",
         "showlegend": true,
         "type": "scatter",
         "x": [
          "2020-01-22T00:00:00",
          "2020-01-23T00:00:00",
          "2020-01-24T00:00:00",
          "2020-01-25T00:00:00",
          "2020-01-26T00:00:00",
          "2020-01-27T00:00:00",
          "2020-01-28T00:00:00",
          "2020-01-29T00:00:00",
          "2020-01-30T00:00:00",
          "2020-01-31T00:00:00",
          "2020-02-01T00:00:00",
          "2020-02-02T00:00:00",
          "2020-02-03T00:00:00",
          "2020-02-04T00:00:00",
          "2020-02-05T00:00:00",
          "2020-02-06T00:00:00",
          "2020-02-07T00:00:00",
          "2020-02-08T00:00:00",
          "2020-02-09T00:00:00",
          "2020-02-10T00:00:00",
          "2020-02-11T00:00:00",
          "2020-02-12T00:00:00",
          "2020-02-13T00:00:00",
          "2020-02-14T00:00:00",
          "2020-02-15T00:00:00",
          "2020-02-16T00:00:00",
          "2020-02-17T00:00:00",
          "2020-02-18T00:00:00",
          "2020-02-19T00:00:00",
          "2020-02-20T00:00:00",
          "2020-02-21T00:00:00",
          "2020-02-22T00:00:00",
          "2020-02-23T00:00:00",
          "2020-02-24T00:00:00",
          "2020-02-25T00:00:00",
          "2020-02-26T00:00:00",
          "2020-02-27T00:00:00",
          "2020-02-28T00:00:00",
          "2020-02-29T00:00:00",
          "2020-03-01T00:00:00",
          "2020-03-02T00:00:00",
          "2020-03-03T00:00:00",
          "2020-03-04T00:00:00",
          "2020-03-05T00:00:00",
          "2020-03-06T00:00:00",
          "2020-03-07T00:00:00",
          "2020-03-08T00:00:00",
          "2020-03-09T00:00:00",
          "2020-03-10T00:00:00",
          "2020-03-11T00:00:00"
         ],
         "xaxis": "x",
         "y": [
          1,
          1,
          2,
          2,
          5,
          5,
          5,
          5,
          5,
          6,
          8,
          8,
          11,
          11,
          12,
          12,
          12,
          12,
          12,
          12,
          13,
          13,
          15,
          15,
          15,
          15,
          15,
          15,
          15,
          15,
          35,
          35,
          35,
          53,
          53,
          59,
          60,
          62,
          70,
          76,
          101,
          122,
          153,
          221,
          278,
          417,
          537,
          605,
          959,
          1281
         ],
         "yaxis": "y"
        },
        {
         "hoverlabel": {
          "namelength": 0
         },
         "hovertemplate": "Country/Region=France<br>ObservationDate=%{x}<br>Confirmed=%{y}",
         "legendgroup": "France",
         "line": {
          "color": "#ab63fa",
          "dash": "solid"
         },
         "mode": "lines",
         "name": "France",
         "showlegend": true,
         "type": "scatter",
         "x": [
          "2020-01-24T00:00:00",
          "2020-01-25T00:00:00",
          "2020-01-26T00:00:00",
          "2020-01-27T00:00:00",
          "2020-01-28T00:00:00",
          "2020-01-29T00:00:00",
          "2020-01-30T00:00:00",
          "2020-01-31T00:00:00",
          "2020-02-01T00:00:00",
          "2020-02-02T00:00:00",
          "2020-02-03T00:00:00",
          "2020-02-04T00:00:00",
          "2020-02-05T00:00:00",
          "2020-02-06T00:00:00",
          "2020-02-07T00:00:00",
          "2020-02-08T00:00:00",
          "2020-02-09T00:00:00",
          "2020-02-10T00:00:00",
          "2020-02-11T00:00:00",
          "2020-02-12T00:00:00",
          "2020-02-13T00:00:00",
          "2020-02-14T00:00:00",
          "2020-02-15T00:00:00",
          "2020-02-16T00:00:00",
          "2020-02-17T00:00:00",
          "2020-02-18T00:00:00",
          "2020-02-19T00:00:00",
          "2020-02-20T00:00:00",
          "2020-02-21T00:00:00",
          "2020-02-22T00:00:00",
          "2020-02-23T00:00:00",
          "2020-02-24T00:00:00",
          "2020-02-25T00:00:00",
          "2020-02-26T00:00:00",
          "2020-02-27T00:00:00",
          "2020-02-28T00:00:00",
          "2020-02-29T00:00:00",
          "2020-03-01T00:00:00",
          "2020-03-02T00:00:00",
          "2020-03-03T00:00:00",
          "2020-03-04T00:00:00",
          "2020-03-05T00:00:00",
          "2020-03-06T00:00:00",
          "2020-03-07T00:00:00",
          "2020-03-08T00:00:00",
          "2020-03-09T00:00:00",
          "2020-03-10T00:00:00",
          "2020-03-11T00:00:00"
         ],
         "xaxis": "x",
         "y": [
          2,
          3,
          3,
          3,
          4,
          5,
          5,
          5,
          6,
          6,
          6,
          6,
          6,
          6,
          6,
          11,
          11,
          11,
          11,
          11,
          11,
          11,
          12,
          12,
          12,
          12,
          12,
          12,
          12,
          12,
          12,
          12,
          14,
          18,
          38,
          57,
          100,
          130,
          191,
          204,
          285,
          377,
          653,
          949,
          1126,
          1209,
          1784,
          2284
         ],
         "yaxis": "y"
        },
        {
         "hoverlabel": {
          "namelength": 0
         },
         "hovertemplate": "Country/Region=Germany<br>ObservationDate=%{x}<br>Confirmed=%{y}",
         "legendgroup": "Germany",
         "line": {
          "color": "#FFA15A",
          "dash": "solid"
         },
         "mode": "lines",
         "name": "Germany",
         "showlegend": true,
         "type": "scatter",
         "x": [
          "2020-01-28T00:00:00",
          "2020-01-29T00:00:00",
          "2020-01-30T00:00:00",
          "2020-01-31T00:00:00",
          "2020-02-01T00:00:00",
          "2020-02-02T00:00:00",
          "2020-02-03T00:00:00",
          "2020-02-04T00:00:00",
          "2020-02-05T00:00:00",
          "2020-02-06T00:00:00",
          "2020-02-07T00:00:00",
          "2020-02-08T00:00:00",
          "2020-02-09T00:00:00",
          "2020-02-10T00:00:00",
          "2020-02-11T00:00:00",
          "2020-02-12T00:00:00",
          "2020-02-13T00:00:00",
          "2020-02-14T00:00:00",
          "2020-02-15T00:00:00",
          "2020-02-16T00:00:00",
          "2020-02-17T00:00:00",
          "2020-02-18T00:00:00",
          "2020-02-19T00:00:00",
          "2020-02-20T00:00:00",
          "2020-02-21T00:00:00",
          "2020-02-22T00:00:00",
          "2020-02-23T00:00:00",
          "2020-02-24T00:00:00",
          "2020-02-25T00:00:00",
          "2020-02-26T00:00:00",
          "2020-02-27T00:00:00",
          "2020-02-28T00:00:00",
          "2020-02-29T00:00:00",
          "2020-03-01T00:00:00",
          "2020-03-02T00:00:00",
          "2020-03-03T00:00:00",
          "2020-03-04T00:00:00",
          "2020-03-05T00:00:00",
          "2020-03-06T00:00:00",
          "2020-03-07T00:00:00",
          "2020-03-08T00:00:00",
          "2020-03-09T00:00:00",
          "2020-03-10T00:00:00",
          "2020-03-11T00:00:00"
         ],
         "xaxis": "x",
         "y": [
          4,
          4,
          4,
          5,
          8,
          10,
          12,
          12,
          12,
          12,
          13,
          13,
          14,
          14,
          16,
          16,
          16,
          16,
          16,
          16,
          16,
          16,
          16,
          16,
          16,
          16,
          16,
          16,
          17,
          27,
          46,
          48,
          79,
          130,
          159,
          196,
          262,
          482,
          670,
          799,
          1040,
          1176,
          1457,
          1908
         ],
         "yaxis": "y"
        },
        {
         "hoverlabel": {
          "namelength": 0
         },
         "hovertemplate": "Country/Region=Italy<br>ObservationDate=%{x}<br>Confirmed=%{y}",
         "legendgroup": "Italy",
         "line": {
          "color": "#19d3f3",
          "dash": "solid"
         },
         "mode": "lines",
         "name": "Italy",
         "showlegend": true,
         "type": "scatter",
         "x": [
          "2020-01-31T00:00:00",
          "2020-02-01T00:00:00",
          "2020-02-02T00:00:00",
          "2020-02-03T00:00:00",
          "2020-02-04T00:00:00",
          "2020-02-05T00:00:00",
          "2020-02-06T00:00:00",
          "2020-02-07T00:00:00",
          "2020-02-08T00:00:00",
          "2020-02-09T00:00:00",
          "2020-02-10T00:00:00",
          "2020-02-11T00:00:00",
          "2020-02-12T00:00:00",
          "2020-02-13T00:00:00",
          "2020-02-14T00:00:00",
          "2020-02-15T00:00:00",
          "2020-02-16T00:00:00",
          "2020-02-17T00:00:00",
          "2020-02-18T00:00:00",
          "2020-02-19T00:00:00",
          "2020-02-20T00:00:00",
          "2020-02-21T00:00:00",
          "2020-02-22T00:00:00",
          "2020-02-23T00:00:00",
          "2020-02-24T00:00:00",
          "2020-02-25T00:00:00",
          "2020-02-26T00:00:00",
          "2020-02-27T00:00:00",
          "2020-02-28T00:00:00",
          "2020-02-29T00:00:00",
          "2020-03-01T00:00:00",
          "2020-03-02T00:00:00",
          "2020-03-03T00:00:00",
          "2020-03-04T00:00:00",
          "2020-03-05T00:00:00",
          "2020-03-06T00:00:00",
          "2020-03-07T00:00:00",
          "2020-03-08T00:00:00",
          "2020-03-09T00:00:00",
          "2020-03-10T00:00:00",
          "2020-03-11T00:00:00"
         ],
         "xaxis": "x",
         "y": [
          2,
          2,
          2,
          2,
          2,
          2,
          2,
          3,
          3,
          3,
          3,
          3,
          3,
          3,
          3,
          3,
          3,
          3,
          3,
          3,
          3,
          20,
          62,
          155,
          229,
          322,
          453,
          655,
          888,
          1128,
          1694,
          2036,
          2502,
          3089,
          3858,
          4636,
          5883,
          7375,
          9172,
          10149,
          12462
         ],
         "yaxis": "y"
        },
        {
         "hoverlabel": {
          "namelength": 0
         },
         "hovertemplate": "Country/Region=Sweden<br>ObservationDate=%{x}<br>Confirmed=%{y}",
         "legendgroup": "Sweden",
         "line": {
          "color": "#FF6692",
          "dash": "solid"
         },
         "mode": "lines",
         "name": "Sweden",
         "showlegend": true,
         "type": "scatter",
         "x": [
          "2020-01-31T00:00:00",
          "2020-02-01T00:00:00",
          "2020-02-02T00:00:00",
          "2020-02-03T00:00:00",
          "2020-02-04T00:00:00",
          "2020-02-05T00:00:00",
          "2020-02-06T00:00:00",
          "2020-02-07T00:00:00",
          "2020-02-08T00:00:00",
          "2020-02-09T00:00:00",
          "2020-02-10T00:00:00",
          "2020-02-11T00:00:00",
          "2020-02-12T00:00:00",
          "2020-02-13T00:00:00",
          "2020-02-14T00:00:00",
          "2020-02-15T00:00:00",
          "2020-02-16T00:00:00",
          "2020-02-17T00:00:00",
          "2020-02-18T00:00:00",
          "2020-02-19T00:00:00",
          "2020-02-20T00:00:00",
          "2020-02-21T00:00:00",
          "2020-02-22T00:00:00",
          "2020-02-23T00:00:00",
          "2020-02-24T00:00:00",
          "2020-02-25T00:00:00",
          "2020-02-26T00:00:00",
          "2020-02-27T00:00:00",
          "2020-02-28T00:00:00",
          "2020-02-29T00:00:00",
          "2020-03-01T00:00:00",
          "2020-03-02T00:00:00",
          "2020-03-03T00:00:00",
          "2020-03-04T00:00:00",
          "2020-03-05T00:00:00",
          "2020-03-06T00:00:00",
          "2020-03-07T00:00:00",
          "2020-03-08T00:00:00",
          "2020-03-09T00:00:00",
          "2020-03-10T00:00:00",
          "2020-03-11T00:00:00"
         ],
         "xaxis": "x",
         "y": [
          1,
          1,
          1,
          1,
          1,
          1,
          1,
          1,
          1,
          1,
          1,
          1,
          1,
          1,
          1,
          1,
          1,
          1,
          1,
          1,
          1,
          1,
          1,
          1,
          1,
          1,
          2,
          7,
          7,
          12,
          14,
          15,
          21,
          35,
          94,
          101,
          161,
          203,
          248,
          355,
          500
         ],
         "yaxis": "y"
        },
        {
         "hoverlabel": {
          "namelength": 0
         },
         "hovertemplate": "Country/Region=UK<br>ObservationDate=%{x}<br>Confirmed=%{y}",
         "legendgroup": "UK",
         "line": {
          "color": "#B6E880",
          "dash": "solid"
         },
         "mode": "lines",
         "name": "UK",
         "showlegend": true,
         "type": "scatter",
         "x": [
          "2020-01-31T00:00:00",
          "2020-02-01T00:00:00",
          "2020-02-02T00:00:00",
          "2020-02-03T00:00:00",
          "2020-02-04T00:00:00",
          "2020-02-05T00:00:00",
          "2020-02-06T00:00:00",
          "2020-02-07T00:00:00",
          "2020-02-08T00:00:00",
          "2020-02-09T00:00:00",
          "2020-02-10T00:00:00",
          "2020-02-11T00:00:00",
          "2020-02-12T00:00:00",
          "2020-02-13T00:00:00",
          "2020-02-14T00:00:00",
          "2020-02-15T00:00:00",
          "2020-02-16T00:00:00",
          "2020-02-17T00:00:00",
          "2020-02-18T00:00:00",
          "2020-02-19T00:00:00",
          "2020-02-20T00:00:00",
          "2020-02-21T00:00:00",
          "2020-02-22T00:00:00",
          "2020-02-23T00:00:00",
          "2020-02-24T00:00:00",
          "2020-02-25T00:00:00",
          "2020-02-26T00:00:00",
          "2020-02-27T00:00:00",
          "2020-02-28T00:00:00",
          "2020-02-29T00:00:00",
          "2020-03-01T00:00:00",
          "2020-03-02T00:00:00",
          "2020-03-03T00:00:00",
          "2020-03-04T00:00:00",
          "2020-03-05T00:00:00",
          "2020-03-06T00:00:00",
          "2020-03-07T00:00:00",
          "2020-03-08T00:00:00",
          "2020-03-09T00:00:00",
          "2020-03-10T00:00:00",
          "2020-03-11T00:00:00"
         ],
         "xaxis": "x",
         "y": [
          2,
          2,
          2,
          2,
          2,
          2,
          2,
          3,
          3,
          3,
          8,
          8,
          9,
          9,
          9,
          9,
          9,
          9,
          9,
          9,
          9,
          9,
          9,
          9,
          13,
          13,
          13,
          15,
          20,
          23,
          36,
          40,
          51,
          85,
          115,
          163,
          206,
          273,
          321,
          382,
          459
         ],
         "yaxis": "y"
        },
        {
         "hoverlabel": {
          "namelength": 0
         },
         "hovertemplate": "Country/Region=Spain<br>ObservationDate=%{x}<br>Confirmed=%{y}",
         "legendgroup": "Spain",
         "line": {
          "color": "#FF97FF",
          "dash": "solid"
         },
         "mode": "lines",
         "name": "Spain",
         "showlegend": true,
         "type": "scatter",
         "x": [
          "2020-02-01T00:00:00",
          "2020-02-02T00:00:00",
          "2020-02-03T00:00:00",
          "2020-02-04T00:00:00",
          "2020-02-05T00:00:00",
          "2020-02-06T00:00:00",
          "2020-02-07T00:00:00",
          "2020-02-08T00:00:00",
          "2020-02-09T00:00:00",
          "2020-02-10T00:00:00",
          "2020-02-11T00:00:00",
          "2020-02-12T00:00:00",
          "2020-02-13T00:00:00",
          "2020-02-14T00:00:00",
          "2020-02-15T00:00:00",
          "2020-02-16T00:00:00",
          "2020-02-17T00:00:00",
          "2020-02-18T00:00:00",
          "2020-02-19T00:00:00",
          "2020-02-20T00:00:00",
          "2020-02-21T00:00:00",
          "2020-02-22T00:00:00",
          "2020-02-23T00:00:00",
          "2020-02-24T00:00:00",
          "2020-02-25T00:00:00",
          "2020-02-26T00:00:00",
          "2020-02-27T00:00:00",
          "2020-02-28T00:00:00",
          "2020-02-29T00:00:00",
          "2020-03-01T00:00:00",
          "2020-03-02T00:00:00",
          "2020-03-03T00:00:00",
          "2020-03-04T00:00:00",
          "2020-03-05T00:00:00",
          "2020-03-06T00:00:00",
          "2020-03-07T00:00:00",
          "2020-03-08T00:00:00",
          "2020-03-09T00:00:00",
          "2020-03-10T00:00:00",
          "2020-03-11T00:00:00"
         ],
         "xaxis": "x",
         "y": [
          1,
          1,
          1,
          1,
          1,
          1,
          1,
          1,
          2,
          2,
          2,
          2,
          2,
          2,
          2,
          2,
          2,
          2,
          2,
          2,
          2,
          2,
          2,
          2,
          6,
          13,
          15,
          32,
          45,
          84,
          120,
          165,
          222,
          259,
          400,
          500,
          673,
          1073,
          1695,
          2277
         ],
         "yaxis": "y"
        },
        {
         "hoverlabel": {
          "namelength": 0
         },
         "hovertemplate": "Country/Region=Belgium<br>ObservationDate=%{x}<br>Confirmed=%{y}",
         "legendgroup": "Belgium",
         "line": {
          "color": "#FECB52",
          "dash": "solid"
         },
         "mode": "lines",
         "name": "Belgium",
         "showlegend": true,
         "type": "scatter",
         "x": [
          "2020-02-04T00:00:00",
          "2020-02-05T00:00:00",
          "2020-02-06T00:00:00",
          "2020-02-07T00:00:00",
          "2020-02-08T00:00:00",
          "2020-02-09T00:00:00",
          "2020-02-10T00:00:00",
          "2020-02-11T00:00:00",
          "2020-02-12T00:00:00",
          "2020-02-13T00:00:00",
          "2020-02-14T00:00:00",
          "2020-02-15T00:00:00",
          "2020-02-16T00:00:00",
          "2020-02-17T00:00:00",
          "2020-02-18T00:00:00",
          "2020-02-19T00:00:00",
          "2020-02-20T00:00:00",
          "2020-02-21T00:00:00",
          "2020-02-22T00:00:00",
          "2020-02-23T00:00:00",
          "2020-02-24T00:00:00",
          "2020-02-25T00:00:00",
          "2020-02-26T00:00:00",
          "2020-02-27T00:00:00",
          "2020-02-28T00:00:00",
          "2020-02-29T00:00:00",
          "2020-03-01T00:00:00",
          "2020-03-02T00:00:00",
          "2020-03-03T00:00:00",
          "2020-03-04T00:00:00",
          "2020-03-05T00:00:00",
          "2020-03-06T00:00:00",
          "2020-03-07T00:00:00",
          "2020-03-08T00:00:00",
          "2020-03-09T00:00:00",
          "2020-03-10T00:00:00",
          "2020-03-11T00:00:00"
         ],
         "xaxis": "x",
         "y": [
          1,
          1,
          1,
          1,
          1,
          1,
          1,
          1,
          1,
          1,
          1,
          1,
          1,
          1,
          1,
          1,
          1,
          1,
          1,
          1,
          1,
          1,
          1,
          1,
          1,
          1,
          2,
          8,
          13,
          23,
          50,
          109,
          169,
          200,
          239,
          267,
          314
         ],
         "yaxis": "y"
        },
        {
         "hoverlabel": {
          "namelength": 0
         },
         "hovertemplate": "Country/Region=Others<br>ObservationDate=%{x}<br>Confirmed=%{y}",
         "legendgroup": "Others",
         "line": {
          "color": "#636efa",
          "dash": "solid"
         },
         "mode": "lines",
         "name": "Others",
         "showlegend": true,
         "type": "scatter",
         "x": [
          "2020-02-07T00:00:00",
          "2020-02-08T00:00:00",
          "2020-02-09T00:00:00",
          "2020-02-10T00:00:00",
          "2020-02-11T00:00:00",
          "2020-02-12T00:00:00",
          "2020-02-13T00:00:00",
          "2020-02-14T00:00:00",
          "2020-02-15T00:00:00",
          "2020-02-16T00:00:00",
          "2020-02-17T00:00:00",
          "2020-02-18T00:00:00",
          "2020-02-19T00:00:00",
          "2020-02-20T00:00:00",
          "2020-02-21T00:00:00",
          "2020-02-22T00:00:00",
          "2020-02-23T00:00:00",
          "2020-02-24T00:00:00",
          "2020-02-25T00:00:00",
          "2020-02-26T00:00:00",
          "2020-02-27T00:00:00",
          "2020-02-28T00:00:00",
          "2020-02-29T00:00:00",
          "2020-03-01T00:00:00",
          "2020-03-02T00:00:00",
          "2020-03-03T00:00:00",
          "2020-03-04T00:00:00",
          "2020-03-05T00:00:00",
          "2020-03-06T00:00:00",
          "2020-03-07T00:00:00",
          "2020-03-08T00:00:00",
          "2020-03-09T00:00:00",
          "2020-03-10T00:00:00",
          "2020-03-11T00:00:00"
         ],
         "xaxis": "x",
         "y": [
          61,
          61,
          64,
          135,
          135,
          175,
          175,
          218,
          285,
          355,
          454,
          542,
          621,
          634,
          634,
          634,
          691,
          691,
          691,
          705,
          705,
          705,
          705,
          705,
          705,
          706,
          706,
          706,
          696,
          696,
          696,
          696,
          696,
          696
         ],
         "yaxis": "y"
        },
        {
         "hoverlabel": {
          "namelength": 0
         },
         "hovertemplate": "Country/Region=Iran<br>ObservationDate=%{x}<br>Confirmed=%{y}",
         "legendgroup": "Iran",
         "line": {
          "color": "#EF553B",
          "dash": "solid"
         },
         "mode": "lines",
         "name": "Iran",
         "showlegend": true,
         "type": "scatter",
         "x": [
          "2020-02-19T00:00:00",
          "2020-02-20T00:00:00",
          "2020-02-21T00:00:00",
          "2020-02-22T00:00:00",
          "2020-02-23T00:00:00",
          "2020-02-24T00:00:00",
          "2020-02-25T00:00:00",
          "2020-02-26T00:00:00",
          "2020-02-27T00:00:00",
          "2020-02-28T00:00:00",
          "2020-02-29T00:00:00",
          "2020-03-01T00:00:00",
          "2020-03-02T00:00:00",
          "2020-03-03T00:00:00",
          "2020-03-04T00:00:00",
          "2020-03-05T00:00:00",
          "2020-03-06T00:00:00",
          "2020-03-07T00:00:00",
          "2020-03-08T00:00:00",
          "2020-03-09T00:00:00",
          "2020-03-10T00:00:00",
          "2020-03-11T00:00:00"
         ],
         "xaxis": "x",
         "y": [
          2,
          5,
          18,
          28,
          43,
          61,
          95,
          139,
          245,
          388,
          593,
          978,
          1501,
          2336,
          2922,
          3513,
          4747,
          5823,
          6566,
          7161,
          8042,
          9000
         ],
         "yaxis": "y"
        },
        {
         "hoverlabel": {
          "namelength": 0
         },
         "hovertemplate": "Country/Region=Bahrain<br>ObservationDate=%{x}<br>Confirmed=%{y}",
         "legendgroup": "Bahrain",
         "line": {
          "color": "#00cc96",
          "dash": "solid"
         },
         "mode": "lines",
         "name": "Bahrain",
         "showlegend": true,
         "type": "scatter",
         "x": [
          "2020-02-24T00:00:00",
          "2020-02-25T00:00:00",
          "2020-02-26T00:00:00",
          "2020-02-27T00:00:00",
          "2020-02-28T00:00:00",
          "2020-02-29T00:00:00",
          "2020-03-01T00:00:00",
          "2020-03-02T00:00:00",
          "2020-03-03T00:00:00",
          "2020-03-04T00:00:00",
          "2020-03-05T00:00:00",
          "2020-03-06T00:00:00",
          "2020-03-07T00:00:00",
          "2020-03-08T00:00:00",
          "2020-03-09T00:00:00",
          "2020-03-10T00:00:00",
          "2020-03-11T00:00:00"
         ],
         "xaxis": "x",
         "y": [
          1,
          23,
          33,
          33,
          36,
          41,
          47,
          49,
          49,
          52,
          55,
          60,
          85,
          85,
          95,
          110,
          195
         ],
         "yaxis": "y"
        },
        {
         "hoverlabel": {
          "namelength": 0
         },
         "hovertemplate": "Country/Region=Austria<br>ObservationDate=%{x}<br>Confirmed=%{y}",
         "legendgroup": "Austria",
         "line": {
          "color": "#ab63fa",
          "dash": "solid"
         },
         "mode": "lines",
         "name": "Austria",
         "showlegend": true,
         "type": "scatter",
         "x": [
          "2020-02-25T00:00:00",
          "2020-02-26T00:00:00",
          "2020-02-27T00:00:00",
          "2020-02-28T00:00:00",
          "2020-02-29T00:00:00",
          "2020-03-01T00:00:00",
          "2020-03-02T00:00:00",
          "2020-03-03T00:00:00",
          "2020-03-04T00:00:00",
          "2020-03-05T00:00:00",
          "2020-03-06T00:00:00",
          "2020-03-07T00:00:00",
          "2020-03-08T00:00:00",
          "2020-03-09T00:00:00",
          "2020-03-10T00:00:00",
          "2020-03-11T00:00:00"
         ],
         "xaxis": "x",
         "y": [
          2,
          2,
          3,
          3,
          9,
          14,
          18,
          21,
          29,
          41,
          55,
          79,
          104,
          131,
          182,
          246
         ],
         "yaxis": "y"
        },
        {
         "hoverlabel": {
          "namelength": 0
         },
         "hovertemplate": "Country/Region=Switzerland<br>ObservationDate=%{x}<br>Confirmed=%{y}",
         "legendgroup": "Switzerland",
         "line": {
          "color": "#FFA15A",
          "dash": "solid"
         },
         "mode": "lines",
         "name": "Switzerland",
         "showlegend": true,
         "type": "scatter",
         "x": [
          "2020-02-25T00:00:00",
          "2020-02-26T00:00:00",
          "2020-02-27T00:00:00",
          "2020-02-28T00:00:00",
          "2020-02-29T00:00:00",
          "2020-03-01T00:00:00",
          "2020-03-02T00:00:00",
          "2020-03-03T00:00:00",
          "2020-03-04T00:00:00",
          "2020-03-05T00:00:00",
          "2020-03-06T00:00:00",
          "2020-03-07T00:00:00",
          "2020-03-08T00:00:00",
          "2020-03-09T00:00:00",
          "2020-03-10T00:00:00",
          "2020-03-11T00:00:00"
         ],
         "xaxis": "x",
         "y": [
          1,
          1,
          8,
          8,
          18,
          27,
          42,
          56,
          90,
          114,
          214,
          268,
          337,
          374,
          491,
          652
         ],
         "yaxis": "y"
        },
        {
         "hoverlabel": {
          "namelength": 0
         },
         "hovertemplate": "Country/Region=Norway<br>ObservationDate=%{x}<br>Confirmed=%{y}",
         "legendgroup": "Norway",
         "line": {
          "color": "#19d3f3",
          "dash": "solid"
         },
         "mode": "lines",
         "name": "Norway",
         "showlegend": true,
         "type": "scatter",
         "x": [
          "2020-02-26T00:00:00",
          "2020-02-27T00:00:00",
          "2020-02-28T00:00:00",
          "2020-02-29T00:00:00",
          "2020-03-01T00:00:00",
          "2020-03-02T00:00:00",
          "2020-03-03T00:00:00",
          "2020-03-04T00:00:00",
          "2020-03-05T00:00:00",
          "2020-03-06T00:00:00",
          "2020-03-07T00:00:00",
          "2020-03-08T00:00:00",
          "2020-03-09T00:00:00",
          "2020-03-10T00:00:00",
          "2020-03-11T00:00:00"
         ],
         "xaxis": "x",
         "y": [
          1,
          1,
          6,
          15,
          19,
          25,
          32,
          56,
          87,
          108,
          147,
          176,
          205,
          400,
          598
         ],
         "yaxis": "y"
        },
        {
         "hoverlabel": {
          "namelength": 0
         },
         "hovertemplate": "Country/Region=Denmark<br>ObservationDate=%{x}<br>Confirmed=%{y}",
         "legendgroup": "Denmark",
         "line": {
          "color": "#FF6692",
          "dash": "solid"
         },
         "mode": "lines",
         "name": "Denmark",
         "showlegend": true,
         "type": "scatter",
         "x": [
          "2020-02-27T00:00:00",
          "2020-02-28T00:00:00",
          "2020-02-29T00:00:00",
          "2020-03-01T00:00:00",
          "2020-03-02T00:00:00",
          "2020-03-03T00:00:00",
          "2020-03-04T00:00:00",
          "2020-03-05T00:00:00",
          "2020-03-06T00:00:00",
          "2020-03-07T00:00:00",
          "2020-03-08T00:00:00",
          "2020-03-09T00:00:00",
          "2020-03-10T00:00:00",
          "2020-03-11T00:00:00"
         ],
         "xaxis": "x",
         "y": [
          1,
          1,
          3,
          4,
          4,
          6,
          10,
          10,
          23,
          23,
          35,
          90,
          262,
          444
         ],
         "yaxis": "y"
        },
        {
         "hoverlabel": {
          "namelength": 0
         },
         "hovertemplate": "Country/Region=Netherlands<br>ObservationDate=%{x}<br>Confirmed=%{y}",
         "legendgroup": "Netherlands",
         "line": {
          "color": "#B6E880",
          "dash": "solid"
         },
         "mode": "lines",
         "name": "Netherlands",
         "showlegend": true,
         "type": "scatter",
         "x": [
          "2020-02-27T00:00:00",
          "2020-02-28T00:00:00",
          "2020-02-29T00:00:00",
          "2020-03-01T00:00:00",
          "2020-03-02T00:00:00",
          "2020-03-03T00:00:00",
          "2020-03-04T00:00:00",
          "2020-03-05T00:00:00",
          "2020-03-06T00:00:00",
          "2020-03-07T00:00:00",
          "2020-03-08T00:00:00",
          "2020-03-09T00:00:00",
          "2020-03-10T00:00:00",
          "2020-03-11T00:00:00"
         ],
         "xaxis": "x",
         "y": [
          1,
          1,
          6,
          10,
          18,
          24,
          38,
          82,
          128,
          188,
          265,
          321,
          382,
          503
         ],
         "yaxis": "y"
        },
        {
         "hoverlabel": {
          "namelength": 0
         },
         "hovertemplate": "Country/Region=Qatar<br>ObservationDate=%{x}<br>Confirmed=%{y}",
         "legendgroup": "Qatar",
         "line": {
          "color": "#FF97FF",
          "dash": "solid"
         },
         "mode": "lines",
         "name": "Qatar",
         "showlegend": true,
         "type": "scatter",
         "x": [
          "2020-02-29T00:00:00",
          "2020-03-01T00:00:00",
          "2020-03-02T00:00:00",
          "2020-03-03T00:00:00",
          "2020-03-04T00:00:00",
          "2020-03-05T00:00:00",
          "2020-03-06T00:00:00",
          "2020-03-07T00:00:00",
          "2020-03-08T00:00:00",
          "2020-03-09T00:00:00",
          "2020-03-10T00:00:00",
          "2020-03-11T00:00:00"
         ],
         "xaxis": "x",
         "y": [
          1,
          3,
          3,
          7,
          8,
          8,
          8,
          8,
          15,
          18,
          24,
          262
         ],
         "yaxis": "y"
        }
       ],
       "layout": {
        "height": 600,
        "legend": {
         "title": {
          "text": "Country/Region"
         },
         "tracegroupgap": 0
        },
        "template": {
         "data": {
          "bar": [
           {
            "error_x": {
             "color": "#2a3f5f"
            },
            "error_y": {
             "color": "#2a3f5f"
            },
            "marker": {
             "line": {
              "color": "#E5ECF6",
              "width": 0.5
             }
            },
            "type": "bar"
           }
          ],
          "barpolar": [
           {
            "marker": {
             "line": {
              "color": "#E5ECF6",
              "width": 0.5
             }
            },
            "type": "barpolar"
           }
          ],
          "carpet": [
           {
            "aaxis": {
             "endlinecolor": "#2a3f5f",
             "gridcolor": "white",
             "linecolor": "white",
             "minorgridcolor": "white",
             "startlinecolor": "#2a3f5f"
            },
            "baxis": {
             "endlinecolor": "#2a3f5f",
             "gridcolor": "white",
             "linecolor": "white",
             "minorgridcolor": "white",
             "startlinecolor": "#2a3f5f"
            },
            "type": "carpet"
           }
          ],
          "choropleth": [
           {
            "colorbar": {
             "outlinewidth": 0,
             "ticks": ""
            },
            "type": "choropleth"
           }
          ],
          "contour": [
           {
            "colorbar": {
             "outlinewidth": 0,
             "ticks": ""
            },
            "colorscale": [
             [
              0,
              "#0d0887"
             ],
             [
              0.1111111111111111,
              "#46039f"
             ],
             [
              0.2222222222222222,
              "#7201a8"
             ],
             [
              0.3333333333333333,
              "#9c179e"
             ],
             [
              0.4444444444444444,
              "#bd3786"
             ],
             [
              0.5555555555555556,
              "#d8576b"
             ],
             [
              0.6666666666666666,
              "#ed7953"
             ],
             [
              0.7777777777777778,
              "#fb9f3a"
             ],
             [
              0.8888888888888888,
              "#fdca26"
             ],
             [
              1,
              "#f0f921"
             ]
            ],
            "type": "contour"
           }
          ],
          "contourcarpet": [
           {
            "colorbar": {
             "outlinewidth": 0,
             "ticks": ""
            },
            "type": "contourcarpet"
           }
          ],
          "heatmap": [
           {
            "colorbar": {
             "outlinewidth": 0,
             "ticks": ""
            },
            "colorscale": [
             [
              0,
              "#0d0887"
             ],
             [
              0.1111111111111111,
              "#46039f"
             ],
             [
              0.2222222222222222,
              "#7201a8"
             ],
             [
              0.3333333333333333,
              "#9c179e"
             ],
             [
              0.4444444444444444,
              "#bd3786"
             ],
             [
              0.5555555555555556,
              "#d8576b"
             ],
             [
              0.6666666666666666,
              "#ed7953"
             ],
             [
              0.7777777777777778,
              "#fb9f3a"
             ],
             [
              0.8888888888888888,
              "#fdca26"
             ],
             [
              1,
              "#f0f921"
             ]
            ],
            "type": "heatmap"
           }
          ],
          "heatmapgl": [
           {
            "colorbar": {
             "outlinewidth": 0,
             "ticks": ""
            },
            "colorscale": [
             [
              0,
              "#0d0887"
             ],
             [
              0.1111111111111111,
              "#46039f"
             ],
             [
              0.2222222222222222,
              "#7201a8"
             ],
             [
              0.3333333333333333,
              "#9c179e"
             ],
             [
              0.4444444444444444,
              "#bd3786"
             ],
             [
              0.5555555555555556,
              "#d8576b"
             ],
             [
              0.6666666666666666,
              "#ed7953"
             ],
             [
              0.7777777777777778,
              "#fb9f3a"
             ],
             [
              0.8888888888888888,
              "#fdca26"
             ],
             [
              1,
              "#f0f921"
             ]
            ],
            "type": "heatmapgl"
           }
          ],
          "histogram": [
           {
            "marker": {
             "colorbar": {
              "outlinewidth": 0,
              "ticks": ""
             }
            },
            "type": "histogram"
           }
          ],
          "histogram2d": [
           {
            "colorbar": {
             "outlinewidth": 0,
             "ticks": ""
            },
            "colorscale": [
             [
              0,
              "#0d0887"
             ],
             [
              0.1111111111111111,
              "#46039f"
             ],
             [
              0.2222222222222222,
              "#7201a8"
             ],
             [
              0.3333333333333333,
              "#9c179e"
             ],
             [
              0.4444444444444444,
              "#bd3786"
             ],
             [
              0.5555555555555556,
              "#d8576b"
             ],
             [
              0.6666666666666666,
              "#ed7953"
             ],
             [
              0.7777777777777778,
              "#fb9f3a"
             ],
             [
              0.8888888888888888,
              "#fdca26"
             ],
             [
              1,
              "#f0f921"
             ]
            ],
            "type": "histogram2d"
           }
          ],
          "histogram2dcontour": [
           {
            "colorbar": {
             "outlinewidth": 0,
             "ticks": ""
            },
            "colorscale": [
             [
              0,
              "#0d0887"
             ],
             [
              0.1111111111111111,
              "#46039f"
             ],
             [
              0.2222222222222222,
              "#7201a8"
             ],
             [
              0.3333333333333333,
              "#9c179e"
             ],
             [
              0.4444444444444444,
              "#bd3786"
             ],
             [
              0.5555555555555556,
              "#d8576b"
             ],
             [
              0.6666666666666666,
              "#ed7953"
             ],
             [
              0.7777777777777778,
              "#fb9f3a"
             ],
             [
              0.8888888888888888,
              "#fdca26"
             ],
             [
              1,
              "#f0f921"
             ]
            ],
            "type": "histogram2dcontour"
           }
          ],
          "mesh3d": [
           {
            "colorbar": {
             "outlinewidth": 0,
             "ticks": ""
            },
            "type": "mesh3d"
           }
          ],
          "parcoords": [
           {
            "line": {
             "colorbar": {
              "outlinewidth": 0,
              "ticks": ""
             }
            },
            "type": "parcoords"
           }
          ],
          "pie": [
           {
            "automargin": true,
            "type": "pie"
           }
          ],
          "scatter": [
           {
            "marker": {
             "colorbar": {
              "outlinewidth": 0,
              "ticks": ""
             }
            },
            "type": "scatter"
           }
          ],
          "scatter3d": [
           {
            "line": {
             "colorbar": {
              "outlinewidth": 0,
              "ticks": ""
             }
            },
            "marker": {
             "colorbar": {
              "outlinewidth": 0,
              "ticks": ""
             }
            },
            "type": "scatter3d"
           }
          ],
          "scattercarpet": [
           {
            "marker": {
             "colorbar": {
              "outlinewidth": 0,
              "ticks": ""
             }
            },
            "type": "scattercarpet"
           }
          ],
          "scattergeo": [
           {
            "marker": {
             "colorbar": {
              "outlinewidth": 0,
              "ticks": ""
             }
            },
            "type": "scattergeo"
           }
          ],
          "scattergl": [
           {
            "marker": {
             "colorbar": {
              "outlinewidth": 0,
              "ticks": ""
             }
            },
            "type": "scattergl"
           }
          ],
          "scattermapbox": [
           {
            "marker": {
             "colorbar": {
              "outlinewidth": 0,
              "ticks": ""
             }
            },
            "type": "scattermapbox"
           }
          ],
          "scatterpolar": [
           {
            "marker": {
             "colorbar": {
              "outlinewidth": 0,
              "ticks": ""
             }
            },
            "type": "scatterpolar"
           }
          ],
          "scatterpolargl": [
           {
            "marker": {
             "colorbar": {
              "outlinewidth": 0,
              "ticks": ""
             }
            },
            "type": "scatterpolargl"
           }
          ],
          "scatterternary": [
           {
            "marker": {
             "colorbar": {
              "outlinewidth": 0,
              "ticks": ""
             }
            },
            "type": "scatterternary"
           }
          ],
          "surface": [
           {
            "colorbar": {
             "outlinewidth": 0,
             "ticks": ""
            },
            "colorscale": [
             [
              0,
              "#0d0887"
             ],
             [
              0.1111111111111111,
              "#46039f"
             ],
             [
              0.2222222222222222,
              "#7201a8"
             ],
             [
              0.3333333333333333,
              "#9c179e"
             ],
             [
              0.4444444444444444,
              "#bd3786"
             ],
             [
              0.5555555555555556,
              "#d8576b"
             ],
             [
              0.6666666666666666,
              "#ed7953"
             ],
             [
              0.7777777777777778,
              "#fb9f3a"
             ],
             [
              0.8888888888888888,
              "#fdca26"
             ],
             [
              1,
              "#f0f921"
             ]
            ],
            "type": "surface"
           }
          ],
          "table": [
           {
            "cells": {
             "fill": {
              "color": "#EBF0F8"
             },
             "line": {
              "color": "white"
             }
            },
            "header": {
             "fill": {
              "color": "#C8D4E3"
             },
             "line": {
              "color": "white"
             }
            },
            "type": "table"
           }
          ]
         },
         "layout": {
          "annotationdefaults": {
           "arrowcolor": "#2a3f5f",
           "arrowhead": 0,
           "arrowwidth": 1
          },
          "coloraxis": {
           "colorbar": {
            "outlinewidth": 0,
            "ticks": ""
           }
          },
          "colorscale": {
           "diverging": [
            [
             0,
             "#8e0152"
            ],
            [
             0.1,
             "#c51b7d"
            ],
            [
             0.2,
             "#de77ae"
            ],
            [
             0.3,
             "#f1b6da"
            ],
            [
             0.4,
             "#fde0ef"
            ],
            [
             0.5,
             "#f7f7f7"
            ],
            [
             0.6,
             "#e6f5d0"
            ],
            [
             0.7,
             "#b8e186"
            ],
            [
             0.8,
             "#7fbc41"
            ],
            [
             0.9,
             "#4d9221"
            ],
            [
             1,
             "#276419"
            ]
           ],
           "sequential": [
            [
             0,
             "#0d0887"
            ],
            [
             0.1111111111111111,
             "#46039f"
            ],
            [
             0.2222222222222222,
             "#7201a8"
            ],
            [
             0.3333333333333333,
             "#9c179e"
            ],
            [
             0.4444444444444444,
             "#bd3786"
            ],
            [
             0.5555555555555556,
             "#d8576b"
            ],
            [
             0.6666666666666666,
             "#ed7953"
            ],
            [
             0.7777777777777778,
             "#fb9f3a"
            ],
            [
             0.8888888888888888,
             "#fdca26"
            ],
            [
             1,
             "#f0f921"
            ]
           ],
           "sequentialminus": [
            [
             0,
             "#0d0887"
            ],
            [
             0.1111111111111111,
             "#46039f"
            ],
            [
             0.2222222222222222,
             "#7201a8"
            ],
            [
             0.3333333333333333,
             "#9c179e"
            ],
            [
             0.4444444444444444,
             "#bd3786"
            ],
            [
             0.5555555555555556,
             "#d8576b"
            ],
            [
             0.6666666666666666,
             "#ed7953"
            ],
            [
             0.7777777777777778,
             "#fb9f3a"
            ],
            [
             0.8888888888888888,
             "#fdca26"
            ],
            [
             1,
             "#f0f921"
            ]
           ]
          },
          "colorway": [
           "#636efa",
           "#EF553B",
           "#00cc96",
           "#ab63fa",
           "#FFA15A",
           "#19d3f3",
           "#FF6692",
           "#B6E880",
           "#FF97FF",
           "#FECB52"
          ],
          "font": {
           "color": "#2a3f5f"
          },
          "geo": {
           "bgcolor": "white",
           "lakecolor": "white",
           "landcolor": "#E5ECF6",
           "showlakes": true,
           "showland": true,
           "subunitcolor": "white"
          },
          "hoverlabel": {
           "align": "left"
          },
          "hovermode": "closest",
          "mapbox": {
           "style": "light"
          },
          "paper_bgcolor": "white",
          "plot_bgcolor": "#E5ECF6",
          "polar": {
           "angularaxis": {
            "gridcolor": "white",
            "linecolor": "white",
            "ticks": ""
           },
           "bgcolor": "#E5ECF6",
           "radialaxis": {
            "gridcolor": "white",
            "linecolor": "white",
            "ticks": ""
           }
          },
          "scene": {
           "xaxis": {
            "backgroundcolor": "#E5ECF6",
            "gridcolor": "white",
            "gridwidth": 2,
            "linecolor": "white",
            "showbackground": true,
            "ticks": "",
            "zerolinecolor": "white"
           },
           "yaxis": {
            "backgroundcolor": "#E5ECF6",
            "gridcolor": "white",
            "gridwidth": 2,
            "linecolor": "white",
            "showbackground": true,
            "ticks": "",
            "zerolinecolor": "white"
           },
           "zaxis": {
            "backgroundcolor": "#E5ECF6",
            "gridcolor": "white",
            "gridwidth": 2,
            "linecolor": "white",
            "showbackground": true,
            "ticks": "",
            "zerolinecolor": "white"
           }
          },
          "shapedefaults": {
           "line": {
            "color": "#2a3f5f"
           }
          },
          "ternary": {
           "aaxis": {
            "gridcolor": "white",
            "linecolor": "white",
            "ticks": ""
           },
           "baxis": {
            "gridcolor": "white",
            "linecolor": "white",
            "ticks": ""
           },
           "bgcolor": "#E5ECF6",
           "caxis": {
            "gridcolor": "white",
            "linecolor": "white",
            "ticks": ""
           }
          },
          "title": {
           "x": 0.05
          },
          "xaxis": {
           "automargin": true,
           "gridcolor": "white",
           "linecolor": "white",
           "ticks": "",
           "title": {
            "standoff": 15
           },
           "zerolinecolor": "white",
           "zerolinewidth": 2
          },
          "yaxis": {
           "automargin": true,
           "gridcolor": "white",
           "linecolor": "white",
           "ticks": "",
           "title": {
            "standoff": 15
           },
           "zerolinecolor": "white",
           "zerolinewidth": 2
          }
         }
        },
        "title": {
         "text": "Cases Spread"
        },
        "xaxis": {
         "anchor": "y",
         "domain": [
          0,
          1
         ],
         "title": {
          "text": "ObservationDate"
         }
        },
        "yaxis": {
         "anchor": "x",
         "domain": [
          0,
          1
         ],
         "title": {
          "text": "Confirmed"
         }
        }
       }
      },
      "text/html": [
       "<div>\n",
       "        \n",
       "        \n",
       "            <div id=\"cf01594c-c7ba-4cec-a696-4998c2971607\" class=\"plotly-graph-div\" style=\"height:600px; width:100%;\"></div>\n",
       "            <script type=\"text/javascript\">\n",
       "                require([\"plotly\"], function(Plotly) {\n",
       "                    window.PLOTLYENV=window.PLOTLYENV || {};\n",
       "                    \n",
       "                if (document.getElementById(\"cf01594c-c7ba-4cec-a696-4998c2971607\")) {\n",
       "                    Plotly.newPlot(\n",
       "                        'cf01594c-c7ba-4cec-a696-4998c2971607',\n",
       "                        [{\"hoverlabel\": {\"namelength\": 0}, \"hovertemplate\": \"Country/Region=Japan<br>ObservationDate=%{x}<br>Confirmed=%{y}\", \"legendgroup\": \"Japan\", \"line\": {\"color\": \"#636efa\", \"dash\": \"solid\"}, \"mode\": \"lines\", \"name\": \"Japan\", \"showlegend\": true, \"type\": \"scatter\", \"x\": [\"2020-01-22T00:00:00\", \"2020-01-23T00:00:00\", \"2020-01-24T00:00:00\", \"2020-01-25T00:00:00\", \"2020-01-26T00:00:00\", \"2020-01-27T00:00:00\", \"2020-01-28T00:00:00\", \"2020-01-29T00:00:00\", \"2020-01-30T00:00:00\", \"2020-01-31T00:00:00\", \"2020-02-01T00:00:00\", \"2020-02-02T00:00:00\", \"2020-02-03T00:00:00\", \"2020-02-04T00:00:00\", \"2020-02-05T00:00:00\", \"2020-02-06T00:00:00\", \"2020-02-07T00:00:00\", \"2020-02-08T00:00:00\", \"2020-02-09T00:00:00\", \"2020-02-10T00:00:00\", \"2020-02-11T00:00:00\", \"2020-02-12T00:00:00\", \"2020-02-13T00:00:00\", \"2020-02-14T00:00:00\", \"2020-02-15T00:00:00\", \"2020-02-16T00:00:00\", \"2020-02-17T00:00:00\", \"2020-02-18T00:00:00\", \"2020-02-19T00:00:00\", \"2020-02-20T00:00:00\", \"2020-02-21T00:00:00\", \"2020-02-22T00:00:00\", \"2020-02-23T00:00:00\", \"2020-02-24T00:00:00\", \"2020-02-25T00:00:00\", \"2020-02-26T00:00:00\", \"2020-02-27T00:00:00\", \"2020-02-28T00:00:00\", \"2020-02-29T00:00:00\", \"2020-03-01T00:00:00\", \"2020-03-02T00:00:00\", \"2020-03-03T00:00:00\", \"2020-03-04T00:00:00\", \"2020-03-05T00:00:00\", \"2020-03-06T00:00:00\", \"2020-03-07T00:00:00\", \"2020-03-08T00:00:00\", \"2020-03-09T00:00:00\", \"2020-03-10T00:00:00\", \"2020-03-11T00:00:00\"], \"xaxis\": \"x\", \"y\": [2, 1, 2, 2, 4, 4, 7, 7, 11, 15, 20, 20, 20, 22, 22, 45, 25, 25, 26, 26, 26, 28, 28, 29, 43, 59, 66, 74, 84, 94, 105, 122, 147, 159, 170, 189, 214, 228, 241, 256, 274, 293, 331, 360, 420, 461, 502, 511, 581, 639], \"yaxis\": \"y\"}, {\"hoverlabel\": {\"namelength\": 0}, \"hovertemplate\": \"Country/Region=South Korea<br>ObservationDate=%{x}<br>Confirmed=%{y}\", \"legendgroup\": \"South Korea\", \"line\": {\"color\": \"#EF553B\", \"dash\": \"solid\"}, \"mode\": \"lines\", \"name\": \"South Korea\", \"showlegend\": true, \"type\": \"scatter\", \"x\": [\"2020-01-22T00:00:00\", \"2020-01-23T00:00:00\", \"2020-01-24T00:00:00\", \"2020-01-25T00:00:00\", \"2020-01-26T00:00:00\", \"2020-01-27T00:00:00\", \"2020-01-28T00:00:00\", \"2020-01-29T00:00:00\", \"2020-01-30T00:00:00\", \"2020-01-31T00:00:00\", \"2020-02-01T00:00:00\", \"2020-02-02T00:00:00\", \"2020-02-03T00:00:00\", \"2020-02-04T00:00:00\", \"2020-02-05T00:00:00\", \"2020-02-06T00:00:00\", \"2020-02-07T00:00:00\", \"2020-02-08T00:00:00\", \"2020-02-09T00:00:00\", \"2020-02-10T00:00:00\", \"2020-02-11T00:00:00\", \"2020-02-12T00:00:00\", \"2020-02-13T00:00:00\", \"2020-02-14T00:00:00\", \"2020-02-15T00:00:00\", \"2020-02-16T00:00:00\", \"2020-02-17T00:00:00\", \"2020-02-18T00:00:00\", \"2020-02-19T00:00:00\", \"2020-02-20T00:00:00\", \"2020-02-21T00:00:00\", \"2020-02-22T00:00:00\", \"2020-02-23T00:00:00\", \"2020-02-24T00:00:00\", \"2020-02-25T00:00:00\", \"2020-02-26T00:00:00\", \"2020-02-27T00:00:00\", \"2020-02-28T00:00:00\", \"2020-02-29T00:00:00\", \"2020-03-01T00:00:00\", \"2020-03-02T00:00:00\", \"2020-03-03T00:00:00\", \"2020-03-04T00:00:00\", \"2020-03-05T00:00:00\", \"2020-03-06T00:00:00\", \"2020-03-07T00:00:00\", \"2020-03-08T00:00:00\", \"2020-03-09T00:00:00\", \"2020-03-10T00:00:00\", \"2020-03-11T00:00:00\"], \"xaxis\": \"x\", \"y\": [1, 1, 2, 2, 3, 4, 4, 4, 4, 11, 12, 15, 15, 16, 19, 23, 24, 24, 25, 27, 28, 28, 28, 28, 28, 29, 30, 31, 31, 104, 204, 433, 602, 833, 977, 1261, 1766, 2337, 3150, 3736, 4335, 5186, 5621, 6088, 6593, 7041, 7314, 7478, 7513, 7755], \"yaxis\": \"y\"}, {\"hoverlabel\": {\"namelength\": 0}, \"hovertemplate\": \"Country/Region=US<br>ObservationDate=%{x}<br>Confirmed=%{y}\", \"legendgroup\": \"US\", \"line\": {\"color\": \"#00cc96\", \"dash\": \"solid\"}, \"mode\": \"lines\", \"name\": \"US\", \"showlegend\": true, \"type\": \"scatter\", \"x\": [\"2020-01-22T00:00:00\", \"2020-01-23T00:00:00\", \"2020-01-24T00:00:00\", \"2020-01-25T00:00:00\", \"2020-01-26T00:00:00\", \"2020-01-27T00:00:00\", \"2020-01-28T00:00:00\", \"2020-01-29T00:00:00\", \"2020-01-30T00:00:00\", \"2020-01-31T00:00:00\", \"2020-02-01T00:00:00\", \"2020-02-02T00:00:00\", \"2020-02-03T00:00:00\", \"2020-02-04T00:00:00\", \"2020-02-05T00:00:00\", \"2020-02-06T00:00:00\", \"2020-02-07T00:00:00\", \"2020-02-08T00:00:00\", \"2020-02-09T00:00:00\", \"2020-02-10T00:00:00\", \"2020-02-11T00:00:00\", \"2020-02-12T00:00:00\", \"2020-02-13T00:00:00\", \"2020-02-14T00:00:00\", \"2020-02-15T00:00:00\", \"2020-02-16T00:00:00\", \"2020-02-17T00:00:00\", \"2020-02-18T00:00:00\", \"2020-02-19T00:00:00\", \"2020-02-20T00:00:00\", \"2020-02-21T00:00:00\", \"2020-02-22T00:00:00\", \"2020-02-23T00:00:00\", \"2020-02-24T00:00:00\", \"2020-02-25T00:00:00\", \"2020-02-26T00:00:00\", \"2020-02-27T00:00:00\", \"2020-02-28T00:00:00\", \"2020-02-29T00:00:00\", \"2020-03-01T00:00:00\", \"2020-03-02T00:00:00\", \"2020-03-03T00:00:00\", \"2020-03-04T00:00:00\", \"2020-03-05T00:00:00\", \"2020-03-06T00:00:00\", \"2020-03-07T00:00:00\", \"2020-03-08T00:00:00\", \"2020-03-09T00:00:00\", \"2020-03-10T00:00:00\", \"2020-03-11T00:00:00\"], \"xaxis\": \"x\", \"y\": [1, 1, 2, 2, 5, 5, 5, 5, 5, 6, 8, 8, 11, 11, 12, 12, 12, 12, 12, 12, 13, 13, 15, 15, 15, 15, 15, 15, 15, 15, 35, 35, 35, 53, 53, 59, 60, 62, 70, 76, 101, 122, 153, 221, 278, 417, 537, 605, 959, 1281], \"yaxis\": \"y\"}, {\"hoverlabel\": {\"namelength\": 0}, \"hovertemplate\": \"Country/Region=France<br>ObservationDate=%{x}<br>Confirmed=%{y}\", \"legendgroup\": \"France\", \"line\": {\"color\": \"#ab63fa\", \"dash\": \"solid\"}, \"mode\": \"lines\", \"name\": \"France\", \"showlegend\": true, \"type\": \"scatter\", \"x\": [\"2020-01-24T00:00:00\", \"2020-01-25T00:00:00\", \"2020-01-26T00:00:00\", \"2020-01-27T00:00:00\", \"2020-01-28T00:00:00\", \"2020-01-29T00:00:00\", \"2020-01-30T00:00:00\", \"2020-01-31T00:00:00\", \"2020-02-01T00:00:00\", \"2020-02-02T00:00:00\", \"2020-02-03T00:00:00\", \"2020-02-04T00:00:00\", \"2020-02-05T00:00:00\", \"2020-02-06T00:00:00\", \"2020-02-07T00:00:00\", \"2020-02-08T00:00:00\", \"2020-02-09T00:00:00\", \"2020-02-10T00:00:00\", \"2020-02-11T00:00:00\", \"2020-02-12T00:00:00\", \"2020-02-13T00:00:00\", \"2020-02-14T00:00:00\", \"2020-02-15T00:00:00\", \"2020-02-16T00:00:00\", \"2020-02-17T00:00:00\", \"2020-02-18T00:00:00\", \"2020-02-19T00:00:00\", \"2020-02-20T00:00:00\", \"2020-02-21T00:00:00\", \"2020-02-22T00:00:00\", \"2020-02-23T00:00:00\", \"2020-02-24T00:00:00\", \"2020-02-25T00:00:00\", \"2020-02-26T00:00:00\", \"2020-02-27T00:00:00\", \"2020-02-28T00:00:00\", \"2020-02-29T00:00:00\", \"2020-03-01T00:00:00\", \"2020-03-02T00:00:00\", \"2020-03-03T00:00:00\", \"2020-03-04T00:00:00\", \"2020-03-05T00:00:00\", \"2020-03-06T00:00:00\", \"2020-03-07T00:00:00\", \"2020-03-08T00:00:00\", \"2020-03-09T00:00:00\", \"2020-03-10T00:00:00\", \"2020-03-11T00:00:00\"], \"xaxis\": \"x\", \"y\": [2, 3, 3, 3, 4, 5, 5, 5, 6, 6, 6, 6, 6, 6, 6, 11, 11, 11, 11, 11, 11, 11, 12, 12, 12, 12, 12, 12, 12, 12, 12, 12, 14, 18, 38, 57, 100, 130, 191, 204, 285, 377, 653, 949, 1126, 1209, 1784, 2284], \"yaxis\": \"y\"}, {\"hoverlabel\": {\"namelength\": 0}, \"hovertemplate\": \"Country/Region=Germany<br>ObservationDate=%{x}<br>Confirmed=%{y}\", \"legendgroup\": \"Germany\", \"line\": {\"color\": \"#FFA15A\", \"dash\": \"solid\"}, \"mode\": \"lines\", \"name\": \"Germany\", \"showlegend\": true, \"type\": \"scatter\", \"x\": [\"2020-01-28T00:00:00\", \"2020-01-29T00:00:00\", \"2020-01-30T00:00:00\", \"2020-01-31T00:00:00\", \"2020-02-01T00:00:00\", \"2020-02-02T00:00:00\", \"2020-02-03T00:00:00\", \"2020-02-04T00:00:00\", \"2020-02-05T00:00:00\", \"2020-02-06T00:00:00\", \"2020-02-07T00:00:00\", \"2020-02-08T00:00:00\", \"2020-02-09T00:00:00\", \"2020-02-10T00:00:00\", \"2020-02-11T00:00:00\", \"2020-02-12T00:00:00\", \"2020-02-13T00:00:00\", \"2020-02-14T00:00:00\", \"2020-02-15T00:00:00\", \"2020-02-16T00:00:00\", \"2020-02-17T00:00:00\", \"2020-02-18T00:00:00\", \"2020-02-19T00:00:00\", \"2020-02-20T00:00:00\", \"2020-02-21T00:00:00\", \"2020-02-22T00:00:00\", \"2020-02-23T00:00:00\", \"2020-02-24T00:00:00\", \"2020-02-25T00:00:00\", \"2020-02-26T00:00:00\", \"2020-02-27T00:00:00\", \"2020-02-28T00:00:00\", \"2020-02-29T00:00:00\", \"2020-03-01T00:00:00\", \"2020-03-02T00:00:00\", \"2020-03-03T00:00:00\", \"2020-03-04T00:00:00\", \"2020-03-05T00:00:00\", \"2020-03-06T00:00:00\", \"2020-03-07T00:00:00\", \"2020-03-08T00:00:00\", \"2020-03-09T00:00:00\", \"2020-03-10T00:00:00\", \"2020-03-11T00:00:00\"], \"xaxis\": \"x\", \"y\": [4, 4, 4, 5, 8, 10, 12, 12, 12, 12, 13, 13, 14, 14, 16, 16, 16, 16, 16, 16, 16, 16, 16, 16, 16, 16, 16, 16, 17, 27, 46, 48, 79, 130, 159, 196, 262, 482, 670, 799, 1040, 1176, 1457, 1908], \"yaxis\": \"y\"}, {\"hoverlabel\": {\"namelength\": 0}, \"hovertemplate\": \"Country/Region=Italy<br>ObservationDate=%{x}<br>Confirmed=%{y}\", \"legendgroup\": \"Italy\", \"line\": {\"color\": \"#19d3f3\", \"dash\": \"solid\"}, \"mode\": \"lines\", \"name\": \"Italy\", \"showlegend\": true, \"type\": \"scatter\", \"x\": [\"2020-01-31T00:00:00\", \"2020-02-01T00:00:00\", \"2020-02-02T00:00:00\", \"2020-02-03T00:00:00\", \"2020-02-04T00:00:00\", \"2020-02-05T00:00:00\", \"2020-02-06T00:00:00\", \"2020-02-07T00:00:00\", \"2020-02-08T00:00:00\", \"2020-02-09T00:00:00\", \"2020-02-10T00:00:00\", \"2020-02-11T00:00:00\", \"2020-02-12T00:00:00\", \"2020-02-13T00:00:00\", \"2020-02-14T00:00:00\", \"2020-02-15T00:00:00\", \"2020-02-16T00:00:00\", \"2020-02-17T00:00:00\", \"2020-02-18T00:00:00\", \"2020-02-19T00:00:00\", \"2020-02-20T00:00:00\", \"2020-02-21T00:00:00\", \"2020-02-22T00:00:00\", \"2020-02-23T00:00:00\", \"2020-02-24T00:00:00\", \"2020-02-25T00:00:00\", \"2020-02-26T00:00:00\", \"2020-02-27T00:00:00\", \"2020-02-28T00:00:00\", \"2020-02-29T00:00:00\", \"2020-03-01T00:00:00\", \"2020-03-02T00:00:00\", \"2020-03-03T00:00:00\", \"2020-03-04T00:00:00\", \"2020-03-05T00:00:00\", \"2020-03-06T00:00:00\", \"2020-03-07T00:00:00\", \"2020-03-08T00:00:00\", \"2020-03-09T00:00:00\", \"2020-03-10T00:00:00\", \"2020-03-11T00:00:00\"], \"xaxis\": \"x\", \"y\": [2, 2, 2, 2, 2, 2, 2, 3, 3, 3, 3, 3, 3, 3, 3, 3, 3, 3, 3, 3, 3, 20, 62, 155, 229, 322, 453, 655, 888, 1128, 1694, 2036, 2502, 3089, 3858, 4636, 5883, 7375, 9172, 10149, 12462], \"yaxis\": \"y\"}, {\"hoverlabel\": {\"namelength\": 0}, \"hovertemplate\": \"Country/Region=Sweden<br>ObservationDate=%{x}<br>Confirmed=%{y}\", \"legendgroup\": \"Sweden\", \"line\": {\"color\": \"#FF6692\", \"dash\": \"solid\"}, \"mode\": \"lines\", \"name\": \"Sweden\", \"showlegend\": true, \"type\": \"scatter\", \"x\": [\"2020-01-31T00:00:00\", \"2020-02-01T00:00:00\", \"2020-02-02T00:00:00\", \"2020-02-03T00:00:00\", \"2020-02-04T00:00:00\", \"2020-02-05T00:00:00\", \"2020-02-06T00:00:00\", \"2020-02-07T00:00:00\", \"2020-02-08T00:00:00\", \"2020-02-09T00:00:00\", \"2020-02-10T00:00:00\", \"2020-02-11T00:00:00\", \"2020-02-12T00:00:00\", \"2020-02-13T00:00:00\", \"2020-02-14T00:00:00\", \"2020-02-15T00:00:00\", \"2020-02-16T00:00:00\", \"2020-02-17T00:00:00\", \"2020-02-18T00:00:00\", \"2020-02-19T00:00:00\", \"2020-02-20T00:00:00\", \"2020-02-21T00:00:00\", \"2020-02-22T00:00:00\", \"2020-02-23T00:00:00\", \"2020-02-24T00:00:00\", \"2020-02-25T00:00:00\", \"2020-02-26T00:00:00\", \"2020-02-27T00:00:00\", \"2020-02-28T00:00:00\", \"2020-02-29T00:00:00\", \"2020-03-01T00:00:00\", \"2020-03-02T00:00:00\", \"2020-03-03T00:00:00\", \"2020-03-04T00:00:00\", \"2020-03-05T00:00:00\", \"2020-03-06T00:00:00\", \"2020-03-07T00:00:00\", \"2020-03-08T00:00:00\", \"2020-03-09T00:00:00\", \"2020-03-10T00:00:00\", \"2020-03-11T00:00:00\"], \"xaxis\": \"x\", \"y\": [1, 1, 1, 1, 1, 1, 1, 1, 1, 1, 1, 1, 1, 1, 1, 1, 1, 1, 1, 1, 1, 1, 1, 1, 1, 1, 2, 7, 7, 12, 14, 15, 21, 35, 94, 101, 161, 203, 248, 355, 500], \"yaxis\": \"y\"}, {\"hoverlabel\": {\"namelength\": 0}, \"hovertemplate\": \"Country/Region=UK<br>ObservationDate=%{x}<br>Confirmed=%{y}\", \"legendgroup\": \"UK\", \"line\": {\"color\": \"#B6E880\", \"dash\": \"solid\"}, \"mode\": \"lines\", \"name\": \"UK\", \"showlegend\": true, \"type\": \"scatter\", \"x\": [\"2020-01-31T00:00:00\", \"2020-02-01T00:00:00\", \"2020-02-02T00:00:00\", \"2020-02-03T00:00:00\", \"2020-02-04T00:00:00\", \"2020-02-05T00:00:00\", \"2020-02-06T00:00:00\", \"2020-02-07T00:00:00\", \"2020-02-08T00:00:00\", \"2020-02-09T00:00:00\", \"2020-02-10T00:00:00\", \"2020-02-11T00:00:00\", \"2020-02-12T00:00:00\", \"2020-02-13T00:00:00\", \"2020-02-14T00:00:00\", \"2020-02-15T00:00:00\", \"2020-02-16T00:00:00\", \"2020-02-17T00:00:00\", \"2020-02-18T00:00:00\", \"2020-02-19T00:00:00\", \"2020-02-20T00:00:00\", \"2020-02-21T00:00:00\", \"2020-02-22T00:00:00\", \"2020-02-23T00:00:00\", \"2020-02-24T00:00:00\", \"2020-02-25T00:00:00\", \"2020-02-26T00:00:00\", \"2020-02-27T00:00:00\", \"2020-02-28T00:00:00\", \"2020-02-29T00:00:00\", \"2020-03-01T00:00:00\", \"2020-03-02T00:00:00\", \"2020-03-03T00:00:00\", \"2020-03-04T00:00:00\", \"2020-03-05T00:00:00\", \"2020-03-06T00:00:00\", \"2020-03-07T00:00:00\", \"2020-03-08T00:00:00\", \"2020-03-09T00:00:00\", \"2020-03-10T00:00:00\", \"2020-03-11T00:00:00\"], \"xaxis\": \"x\", \"y\": [2, 2, 2, 2, 2, 2, 2, 3, 3, 3, 8, 8, 9, 9, 9, 9, 9, 9, 9, 9, 9, 9, 9, 9, 13, 13, 13, 15, 20, 23, 36, 40, 51, 85, 115, 163, 206, 273, 321, 382, 459], \"yaxis\": \"y\"}, {\"hoverlabel\": {\"namelength\": 0}, \"hovertemplate\": \"Country/Region=Spain<br>ObservationDate=%{x}<br>Confirmed=%{y}\", \"legendgroup\": \"Spain\", \"line\": {\"color\": \"#FF97FF\", \"dash\": \"solid\"}, \"mode\": \"lines\", \"name\": \"Spain\", \"showlegend\": true, \"type\": \"scatter\", \"x\": [\"2020-02-01T00:00:00\", \"2020-02-02T00:00:00\", \"2020-02-03T00:00:00\", \"2020-02-04T00:00:00\", \"2020-02-05T00:00:00\", \"2020-02-06T00:00:00\", \"2020-02-07T00:00:00\", \"2020-02-08T00:00:00\", \"2020-02-09T00:00:00\", \"2020-02-10T00:00:00\", \"2020-02-11T00:00:00\", \"2020-02-12T00:00:00\", \"2020-02-13T00:00:00\", \"2020-02-14T00:00:00\", \"2020-02-15T00:00:00\", \"2020-02-16T00:00:00\", \"2020-02-17T00:00:00\", \"2020-02-18T00:00:00\", \"2020-02-19T00:00:00\", \"2020-02-20T00:00:00\", \"2020-02-21T00:00:00\", \"2020-02-22T00:00:00\", \"2020-02-23T00:00:00\", \"2020-02-24T00:00:00\", \"2020-02-25T00:00:00\", \"2020-02-26T00:00:00\", \"2020-02-27T00:00:00\", \"2020-02-28T00:00:00\", \"2020-02-29T00:00:00\", \"2020-03-01T00:00:00\", \"2020-03-02T00:00:00\", \"2020-03-03T00:00:00\", \"2020-03-04T00:00:00\", \"2020-03-05T00:00:00\", \"2020-03-06T00:00:00\", \"2020-03-07T00:00:00\", \"2020-03-08T00:00:00\", \"2020-03-09T00:00:00\", \"2020-03-10T00:00:00\", \"2020-03-11T00:00:00\"], \"xaxis\": \"x\", \"y\": [1, 1, 1, 1, 1, 1, 1, 1, 2, 2, 2, 2, 2, 2, 2, 2, 2, 2, 2, 2, 2, 2, 2, 2, 6, 13, 15, 32, 45, 84, 120, 165, 222, 259, 400, 500, 673, 1073, 1695, 2277], \"yaxis\": \"y\"}, {\"hoverlabel\": {\"namelength\": 0}, \"hovertemplate\": \"Country/Region=Belgium<br>ObservationDate=%{x}<br>Confirmed=%{y}\", \"legendgroup\": \"Belgium\", \"line\": {\"color\": \"#FECB52\", \"dash\": \"solid\"}, \"mode\": \"lines\", \"name\": \"Belgium\", \"showlegend\": true, \"type\": \"scatter\", \"x\": [\"2020-02-04T00:00:00\", \"2020-02-05T00:00:00\", \"2020-02-06T00:00:00\", \"2020-02-07T00:00:00\", \"2020-02-08T00:00:00\", \"2020-02-09T00:00:00\", \"2020-02-10T00:00:00\", \"2020-02-11T00:00:00\", \"2020-02-12T00:00:00\", \"2020-02-13T00:00:00\", \"2020-02-14T00:00:00\", \"2020-02-15T00:00:00\", \"2020-02-16T00:00:00\", \"2020-02-17T00:00:00\", \"2020-02-18T00:00:00\", \"2020-02-19T00:00:00\", \"2020-02-20T00:00:00\", \"2020-02-21T00:00:00\", \"2020-02-22T00:00:00\", \"2020-02-23T00:00:00\", \"2020-02-24T00:00:00\", \"2020-02-25T00:00:00\", \"2020-02-26T00:00:00\", \"2020-02-27T00:00:00\", \"2020-02-28T00:00:00\", \"2020-02-29T00:00:00\", \"2020-03-01T00:00:00\", \"2020-03-02T00:00:00\", \"2020-03-03T00:00:00\", \"2020-03-04T00:00:00\", \"2020-03-05T00:00:00\", \"2020-03-06T00:00:00\", \"2020-03-07T00:00:00\", \"2020-03-08T00:00:00\", \"2020-03-09T00:00:00\", \"2020-03-10T00:00:00\", \"2020-03-11T00:00:00\"], \"xaxis\": \"x\", \"y\": [1, 1, 1, 1, 1, 1, 1, 1, 1, 1, 1, 1, 1, 1, 1, 1, 1, 1, 1, 1, 1, 1, 1, 1, 1, 1, 2, 8, 13, 23, 50, 109, 169, 200, 239, 267, 314], \"yaxis\": \"y\"}, {\"hoverlabel\": {\"namelength\": 0}, \"hovertemplate\": \"Country/Region=Others<br>ObservationDate=%{x}<br>Confirmed=%{y}\", \"legendgroup\": \"Others\", \"line\": {\"color\": \"#636efa\", \"dash\": \"solid\"}, \"mode\": \"lines\", \"name\": \"Others\", \"showlegend\": true, \"type\": \"scatter\", \"x\": [\"2020-02-07T00:00:00\", \"2020-02-08T00:00:00\", \"2020-02-09T00:00:00\", \"2020-02-10T00:00:00\", \"2020-02-11T00:00:00\", \"2020-02-12T00:00:00\", \"2020-02-13T00:00:00\", \"2020-02-14T00:00:00\", \"2020-02-15T00:00:00\", \"2020-02-16T00:00:00\", \"2020-02-17T00:00:00\", \"2020-02-18T00:00:00\", \"2020-02-19T00:00:00\", \"2020-02-20T00:00:00\", \"2020-02-21T00:00:00\", \"2020-02-22T00:00:00\", \"2020-02-23T00:00:00\", \"2020-02-24T00:00:00\", \"2020-02-25T00:00:00\", \"2020-02-26T00:00:00\", \"2020-02-27T00:00:00\", \"2020-02-28T00:00:00\", \"2020-02-29T00:00:00\", \"2020-03-01T00:00:00\", \"2020-03-02T00:00:00\", \"2020-03-03T00:00:00\", \"2020-03-04T00:00:00\", \"2020-03-05T00:00:00\", \"2020-03-06T00:00:00\", \"2020-03-07T00:00:00\", \"2020-03-08T00:00:00\", \"2020-03-09T00:00:00\", \"2020-03-10T00:00:00\", \"2020-03-11T00:00:00\"], \"xaxis\": \"x\", \"y\": [61, 61, 64, 135, 135, 175, 175, 218, 285, 355, 454, 542, 621, 634, 634, 634, 691, 691, 691, 705, 705, 705, 705, 705, 705, 706, 706, 706, 696, 696, 696, 696, 696, 696], \"yaxis\": \"y\"}, {\"hoverlabel\": {\"namelength\": 0}, \"hovertemplate\": \"Country/Region=Iran<br>ObservationDate=%{x}<br>Confirmed=%{y}\", \"legendgroup\": \"Iran\", \"line\": {\"color\": \"#EF553B\", \"dash\": \"solid\"}, \"mode\": \"lines\", \"name\": \"Iran\", \"showlegend\": true, \"type\": \"scatter\", \"x\": [\"2020-02-19T00:00:00\", \"2020-02-20T00:00:00\", \"2020-02-21T00:00:00\", \"2020-02-22T00:00:00\", \"2020-02-23T00:00:00\", \"2020-02-24T00:00:00\", \"2020-02-25T00:00:00\", \"2020-02-26T00:00:00\", \"2020-02-27T00:00:00\", \"2020-02-28T00:00:00\", \"2020-02-29T00:00:00\", \"2020-03-01T00:00:00\", \"2020-03-02T00:00:00\", \"2020-03-03T00:00:00\", \"2020-03-04T00:00:00\", \"2020-03-05T00:00:00\", \"2020-03-06T00:00:00\", \"2020-03-07T00:00:00\", \"2020-03-08T00:00:00\", \"2020-03-09T00:00:00\", \"2020-03-10T00:00:00\", \"2020-03-11T00:00:00\"], \"xaxis\": \"x\", \"y\": [2, 5, 18, 28, 43, 61, 95, 139, 245, 388, 593, 978, 1501, 2336, 2922, 3513, 4747, 5823, 6566, 7161, 8042, 9000], \"yaxis\": \"y\"}, {\"hoverlabel\": {\"namelength\": 0}, \"hovertemplate\": \"Country/Region=Bahrain<br>ObservationDate=%{x}<br>Confirmed=%{y}\", \"legendgroup\": \"Bahrain\", \"line\": {\"color\": \"#00cc96\", \"dash\": \"solid\"}, \"mode\": \"lines\", \"name\": \"Bahrain\", \"showlegend\": true, \"type\": \"scatter\", \"x\": [\"2020-02-24T00:00:00\", \"2020-02-25T00:00:00\", \"2020-02-26T00:00:00\", \"2020-02-27T00:00:00\", \"2020-02-28T00:00:00\", \"2020-02-29T00:00:00\", \"2020-03-01T00:00:00\", \"2020-03-02T00:00:00\", \"2020-03-03T00:00:00\", \"2020-03-04T00:00:00\", \"2020-03-05T00:00:00\", \"2020-03-06T00:00:00\", \"2020-03-07T00:00:00\", \"2020-03-08T00:00:00\", \"2020-03-09T00:00:00\", \"2020-03-10T00:00:00\", \"2020-03-11T00:00:00\"], \"xaxis\": \"x\", \"y\": [1, 23, 33, 33, 36, 41, 47, 49, 49, 52, 55, 60, 85, 85, 95, 110, 195], \"yaxis\": \"y\"}, {\"hoverlabel\": {\"namelength\": 0}, \"hovertemplate\": \"Country/Region=Austria<br>ObservationDate=%{x}<br>Confirmed=%{y}\", \"legendgroup\": \"Austria\", \"line\": {\"color\": \"#ab63fa\", \"dash\": \"solid\"}, \"mode\": \"lines\", \"name\": \"Austria\", \"showlegend\": true, \"type\": \"scatter\", \"x\": [\"2020-02-25T00:00:00\", \"2020-02-26T00:00:00\", \"2020-02-27T00:00:00\", \"2020-02-28T00:00:00\", \"2020-02-29T00:00:00\", \"2020-03-01T00:00:00\", \"2020-03-02T00:00:00\", \"2020-03-03T00:00:00\", \"2020-03-04T00:00:00\", \"2020-03-05T00:00:00\", \"2020-03-06T00:00:00\", \"2020-03-07T00:00:00\", \"2020-03-08T00:00:00\", \"2020-03-09T00:00:00\", \"2020-03-10T00:00:00\", \"2020-03-11T00:00:00\"], \"xaxis\": \"x\", \"y\": [2, 2, 3, 3, 9, 14, 18, 21, 29, 41, 55, 79, 104, 131, 182, 246], \"yaxis\": \"y\"}, {\"hoverlabel\": {\"namelength\": 0}, \"hovertemplate\": \"Country/Region=Switzerland<br>ObservationDate=%{x}<br>Confirmed=%{y}\", \"legendgroup\": \"Switzerland\", \"line\": {\"color\": \"#FFA15A\", \"dash\": \"solid\"}, \"mode\": \"lines\", \"name\": \"Switzerland\", \"showlegend\": true, \"type\": \"scatter\", \"x\": [\"2020-02-25T00:00:00\", \"2020-02-26T00:00:00\", \"2020-02-27T00:00:00\", \"2020-02-28T00:00:00\", \"2020-02-29T00:00:00\", \"2020-03-01T00:00:00\", \"2020-03-02T00:00:00\", \"2020-03-03T00:00:00\", \"2020-03-04T00:00:00\", \"2020-03-05T00:00:00\", \"2020-03-06T00:00:00\", \"2020-03-07T00:00:00\", \"2020-03-08T00:00:00\", \"2020-03-09T00:00:00\", \"2020-03-10T00:00:00\", \"2020-03-11T00:00:00\"], \"xaxis\": \"x\", \"y\": [1, 1, 8, 8, 18, 27, 42, 56, 90, 114, 214, 268, 337, 374, 491, 652], \"yaxis\": \"y\"}, {\"hoverlabel\": {\"namelength\": 0}, \"hovertemplate\": \"Country/Region=Norway<br>ObservationDate=%{x}<br>Confirmed=%{y}\", \"legendgroup\": \"Norway\", \"line\": {\"color\": \"#19d3f3\", \"dash\": \"solid\"}, \"mode\": \"lines\", \"name\": \"Norway\", \"showlegend\": true, \"type\": \"scatter\", \"x\": [\"2020-02-26T00:00:00\", \"2020-02-27T00:00:00\", \"2020-02-28T00:00:00\", \"2020-02-29T00:00:00\", \"2020-03-01T00:00:00\", \"2020-03-02T00:00:00\", \"2020-03-03T00:00:00\", \"2020-03-04T00:00:00\", \"2020-03-05T00:00:00\", \"2020-03-06T00:00:00\", \"2020-03-07T00:00:00\", \"2020-03-08T00:00:00\", \"2020-03-09T00:00:00\", \"2020-03-10T00:00:00\", \"2020-03-11T00:00:00\"], \"xaxis\": \"x\", \"y\": [1, 1, 6, 15, 19, 25, 32, 56, 87, 108, 147, 176, 205, 400, 598], \"yaxis\": \"y\"}, {\"hoverlabel\": {\"namelength\": 0}, \"hovertemplate\": \"Country/Region=Denmark<br>ObservationDate=%{x}<br>Confirmed=%{y}\", \"legendgroup\": \"Denmark\", \"line\": {\"color\": \"#FF6692\", \"dash\": \"solid\"}, \"mode\": \"lines\", \"name\": \"Denmark\", \"showlegend\": true, \"type\": \"scatter\", \"x\": [\"2020-02-27T00:00:00\", \"2020-02-28T00:00:00\", \"2020-02-29T00:00:00\", \"2020-03-01T00:00:00\", \"2020-03-02T00:00:00\", \"2020-03-03T00:00:00\", \"2020-03-04T00:00:00\", \"2020-03-05T00:00:00\", \"2020-03-06T00:00:00\", \"2020-03-07T00:00:00\", \"2020-03-08T00:00:00\", \"2020-03-09T00:00:00\", \"2020-03-10T00:00:00\", \"2020-03-11T00:00:00\"], \"xaxis\": \"x\", \"y\": [1, 1, 3, 4, 4, 6, 10, 10, 23, 23, 35, 90, 262, 444], \"yaxis\": \"y\"}, {\"hoverlabel\": {\"namelength\": 0}, \"hovertemplate\": \"Country/Region=Netherlands<br>ObservationDate=%{x}<br>Confirmed=%{y}\", \"legendgroup\": \"Netherlands\", \"line\": {\"color\": \"#B6E880\", \"dash\": \"solid\"}, \"mode\": \"lines\", \"name\": \"Netherlands\", \"showlegend\": true, \"type\": \"scatter\", \"x\": [\"2020-02-27T00:00:00\", \"2020-02-28T00:00:00\", \"2020-02-29T00:00:00\", \"2020-03-01T00:00:00\", \"2020-03-02T00:00:00\", \"2020-03-03T00:00:00\", \"2020-03-04T00:00:00\", \"2020-03-05T00:00:00\", \"2020-03-06T00:00:00\", \"2020-03-07T00:00:00\", \"2020-03-08T00:00:00\", \"2020-03-09T00:00:00\", \"2020-03-10T00:00:00\", \"2020-03-11T00:00:00\"], \"xaxis\": \"x\", \"y\": [1, 1, 6, 10, 18, 24, 38, 82, 128, 188, 265, 321, 382, 503], \"yaxis\": \"y\"}, {\"hoverlabel\": {\"namelength\": 0}, \"hovertemplate\": \"Country/Region=Qatar<br>ObservationDate=%{x}<br>Confirmed=%{y}\", \"legendgroup\": \"Qatar\", \"line\": {\"color\": \"#FF97FF\", \"dash\": \"solid\"}, \"mode\": \"lines\", \"name\": \"Qatar\", \"showlegend\": true, \"type\": \"scatter\", \"x\": [\"2020-02-29T00:00:00\", \"2020-03-01T00:00:00\", \"2020-03-02T00:00:00\", \"2020-03-03T00:00:00\", \"2020-03-04T00:00:00\", \"2020-03-05T00:00:00\", \"2020-03-06T00:00:00\", \"2020-03-07T00:00:00\", \"2020-03-08T00:00:00\", \"2020-03-09T00:00:00\", \"2020-03-10T00:00:00\", \"2020-03-11T00:00:00\"], \"xaxis\": \"x\", \"y\": [1, 3, 3, 7, 8, 8, 8, 8, 15, 18, 24, 262], \"yaxis\": \"y\"}],\n",
       "                        {\"height\": 600, \"legend\": {\"title\": {\"text\": \"Country/Region\"}, \"tracegroupgap\": 0}, \"template\": {\"data\": {\"bar\": [{\"error_x\": {\"color\": \"#2a3f5f\"}, \"error_y\": {\"color\": \"#2a3f5f\"}, \"marker\": {\"line\": {\"color\": \"#E5ECF6\", \"width\": 0.5}}, \"type\": \"bar\"}], \"barpolar\": [{\"marker\": {\"line\": {\"color\": \"#E5ECF6\", \"width\": 0.5}}, \"type\": \"barpolar\"}], \"carpet\": [{\"aaxis\": {\"endlinecolor\": \"#2a3f5f\", \"gridcolor\": \"white\", \"linecolor\": \"white\", \"minorgridcolor\": \"white\", \"startlinecolor\": \"#2a3f5f\"}, \"baxis\": {\"endlinecolor\": \"#2a3f5f\", \"gridcolor\": \"white\", \"linecolor\": \"white\", \"minorgridcolor\": \"white\", \"startlinecolor\": \"#2a3f5f\"}, \"type\": \"carpet\"}], \"choropleth\": [{\"colorbar\": {\"outlinewidth\": 0, \"ticks\": \"\"}, \"type\": \"choropleth\"}], \"contour\": [{\"colorbar\": {\"outlinewidth\": 0, \"ticks\": \"\"}, \"colorscale\": [[0.0, \"#0d0887\"], [0.1111111111111111, \"#46039f\"], [0.2222222222222222, \"#7201a8\"], [0.3333333333333333, \"#9c179e\"], [0.4444444444444444, \"#bd3786\"], [0.5555555555555556, \"#d8576b\"], [0.6666666666666666, \"#ed7953\"], [0.7777777777777778, \"#fb9f3a\"], [0.8888888888888888, \"#fdca26\"], [1.0, \"#f0f921\"]], \"type\": \"contour\"}], \"contourcarpet\": [{\"colorbar\": {\"outlinewidth\": 0, \"ticks\": \"\"}, \"type\": \"contourcarpet\"}], \"heatmap\": [{\"colorbar\": {\"outlinewidth\": 0, \"ticks\": \"\"}, \"colorscale\": [[0.0, \"#0d0887\"], [0.1111111111111111, \"#46039f\"], [0.2222222222222222, \"#7201a8\"], [0.3333333333333333, \"#9c179e\"], [0.4444444444444444, \"#bd3786\"], [0.5555555555555556, \"#d8576b\"], [0.6666666666666666, \"#ed7953\"], [0.7777777777777778, \"#fb9f3a\"], [0.8888888888888888, \"#fdca26\"], [1.0, \"#f0f921\"]], \"type\": \"heatmap\"}], \"heatmapgl\": [{\"colorbar\": {\"outlinewidth\": 0, \"ticks\": \"\"}, \"colorscale\": [[0.0, \"#0d0887\"], [0.1111111111111111, \"#46039f\"], [0.2222222222222222, \"#7201a8\"], [0.3333333333333333, \"#9c179e\"], [0.4444444444444444, \"#bd3786\"], [0.5555555555555556, \"#d8576b\"], [0.6666666666666666, \"#ed7953\"], [0.7777777777777778, \"#fb9f3a\"], [0.8888888888888888, \"#fdca26\"], [1.0, \"#f0f921\"]], \"type\": \"heatmapgl\"}], \"histogram\": [{\"marker\": {\"colorbar\": {\"outlinewidth\": 0, \"ticks\": \"\"}}, \"type\": \"histogram\"}], \"histogram2d\": [{\"colorbar\": {\"outlinewidth\": 0, \"ticks\": \"\"}, \"colorscale\": [[0.0, \"#0d0887\"], [0.1111111111111111, \"#46039f\"], [0.2222222222222222, \"#7201a8\"], [0.3333333333333333, \"#9c179e\"], [0.4444444444444444, \"#bd3786\"], [0.5555555555555556, \"#d8576b\"], [0.6666666666666666, \"#ed7953\"], [0.7777777777777778, \"#fb9f3a\"], [0.8888888888888888, \"#fdca26\"], [1.0, \"#f0f921\"]], \"type\": \"histogram2d\"}], \"histogram2dcontour\": [{\"colorbar\": {\"outlinewidth\": 0, \"ticks\": \"\"}, \"colorscale\": [[0.0, \"#0d0887\"], [0.1111111111111111, \"#46039f\"], [0.2222222222222222, \"#7201a8\"], [0.3333333333333333, \"#9c179e\"], [0.4444444444444444, \"#bd3786\"], [0.5555555555555556, \"#d8576b\"], [0.6666666666666666, \"#ed7953\"], [0.7777777777777778, \"#fb9f3a\"], [0.8888888888888888, \"#fdca26\"], [1.0, \"#f0f921\"]], \"type\": \"histogram2dcontour\"}], \"mesh3d\": [{\"colorbar\": {\"outlinewidth\": 0, \"ticks\": \"\"}, \"type\": \"mesh3d\"}], \"parcoords\": [{\"line\": {\"colorbar\": {\"outlinewidth\": 0, \"ticks\": \"\"}}, \"type\": \"parcoords\"}], \"pie\": [{\"automargin\": true, \"type\": \"pie\"}], \"scatter\": [{\"marker\": {\"colorbar\": {\"outlinewidth\": 0, \"ticks\": \"\"}}, \"type\": \"scatter\"}], \"scatter3d\": [{\"line\": {\"colorbar\": {\"outlinewidth\": 0, \"ticks\": \"\"}}, \"marker\": {\"colorbar\": {\"outlinewidth\": 0, \"ticks\": \"\"}}, \"type\": \"scatter3d\"}], \"scattercarpet\": [{\"marker\": {\"colorbar\": {\"outlinewidth\": 0, \"ticks\": \"\"}}, \"type\": \"scattercarpet\"}], \"scattergeo\": [{\"marker\": {\"colorbar\": {\"outlinewidth\": 0, \"ticks\": \"\"}}, \"type\": \"scattergeo\"}], \"scattergl\": [{\"marker\": {\"colorbar\": {\"outlinewidth\": 0, \"ticks\": \"\"}}, \"type\": \"scattergl\"}], \"scattermapbox\": [{\"marker\": {\"colorbar\": {\"outlinewidth\": 0, \"ticks\": \"\"}}, \"type\": \"scattermapbox\"}], \"scatterpolar\": [{\"marker\": {\"colorbar\": {\"outlinewidth\": 0, \"ticks\": \"\"}}, \"type\": \"scatterpolar\"}], \"scatterpolargl\": [{\"marker\": {\"colorbar\": {\"outlinewidth\": 0, \"ticks\": \"\"}}, \"type\": \"scatterpolargl\"}], \"scatterternary\": [{\"marker\": {\"colorbar\": {\"outlinewidth\": 0, \"ticks\": \"\"}}, \"type\": \"scatterternary\"}], \"surface\": [{\"colorbar\": {\"outlinewidth\": 0, \"ticks\": \"\"}, \"colorscale\": [[0.0, \"#0d0887\"], [0.1111111111111111, \"#46039f\"], [0.2222222222222222, \"#7201a8\"], [0.3333333333333333, \"#9c179e\"], [0.4444444444444444, \"#bd3786\"], [0.5555555555555556, \"#d8576b\"], [0.6666666666666666, \"#ed7953\"], [0.7777777777777778, \"#fb9f3a\"], [0.8888888888888888, \"#fdca26\"], [1.0, \"#f0f921\"]], \"type\": \"surface\"}], \"table\": [{\"cells\": {\"fill\": {\"color\": \"#EBF0F8\"}, \"line\": {\"color\": \"white\"}}, \"header\": {\"fill\": {\"color\": \"#C8D4E3\"}, \"line\": {\"color\": \"white\"}}, \"type\": \"table\"}]}, \"layout\": {\"annotationdefaults\": {\"arrowcolor\": \"#2a3f5f\", \"arrowhead\": 0, \"arrowwidth\": 1}, \"coloraxis\": {\"colorbar\": {\"outlinewidth\": 0, \"ticks\": \"\"}}, \"colorscale\": {\"diverging\": [[0, \"#8e0152\"], [0.1, \"#c51b7d\"], [0.2, \"#de77ae\"], [0.3, \"#f1b6da\"], [0.4, \"#fde0ef\"], [0.5, \"#f7f7f7\"], [0.6, \"#e6f5d0\"], [0.7, \"#b8e186\"], [0.8, \"#7fbc41\"], [0.9, \"#4d9221\"], [1, \"#276419\"]], \"sequential\": [[0.0, \"#0d0887\"], [0.1111111111111111, \"#46039f\"], [0.2222222222222222, \"#7201a8\"], [0.3333333333333333, \"#9c179e\"], [0.4444444444444444, \"#bd3786\"], [0.5555555555555556, \"#d8576b\"], [0.6666666666666666, \"#ed7953\"], [0.7777777777777778, \"#fb9f3a\"], [0.8888888888888888, \"#fdca26\"], [1.0, \"#f0f921\"]], \"sequentialminus\": [[0.0, \"#0d0887\"], [0.1111111111111111, \"#46039f\"], [0.2222222222222222, \"#7201a8\"], [0.3333333333333333, \"#9c179e\"], [0.4444444444444444, \"#bd3786\"], [0.5555555555555556, \"#d8576b\"], [0.6666666666666666, \"#ed7953\"], [0.7777777777777778, \"#fb9f3a\"], [0.8888888888888888, \"#fdca26\"], [1.0, \"#f0f921\"]]}, \"colorway\": [\"#636efa\", \"#EF553B\", \"#00cc96\", \"#ab63fa\", \"#FFA15A\", \"#19d3f3\", \"#FF6692\", \"#B6E880\", \"#FF97FF\", \"#FECB52\"], \"font\": {\"color\": \"#2a3f5f\"}, \"geo\": {\"bgcolor\": \"white\", \"lakecolor\": \"white\", \"landcolor\": \"#E5ECF6\", \"showlakes\": true, \"showland\": true, \"subunitcolor\": \"white\"}, \"hoverlabel\": {\"align\": \"left\"}, \"hovermode\": \"closest\", \"mapbox\": {\"style\": \"light\"}, \"paper_bgcolor\": \"white\", \"plot_bgcolor\": \"#E5ECF6\", \"polar\": {\"angularaxis\": {\"gridcolor\": \"white\", \"linecolor\": \"white\", \"ticks\": \"\"}, \"bgcolor\": \"#E5ECF6\", \"radialaxis\": {\"gridcolor\": \"white\", \"linecolor\": \"white\", \"ticks\": \"\"}}, \"scene\": {\"xaxis\": {\"backgroundcolor\": \"#E5ECF6\", \"gridcolor\": \"white\", \"gridwidth\": 2, \"linecolor\": \"white\", \"showbackground\": true, \"ticks\": \"\", \"zerolinecolor\": \"white\"}, \"yaxis\": {\"backgroundcolor\": \"#E5ECF6\", \"gridcolor\": \"white\", \"gridwidth\": 2, \"linecolor\": \"white\", \"showbackground\": true, \"ticks\": \"\", \"zerolinecolor\": \"white\"}, \"zaxis\": {\"backgroundcolor\": \"#E5ECF6\", \"gridcolor\": \"white\", \"gridwidth\": 2, \"linecolor\": \"white\", \"showbackground\": true, \"ticks\": \"\", \"zerolinecolor\": \"white\"}}, \"shapedefaults\": {\"line\": {\"color\": \"#2a3f5f\"}}, \"ternary\": {\"aaxis\": {\"gridcolor\": \"white\", \"linecolor\": \"white\", \"ticks\": \"\"}, \"baxis\": {\"gridcolor\": \"white\", \"linecolor\": \"white\", \"ticks\": \"\"}, \"bgcolor\": \"#E5ECF6\", \"caxis\": {\"gridcolor\": \"white\", \"linecolor\": \"white\", \"ticks\": \"\"}}, \"title\": {\"x\": 0.05}, \"xaxis\": {\"automargin\": true, \"gridcolor\": \"white\", \"linecolor\": \"white\", \"ticks\": \"\", \"title\": {\"standoff\": 15}, \"zerolinecolor\": \"white\", \"zerolinewidth\": 2}, \"yaxis\": {\"automargin\": true, \"gridcolor\": \"white\", \"linecolor\": \"white\", \"ticks\": \"\", \"title\": {\"standoff\": 15}, \"zerolinecolor\": \"white\", \"zerolinewidth\": 2}}}, \"title\": {\"text\": \"Cases Spread\"}, \"xaxis\": {\"anchor\": \"y\", \"domain\": [0.0, 1.0], \"title\": {\"text\": \"ObservationDate\"}}, \"yaxis\": {\"anchor\": \"x\", \"domain\": [0.0, 1.0], \"title\": {\"text\": \"Confirmed\"}}},\n",
       "                        {\"responsive\": true}\n",
       "                    ).then(function(){\n",
       "                            \n",
       "var gd = document.getElementById('cf01594c-c7ba-4cec-a696-4998c2971607');\n",
       "var x = new MutationObserver(function (mutations, observer) {{\n",
       "        var display = window.getComputedStyle(gd).display;\n",
       "        if (!display || display === 'none') {{\n",
       "            console.log([gd, 'removed!']);\n",
       "            Plotly.purge(gd);\n",
       "            observer.disconnect();\n",
       "        }}\n",
       "}});\n",
       "\n",
       "// Listen for the removal of the full notebook cells\n",
       "var notebookContainer = gd.closest('#notebook-container');\n",
       "if (notebookContainer) {{\n",
       "    x.observe(notebookContainer, {childList: true});\n",
       "}}\n",
       "\n",
       "// Listen for the clearing of the current output cell\n",
       "var outputEl = gd.closest('.output');\n",
       "if (outputEl) {{\n",
       "    x.observe(outputEl, {childList: true});\n",
       "}}\n",
       "\n",
       "                        })\n",
       "                };\n",
       "                });\n",
       "            </script>\n",
       "        </div>"
      ]
     },
     "metadata": {},
     "output_type": "display_data"
    }
   ],
   "source": [
    "interested_countries=list(full_table.sort_values(by='Confirmed', ascending=False)['Country/Region'].unique()[1:20])\n",
    "temp=full_table.loc[full_table['Country/Region'].isin(interested_countries)].groupby(['ObservationDate', 'Country/Region'])['Confirmed'].sum().reset_index()\n",
    "#temp = full_table.groupby(['ObservationDate', 'Country/Region'])['Confirmed'].sum().reset_index()\n",
    "\n",
    "px.line(temp, x=\"ObservationDate\", y=\"Confirmed\", color='Country/Region', title='Cases Spread', height=600)"
   ]
  },
  {
   "cell_type": "code",
   "execution_count": 73,
   "metadata": {},
   "outputs": [],
   "source": [
    "interested_countries=list(full_table.sort_values(by='Confirmed', ascending=False)['Country/Region'].unique()[0:20])"
   ]
  }
 ],
 "metadata": {
  "kernelspec": {
   "display_name": "Python 3",
   "language": "python",
   "name": "python3"
  },
  "language_info": {
   "codemirror_mode": {
    "name": "ipython",
    "version": 3
   },
   "file_extension": ".py",
   "mimetype": "text/x-python",
   "name": "python",
   "nbconvert_exporter": "python",
   "pygments_lexer": "ipython3",
   "version": "3.7.4"
  }
 },
 "nbformat": 4,
 "nbformat_minor": 2
}
